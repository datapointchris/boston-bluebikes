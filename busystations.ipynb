{
    "metadata": {
        "kernelspec": {
            "name": "SQL",
            "display_name": "SQL",
            "language": "sql"
        },
        "language_info": {
            "name": "sql",
            "version": ""
        }
    },
    "nbformat_minor": 2,
    "nbformat": 4,
    "cells": [
        {
            "cell_type": "markdown",
            "source": [
                "# Busiest Stations at Peak Time"
            ],
            "metadata": {
                "azdata_cell_guid": "6d8e144e-bac6-4cfc-ae07-cca6f83f3eef"
            }
        },
        {
            "cell_type": "code",
            "source": [
                "-- temp tables for aggregates\n",
                "create temporary table dates as\n",
                "\n",
                "select *,\n",
                "To_Char(start_time, 'YYYY') as year,\n",
                "To_Char(start_time, 'MM') as month_no,\n",
                "To_Char(start_time, 'ID') as day_no,\n",
                "To_Char(start_time, 'HH24') as hour_no,\n",
                "To_Char(start_time, 'Month') as month,\n",
                "To_Char(start_time, 'Day') as day,\n",
                "To_Char(start_time, 'HH12') || ':00 ' || To_Char(start_time, 'am') as hour\n",
                "-- count(1) as riders\n",
                "\n",
                "from bluebikes_2019\n",
                "-- group by year, month_no, day_no, hour_no, month, day, hour\n",
                "order by month_no, day_no, hour_no\n",
                ""
            ],
            "metadata": {
                "azdata_cell_guid": "6feed738-efa6-48e9-bbc0-c30750453b36"
            },
            "outputs": [
                {
                    "output_type": "display_data",
                    "data": {
                        "text/html": "Commands completed successfully"
                    },
                    "metadata": {}
                },
                {
                    "output_type": "display_data",
                    "data": {
                        "text/html": "Total execution time: 00:00:08.336"
                    },
                    "metadata": {}
                }
            ],
            "execution_count": 50
        },
        {
            "cell_type": "code",
            "source": [
                "select * from bluebikes_2019\n",
                "order by random()\n",
                "limit 10"
            ],
            "metadata": {
                "azdata_cell_guid": "53d45b6b-64b0-4427-8899-c255b5db2691"
            },
            "outputs": [
                {
                    "output_type": "display_data",
                    "data": {
                        "text/html": "(10 row(s) affected)"
                    },
                    "metadata": {}
                },
                {
                    "output_type": "display_data",
                    "data": {
                        "text/html": "Total execution time: 00:00:00.983"
                    },
                    "metadata": {}
                },
                {
                    "output_type": "execute_result",
                    "metadata": {},
                    "execution_count": 1,
                    "data": {
                        "application/vnd.dataresource+json": {
                            "schema": {
                                "fields": [
                                    {
                                        "name": "bike_id"
                                    },
                                    {
                                        "name": "start_time"
                                    },
                                    {
                                        "name": "end_time"
                                    },
                                    {
                                        "name": "start_station_id"
                                    },
                                    {
                                        "name": "end_station_id"
                                    },
                                    {
                                        "name": "user_type"
                                    },
                                    {
                                        "name": "user_birth_year"
                                    },
                                    {
                                        "name": "user_gender"
                                    }
                                ]
                            },
                            "data": [
                                {
                                    "0": "2428",
                                    "1": "2019-03-30T11:04:52.570000",
                                    "2": "2019-03-30T12:32:46.723000",
                                    "3": "6",
                                    "4": "97",
                                    "5": "Customer",
                                    "6": "1969",
                                    "7": "0"
                                },
                                {
                                    "0": "343",
                                    "1": "2019-06-14T16:06:20.745000",
                                    "2": "2019-06-14T16:34:16.695000",
                                    "3": "349",
                                    "4": "196",
                                    "5": "Customer",
                                    "6": "1969",
                                    "7": "0"
                                },
                                {
                                    "0": "901",
                                    "1": "2019-10-15T16:19:47.927000",
                                    "2": "2019-10-15T16:32:45.035000",
                                    "3": "176",
                                    "4": "100",
                                    "5": "Subscriber",
                                    "6": "1995",
                                    "7": "1"
                                },
                                {
                                    "0": "3194",
                                    "1": "2019-01-16T14:47:52.838000",
                                    "2": "2019-01-16T15:13:28.337000",
                                    "3": "145",
                                    "4": "68",
                                    "5": "Subscriber",
                                    "6": "1984",
                                    "7": "1"
                                },
                                {
                                    "0": "2607",
                                    "1": "2019-05-25T14:20:07.374000",
                                    "2": "2019-05-25T15:03:49.290000",
                                    "3": "142",
                                    "4": "107",
                                    "5": "Customer",
                                    "6": "1969",
                                    "7": "0"
                                },
                                {
                                    "0": "200",
                                    "1": "2019-08-05T19:33:01.671000",
                                    "2": "2019-08-05T19:39:59.681000",
                                    "3": "121",
                                    "4": "296",
                                    "5": "Subscriber",
                                    "6": "1982",
                                    "7": "1"
                                },
                                {
                                    "0": "5544",
                                    "1": "2019-12-10T07:36:53.863000",
                                    "2": "2019-12-10T08:01:07.759000",
                                    "3": "239",
                                    "4": "60",
                                    "5": "Subscriber",
                                    "6": "1988",
                                    "7": "1"
                                },
                                {
                                    "0": "5210",
                                    "1": "2019-10-05T15:01:17.021000",
                                    "2": "2019-10-05T15:25:12.489000",
                                    "3": "334",
                                    "4": "137",
                                    "5": "Customer",
                                    "6": "1996",
                                    "7": "1"
                                },
                                {
                                    "0": "2283",
                                    "1": "2019-12-10T19:19:58.310000",
                                    "2": "2019-12-10T19:31:36.063000",
                                    "3": "80",
                                    "4": "105",
                                    "5": "Subscriber",
                                    "6": "1980",
                                    "7": "1"
                                },
                                {
                                    "0": "2885",
                                    "1": "2019-07-09T06:49:01.939000",
                                    "2": "2019-07-09T06:54:35.065000",
                                    "3": "121",
                                    "4": "150",
                                    "5": "Subscriber",
                                    "6": "1995",
                                    "7": "2"
                                }
                            ]
                        },
                        "text/html": [
                            "<table>",
                            "<tr><th>bike_id</th><th>start_time</th><th>end_time</th><th>start_station_id</th><th>end_station_id</th><th>user_type</th><th>user_birth_year</th><th>user_gender</th></tr>",
                            "<tr><td>2428</td><td>2019-03-30T11:04:52.570000</td><td>2019-03-30T12:32:46.723000</td><td>6</td><td>97</td><td>Customer</td><td>1969</td><td>0</td></tr>",
                            "<tr><td>343</td><td>2019-06-14T16:06:20.745000</td><td>2019-06-14T16:34:16.695000</td><td>349</td><td>196</td><td>Customer</td><td>1969</td><td>0</td></tr>",
                            "<tr><td>901</td><td>2019-10-15T16:19:47.927000</td><td>2019-10-15T16:32:45.035000</td><td>176</td><td>100</td><td>Subscriber</td><td>1995</td><td>1</td></tr>",
                            "<tr><td>3194</td><td>2019-01-16T14:47:52.838000</td><td>2019-01-16T15:13:28.337000</td><td>145</td><td>68</td><td>Subscriber</td><td>1984</td><td>1</td></tr>",
                            "<tr><td>2607</td><td>2019-05-25T14:20:07.374000</td><td>2019-05-25T15:03:49.290000</td><td>142</td><td>107</td><td>Customer</td><td>1969</td><td>0</td></tr>",
                            "<tr><td>200</td><td>2019-08-05T19:33:01.671000</td><td>2019-08-05T19:39:59.681000</td><td>121</td><td>296</td><td>Subscriber</td><td>1982</td><td>1</td></tr>",
                            "<tr><td>5544</td><td>2019-12-10T07:36:53.863000</td><td>2019-12-10T08:01:07.759000</td><td>239</td><td>60</td><td>Subscriber</td><td>1988</td><td>1</td></tr>",
                            "<tr><td>5210</td><td>2019-10-05T15:01:17.021000</td><td>2019-10-05T15:25:12.489000</td><td>334</td><td>137</td><td>Customer</td><td>1996</td><td>1</td></tr>",
                            "<tr><td>2283</td><td>2019-12-10T19:19:58.310000</td><td>2019-12-10T19:31:36.063000</td><td>80</td><td>105</td><td>Subscriber</td><td>1980</td><td>1</td></tr>",
                            "<tr><td>2885</td><td>2019-07-09T06:49:01.939000</td><td>2019-07-09T06:54:35.065000</td><td>121</td><td>150</td><td>Subscriber</td><td>1995</td><td>2</td></tr>",
                            "</table>"
                        ]
                    }
                }
            ],
            "execution_count": 1
        },
        {
            "cell_type": "code",
            "source": [
                "select * from dates\n",
                "order by random()\n",
                "limit 10;"
            ],
            "metadata": {
                "azdata_cell_guid": "902b90ae-2bb4-48ed-9d02-62c832275cdc"
            },
            "outputs": [
                {
                    "output_type": "display_data",
                    "data": {
                        "text/html": "(10 row(s) affected)"
                    },
                    "metadata": {}
                },
                {
                    "output_type": "display_data",
                    "data": {
                        "text/html": "Total execution time: 00:00:01.724"
                    },
                    "metadata": {}
                },
                {
                    "output_type": "execute_result",
                    "metadata": {},
                    "execution_count": 51,
                    "data": {
                        "application/vnd.dataresource+json": {
                            "schema": {
                                "fields": [
                                    {
                                        "name": "bike_id"
                                    },
                                    {
                                        "name": "start_time"
                                    },
                                    {
                                        "name": "end_time"
                                    },
                                    {
                                        "name": "start_station_id"
                                    },
                                    {
                                        "name": "end_station_id"
                                    },
                                    {
                                        "name": "user_type"
                                    },
                                    {
                                        "name": "user_birth_year"
                                    },
                                    {
                                        "name": "user_gender"
                                    },
                                    {
                                        "name": "year"
                                    },
                                    {
                                        "name": "month_no"
                                    },
                                    {
                                        "name": "day_no"
                                    },
                                    {
                                        "name": "hour_no"
                                    },
                                    {
                                        "name": "month"
                                    },
                                    {
                                        "name": "day"
                                    },
                                    {
                                        "name": "hour"
                                    }
                                ]
                            },
                            "data": [
                                {
                                    "0": "4969",
                                    "1": "2019-10-01T17:14:11.550000",
                                    "2": "2019-10-01T17:19:48.732000",
                                    "3": "189",
                                    "4": "6",
                                    "5": "Customer",
                                    "6": "1969",
                                    "7": "0",
                                    "8": "2019",
                                    "9": "10",
                                    "10": "2",
                                    "11": "17",
                                    "12": "October  ",
                                    "13": "Tuesday  ",
                                    "14": "05:00 pm"
                                },
                                {
                                    "0": "2351",
                                    "1": "2019-02-11T08:25:33.832000",
                                    "2": "2019-02-11T08:54:57.301000",
                                    "3": "181",
                                    "4": "140",
                                    "5": "Subscriber",
                                    "6": "1977",
                                    "7": "1",
                                    "8": "2019",
                                    "9": "02",
                                    "10": "1",
                                    "11": "08",
                                    "12": "February ",
                                    "13": "Monday   ",
                                    "14": "08:00 am"
                                },
                                {
                                    "0": "4020",
                                    "1": "2019-12-08T12:55:23.969000",
                                    "2": "2019-12-08T13:07:26.428000",
                                    "3": "46",
                                    "4": "12",
                                    "5": "Subscriber",
                                    "6": "1961",
                                    "7": "2",
                                    "8": "2019",
                                    "9": "12",
                                    "10": "7",
                                    "11": "12",
                                    "12": "December ",
                                    "13": "Sunday   ",
                                    "14": "12:00 pm"
                                },
                                {
                                    "0": "5305",
                                    "1": "2019-09-22T14:52:37.610000",
                                    "2": "2019-09-22T15:12:47.534000",
                                    "3": "27",
                                    "4": "113",
                                    "5": "Customer",
                                    "6": "1969",
                                    "7": "0",
                                    "8": "2019",
                                    "9": "09",
                                    "10": "7",
                                    "11": "14",
                                    "12": "September",
                                    "13": "Sunday   ",
                                    "14": "02:00 pm"
                                },
                                {
                                    "0": "2977",
                                    "1": "2019-08-21T18:54:44.809000",
                                    "2": "2019-08-21T19:00:03.649000",
                                    "3": "12",
                                    "4": "46",
                                    "5": "Subscriber",
                                    "6": "1984",
                                    "7": "2",
                                    "8": "2019",
                                    "9": "08",
                                    "10": "3",
                                    "11": "18",
                                    "12": "August   ",
                                    "13": "Wednesday",
                                    "14": "06:00 pm"
                                },
                                {
                                    "0": "3566",
                                    "1": "2019-08-31T23:13:22.557000",
                                    "2": "2019-08-31T23:18:23.863000",
                                    "3": "85",
                                    "4": "98",
                                    "5": "Subscriber",
                                    "6": "1964",
                                    "7": "1",
                                    "8": "2019",
                                    "9": "08",
                                    "10": "6",
                                    "11": "23",
                                    "12": "August   ",
                                    "13": "Saturday ",
                                    "14": "11:00 pm"
                                },
                                {
                                    "0": "4953",
                                    "1": "2019-08-24T15:21:13.882000",
                                    "2": "2019-08-24T15:48:07.182000",
                                    "3": "296",
                                    "4": "44",
                                    "5": "Subscriber",
                                    "6": "1992",
                                    "7": "1",
                                    "8": "2019",
                                    "9": "08",
                                    "10": "6",
                                    "11": "15",
                                    "12": "August   ",
                                    "13": "Saturday ",
                                    "14": "03:00 pm"
                                },
                                {
                                    "0": "3673",
                                    "1": "2019-05-07T15:36:31.487000",
                                    "2": "2019-05-07T15:44:51.258000",
                                    "3": "84",
                                    "4": "107",
                                    "5": "Subscriber",
                                    "6": "1981",
                                    "7": "1",
                                    "8": "2019",
                                    "9": "05",
                                    "10": "2",
                                    "11": "15",
                                    "12": "May      ",
                                    "13": "Tuesday  ",
                                    "14": "03:00 pm"
                                },
                                {
                                    "0": "2698",
                                    "1": "2019-12-09T12:42:21.179000",
                                    "2": "2019-12-09T12:54:20.750000",
                                    "3": "318",
                                    "4": "107",
                                    "5": "Subscriber",
                                    "6": "1982",
                                    "7": "1",
                                    "8": "2019",
                                    "9": "12",
                                    "10": "1",
                                    "11": "12",
                                    "12": "December ",
                                    "13": "Monday   ",
                                    "14": "12:00 pm"
                                },
                                {
                                    "0": "2464",
                                    "1": "2019-09-11T16:35:34.163000",
                                    "2": "2019-09-11T16:52:20.837000",
                                    "3": "272",
                                    "4": "411",
                                    "5": "Customer",
                                    "6": "1969",
                                    "7": "0",
                                    "8": "2019",
                                    "9": "09",
                                    "10": "3",
                                    "11": "16",
                                    "12": "September",
                                    "13": "Wednesday",
                                    "14": "04:00 pm"
                                }
                            ]
                        },
                        "text/html": [
                            "<table>",
                            "<tr><th>bike_id</th><th>start_time</th><th>end_time</th><th>start_station_id</th><th>end_station_id</th><th>user_type</th><th>user_birth_year</th><th>user_gender</th><th>year</th><th>month_no</th><th>day_no</th><th>hour_no</th><th>month</th><th>day</th><th>hour</th></tr>",
                            "<tr><td>4969</td><td>2019-10-01T17:14:11.550000</td><td>2019-10-01T17:19:48.732000</td><td>189</td><td>6</td><td>Customer</td><td>1969</td><td>0</td><td>2019</td><td>10</td><td>2</td><td>17</td><td>October  </td><td>Tuesday  </td><td>05:00 pm</td></tr>",
                            "<tr><td>2351</td><td>2019-02-11T08:25:33.832000</td><td>2019-02-11T08:54:57.301000</td><td>181</td><td>140</td><td>Subscriber</td><td>1977</td><td>1</td><td>2019</td><td>02</td><td>1</td><td>08</td><td>February </td><td>Monday   </td><td>08:00 am</td></tr>",
                            "<tr><td>4020</td><td>2019-12-08T12:55:23.969000</td><td>2019-12-08T13:07:26.428000</td><td>46</td><td>12</td><td>Subscriber</td><td>1961</td><td>2</td><td>2019</td><td>12</td><td>7</td><td>12</td><td>December </td><td>Sunday   </td><td>12:00 pm</td></tr>",
                            "<tr><td>5305</td><td>2019-09-22T14:52:37.610000</td><td>2019-09-22T15:12:47.534000</td><td>27</td><td>113</td><td>Customer</td><td>1969</td><td>0</td><td>2019</td><td>09</td><td>7</td><td>14</td><td>September</td><td>Sunday   </td><td>02:00 pm</td></tr>",
                            "<tr><td>2977</td><td>2019-08-21T18:54:44.809000</td><td>2019-08-21T19:00:03.649000</td><td>12</td><td>46</td><td>Subscriber</td><td>1984</td><td>2</td><td>2019</td><td>08</td><td>3</td><td>18</td><td>August   </td><td>Wednesday</td><td>06:00 pm</td></tr>",
                            "<tr><td>3566</td><td>2019-08-31T23:13:22.557000</td><td>2019-08-31T23:18:23.863000</td><td>85</td><td>98</td><td>Subscriber</td><td>1964</td><td>1</td><td>2019</td><td>08</td><td>6</td><td>23</td><td>August   </td><td>Saturday </td><td>11:00 pm</td></tr>",
                            "<tr><td>4953</td><td>2019-08-24T15:21:13.882000</td><td>2019-08-24T15:48:07.182000</td><td>296</td><td>44</td><td>Subscriber</td><td>1992</td><td>1</td><td>2019</td><td>08</td><td>6</td><td>15</td><td>August   </td><td>Saturday </td><td>03:00 pm</td></tr>",
                            "<tr><td>3673</td><td>2019-05-07T15:36:31.487000</td><td>2019-05-07T15:44:51.258000</td><td>84</td><td>107</td><td>Subscriber</td><td>1981</td><td>1</td><td>2019</td><td>05</td><td>2</td><td>15</td><td>May      </td><td>Tuesday  </td><td>03:00 pm</td></tr>",
                            "<tr><td>2698</td><td>2019-12-09T12:42:21.179000</td><td>2019-12-09T12:54:20.750000</td><td>318</td><td>107</td><td>Subscriber</td><td>1982</td><td>1</td><td>2019</td><td>12</td><td>1</td><td>12</td><td>December </td><td>Monday   </td><td>12:00 pm</td></tr>",
                            "<tr><td>2464</td><td>2019-09-11T16:35:34.163000</td><td>2019-09-11T16:52:20.837000</td><td>272</td><td>411</td><td>Customer</td><td>1969</td><td>0</td><td>2019</td><td>09</td><td>3</td><td>16</td><td>September</td><td>Wednesday</td><td>04:00 pm</td></tr>",
                            "</table>"
                        ]
                    }
                }
            ],
            "execution_count": 51
        },
        {
            "cell_type": "code",
            "source": [
                "-- Top 5 busiest stations from any time.\n",
                "\n",
                "select\n",
                "a.month,\n",
                "a.month_no,\n",
                "a.day,\n",
                "a.day_no,\n",
                "a.hour,\n",
                "a.hour_no,\n",
                "sum(a.riders) as riders\n",
                "from agg_2019 a\n",
                "group by a.month, a.month_no, a.day, a.day_no, a.hour, a.hour_no\n",
                "order by riders desc\n",
                "limit 5"
            ],
            "metadata": {
                "azdata_cell_guid": "7cfb7896-77cd-47af-baca-87ec16b51c49"
            },
            "outputs": [
                {
                    "output_type": "display_data",
                    "data": {
                        "text/html": "(5 row(s) affected)"
                    },
                    "metadata": {}
                },
                {
                    "output_type": "display_data",
                    "data": {
                        "text/html": "Total execution time: 00:00:00.182"
                    },
                    "metadata": {}
                },
                {
                    "output_type": "execute_result",
                    "metadata": {},
                    "execution_count": 43,
                    "data": {
                        "application/vnd.dataresource+json": {
                            "schema": {
                                "fields": [
                                    {
                                        "name": "month"
                                    },
                                    {
                                        "name": "month_no"
                                    },
                                    {
                                        "name": "day"
                                    },
                                    {
                                        "name": "day_no"
                                    },
                                    {
                                        "name": "hour"
                                    },
                                    {
                                        "name": "hour_no"
                                    },
                                    {
                                        "name": "riders"
                                    }
                                ]
                            },
                            "data": [
                                {
                                    "0": "October  ",
                                    "1": "10",
                                    "2": "Tuesday  ",
                                    "3": "2",
                                    "4": "05:00 pm",
                                    "5": "17",
                                    "6": "7827"
                                },
                                {
                                    "0": "July     ",
                                    "1": "07",
                                    "2": "Tuesday  ",
                                    "3": "2",
                                    "4": "05:00 pm",
                                    "5": "17",
                                    "6": "7752"
                                },
                                {
                                    "0": "August   ",
                                    "1": "08",
                                    "2": "Thursday ",
                                    "3": "4",
                                    "4": "05:00 pm",
                                    "5": "17",
                                    "6": "7606"
                                },
                                {
                                    "0": "July     ",
                                    "1": "07",
                                    "2": "Monday   ",
                                    "3": "1",
                                    "4": "05:00 pm",
                                    "5": "17",
                                    "6": "7490"
                                },
                                {
                                    "0": "September",
                                    "1": "09",
                                    "2": "Monday   ",
                                    "3": "1",
                                    "4": "05:00 pm",
                                    "5": "17",
                                    "6": "7070"
                                }
                            ]
                        },
                        "text/html": [
                            "<table>",
                            "<tr><th>month</th><th>month_no</th><th>day</th><th>day_no</th><th>hour</th><th>hour_no</th><th>riders</th></tr>",
                            "<tr><td>October  </td><td>10</td><td>Tuesday  </td><td>2</td><td>05:00 pm</td><td>17</td><td>7827</td></tr>",
                            "<tr><td>July     </td><td>07</td><td>Tuesday  </td><td>2</td><td>05:00 pm</td><td>17</td><td>7752</td></tr>",
                            "<tr><td>August   </td><td>08</td><td>Thursday </td><td>4</td><td>05:00 pm</td><td>17</td><td>7606</td></tr>",
                            "<tr><td>July     </td><td>07</td><td>Monday   </td><td>1</td><td>05:00 pm</td><td>17</td><td>7490</td></tr>",
                            "<tr><td>September</td><td>09</td><td>Monday   </td><td>1</td><td>05:00 pm</td><td>17</td><td>7070</td></tr>",
                            "</table>"
                        ]
                    }
                }
            ],
            "execution_count": 43
        },
        {
            "cell_type": "code",
            "source": [
                "-- Find the stations that are going to have the highest influx at peak times\n",
                "\n",
                "\n",
                "select \n",
                "end_station_id,\n",
                "count(1) as bikes_in\n",
                "-- sum(count(1)) over() as total_bikes,\n",
                "-- avg(count(1)) over() as avg_bikes\n",
                "from dates\n",
                "WHERE \n",
                "(month_no, day_no, hour_no, start_station_id)\n",
                "IN -- busiest stations from the busiest time\n",
                "    (select\n",
                "    month_no,\n",
                "    day_no,\n",
                "    hour_no,\n",
                "    start_station_id\n",
                "    from dates\n",
                "    WHERE \n",
                "    (month_no, day_no, hour_no)\n",
                "    IN -- Busiest time\n",
                "        (select\n",
                "        a.month_no,\n",
                "        a.day_no,\n",
                "        a.hour_no\n",
                "        from agg_2019 a\n",
                "        group by a.month, a.month_no, a.day, a.day_no, a.hour, a.hour_no\n",
                "        order by sum(a.riders) desc\n",
                "        limit 1\n",
                "        -- offset 1\n",
                "        )\n",
                "\n",
                "\n",
                "    group by month_no, day_no, hour_no, start_station_id\n",
                "    -- having count(1) > 150\n",
                "    -- limit 3\n",
                "\n",
                "    )\n",
                "\n",
                "\n",
                "group by end_station_id\n",
                "order by bikes_in desc\n",
                "-- limit 3"
            ],
            "metadata": {
                "azdata_cell_guid": "1d372d25-91ce-4847-9cda-ddb276aa4053"
            },
            "outputs": [
                {
                    "output_type": "display_data",
                    "data": {
                        "text/html": "(273 row(s) affected)"
                    },
                    "metadata": {}
                },
                {
                    "output_type": "display_data",
                    "data": {
                        "text/html": "Total execution time: 00:00:01.585"
                    },
                    "metadata": {}
                },
                {
                    "output_type": "execute_result",
                    "metadata": {},
                    "execution_count": 111,
                    "data": {
                        "application/vnd.dataresource+json": {
                            "schema": {
                                "fields": [
                                    {
                                        "name": "end_station_id"
                                    },
                                    {
                                        "name": "bikes_in"
                                    }
                                ]
                            },
                            "data": [
                                {
                                    "0": "67",
                                    "1": "80"
                                },
                                {
                                    "0": "68",
                                    "1": "61"
                                },
                                {
                                    "0": "74",
                                    "1": "59"
                                },
                                {
                                    "0": "189",
                                    "1": "59"
                                },
                                {
                                    "0": "107",
                                    "1": "54"
                                },
                                {
                                    "0": "80",
                                    "1": "47"
                                },
                                {
                                    "0": "52",
                                    "1": "43"
                                },
                                {
                                    "0": "76",
                                    "1": "41"
                                },
                                {
                                    "0": "73",
                                    "1": "39"
                                },
                                {
                                    "0": "61",
                                    "1": "38"
                                },
                                {
                                    "0": "47",
                                    "1": "37"
                                },
                                {
                                    "0": "81",
                                    "1": "35"
                                },
                                {
                                    "0": "55",
                                    "1": "34"
                                },
                                {
                                    "0": "157",
                                    "1": "34"
                                },
                                {
                                    "0": "105",
                                    "1": "33"
                                },
                                {
                                    "0": "60",
                                    "1": "33"
                                },
                                {
                                    "0": "380",
                                    "1": "32"
                                },
                                {
                                    "0": "370",
                                    "1": "32"
                                },
                                {
                                    "0": "58",
                                    "1": "31"
                                },
                                {
                                    "0": "120",
                                    "1": "31"
                                },
                                {
                                    "0": "97",
                                    "1": "31"
                                },
                                {
                                    "0": "9",
                                    "1": "30"
                                },
                                {
                                    "0": "75",
                                    "1": "29"
                                },
                                {
                                    "0": "36",
                                    "1": "29"
                                },
                                {
                                    "0": "91",
                                    "1": "29"
                                },
                                {
                                    "0": "12",
                                    "1": "29"
                                },
                                {
                                    "0": "53",
                                    "1": "27"
                                },
                                {
                                    "0": "42",
                                    "1": "26"
                                },
                                {
                                    "0": "342",
                                    "1": "26"
                                },
                                {
                                    "0": "179",
                                    "1": "26"
                                },
                                {
                                    "0": "64",
                                    "1": "25"
                                },
                                {
                                    "0": "233",
                                    "1": "24"
                                },
                                {
                                    "0": "70",
                                    "1": "24"
                                },
                                {
                                    "0": "177",
                                    "1": "24"
                                },
                                {
                                    "0": "4",
                                    "1": "23"
                                },
                                {
                                    "0": "218",
                                    "1": "23"
                                },
                                {
                                    "0": "227",
                                    "1": "22"
                                },
                                {
                                    "0": "178",
                                    "1": "22"
                                },
                                {
                                    "0": "10",
                                    "1": "21"
                                },
                                {
                                    "0": "151",
                                    "1": "21"
                                },
                                {
                                    "0": "78",
                                    "1": "21"
                                },
                                {
                                    "0": "6",
                                    "1": "20"
                                },
                                {
                                    "0": "273",
                                    "1": "20"
                                },
                                {
                                    "0": "23",
                                    "1": "20"
                                },
                                {
                                    "0": "69",
                                    "1": "20"
                                },
                                {
                                    "0": "98",
                                    "1": "20"
                                },
                                {
                                    "0": "161",
                                    "1": "19"
                                },
                                {
                                    "0": "100",
                                    "1": "19"
                                },
                                {
                                    "0": "108",
                                    "1": "19"
                                },
                                {
                                    "0": "39",
                                    "1": "19"
                                },
                                {
                                    "0": "89",
                                    "1": "19"
                                },
                                {
                                    "0": "122",
                                    "1": "19"
                                },
                                {
                                    "0": "110",
                                    "1": "18"
                                },
                                {
                                    "0": "40",
                                    "1": "18"
                                },
                                {
                                    "0": "41",
                                    "1": "18"
                                },
                                {
                                    "0": "374",
                                    "1": "18"
                                },
                                {
                                    "0": "372",
                                    "1": "18"
                                },
                                {
                                    "0": "20",
                                    "1": "18"
                                },
                                {
                                    "0": "16",
                                    "1": "18"
                                },
                                {
                                    "0": "35",
                                    "1": "17"
                                },
                                {
                                    "0": "21",
                                    "1": "17"
                                },
                                {
                                    "0": "119",
                                    "1": "16"
                                },
                                {
                                    "0": "19",
                                    "1": "16"
                                },
                                {
                                    "0": "33",
                                    "1": "16"
                                },
                                {
                                    "0": "384",
                                    "1": "16"
                                },
                                {
                                    "0": "46",
                                    "1": "15"
                                },
                                {
                                    "0": "54",
                                    "1": "15"
                                },
                                {
                                    "0": "26",
                                    "1": "15"
                                },
                                {
                                    "0": "412",
                                    "1": "15"
                                },
                                {
                                    "0": "318",
                                    "1": "15"
                                },
                                {
                                    "0": "221",
                                    "1": "15"
                                },
                                {
                                    "0": "5",
                                    "1": "15"
                                },
                                {
                                    "0": "296",
                                    "1": "15"
                                },
                                {
                                    "0": "84",
                                    "1": "15"
                                },
                                {
                                    "0": "44",
                                    "1": "14"
                                },
                                {
                                    "0": "24",
                                    "1": "14"
                                },
                                {
                                    "0": "369",
                                    "1": "14"
                                },
                                {
                                    "0": "43",
                                    "1": "14"
                                },
                                {
                                    "0": "417",
                                    "1": "14"
                                },
                                {
                                    "0": "8",
                                    "1": "14"
                                },
                                {
                                    "0": "57",
                                    "1": "14"
                                },
                                {
                                    "0": "190",
                                    "1": "13"
                                },
                                {
                                    "0": "185",
                                    "1": "13"
                                },
                                {
                                    "0": "87",
                                    "1": "13"
                                },
                                {
                                    "0": "152",
                                    "1": "13"
                                },
                                {
                                    "0": "22",
                                    "1": "13"
                                },
                                {
                                    "0": "50",
                                    "1": "12"
                                },
                                {
                                    "0": "146",
                                    "1": "12"
                                },
                                {
                                    "0": "14",
                                    "1": "12"
                                },
                                {
                                    "0": "17",
                                    "1": "12"
                                },
                                {
                                    "0": "25",
                                    "1": "12"
                                },
                                {
                                    "0": "386",
                                    "1": "12"
                                },
                                {
                                    "0": "381",
                                    "1": "12"
                                },
                                {
                                    "0": "149",
                                    "1": "12"
                                },
                                {
                                    "0": "71",
                                    "1": "12"
                                },
                                {
                                    "0": "226",
                                    "1": "12"
                                },
                                {
                                    "0": "160",
                                    "1": "12"
                                },
                                {
                                    "0": "3",
                                    "1": "12"
                                },
                                {
                                    "0": "345",
                                    "1": "11"
                                },
                                {
                                    "0": "11",
                                    "1": "11"
                                },
                                {
                                    "0": "90",
                                    "1": "11"
                                },
                                {
                                    "0": "139",
                                    "1": "11"
                                },
                                {
                                    "0": "49",
                                    "1": "10"
                                },
                                {
                                    "0": "415",
                                    "1": "10"
                                },
                                {
                                    "0": "328",
                                    "1": "10"
                                },
                                {
                                    "0": "327",
                                    "1": "10"
                                },
                                {
                                    "0": "7",
                                    "1": "10"
                                },
                                {
                                    "0": "115",
                                    "1": "10"
                                },
                                {
                                    "0": "363",
                                    "1": "10"
                                },
                                {
                                    "0": "116",
                                    "1": "9"
                                },
                                {
                                    "0": "95",
                                    "1": "9"
                                },
                                {
                                    "0": "104",
                                    "1": "9"
                                },
                                {
                                    "0": "125",
                                    "1": "9"
                                },
                                {
                                    "0": "184",
                                    "1": "9"
                                },
                                {
                                    "0": "225",
                                    "1": "9"
                                },
                                {
                                    "0": "356",
                                    "1": "9"
                                },
                                {
                                    "0": "366",
                                    "1": "8"
                                },
                                {
                                    "0": "86",
                                    "1": "8"
                                },
                                {
                                    "0": "329",
                                    "1": "8"
                                },
                                {
                                    "0": "96",
                                    "1": "8"
                                },
                                {
                                    "0": "330",
                                    "1": "8"
                                },
                                {
                                    "0": "333",
                                    "1": "8"
                                },
                                {
                                    "0": "79",
                                    "1": "8"
                                },
                                {
                                    "0": "163",
                                    "1": "8"
                                },
                                {
                                    "0": "239",
                                    "1": "8"
                                },
                                {
                                    "0": "282",
                                    "1": "8"
                                },
                                {
                                    "0": "206",
                                    "1": "8"
                                },
                                {
                                    "0": "359",
                                    "1": "8"
                                },
                                {
                                    "0": "236",
                                    "1": "8"
                                },
                                {
                                    "0": "364",
                                    "1": "8"
                                },
                                {
                                    "0": "379",
                                    "1": "8"
                                },
                                {
                                    "0": "186",
                                    "1": "8"
                                },
                                {
                                    "0": "59",
                                    "1": "8"
                                },
                                {
                                    "0": "142",
                                    "1": "8"
                                },
                                {
                                    "0": "94",
                                    "1": "8"
                                },
                                {
                                    "0": "420",
                                    "1": "8"
                                },
                                {
                                    "0": "150",
                                    "1": "8"
                                },
                                {
                                    "0": "141",
                                    "1": "7"
                                },
                                {
                                    "0": "31",
                                    "1": "7"
                                },
                                {
                                    "0": "121",
                                    "1": "7"
                                },
                                {
                                    "0": "404",
                                    "1": "7"
                                },
                                {
                                    "0": "15",
                                    "1": "7"
                                },
                                {
                                    "0": "335",
                                    "1": "7"
                                },
                                {
                                    "0": "143",
                                    "1": "7"
                                },
                                {
                                    "0": "416",
                                    "1": "7"
                                },
                                {
                                    "0": "85",
                                    "1": "7"
                                },
                                {
                                    "0": "133",
                                    "1": "7"
                                },
                                {
                                    "0": "30",
                                    "1": "7"
                                },
                                {
                                    "0": "352",
                                    "1": "7"
                                },
                                {
                                    "0": "66",
                                    "1": "6"
                                },
                                {
                                    "0": "145",
                                    "1": "6"
                                },
                                {
                                    "0": "113",
                                    "1": "6"
                                },
                                {
                                    "0": "27",
                                    "1": "6"
                                },
                                {
                                    "0": "398",
                                    "1": "6"
                                },
                                {
                                    "0": "182",
                                    "1": "6"
                                },
                                {
                                    "0": "183",
                                    "1": "6"
                                },
                                {
                                    "0": "192",
                                    "1": "6"
                                },
                                {
                                    "0": "361",
                                    "1": "6"
                                },
                                {
                                    "0": "194",
                                    "1": "6"
                                },
                                {
                                    "0": "204",
                                    "1": "6"
                                },
                                {
                                    "0": "332",
                                    "1": "6"
                                },
                                {
                                    "0": "156",
                                    "1": "5"
                                },
                                {
                                    "0": "13",
                                    "1": "5"
                                },
                                {
                                    "0": "129",
                                    "1": "5"
                                },
                                {
                                    "0": "403",
                                    "1": "5"
                                },
                                {
                                    "0": "357",
                                    "1": "5"
                                },
                                {
                                    "0": "138",
                                    "1": "5"
                                },
                                {
                                    "0": "426",
                                    "1": "5"
                                },
                                {
                                    "0": "175",
                                    "1": "5"
                                },
                                {
                                    "0": "131",
                                    "1": "5"
                                },
                                {
                                    "0": "346",
                                    "1": "5"
                                },
                                {
                                    "0": "409",
                                    "1": "5"
                                },
                                {
                                    "0": "413",
                                    "1": "5"
                                },
                                {
                                    "0": "114",
                                    "1": "5"
                                },
                                {
                                    "0": "93",
                                    "1": "5"
                                },
                                {
                                    "0": "188",
                                    "1": "5"
                                },
                                {
                                    "0": "101",
                                    "1": "5"
                                },
                                {
                                    "0": "180",
                                    "1": "5"
                                },
                                {
                                    "0": "29",
                                    "1": "5"
                                },
                                {
                                    "0": "137",
                                    "1": "5"
                                },
                                {
                                    "0": "344",
                                    "1": "4"
                                },
                                {
                                    "0": "128",
                                    "1": "4"
                                },
                                {
                                    "0": "117",
                                    "1": "4"
                                },
                                {
                                    "0": "176",
                                    "1": "4"
                                },
                                {
                                    "0": "195",
                                    "1": "4"
                                },
                                {
                                    "0": "208",
                                    "1": "4"
                                },
                                {
                                    "0": "77",
                                    "1": "4"
                                },
                                {
                                    "0": "72",
                                    "1": "4"
                                },
                                {
                                    "0": "331",
                                    "1": "4"
                                },
                                {
                                    "0": "334",
                                    "1": "4"
                                },
                                {
                                    "0": "338",
                                    "1": "4"
                                },
                                {
                                    "0": "135",
                                    "1": "4"
                                },
                                {
                                    "0": "65",
                                    "1": "4"
                                },
                                {
                                    "0": "362",
                                    "1": "4"
                                },
                                {
                                    "0": "365",
                                    "1": "4"
                                },
                                {
                                    "0": "48",
                                    "1": "4"
                                },
                                {
                                    "0": "401",
                                    "1": "4"
                                },
                                {
                                    "0": "408",
                                    "1": "4"
                                },
                                {
                                    "0": "92",
                                    "1": "3"
                                },
                                {
                                    "0": "103",
                                    "1": "3"
                                },
                                {
                                    "0": "37",
                                    "1": "3"
                                },
                                {
                                    "0": "99",
                                    "1": "3"
                                },
                                {
                                    "0": "437",
                                    "1": "3"
                                },
                                {
                                    "0": "200",
                                    "1": "3"
                                },
                                {
                                    "0": "144",
                                    "1": "3"
                                },
                                {
                                    "0": "228",
                                    "1": "3"
                                },
                                {
                                    "0": "222",
                                    "1": "3"
                                },
                                {
                                    "0": "82",
                                    "1": "3"
                                },
                                {
                                    "0": "118",
                                    "1": "3"
                                },
                                {
                                    "0": "170",
                                    "1": "3"
                                },
                                {
                                    "0": "134",
                                    "1": "3"
                                },
                                {
                                    "0": "341",
                                    "1": "3"
                                },
                                {
                                    "0": "211",
                                    "1": "3"
                                },
                                {
                                    "0": "124",
                                    "1": "3"
                                },
                                {
                                    "0": "224",
                                    "1": "3"
                                },
                                {
                                    "0": "402",
                                    "1": "3"
                                },
                                {
                                    "0": "111",
                                    "1": "3"
                                },
                                {
                                    "0": "319",
                                    "1": "2"
                                },
                                {
                                    "0": "169",
                                    "1": "2"
                                },
                                {
                                    "0": "212",
                                    "1": "2"
                                },
                                {
                                    "0": "336",
                                    "1": "2"
                                },
                                {
                                    "0": "339",
                                    "1": "2"
                                },
                                {
                                    "0": "424",
                                    "1": "2"
                                },
                                {
                                    "0": "351",
                                    "1": "2"
                                },
                                {
                                    "0": "197",
                                    "1": "2"
                                },
                                {
                                    "0": "360",
                                    "1": "2"
                                },
                                {
                                    "0": "193",
                                    "1": "2"
                                },
                                {
                                    "0": "63",
                                    "1": "2"
                                },
                                {
                                    "0": "428",
                                    "1": "2"
                                },
                                {
                                    "0": "367",
                                    "1": "2"
                                },
                                {
                                    "0": "56",
                                    "1": "2"
                                },
                                {
                                    "0": "376",
                                    "1": "2"
                                },
                                {
                                    "0": "378",
                                    "1": "2"
                                },
                                {
                                    "0": "102",
                                    "1": "2"
                                },
                                {
                                    "0": "430",
                                    "1": "2"
                                },
                                {
                                    "0": "389",
                                    "1": "2"
                                },
                                {
                                    "0": "390",
                                    "1": "2"
                                },
                                {
                                    "0": "399",
                                    "1": "2"
                                },
                                {
                                    "0": "400",
                                    "1": "2"
                                },
                                {
                                    "0": "112",
                                    "1": "2"
                                },
                                {
                                    "0": "174",
                                    "1": "2"
                                },
                                {
                                    "0": "405",
                                    "1": "2"
                                },
                                {
                                    "0": "407",
                                    "1": "2"
                                },
                                {
                                    "0": "234",
                                    "1": "2"
                                },
                                {
                                    "0": "279",
                                    "1": "2"
                                },
                                {
                                    "0": "280",
                                    "1": "2"
                                },
                                {
                                    "0": "235",
                                    "1": "1"
                                },
                                {
                                    "0": "159",
                                    "1": "1"
                                },
                                {
                                    "0": "397",
                                    "1": "1"
                                },
                                {
                                    "0": "350",
                                    "1": "1"
                                },
                                {
                                    "0": "213",
                                    "1": "1"
                                },
                                {
                                    "0": "258",
                                    "1": "1"
                                },
                                {
                                    "0": "136",
                                    "1": "1"
                                },
                                {
                                    "0": "209",
                                    "1": "1"
                                },
                                {
                                    "0": "358",
                                    "1": "1"
                                },
                                {
                                    "0": "433",
                                    "1": "1"
                                },
                                {
                                    "0": "191",
                                    "1": "1"
                                },
                                {
                                    "0": "219",
                                    "1": "1"
                                },
                                {
                                    "0": "355",
                                    "1": "1"
                                },
                                {
                                    "0": "171",
                                    "1": "1"
                                },
                                {
                                    "0": "368",
                                    "1": "1"
                                },
                                {
                                    "0": "187",
                                    "1": "1"
                                },
                                {
                                    "0": "215",
                                    "1": "1"
                                },
                                {
                                    "0": "51",
                                    "1": "1"
                                },
                                {
                                    "0": "140",
                                    "1": "1"
                                },
                                {
                                    "0": "340",
                                    "1": "1"
                                },
                                {
                                    "0": "377",
                                    "1": "1"
                                },
                                {
                                    "0": "173",
                                    "1": "1"
                                },
                                {
                                    "0": "410",
                                    "1": "1"
                                },
                                {
                                    "0": "354",
                                    "1": "1"
                                },
                                {
                                    "0": "217",
                                    "1": "1"
                                },
                                {
                                    "0": "181",
                                    "1": "1"
                                },
                                {
                                    "0": "201",
                                    "1": "1"
                                }
                            ]
                        },
                        "text/html": [
                            "<table>",
                            "<tr><th>end_station_id</th><th>bikes_in</th></tr>",
                            "<tr><td>67</td><td>80</td></tr>",
                            "<tr><td>68</td><td>61</td></tr>",
                            "<tr><td>74</td><td>59</td></tr>",
                            "<tr><td>189</td><td>59</td></tr>",
                            "<tr><td>107</td><td>54</td></tr>",
                            "<tr><td>80</td><td>47</td></tr>",
                            "<tr><td>52</td><td>43</td></tr>",
                            "<tr><td>76</td><td>41</td></tr>",
                            "<tr><td>73</td><td>39</td></tr>",
                            "<tr><td>61</td><td>38</td></tr>",
                            "<tr><td>47</td><td>37</td></tr>",
                            "<tr><td>81</td><td>35</td></tr>",
                            "<tr><td>55</td><td>34</td></tr>",
                            "<tr><td>157</td><td>34</td></tr>",
                            "<tr><td>105</td><td>33</td></tr>",
                            "<tr><td>60</td><td>33</td></tr>",
                            "<tr><td>380</td><td>32</td></tr>",
                            "<tr><td>370</td><td>32</td></tr>",
                            "<tr><td>58</td><td>31</td></tr>",
                            "<tr><td>120</td><td>31</td></tr>",
                            "<tr><td>97</td><td>31</td></tr>",
                            "<tr><td>9</td><td>30</td></tr>",
                            "<tr><td>75</td><td>29</td></tr>",
                            "<tr><td>36</td><td>29</td></tr>",
                            "<tr><td>91</td><td>29</td></tr>",
                            "<tr><td>12</td><td>29</td></tr>",
                            "<tr><td>53</td><td>27</td></tr>",
                            "<tr><td>42</td><td>26</td></tr>",
                            "<tr><td>342</td><td>26</td></tr>",
                            "<tr><td>179</td><td>26</td></tr>",
                            "<tr><td>64</td><td>25</td></tr>",
                            "<tr><td>233</td><td>24</td></tr>",
                            "<tr><td>70</td><td>24</td></tr>",
                            "<tr><td>177</td><td>24</td></tr>",
                            "<tr><td>4</td><td>23</td></tr>",
                            "<tr><td>218</td><td>23</td></tr>",
                            "<tr><td>227</td><td>22</td></tr>",
                            "<tr><td>178</td><td>22</td></tr>",
                            "<tr><td>10</td><td>21</td></tr>",
                            "<tr><td>151</td><td>21</td></tr>",
                            "<tr><td>78</td><td>21</td></tr>",
                            "<tr><td>6</td><td>20</td></tr>",
                            "<tr><td>273</td><td>20</td></tr>",
                            "<tr><td>23</td><td>20</td></tr>",
                            "<tr><td>69</td><td>20</td></tr>",
                            "<tr><td>98</td><td>20</td></tr>",
                            "<tr><td>161</td><td>19</td></tr>",
                            "<tr><td>100</td><td>19</td></tr>",
                            "<tr><td>108</td><td>19</td></tr>",
                            "<tr><td>39</td><td>19</td></tr>",
                            "<tr><td>89</td><td>19</td></tr>",
                            "<tr><td>122</td><td>19</td></tr>",
                            "<tr><td>110</td><td>18</td></tr>",
                            "<tr><td>40</td><td>18</td></tr>",
                            "<tr><td>41</td><td>18</td></tr>",
                            "<tr><td>374</td><td>18</td></tr>",
                            "<tr><td>372</td><td>18</td></tr>",
                            "<tr><td>20</td><td>18</td></tr>",
                            "<tr><td>16</td><td>18</td></tr>",
                            "<tr><td>35</td><td>17</td></tr>",
                            "<tr><td>21</td><td>17</td></tr>",
                            "<tr><td>119</td><td>16</td></tr>",
                            "<tr><td>19</td><td>16</td></tr>",
                            "<tr><td>33</td><td>16</td></tr>",
                            "<tr><td>384</td><td>16</td></tr>",
                            "<tr><td>46</td><td>15</td></tr>",
                            "<tr><td>54</td><td>15</td></tr>",
                            "<tr><td>26</td><td>15</td></tr>",
                            "<tr><td>412</td><td>15</td></tr>",
                            "<tr><td>318</td><td>15</td></tr>",
                            "<tr><td>221</td><td>15</td></tr>",
                            "<tr><td>5</td><td>15</td></tr>",
                            "<tr><td>296</td><td>15</td></tr>",
                            "<tr><td>84</td><td>15</td></tr>",
                            "<tr><td>44</td><td>14</td></tr>",
                            "<tr><td>24</td><td>14</td></tr>",
                            "<tr><td>369</td><td>14</td></tr>",
                            "<tr><td>43</td><td>14</td></tr>",
                            "<tr><td>417</td><td>14</td></tr>",
                            "<tr><td>8</td><td>14</td></tr>",
                            "<tr><td>57</td><td>14</td></tr>",
                            "<tr><td>190</td><td>13</td></tr>",
                            "<tr><td>185</td><td>13</td></tr>",
                            "<tr><td>87</td><td>13</td></tr>",
                            "<tr><td>152</td><td>13</td></tr>",
                            "<tr><td>22</td><td>13</td></tr>",
                            "<tr><td>50</td><td>12</td></tr>",
                            "<tr><td>146</td><td>12</td></tr>",
                            "<tr><td>14</td><td>12</td></tr>",
                            "<tr><td>17</td><td>12</td></tr>",
                            "<tr><td>25</td><td>12</td></tr>",
                            "<tr><td>386</td><td>12</td></tr>",
                            "<tr><td>381</td><td>12</td></tr>",
                            "<tr><td>149</td><td>12</td></tr>",
                            "<tr><td>71</td><td>12</td></tr>",
                            "<tr><td>226</td><td>12</td></tr>",
                            "<tr><td>160</td><td>12</td></tr>",
                            "<tr><td>3</td><td>12</td></tr>",
                            "<tr><td>345</td><td>11</td></tr>",
                            "<tr><td>11</td><td>11</td></tr>",
                            "<tr><td>90</td><td>11</td></tr>",
                            "<tr><td>139</td><td>11</td></tr>",
                            "<tr><td>49</td><td>10</td></tr>",
                            "<tr><td>415</td><td>10</td></tr>",
                            "<tr><td>328</td><td>10</td></tr>",
                            "<tr><td>327</td><td>10</td></tr>",
                            "<tr><td>7</td><td>10</td></tr>",
                            "<tr><td>115</td><td>10</td></tr>",
                            "<tr><td>363</td><td>10</td></tr>",
                            "<tr><td>116</td><td>9</td></tr>",
                            "<tr><td>95</td><td>9</td></tr>",
                            "<tr><td>104</td><td>9</td></tr>",
                            "<tr><td>125</td><td>9</td></tr>",
                            "<tr><td>184</td><td>9</td></tr>",
                            "<tr><td>225</td><td>9</td></tr>",
                            "<tr><td>356</td><td>9</td></tr>",
                            "<tr><td>366</td><td>8</td></tr>",
                            "<tr><td>86</td><td>8</td></tr>",
                            "<tr><td>329</td><td>8</td></tr>",
                            "<tr><td>96</td><td>8</td></tr>",
                            "<tr><td>330</td><td>8</td></tr>",
                            "<tr><td>333</td><td>8</td></tr>",
                            "<tr><td>79</td><td>8</td></tr>",
                            "<tr><td>163</td><td>8</td></tr>",
                            "<tr><td>239</td><td>8</td></tr>",
                            "<tr><td>282</td><td>8</td></tr>",
                            "<tr><td>206</td><td>8</td></tr>",
                            "<tr><td>359</td><td>8</td></tr>",
                            "<tr><td>236</td><td>8</td></tr>",
                            "<tr><td>364</td><td>8</td></tr>",
                            "<tr><td>379</td><td>8</td></tr>",
                            "<tr><td>186</td><td>8</td></tr>",
                            "<tr><td>59</td><td>8</td></tr>",
                            "<tr><td>142</td><td>8</td></tr>",
                            "<tr><td>94</td><td>8</td></tr>",
                            "<tr><td>420</td><td>8</td></tr>",
                            "<tr><td>150</td><td>8</td></tr>",
                            "<tr><td>141</td><td>7</td></tr>",
                            "<tr><td>31</td><td>7</td></tr>",
                            "<tr><td>121</td><td>7</td></tr>",
                            "<tr><td>404</td><td>7</td></tr>",
                            "<tr><td>15</td><td>7</td></tr>",
                            "<tr><td>335</td><td>7</td></tr>",
                            "<tr><td>143</td><td>7</td></tr>",
                            "<tr><td>416</td><td>7</td></tr>",
                            "<tr><td>85</td><td>7</td></tr>",
                            "<tr><td>133</td><td>7</td></tr>",
                            "<tr><td>30</td><td>7</td></tr>",
                            "<tr><td>352</td><td>7</td></tr>",
                            "<tr><td>66</td><td>6</td></tr>",
                            "<tr><td>145</td><td>6</td></tr>",
                            "<tr><td>113</td><td>6</td></tr>",
                            "<tr><td>27</td><td>6</td></tr>",
                            "<tr><td>398</td><td>6</td></tr>",
                            "<tr><td>182</td><td>6</td></tr>",
                            "<tr><td>183</td><td>6</td></tr>",
                            "<tr><td>192</td><td>6</td></tr>",
                            "<tr><td>361</td><td>6</td></tr>",
                            "<tr><td>194</td><td>6</td></tr>",
                            "<tr><td>204</td><td>6</td></tr>",
                            "<tr><td>332</td><td>6</td></tr>",
                            "<tr><td>156</td><td>5</td></tr>",
                            "<tr><td>13</td><td>5</td></tr>",
                            "<tr><td>129</td><td>5</td></tr>",
                            "<tr><td>403</td><td>5</td></tr>",
                            "<tr><td>357</td><td>5</td></tr>",
                            "<tr><td>138</td><td>5</td></tr>",
                            "<tr><td>426</td><td>5</td></tr>",
                            "<tr><td>175</td><td>5</td></tr>",
                            "<tr><td>131</td><td>5</td></tr>",
                            "<tr><td>346</td><td>5</td></tr>",
                            "<tr><td>409</td><td>5</td></tr>",
                            "<tr><td>413</td><td>5</td></tr>",
                            "<tr><td>114</td><td>5</td></tr>",
                            "<tr><td>93</td><td>5</td></tr>",
                            "<tr><td>188</td><td>5</td></tr>",
                            "<tr><td>101</td><td>5</td></tr>",
                            "<tr><td>180</td><td>5</td></tr>",
                            "<tr><td>29</td><td>5</td></tr>",
                            "<tr><td>137</td><td>5</td></tr>",
                            "<tr><td>344</td><td>4</td></tr>",
                            "<tr><td>128</td><td>4</td></tr>",
                            "<tr><td>117</td><td>4</td></tr>",
                            "<tr><td>176</td><td>4</td></tr>",
                            "<tr><td>195</td><td>4</td></tr>",
                            "<tr><td>208</td><td>4</td></tr>",
                            "<tr><td>77</td><td>4</td></tr>",
                            "<tr><td>72</td><td>4</td></tr>",
                            "<tr><td>331</td><td>4</td></tr>",
                            "<tr><td>334</td><td>4</td></tr>",
                            "<tr><td>338</td><td>4</td></tr>",
                            "<tr><td>135</td><td>4</td></tr>",
                            "<tr><td>65</td><td>4</td></tr>",
                            "<tr><td>362</td><td>4</td></tr>",
                            "<tr><td>365</td><td>4</td></tr>",
                            "<tr><td>48</td><td>4</td></tr>",
                            "<tr><td>401</td><td>4</td></tr>",
                            "<tr><td>408</td><td>4</td></tr>",
                            "<tr><td>92</td><td>3</td></tr>",
                            "<tr><td>103</td><td>3</td></tr>",
                            "<tr><td>37</td><td>3</td></tr>",
                            "<tr><td>99</td><td>3</td></tr>",
                            "<tr><td>437</td><td>3</td></tr>",
                            "<tr><td>200</td><td>3</td></tr>",
                            "<tr><td>144</td><td>3</td></tr>",
                            "<tr><td>228</td><td>3</td></tr>",
                            "<tr><td>222</td><td>3</td></tr>",
                            "<tr><td>82</td><td>3</td></tr>",
                            "<tr><td>118</td><td>3</td></tr>",
                            "<tr><td>170</td><td>3</td></tr>",
                            "<tr><td>134</td><td>3</td></tr>",
                            "<tr><td>341</td><td>3</td></tr>",
                            "<tr><td>211</td><td>3</td></tr>",
                            "<tr><td>124</td><td>3</td></tr>",
                            "<tr><td>224</td><td>3</td></tr>",
                            "<tr><td>402</td><td>3</td></tr>",
                            "<tr><td>111</td><td>3</td></tr>",
                            "<tr><td>319</td><td>2</td></tr>",
                            "<tr><td>169</td><td>2</td></tr>",
                            "<tr><td>212</td><td>2</td></tr>",
                            "<tr><td>336</td><td>2</td></tr>",
                            "<tr><td>339</td><td>2</td></tr>",
                            "<tr><td>424</td><td>2</td></tr>",
                            "<tr><td>351</td><td>2</td></tr>",
                            "<tr><td>197</td><td>2</td></tr>",
                            "<tr><td>360</td><td>2</td></tr>",
                            "<tr><td>193</td><td>2</td></tr>",
                            "<tr><td>63</td><td>2</td></tr>",
                            "<tr><td>428</td><td>2</td></tr>",
                            "<tr><td>367</td><td>2</td></tr>",
                            "<tr><td>56</td><td>2</td></tr>",
                            "<tr><td>376</td><td>2</td></tr>",
                            "<tr><td>378</td><td>2</td></tr>",
                            "<tr><td>102</td><td>2</td></tr>",
                            "<tr><td>430</td><td>2</td></tr>",
                            "<tr><td>389</td><td>2</td></tr>",
                            "<tr><td>390</td><td>2</td></tr>",
                            "<tr><td>399</td><td>2</td></tr>",
                            "<tr><td>400</td><td>2</td></tr>",
                            "<tr><td>112</td><td>2</td></tr>",
                            "<tr><td>174</td><td>2</td></tr>",
                            "<tr><td>405</td><td>2</td></tr>",
                            "<tr><td>407</td><td>2</td></tr>",
                            "<tr><td>234</td><td>2</td></tr>",
                            "<tr><td>279</td><td>2</td></tr>",
                            "<tr><td>280</td><td>2</td></tr>",
                            "<tr><td>235</td><td>1</td></tr>",
                            "<tr><td>159</td><td>1</td></tr>",
                            "<tr><td>397</td><td>1</td></tr>",
                            "<tr><td>350</td><td>1</td></tr>",
                            "<tr><td>213</td><td>1</td></tr>",
                            "<tr><td>258</td><td>1</td></tr>",
                            "<tr><td>136</td><td>1</td></tr>",
                            "<tr><td>209</td><td>1</td></tr>",
                            "<tr><td>358</td><td>1</td></tr>",
                            "<tr><td>433</td><td>1</td></tr>",
                            "<tr><td>191</td><td>1</td></tr>",
                            "<tr><td>219</td><td>1</td></tr>",
                            "<tr><td>355</td><td>1</td></tr>",
                            "<tr><td>171</td><td>1</td></tr>",
                            "<tr><td>368</td><td>1</td></tr>",
                            "<tr><td>187</td><td>1</td></tr>",
                            "<tr><td>215</td><td>1</td></tr>",
                            "<tr><td>51</td><td>1</td></tr>",
                            "<tr><td>140</td><td>1</td></tr>",
                            "<tr><td>340</td><td>1</td></tr>",
                            "<tr><td>377</td><td>1</td></tr>",
                            "<tr><td>173</td><td>1</td></tr>",
                            "<tr><td>410</td><td>1</td></tr>",
                            "<tr><td>354</td><td>1</td></tr>",
                            "<tr><td>217</td><td>1</td></tr>",
                            "<tr><td>181</td><td>1</td></tr>",
                            "<tr><td>201</td><td>1</td></tr>",
                            "</table>"
                        ]
                    }
                }
            ],
            "execution_count": 111
        },
        {
            "cell_type": "code",
            "source": [
                ""
            ],
            "metadata": {
                "azdata_cell_guid": "1a7ae794-0762-4012-959c-3fe7e674b592"
            },
            "outputs": [],
            "execution_count": null
        },
        {
            "cell_type": "code",
            "source": [
                "    select\n",
                "    month_no,\n",
                "    day_no,\n",
                "    hour_no,\n",
                "    start_station_id,\n",
                "    count(1) as riders,\n",
                "    sum(count(1)) over() as total\n",
                "    from dates\n",
                "    WHERE \n",
                "    (month_no, day_no, hour_no)\n",
                "    IN -- 5 busiest times\n",
                "        (select\n",
                "        a.month_no,\n",
                "        a.day_no,\n",
                "        a.hour_no\n",
                "        from agg_2019 a\n",
                "        group by a.month, a.month_no, a.day, a.day_no, a.hour, a.hour_no\n",
                "        order by sum(a.riders) desc\n",
                "        limit 5)\n",
                "\n",
                "\n",
                "    group by month_no, day_no, hour_no, start_station_id\n",
                "    having count(1) > 150"
            ],
            "metadata": {
                "azdata_cell_guid": "187bd8cc-5c69-44a1-9dd4-63e622284614"
            },
            "outputs": [
                {
                    "output_type": "display_data",
                    "data": {
                        "text/html": "(25 row(s) affected)"
                    },
                    "metadata": {}
                },
                {
                    "output_type": "display_data",
                    "data": {
                        "text/html": "Total execution time: 00:00:00.946"
                    },
                    "metadata": {}
                },
                {
                    "output_type": "execute_result",
                    "metadata": {},
                    "execution_count": 101,
                    "data": {
                        "application/vnd.dataresource+json": {
                            "schema": {
                                "fields": [
                                    {
                                        "name": "month_no"
                                    },
                                    {
                                        "name": "day_no"
                                    },
                                    {
                                        "name": "hour_no"
                                    },
                                    {
                                        "name": "start_station_id"
                                    },
                                    {
                                        "name": "riders"
                                    },
                                    {
                                        "name": "total"
                                    }
                                ]
                            },
                            "data": [
                                {
                                    "0": "07",
                                    "1": "1",
                                    "2": "17",
                                    "3": "22",
                                    "4": "319",
                                    "5": "6151"
                                },
                                {
                                    "0": "07",
                                    "1": "1",
                                    "2": "17",
                                    "3": "24",
                                    "4": "204",
                                    "5": "6151"
                                },
                                {
                                    "0": "07",
                                    "1": "1",
                                    "2": "17",
                                    "3": "67",
                                    "4": "151",
                                    "5": "6151"
                                },
                                {
                                    "0": "07",
                                    "1": "1",
                                    "2": "17",
                                    "3": "107",
                                    "4": "377",
                                    "5": "6151"
                                },
                                {
                                    "0": "07",
                                    "1": "1",
                                    "2": "17",
                                    "3": "189",
                                    "4": "158",
                                    "5": "6151"
                                },
                                {
                                    "0": "07",
                                    "1": "2",
                                    "2": "17",
                                    "3": "22",
                                    "4": "333",
                                    "5": "6151"
                                },
                                {
                                    "0": "07",
                                    "1": "2",
                                    "2": "17",
                                    "3": "24",
                                    "4": "244",
                                    "5": "6151"
                                },
                                {
                                    "0": "07",
                                    "1": "2",
                                    "2": "17",
                                    "3": "67",
                                    "4": "169",
                                    "5": "6151"
                                },
                                {
                                    "0": "07",
                                    "1": "2",
                                    "2": "17",
                                    "3": "68",
                                    "4": "154",
                                    "5": "6151"
                                },
                                {
                                    "0": "07",
                                    "1": "2",
                                    "2": "17",
                                    "3": "107",
                                    "4": "419",
                                    "5": "6151"
                                },
                                {
                                    "0": "08",
                                    "1": "4",
                                    "2": "17",
                                    "3": "22",
                                    "4": "259",
                                    "5": "6151"
                                },
                                {
                                    "0": "08",
                                    "1": "4",
                                    "2": "17",
                                    "3": "24",
                                    "4": "227",
                                    "5": "6151"
                                },
                                {
                                    "0": "08",
                                    "1": "4",
                                    "2": "17",
                                    "3": "68",
                                    "4": "158",
                                    "5": "6151"
                                },
                                {
                                    "0": "08",
                                    "1": "4",
                                    "2": "17",
                                    "3": "80",
                                    "4": "171",
                                    "5": "6151"
                                },
                                {
                                    "0": "08",
                                    "1": "4",
                                    "2": "17",
                                    "3": "107",
                                    "4": "408",
                                    "5": "6151"
                                },
                                {
                                    "0": "09",
                                    "1": "1",
                                    "2": "17",
                                    "3": "22",
                                    "4": "234",
                                    "5": "6151"
                                },
                                {
                                    "0": "09",
                                    "1": "1",
                                    "2": "17",
                                    "3": "24",
                                    "4": "216",
                                    "5": "6151"
                                },
                                {
                                    "0": "09",
                                    "1": "1",
                                    "2": "17",
                                    "3": "80",
                                    "4": "197",
                                    "5": "6151"
                                },
                                {
                                    "0": "09",
                                    "1": "1",
                                    "2": "17",
                                    "3": "107",
                                    "4": "441",
                                    "5": "6151"
                                },
                                {
                                    "0": "10",
                                    "1": "2",
                                    "2": "17",
                                    "3": "22",
                                    "4": "213",
                                    "5": "6151"
                                },
                                {
                                    "0": "10",
                                    "1": "2",
                                    "2": "17",
                                    "3": "24",
                                    "4": "185",
                                    "5": "6151"
                                },
                                {
                                    "0": "10",
                                    "1": "2",
                                    "2": "17",
                                    "3": "67",
                                    "4": "163",
                                    "5": "6151"
                                },
                                {
                                    "0": "10",
                                    "1": "2",
                                    "2": "17",
                                    "3": "68",
                                    "4": "156",
                                    "5": "6151"
                                },
                                {
                                    "0": "10",
                                    "1": "2",
                                    "2": "17",
                                    "3": "80",
                                    "4": "206",
                                    "5": "6151"
                                },
                                {
                                    "0": "10",
                                    "1": "2",
                                    "2": "17",
                                    "3": "107",
                                    "4": "389",
                                    "5": "6151"
                                }
                            ]
                        },
                        "text/html": [
                            "<table>",
                            "<tr><th>month_no</th><th>day_no</th><th>hour_no</th><th>start_station_id</th><th>riders</th><th>total</th></tr>",
                            "<tr><td>07</td><td>1</td><td>17</td><td>22</td><td>319</td><td>6151</td></tr>",
                            "<tr><td>07</td><td>1</td><td>17</td><td>24</td><td>204</td><td>6151</td></tr>",
                            "<tr><td>07</td><td>1</td><td>17</td><td>67</td><td>151</td><td>6151</td></tr>",
                            "<tr><td>07</td><td>1</td><td>17</td><td>107</td><td>377</td><td>6151</td></tr>",
                            "<tr><td>07</td><td>1</td><td>17</td><td>189</td><td>158</td><td>6151</td></tr>",
                            "<tr><td>07</td><td>2</td><td>17</td><td>22</td><td>333</td><td>6151</td></tr>",
                            "<tr><td>07</td><td>2</td><td>17</td><td>24</td><td>244</td><td>6151</td></tr>",
                            "<tr><td>07</td><td>2</td><td>17</td><td>67</td><td>169</td><td>6151</td></tr>",
                            "<tr><td>07</td><td>2</td><td>17</td><td>68</td><td>154</td><td>6151</td></tr>",
                            "<tr><td>07</td><td>2</td><td>17</td><td>107</td><td>419</td><td>6151</td></tr>",
                            "<tr><td>08</td><td>4</td><td>17</td><td>22</td><td>259</td><td>6151</td></tr>",
                            "<tr><td>08</td><td>4</td><td>17</td><td>24</td><td>227</td><td>6151</td></tr>",
                            "<tr><td>08</td><td>4</td><td>17</td><td>68</td><td>158</td><td>6151</td></tr>",
                            "<tr><td>08</td><td>4</td><td>17</td><td>80</td><td>171</td><td>6151</td></tr>",
                            "<tr><td>08</td><td>4</td><td>17</td><td>107</td><td>408</td><td>6151</td></tr>",
                            "<tr><td>09</td><td>1</td><td>17</td><td>22</td><td>234</td><td>6151</td></tr>",
                            "<tr><td>09</td><td>1</td><td>17</td><td>24</td><td>216</td><td>6151</td></tr>",
                            "<tr><td>09</td><td>1</td><td>17</td><td>80</td><td>197</td><td>6151</td></tr>",
                            "<tr><td>09</td><td>1</td><td>17</td><td>107</td><td>441</td><td>6151</td></tr>",
                            "<tr><td>10</td><td>2</td><td>17</td><td>22</td><td>213</td><td>6151</td></tr>",
                            "<tr><td>10</td><td>2</td><td>17</td><td>24</td><td>185</td><td>6151</td></tr>",
                            "<tr><td>10</td><td>2</td><td>17</td><td>67</td><td>163</td><td>6151</td></tr>",
                            "<tr><td>10</td><td>2</td><td>17</td><td>68</td><td>156</td><td>6151</td></tr>",
                            "<tr><td>10</td><td>2</td><td>17</td><td>80</td><td>206</td><td>6151</td></tr>",
                            "<tr><td>10</td><td>2</td><td>17</td><td>107</td><td>389</td><td>6151</td></tr>",
                            "</table>"
                        ]
                    }
                }
            ],
            "execution_count": 101
        },
        {
            "cell_type": "code",
            "source": [
                ""
            ],
            "metadata": {
                "azdata_cell_guid": "69681e87-9b0b-498d-ba38-cd11723e8b33"
            },
            "outputs": [],
            "execution_count": null
        },
        {
            "cell_type": "code",
            "source": [
                ""
            ],
            "metadata": {
                "azdata_cell_guid": "90fffb4c-d347-475c-aecb-9e9082f02724"
            },
            "outputs": [],
            "execution_count": null
        },
        {
            "cell_type": "code",
            "source": [
                ""
            ],
            "metadata": {
                "azdata_cell_guid": "06028c3f-cbd4-4d22-8146-0662e2921f50"
            },
            "outputs": [],
            "execution_count": null
        },
        {
            "cell_type": "code",
            "source": [
                ""
            ],
            "metadata": {
                "azdata_cell_guid": "4cc20d7a-457d-4ee3-8d60-67cb00af2408"
            },
            "outputs": [],
            "execution_count": null
        },
        {
            "cell_type": "code",
            "source": [
                ""
            ],
            "metadata": {
                "azdata_cell_guid": "efbd1780-9aec-44e7-ac18-ecd7abf970bb"
            },
            "outputs": [],
            "execution_count": null
        },
        {
            "cell_type": "code",
            "source": [
                ""
            ],
            "metadata": {
                "azdata_cell_guid": "6c221bce-5f5d-49de-a122-6861ba0636f8"
            },
            "outputs": [],
            "execution_count": null
        },
        {
            "cell_type": "code",
            "source": [
                ""
            ],
            "metadata": {
                "azdata_cell_guid": "71ed3f46-d63b-4d9b-8367-27c82a0c9395"
            },
            "outputs": [],
            "execution_count": null
        },
        {
            "cell_type": "code",
            "source": [
                ""
            ],
            "metadata": {
                "azdata_cell_guid": "371489c7-3f61-4b1a-9478-604fe95da793"
            },
            "outputs": [],
            "execution_count": null
        },
        {
            "cell_type": "code",
            "source": [
                ""
            ],
            "metadata": {
                "azdata_cell_guid": "0ace1be2-2169-43aa-93d4-43a834e9aa35"
            },
            "outputs": [],
            "execution_count": null
        },
        {
            "cell_type": "code",
            "source": [
                ""
            ],
            "metadata": {
                "azdata_cell_guid": "a0c33a35-eb16-4dc2-8cc7-2c9de26afc0b"
            },
            "outputs": [],
            "execution_count": null
        },
        {
            "cell_type": "code",
            "source": [
                ""
            ],
            "metadata": {
                "azdata_cell_guid": "31575235-4305-4dcb-bd16-df7ba85fae2f"
            },
            "outputs": [],
            "execution_count": null
        },
        {
            "cell_type": "code",
            "source": [
                ""
            ],
            "metadata": {
                "azdata_cell_guid": "77c5c9ad-f4ac-4c0e-9766-5469ccd459de"
            },
            "outputs": [],
            "execution_count": null
        },
        {
            "cell_type": "code",
            "source": [
                ""
            ],
            "metadata": {
                "azdata_cell_guid": "777c75bd-530b-4ea3-b24b-fd0e20c2765c"
            },
            "outputs": [],
            "execution_count": null
        },
        {
            "cell_type": "code",
            "source": [
                ""
            ],
            "metadata": {
                "azdata_cell_guid": "aaba4ecf-f2f5-419d-a557-5a17aff9a7b4"
            },
            "outputs": [],
            "execution_count": null
        }
    ]
}