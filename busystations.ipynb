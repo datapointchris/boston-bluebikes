{
    "metadata": {
        "kernelspec": {
            "name": "SQL",
            "display_name": "SQL",
            "language": "sql"
        },
        "language_info": {
            "name": "sql",
            "version": ""
        }
    },
    "nbformat_minor": 2,
    "nbformat": 4,
    "cells": [
        {
            "cell_type": "markdown",
            "source": [
                "# Busiest Stations at Peak Time"
            ],
            "metadata": {
                "azdata_cell_guid": "6d8e144e-bac6-4cfc-ae07-cca6f83f3eef"
            }
        },
        {
            "cell_type": "code",
            "source": [
                "-- temp tables for aggregates\n",
                "create temporary table dates as\n",
                "\n",
                "select *,\n",
                "To_Char(start_time, 'YYYY') as year,\n",
                "To_Char(start_time, 'MM') as month_no,\n",
                "To_Char(start_time, 'ID') as day_no,\n",
                "To_Char(start_time, 'HH24') as hour_no,\n",
                "To_Char(start_time, 'Month') as month,\n",
                "To_Char(start_time, 'Day') as day,\n",
                "To_Char(start_time, 'HH12') || ':00 ' || To_Char(start_time, 'am') as hour\n",
                "-- count(1) as riders\n",
                "\n",
                "from bluebikes_2019\n",
                "-- group by year, month_no, day_no, hour_no, month, day, hour\n",
                "order by month_no, day_no, hour_no\n",
                ""
            ],
            "metadata": {
                "azdata_cell_guid": "6feed738-efa6-48e9-bbc0-c30750453b36"
            },
            "outputs": [
                {
                    "output_type": "display_data",
                    "data": {
                        "text/html": "Commands completed successfully"
                    },
                    "metadata": {}
                },
                {
                    "output_type": "display_data",
                    "data": {
                        "text/html": "Total execution time: 00:00:09.111"
                    },
                    "metadata": {}
                }
            ],
            "execution_count": 1
        },
        {
            "cell_type": "code",
            "source": [
                "-- ZACH\n",
                "\n",
                "SELECT  user_gender,\n",
                "        COUNT(USER_gender)\n",
                "FROM bluebikes_2018\n",
                "WHERE user_gender = 2\n",
                "GROUP BY user_gender;\n",
                "SELECT  user_gender,\n",
                "        COUNT(USER_gender)\n",
                "FROM bluebikes_2019\n",
                "WHERE user_gender = 2\n",
                "GROUP BY user_gender;"
            ],
            "metadata": {
                "azdata_cell_guid": "3dfb7e73-65fe-4136-93fc-9c49c9144c2e"
            },
            "outputs": [
                {
                    "output_type": "display_data",
                    "data": {
                        "text/html": "(1 row(s) affected)"
                    },
                    "metadata": {}
                },
                {
                    "output_type": "display_data",
                    "data": {
                        "text/html": "(1 row(s) affected)"
                    },
                    "metadata": {}
                },
                {
                    "output_type": "display_data",
                    "data": {
                        "text/html": "Total execution time: 00:00:00.902"
                    },
                    "metadata": {}
                },
                {
                    "output_type": "execute_result",
                    "execution_count": 28,
                    "data": {
                        "application/vnd.dataresource+json": {
                            "schema": {
                                "fields": [
                                    {
                                        "name": "user_gender"
                                    },
                                    {
                                        "name": "count"
                                    }
                                ]
                            },
                            "data": [
                                {
                                    "0": "2",
                                    "1": "398394"
                                }
                            ]
                        },
                        "text/html": "<table><tr><th>user_gender</th><th>count</th></tr><tr><td>2</td><td>398394</td></tr></table>"
                    },
                    "metadata": {}
                },
                {
                    "output_type": "execute_result",
                    "execution_count": 28,
                    "data": {
                        "application/vnd.dataresource+json": {
                            "schema": {
                                "fields": [
                                    {
                                        "name": "user_gender"
                                    },
                                    {
                                        "name": "count"
                                    }
                                ]
                            },
                            "data": [
                                {
                                    "0": "2",
                                    "1": "592345"
                                }
                            ]
                        },
                        "text/html": "<table><tr><th>user_gender</th><th>count</th></tr><tr><td>2</td><td>592345</td></tr></table>"
                    },
                    "metadata": {}
                }
            ],
            "execution_count": 28
        },
        {
            "cell_type": "code",
            "source": [
                "select count(1) \n",
                "from bluebikes_2019\n",
                "\n",
                "select count(1)\n",
                "from bluebikes_2018"
            ],
            "metadata": {
                "azdata_cell_guid": "53d45b6b-64b0-4427-8899-c255b5db2691"
            },
            "outputs": [
                {
                    "output_type": "error",
                    "ename": "",
                    "evalue": "syntax error at or near \"-\"",
                    "traceback": []
                },
                {
                    "output_type": "display_data",
                    "data": {
                        "text/html": "Total execution time: 00:00:00.036"
                    },
                    "metadata": {}
                }
            ],
            "execution_count": 27
        },
        {
            "cell_type": "code",
            "source": [
                "select * from dates\n",
                "order by random()\n",
                "limit 10;"
            ],
            "metadata": {
                "azdata_cell_guid": "902b90ae-2bb4-48ed-9d02-62c832275cdc"
            },
            "outputs": [
                {
                    "output_type": "display_data",
                    "data": {
                        "text/html": "(10 row(s) affected)"
                    },
                    "metadata": {}
                },
                {
                    "output_type": "display_data",
                    "data": {
                        "text/html": "Total execution time: 00:00:01.724"
                    },
                    "metadata": {}
                },
                {
                    "output_type": "execute_result",
                    "execution_count": 51,
                    "data": {
                        "application/vnd.dataresource+json": {
                            "schema": {
                                "fields": [
                                    {
                                        "name": "bike_id"
                                    },
                                    {
                                        "name": "start_time"
                                    },
                                    {
                                        "name": "end_time"
                                    },
                                    {
                                        "name": "start_station_id"
                                    },
                                    {
                                        "name": "end_station_id"
                                    },
                                    {
                                        "name": "user_type"
                                    },
                                    {
                                        "name": "user_birth_year"
                                    },
                                    {
                                        "name": "user_gender"
                                    },
                                    {
                                        "name": "year"
                                    },
                                    {
                                        "name": "month_no"
                                    },
                                    {
                                        "name": "day_no"
                                    },
                                    {
                                        "name": "hour_no"
                                    },
                                    {
                                        "name": "month"
                                    },
                                    {
                                        "name": "day"
                                    },
                                    {
                                        "name": "hour"
                                    }
                                ]
                            },
                            "data": [
                                {
                                    "0": "4969",
                                    "1": "2019-10-01T17:14:11.550000",
                                    "2": "2019-10-01T17:19:48.732000",
                                    "3": "189",
                                    "4": "6",
                                    "5": "Customer",
                                    "6": "1969",
                                    "7": "0",
                                    "8": "2019",
                                    "9": "10",
                                    "10": "2",
                                    "11": "17",
                                    "12": "October  ",
                                    "13": "Tuesday  ",
                                    "14": "05:00 pm"
                                },
                                {
                                    "0": "2351",
                                    "1": "2019-02-11T08:25:33.832000",
                                    "2": "2019-02-11T08:54:57.301000",
                                    "3": "181",
                                    "4": "140",
                                    "5": "Subscriber",
                                    "6": "1977",
                                    "7": "1",
                                    "8": "2019",
                                    "9": "02",
                                    "10": "1",
                                    "11": "08",
                                    "12": "February ",
                                    "13": "Monday   ",
                                    "14": "08:00 am"
                                },
                                {
                                    "0": "4020",
                                    "1": "2019-12-08T12:55:23.969000",
                                    "2": "2019-12-08T13:07:26.428000",
                                    "3": "46",
                                    "4": "12",
                                    "5": "Subscriber",
                                    "6": "1961",
                                    "7": "2",
                                    "8": "2019",
                                    "9": "12",
                                    "10": "7",
                                    "11": "12",
                                    "12": "December ",
                                    "13": "Sunday   ",
                                    "14": "12:00 pm"
                                },
                                {
                                    "0": "5305",
                                    "1": "2019-09-22T14:52:37.610000",
                                    "2": "2019-09-22T15:12:47.534000",
                                    "3": "27",
                                    "4": "113",
                                    "5": "Customer",
                                    "6": "1969",
                                    "7": "0",
                                    "8": "2019",
                                    "9": "09",
                                    "10": "7",
                                    "11": "14",
                                    "12": "September",
                                    "13": "Sunday   ",
                                    "14": "02:00 pm"
                                },
                                {
                                    "0": "2977",
                                    "1": "2019-08-21T18:54:44.809000",
                                    "2": "2019-08-21T19:00:03.649000",
                                    "3": "12",
                                    "4": "46",
                                    "5": "Subscriber",
                                    "6": "1984",
                                    "7": "2",
                                    "8": "2019",
                                    "9": "08",
                                    "10": "3",
                                    "11": "18",
                                    "12": "August   ",
                                    "13": "Wednesday",
                                    "14": "06:00 pm"
                                },
                                {
                                    "0": "3566",
                                    "1": "2019-08-31T23:13:22.557000",
                                    "2": "2019-08-31T23:18:23.863000",
                                    "3": "85",
                                    "4": "98",
                                    "5": "Subscriber",
                                    "6": "1964",
                                    "7": "1",
                                    "8": "2019",
                                    "9": "08",
                                    "10": "6",
                                    "11": "23",
                                    "12": "August   ",
                                    "13": "Saturday ",
                                    "14": "11:00 pm"
                                },
                                {
                                    "0": "4953",
                                    "1": "2019-08-24T15:21:13.882000",
                                    "2": "2019-08-24T15:48:07.182000",
                                    "3": "296",
                                    "4": "44",
                                    "5": "Subscriber",
                                    "6": "1992",
                                    "7": "1",
                                    "8": "2019",
                                    "9": "08",
                                    "10": "6",
                                    "11": "15",
                                    "12": "August   ",
                                    "13": "Saturday ",
                                    "14": "03:00 pm"
                                },
                                {
                                    "0": "3673",
                                    "1": "2019-05-07T15:36:31.487000",
                                    "2": "2019-05-07T15:44:51.258000",
                                    "3": "84",
                                    "4": "107",
                                    "5": "Subscriber",
                                    "6": "1981",
                                    "7": "1",
                                    "8": "2019",
                                    "9": "05",
                                    "10": "2",
                                    "11": "15",
                                    "12": "May      ",
                                    "13": "Tuesday  ",
                                    "14": "03:00 pm"
                                },
                                {
                                    "0": "2698",
                                    "1": "2019-12-09T12:42:21.179000",
                                    "2": "2019-12-09T12:54:20.750000",
                                    "3": "318",
                                    "4": "107",
                                    "5": "Subscriber",
                                    "6": "1982",
                                    "7": "1",
                                    "8": "2019",
                                    "9": "12",
                                    "10": "1",
                                    "11": "12",
                                    "12": "December ",
                                    "13": "Monday   ",
                                    "14": "12:00 pm"
                                },
                                {
                                    "0": "2464",
                                    "1": "2019-09-11T16:35:34.163000",
                                    "2": "2019-09-11T16:52:20.837000",
                                    "3": "272",
                                    "4": "411",
                                    "5": "Customer",
                                    "6": "1969",
                                    "7": "0",
                                    "8": "2019",
                                    "9": "09",
                                    "10": "3",
                                    "11": "16",
                                    "12": "September",
                                    "13": "Wednesday",
                                    "14": "04:00 pm"
                                }
                            ]
                        },
                        "text/html": "<table><tr><th>bike_id</th><th>start_time</th><th>end_time</th><th>start_station_id</th><th>end_station_id</th><th>user_type</th><th>user_birth_year</th><th>user_gender</th><th>year</th><th>month_no</th><th>day_no</th><th>hour_no</th><th>month</th><th>day</th><th>hour</th></tr><tr><td>4969</td><td>2019-10-01T17:14:11.550000</td><td>2019-10-01T17:19:48.732000</td><td>189</td><td>6</td><td>Customer</td><td>1969</td><td>0</td><td>2019</td><td>10</td><td>2</td><td>17</td><td>October  </td><td>Tuesday  </td><td>05:00 pm</td></tr><tr><td>2351</td><td>2019-02-11T08:25:33.832000</td><td>2019-02-11T08:54:57.301000</td><td>181</td><td>140</td><td>Subscriber</td><td>1977</td><td>1</td><td>2019</td><td>02</td><td>1</td><td>08</td><td>February </td><td>Monday   </td><td>08:00 am</td></tr><tr><td>4020</td><td>2019-12-08T12:55:23.969000</td><td>2019-12-08T13:07:26.428000</td><td>46</td><td>12</td><td>Subscriber</td><td>1961</td><td>2</td><td>2019</td><td>12</td><td>7</td><td>12</td><td>December </td><td>Sunday   </td><td>12:00 pm</td></tr><tr><td>5305</td><td>2019-09-22T14:52:37.610000</td><td>2019-09-22T15:12:47.534000</td><td>27</td><td>113</td><td>Customer</td><td>1969</td><td>0</td><td>2019</td><td>09</td><td>7</td><td>14</td><td>September</td><td>Sunday   </td><td>02:00 pm</td></tr><tr><td>2977</td><td>2019-08-21T18:54:44.809000</td><td>2019-08-21T19:00:03.649000</td><td>12</td><td>46</td><td>Subscriber</td><td>1984</td><td>2</td><td>2019</td><td>08</td><td>3</td><td>18</td><td>August   </td><td>Wednesday</td><td>06:00 pm</td></tr><tr><td>3566</td><td>2019-08-31T23:13:22.557000</td><td>2019-08-31T23:18:23.863000</td><td>85</td><td>98</td><td>Subscriber</td><td>1964</td><td>1</td><td>2019</td><td>08</td><td>6</td><td>23</td><td>August   </td><td>Saturday </td><td>11:00 pm</td></tr><tr><td>4953</td><td>2019-08-24T15:21:13.882000</td><td>2019-08-24T15:48:07.182000</td><td>296</td><td>44</td><td>Subscriber</td><td>1992</td><td>1</td><td>2019</td><td>08</td><td>6</td><td>15</td><td>August   </td><td>Saturday </td><td>03:00 pm</td></tr><tr><td>3673</td><td>2019-05-07T15:36:31.487000</td><td>2019-05-07T15:44:51.258000</td><td>84</td><td>107</td><td>Subscriber</td><td>1981</td><td>1</td><td>2019</td><td>05</td><td>2</td><td>15</td><td>May      </td><td>Tuesday  </td><td>03:00 pm</td></tr><tr><td>2698</td><td>2019-12-09T12:42:21.179000</td><td>2019-12-09T12:54:20.750000</td><td>318</td><td>107</td><td>Subscriber</td><td>1982</td><td>1</td><td>2019</td><td>12</td><td>1</td><td>12</td><td>December </td><td>Monday   </td><td>12:00 pm</td></tr><tr><td>2464</td><td>2019-09-11T16:35:34.163000</td><td>2019-09-11T16:52:20.837000</td><td>272</td><td>411</td><td>Customer</td><td>1969</td><td>0</td><td>2019</td><td>09</td><td>3</td><td>16</td><td>September</td><td>Wednesday</td><td>04:00 pm</td></tr></table>"
                    },
                    "metadata": {}
                }
            ],
            "execution_count": 51
        },
        {
            "cell_type": "code",
            "source": [
                "-- Top 5 busiest times overall\n",
                "\n",
                "select\n",
                "a.month,\n",
                "a.month_no,\n",
                "a.day,\n",
                "a.day_no,\n",
                "a.hour,\n",
                "a.hour_no,\n",
                "count(1) as riders\n",
                "from dates a\n",
                "group by a.month, a.month_no, a.day, a.day_no, a.hour, a.hour_no\n",
                "order by count(1) desc\n",
                "limit 5"
            ],
            "metadata": {
                "azdata_cell_guid": "7cfb7896-77cd-47af-baca-87ec16b51c49"
            },
            "outputs": [
                {
                    "output_type": "display_data",
                    "data": {
                        "text/html": "(5 row(s) affected)"
                    },
                    "metadata": {}
                },
                {
                    "output_type": "display_data",
                    "data": {
                        "text/html": "Total execution time: 00:00:07.868"
                    },
                    "metadata": {}
                },
                {
                    "output_type": "execute_result",
                    "execution_count": 4,
                    "data": {
                        "application/vnd.dataresource+json": {
                            "schema": {
                                "fields": [
                                    {
                                        "name": "month"
                                    },
                                    {
                                        "name": "month_no"
                                    },
                                    {
                                        "name": "day"
                                    },
                                    {
                                        "name": "day_no"
                                    },
                                    {
                                        "name": "hour"
                                    },
                                    {
                                        "name": "hour_no"
                                    },
                                    {
                                        "name": "riders"
                                    }
                                ]
                            },
                            "data": [
                                {
                                    "0": "October  ",
                                    "1": "10",
                                    "2": "Tuesday  ",
                                    "3": "2",
                                    "4": "05:00 pm",
                                    "5": "17",
                                    "6": "7827"
                                },
                                {
                                    "0": "July     ",
                                    "1": "07",
                                    "2": "Tuesday  ",
                                    "3": "2",
                                    "4": "05:00 pm",
                                    "5": "17",
                                    "6": "7752"
                                },
                                {
                                    "0": "August   ",
                                    "1": "08",
                                    "2": "Thursday ",
                                    "3": "4",
                                    "4": "05:00 pm",
                                    "5": "17",
                                    "6": "7606"
                                },
                                {
                                    "0": "July     ",
                                    "1": "07",
                                    "2": "Monday   ",
                                    "3": "1",
                                    "4": "05:00 pm",
                                    "5": "17",
                                    "6": "7490"
                                },
                                {
                                    "0": "September",
                                    "1": "09",
                                    "2": "Monday   ",
                                    "3": "1",
                                    "4": "05:00 pm",
                                    "5": "17",
                                    "6": "7070"
                                }
                            ]
                        },
                        "text/html": "<table><tr><th>month</th><th>month_no</th><th>day</th><th>day_no</th><th>hour</th><th>hour_no</th><th>riders</th></tr><tr><td>October  </td><td>10</td><td>Tuesday  </td><td>2</td><td>05:00 pm</td><td>17</td><td>7827</td></tr><tr><td>July     </td><td>07</td><td>Tuesday  </td><td>2</td><td>05:00 pm</td><td>17</td><td>7752</td></tr><tr><td>August   </td><td>08</td><td>Thursday </td><td>4</td><td>05:00 pm</td><td>17</td><td>7606</td></tr><tr><td>July     </td><td>07</td><td>Monday   </td><td>1</td><td>05:00 pm</td><td>17</td><td>7490</td></tr><tr><td>September</td><td>09</td><td>Monday   </td><td>1</td><td>05:00 pm</td><td>17</td><td>7070</td></tr></table>"
                    },
                    "metadata": {}
                }
            ],
            "execution_count": 4
        },
        {
            "cell_type": "code",
            "source": [
                "-- Top 5 busiest times of the week\n",
                "select\n",
                "a.day,\n",
                "a.hour,\n",
                "-- a.hour_no,\n",
                "count(1) as riders\n",
                "from dates a\n",
                "group by a.day, a.day_no, a.hour, a.hour_no\n",
                "order by count(1) desc\n",
                "limit 5"
            ],
            "metadata": {
                "azdata_cell_guid": "a75028f2-8084-419f-b0a9-4b14095f33ff"
            },
            "outputs": [
                {
                    "output_type": "display_data",
                    "data": {
                        "text/html": "(5 row(s) affected)"
                    },
                    "metadata": {}
                },
                {
                    "output_type": "display_data",
                    "data": {
                        "text/html": "Total execution time: 00:00:05.879"
                    },
                    "metadata": {}
                },
                {
                    "output_type": "execute_result",
                    "execution_count": 8,
                    "data": {
                        "application/vnd.dataresource+json": {
                            "schema": {
                                "fields": [
                                    {
                                        "name": "day"
                                    },
                                    {
                                        "name": "hour"
                                    },
                                    {
                                        "name": "riders"
                                    }
                                ]
                            },
                            "data": [
                                {
                                    "0": "Tuesday  ",
                                    "1": "05:00 pm",
                                    "2": "51038"
                                },
                                {
                                    "0": "Wednesday",
                                    "1": "05:00 pm",
                                    "2": "47938"
                                },
                                {
                                    "0": "Monday   ",
                                    "1": "05:00 pm",
                                    "2": "47914"
                                },
                                {
                                    "0": "Thursday ",
                                    "1": "05:00 pm",
                                    "2": "47861"
                                },
                                {
                                    "0": "Wednesday",
                                    "1": "08:00 am",
                                    "2": "46245"
                                }
                            ]
                        },
                        "text/html": "<table><tr><th>day</th><th>hour</th><th>riders</th></tr><tr><td>Tuesday  </td><td>05:00 pm</td><td>51038</td></tr><tr><td>Wednesday</td><td>05:00 pm</td><td>47938</td></tr><tr><td>Monday   </td><td>05:00 pm</td><td>47914</td></tr><tr><td>Thursday </td><td>05:00 pm</td><td>47861</td></tr><tr><td>Wednesday</td><td>08:00 am</td><td>46245</td></tr></table>"
                    },
                    "metadata": {}
                }
            ],
            "execution_count": 8
        },
        {
            "cell_type": "code",
            "source": [
                "-- Start Station ID by most riders at the busiest time (Tuesday @ 5:00pm)\n",
                "\n",
                "select\n",
                "    day_no,\n",
                "    hour_no,\n",
                "    start_station_id,\n",
                "    count(1) as riders\n",
                "    from dates\n",
                "    WHERE \n",
                "    (day_no, hour_no)\n",
                "    IN -- Busiest time\n",
                "        (select\n",
                "        a.day_no,\n",
                "        a.hour_no\n",
                "        from dates a\n",
                "        group by a.day, a.day_no, a.hour, a.hour_no\n",
                "        order by count(1) desc\n",
                "        limit 1\n",
                "        -- offset 1\n",
                "        )\n",
                "\n",
                "\n",
                "    group by day_no, hour_no, start_station_id\n",
                "    order by count(1) desc\n",
                "    limit 5"
            ],
            "metadata": {
                "azdata_cell_guid": "93bc5558-3ef9-404e-a878-2f87900b0c49"
            },
            "outputs": [
                {
                    "output_type": "display_data",
                    "data": {
                        "text/html": "(5 row(s) affected)"
                    },
                    "metadata": {}
                },
                {
                    "output_type": "display_data",
                    "data": {
                        "text/html": "Total execution time: 00:00:06.361"
                    },
                    "metadata": {}
                },
                {
                    "output_type": "execute_result",
                    "execution_count": 20,
                    "data": {
                        "application/vnd.dataresource+json": {
                            "schema": {
                                "fields": [
                                    {
                                        "name": "day_no"
                                    },
                                    {
                                        "name": "hour_no"
                                    },
                                    {
                                        "name": "start_station_id"
                                    },
                                    {
                                        "name": "riders"
                                    }
                                ]
                            },
                            "data": [
                                {
                                    "0": "2",
                                    "1": "17",
                                    "2": "107",
                                    "3": "2084"
                                },
                                {
                                    "0": "2",
                                    "1": "17",
                                    "2": "22",
                                    "3": "1674"
                                },
                                {
                                    "0": "2",
                                    "1": "17",
                                    "2": "80",
                                    "3": "1586"
                                },
                                {
                                    "0": "2",
                                    "1": "17",
                                    "2": "24",
                                    "3": "1214"
                                },
                                {
                                    "0": "2",
                                    "1": "17",
                                    "2": "67",
                                    "3": "1094"
                                }
                            ]
                        },
                        "text/html": "<table><tr><th>day_no</th><th>hour_no</th><th>start_station_id</th><th>riders</th></tr><tr><td>2</td><td>17</td><td>107</td><td>2084</td></tr><tr><td>2</td><td>17</td><td>22</td><td>1674</td></tr><tr><td>2</td><td>17</td><td>80</td><td>1586</td></tr><tr><td>2</td><td>17</td><td>24</td><td>1214</td></tr><tr><td>2</td><td>17</td><td>67</td><td>1094</td></tr></table>"
                    },
                    "metadata": {}
                }
            ],
            "execution_count": 20
        },
        {
            "cell_type": "code",
            "source": [
                "select\n",
                "end_station_id,\n",
                "count(1) as riders\n",
                "-- sum(count(1)) over() as total_riders\n",
                "from dates\n",
                "where day_no = '2'\n",
                "and hour_no = '17'\n",
                "and start_station_id = 107\n",
                "group by end_station_id\n",
                "order by count(1) desc\n",
                "limit 3"
            ],
            "metadata": {
                "azdata_cell_guid": "2dd65b6d-db38-49ea-9c79-b102b3cb9e73"
            },
            "outputs": [
                {
                    "output_type": "display_data",
                    "data": {
                        "text/html": "(3 row(s) affected)"
                    },
                    "metadata": {}
                },
                {
                    "output_type": "display_data",
                    "data": {
                        "text/html": "Total execution time: 00:00:00.642"
                    },
                    "metadata": {}
                },
                {
                    "output_type": "execute_result",
                    "execution_count": 24,
                    "data": {
                        "application/vnd.dataresource+json": {
                            "schema": {
                                "fields": [
                                    {
                                        "name": "end_station_id"
                                    },
                                    {
                                        "name": "riders"
                                    }
                                ]
                            },
                            "data": [
                                {
                                    "0": "190",
                                    "1": "124"
                                },
                                {
                                    "0": "68",
                                    "1": "91"
                                },
                                {
                                    "0": "178",
                                    "1": "82"
                                }
                            ]
                        },
                        "text/html": "<table><tr><th>end_station_id</th><th>riders</th></tr><tr><td>190</td><td>124</td></tr><tr><td>68</td><td>91</td></tr><tr><td>178</td><td>82</td></tr></table>"
                    },
                    "metadata": {}
                }
            ],
            "execution_count": 24
        },
        {
            "cell_type": "code",
            "source": [
                "-- Find the stations that are going to have the highest influx at peak times\n",
                "\n",
                "\n",
                "select \n",
                "end_station_id,\n",
                "count(1) as bikes_in\n",
                "-- sum(count(1)) over() as total_bikes,\n",
                "-- avg(count(1)) over() as avg_bikes\n",
                "from dates\n",
                "WHERE \n",
                "(day_no, hour_no, start_station_id)\n",
                "IN -- busiest stations from the busiest time\n",
                "    (select\n",
                "    day_no,\n",
                "    hour_no,\n",
                "    start_station_id\n",
                "    from dates\n",
                "    WHERE \n",
                "    (day_no, hour_no)\n",
                "    IN -- Busiest time\n",
                "        (select\n",
                "        a.day_no,\n",
                "        a.hour_no\n",
                "        from dates a\n",
                "        group by a.day, a.day_no, a.hour, a.hour_no\n",
                "        order by count(1) desc\n",
                "        limit 1\n",
                "        -- offset 1\n",
                "        )\n",
                "\n",
                "\n",
                "    group by day_no, hour_no, start_station_id\n",
                "    -- having count(1) > 150\n",
                "    -- limit 1\n",
                "\n",
                "    )\n",
                "\n",
                "\n",
                "group by end_station_id\n",
                "order by count(1) desc\n",
                "-- limit 3"
            ],
            "metadata": {
                "azdata_cell_guid": "1d372d25-91ce-4847-9cda-ddb276aa4053"
            },
            "outputs": [
                {
                    "output_type": "display_data",
                    "data": {
                        "text/html": "(15 row(s) affected)"
                    },
                    "metadata": {}
                },
                {
                    "output_type": "display_data",
                    "data": {
                        "text/html": "Total execution time: 00:00:06.736"
                    },
                    "metadata": {}
                },
                {
                    "output_type": "execute_result",
                    "execution_count": 19,
                    "data": {
                        "application/vnd.dataresource+json": {
                            "schema": {
                                "fields": [
                                    {
                                        "name": "end_station_id"
                                    },
                                    {
                                        "name": "bikes_in"
                                    }
                                ]
                            },
                            "data": [
                                {
                                    "0": "234",
                                    "1": "5"
                                },
                                {
                                    "0": "71",
                                    "1": "4"
                                },
                                {
                                    "0": "99",
                                    "1": "2"
                                },
                                {
                                    "0": "236",
                                    "1": "2"
                                },
                                {
                                    "0": "149",
                                    "1": "1"
                                },
                                {
                                    "0": "156",
                                    "1": "1"
                                },
                                {
                                    "0": "177",
                                    "1": "1"
                                },
                                {
                                    "0": "188",
                                    "1": "1"
                                },
                                {
                                    "0": "235",
                                    "1": "1"
                                },
                                {
                                    "0": "390",
                                    "1": "1"
                                },
                                {
                                    "0": "1",
                                    "1": "1"
                                },
                                {
                                    "0": "408",
                                    "1": "1"
                                },
                                {
                                    "0": "58",
                                    "1": "1"
                                },
                                {
                                    "0": "94",
                                    "1": "1"
                                },
                                {
                                    "0": "115",
                                    "1": "1"
                                }
                            ]
                        },
                        "text/html": "<table><tr><th>end_station_id</th><th>bikes_in</th></tr><tr><td>234</td><td>5</td></tr><tr><td>71</td><td>4</td></tr><tr><td>99</td><td>2</td></tr><tr><td>236</td><td>2</td></tr><tr><td>149</td><td>1</td></tr><tr><td>156</td><td>1</td></tr><tr><td>177</td><td>1</td></tr><tr><td>188</td><td>1</td></tr><tr><td>235</td><td>1</td></tr><tr><td>390</td><td>1</td></tr><tr><td>1</td><td>1</td></tr><tr><td>408</td><td>1</td></tr><tr><td>58</td><td>1</td></tr><tr><td>94</td><td>1</td></tr><tr><td>115</td><td>1</td></tr></table>"
                    },
                    "metadata": {}
                }
            ],
            "execution_count": 19
        },
        {
            "cell_type": "code",
            "source": [
                ""
            ],
            "metadata": {
                "azdata_cell_guid": "1a7ae794-0762-4012-959c-3fe7e674b592"
            },
            "outputs": [],
            "execution_count": null
        },
        {
            "cell_type": "code",
            "source": [
                "    select\n",
                "    month_no,\n",
                "    day_no,\n",
                "    hour_no,\n",
                "    start_station_id,\n",
                "    count(1) as riders,\n",
                "    sum(count(1)) over() as total\n",
                "    from dates\n",
                "    WHERE \n",
                "    (month_no, day_no, hour_no)\n",
                "    IN -- 5 busiest times\n",
                "        (select\n",
                "        a.month_no,\n",
                "        a.day_no,\n",
                "        a.hour_no\n",
                "        from agg_2019 a\n",
                "        group by a.month, a.month_no, a.day, a.day_no, a.hour, a.hour_no\n",
                "        order by sum(a.riders) desc\n",
                "        limit 5)\n",
                "\n",
                "\n",
                "    group by month_no, day_no, hour_no, start_station_id\n",
                "    having count(1) > 150"
            ],
            "metadata": {
                "azdata_cell_guid": "187bd8cc-5c69-44a1-9dd4-63e622284614"
            },
            "outputs": [
                {
                    "output_type": "display_data",
                    "data": {
                        "text/html": "(25 row(s) affected)"
                    },
                    "metadata": {}
                },
                {
                    "output_type": "display_data",
                    "data": {
                        "text/html": "Total execution time: 00:00:00.946"
                    },
                    "metadata": {}
                },
                {
                    "output_type": "execute_result",
                    "execution_count": 101,
                    "data": {
                        "application/vnd.dataresource+json": {
                            "schema": {
                                "fields": [
                                    {
                                        "name": "month_no"
                                    },
                                    {
                                        "name": "day_no"
                                    },
                                    {
                                        "name": "hour_no"
                                    },
                                    {
                                        "name": "start_station_id"
                                    },
                                    {
                                        "name": "riders"
                                    },
                                    {
                                        "name": "total"
                                    }
                                ]
                            },
                            "data": [
                                {
                                    "0": "07",
                                    "1": "1",
                                    "2": "17",
                                    "3": "22",
                                    "4": "319",
                                    "5": "6151"
                                },
                                {
                                    "0": "07",
                                    "1": "1",
                                    "2": "17",
                                    "3": "24",
                                    "4": "204",
                                    "5": "6151"
                                },
                                {
                                    "0": "07",
                                    "1": "1",
                                    "2": "17",
                                    "3": "67",
                                    "4": "151",
                                    "5": "6151"
                                },
                                {
                                    "0": "07",
                                    "1": "1",
                                    "2": "17",
                                    "3": "107",
                                    "4": "377",
                                    "5": "6151"
                                },
                                {
                                    "0": "07",
                                    "1": "1",
                                    "2": "17",
                                    "3": "189",
                                    "4": "158",
                                    "5": "6151"
                                },
                                {
                                    "0": "07",
                                    "1": "2",
                                    "2": "17",
                                    "3": "22",
                                    "4": "333",
                                    "5": "6151"
                                },
                                {
                                    "0": "07",
                                    "1": "2",
                                    "2": "17",
                                    "3": "24",
                                    "4": "244",
                                    "5": "6151"
                                },
                                {
                                    "0": "07",
                                    "1": "2",
                                    "2": "17",
                                    "3": "67",
                                    "4": "169",
                                    "5": "6151"
                                },
                                {
                                    "0": "07",
                                    "1": "2",
                                    "2": "17",
                                    "3": "68",
                                    "4": "154",
                                    "5": "6151"
                                },
                                {
                                    "0": "07",
                                    "1": "2",
                                    "2": "17",
                                    "3": "107",
                                    "4": "419",
                                    "5": "6151"
                                },
                                {
                                    "0": "08",
                                    "1": "4",
                                    "2": "17",
                                    "3": "22",
                                    "4": "259",
                                    "5": "6151"
                                },
                                {
                                    "0": "08",
                                    "1": "4",
                                    "2": "17",
                                    "3": "24",
                                    "4": "227",
                                    "5": "6151"
                                },
                                {
                                    "0": "08",
                                    "1": "4",
                                    "2": "17",
                                    "3": "68",
                                    "4": "158",
                                    "5": "6151"
                                },
                                {
                                    "0": "08",
                                    "1": "4",
                                    "2": "17",
                                    "3": "80",
                                    "4": "171",
                                    "5": "6151"
                                },
                                {
                                    "0": "08",
                                    "1": "4",
                                    "2": "17",
                                    "3": "107",
                                    "4": "408",
                                    "5": "6151"
                                },
                                {
                                    "0": "09",
                                    "1": "1",
                                    "2": "17",
                                    "3": "22",
                                    "4": "234",
                                    "5": "6151"
                                },
                                {
                                    "0": "09",
                                    "1": "1",
                                    "2": "17",
                                    "3": "24",
                                    "4": "216",
                                    "5": "6151"
                                },
                                {
                                    "0": "09",
                                    "1": "1",
                                    "2": "17",
                                    "3": "80",
                                    "4": "197",
                                    "5": "6151"
                                },
                                {
                                    "0": "09",
                                    "1": "1",
                                    "2": "17",
                                    "3": "107",
                                    "4": "441",
                                    "5": "6151"
                                },
                                {
                                    "0": "10",
                                    "1": "2",
                                    "2": "17",
                                    "3": "22",
                                    "4": "213",
                                    "5": "6151"
                                },
                                {
                                    "0": "10",
                                    "1": "2",
                                    "2": "17",
                                    "3": "24",
                                    "4": "185",
                                    "5": "6151"
                                },
                                {
                                    "0": "10",
                                    "1": "2",
                                    "2": "17",
                                    "3": "67",
                                    "4": "163",
                                    "5": "6151"
                                },
                                {
                                    "0": "10",
                                    "1": "2",
                                    "2": "17",
                                    "3": "68",
                                    "4": "156",
                                    "5": "6151"
                                },
                                {
                                    "0": "10",
                                    "1": "2",
                                    "2": "17",
                                    "3": "80",
                                    "4": "206",
                                    "5": "6151"
                                },
                                {
                                    "0": "10",
                                    "1": "2",
                                    "2": "17",
                                    "3": "107",
                                    "4": "389",
                                    "5": "6151"
                                }
                            ]
                        },
                        "text/html": "<table><tr><th>month_no</th><th>day_no</th><th>hour_no</th><th>start_station_id</th><th>riders</th><th>total</th></tr><tr><td>07</td><td>1</td><td>17</td><td>22</td><td>319</td><td>6151</td></tr><tr><td>07</td><td>1</td><td>17</td><td>24</td><td>204</td><td>6151</td></tr><tr><td>07</td><td>1</td><td>17</td><td>67</td><td>151</td><td>6151</td></tr><tr><td>07</td><td>1</td><td>17</td><td>107</td><td>377</td><td>6151</td></tr><tr><td>07</td><td>1</td><td>17</td><td>189</td><td>158</td><td>6151</td></tr><tr><td>07</td><td>2</td><td>17</td><td>22</td><td>333</td><td>6151</td></tr><tr><td>07</td><td>2</td><td>17</td><td>24</td><td>244</td><td>6151</td></tr><tr><td>07</td><td>2</td><td>17</td><td>67</td><td>169</td><td>6151</td></tr><tr><td>07</td><td>2</td><td>17</td><td>68</td><td>154</td><td>6151</td></tr><tr><td>07</td><td>2</td><td>17</td><td>107</td><td>419</td><td>6151</td></tr><tr><td>08</td><td>4</td><td>17</td><td>22</td><td>259</td><td>6151</td></tr><tr><td>08</td><td>4</td><td>17</td><td>24</td><td>227</td><td>6151</td></tr><tr><td>08</td><td>4</td><td>17</td><td>68</td><td>158</td><td>6151</td></tr><tr><td>08</td><td>4</td><td>17</td><td>80</td><td>171</td><td>6151</td></tr><tr><td>08</td><td>4</td><td>17</td><td>107</td><td>408</td><td>6151</td></tr><tr><td>09</td><td>1</td><td>17</td><td>22</td><td>234</td><td>6151</td></tr><tr><td>09</td><td>1</td><td>17</td><td>24</td><td>216</td><td>6151</td></tr><tr><td>09</td><td>1</td><td>17</td><td>80</td><td>197</td><td>6151</td></tr><tr><td>09</td><td>1</td><td>17</td><td>107</td><td>441</td><td>6151</td></tr><tr><td>10</td><td>2</td><td>17</td><td>22</td><td>213</td><td>6151</td></tr><tr><td>10</td><td>2</td><td>17</td><td>24</td><td>185</td><td>6151</td></tr><tr><td>10</td><td>2</td><td>17</td><td>67</td><td>163</td><td>6151</td></tr><tr><td>10</td><td>2</td><td>17</td><td>68</td><td>156</td><td>6151</td></tr><tr><td>10</td><td>2</td><td>17</td><td>80</td><td>206</td><td>6151</td></tr><tr><td>10</td><td>2</td><td>17</td><td>107</td><td>389</td><td>6151</td></tr></table>"
                    },
                    "metadata": {}
                }
            ],
            "execution_count": 101
        },
        {
            "cell_type": "code",
            "source": [
                ""
            ],
            "metadata": {
                "azdata_cell_guid": "69681e87-9b0b-498d-ba38-cd11723e8b33"
            },
            "outputs": [],
            "execution_count": null
        },
        {
            "cell_type": "code",
            "source": [
                ""
            ],
            "metadata": {
                "azdata_cell_guid": "90fffb4c-d347-475c-aecb-9e9082f02724"
            },
            "outputs": [],
            "execution_count": null
        },
        {
            "cell_type": "code",
            "source": [
                ""
            ],
            "metadata": {
                "azdata_cell_guid": "06028c3f-cbd4-4d22-8146-0662e2921f50"
            },
            "outputs": [],
            "execution_count": null
        },
        {
            "cell_type": "code",
            "source": [
                ""
            ],
            "metadata": {
                "azdata_cell_guid": "4cc20d7a-457d-4ee3-8d60-67cb00af2408"
            },
            "outputs": [],
            "execution_count": null
        },
        {
            "cell_type": "code",
            "source": [
                ""
            ],
            "metadata": {
                "azdata_cell_guid": "efbd1780-9aec-44e7-ac18-ecd7abf970bb"
            },
            "outputs": [],
            "execution_count": null
        },
        {
            "cell_type": "code",
            "source": [
                ""
            ],
            "metadata": {
                "azdata_cell_guid": "6c221bce-5f5d-49de-a122-6861ba0636f8"
            },
            "outputs": [],
            "execution_count": null
        },
        {
            "cell_type": "code",
            "source": [
                ""
            ],
            "metadata": {
                "azdata_cell_guid": "71ed3f46-d63b-4d9b-8367-27c82a0c9395"
            },
            "outputs": [],
            "execution_count": null
        },
        {
            "cell_type": "code",
            "source": [
                ""
            ],
            "metadata": {
                "azdata_cell_guid": "371489c7-3f61-4b1a-9478-604fe95da793"
            },
            "outputs": [],
            "execution_count": null
        },
        {
            "cell_type": "code",
            "source": [
                ""
            ],
            "metadata": {
                "azdata_cell_guid": "0ace1be2-2169-43aa-93d4-43a834e9aa35"
            },
            "outputs": [],
            "execution_count": null
        },
        {
            "cell_type": "code",
            "source": [
                ""
            ],
            "metadata": {
                "azdata_cell_guid": "a0c33a35-eb16-4dc2-8cc7-2c9de26afc0b"
            },
            "outputs": [],
            "execution_count": null
        },
        {
            "cell_type": "code",
            "source": [
                ""
            ],
            "metadata": {
                "azdata_cell_guid": "31575235-4305-4dcb-bd16-df7ba85fae2f"
            },
            "outputs": [],
            "execution_count": null
        },
        {
            "cell_type": "code",
            "source": [
                ""
            ],
            "metadata": {
                "azdata_cell_guid": "77c5c9ad-f4ac-4c0e-9766-5469ccd459de"
            },
            "outputs": [],
            "execution_count": null
        },
        {
            "cell_type": "code",
            "source": [
                ""
            ],
            "metadata": {
                "azdata_cell_guid": "777c75bd-530b-4ea3-b24b-fd0e20c2765c"
            },
            "outputs": [],
            "execution_count": null
        },
        {
            "cell_type": "code",
            "source": [
                ""
            ],
            "metadata": {
                "azdata_cell_guid": "aaba4ecf-f2f5-419d-a557-5a17aff9a7b4"
            },
            "outputs": [],
            "execution_count": null
        }
    ]
}