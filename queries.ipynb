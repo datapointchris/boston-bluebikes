{
    "metadata": {
        "kernelspec": {
            "name": "SQL",
            "display_name": "SQL",
            "language": "sql"
        },
        "language_info": {
            "name": "sql",
            "version": ""
        }
    },
    "nbformat_minor": 2,
    "nbformat": 4,
    "cells": [
        {
            "cell_type": "code",
            "source": [
                "-- Rider type by category overall\n",
                "\n",
                "select user_type,\n",
                "count(*) / (cast(sum(count(*)) over() as float)) as percentage\n",
                "from bluebikes_2019\n",
                "group by user_type"
            ],
            "metadata": {
                "azdata_cell_guid": "12bb2717-e69e-4d08-a1c5-9cad64d1d010",
                "tags": []
            },
            "outputs": [
{
    "output_type": "display_data",
    "data": {
        "text/html": "(2 row(s) affected)"
    },
    "metadata": {}
}, {
    "output_type": "display_data",
    "data": {
        "text/html": "Total execution time: 00:00:00.779"
    },
    "metadata": {}
}, {
    "output_type": "execute_result",
    "metadata": {},
    "execution_count": 180,
    "data": {
        "application/vnd.dataresource+json": {
            "schema": {
                "fields": [
                    {
                        "name": "user_type"
                    },
                    {
                        "name": "percentage"
                    }
                ]
            },
            "data": [
                {
                    "0": "Customer",
                    "1": "0.21171939202477505"
                },
                {
                    "0": "Subscriber",
                    "1": "0.7882806079752249"
                }
            ]
        },
        "text/html": [
            "<table>",
            "<tr><th>user_type</th><th>percentage</th></tr>",
            "<tr><td>Customer</td><td>0.21171939202477505</td></tr>",
            "<tr><td>Subscriber</td><td>0.7882806079752249</td></tr>",
            "</table>"
        ]
    }
}
],
            "execution_count": 180
        },
        {
            "cell_type": "code",
            "source": [
                "-- Rider type by category by quarter\n",
                "\n",
                "with q as(\n",
                "    select user_type,\n",
                "    ntile(4) over(order by start_time) as quarter\n",
                "    from bluebikes_2018\n",
                "    )\n",
                "\n",
                "select user_type, quarter,\n",
                "count(*) as rides,\n",
                "count(*) / (cast(sum(count(*)) over(partition by quarter) as float)) as percentage\n",
                "from q\n",
                "group by quarter, user_type\n",
                "order by quarter, percentage desc"
            ],
            "metadata": {
                "azdata_cell_guid": "df75b57d-9fca-4c89-b623-7fb3be7faaeb"
            },
            "outputs": [
{
    "output_type": "display_data",
    "data": {
        "text/html": "(8 row(s) affected)"
    },
    "metadata": {}
}, {
    "output_type": "display_data",
    "data": {
        "text/html": "Total execution time: 00:00:01.807"
    },
    "metadata": {}
}, {
    "output_type": "execute_result",
    "metadata": {},
    "execution_count": 181,
    "data": {
        "application/vnd.dataresource+json": {
            "schema": {
                "fields": [
                    {
                        "name": "user_type"
                    },
                    {
                        "name": "quarter"
                    },
                    {
                        "name": "rides"
                    },
                    {
                        "name": "percentage"
                    }
                ]
            },
            "data": [
                {
                    "0": "Subscriber",
                    "1": "1",
                    "2": "386792",
                    "3": "0.8751900658895083"
                },
                {
                    "0": "Customer",
                    "1": "1",
                    "2": "55160",
                    "3": "0.12480993411049164"
                },
                {
                    "0": "Subscriber",
                    "1": "2",
                    "2": "339276",
                    "3": "0.7676761277242777"
                },
                {
                    "0": "Customer",
                    "1": "2",
                    "2": "102676",
                    "3": "0.23232387227572224"
                },
                {
                    "0": "Subscriber",
                    "1": "3",
                    "2": "333140",
                    "3": "0.7537939726349754"
                },
                {
                    "0": "Customer",
                    "1": "3",
                    "2": "108811",
                    "3": "0.24620602736502462"
                },
                {
                    "0": "Subscriber",
                    "1": "4",
                    "2": "377469",
                    "3": "0.8540969473991461"
                },
                {
                    "0": "Customer",
                    "1": "4",
                    "2": "64482",
                    "3": "0.14590305260085393"
                }
            ]
        },
        "text/html": [
            "<table>",
            "<tr><th>user_type</th><th>quarter</th><th>rides</th><th>percentage</th></tr>",
            "<tr><td>Subscriber</td><td>1</td><td>386792</td><td>0.8751900658895083</td></tr>",
            "<tr><td>Customer</td><td>1</td><td>55160</td><td>0.12480993411049164</td></tr>",
            "<tr><td>Subscriber</td><td>2</td><td>339276</td><td>0.7676761277242777</td></tr>",
            "<tr><td>Customer</td><td>2</td><td>102676</td><td>0.23232387227572224</td></tr>",
            "<tr><td>Subscriber</td><td>3</td><td>333140</td><td>0.7537939726349754</td></tr>",
            "<tr><td>Customer</td><td>3</td><td>108811</td><td>0.24620602736502462</td></tr>",
            "<tr><td>Subscriber</td><td>4</td><td>377469</td><td>0.8540969473991461</td></tr>",
            "<tr><td>Customer</td><td>4</td><td>64482</td><td>0.14590305260085393</td></tr>",
            "</table>"
        ]
    }
}
],
            "execution_count": 181
        },
        {
            "cell_type": "code",
            "source": [
                "-- Rider type by gender by month\n",
                "\n",
                "select\n",
                "case when user_gender = 1 then 'male' else 'female' end as gender,\n",
                "To_Char(start_time, 'Month') as month,\n",
                "count(*) as rides,\n",
                "round(count(*) / sum(count(*)) over(partition by To_Char(start_time, 'Month')), 4) * 100 as percentage\n",
                "from bluebikes_2018\n",
                "group by extract(month from start_time), month, gender\n",
                "order by extract(month from start_time), rides desc"
            ],
            "metadata": {
                "azdata_cell_guid": "99bbc616-3580-49f8-af23-1ce66bbb8aac"
            },
            "outputs": [
{
    "output_type": "display_data",
    "data": {
        "text/html": "(24 row(s) affected)"
    },
    "metadata": {}
}, {
    "output_type": "display_data",
    "data": {
        "text/html": "Total execution time: 00:00:02.471"
    },
    "metadata": {}
}, {
    "output_type": "execute_result",
    "metadata": {},
    "execution_count": 182,
    "data": {
        "application/vnd.dataresource+json": {
            "schema": {
                "fields": [
                    {
                        "name": "gender"
                    },
                    {
                        "name": "month"
                    },
                    {
                        "name": "rides"
                    },
                    {
                        "name": "percentage"
                    }
                ]
            },
            "data": [
                {
                    "0": "male",
                    "1": "January  ",
                    "2": "30689",
                    "3": "74.9800"
                },
                {
                    "0": "female",
                    "1": "January  ",
                    "2": "10243",
                    "3": "25.0200"
                },
                {
                    "0": "male",
                    "1": "February ",
                    "2": "45380",
                    "3": "72.2400"
                },
                {
                    "0": "female",
                    "1": "February ",
                    "2": "17437",
                    "3": "27.7600"
                },
                {
                    "0": "male",
                    "1": "March    ",
                    "2": "44814",
                    "3": "71.1500"
                },
                {
                    "0": "female",
                    "1": "March    ",
                    "2": "18171",
                    "3": "28.8500"
                },
                {
                    "0": "male",
                    "1": "April    ",
                    "2": "65357",
                    "3": "66.5600"
                },
                {
                    "0": "female",
                    "1": "April    ",
                    "2": "32837",
                    "3": "33.4400"
                },
                {
                    "0": "male",
                    "1": "May      ",
                    "2": "113058",
                    "3": "63.2100"
                },
                {
                    "0": "female",
                    "1": "May      ",
                    "2": "65807",
                    "3": "36.7900"
                },
                {
                    "0": "male",
                    "1": "June     ",
                    "2": "127027",
                    "3": "61.8600"
                },
                {
                    "0": "female",
                    "1": "June     ",
                    "2": "78332",
                    "3": "38.1400"
                },
                {
                    "0": "male",
                    "1": "July     ",
                    "2": "146836",
                    "3": "60.4500"
                },
                {
                    "0": "female",
                    "1": "July     ",
                    "2": "96080",
                    "3": "39.5500"
                },
                {
                    "0": "male",
                    "1": "August   ",
                    "2": "144270",
                    "3": "61.1100"
                },
                {
                    "0": "female",
                    "1": "August   ",
                    "2": "91806",
                    "3": "38.8900"
                },
                {
                    "0": "male",
                    "1": "September",
                    "2": "146175",
                    "3": "61.8900"
                },
                {
                    "0": "female",
                    "1": "September",
                    "2": "90007",
                    "3": "38.1100"
                },
                {
                    "0": "male",
                    "1": "October  ",
                    "2": "134067",
                    "3": "67.0000"
                },
                {
                    "0": "female",
                    "1": "October  ",
                    "2": "66033",
                    "3": "33.0000"
                },
                {
                    "0": "male",
                    "1": "November ",
                    "2": "85108",
                    "3": "70.0900"
                },
                {
                    "0": "female",
                    "1": "November ",
                    "2": "36311",
                    "3": "29.9100"
                },
                {
                    "0": "male",
                    "1": "December ",
                    "2": "58954",
                    "3": "71.9300"
                },
                {
                    "0": "female",
                    "1": "December ",
                    "2": "23007",
                    "3": "28.0700"
                }
            ]
        },
        "text/html": [
            "<table>",
            "<tr><th>gender</th><th>month</th><th>rides</th><th>percentage</th></tr>",
            "<tr><td>male</td><td>January  </td><td>30689</td><td>74.9800</td></tr>",
            "<tr><td>female</td><td>January  </td><td>10243</td><td>25.0200</td></tr>",
            "<tr><td>male</td><td>February </td><td>45380</td><td>72.2400</td></tr>",
            "<tr><td>female</td><td>February </td><td>17437</td><td>27.7600</td></tr>",
            "<tr><td>male</td><td>March    </td><td>44814</td><td>71.1500</td></tr>",
            "<tr><td>female</td><td>March    </td><td>18171</td><td>28.8500</td></tr>",
            "<tr><td>male</td><td>April    </td><td>65357</td><td>66.5600</td></tr>",
            "<tr><td>female</td><td>April    </td><td>32837</td><td>33.4400</td></tr>",
            "<tr><td>male</td><td>May      </td><td>113058</td><td>63.2100</td></tr>",
            "<tr><td>female</td><td>May      </td><td>65807</td><td>36.7900</td></tr>",
            "<tr><td>male</td><td>June     </td><td>127027</td><td>61.8600</td></tr>",
            "<tr><td>female</td><td>June     </td><td>78332</td><td>38.1400</td></tr>",
            "<tr><td>male</td><td>July     </td><td>146836</td><td>60.4500</td></tr>",
            "<tr><td>female</td><td>July     </td><td>96080</td><td>39.5500</td></tr>",
            "<tr><td>male</td><td>August   </td><td>144270</td><td>61.1100</td></tr>",
            "<tr><td>female</td><td>August   </td><td>91806</td><td>38.8900</td></tr>",
            "<tr><td>male</td><td>September</td><td>146175</td><td>61.8900</td></tr>",
            "<tr><td>female</td><td>September</td><td>90007</td><td>38.1100</td></tr>",
            "<tr><td>male</td><td>October  </td><td>134067</td><td>67.0000</td></tr>",
            "<tr><td>female</td><td>October  </td><td>66033</td><td>33.0000</td></tr>",
            "<tr><td>male</td><td>November </td><td>85108</td><td>70.0900</td></tr>",
            "<tr><td>female</td><td>November </td><td>36311</td><td>29.9100</td></tr>",
            "<tr><td>male</td><td>December </td><td>58954</td><td>71.9300</td></tr>",
            "<tr><td>female</td><td>December </td><td>23007</td><td>28.0700</td></tr>",
            "</table>"
        ]
    }
}
],
            "execution_count": 182
        },
        {
            "cell_type": "code",
            "source": [
                "-- Riders by age group\n",
                "\n",
                "select \n",
                "count(1) as riders,\n",
                "-- 2018 - trunc(cast(user_birth_year as numeric), 0), # this is for sanity testing\n",
                "case \n",
                "    when (trunc(cast(user_birth_year as numeric), 0) || '-01-01')::timestamp > '2018-01-01'::timestamp - interval '12 years' then 'under_12'\n",
                "    when (trunc(cast(user_birth_year as numeric), 0) || '-01-01')::timestamp > '2018-01-01'::timestamp - interval '20 years' then 'teenager'\n",
                "    when (trunc(cast(user_birth_year as numeric), 0) || '-01-01')::timestamp > '2018-01-01'::timestamp - interval '30 years' then '20s'\n",
                "    when (trunc(cast(user_birth_year as numeric), 0) || '-01-01')::timestamp > '2018-01-01'::timestamp - interval '40 years' then '30s'\n",
                "    when (trunc(cast(user_birth_year as numeric), 0) || '-01-01')::timestamp > '2018-01-01'::timestamp - interval '50 years' then '40s'\n",
                "    when (trunc(cast(user_birth_year as numeric), 0) || '-01-01')::timestamp > '2018-01-01'::timestamp - interval '60 years' then '50s'\n",
                "    when (trunc(cast(user_birth_year as numeric), 0) || '-01-01')::timestamp > '2018-01-01'::timestamp - interval '70 years' then '60s'\n",
                "    when (trunc(cast(user_birth_year as numeric), 0) || '-01-01')::timestamp > '2018-01-01'::timestamp - interval '80 years' then '70s'\n",
                "    when (trunc(cast(user_birth_year as numeric), 0) || '-01-01')::timestamp > '2018-01-01'::timestamp - interval '90 years' then '80s'\n",
                "    when (trunc(cast(user_birth_year as numeric), 0) || '-01-01')::timestamp > '2018-01-01'::timestamp - interval '90 years' then '80s'\n",
                "    else 'older' end as age_group,\n",
                "round(count(1) / sum(count(1)) over(), 4) * 100 as percentage\n",
                "from bluebikes_2018\n",
                "group by age_group\n",
                "order by percentage desc\n",
                "-- limit 500"
            ],
            "metadata": {
                "azdata_cell_guid": "4e9e5ea3-cb02-49a9-8d80-08e0aced022b"
            },
            "outputs": [
{
    "output_type": "display_data",
    "data": {
        "text/html": "(9 row(s) affected)"
    },
    "metadata": {}
}, {
    "output_type": "display_data",
    "data": {
        "text/html": "Total execution time: 00:00:04.440"
    },
    "metadata": {}
}, {
    "output_type": "execute_result",
    "metadata": {},
    "execution_count": 183,
    "data": {
        "application/vnd.dataresource+json": {
            "schema": {
                "fields": [
                    {
                        "name": "riders"
                    },
                    {
                        "name": "age_group"
                    },
                    {
                        "name": "percentage"
                    }
                ]
            },
            "data": [
                {
                    "0": "699781",
                    "1": "20s",
                    "2": "39.5800"
                },
                {
                    "0": "465235",
                    "1": "30s",
                    "2": "26.3200"
                },
                {
                    "0": "383585",
                    "1": "40s",
                    "2": "21.7000"
                },
                {
                    "0": "122924",
                    "1": "50s",
                    "2": "6.9500"
                },
                {
                    "0": "48958",
                    "1": "60s",
                    "2": "2.7700"
                },
                {
                    "0": "30925",
                    "1": "teenager",
                    "2": "1.7500"
                },
                {
                    "0": "9994",
                    "1": "older",
                    "2": "0.5700"
                },
                {
                    "0": "6125",
                    "1": "70s",
                    "2": "0.3500"
                },
                {
                    "0": "279",
                    "1": "80s",
                    "2": "0.0200"
                }
            ]
        },
        "text/html": [
            "<table>",
            "<tr><th>riders</th><th>age_group</th><th>percentage</th></tr>",
            "<tr><td>699781</td><td>20s</td><td>39.5800</td></tr>",
            "<tr><td>465235</td><td>30s</td><td>26.3200</td></tr>",
            "<tr><td>383585</td><td>40s</td><td>21.7000</td></tr>",
            "<tr><td>122924</td><td>50s</td><td>6.9500</td></tr>",
            "<tr><td>48958</td><td>60s</td><td>2.7700</td></tr>",
            "<tr><td>30925</td><td>teenager</td><td>1.7500</td></tr>",
            "<tr><td>9994</td><td>older</td><td>0.5700</td></tr>",
            "<tr><td>6125</td><td>70s</td><td>0.3500</td></tr>",
            "<tr><td>279</td><td>80s</td><td>0.0200</td></tr>",
            "</table>"
        ]
    }
}
],
            "execution_count": 183
        },
        {
            "cell_type": "code",
            "source": [
                "-- Riders by gender and age group\n",
                "\n",
                "select count(1) as riders,\n",
                "       case\n",
                "           when user_gender = 1 then 'male'\n",
                "           when user_gender = 2 then 'female'\n",
                "           else 'unspecified'\n",
                "       end as gender, -- 2018 - trunc(cast(user_birth_year as numeric), 0), # this is for sanity testing\n",
                "case\n",
                "    when (trunc(cast(user_birth_year as numeric), 0) || '-01-01')::timestamp > '2018-01-01'::timestamp - interval '12 years' then 'under_12'\n",
                "    when (trunc(cast(user_birth_year as numeric), 0) || '-01-01')::timestamp > '2018-01-01'::timestamp - interval '20 years' then 'teenager'\n",
                "    when (trunc(cast(user_birth_year as numeric), 0) || '-01-01')::timestamp > '2018-01-01'::timestamp - interval '30 years' then '20s'\n",
                "    when (trunc(cast(user_birth_year as numeric), 0) || '-01-01')::timestamp > '2018-01-01'::timestamp - interval '40 years' then '30s'\n",
                "    when (trunc(cast(user_birth_year as numeric), 0) || '-01-01')::timestamp > '2018-01-01'::timestamp - interval '50 years' then '40s'\n",
                "    when (trunc(cast(user_birth_year as numeric), 0) || '-01-01')::timestamp > '2018-01-01'::timestamp - interval '60 years' then '50s'\n",
                "    when (trunc(cast(user_birth_year as numeric), 0) || '-01-01')::timestamp > '2018-01-01'::timestamp - interval '70 years' then '60s'\n",
                "    when (trunc(cast(user_birth_year as numeric), 0) || '-01-01')::timestamp > '2018-01-01'::timestamp - interval '80 years' then '70s'\n",
                "    when (trunc(cast(user_birth_year as numeric), 0) || '-01-01')::timestamp > '2018-01-01'::timestamp - interval '90 years' then '80s'\n",
                "    when (trunc(cast(user_birth_year as numeric), 0) || '-01-01')::timestamp > '2018-01-01'::timestamp - interval '90 years' then '80s'\n",
                "    else 'older'\n",
                "    end as age_group,\n",
                "round(count(1) / sum(count(1)) over(), 4) * 100 as percentage\n",
                "-- round(count(1) / sum(count(1)) over(partition by age_group), 4) * 100 as age_group_percent\n",
                "from bluebikes_2018\n",
                "group by age_group, gender\n",
                "order by age_group, gender -- limit 500"
            ],
            "metadata": {
                "azdata_cell_guid": "e33e4753-6d7d-41d0-bf2d-dd280f4e14f2"
            },
            "outputs": [
{
    "output_type": "display_data",
    "data": {
        "text/html": "(26 row(s) affected)"
    },
    "metadata": {}
}, {
    "output_type": "display_data",
    "data": {
        "text/html": "Total execution time: 00:00:04.580"
    },
    "metadata": {}
}, {
    "output_type": "execute_result",
    "metadata": {},
    "execution_count": 184,
    "data": {
        "application/vnd.dataresource+json": {
            "schema": {
                "fields": [
                    {
                        "name": "riders"
                    },
                    {
                        "name": "gender"
                    },
                    {
                        "name": "age_group"
                    },
                    {
                        "name": "percentage"
                    }
                ]
            },
            "data": [
                {
                    "0": "198274",
                    "1": "female",
                    "2": "20s",
                    "3": "11.2200"
                },
                {
                    "0": "497868",
                    "1": "male",
                    "2": "20s",
                    "3": "28.1600"
                },
                {
                    "0": "3639",
                    "1": "unspecified",
                    "2": "20s",
                    "3": "0.2100"
                },
                {
                    "0": "111795",
                    "1": "female",
                    "2": "30s",
                    "3": "6.3200"
                },
                {
                    "0": "349456",
                    "1": "male",
                    "2": "30s",
                    "3": "19.7700"
                },
                {
                    "0": "3984",
                    "1": "unspecified",
                    "2": "30s",
                    "3": "0.2300"
                },
                {
                    "0": "35141",
                    "1": "female",
                    "2": "40s",
                    "3": "1.9900"
                },
                {
                    "0": "139249",
                    "1": "male",
                    "2": "40s",
                    "3": "7.8800"
                },
                {
                    "0": "209195",
                    "1": "unspecified",
                    "2": "40s",
                    "3": "11.8300"
                },
                {
                    "0": "32777",
                    "1": "female",
                    "2": "50s",
                    "3": "1.8500"
                },
                {
                    "0": "89445",
                    "1": "male",
                    "2": "50s",
                    "3": "5.0600"
                },
                {
                    "0": "702",
                    "1": "unspecified",
                    "2": "50s",
                    "3": "0.0400"
                },
                {
                    "0": "12369",
                    "1": "female",
                    "2": "60s",
                    "3": "0.7000"
                },
                {
                    "0": "36509",
                    "1": "male",
                    "2": "60s",
                    "3": "2.0700"
                },
                {
                    "0": "80",
                    "1": "unspecified",
                    "2": "60s",
                    "3": "0.0000"
                },
                {
                    "0": "817",
                    "1": "female",
                    "2": "70s",
                    "3": "0.0500"
                },
                {
                    "0": "5287",
                    "1": "male",
                    "2": "70s",
                    "3": "0.3000"
                },
                {
                    "0": "21",
                    "1": "unspecified",
                    "2": "70s",
                    "3": "0.0000"
                },
                {
                    "0": "3",
                    "1": "female",
                    "2": "80s",
                    "3": "0.0000"
                },
                {
                    "0": "276",
                    "1": "male",
                    "2": "80s",
                    "3": "0.0200"
                },
                {
                    "0": "34",
                    "1": "female",
                    "2": "older",
                    "3": "0.0000"
                },
                {
                    "0": "212",
                    "1": "male",
                    "2": "older",
                    "3": "0.0100"
                },
                {
                    "0": "9748",
                    "1": "unspecified",
                    "2": "older",
                    "3": "0.5500"
                },
                {
                    "0": "7184",
                    "1": "female",
                    "2": "teenager",
                    "3": "0.4100"
                },
                {
                    "0": "23433",
                    "1": "male",
                    "2": "teenager",
                    "3": "1.3300"
                },
                {
                    "0": "308",
                    "1": "unspecified",
                    "2": "teenager",
                    "3": "0.0200"
                }
            ]
        },
        "text/html": [
            "<table>",
            "<tr><th>riders</th><th>gender</th><th>age_group</th><th>percentage</th></tr>",
            "<tr><td>198274</td><td>female</td><td>20s</td><td>11.2200</td></tr>",
            "<tr><td>497868</td><td>male</td><td>20s</td><td>28.1600</td></tr>",
            "<tr><td>3639</td><td>unspecified</td><td>20s</td><td>0.2100</td></tr>",
            "<tr><td>111795</td><td>female</td><td>30s</td><td>6.3200</td></tr>",
            "<tr><td>349456</td><td>male</td><td>30s</td><td>19.7700</td></tr>",
            "<tr><td>3984</td><td>unspecified</td><td>30s</td><td>0.2300</td></tr>",
            "<tr><td>35141</td><td>female</td><td>40s</td><td>1.9900</td></tr>",
            "<tr><td>139249</td><td>male</td><td>40s</td><td>7.8800</td></tr>",
            "<tr><td>209195</td><td>unspecified</td><td>40s</td><td>11.8300</td></tr>",
            "<tr><td>32777</td><td>female</td><td>50s</td><td>1.8500</td></tr>",
            "<tr><td>89445</td><td>male</td><td>50s</td><td>5.0600</td></tr>",
            "<tr><td>702</td><td>unspecified</td><td>50s</td><td>0.0400</td></tr>",
            "<tr><td>12369</td><td>female</td><td>60s</td><td>0.7000</td></tr>",
            "<tr><td>36509</td><td>male</td><td>60s</td><td>2.0700</td></tr>",
            "<tr><td>80</td><td>unspecified</td><td>60s</td><td>0.0000</td></tr>",
            "<tr><td>817</td><td>female</td><td>70s</td><td>0.0500</td></tr>",
            "<tr><td>5287</td><td>male</td><td>70s</td><td>0.3000</td></tr>",
            "<tr><td>21</td><td>unspecified</td><td>70s</td><td>0.0000</td></tr>",
            "<tr><td>3</td><td>female</td><td>80s</td><td>0.0000</td></tr>",
            "<tr><td>276</td><td>male</td><td>80s</td><td>0.0200</td></tr>",
            "<tr><td>34</td><td>female</td><td>older</td><td>0.0000</td></tr>",
            "<tr><td>212</td><td>male</td><td>older</td><td>0.0100</td></tr>",
            "<tr><td>9748</td><td>unspecified</td><td>older</td><td>0.5500</td></tr>",
            "<tr><td>7184</td><td>female</td><td>teenager</td><td>0.4100</td></tr>",
            "<tr><td>23433</td><td>male</td><td>teenager</td><td>1.3300</td></tr>",
            "<tr><td>308</td><td>unspecified</td><td>teenager</td><td>0.0200</td></tr>",
            "</table>"
        ]
    }
}
],
            "execution_count": 184
        },
        {
            "cell_type": "code",
            "source": [
                "-- Riders by gender and age group WORKING!!\n",
                "\n",
                "select riders,\n",
                "       gender,\n",
                "       age_group,\n",
                "       total_percent,\n",
                "       round(riders / sum(riders) over(partition by age_group), 4) * 100 as age_group_percent\n",
                "from\n",
                "    (select count(1) as riders,\n",
                "    case\n",
                "        when user_gender = 1 then 'male'\n",
                "        when user_gender = 2 then 'female'\n",
                "        else 'unspecified'\n",
                "    end as gender, \n",
                "    -- 2018 - trunc(cast(user_birth_year as numeric), 0), # this is for sanity testing\n",
                "    case\n",
                "        when (trunc(cast(user_birth_year as numeric), 0) || '-01-01')::timestamp > '2018-01-01'::timestamp - interval '12 years' then 'under_12'\n",
                "        when (trunc(cast(user_birth_year as numeric), 0) || '-01-01')::timestamp > '2018-01-01'::timestamp - interval '20 years' then 'teenager'\n",
                "        when (trunc(cast(user_birth_year as numeric), 0) || '-01-01')::timestamp > '2018-01-01'::timestamp - interval '30 years' then '20s'\n",
                "        when (trunc(cast(user_birth_year as numeric), 0) || '-01-01')::timestamp > '2018-01-01'::timestamp - interval '40 years' then '30s'\n",
                "        when (trunc(cast(user_birth_year as numeric), 0) || '-01-01')::timestamp > '2018-01-01'::timestamp - interval '50 years' then '40s'\n",
                "        when (trunc(cast(user_birth_year as numeric), 0) || '-01-01')::timestamp > '2018-01-01'::timestamp - interval '60 years' then '50s'\n",
                "        when (trunc(cast(user_birth_year as numeric), 0) || '-01-01')::timestamp > '2018-01-01'::timestamp - interval '70 years' then '60s'\n",
                "        when (trunc(cast(user_birth_year as numeric), 0) || '-01-01')::timestamp > '2018-01-01'::timestamp - interval '80 years' then '70s'\n",
                "        when (trunc(cast(user_birth_year as numeric), 0) || '-01-01')::timestamp > '2018-01-01'::timestamp - interval '90 years' then '80s'\n",
                "        when (trunc(cast(user_birth_year as numeric), 0) || '-01-01')::timestamp > '2018-01-01'::timestamp - interval '90 years' then '80s'\n",
                "        else 'older'\n",
                "    end as age_group,\n",
                "    round(count(1) / sum(count(1)) over(), 4) * 100 as total_percent\n",
                "    from bluebikes_2018\n",
                "    group by age_group, gender\n",
                "        order by age_group, gender\n",
                "        ) big\n",
                "\n",
                "group by age_group, gender, riders, total_percent\n",
                "order by age_group, gender"
            ],
            "metadata": {
                "azdata_cell_guid": "dd0cfaa5-c990-4cc6-91f5-7a7dbe1b293c"
            },
            "outputs": [
{
    "output_type": "display_data",
    "data": {
        "text/html": "(26 row(s) affected)"
    },
    "metadata": {}
}, {
    "output_type": "display_data",
    "data": {
        "text/html": "Total execution time: 00:00:04.934"
    },
    "metadata": {}
}, {
    "output_type": "execute_result",
    "metadata": {},
    "execution_count": 185,
    "data": {
        "application/vnd.dataresource+json": {
            "schema": {
                "fields": [
                    {
                        "name": "riders"
                    },
                    {
                        "name": "gender"
                    },
                    {
                        "name": "age_group"
                    },
                    {
                        "name": "total_percent"
                    },
                    {
                        "name": "age_group_percent"
                    }
                ]
            },
            "data": [
                {
                    "0": "198274",
                    "1": "female",
                    "2": "20s",
                    "3": "11.2200",
                    "4": "28.3300"
                },
                {
                    "0": "497868",
                    "1": "male",
                    "2": "20s",
                    "3": "28.1600",
                    "4": "71.1500"
                },
                {
                    "0": "3639",
                    "1": "unspecified",
                    "2": "20s",
                    "3": "0.2100",
                    "4": "0.5200"
                },
                {
                    "0": "111795",
                    "1": "female",
                    "2": "30s",
                    "3": "6.3200",
                    "4": "24.0300"
                },
                {
                    "0": "349456",
                    "1": "male",
                    "2": "30s",
                    "3": "19.7700",
                    "4": "75.1100"
                },
                {
                    "0": "3984",
                    "1": "unspecified",
                    "2": "30s",
                    "3": "0.2300",
                    "4": "0.8600"
                },
                {
                    "0": "35141",
                    "1": "female",
                    "2": "40s",
                    "3": "1.9900",
                    "4": "9.1600"
                },
                {
                    "0": "139249",
                    "1": "male",
                    "2": "40s",
                    "3": "7.8800",
                    "4": "36.3000"
                },
                {
                    "0": "209195",
                    "1": "unspecified",
                    "2": "40s",
                    "3": "11.8300",
                    "4": "54.5400"
                },
                {
                    "0": "32777",
                    "1": "female",
                    "2": "50s",
                    "3": "1.8500",
                    "4": "26.6600"
                },
                {
                    "0": "89445",
                    "1": "male",
                    "2": "50s",
                    "3": "5.0600",
                    "4": "72.7600"
                },
                {
                    "0": "702",
                    "1": "unspecified",
                    "2": "50s",
                    "3": "0.0400",
                    "4": "0.5700"
                },
                {
                    "0": "12369",
                    "1": "female",
                    "2": "60s",
                    "3": "0.7000",
                    "4": "25.2600"
                },
                {
                    "0": "36509",
                    "1": "male",
                    "2": "60s",
                    "3": "2.0700",
                    "4": "74.5700"
                },
                {
                    "0": "80",
                    "1": "unspecified",
                    "2": "60s",
                    "3": "0.0000",
                    "4": "0.1600"
                },
                {
                    "0": "817",
                    "1": "female",
                    "2": "70s",
                    "3": "0.0500",
                    "4": "13.3400"
                },
                {
                    "0": "5287",
                    "1": "male",
                    "2": "70s",
                    "3": "0.3000",
                    "4": "86.3200"
                },
                {
                    "0": "21",
                    "1": "unspecified",
                    "2": "70s",
                    "3": "0.0000",
                    "4": "0.3400"
                },
                {
                    "0": "3",
                    "1": "female",
                    "2": "80s",
                    "3": "0.0000",
                    "4": "1.0800"
                },
                {
                    "0": "276",
                    "1": "male",
                    "2": "80s",
                    "3": "0.0200",
                    "4": "98.9200"
                },
                {
                    "0": "34",
                    "1": "female",
                    "2": "older",
                    "3": "0.0000",
                    "4": "0.3400"
                },
                {
                    "0": "212",
                    "1": "male",
                    "2": "older",
                    "3": "0.0100",
                    "4": "2.1200"
                },
                {
                    "0": "9748",
                    "1": "unspecified",
                    "2": "older",
                    "3": "0.5500",
                    "4": "97.5400"
                },
                {
                    "0": "7184",
                    "1": "female",
                    "2": "teenager",
                    "3": "0.4100",
                    "4": "23.2300"
                },
                {
                    "0": "23433",
                    "1": "male",
                    "2": "teenager",
                    "3": "1.3300",
                    "4": "75.7700"
                },
                {
                    "0": "308",
                    "1": "unspecified",
                    "2": "teenager",
                    "3": "0.0200",
                    "4": "1.0000"
                }
            ]
        },
        "text/html": [
            "<table>",
            "<tr><th>riders</th><th>gender</th><th>age_group</th><th>total_percent</th><th>age_group_percent</th></tr>",
            "<tr><td>198274</td><td>female</td><td>20s</td><td>11.2200</td><td>28.3300</td></tr>",
            "<tr><td>497868</td><td>male</td><td>20s</td><td>28.1600</td><td>71.1500</td></tr>",
            "<tr><td>3639</td><td>unspecified</td><td>20s</td><td>0.2100</td><td>0.5200</td></tr>",
            "<tr><td>111795</td><td>female</td><td>30s</td><td>6.3200</td><td>24.0300</td></tr>",
            "<tr><td>349456</td><td>male</td><td>30s</td><td>19.7700</td><td>75.1100</td></tr>",
            "<tr><td>3984</td><td>unspecified</td><td>30s</td><td>0.2300</td><td>0.8600</td></tr>",
            "<tr><td>35141</td><td>female</td><td>40s</td><td>1.9900</td><td>9.1600</td></tr>",
            "<tr><td>139249</td><td>male</td><td>40s</td><td>7.8800</td><td>36.3000</td></tr>",
            "<tr><td>209195</td><td>unspecified</td><td>40s</td><td>11.8300</td><td>54.5400</td></tr>",
            "<tr><td>32777</td><td>female</td><td>50s</td><td>1.8500</td><td>26.6600</td></tr>",
            "<tr><td>89445</td><td>male</td><td>50s</td><td>5.0600</td><td>72.7600</td></tr>",
            "<tr><td>702</td><td>unspecified</td><td>50s</td><td>0.0400</td><td>0.5700</td></tr>",
            "<tr><td>12369</td><td>female</td><td>60s</td><td>0.7000</td><td>25.2600</td></tr>",
            "<tr><td>36509</td><td>male</td><td>60s</td><td>2.0700</td><td>74.5700</td></tr>",
            "<tr><td>80</td><td>unspecified</td><td>60s</td><td>0.0000</td><td>0.1600</td></tr>",
            "<tr><td>817</td><td>female</td><td>70s</td><td>0.0500</td><td>13.3400</td></tr>",
            "<tr><td>5287</td><td>male</td><td>70s</td><td>0.3000</td><td>86.3200</td></tr>",
            "<tr><td>21</td><td>unspecified</td><td>70s</td><td>0.0000</td><td>0.3400</td></tr>",
            "<tr><td>3</td><td>female</td><td>80s</td><td>0.0000</td><td>1.0800</td></tr>",
            "<tr><td>276</td><td>male</td><td>80s</td><td>0.0200</td><td>98.9200</td></tr>",
            "<tr><td>34</td><td>female</td><td>older</td><td>0.0000</td><td>0.3400</td></tr>",
            "<tr><td>212</td><td>male</td><td>older</td><td>0.0100</td><td>2.1200</td></tr>",
            "<tr><td>9748</td><td>unspecified</td><td>older</td><td>0.5500</td><td>97.5400</td></tr>",
            "<tr><td>7184</td><td>female</td><td>teenager</td><td>0.4100</td><td>23.2300</td></tr>",
            "<tr><td>23433</td><td>male</td><td>teenager</td><td>1.3300</td><td>75.7700</td></tr>",
            "<tr><td>308</td><td>unspecified</td><td>teenager</td><td>0.0200</td><td>1.0000</td></tr>",
            "</table>"
        ]
    }
}
],
            "execution_count": 185
        },
        {
            "cell_type": "code",
            "source": [
                "-- Percentage by gender\n",
                "\n",
                "select\n",
                "case when user_gender = 1 then 'male' \n",
                "    when user_gender = 2 then 'female'\n",
                "    else 'unspecified' end as gender,\n",
                "count(1),\n",
                "round(count(1) / sum(count(1)) over(), 6) * 100 as percentage\n",
                "from bluebikes_2018\n",
                "group by user_gender"
            ],
            "metadata": {
                "azdata_cell_guid": "3500349e-2b2b-4370-9f82-681d22c49790"
            },
            "outputs": [
{
    "output_type": "display_data",
    "data": {
        "text/html": "(3 row(s) affected)"
    },
    "metadata": {}
}, {
    "output_type": "display_data",
    "data": {
        "text/html": "Total execution time: 00:00:00.993"
    },
    "metadata": {}
}, {
    "output_type": "execute_result",
    "metadata": {},
    "execution_count": 186,
    "data": {
        "application/vnd.dataresource+json": {
            "schema": {
                "fields": [
                    {
                        "name": "gender"
                    },
                    {
                        "name": "count"
                    },
                    {
                        "name": "percentage"
                    }
                ]
            },
            "data": [
                {
                    "0": "unspecified",
                    "1": "227677",
                    "2": "12.879100"
                },
                {
                    "0": "male",
                    "1": "1141735",
                    "2": "64.584900"
                },
                {
                    "0": "female",
                    "1": "398394",
                    "2": "22.536100"
                }
            ]
        },
        "text/html": [
            "<table>",
            "<tr><th>gender</th><th>count</th><th>percentage</th></tr>",
            "<tr><td>unspecified</td><td>227677</td><td>12.879100</td></tr>",
            "<tr><td>male</td><td>1141735</td><td>64.584900</td></tr>",
            "<tr><td>female</td><td>398394</td><td>22.536100</td></tr>",
            "</table>"
        ]
    }
}
],
            "execution_count": 186
        },
        {
            "cell_type": "code",
            "source": [
                "-- Days of the week\n",
                "\n",
                "select count(1) as riders,\n",
                "To_Char(start_time, 'Day') as weekday\n",
                "from bluebikes_2018\n",
                "group by weekday\n",
                "order by riders desc"
            ],
            "metadata": {
                "azdata_cell_guid": "f1464007-2542-4f27-890e-2e370f046ffd"
            },
            "outputs": [
{
    "output_type": "display_data",
    "data": {
        "text/html": "(7 row(s) affected)"
    },
    "metadata": {}
}, {
    "output_type": "display_data",
    "data": {
        "text/html": "Total execution time: 00:00:01.586"
    },
    "metadata": {}
}, {
    "output_type": "execute_result",
    "metadata": {},
    "execution_count": 187,
    "data": {
        "application/vnd.dataresource+json": {
            "schema": {
                "fields": [
                    {
                        "name": "riders"
                    },
                    {
                        "name": "weekday"
                    }
                ]
            },
            "data": [
                {
                    "0": "288485",
                    "1": "Wednesday"
                },
                {
                    "0": "282700",
                    "1": "Thursday "
                },
                {
                    "0": "276229",
                    "1": "Friday   "
                },
                {
                    "0": "265161",
                    "1": "Tuesday  "
                },
                {
                    "0": "256032",
                    "1": "Monday   "
                },
                {
                    "0": "208144",
                    "1": "Saturday "
                },
                {
                    "0": "191055",
                    "1": "Sunday   "
                }
            ]
        },
        "text/html": [
            "<table>",
            "<tr><th>riders</th><th>weekday</th></tr>",
            "<tr><td>288485</td><td>Wednesday</td></tr>",
            "<tr><td>282700</td><td>Thursday </td></tr>",
            "<tr><td>276229</td><td>Friday   </td></tr>",
            "<tr><td>265161</td><td>Tuesday  </td></tr>",
            "<tr><td>256032</td><td>Monday   </td></tr>",
            "<tr><td>208144</td><td>Saturday </td></tr>",
            "<tr><td>191055</td><td>Sunday   </td></tr>",
            "</table>"
        ]
    }
}
],
            "execution_count": 187
        },
        {
            "cell_type": "code",
            "source": [
                "-- Riders by month\n",
                "\n",
                "select count(1) as riders,\n",
                "To_Char(start_time, 'Month') as month\n",
                "from bluebikes_2018\n",
                "-- where date_trunc('day', start_time) = date_trunc('day', timestamp '2018-10-01')\n",
                "group by month\n",
                "order by riders desc"
            ],
            "metadata": {
                "azdata_cell_guid": "ffa4131e-0a2e-4dc1-9bb7-b819586b3528"
            },
            "outputs": [
{
    "output_type": "display_data",
    "data": {
        "text/html": "(12 row(s) affected)"
    },
    "metadata": {}
}, {
    "output_type": "display_data",
    "data": {
        "text/html": "Total execution time: 00:00:01.445"
    },
    "metadata": {}
}, {
    "output_type": "execute_result",
    "metadata": {},
    "execution_count": 188,
    "data": {
        "application/vnd.dataresource+json": {
            "schema": {
                "fields": [
                    {
                        "name": "riders"
                    },
                    {
                        "name": "month"
                    }
                ]
            },
            "data": [
                {
                    "0": "242916",
                    "1": "July     "
                },
                {
                    "0": "236182",
                    "1": "September"
                },
                {
                    "0": "236076",
                    "1": "August   "
                },
                {
                    "0": "205359",
                    "1": "June     "
                },
                {
                    "0": "200100",
                    "1": "October  "
                },
                {
                    "0": "178865",
                    "1": "May      "
                },
                {
                    "0": "121419",
                    "1": "November "
                },
                {
                    "0": "98194",
                    "1": "April    "
                },
                {
                    "0": "81961",
                    "1": "December "
                },
                {
                    "0": "62985",
                    "1": "March    "
                },
                {
                    "0": "62817",
                    "1": "February "
                },
                {
                    "0": "40932",
                    "1": "January  "
                }
            ]
        },
        "text/html": [
            "<table>",
            "<tr><th>riders</th><th>month</th></tr>",
            "<tr><td>242916</td><td>July     </td></tr>",
            "<tr><td>236182</td><td>September</td></tr>",
            "<tr><td>236076</td><td>August   </td></tr>",
            "<tr><td>205359</td><td>June     </td></tr>",
            "<tr><td>200100</td><td>October  </td></tr>",
            "<tr><td>178865</td><td>May      </td></tr>",
            "<tr><td>121419</td><td>November </td></tr>",
            "<tr><td>98194</td><td>April    </td></tr>",
            "<tr><td>81961</td><td>December </td></tr>",
            "<tr><td>62985</td><td>March    </td></tr>",
            "<tr><td>62817</td><td>February </td></tr>",
            "<tr><td>40932</td><td>January  </td></tr>",
            "</table>"
        ]
    }
}
],
            "execution_count": 188
        },
        {
            "cell_type": "code",
            "source": [
                "-- Top and Bottom 5 Stations based on riders\n",
                "\n",
                "with top5 as\n",
                "    (select number, name, district,\n",
                "    count(1) as riders,\n",
                "    'top5' as placement\n",
                "    from bluebikes_stations\n",
                "    join bluebikes_2018 on bluebikes_stations.id = bluebikes_2018.start_station_id\n",
                "    group by number, name, district, placement\n",
                "    order by riders desc\n",
                "    limit 5),\n",
                "\n",
                "bottom5 as\n",
                "    (select number, name, district,\n",
                "    count(1) as riders,\n",
                "    'bottom5' as placement\n",
                "    from bluebikes_stations\n",
                "    join bluebikes_2018 on bluebikes_stations.id = bluebikes_2018.start_station_id\n",
                "    group by number, name, district, placement\n",
                "    order by riders \n",
                "    limit 5)\n",
                "\n",
                "select * from top5\n",
                "union all\n",
                "select * from bottom5\n",
                "order by riders desc"
            ],
            "metadata": {
                "azdata_cell_guid": "c2a605bd-479a-4476-9025-861f544ec5a6"
            },
            "outputs": [
{
    "output_type": "display_data",
    "data": {
        "text/html": "(10 row(s) affected)"
    },
    "metadata": {}
}, {
    "output_type": "display_data",
    "data": {
        "text/html": "Total execution time: 00:00:02.134"
    },
    "metadata": {}
}, {
    "output_type": "execute_result",
    "metadata": {},
    "execution_count": 189,
    "data": {
        "application/vnd.dataresource+json": {
            "schema": {
                "fields": [
                    {
                        "name": "number"
                    },
                    {
                        "name": "name"
                    },
                    {
                        "name": "district"
                    },
                    {
                        "name": "riders"
                    },
                    {
                        "name": "placement"
                    }
                ]
            },
            "data": [
                {
                    "0": "M32006",
                    "1": "MIT at Mass Ave / Amherst St",
                    "2": "Cambridge",
                    "3": "53846",
                    "4": "top5"
                },
                {
                    "0": "M32005",
                    "1": "MIT Stata Center at Vassar St / Main St",
                    "2": "Cambridge",
                    "3": "41559",
                    "4": "top5"
                },
                {
                    "0": "M32011",
                    "1": "Central Square at Mass Ave / Essex St",
                    "2": "Cambridge",
                    "3": "37346",
                    "4": "top5"
                },
                {
                    "0": "A32010",
                    "1": "South Station - 700 Atlantic Ave",
                    "2": "Boston",
                    "3": "36346",
                    "4": "top5"
                },
                {
                    "0": "M32041",
                    "1": "MIT Pacific St at Purrington St",
                    "2": "Cambridge",
                    "3": "29379",
                    "4": "top5"
                },
                {
                    "0": "C32049",
                    "1": "Thetford Ave at Norfolk St",
                    "2": "Boston",
                    "3": "15",
                    "4": "bottom5"
                },
                {
                    "0": "C32044",
                    "1": "Blue Hill Ave at Almont St",
                    "2": "Boston",
                    "3": "12",
                    "4": "bottom5"
                },
                {
                    "0": "C32050",
                    "1": "Mattapan Library",
                    "2": "Boston",
                    "3": "12",
                    "4": "bottom5"
                },
                {
                    "0": "C32059",
                    "1": "Belgrade Ave at Walworth St",
                    "2": "Boston",
                    "3": "9",
                    "4": "bottom5"
                },
                {
                    "0": "C23045",
                    "1": "Morton St T",
                    "2": "Boston",
                    "3": "5",
                    "4": "bottom5"
                }
            ]
        },
        "text/html": [
            "<table>",
            "<tr><th>number</th><th>name</th><th>district</th><th>riders</th><th>placement</th></tr>",
            "<tr><td>M32006</td><td>MIT at Mass Ave / Amherst St</td><td>Cambridge</td><td>53846</td><td>top5</td></tr>",
            "<tr><td>M32005</td><td>MIT Stata Center at Vassar St / Main St</td><td>Cambridge</td><td>41559</td><td>top5</td></tr>",
            "<tr><td>M32011</td><td>Central Square at Mass Ave / Essex St</td><td>Cambridge</td><td>37346</td><td>top5</td></tr>",
            "<tr><td>A32010</td><td>South Station - 700 Atlantic Ave</td><td>Boston</td><td>36346</td><td>top5</td></tr>",
            "<tr><td>M32041</td><td>MIT Pacific St at Purrington St</td><td>Cambridge</td><td>29379</td><td>top5</td></tr>",
            "<tr><td>C32049</td><td>Thetford Ave at Norfolk St</td><td>Boston</td><td>15</td><td>bottom5</td></tr>",
            "<tr><td>C32044</td><td>Blue Hill Ave at Almont St</td><td>Boston</td><td>12</td><td>bottom5</td></tr>",
            "<tr><td>C32050</td><td>Mattapan Library</td><td>Boston</td><td>12</td><td>bottom5</td></tr>",
            "<tr><td>C32059</td><td>Belgrade Ave at Walworth St</td><td>Boston</td><td>9</td><td>bottom5</td></tr>",
            "<tr><td>C23045</td><td>Morton St T</td><td>Boston</td><td>5</td><td>bottom5</td></tr>",
            "</table>"
        ]
    }
}
],
            "execution_count": 189
        },
        {
            "cell_type": "code",
            "source": [
                "-- Sort by Duration\n",
                "\n",
                "select \n",
                "-- date_trunc('second', end_time - start_time) as duration,\n",
                "count(1) as riders,\n",
                "case \n",
                "    when date_trunc('second', end_time - start_time) < time '00:05:00' then 'under5'\n",
                "    when date_trunc('second', end_time - start_time) < time '00:10:00' and date_trunc('second', end_time - start_time) > '00:05:00' then '5to10'\n",
                "    when date_trunc('second', end_time - start_time) < time '00:15:00' and date_trunc('second', end_time - start_time) > '00:10:00' then '10to15'\n",
                "    when date_trunc('second', end_time - start_time) < time '00:20:00' and date_trunc('second', end_time - start_time) > '00:15:00' then '15to20'\n",
                "    when date_trunc('second', end_time - start_time) < time '00:25:00' and date_trunc('second', end_time - start_time) > '00:20:00' then '20to25'\n",
                "    when date_trunc('second', end_time - start_time) < time '00:30:00' and date_trunc('second', end_time - start_time) > '00:25:00' then '25to30'\n",
                "    when date_trunc('second', end_time - start_time) < time '00:35:00' and date_trunc('second', end_time - start_time) > '00:30:00' then '30to35'\n",
                "    when date_trunc('second', end_time - start_time) < time '00:40:00' and date_trunc('second', end_time - start_time) > '00:35:00' then '35to40'\n",
                "    when date_trunc('second', end_time - start_time) < time '00:45:00' and date_trunc('second', end_time - start_time) > '00:40:00' then '40to45'\n",
                "    when date_trunc('second', end_time - start_time) < time '00:50:00' and date_trunc('second', end_time - start_time) > '00:45:00' then '45to50'\n",
                "    when date_trunc('second', end_time - start_time) < time '00:55:00' and date_trunc('second', end_time - start_time) > '00:50:00' then '50to55'\n",
                "    when date_trunc('second', end_time - start_time) < time '01:00:00' and date_trunc('second', end_time - start_time) > '00:55:00' then '55to60'\n",
                "    when date_trunc('second', end_time - start_time) < time '02:00:00' and date_trunc('second', end_time - start_time) > '01:00:00' then '1hrto2hr'\n",
                "    when date_trunc('second', end_time - start_time) < time '03:00:00' and date_trunc('second', end_time - start_time) > '02:00:00' then '2hrto3hr'\n",
                "    when date_trunc('second', end_time - start_time) < time '04:00:00' and date_trunc('second', end_time - start_time) > '03:00:00' then '3hrto4hr'\n",
                "    when date_trunc('second', end_time - start_time) < time '05:00:00' and date_trunc('second', end_time - start_time) > '04:00:00' then '4hrto5hr'\n",
                "    when date_trunc('second', end_time - start_time) < time '06:00:00' and date_trunc('second', end_time - start_time) > '05:00:00' then '5hrto6hr'\n",
                "    when date_trunc('second', end_time - start_time) < time '12:00:00' and date_trunc('second', end_time - start_time) > '06:00:00' then '6hrto12hr'\n",
                "    when date_trunc('second', end_time - start_time) < time '24:00:00' and date_trunc('second', end_time - start_time) > '12:00:00' then '12hrto24hr'\n",
                "else 'longer' end as duration\n",
                "\n",
                "from bluebikes_2018\n",
                "group by duration\n",
                "order by riders desc"
            ],
            "metadata": {
                "azdata_cell_guid": "fee9cab0-6942-4921-896d-e34dd7aeff00"
            },
            "outputs": [
{
    "output_type": "display_data",
    "data": {
        "text/html": "(20 row(s) affected)"
    },
    "metadata": {}
}, {
    "output_type": "display_data",
    "data": {
        "text/html": "Total execution time: 00:00:02.279"
    },
    "metadata": {}
}, {
    "output_type": "execute_result",
    "metadata": {},
    "execution_count": 190,
    "data": {
        "application/vnd.dataresource+json": {
            "schema": {
                "fields": [
                    {
                        "name": "riders"
                    },
                    {
                        "name": "duration"
                    }
                ]
            },
            "data": [
                {
                    "0": "524937",
                    "1": "5to10"
                },
                {
                    "0": "356463",
                    "1": "10to15"
                },
                {
                    "0": "227597",
                    "1": "15to20"
                },
                {
                    "0": "225330",
                    "1": "under5"
                },
                {
                    "0": "142316",
                    "1": "20to25"
                },
                {
                    "0": "88795",
                    "1": "25to30"
                },
                {
                    "0": "49982",
                    "1": "30to35"
                },
                {
                    "0": "45577",
                    "1": "1hrto2hr"
                },
                {
                    "0": "30641",
                    "1": "35to40"
                },
                {
                    "0": "20901",
                    "1": "40to45"
                },
                {
                    "0": "14023",
                    "1": "45to50"
                },
                {
                    "0": "11100",
                    "1": "50to55"
                },
                {
                    "0": "9043",
                    "1": "55to60"
                },
                {
                    "0": "7685",
                    "1": "2hrto3hr"
                },
                {
                    "0": "7327",
                    "1": "longer"
                },
                {
                    "0": "2304",
                    "1": "3hrto4hr"
                },
                {
                    "0": "1244",
                    "1": "6hrto12hr"
                },
                {
                    "0": "1115",
                    "1": "12hrto24hr"
                },
                {
                    "0": "945",
                    "1": "4hrto5hr"
                },
                {
                    "0": "481",
                    "1": "5hrto6hr"
                }
            ]
        },
        "text/html": [
            "<table>",
            "<tr><th>riders</th><th>duration</th></tr>",
            "<tr><td>524937</td><td>5to10</td></tr>",
            "<tr><td>356463</td><td>10to15</td></tr>",
            "<tr><td>227597</td><td>15to20</td></tr>",
            "<tr><td>225330</td><td>under5</td></tr>",
            "<tr><td>142316</td><td>20to25</td></tr>",
            "<tr><td>88795</td><td>25to30</td></tr>",
            "<tr><td>49982</td><td>30to35</td></tr>",
            "<tr><td>45577</td><td>1hrto2hr</td></tr>",
            "<tr><td>30641</td><td>35to40</td></tr>",
            "<tr><td>20901</td><td>40to45</td></tr>",
            "<tr><td>14023</td><td>45to50</td></tr>",
            "<tr><td>11100</td><td>50to55</td></tr>",
            "<tr><td>9043</td><td>55to60</td></tr>",
            "<tr><td>7685</td><td>2hrto3hr</td></tr>",
            "<tr><td>7327</td><td>longer</td></tr>",
            "<tr><td>2304</td><td>3hrto4hr</td></tr>",
            "<tr><td>1244</td><td>6hrto12hr</td></tr>",
            "<tr><td>1115</td><td>12hrto24hr</td></tr>",
            "<tr><td>945</td><td>4hrto5hr</td></tr>",
            "<tr><td>481</td><td>5hrto6hr</td></tr>",
            "</table>"
        ]
    }
}
],
            "execution_count": 190
        },
        {
            "cell_type": "code",
            "source": [
                "-- Top 3 Positive and Negative Bike Check-in difference per month\n",
                "\n",
                "with outbikes as (\n",
                "    select\n",
                "    stations.name,\n",
                "    To_Char(start_time, 'Month') as month,\n",
                "    count(start_station_id) as outgoing\n",
                "    from bluebikes_2018 bikes\n",
                "    join bluebikes_stations stations on stations.id = bikes.start_station_id\n",
                "    group by month, stations.name\n",
                "    order by month, outgoing desc\n",
                "),\n",
                "\n",
                "inbikes as(\n",
                "    select\n",
                "    stations.name,\n",
                "    To_Char(start_time, 'Month') as month,\n",
                "    count(end_station_id) as incoming\n",
                "    from bluebikes_2018 bikes\n",
                "    join bluebikes_stations stations on stations.id = bikes.end_station_id\n",
                "    group by month, stations.name\n",
                "    order by month, incoming desc\n",
                "),\n",
                "\n",
                "positivebikeflow as (\n",
                "    select \n",
                "    row_number() over(partition by outbikes.month order by outbikes.month, sum(inbikes.incoming) - sum(outbikes.outgoing) desc) as rank,\n",
                "    outbikes.month as month, \n",
                "    outbikes.name as name, \n",
                "    sum(outbikes.outgoing) as outgoing,\n",
                "    sum(inbikes.incoming) as incoming,\n",
                "    sum(inbikes.incoming) - sum(outbikes.outgoing) as difference\n",
                "    from outbikes\n",
                "    join inbikes on outbikes.name = inbikes.name\n",
                "    group by outbikes.month, outbikes.name\n",
                "    order by outbikes.month, difference desc\n",
                "),\n",
                "\n",
                "negativebikeflow as (\n",
                "    select \n",
                "    row_number() over(partition by outbikes.month order by outbikes.month, sum(inbikes.incoming) - sum(outbikes.outgoing)) as rank,\n",
                "    outbikes.month as month,\n",
                "    outbikes.name as name,\n",
                "    sum(outbikes.outgoing) as outgoing,\n",
                "    sum(inbikes.incoming) as incoming,\n",
                "    sum(inbikes.incoming) - sum(outbikes.outgoing) as difference\n",
                "    from outbikes\n",
                "    join inbikes on outbikes.name = inbikes.name\n",
                "    group by outbikes.month, outbikes.name\n",
                "    order by outbikes.month, difference\n",
                ")\n",
                "\n",
                "select rank, month, name, outgoing, incoming, difference from positivebikeflow\n",
                "where rank in (1,2,3)\n",
                "union all\n",
                "select rank, month, name, outgoing, incoming, difference from negativebikeflow\n",
                "where rank in (1,2,3)\n",
                "order by month, difference desc"
            ],
            "metadata": {
                "azdata_cell_guid": "12d84ec4-27f6-4668-b8a8-8a21cb0b9ac6"
            },
            "outputs": [
{
    "output_type": "display_data",
    "data": {
        "text/html": "(72 row(s) affected)"
    },
    "metadata": {}
}, {
    "output_type": "display_data",
    "data": {
        "text/html": "Total execution time: 00:00:03.692"
    },
    "metadata": {}
}, {
    "output_type": "execute_result",
    "metadata": {},
    "execution_count": 193,
    "data": {
        "application/vnd.dataresource+json": {
            "schema": {
                "fields": [
                    {
                        "name": "rank"
                    },
                    {
                        "name": "month"
                    },
                    {
                        "name": "name"
                    },
                    {
                        "name": "outgoing"
                    },
                    {
                        "name": "incoming"
                    },
                    {
                        "name": "difference"
                    }
                ]
            },
            "data": [
                {
                    "0": "1",
                    "1": "April    ",
                    "2": "Nashua Street at Red Auerbach Way",
                    "3": "16884",
                    "4": "37861",
                    "5": "20977"
                },
                {
                    "0": "2",
                    "1": "April    ",
                    "2": "MIT Stata Center at Vassar St / Main St",
                    "3": "28212",
                    "4": "46369",
                    "5": "18157"
                },
                {
                    "0": "3",
                    "1": "April    ",
                    "2": "Boylston St at Fairfield St",
                    "3": "1528",
                    "4": "16093",
                    "5": "14565"
                },
                {
                    "0": "3",
                    "1": "April    ",
                    "2": "Roxbury YMCA - Warren St at MLK Blvd",
                    "3": "780",
                    "4": "759",
                    "5": "-21"
                },
                {
                    "0": "2",
                    "1": "April    ",
                    "2": "NCAAA - Walnut Ave at Crawford St",
                    "3": "576",
                    "4": "500",
                    "5": "-76"
                },
                {
                    "0": "1",
                    "1": "April    ",
                    "2": "359 Broadway - Broadway at Fayette Street",
                    "3": "10548",
                    "4": "9568",
                    "5": "-980"
                },
                {
                    "0": "1",
                    "1": "August   ",
                    "2": "St Mary's",
                    "3": "2150",
                    "4": "2732",
                    "5": "582"
                },
                {
                    "0": "2",
                    "1": "August   ",
                    "2": "Washington St at Melnea Cass Blvd",
                    "3": "1656",
                    "4": "1953",
                    "5": "297"
                },
                {
                    "0": "3",
                    "1": "August   ",
                    "2": "Community Path at Cedar Street",
                    "3": "1734",
                    "4": "1948",
                    "5": "214"
                },
                {
                    "0": "3",
                    "1": "August   ",
                    "2": "Central Square at Mass Ave / Essex St",
                    "3": "59136",
                    "4": "37270",
                    "5": "-21866"
                },
                {
                    "0": "2",
                    "1": "August   ",
                    "2": "MIT at Mass Ave / Amherst St",
                    "3": "73620",
                    "4": "49635",
                    "5": "-23985"
                },
                {
                    "0": "1",
                    "1": "August   ",
                    "2": "South Station - 700 Atlantic Ave",
                    "3": "61380",
                    "4": "33895",
                    "5": "-27485"
                },
                {
                    "0": "1",
                    "1": "December ",
                    "2": "Nashua Street at Red Auerbach Way",
                    "3": "16248",
                    "4": "37861",
                    "5": "21613"
                },
                {
                    "0": "2",
                    "1": "December ",
                    "2": "MIT Stata Center at Vassar St / Main St",
                    "3": "27252",
                    "4": "46369",
                    "5": "19117"
                },
                {
                    "0": "3",
                    "1": "December ",
                    "2": "MIT at Mass Ave / Amherst St",
                    "3": "32364",
                    "4": "49635",
                    "5": "17271"
                },
                {
                    "0": "3",
                    "1": "December ",
                    "2": "Ames St at Broadway",
                    "3": "1263",
                    "4": "874",
                    "5": "-389"
                },
                {
                    "0": "2",
                    "1": "December ",
                    "2": "Boylston St at Jersey St",
                    "3": "2391",
                    "4": "1807",
                    "5": "-584"
                },
                {
                    "0": "1",
                    "1": "December ",
                    "2": "Ring Rd",
                    "3": "1743",
                    "4": "964",
                    "5": "-779"
                },
                {
                    "0": "1",
                    "1": "February ",
                    "2": "MIT Stata Center at Vassar St / Main St",
                    "3": "21048",
                    "4": "46369",
                    "5": "25321"
                },
                {
                    "0": "2",
                    "1": "February ",
                    "2": "Nashua Street at Red Auerbach Way",
                    "3": "14196",
                    "4": "37861",
                    "5": "23665"
                },
                {
                    "0": "3",
                    "1": "February ",
                    "2": "MIT at Mass Ave / Amherst St",
                    "3": "26832",
                    "4": "49635",
                    "5": "22803"
                },
                {
                    "0": "3",
                    "1": "February ",
                    "2": "NCAAA - Walnut Ave at Crawford St",
                    "3": "348",
                    "4": "500",
                    "5": "152"
                },
                {
                    "0": "2",
                    "1": "February ",
                    "2": "Congress St at Boston City Hall",
                    "3": "1100",
                    "4": "1040",
                    "5": "-60"
                },
                {
                    "0": "1",
                    "1": "February ",
                    "2": "Uphams Corner",
                    "3": "1177",
                    "4": "1063",
                    "5": "-114"
                },
                {
                    "0": "1",
                    "1": "January  ",
                    "2": "MIT Stata Center at Vassar St / Main St",
                    "3": "13968",
                    "4": "46369",
                    "5": "32401"
                },
                {
                    "0": "2",
                    "1": "January  ",
                    "2": "MIT at Mass Ave / Amherst St",
                    "3": "18984",
                    "4": "49635",
                    "5": "30651"
                },
                {
                    "0": "3",
                    "1": "January  ",
                    "2": "Nashua Street at Red Auerbach Way",
                    "3": "10104",
                    "4": "37861",
                    "5": "27757"
                },
                {
                    "0": "3",
                    "1": "January  ",
                    "2": "Congress St at Boston City Hall",
                    "3": "716",
                    "4": "1040",
                    "5": "324"
                },
                {
                    "0": "2",
                    "1": "January  ",
                    "2": "Roxbury YMCA - Warren St at MLK Blvd",
                    "3": "456",
                    "4": "759",
                    "5": "303"
                },
                {
                    "0": "1",
                    "1": "January  ",
                    "2": "Grove Hall Library - 41 Geneva Ave",
                    "3": "180",
                    "4": "336",
                    "5": "156"
                },
                {
                    "0": "1",
                    "1": "July     ",
                    "2": "Silber Way",
                    "3": "3216",
                    "4": "7523",
                    "5": "4307"
                },
                {
                    "0": "2",
                    "1": "July     ",
                    "2": "Brookline Village - Station Street at MBTA",
                    "3": "294",
                    "4": "1563",
                    "5": "1269"
                },
                {
                    "0": "3",
                    "1": "July     ",
                    "2": "Assembly Square T",
                    "3": "24",
                    "4": "1065",
                    "5": "1041"
                },
                {
                    "0": "3",
                    "1": "July     ",
                    "2": "Central Square at Mass Ave / Essex St",
                    "3": "59664",
                    "4": "37270",
                    "5": "-22394"
                },
                {
                    "0": "2",
                    "1": "July     ",
                    "2": "MIT at Mass Ave / Amherst St",
                    "3": "73860",
                    "4": "49635",
                    "5": "-24225"
                },
                {
                    "0": "1",
                    "1": "July     ",
                    "2": "South Station - 700 Atlantic Ave",
                    "3": "60792",
                    "4": "33895",
                    "5": "-26897"
                },
                {
                    "0": "1",
                    "1": "June     ",
                    "2": "Northeastern University - North Parking Lot",
                    "3": "8811",
                    "4": "9281",
                    "5": "470"
                },
                {
                    "0": "2",
                    "1": "June     ",
                    "2": "Uphams Corner T Stop - Magnolia St at Dudley St",
                    "3": "192",
                    "4": "404",
                    "5": "212"
                },
                {
                    "0": "3",
                    "1": "June     ",
                    "2": "Kendall Street",
                    "3": "9096",
                    "4": "9280",
                    "5": "184"
                },
                {
                    "0": "3",
                    "1": "June     ",
                    "2": "MIT at Mass Ave / Amherst St",
                    "3": "61488",
                    "4": "49635",
                    "5": "-11853"
                },
                {
                    "0": "2",
                    "1": "June     ",
                    "2": "Boston City Hall - 28 State St",
                    "3": "34212",
                    "4": "21585",
                    "5": "-12627"
                },
                {
                    "0": "1",
                    "1": "June     ",
                    "2": "South Station - 700 Atlantic Ave",
                    "3": "52860",
                    "4": "33895",
                    "5": "-18965"
                },
                {
                    "0": "1",
                    "1": "March    ",
                    "2": "Nashua Street at Red Auerbach Way",
                    "3": "12660",
                    "4": "37861",
                    "5": "25201"
                },
                {
                    "0": "2",
                    "1": "March    ",
                    "2": "MIT Stata Center at Vassar St / Main St",
                    "3": "22368",
                    "4": "46369",
                    "5": "24001"
                },
                {
                    "0": "3",
                    "1": "March    ",
                    "2": "MIT at Mass Ave / Amherst St",
                    "3": "27552",
                    "4": "49635",
                    "5": "22083"
                },
                {
                    "0": "3",
                    "1": "March    ",
                    "2": "Grove Hall Library - 41 Geneva Ave",
                    "3": "192",
                    "4": "336",
                    "5": "144"
                },
                {
                    "0": "2",
                    "1": "March    ",
                    "2": "Uphams Corner",
                    "3": "968",
                    "4": "1063",
                    "5": "95"
                },
                {
                    "0": "1",
                    "1": "March    ",
                    "2": "Congress St at Boston City Hall",
                    "3": "1344",
                    "4": "1040",
                    "5": "-304"
                },
                {
                    "0": "1",
                    "1": "May      ",
                    "2": "Boylston St at Massachusetts Ave",
                    "3": "12856",
                    "4": "15633",
                    "5": "2777"
                },
                {
                    "0": "2",
                    "1": "May      ",
                    "2": "Nashua Street at Red Auerbach Way",
                    "3": "35124",
                    "4": "37861",
                    "5": "2737"
                },
                {
                    "0": "3",
                    "1": "May      ",
                    "2": "MIT Stata Center at Vassar St / Main St",
                    "3": "43644",
                    "4": "46369",
                    "5": "2725"
                },
                {
                    "0": "3",
                    "1": "May      ",
                    "2": "Charles Circle - Charles St at Cambridge St",
                    "3": "28094",
                    "4": "19899",
                    "5": "-8195"
                },
                {
                    "0": "2",
                    "1": "May      ",
                    "2": "South Station - 700 Atlantic Ave",
                    "3": "49476",
                    "4": "33895",
                    "5": "-15581"
                },
                {
                    "0": "1",
                    "1": "May      ",
                    "2": "MIT at Mass Ave / Amherst St",
                    "3": "68364",
                    "4": "49635",
                    "5": "-18729"
                },
                {
                    "0": "1",
                    "1": "November ",
                    "2": "Copley Square - Dartmouth St at Boylston St",
                    "3": "12012",
                    "4": "28325",
                    "5": "16313"
                },
                {
                    "0": "2",
                    "1": "November ",
                    "2": "Nashua Street at Red Auerbach Way",
                    "3": "22812",
                    "4": "37861",
                    "5": "15049"
                },
                {
                    "0": "3",
                    "1": "November ",
                    "2": "Cross St at Hanover St",
                    "3": "2310",
                    "4": "17095",
                    "5": "14785"
                },
                {
                    "0": "3",
                    "1": "November ",
                    "2": "MIT at Mass Ave / Amherst St",
                    "3": "50952",
                    "4": "49635",
                    "5": "-1317"
                },
                {
                    "0": "2",
                    "1": "November ",
                    "2": "MIT Pacific St at Purrington St",
                    "3": "29472",
                    "4": "27490",
                    "5": "-1982"
                },
                {
                    "0": "1",
                    "1": "November ",
                    "2": "Commonwealth Ave at Agganis Way",
                    "3": "13824",
                    "4": "11186",
                    "5": "-2638"
                },
                {
                    "0": "1",
                    "1": "October  ",
                    "2": "Cross St at Hanover St",
                    "3": "8745",
                    "4": "17095",
                    "5": "8350"
                },
                {
                    "0": "2",
                    "1": "October  ",
                    "2": "Landmark Center - Brookline Ave at Park Dr",
                    "3": "2672",
                    "4": "8130",
                    "5": "5458"
                },
                {
                    "0": "3",
                    "1": "October  ",
                    "2": "Murphy Skating Rink - 1880 Day Blvd",
                    "3": "2808",
                    "4": "5640",
                    "5": "2832"
                },
                {
                    "0": "3",
                    "1": "October  ",
                    "2": "MIT Pacific St at Purrington St",
                    "3": "39744",
                    "4": "27490",
                    "5": "-12254"
                },
                {
                    "0": "2",
                    "1": "October  ",
                    "2": "MIT Stata Center at Vassar St / Main St",
                    "3": "61740",
                    "4": "46369",
                    "5": "-15371"
                },
                {
                    "0": "1",
                    "1": "October  ",
                    "2": "MIT at Mass Ave / Amherst St",
                    "3": "75852",
                    "4": "49635",
                    "5": "-26217"
                },
                {
                    "0": "1",
                    "1": "September",
                    "2": "Post Office Square",
                    "3": "7288",
                    "4": "8687",
                    "5": "1399"
                },
                {
                    "0": "2",
                    "1": "September",
                    "2": "Main St at Baldwin St",
                    "3": "400",
                    "4": "657",
                    "5": "257"
                },
                {
                    "0": "3",
                    "1": "September",
                    "2": "Burlington Ave at Brookline Ave",
                    "3": "3976",
                    "4": "4143",
                    "5": "167"
                },
                {
                    "0": "3",
                    "1": "September",
                    "2": "MIT Pacific St at Purrington St",
                    "3": "46824",
                    "4": "27490",
                    "5": "-19334"
                },
                {
                    "0": "2",
                    "1": "September",
                    "2": "Central Square at Mass Ave / Essex St",
                    "3": "58128",
                    "4": "37270",
                    "5": "-20858"
                },
                {
                    "0": "1",
                    "1": "September",
                    "2": "MIT at Mass Ave / Amherst St",
                    "3": "89640",
                    "4": "49635",
                    "5": "-40005"
                }
            ]
        },
        "text/html": [
            "<table>",
            "<tr><th>rank</th><th>month</th><th>name</th><th>outgoing</th><th>incoming</th><th>difference</th></tr>",
            "<tr><td>1</td><td>April    </td><td>Nashua Street at Red Auerbach Way</td><td>16884</td><td>37861</td><td>20977</td></tr>",
            "<tr><td>2</td><td>April    </td><td>MIT Stata Center at Vassar St / Main St</td><td>28212</td><td>46369</td><td>18157</td></tr>",
            "<tr><td>3</td><td>April    </td><td>Boylston St at Fairfield St</td><td>1528</td><td>16093</td><td>14565</td></tr>",
            "<tr><td>3</td><td>April    </td><td>Roxbury YMCA - Warren St at MLK Blvd</td><td>780</td><td>759</td><td>-21</td></tr>",
            "<tr><td>2</td><td>April    </td><td>NCAAA - Walnut Ave at Crawford St</td><td>576</td><td>500</td><td>-76</td></tr>",
            "<tr><td>1</td><td>April    </td><td>359 Broadway - Broadway at Fayette Street</td><td>10548</td><td>9568</td><td>-980</td></tr>",
            "<tr><td>1</td><td>August   </td><td>St Mary's</td><td>2150</td><td>2732</td><td>582</td></tr>",
            "<tr><td>2</td><td>August   </td><td>Washington St at Melnea Cass Blvd</td><td>1656</td><td>1953</td><td>297</td></tr>",
            "<tr><td>3</td><td>August   </td><td>Community Path at Cedar Street</td><td>1734</td><td>1948</td><td>214</td></tr>",
            "<tr><td>3</td><td>August   </td><td>Central Square at Mass Ave / Essex St</td><td>59136</td><td>37270</td><td>-21866</td></tr>",
            "<tr><td>2</td><td>August   </td><td>MIT at Mass Ave / Amherst St</td><td>73620</td><td>49635</td><td>-23985</td></tr>",
            "<tr><td>1</td><td>August   </td><td>South Station - 700 Atlantic Ave</td><td>61380</td><td>33895</td><td>-27485</td></tr>",
            "<tr><td>1</td><td>December </td><td>Nashua Street at Red Auerbach Way</td><td>16248</td><td>37861</td><td>21613</td></tr>",
            "<tr><td>2</td><td>December </td><td>MIT Stata Center at Vassar St / Main St</td><td>27252</td><td>46369</td><td>19117</td></tr>",
            "<tr><td>3</td><td>December </td><td>MIT at Mass Ave / Amherst St</td><td>32364</td><td>49635</td><td>17271</td></tr>",
            "<tr><td>3</td><td>December </td><td>Ames St at Broadway</td><td>1263</td><td>874</td><td>-389</td></tr>",
            "<tr><td>2</td><td>December </td><td>Boylston St at Jersey St</td><td>2391</td><td>1807</td><td>-584</td></tr>",
            "<tr><td>1</td><td>December </td><td>Ring Rd</td><td>1743</td><td>964</td><td>-779</td></tr>",
            "<tr><td>1</td><td>February </td><td>MIT Stata Center at Vassar St / Main St</td><td>21048</td><td>46369</td><td>25321</td></tr>",
            "<tr><td>2</td><td>February </td><td>Nashua Street at Red Auerbach Way</td><td>14196</td><td>37861</td><td>23665</td></tr>",
            "<tr><td>3</td><td>February </td><td>MIT at Mass Ave / Amherst St</td><td>26832</td><td>49635</td><td>22803</td></tr>",
            "<tr><td>3</td><td>February </td><td>NCAAA - Walnut Ave at Crawford St</td><td>348</td><td>500</td><td>152</td></tr>",
            "<tr><td>2</td><td>February </td><td>Congress St at Boston City Hall</td><td>1100</td><td>1040</td><td>-60</td></tr>",
            "<tr><td>1</td><td>February </td><td>Uphams Corner</td><td>1177</td><td>1063</td><td>-114</td></tr>",
            "<tr><td>1</td><td>January  </td><td>MIT Stata Center at Vassar St / Main St</td><td>13968</td><td>46369</td><td>32401</td></tr>",
            "<tr><td>2</td><td>January  </td><td>MIT at Mass Ave / Amherst St</td><td>18984</td><td>49635</td><td>30651</td></tr>",
            "<tr><td>3</td><td>January  </td><td>Nashua Street at Red Auerbach Way</td><td>10104</td><td>37861</td><td>27757</td></tr>",
            "<tr><td>3</td><td>January  </td><td>Congress St at Boston City Hall</td><td>716</td><td>1040</td><td>324</td></tr>",
            "<tr><td>2</td><td>January  </td><td>Roxbury YMCA - Warren St at MLK Blvd</td><td>456</td><td>759</td><td>303</td></tr>",
            "<tr><td>1</td><td>January  </td><td>Grove Hall Library - 41 Geneva Ave</td><td>180</td><td>336</td><td>156</td></tr>",
            "<tr><td>1</td><td>July     </td><td>Silber Way</td><td>3216</td><td>7523</td><td>4307</td></tr>",
            "<tr><td>2</td><td>July     </td><td>Brookline Village - Station Street at MBTA</td><td>294</td><td>1563</td><td>1269</td></tr>",
            "<tr><td>3</td><td>July     </td><td>Assembly Square T</td><td>24</td><td>1065</td><td>1041</td></tr>",
            "<tr><td>3</td><td>July     </td><td>Central Square at Mass Ave / Essex St</td><td>59664</td><td>37270</td><td>-22394</td></tr>",
            "<tr><td>2</td><td>July     </td><td>MIT at Mass Ave / Amherst St</td><td>73860</td><td>49635</td><td>-24225</td></tr>",
            "<tr><td>1</td><td>July     </td><td>South Station - 700 Atlantic Ave</td><td>60792</td><td>33895</td><td>-26897</td></tr>",
            "<tr><td>1</td><td>June     </td><td>Northeastern University - North Parking Lot</td><td>8811</td><td>9281</td><td>470</td></tr>",
            "<tr><td>2</td><td>June     </td><td>Uphams Corner T Stop - Magnolia St at Dudley St</td><td>192</td><td>404</td><td>212</td></tr>",
            "<tr><td>3</td><td>June     </td><td>Kendall Street</td><td>9096</td><td>9280</td><td>184</td></tr>",
            "<tr><td>3</td><td>June     </td><td>MIT at Mass Ave / Amherst St</td><td>61488</td><td>49635</td><td>-11853</td></tr>",
            "<tr><td>2</td><td>June     </td><td>Boston City Hall - 28 State St</td><td>34212</td><td>21585</td><td>-12627</td></tr>",
            "<tr><td>1</td><td>June     </td><td>South Station - 700 Atlantic Ave</td><td>52860</td><td>33895</td><td>-18965</td></tr>",
            "<tr><td>1</td><td>March    </td><td>Nashua Street at Red Auerbach Way</td><td>12660</td><td>37861</td><td>25201</td></tr>",
            "<tr><td>2</td><td>March    </td><td>MIT Stata Center at Vassar St / Main St</td><td>22368</td><td>46369</td><td>24001</td></tr>",
            "<tr><td>3</td><td>March    </td><td>MIT at Mass Ave / Amherst St</td><td>27552</td><td>49635</td><td>22083</td></tr>",
            "<tr><td>3</td><td>March    </td><td>Grove Hall Library - 41 Geneva Ave</td><td>192</td><td>336</td><td>144</td></tr>",
            "<tr><td>2</td><td>March    </td><td>Uphams Corner</td><td>968</td><td>1063</td><td>95</td></tr>",
            "<tr><td>1</td><td>March    </td><td>Congress St at Boston City Hall</td><td>1344</td><td>1040</td><td>-304</td></tr>",
            "<tr><td>1</td><td>May      </td><td>Boylston St at Massachusetts Ave</td><td>12856</td><td>15633</td><td>2777</td></tr>",
            "<tr><td>2</td><td>May      </td><td>Nashua Street at Red Auerbach Way</td><td>35124</td><td>37861</td><td>2737</td></tr>",
            "<tr><td>3</td><td>May      </td><td>MIT Stata Center at Vassar St / Main St</td><td>43644</td><td>46369</td><td>2725</td></tr>",
            "<tr><td>3</td><td>May      </td><td>Charles Circle - Charles St at Cambridge St</td><td>28094</td><td>19899</td><td>-8195</td></tr>",
            "<tr><td>2</td><td>May      </td><td>South Station - 700 Atlantic Ave</td><td>49476</td><td>33895</td><td>-15581</td></tr>",
            "<tr><td>1</td><td>May      </td><td>MIT at Mass Ave / Amherst St</td><td>68364</td><td>49635</td><td>-18729</td></tr>",
            "<tr><td>1</td><td>November </td><td>Copley Square - Dartmouth St at Boylston St</td><td>12012</td><td>28325</td><td>16313</td></tr>",
            "<tr><td>2</td><td>November </td><td>Nashua Street at Red Auerbach Way</td><td>22812</td><td>37861</td><td>15049</td></tr>",
            "<tr><td>3</td><td>November </td><td>Cross St at Hanover St</td><td>2310</td><td>17095</td><td>14785</td></tr>",
            "<tr><td>3</td><td>November </td><td>MIT at Mass Ave / Amherst St</td><td>50952</td><td>49635</td><td>-1317</td></tr>",
            "<tr><td>2</td><td>November </td><td>MIT Pacific St at Purrington St</td><td>29472</td><td>27490</td><td>-1982</td></tr>",
            "<tr><td>1</td><td>November </td><td>Commonwealth Ave at Agganis Way</td><td>13824</td><td>11186</td><td>-2638</td></tr>",
            "<tr><td>1</td><td>October  </td><td>Cross St at Hanover St</td><td>8745</td><td>17095</td><td>8350</td></tr>",
            "<tr><td>2</td><td>October  </td><td>Landmark Center - Brookline Ave at Park Dr</td><td>2672</td><td>8130</td><td>5458</td></tr>",
            "<tr><td>3</td><td>October  </td><td>Murphy Skating Rink - 1880 Day Blvd</td><td>2808</td><td>5640</td><td>2832</td></tr>",
            "<tr><td>3</td><td>October  </td><td>MIT Pacific St at Purrington St</td><td>39744</td><td>27490</td><td>-12254</td></tr>",
            "<tr><td>2</td><td>October  </td><td>MIT Stata Center at Vassar St / Main St</td><td>61740</td><td>46369</td><td>-15371</td></tr>",
            "<tr><td>1</td><td>October  </td><td>MIT at Mass Ave / Amherst St</td><td>75852</td><td>49635</td><td>-26217</td></tr>",
            "<tr><td>1</td><td>September</td><td>Post Office Square</td><td>7288</td><td>8687</td><td>1399</td></tr>",
            "<tr><td>2</td><td>September</td><td>Main St at Baldwin St</td><td>400</td><td>657</td><td>257</td></tr>",
            "<tr><td>3</td><td>September</td><td>Burlington Ave at Brookline Ave</td><td>3976</td><td>4143</td><td>167</td></tr>",
            "<tr><td>3</td><td>September</td><td>MIT Pacific St at Purrington St</td><td>46824</td><td>27490</td><td>-19334</td></tr>",
            "<tr><td>2</td><td>September</td><td>Central Square at Mass Ave / Essex St</td><td>58128</td><td>37270</td><td>-20858</td></tr>",
            "<tr><td>1</td><td>September</td><td>MIT at Mass Ave / Amherst St</td><td>89640</td><td>49635</td><td>-40005</td></tr>",
            "</table>"
        ]
    }
}
],
            "execution_count": 193
        },
        {
            "cell_type": "code",
            "source": [
                "select extract(month from to_date('January', 'Month'))"
            ],
            "metadata": {
                "azdata_cell_guid": "1f70e99d-bb3a-4a11-8e46-a7aa43011f80"
            },
            "outputs": [
                {
                    "output_type": "display_data",
                    "data": {
                        "text/html": "(1 row(s) affected)"
                    },
                    "metadata": {}
                },
                {
                    "output_type": "display_data",
                    "data": {
                        "text/html": "Total execution time: 00:00:01.875"
                    },
                    "metadata": {}
                },
                {
                    "output_type": "execute_result",
                    "metadata": {},
                    "execution_count": 165,
                    "data": {
                        "application/vnd.dataresource+json": {
                            "schema": {
                                "fields": [
                                    {
                                        "name": "date_part"
                                    }
                                ]
                            },
                            "data": [
                                {
                                    "0": "1.0"
                                }
                            ]
                        },
                        "text/html": [
                            "<table>",
                            "<tr><th>date_part</th></tr>",
                            "<tr><td>1.0</td></tr>",
                            "</table>"
                        ]
                    }
                }
            ],
            "execution_count": 165
        },
        {
            "cell_type": "code",
            "source": [
                ""
            ],
            "metadata": {
                "azdata_cell_guid": "35694c8b-57e9-4662-9cd9-2d8d501f584a"
            },
            "outputs": [],
            "execution_count": null
        },
        {
            "cell_type": "code",
            "source": [
                ""
            ],
            "metadata": {
                "azdata_cell_guid": "4fc26ddb-7fdf-43ec-a9b7-e0148a4c5331"
            },
            "outputs": [],
            "execution_count": null
        },
        {
            "cell_type": "code",
            "source": [
                ""
            ],
            "metadata": {
                "azdata_cell_guid": "7153a2a0-1cfe-4625-b8e5-6d3a238f93dc"
            },
            "outputs": [],
            "execution_count": null
        },
        {
            "cell_type": "code",
            "source": [
                ""
            ],
            "metadata": {
                "azdata_cell_guid": "acd58cb1-a09c-461c-89b8-507190dd0534"
            },
            "outputs": [],
            "execution_count": null
        },
        {
            "cell_type": "code",
            "source": [
                ""
            ],
            "metadata": {
                "azdata_cell_guid": "f72861c4-7be0-4b32-b404-c68cfe258c03"
            },
            "outputs": [],
            "execution_count": null
        },
        {
            "cell_type": "code",
            "source": [
                ""
            ],
            "metadata": {
                "azdata_cell_guid": "1caa2867-1c04-4f0d-bbb8-537e1100b916"
            },
            "outputs": [],
            "execution_count": null
        },
        {
            "cell_type": "code",
            "source": [
                ""
            ],
            "metadata": {
                "azdata_cell_guid": "7e41f664-171b-4515-b595-181b6aa85e00"
            },
            "outputs": [],
            "execution_count": null
        },
        {
            "cell_type": "code",
            "source": [
                ""
            ],
            "metadata": {
                "azdata_cell_guid": "fc9b28db-e3aa-46d7-a5b2-db1616438f1d"
            },
            "outputs": [],
            "execution_count": null
        },
        {
            "cell_type": "code",
            "source": [
                ""
            ],
            "metadata": {
                "azdata_cell_guid": "ed8baad7-c990-4cee-9122-bd9209156c53"
            },
            "outputs": [],
            "execution_count": null
        },
        {
            "cell_type": "code",
            "source": [
                ""
            ],
            "metadata": {
                "azdata_cell_guid": "08485c64-7ef8-4d9a-9cbd-39ff36b076a8"
            },
            "outputs": [],
            "execution_count": null
        },
        {
            "cell_type": "code",
            "source": [
                ""
            ],
            "metadata": {
                "azdata_cell_guid": "b6bf3586-aaa4-4043-8b33-74d27b7b67af"
            },
            "outputs": [],
            "execution_count": null
        }
    ]
}