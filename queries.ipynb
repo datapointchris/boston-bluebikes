{
    "metadata": {
        "kernelspec": {
            "name": "SQL",
            "display_name": "SQL",
            "language": "sql"
        },
        "language_info": {
            "name": "sql",
            "version": ""
        }
    },
    "nbformat_minor": 2,
    "nbformat": 4,
    "cells": [
        {
            "cell_type": "markdown",
            "source": [
                "# Presentation\n",
                "\n",
                "1. Rider demand by month, compare years\n",
                "2. Rider demand by day of week, compare years\n",
                "3. Rider demand by hour, compare years\n",
                "4. Rider demand by hour for each day of week\n",
                "5. See which stations are in the most demand for the highest demand hours on different days\n",
                "1. This probably can't be on one graph, probably by day"
            ],
            "metadata": {
                "azdata_cell_guid": "d17192bf-f5be-440f-9454-6701a67b90e2"
            }
        },
        {
            "cell_type": "markdown",
            "source": [
                "## Aggregate Temp Tables"
            ],
            "metadata": {
                "azdata_cell_guid": "53e0fee6-b101-4ecd-a8c8-0376e9446b0c"
            }
        },
        {
            "cell_type": "code",
            "source": [
                "-- temp tables for aggregates\n",
                "create temporary table agg_2018 as\n",
                "\n",
                "select\n",
                "To_Char(start_time, 'YYYY') as year,\n",
                "To_Char(start_time, 'MM') as month_no,\n",
                "To_Char(start_time, 'ID') as day_no,\n",
                "To_Char(start_time, 'HH24') as hour_no,\n",
                "To_Char(start_time, 'Month') as month,\n",
                "To_Char(start_time, 'Day') as day,\n",
                "To_Char(start_time, 'HH12') || ':00 ' || To_Char(start_time, 'am') as hour,\n",
                "count(1) as riders\n",
                "\n",
                "from bluebikes_2018\n",
                "group by year, month_no, day_no, hour_no, month, day, hour\n",
                "order by month_no, day_no, hour_no\n",
                ""
            ],
            "metadata": {
                "azdata_cell_guid": "48775f1d-acfd-40bf-ab0c-5d6f451377ef"
            },
            "outputs": [
                {
                    "output_type": "display_data",
                    "data": {
                        "text/html": "Commands completed successfully"
                    },
                    "metadata": {}
                },
                {
                    "output_type": "display_data",
                    "data": {
                        "text/html": "Total execution time: 00:00:04.287"
                    },
                    "metadata": {}
                }
            ],
            "execution_count": 61
        },
        {
            "cell_type": "code",
            "source": [
                "-- temp tables for aggregates\n",
                "create temporary table agg_2019 as\n",
                "\n",
                "select\n",
                "To_Char(start_time, 'YYYY') as year,\n",
                "To_Char(start_time, 'MM') as month_no,\n",
                "To_Char(start_time, 'ID') as day_no,\n",
                "To_Char(start_time, 'HH24') as hour_no,\n",
                "To_Char(start_time, 'Month') as month,\n",
                "To_Char(start_time, 'Day') as day,\n",
                "To_Char(start_time, 'HH12') || ':00 ' || To_Char(start_time, 'am') as hour,\n",
                "count(1) as riders\n",
                "\n",
                "from bluebikes_2019\n",
                "group by year, month_no, day_no, hour_no, month, day, hour\n",
                "order by month_no, day_no, hour_no\n",
                ""
            ],
            "metadata": {
                "azdata_cell_guid": "4de387f6-6d8c-49a0-a7d3-a755bee89f28"
            },
            "outputs": [
                {
                    "output_type": "display_data",
                    "data": {
                        "text/html": "Commands completed successfully"
                    },
                    "metadata": {}
                },
                {
                    "output_type": "display_data",
                    "data": {
                        "text/html": "Total execution time: 00:00:06.260"
                    },
                    "metadata": {}
                }
            ],
            "execution_count": 63
        },
        {
            "cell_type": "code",
            "source": [
                "select * from agg_2018\n",
                "limit 5;\n",
                "\n",
                "select * from agg_2019\n",
                "limit 5;"
            ],
            "metadata": {
                "azdata_cell_guid": "aea10eb5-c963-44b4-9cea-0562524e7014"
            },
            "outputs": [
                {
                    "output_type": "display_data",
                    "data": {
                        "text/html": "(5 row(s) affected)"
                    },
                    "metadata": {}
                },
                {
                    "output_type": "display_data",
                    "data": {
                        "text/html": "(5 row(s) affected)"
                    },
                    "metadata": {}
                },
                {
                    "output_type": "display_data",
                    "data": {
                        "text/html": "Total execution time: 00:00:00.403"
                    },
                    "metadata": {}
                },
                {
                    "output_type": "execute_result",
                    "metadata": {},
                    "execution_count": 65,
                    "data": {
                        "application/vnd.dataresource+json": {
                            "schema": {
                                "fields": [
                                    {
                                        "name": "year"
                                    },
                                    {
                                        "name": "month_no"
                                    },
                                    {
                                        "name": "day_no"
                                    },
                                    {
                                        "name": "hour_no"
                                    },
                                    {
                                        "name": "month"
                                    },
                                    {
                                        "name": "day"
                                    },
                                    {
                                        "name": "hour"
                                    },
                                    {
                                        "name": "riders"
                                    }
                                ]
                            },
                            "data": [
                                {
                                    "0": "2018",
                                    "1": "01",
                                    "2": "1",
                                    "3": "00",
                                    "4": "January  ",
                                    "5": "Monday   ",
                                    "6": "12:00 am",
                                    "7": "47"
                                },
                                {
                                    "0": "2018",
                                    "1": "01",
                                    "2": "1",
                                    "3": "01",
                                    "4": "January  ",
                                    "5": "Monday   ",
                                    "6": "01:00 am",
                                    "7": "19"
                                },
                                {
                                    "0": "2018",
                                    "1": "01",
                                    "2": "1",
                                    "3": "02",
                                    "4": "January  ",
                                    "5": "Monday   ",
                                    "6": "02:00 am",
                                    "7": "13"
                                },
                                {
                                    "0": "2018",
                                    "1": "01",
                                    "2": "1",
                                    "3": "03",
                                    "4": "January  ",
                                    "5": "Monday   ",
                                    "6": "03:00 am",
                                    "7": "3"
                                },
                                {
                                    "0": "2018",
                                    "1": "01",
                                    "2": "1",
                                    "3": "04",
                                    "4": "January  ",
                                    "5": "Monday   ",
                                    "6": "04:00 am",
                                    "7": "7"
                                }
                            ]
                        },
                        "text/html": [
                            "<table>",
                            "<tr><th>year</th><th>month_no</th><th>day_no</th><th>hour_no</th><th>month</th><th>day</th><th>hour</th><th>riders</th></tr>",
                            "<tr><td>2018</td><td>01</td><td>1</td><td>00</td><td>January  </td><td>Monday   </td><td>12:00 am</td><td>47</td></tr>",
                            "<tr><td>2018</td><td>01</td><td>1</td><td>01</td><td>January  </td><td>Monday   </td><td>01:00 am</td><td>19</td></tr>",
                            "<tr><td>2018</td><td>01</td><td>1</td><td>02</td><td>January  </td><td>Monday   </td><td>02:00 am</td><td>13</td></tr>",
                            "<tr><td>2018</td><td>01</td><td>1</td><td>03</td><td>January  </td><td>Monday   </td><td>03:00 am</td><td>3</td></tr>",
                            "<tr><td>2018</td><td>01</td><td>1</td><td>04</td><td>January  </td><td>Monday   </td><td>04:00 am</td><td>7</td></tr>",
                            "</table>"
                        ]
                    }
                },
                {
                    "output_type": "execute_result",
                    "metadata": {},
                    "execution_count": 65,
                    "data": {
                        "application/vnd.dataresource+json": {
                            "schema": {
                                "fields": [
                                    {
                                        "name": "year"
                                    },
                                    {
                                        "name": "month_no"
                                    },
                                    {
                                        "name": "day_no"
                                    },
                                    {
                                        "name": "hour_no"
                                    },
                                    {
                                        "name": "month"
                                    },
                                    {
                                        "name": "day"
                                    },
                                    {
                                        "name": "hour"
                                    },
                                    {
                                        "name": "riders"
                                    }
                                ]
                            },
                            "data": [
                                {
                                    "0": "2019",
                                    "1": "01",
                                    "2": "1",
                                    "3": "00",
                                    "4": "January  ",
                                    "5": "Monday   ",
                                    "6": "12:00 am",
                                    "7": "24"
                                },
                                {
                                    "0": "2019",
                                    "1": "01",
                                    "2": "1",
                                    "3": "01",
                                    "4": "January  ",
                                    "5": "Monday   ",
                                    "6": "01:00 am",
                                    "7": "16"
                                },
                                {
                                    "0": "2019",
                                    "1": "01",
                                    "2": "1",
                                    "3": "02",
                                    "4": "January  ",
                                    "5": "Monday   ",
                                    "6": "02:00 am",
                                    "7": "11"
                                },
                                {
                                    "0": "2019",
                                    "1": "01",
                                    "2": "1",
                                    "3": "03",
                                    "4": "January  ",
                                    "5": "Monday   ",
                                    "6": "03:00 am",
                                    "7": "3"
                                },
                                {
                                    "0": "2019",
                                    "1": "01",
                                    "2": "1",
                                    "3": "04",
                                    "4": "January  ",
                                    "5": "Monday   ",
                                    "6": "04:00 am",
                                    "7": "15"
                                }
                            ]
                        },
                        "text/html": [
                            "<table>",
                            "<tr><th>year</th><th>month_no</th><th>day_no</th><th>hour_no</th><th>month</th><th>day</th><th>hour</th><th>riders</th></tr>",
                            "<tr><td>2019</td><td>01</td><td>1</td><td>00</td><td>January  </td><td>Monday   </td><td>12:00 am</td><td>24</td></tr>",
                            "<tr><td>2019</td><td>01</td><td>1</td><td>01</td><td>January  </td><td>Monday   </td><td>01:00 am</td><td>16</td></tr>",
                            "<tr><td>2019</td><td>01</td><td>1</td><td>02</td><td>January  </td><td>Monday   </td><td>02:00 am</td><td>11</td></tr>",
                            "<tr><td>2019</td><td>01</td><td>1</td><td>03</td><td>January  </td><td>Monday   </td><td>03:00 am</td><td>3</td></tr>",
                            "<tr><td>2019</td><td>01</td><td>1</td><td>04</td><td>January  </td><td>Monday   </td><td>04:00 am</td><td>15</td></tr>",
                            "</table>"
                        ]
                    }
                }
            ],
            "execution_count": 65
        },
        {
            "cell_type": "markdown",
            "source": [
                "## 1\\. Rider demand by month, compare years"
            ],
            "metadata": {
                "azdata_cell_guid": "18dd401a-ca77-4fce-8cd7-651b55214273"
            }
        },
        {
            "cell_type": "code",
            "source": [
                "-- select \n",
                "-- a.month,\n",
                "-- sum(a.riders) as riders_2018\n",
                "-- from agg_2018 a\n",
                "-- group by a.month, a.month_no\n",
                "-- order by a.month_no;\n",
                "\n",
                "-- select \n",
                "-- a.month,\n",
                "-- sum(a.riders) as riders_2019\n",
                "-- from agg_2019 a\n",
                "-- group by a.month, a.month_no\n",
                "-- order by a.month_no;\n",
                "\n",
                "select \n",
                "a.month,\n",
                "sum(a.riders) as riders_2018,\n",
                "sum(b.riders) as riders_2019,\n",
                "sum(b.riders) - sum(a.riders) as riders_change,\n",
                "round((sum(b.riders) - sum(a.riders)::numeric) / sum(a.riders), 4) * 100 || ' %' as percent_change\n",
                "from agg_2018 a\n",
                "join agg_2019 b on a.month_no = b.month_no and a.day_no = b.day_no and a.hour_no = b.hour_no\n",
                "group by a.month, a.month_no\n",
                "order by a.month_no;"
            ],
            "metadata": {
                "azdata_cell_guid": "df0b8eaa-a636-4893-97f1-c8b0d4da3dc3"
            },
            "outputs": [
                {
                    "output_type": "display_data",
                    "data": {
                        "text/html": "(12 row(s) affected)"
                    },
                    "metadata": {}
                },
                {
                    "output_type": "display_data",
                    "data": {
                        "text/html": "Total execution time: 00:00:00.202"
                    },
                    "metadata": {}
                },
                {
                    "output_type": "execute_result",
                    "metadata": {},
                    "execution_count": 114,
                    "data": {
                        "application/vnd.dataresource+json": {
                            "schema": {
                                "fields": [
                                    {
                                        "name": "month"
                                    },
                                    {
                                        "name": "riders_2018"
                                    },
                                    {
                                        "name": "riders_2019"
                                    },
                                    {
                                        "name": "riders_change"
                                    },
                                    {
                                        "name": "percent_change"
                                    }
                                ]
                            },
                            "data": [
                                {
                                    "0": "January  ",
                                    "1": "40932",
                                    "2": "69872",
                                    "3": "28940",
                                    "4": "70.7000 %"
                                },
                                {
                                    "0": "February ",
                                    "1": "62817",
                                    "2": "80466",
                                    "3": "17649",
                                    "4": "28.1000 %"
                                },
                                {
                                    "0": "March    ",
                                    "1": "62985",
                                    "2": "102369",
                                    "3": "39384",
                                    "4": "62.5300 %"
                                },
                                {
                                    "0": "April    ",
                                    "1": "98194",
                                    "2": "166694",
                                    "3": "68500",
                                    "4": "69.7600 %"
                                },
                                {
                                    "0": "May      ",
                                    "1": "178865",
                                    "2": "223084",
                                    "3": "44219",
                                    "4": "24.7200 %"
                                },
                                {
                                    "0": "June     ",
                                    "1": "205359",
                                    "2": "274022",
                                    "3": "68663",
                                    "4": "33.4400 %"
                                },
                                {
                                    "0": "July     ",
                                    "1": "242916",
                                    "2": "316931",
                                    "3": "74015",
                                    "4": "30.4700 %"
                                },
                                {
                                    "0": "August   ",
                                    "1": "236076",
                                    "2": "337443",
                                    "3": "101367",
                                    "4": "42.9400 %"
                                },
                                {
                                    "0": "September",
                                    "1": "236182",
                                    "2": "363185",
                                    "3": "127003",
                                    "4": "53.7700 %"
                                },
                                {
                                    "0": "October  ",
                                    "1": "200100",
                                    "2": "305504",
                                    "3": "105404",
                                    "4": "52.6800 %"
                                },
                                {
                                    "0": "November ",
                                    "1": "121419",
                                    "2": "190759",
                                    "3": "69340",
                                    "4": "57.1100 %"
                                },
                                {
                                    "0": "December ",
                                    "1": "81961",
                                    "2": "92208",
                                    "3": "10247",
                                    "4": "12.5000 %"
                                }
                            ]
                        },
                        "text/html": [
                            "<table>",
                            "<tr><th>month</th><th>riders_2018</th><th>riders_2019</th><th>riders_change</th><th>percent_change</th></tr>",
                            "<tr><td>January  </td><td>40932</td><td>69872</td><td>28940</td><td>70.7000 %</td></tr>",
                            "<tr><td>February </td><td>62817</td><td>80466</td><td>17649</td><td>28.1000 %</td></tr>",
                            "<tr><td>March    </td><td>62985</td><td>102369</td><td>39384</td><td>62.5300 %</td></tr>",
                            "<tr><td>April    </td><td>98194</td><td>166694</td><td>68500</td><td>69.7600 %</td></tr>",
                            "<tr><td>May      </td><td>178865</td><td>223084</td><td>44219</td><td>24.7200 %</td></tr>",
                            "<tr><td>June     </td><td>205359</td><td>274022</td><td>68663</td><td>33.4400 %</td></tr>",
                            "<tr><td>July     </td><td>242916</td><td>316931</td><td>74015</td><td>30.4700 %</td></tr>",
                            "<tr><td>August   </td><td>236076</td><td>337443</td><td>101367</td><td>42.9400 %</td></tr>",
                            "<tr><td>September</td><td>236182</td><td>363185</td><td>127003</td><td>53.7700 %</td></tr>",
                            "<tr><td>October  </td><td>200100</td><td>305504</td><td>105404</td><td>52.6800 %</td></tr>",
                            "<tr><td>November </td><td>121419</td><td>190759</td><td>69340</td><td>57.1100 %</td></tr>",
                            "<tr><td>December </td><td>81961</td><td>92208</td><td>10247</td><td>12.5000 %</td></tr>",
                            "</table>"
                        ]
                    }
                }
            ],
            "execution_count": 114
        },
        {
            "cell_type": "markdown",
            "source": [
                "# Rider Demand by Day of Week, Compare Years"
            ],
            "metadata": {
                "azdata_cell_guid": "20c07ac7-800c-48c6-b712-4313c2adc4f2"
            }
        },
        {
            "cell_type": "code",
            "source": [
                "select \n",
                "a.day,\n",
                "sum(a.riders) as riders_2018,\n",
                "sum(b.riders) as riders_2019,\n",
                "sum(b.riders) - sum(a.riders) as riders_change,\n",
                "-- min(sum(b.riders) - sum(a.riders)) over() as min_riders_change,\n",
                "-- max(sum(b.riders) - sum(a.riders)) over() as max_riders_change,\n",
                "round(((sum(b.riders) - sum(a.riders)) - (min(sum(b.riders) - sum(a.riders)) over()))    /    ((max(sum(b.riders) - sum(a.riders)) over()) - (min(sum(b.riders) - sum(a.riders)) over())), 4) as relative_rider_change,\n",
                "\n",
                "round((sum(b.riders) - sum(a.riders)::numeric) / sum(a.riders), 4) * 100 || ' %' as percent_change,\n",
                "-- max((sum(b.riders) - sum(a.riders)::numeric) / sum(a.riders)) over() as max_change,\n",
                "-- min((sum(b.riders) - sum(a.riders)::numeric) / sum(a.riders)) over() as min_change,\n",
                "-- ((sum(b.riders) - sum(a.riders)::numeric) / sum(a.riders) - (min((sum(b.riders) - sum(a.riders)::numeric) / sum(a.riders)) over())) as new_value, -- this is good\n",
                "round(((sum(b.riders) - sum(a.riders)::numeric) / sum(a.riders) - (min((sum(b.riders) - sum(a.riders)::numeric) / sum(a.riders)) over())) / ((max((sum(b.riders) - sum(a.riders)::numeric) / sum(a.riders)) over()) - (min((sum(b.riders) - sum(a.riders)::numeric) / sum(a.riders)) over())), 4) * 100 || ' %' as min_max_scaled_change,\n",
                "-- ((percent change of riders) - (minimum of percent change of riders)) / ((maximum of percent change of riders) - (minimum of percent change of riders))\n",
                "round(((sum(b.riders) - sum(a.riders)::numeric) / sum(a.riders)) / avg((sum(b.riders) - sum(a.riders)::numeric) / sum(a.riders)) over() - 1, 4) * 100 || ' %' as normalized_abolute_change\n",
                "\n",
                "from agg_2018 a\n",
                "join agg_2019 b on a.month_no = b.month_no and a.day_no = b.day_no and a.hour_no = b.hour_no\n",
                "group by a.day, a.day_no\n",
                "order by a.day_no;"
            ],
            "metadata": {
                "azdata_cell_guid": "b742291e-1e94-4e01-87ba-fb95fd9c2ada"
            },
            "outputs": [
                {
                    "output_type": "display_data",
                    "data": {
                        "text/html": "(7 row(s) affected)"
                    },
                    "metadata": {}
                },
                {
                    "output_type": "display_data",
                    "data": {
                        "text/html": "Total execution time: 00:00:00.178"
                    },
                    "metadata": {}
                },
                {
                    "output_type": "execute_result",
                    "metadata": {},
                    "execution_count": 148,
                    "data": {
                        "application/vnd.dataresource+json": {
                            "schema": {
                                "fields": [
                                    {
                                        "name": "day"
                                    },
                                    {
                                        "name": "riders_2018"
                                    },
                                    {
                                        "name": "riders_2019"
                                    },
                                    {
                                        "name": "riders_change"
                                    },
                                    {
                                        "name": "relative_rider_change"
                                    },
                                    {
                                        "name": "percent_change"
                                    },
                                    {
                                        "name": "min_max_scaled_change"
                                    },
                                    {
                                        "name": "normalized_abolute_change"
                                    }
                                ]
                            },
                            "data": [
                                {
                                    "0": "Monday   ",
                                    "1": "256032",
                                    "2": "372387",
                                    "3": "116355",
                                    "4": "0.8831",
                                    "5": "45.4500 %",
                                    "6": "57.2000 %",
                                    "7": "4.5500 %"
                                },
                                {
                                    "0": "Tuesday  ",
                                    "1": "265161",
                                    "2": "384455",
                                    "3": "119294",
                                    "4": "1.0000",
                                    "5": "44.9900 %",
                                    "6": "54.7000 %",
                                    "7": "3.5000 %"
                                },
                                {
                                    "0": "Wednesday",
                                    "1": "288485",
                                    "2": "389421",
                                    "3": "100936",
                                    "4": "0.2699",
                                    "5": "34.9900 %",
                                    "6": "0.0000 %",
                                    "7": "-19.5000 %"
                                },
                                {
                                    "0": "Thursday ",
                                    "1": "282700",
                                    "2": "386579",
                                    "3": "103879",
                                    "4": "0.3870",
                                    "5": "36.7500 %",
                                    "6": "9.6100 %",
                                    "7": "-15.4600 %"
                                },
                                {
                                    "0": "Friday   ",
                                    "1": "276229",
                                    "2": "385468",
                                    "3": "109239",
                                    "4": "0.6001",
                                    "5": "39.5500 %",
                                    "6": "24.9300 %",
                                    "7": "-9.0200 %"
                                },
                                {
                                    "0": "Saturday ",
                                    "1": "208144",
                                    "2": "319024",
                                    "3": "110880",
                                    "4": "0.6654",
                                    "5": "53.2700 %",
                                    "6": "100.0000 %",
                                    "7": "22.5600 %"
                                },
                                {
                                    "0": "Sunday   ",
                                    "1": "191055",
                                    "2": "285203",
                                    "3": "94148",
                                    "4": "0.0000",
                                    "5": "49.2800 %",
                                    "6": "78.1600 %",
                                    "7": "13.3700 %"
                                }
                            ]
                        },
                        "text/html": [
                            "<table>",
                            "<tr><th>day</th><th>riders_2018</th><th>riders_2019</th><th>riders_change</th><th>relative_rider_change</th><th>percent_change</th><th>min_max_scaled_change</th><th>normalized_abolute_change</th></tr>",
                            "<tr><td>Monday   </td><td>256032</td><td>372387</td><td>116355</td><td>0.8831</td><td>45.4500 %</td><td>57.2000 %</td><td>4.5500 %</td></tr>",
                            "<tr><td>Tuesday  </td><td>265161</td><td>384455</td><td>119294</td><td>1.0000</td><td>44.9900 %</td><td>54.7000 %</td><td>3.5000 %</td></tr>",
                            "<tr><td>Wednesday</td><td>288485</td><td>389421</td><td>100936</td><td>0.2699</td><td>34.9900 %</td><td>0.0000 %</td><td>-19.5000 %</td></tr>",
                            "<tr><td>Thursday </td><td>282700</td><td>386579</td><td>103879</td><td>0.3870</td><td>36.7500 %</td><td>9.6100 %</td><td>-15.4600 %</td></tr>",
                            "<tr><td>Friday   </td><td>276229</td><td>385468</td><td>109239</td><td>0.6001</td><td>39.5500 %</td><td>24.9300 %</td><td>-9.0200 %</td></tr>",
                            "<tr><td>Saturday </td><td>208144</td><td>319024</td><td>110880</td><td>0.6654</td><td>53.2700 %</td><td>100.0000 %</td><td>22.5600 %</td></tr>",
                            "<tr><td>Sunday   </td><td>191055</td><td>285203</td><td>94148</td><td>0.0000</td><td>49.2800 %</td><td>78.1600 %</td><td>13.3700 %</td></tr>",
                            "</table>"
                        ]
                    }
                }
            ],
            "execution_count": 148
        },
        {
            "cell_type": "markdown",
            "source": [
                "# Rider Demand by Hour of Day, Compare Years"
            ],
            "metadata": {
                "azdata_cell_guid": "bf75c6b1-c4af-4945-ac36-26c081b1bf0a"
            }
        },
        {
            "cell_type": "code",
            "source": [
                "select \n",
                "a.hour,\n",
                "sum(a.riders) as riders_2018,\n",
                "sum(b.riders) as riders_2019,\n",
                "sum(b.riders) - sum(a.riders) as riders_change,\n",
                "round((sum(b.riders) - sum(a.riders)::numeric) / sum(a.riders), 4) * 100 || ' %' as percent_change,\n",
                "round(((sum(b.riders) - sum(a.riders)) - (min(sum(b.riders) - sum(a.riders)) over()))    /    ((max(sum(b.riders) - sum(a.riders)) over()) - (min(sum(b.riders) - sum(a.riders)) over())), 4) as relative_rider_change,\n",
                "round(((sum(b.riders) - sum(a.riders)::numeric) / sum(a.riders) - (min((sum(b.riders) - sum(a.riders)::numeric) / sum(a.riders)) over())) / ((max((sum(b.riders) - sum(a.riders)::numeric) / sum(a.riders)) over()) - (min((sum(b.riders) - sum(a.riders)::numeric) / sum(a.riders)) over())), 4) * 100 || ' %' as min_max_scaled_change,\n",
                "round(((sum(b.riders) - sum(a.riders)::numeric) / sum(a.riders)) / avg((sum(b.riders) - sum(a.riders)::numeric) / sum(a.riders)) over() - 1, 4) * 100 || ' %' as normalized_abolute_change\n",
                "from agg_2018 a\n",
                "join agg_2019 b on a.month_no = b.month_no and a.day_no = b.day_no and a.hour_no = b.hour_no\n",
                "group by a.hour, a.hour_no\n",
                "order by a.hour_no;"
            ],
            "metadata": {
                "azdata_cell_guid": "2ba56512-3382-4801-975b-6cc448bbac4c"
            },
            "outputs": [
{
    "output_type": "display_data",
    "data": {
        "text/html": "(24 row(s) affected)"
    },
    "metadata": {}
}, {
    "output_type": "display_data",
    "data": {
        "text/html": "Total execution time: 00:00:00.190"
    },
    "metadata": {}
}, {
    "output_type": "execute_result",
    "metadata": {},
    "execution_count": 150,
    "data": {
        "application/vnd.dataresource+json": {
            "schema": {
                "fields": [
                    {
                        "name": "hour"
                    },
                    {
                        "name": "riders_2018"
                    },
                    {
                        "name": "riders_2019"
                    },
                    {
                        "name": "riders_change"
                    },
                    {
                        "name": "percent_change"
                    },
                    {
                        "name": "relative_rider_change"
                    },
                    {
                        "name": "min_max_scaled_change"
                    },
                    {
                        "name": "normalized_abolute_change"
                    }
                ]
            },
            "data": [
                {
                    "0": "12:00 am",
                    "1": "14381",
                    "2": "20420",
                    "3": "6039",
                    "4": "41.9900 %",
                    "5": "0.0629",
                    "6": "41.2700 %",
                    "7": "-3.0800 %"
                },
                {
                    "0": "01:00 am",
                    "1": "9333",
                    "2": "14251",
                    "3": "4918",
                    "4": "52.6900 %",
                    "5": "0.0493",
                    "6": "100.0000 %",
                    "7": "21.6200 %"
                },
                {
                    "0": "02:00 am",
                    "1": "5968",
                    "2": "8752",
                    "3": "2784",
                    "4": "46.6500 %",
                    "5": "0.0234",
                    "6": "66.8200 %",
                    "7": "7.6700 %"
                },
                {
                    "0": "03:00 am",
                    "1": "2217",
                    "2": "3078",
                    "3": "861",
                    "4": "38.8400 %",
                    "5": "0.0000",
                    "6": "23.9400 %",
                    "7": "-10.3600 %"
                },
                {
                    "0": "04:00 am",
                    "1": "2339",
                    "2": "3394",
                    "3": "1055",
                    "4": "45.1000 %",
                    "5": "0.0024",
                    "6": "58.3400 %",
                    "7": "4.1000 %"
                },
                {
                    "0": "05:00 am",
                    "1": "10571",
                    "2": "15065",
                    "3": "4494",
                    "4": "42.5100 %",
                    "5": "0.0441",
                    "6": "44.1200 %",
                    "7": "-1.8800 %"
                },
                {
                    "0": "06:00 am",
                    "1": "35046",
                    "2": "47183",
                    "3": "12137",
                    "4": "34.6300 %",
                    "5": "0.1370",
                    "6": "0.8700 %",
                    "7": "-20.0700 %"
                },
                {
                    "0": "07:00 am",
                    "1": "96792",
                    "2": "130160",
                    "3": "33368",
                    "4": "34.4700 %",
                    "5": "0.3950",
                    "6": "0.0000 %",
                    "7": "-20.4300 %"
                },
                {
                    "0": "08:00 am",
                    "1": "167768",
                    "2": "229859",
                    "3": "62091",
                    "4": "37.0100 %",
                    "5": "0.7441",
                    "6": "13.9200 %",
                    "7": "-14.5800 %"
                },
                {
                    "0": "09:00 am",
                    "1": "98617",
                    "2": "141669",
                    "3": "43052",
                    "4": "43.6600 %",
                    "5": "0.5127",
                    "6": "50.3900 %",
                    "7": "0.7600 %"
                },
                {
                    "0": "10:00 am",
                    "1": "72210",
                    "2": "103618",
                    "3": "31408",
                    "4": "43.5000 %",
                    "5": "0.3712",
                    "6": "49.5100 %",
                    "7": "0.3900 %"
                },
                {
                    "0": "11:00 am",
                    "1": "79697",
                    "2": "115789",
                    "3": "36092",
                    "4": "45.2900 %",
                    "5": "0.4281",
                    "6": "59.3400 %",
                    "7": "4.5200 %"
                },
                {
                    "0": "12:00 pm",
                    "1": "93262",
                    "2": "133666",
                    "3": "40404",
                    "4": "43.3200 %",
                    "5": "0.4805",
                    "6": "48.5700 %",
                    "7": "-0.0100 %"
                },
                {
                    "0": "01:00 pm",
                    "1": "92421",
                    "2": "133051",
                    "3": "40630",
                    "4": "43.9600 %",
                    "5": "0.4833",
                    "6": "52.0700 %",
                    "7": "1.4700 %"
                },
                {
                    "0": "02:00 pm",
                    "1": "91282",
                    "2": "133146",
                    "3": "41864",
                    "4": "45.8600 %",
                    "5": "0.4983",
                    "6": "62.5000 %",
                    "7": "5.8500 %"
                },
                {
                    "0": "03:00 pm",
                    "1": "104081",
                    "2": "151757",
                    "3": "47676",
                    "4": "45.8100 %",
                    "5": "0.5689",
                    "6": "62.2000 %",
                    "7": "5.7200 %"
                },
                {
                    "0": "04:00 pm",
                    "1": "153387",
                    "2": "216366",
                    "3": "62979",
                    "4": "41.0600 %",
                    "5": "0.7549",
                    "6": "36.1400 %",
                    "7": "-5.2300 %"
                },
                {
                    "0": "05:00 pm",
                    "1": "201799",
                    "2": "284948",
                    "3": "83149",
                    "4": "41.2000 %",
                    "5": "1.0000",
                    "6": "36.9400 %",
                    "7": "-4.9000 %"
                },
                {
                    "0": "06:00 pm",
                    "1": "147780",
                    "2": "214919",
                    "3": "67139",
                    "4": "45.4300 %",
                    "5": "0.8054",
                    "6": "60.1400 %",
                    "7": "4.8600 %"
                },
                {
                    "0": "07:00 pm",
                    "1": "102336",
                    "2": "150239",
                    "3": "47903",
                    "4": "46.8100 %",
                    "5": "0.5717",
                    "6": "67.7000 %",
                    "7": "8.0400 %"
                },
                {
                    "0": "08:00 pm",
                    "1": "70877",
                    "2": "103766",
                    "3": "32889",
                    "4": "46.4000 %",
                    "5": "0.3892",
                    "6": "65.4700 %",
                    "7": "7.1000 %"
                },
                {
                    "0": "09:00 pm",
                    "1": "52345",
                    "2": "76284",
                    "3": "23939",
                    "4": "45.7300 %",
                    "5": "0.2805",
                    "6": "61.7900 %",
                    "7": "5.5500 %"
                },
                {
                    "0": "10:00 pm",
                    "1": "38650",
                    "2": "55744",
                    "3": "17094",
                    "4": "44.2300 %",
                    "5": "0.1973",
                    "6": "53.5300 %",
                    "7": "2.0800 %"
                },
                {
                    "0": "11:00 pm",
                    "1": "24647",
                    "2": "35413",
                    "3": "10766",
                    "4": "43.6800 %",
                    "5": "0.1204",
                    "6": "50.5300 %",
                    "7": "0.8200 %"
                }
            ]
        },
        "text/html": [
            "<table>",
            "<tr><th>hour</th><th>riders_2018</th><th>riders_2019</th><th>riders_change</th><th>percent_change</th><th>relative_rider_change</th><th>min_max_scaled_change</th><th>normalized_abolute_change</th></tr>",
            "<tr><td>12:00 am</td><td>14381</td><td>20420</td><td>6039</td><td>41.9900 %</td><td>0.0629</td><td>41.2700 %</td><td>-3.0800 %</td></tr>",
            "<tr><td>01:00 am</td><td>9333</td><td>14251</td><td>4918</td><td>52.6900 %</td><td>0.0493</td><td>100.0000 %</td><td>21.6200 %</td></tr>",
            "<tr><td>02:00 am</td><td>5968</td><td>8752</td><td>2784</td><td>46.6500 %</td><td>0.0234</td><td>66.8200 %</td><td>7.6700 %</td></tr>",
            "<tr><td>03:00 am</td><td>2217</td><td>3078</td><td>861</td><td>38.8400 %</td><td>0.0000</td><td>23.9400 %</td><td>-10.3600 %</td></tr>",
            "<tr><td>04:00 am</td><td>2339</td><td>3394</td><td>1055</td><td>45.1000 %</td><td>0.0024</td><td>58.3400 %</td><td>4.1000 %</td></tr>",
            "<tr><td>05:00 am</td><td>10571</td><td>15065</td><td>4494</td><td>42.5100 %</td><td>0.0441</td><td>44.1200 %</td><td>-1.8800 %</td></tr>",
            "<tr><td>06:00 am</td><td>35046</td><td>47183</td><td>12137</td><td>34.6300 %</td><td>0.1370</td><td>0.8700 %</td><td>-20.0700 %</td></tr>",
            "<tr><td>07:00 am</td><td>96792</td><td>130160</td><td>33368</td><td>34.4700 %</td><td>0.3950</td><td>0.0000 %</td><td>-20.4300 %</td></tr>",
            "<tr><td>08:00 am</td><td>167768</td><td>229859</td><td>62091</td><td>37.0100 %</td><td>0.7441</td><td>13.9200 %</td><td>-14.5800 %</td></tr>",
            "<tr><td>09:00 am</td><td>98617</td><td>141669</td><td>43052</td><td>43.6600 %</td><td>0.5127</td><td>50.3900 %</td><td>0.7600 %</td></tr>",
            "<tr><td>10:00 am</td><td>72210</td><td>103618</td><td>31408</td><td>43.5000 %</td><td>0.3712</td><td>49.5100 %</td><td>0.3900 %</td></tr>",
            "<tr><td>11:00 am</td><td>79697</td><td>115789</td><td>36092</td><td>45.2900 %</td><td>0.4281</td><td>59.3400 %</td><td>4.5200 %</td></tr>",
            "<tr><td>12:00 pm</td><td>93262</td><td>133666</td><td>40404</td><td>43.3200 %</td><td>0.4805</td><td>48.5700 %</td><td>-0.0100 %</td></tr>",
            "<tr><td>01:00 pm</td><td>92421</td><td>133051</td><td>40630</td><td>43.9600 %</td><td>0.4833</td><td>52.0700 %</td><td>1.4700 %</td></tr>",
            "<tr><td>02:00 pm</td><td>91282</td><td>133146</td><td>41864</td><td>45.8600 %</td><td>0.4983</td><td>62.5000 %</td><td>5.8500 %</td></tr>",
            "<tr><td>03:00 pm</td><td>104081</td><td>151757</td><td>47676</td><td>45.8100 %</td><td>0.5689</td><td>62.2000 %</td><td>5.7200 %</td></tr>",
            "<tr><td>04:00 pm</td><td>153387</td><td>216366</td><td>62979</td><td>41.0600 %</td><td>0.7549</td><td>36.1400 %</td><td>-5.2300 %</td></tr>",
            "<tr><td>05:00 pm</td><td>201799</td><td>284948</td><td>83149</td><td>41.2000 %</td><td>1.0000</td><td>36.9400 %</td><td>-4.9000 %</td></tr>",
            "<tr><td>06:00 pm</td><td>147780</td><td>214919</td><td>67139</td><td>45.4300 %</td><td>0.8054</td><td>60.1400 %</td><td>4.8600 %</td></tr>",
            "<tr><td>07:00 pm</td><td>102336</td><td>150239</td><td>47903</td><td>46.8100 %</td><td>0.5717</td><td>67.7000 %</td><td>8.0400 %</td></tr>",
            "<tr><td>08:00 pm</td><td>70877</td><td>103766</td><td>32889</td><td>46.4000 %</td><td>0.3892</td><td>65.4700 %</td><td>7.1000 %</td></tr>",
            "<tr><td>09:00 pm</td><td>52345</td><td>76284</td><td>23939</td><td>45.7300 %</td><td>0.2805</td><td>61.7900 %</td><td>5.5500 %</td></tr>",
            "<tr><td>10:00 pm</td><td>38650</td><td>55744</td><td>17094</td><td>44.2300 %</td><td>0.1973</td><td>53.5300 %</td><td>2.0800 %</td></tr>",
            "<tr><td>11:00 pm</td><td>24647</td><td>35413</td><td>10766</td><td>43.6800 %</td><td>0.1204</td><td>50.5300 %</td><td>0.8200 %</td></tr>",
            "</table>"
        ]
    }
}
],
            "execution_count": 150
        },
        {
            "cell_type": "markdown",
            "source": [
                "# Rider Demand by Hour of Every Day, Compare Years"
            ],
            "metadata": {
                "azdata_cell_guid": "150c5ffd-1e93-466b-ad28-0a0f279202fc"
            }
        },
        {
            "cell_type": "code",
            "source": [
                "select\n",
                "a.day,\n",
                "a.hour,\n",
                "sum(a.riders) as riders_2018,\n",
                "sum(b.riders) as riders_2019,\n",
                "sum(b.riders) - sum(a.riders) as riders_change,\n",
                "round((sum(b.riders) - sum(a.riders)::numeric) / sum(a.riders), 4) * 100 || ' %' as percent_change,\n",
                "round(((sum(b.riders) - sum(a.riders)) - (min(sum(b.riders) - sum(a.riders)) over()))    /    ((max(sum(b.riders) - sum(a.riders)) over()) - (min(sum(b.riders) - sum(a.riders)) over())), 4) as relative_rider_change,\n",
                "round(((sum(b.riders) - sum(a.riders)::numeric) / sum(a.riders) - (min((sum(b.riders) - sum(a.riders)::numeric) / sum(a.riders)) over())) / ((max((sum(b.riders) - sum(a.riders)::numeric) / sum(a.riders)) over()) - (min((sum(b.riders) - sum(a.riders)::numeric) / sum(a.riders)) over())), 4) * 100 || ' %' as min_max_scaled_change,\n",
                "round(((sum(b.riders) - sum(a.riders)::numeric) / sum(a.riders)) / avg((sum(b.riders) - sum(a.riders)::numeric) / sum(a.riders)) over() - 1, 4) * 100 || ' %' as normalized_abolute_change\n",
                "from agg_2018 a\n",
                "join agg_2019 b on a.month_no = b.month_no and a.day_no = b.day_no and a.hour_no = b.hour_no\n",
                "group by a.day, a.day_no, a.hour, a.hour_no\n",
                "order by a.day_no, a.hour_no;"
            ],
            "metadata": {
                "azdata_cell_guid": "798669e2-5e8b-44dc-ac48-9dedc98fad7d"
            },
            "outputs": [
{
    "output_type": "display_data",
    "data": {
        "text/html": "(168 row(s) affected)"
    },
    "metadata": {}
}, {
    "output_type": "display_data",
    "data": {
        "text/html": "Total execution time: 00:00:00.226"
    },
    "metadata": {}
}, {
    "output_type": "execute_result",
    "metadata": {},
    "execution_count": 151,
    "data": {
        "application/vnd.dataresource+json": {
            "schema": {
                "fields": [
                    {
                        "name": "day"
                    },
                    {
                        "name": "hour"
                    },
                    {
                        "name": "riders_2018"
                    },
                    {
                        "name": "riders_2019"
                    },
                    {
                        "name": "riders_change"
                    },
                    {
                        "name": "percent_change"
                    },
                    {
                        "name": "relative_rider_change"
                    },
                    {
                        "name": "min_max_scaled_change"
                    },
                    {
                        "name": "normalized_abolute_change"
                    }
                ]
            },
            "data": [
                {
                    "0": "Monday   ",
                    "1": "12:00 am",
                    "2": "1574",
                    "3": "2139",
                    "4": "565",
                    "5": "35.9000 %",
                    "6": "0.0313",
                    "7": "27.4100 %",
                    "8": "-18.7900 %"
                },
                {
                    "0": "Monday   ",
                    "1": "01:00 am",
                    "2": "882",
                    "3": "1223",
                    "4": "341",
                    "5": "38.6600 %",
                    "6": "0.0182",
                    "7": "30.7100 %",
                    "8": "-12.5400 %"
                },
                {
                    "0": "Monday   ",
                    "1": "02:00 am",
                    "2": "446",
                    "3": "707",
                    "4": "261",
                    "5": "58.5200 %",
                    "6": "0.0136",
                    "7": "54.4000 %",
                    "8": "32.3900 %"
                },
                {
                    "0": "Monday   ",
                    "1": "03:00 am",
                    "2": "224",
                    "3": "289",
                    "4": "65",
                    "5": "29.0200 %",
                    "6": "0.0022",
                    "7": "19.2000 %",
                    "8": "-34.3500 %"
                },
                {
                    "0": "Monday   ",
                    "1": "04:00 am",
                    "2": "347",
                    "3": "552",
                    "4": "205",
                    "5": "59.0800 %",
                    "6": "0.0103",
                    "7": "55.0700 %",
                    "8": "33.6500 %"
                },
                {
                    "0": "Monday   ",
                    "1": "05:00 am",
                    "2": "1860",
                    "3": "2580",
                    "4": "720",
                    "5": "38.7100 %",
                    "6": "0.0403",
                    "7": "30.7600 %",
                    "8": "-12.4300 %"
                },
                {
                    "0": "Monday   ",
                    "1": "06:00 am",
                    "2": "6018",
                    "3": "8431",
                    "4": "2413",
                    "5": "40.1000 %",
                    "6": "0.1389",
                    "7": "32.4200 %",
                    "8": "-9.2900 %"
                },
                {
                    "0": "Monday   ",
                    "1": "07:00 am",
                    "2": "16947",
                    "3": "23693",
                    "4": "6746",
                    "5": "39.8100 %",
                    "6": "0.3912",
                    "7": "32.0700 %",
                    "8": "-9.9500 %"
                },
                {
                    "0": "Monday   ",
                    "1": "08:00 am",
                    "2": "29106",
                    "3": "40835",
                    "4": "11729",
                    "5": "40.3000 %",
                    "6": "0.6814",
                    "7": "32.6600 %",
                    "8": "-8.8400 %"
                },
                {
                    "0": "Monday   ",
                    "1": "09:00 am",
                    "2": "14872",
                    "3": "22167",
                    "4": "7295",
                    "5": "49.0500 %",
                    "6": "0.4232",
                    "7": "43.1100 %",
                    "8": "10.9700 %"
                },
                {
                    "0": "Monday   ",
                    "1": "10:00 am",
                    "2": "9116",
                    "3": "13822",
                    "4": "4706",
                    "5": "51.6200 %",
                    "6": "0.2724",
                    "7": "46.1700 %",
                    "8": "16.7900 %"
                },
                {
                    "0": "Monday   ",
                    "1": "11:00 am",
                    "2": "9635",
                    "3": "14630",
                    "4": "4995",
                    "5": "51.8400 %",
                    "6": "0.2892",
                    "7": "46.4400 %",
                    "8": "17.2800 %"
                },
                {
                    "0": "Monday   ",
                    "1": "12:00 pm",
                    "2": "11498",
                    "3": "16986",
                    "4": "5488",
                    "5": "47.7300 %",
                    "6": "0.3180",
                    "7": "41.5300 %",
                    "8": "7.9800 %"
                },
                {
                    "0": "Monday   ",
                    "1": "01:00 pm",
                    "2": "10984",
                    "3": "16031",
                    "4": "5047",
                    "5": "45.9500 %",
                    "6": "0.2923",
                    "7": "39.4000 %",
                    "8": "3.9500 %"
                },
                {
                    "0": "Monday   ",
                    "1": "02:00 pm",
                    "2": "10774",
                    "3": "16408",
                    "4": "5634",
                    "5": "52.2900 %",
                    "6": "0.3265",
                    "7": "46.9700 %",
                    "8": "18.3000 %"
                },
                {
                    "0": "Monday   ",
                    "1": "03:00 pm",
                    "2": "13406",
                    "3": "19396",
                    "4": "5990",
                    "5": "44.6800 %",
                    "6": "0.3472",
                    "7": "37.8900 %",
                    "8": "1.0800 %"
                },
                {
                    "0": "Monday   ",
                    "1": "04:00 pm",
                    "2": "22574",
                    "3": "32409",
                    "4": "9835",
                    "5": "43.5700 %",
                    "6": "0.5711",
                    "7": "36.5600 %",
                    "8": "-1.4400 %"
                },
                {
                    "0": "Monday   ",
                    "1": "05:00 pm",
                    "2": "33529",
                    "3": "47914",
                    "4": "14385",
                    "5": "42.9000 %",
                    "6": "0.8361",
                    "7": "35.7700 %",
                    "8": "-2.9400 %"
                },
                {
                    "0": "Monday   ",
                    "1": "06:00 pm",
                    "2": "23178",
                    "3": "34306",
                    "4": "11128",
                    "5": "48.0100 %",
                    "6": "0.6464",
                    "7": "41.8600 %",
                    "8": "8.6100 %"
                },
                {
                    "0": "Monday   ",
                    "1": "07:00 pm",
                    "2": "15289",
                    "3": "22784",
                    "4": "7495",
                    "5": "49.0200 %",
                    "6": "0.4348",
                    "7": "43.0700 %",
                    "8": "10.9000 %"
                },
                {
                    "0": "Monday   ",
                    "1": "08:00 pm",
                    "2": "10078",
                    "3": "15081",
                    "4": "5003",
                    "5": "49.6400 %",
                    "6": "0.2897",
                    "7": "43.8100 %",
                    "8": "12.3100 %"
                },
                {
                    "0": "Monday   ",
                    "1": "09:00 pm",
                    "2": "6854",
                    "3": "10180",
                    "4": "3326",
                    "5": "48.5300 %",
                    "6": "0.1921",
                    "7": "42.4800 %",
                    "8": "9.7800 %"
                },
                {
                    "0": "Monday   ",
                    "1": "10:00 pm",
                    "2": "4440",
                    "3": "6433",
                    "4": "1993",
                    "5": "44.8900 %",
                    "6": "0.1144",
                    "7": "38.1400 %",
                    "8": "1.5500 %"
                },
                {
                    "0": "Monday   ",
                    "1": "11:00 pm",
                    "2": "2401",
                    "3": "3391",
                    "4": "990",
                    "5": "41.2300 %",
                    "6": "0.0560",
                    "7": "33.7800 %",
                    "8": "-6.7200 %"
                },
                {
                    "0": "Tuesday  ",
                    "1": "12:00 am",
                    "2": "1175",
                    "3": "1638",
                    "4": "463",
                    "5": "39.4000 %",
                    "6": "0.0253",
                    "7": "31.5900 %",
                    "8": "-10.8600 %"
                },
                {
                    "0": "Tuesday  ",
                    "1": "01:00 am",
                    "2": "585",
                    "3": "849",
                    "4": "264",
                    "5": "45.1300 %",
                    "6": "0.0137",
                    "7": "38.4200 %",
                    "8": "2.0900 %"
                },
                {
                    "0": "Tuesday  ",
                    "1": "02:00 am",
                    "2": "354",
                    "3": "544",
                    "4": "190",
                    "5": "53.6700 %",
                    "6": "0.0094",
                    "7": "48.6200 %",
                    "8": "21.4200 %"
                },
                {
                    "0": "Tuesday  ",
                    "1": "03:00 am",
                    "2": "153",
                    "3": "301",
                    "4": "148",
                    "5": "96.7300 %",
                    "6": "0.0070",
                    "7": "100.0000 %",
                    "8": "118.8300 %"
                },
                {
                    "0": "Tuesday  ",
                    "1": "04:00 am",
                    "2": "324",
                    "3": "498",
                    "4": "174",
                    "5": "53.7000 %",
                    "6": "0.0085",
                    "7": "48.6600 %",
                    "8": "21.4900 %"
                },
                {
                    "0": "Tuesday  ",
                    "1": "05:00 am",
                    "2": "2090",
                    "3": "2951",
                    "4": "861",
                    "5": "41.2000 %",
                    "6": "0.0485",
                    "7": "33.7300 %",
                    "8": "-6.8000 %"
                },
                {
                    "0": "Tuesday  ",
                    "1": "06:00 am",
                    "2": "7061",
                    "3": "9355",
                    "4": "2294",
                    "5": "32.4900 %",
                    "6": "0.1320",
                    "7": "23.3400 %",
                    "8": "-26.5000 %"
                },
                {
                    "0": "Tuesday  ",
                    "1": "07:00 am",
                    "2": "19600",
                    "3": "25726",
                    "4": "6126",
                    "5": "31.2600 %",
                    "6": "0.3551",
                    "7": "21.8700 %",
                    "8": "-29.2900 %"
                },
                {
                    "0": "Tuesday  ",
                    "1": "08:00 am",
                    "2": "32890",
                    "3": "44408",
                    "4": "11518",
                    "5": "35.0200 %",
                    "6": "0.6691",
                    "7": "26.3600 %",
                    "8": "-20.7800 %"
                },
                {
                    "0": "Tuesday  ",
                    "1": "09:00 am",
                    "2": "16363",
                    "3": "23132",
                    "4": "6769",
                    "5": "41.3700 %",
                    "6": "0.3926",
                    "7": "33.9400 %",
                    "8": "-6.4100 %"
                },
                {
                    "0": "Tuesday  ",
                    "1": "10:00 am",
                    "2": "9063",
                    "3": "13074",
                    "4": "4011",
                    "5": "44.2600 %",
                    "6": "0.2319",
                    "7": "37.3800 %",
                    "8": "0.1200 %"
                },
                {
                    "0": "Tuesday  ",
                    "1": "11:00 am",
                    "2": "9359",
                    "3": "13504",
                    "4": "4145",
                    "5": "44.2900 %",
                    "6": "0.2398",
                    "7": "37.4200 %",
                    "8": "0.1900 %"
                },
                {
                    "0": "Tuesday  ",
                    "1": "12:00 pm",
                    "2": "10889",
                    "3": "15667",
                    "4": "4778",
                    "5": "43.8800 %",
                    "6": "0.2766",
                    "7": "36.9300 %",
                    "8": "-0.7300 %"
                },
                {
                    "0": "Tuesday  ",
                    "1": "01:00 pm",
                    "2": "10147",
                    "3": "14889",
                    "4": "4742",
                    "5": "46.7300 %",
                    "6": "0.2745",
                    "7": "40.3400 %",
                    "8": "5.7200 %"
                },
                {
                    "0": "Tuesday  ",
                    "1": "02:00 pm",
                    "2": "9816",
                    "3": "14801",
                    "4": "4985",
                    "5": "50.7800 %",
                    "6": "0.2887",
                    "7": "45.1700 %",
                    "8": "14.8900 %"
                },
                {
                    "0": "Tuesday  ",
                    "1": "03:00 pm",
                    "2": "12016",
                    "3": "18479",
                    "4": "6463",
                    "5": "53.7900 %",
                    "6": "0.3747",
                    "7": "48.7600 %",
                    "8": "21.6800 %"
                },
                {
                    "0": "Tuesday  ",
                    "1": "04:00 pm",
                    "2": "22270",
                    "3": "33023",
                    "4": "10753",
                    "5": "48.2800 %",
                    "6": "0.6246",
                    "7": "42.1900 %",
                    "8": "9.2300 %"
                },
                {
                    "0": "Tuesday  ",
                    "1": "05:00 pm",
                    "2": "33838",
                    "3": "51038",
                    "4": "17200",
                    "5": "50.8300 %",
                    "6": "1.0000",
                    "7": "45.2300 %",
                    "8": "14.9900 %"
                },
                {
                    "0": "Tuesday  ",
                    "1": "06:00 pm",
                    "2": "24302",
                    "3": "36914",
                    "4": "12612",
                    "5": "51.9000 %",
                    "6": "0.7328",
                    "7": "46.5000 %",
                    "8": "17.4100 %"
                },
                {
                    "0": "Tuesday  ",
                    "1": "07:00 pm",
                    "2": "15609",
                    "3": "24097",
                    "4": "8488",
                    "5": "54.3800 %",
                    "6": "0.4927",
                    "7": "49.4600 %",
                    "8": "23.0200 %"
                },
                {
                    "0": "Tuesday  ",
                    "1": "08:00 pm",
                    "2": "10967",
                    "3": "15975",
                    "4": "5008",
                    "5": "45.6600 %",
                    "6": "0.2900",
                    "7": "39.0600 %",
                    "8": "3.3100 %"
                },
                {
                    "0": "Tuesday  ",
                    "1": "09:00 pm",
                    "2": "8002",
                    "3": "11627",
                    "4": "3625",
                    "5": "45.3000 %",
                    "6": "0.2095",
                    "7": "38.6300 %",
                    "8": "2.4800 %"
                },
                {
                    "0": "Tuesday  ",
                    "1": "10:00 pm",
                    "2": "5453",
                    "3": "7740",
                    "4": "2287",
                    "5": "41.9400 %",
                    "6": "0.1316",
                    "7": "34.6200 %",
                    "8": "-5.1200 %"
                },
                {
                    "0": "Tuesday  ",
                    "1": "11:00 pm",
                    "2": "2835",
                    "3": "4225",
                    "4": "1390",
                    "5": "49.0300 %",
                    "6": "0.0793",
                    "7": "43.0800 %",
                    "8": "10.9200 %"
                },
                {
                    "0": "Wednesday",
                    "1": "12:00 am",
                    "2": "1450",
                    "3": "1850",
                    "4": "400",
                    "5": "27.5900 %",
                    "6": "0.0217",
                    "7": "17.4900 %",
                    "8": "-37.5900 %"
                },
                {
                    "0": "Wednesday",
                    "1": "01:00 am",
                    "2": "737",
                    "3": "1006",
                    "4": "269",
                    "5": "36.5000 %",
                    "6": "0.0140",
                    "7": "28.1300 %",
                    "8": "-17.4300 %"
                },
                {
                    "0": "Wednesday",
                    "1": "02:00 am",
                    "2": "386",
                    "3": "595",
                    "4": "209",
                    "5": "54.1500 %",
                    "6": "0.0105",
                    "7": "49.1800 %",
                    "8": "22.4900 %"
                },
                {
                    "0": "Wednesday",
                    "1": "03:00 am",
                    "2": "207",
                    "3": "235",
                    "4": "28",
                    "5": "13.5300 %",
                    "6": "0.0000",
                    "7": "0.7200 %",
                    "8": "-69.4000 %"
                },
                {
                    "0": "Wednesday",
                    "1": "04:00 am",
                    "2": "369",
                    "3": "482",
                    "4": "113",
                    "5": "30.6200 %",
                    "6": "0.0049",
                    "7": "21.1200 %",
                    "8": "-30.7200 %"
                },
                {
                    "0": "Wednesday",
                    "1": "05:00 am",
                    "2": "2144",
                    "3": "3054",
                    "4": "910",
                    "5": "42.4400 %",
                    "6": "0.0514",
                    "7": "35.2200 %",
                    "8": "-3.9800 %"
                },
                {
                    "0": "Wednesday",
                    "1": "06:00 am",
                    "2": "7146",
                    "3": "9851",
                    "4": "2705",
                    "5": "37.8500 %",
                    "6": "0.1559",
                    "7": "29.7400 %",
                    "8": "-14.3700 %"
                },
                {
                    "0": "Wednesday",
                    "1": "07:00 am",
                    "2": "20036",
                    "3": "27190",
                    "4": "7154",
                    "5": "35.7100 %",
                    "6": "0.4150",
                    "7": "27.1800 %",
                    "8": "-19.2200 %"
                },
                {
                    "0": "Wednesday",
                    "1": "08:00 am",
                    "2": "33162",
                    "3": "46245",
                    "4": "13083",
                    "5": "39.4500 %",
                    "6": "0.7602",
                    "7": "31.6500 %",
                    "8": "-10.7500 %"
                },
                {
                    "0": "Wednesday",
                    "1": "09:00 am",
                    "2": "17197",
                    "3": "24618",
                    "4": "7421",
                    "5": "43.1500 %",
                    "6": "0.4305",
                    "7": "36.0700 %",
                    "8": "-2.3800 %"
                },
                {
                    "0": "Wednesday",
                    "1": "10:00 am",
                    "2": "10189",
                    "3": "13843",
                    "4": "3654",
                    "5": "35.8600 %",
                    "6": "0.2112",
                    "7": "27.3700 %",
                    "8": "-18.8700 %"
                },
                {
                    "0": "Wednesday",
                    "1": "11:00 am",
                    "2": "10582",
                    "3": "14506",
                    "4": "3924",
                    "5": "37.0800 %",
                    "6": "0.2269",
                    "7": "28.8200 %",
                    "8": "-16.1100 %"
                },
                {
                    "0": "Wednesday",
                    "1": "12:00 pm",
                    "2": "12530",
                    "3": "16651",
                    "4": "4121",
                    "5": "32.8900 %",
                    "6": "0.2384",
                    "7": "23.8200 %",
                    "8": "-25.6000 %"
                },
                {
                    "0": "Wednesday",
                    "1": "01:00 pm",
                    "2": "11723",
                    "3": "15868",
                    "4": "4145",
                    "5": "35.3600 %",
                    "6": "0.2398",
                    "7": "26.7700 %",
                    "8": "-20.0100 %"
                },
                {
                    "0": "Wednesday",
                    "1": "02:00 pm",
                    "2": "11097",
                    "3": "15778",
                    "4": "4681",
                    "5": "42.1800 %",
                    "6": "0.2710",
                    "7": "34.9100 %",
                    "8": "-4.5700 %"
                },
                {
                    "0": "Wednesday",
                    "1": "03:00 pm",
                    "2": "13604",
                    "3": "19441",
                    "4": "5837",
                    "5": "42.9100 %",
                    "6": "0.3383",
                    "7": "35.7700 %",
                    "8": "-2.9300 %"
                },
                {
                    "0": "Wednesday",
                    "1": "04:00 pm",
                    "2": "24554",
                    "3": "32143",
                    "4": "7589",
                    "5": "30.9100 %",
                    "6": "0.4403",
                    "7": "21.4500 %",
                    "8": "-30.0800 %"
                },
                {
                    "0": "Wednesday",
                    "1": "05:00 pm",
                    "2": "37229",
                    "3": "47938",
                    "4": "10709",
                    "5": "28.7700 %",
                    "6": "0.6220",
                    "7": "18.9000 %",
                    "8": "-34.9300 %"
                },
                {
                    "0": "Wednesday",
                    "1": "06:00 pm",
                    "2": "26096",
                    "3": "34801",
                    "4": "8705",
                    "5": "33.3600 %",
                    "6": "0.5053",
                    "7": "24.3800 %",
                    "8": "-24.5400 %"
                },
                {
                    "0": "Wednesday",
                    "1": "07:00 pm",
                    "2": "17850",
                    "3": "23982",
                    "4": "6132",
                    "5": "34.3500 %",
                    "6": "0.3555",
                    "7": "25.5700 %",
                    "8": "-22.2800 %"
                },
                {
                    "0": "Wednesday",
                    "1": "08:00 pm",
                    "2": "11862",
                    "3": "15982",
                    "4": "4120",
                    "5": "34.7300 %",
                    "6": "0.2383",
                    "7": "26.0200 %",
                    "8": "-21.4200 %"
                },
                {
                    "0": "Wednesday",
                    "1": "09:00 pm",
                    "2": "8809",
                    "3": "11438",
                    "4": "2629",
                    "5": "29.8400 %",
                    "6": "0.1515",
                    "7": "20.1900 %",
                    "8": "-32.4800 %"
                },
                {
                    "0": "Wednesday",
                    "1": "10:00 pm",
                    "2": "5782",
                    "3": "7696",
                    "4": "1914",
                    "5": "33.1000 %",
                    "6": "0.1098",
                    "7": "24.0700 %",
                    "8": "-25.1100 %"
                },
                {
                    "0": "Wednesday",
                    "1": "11:00 pm",
                    "2": "3744",
                    "3": "4228",
                    "4": "484",
                    "5": "12.9300 %",
                    "6": "0.0266",
                    "7": "0.0000 %",
                    "8": "-70.7500 %"
                },
                {
                    "0": "Thursday ",
                    "1": "12:00 am",
                    "2": "1613",
                    "3": "2006",
                    "4": "393",
                    "5": "24.3600 %",
                    "6": "0.0213",
                    "7": "13.6500 %",
                    "8": "-44.8800 %"
                },
                {
                    "0": "Thursday ",
                    "1": "01:00 am",
                    "2": "779",
                    "3": "1085",
                    "4": "306",
                    "5": "39.2800 %",
                    "6": "0.0162",
                    "7": "31.4500 %",
                    "8": "-11.1400 %"
                },
                {
                    "0": "Thursday ",
                    "1": "02:00 am",
                    "2": "458",
                    "3": "617",
                    "4": "159",
                    "5": "34.7200 %",
                    "6": "0.0076",
                    "7": "26.0000 %",
                    "8": "-21.4600 %"
                },
                {
                    "0": "Thursday ",
                    "1": "03:00 am",
                    "2": "208",
                    "3": "271",
                    "4": "63",
                    "5": "30.2900 %",
                    "6": "0.0020",
                    "7": "20.7200 %",
                    "8": "-31.4800 %"
                },
                {
                    "0": "Thursday ",
                    "1": "04:00 am",
                    "2": "337",
                    "3": "454",
                    "4": "117",
                    "5": "34.7200 %",
                    "6": "0.0052",
                    "7": "26.0000 %",
                    "8": "-21.4600 %"
                },
                {
                    "0": "Thursday ",
                    "1": "05:00 am",
                    "2": "1866",
                    "3": "2690",
                    "4": "824",
                    "5": "44.1600 %",
                    "6": "0.0464",
                    "7": "37.2700 %",
                    "8": "-0.1000 %"
                },
                {
                    "0": "Thursday ",
                    "1": "06:00 am",
                    "2": "6821",
                    "3": "8769",
                    "4": "1948",
                    "5": "28.5600 %",
                    "6": "0.1118",
                    "7": "18.6500 %",
                    "8": "-35.3900 %"
                },
                {
                    "0": "Thursday ",
                    "1": "07:00 am",
                    "2": "18982",
                    "3": "24613",
                    "4": "5631",
                    "5": "29.6600 %",
                    "6": "0.3263",
                    "7": "19.9700 %",
                    "8": "-32.8900 %"
                },
                {
                    "0": "Thursday ",
                    "1": "08:00 am",
                    "2": "33130",
                    "3": "42251",
                    "4": "9121",
                    "5": "27.5300 %",
                    "6": "0.5295",
                    "7": "17.4300 %",
                    "8": "-37.7200 %"
                },
                {
                    "0": "Thursday ",
                    "1": "09:00 am",
                    "2": "17252",
                    "3": "23309",
                    "4": "6057",
                    "5": "35.1100 %",
                    "6": "0.3511",
                    "7": "26.4700 %",
                    "8": "-20.5700 %"
                },
                {
                    "0": "Thursday ",
                    "1": "10:00 am",
                    "2": "9903",
                    "3": "13435",
                    "4": "3532",
                    "5": "35.6700 %",
                    "6": "0.2041",
                    "7": "27.1300 %",
                    "8": "-19.3100 %"
                },
                {
                    "0": "Thursday ",
                    "1": "11:00 am",
                    "2": "10711",
                    "3": "14129",
                    "4": "3418",
                    "5": "31.9100 %",
                    "6": "0.1974",
                    "7": "22.6500 %",
                    "8": "-27.8100 %"
                },
                {
                    "0": "Thursday ",
                    "1": "12:00 pm",
                    "2": "12634",
                    "3": "16206",
                    "4": "3572",
                    "5": "28.2700 %",
                    "6": "0.2064",
                    "7": "18.3100 %",
                    "8": "-36.0400 %"
                },
                {
                    "0": "Thursday ",
                    "1": "01:00 pm",
                    "2": "11666",
                    "3": "15680",
                    "4": "4014",
                    "5": "34.4100 %",
                    "6": "0.2321",
                    "7": "25.6300 %",
                    "8": "-22.1600 %"
                },
                {
                    "0": "Thursday ",
                    "1": "02:00 pm",
                    "2": "11503",
                    "3": "15909",
                    "4": "4406",
                    "5": "38.3000 %",
                    "6": "0.2549",
                    "7": "30.2800 %",
                    "8": "-13.3500 %"
                },
                {
                    "0": "Thursday ",
                    "1": "03:00 pm",
                    "2": "13866",
                    "3": "19746",
                    "4": "5880",
                    "5": "42.4100 %",
                    "6": "0.3408",
                    "7": "35.1800 %",
                    "8": "-4.0700 %"
                },
                {
                    "0": "Thursday ",
                    "1": "04:00 pm",
                    "2": "23869",
                    "3": "33814",
                    "4": "9945",
                    "5": "41.6600 %",
                    "6": "0.5775",
                    "7": "34.2900 %",
                    "8": "-5.7400 %"
                },
                {
                    "0": "Thursday ",
                    "1": "05:00 pm",
                    "2": "34912",
                    "3": "47861",
                    "4": "12949",
                    "5": "37.0900 %",
                    "6": "0.7524",
                    "7": "28.8300 %",
                    "8": "-16.0900 %"
                },
                {
                    "0": "Thursday ",
                    "1": "06:00 pm",
                    "2": "25004",
                    "3": "34991",
                    "4": "9987",
                    "5": "39.9400 %",
                    "6": "0.5800",
                    "7": "32.2300 %",
                    "8": "-9.6400 %"
                },
                {
                    "0": "Thursday ",
                    "1": "07:00 pm",
                    "2": "16657",
                    "3": "24152",
                    "4": "7495",
                    "5": "45.0000 %",
                    "6": "0.4348",
                    "7": "38.2700 %",
                    "8": "1.7900 %"
                },
                {
                    "0": "Thursday ",
                    "1": "08:00 pm",
                    "2": "11965",
                    "3": "16912",
                    "4": "4947",
                    "5": "41.3500 %",
                    "6": "0.2865",
                    "7": "33.9100 %",
                    "8": "-6.4600 %"
                },
                {
                    "0": "Thursday ",
                    "1": "09:00 pm",
                    "2": "8520",
                    "3": "12746",
                    "4": "4226",
                    "5": "49.6000 %",
                    "6": "0.2445",
                    "7": "43.7600 %",
                    "8": "12.2100 %"
                },
                {
                    "0": "Thursday ",
                    "1": "10:00 pm",
                    "2": "6397",
                    "3": "8924",
                    "4": "2527",
                    "5": "39.5000 %",
                    "6": "0.1455",
                    "7": "31.7100 %",
                    "8": "-10.6300 %"
                },
                {
                    "0": "Thursday ",
                    "1": "11:00 pm",
                    "2": "3647",
                    "3": "6009",
                    "4": "2362",
                    "5": "64.7700 %",
                    "6": "0.1359",
                    "7": "61.8600 %",
                    "8": "46.5200 %"
                },
                {
                    "0": "Friday   ",
                    "1": "12:00 am",
                    "2": "2051",
                    "3": "2911",
                    "4": "860",
                    "5": "41.9300 %",
                    "6": "0.0485",
                    "7": "34.6100 %",
                    "8": "-5.1400 %"
                },
                {
                    "0": "Friday   ",
                    "1": "01:00 am",
                    "2": "1049",
                    "3": "1596",
                    "4": "547",
                    "5": "52.1400 %",
                    "6": "0.0302",
                    "7": "46.8000 %",
                    "8": "17.9700 %"
                },
                {
                    "0": "Friday   ",
                    "1": "02:00 am",
                    "2": "640",
                    "3": "977",
                    "4": "337",
                    "5": "52.6600 %",
                    "6": "0.0180",
                    "7": "47.4100 %",
                    "8": "19.1200 %"
                },
                {
                    "0": "Friday   ",
                    "1": "03:00 am",
                    "2": "268",
                    "3": "392",
                    "4": "124",
                    "5": "46.2700 %",
                    "6": "0.0056",
                    "7": "39.7800 %",
                    "8": "4.6700 %"
                },
                {
                    "0": "Friday   ",
                    "1": "04:00 am",
                    "2": "327",
                    "3": "486",
                    "4": "159",
                    "5": "48.6200 %",
                    "6": "0.0076",
                    "7": "42.5900 %",
                    "8": "10.0000 %"
                },
                {
                    "0": "Friday   ",
                    "1": "05:00 am",
                    "2": "1709",
                    "3": "2292",
                    "4": "583",
                    "5": "34.1100 %",
                    "6": "0.0323",
                    "7": "25.2800 %",
                    "8": "-22.8300 %"
                },
                {
                    "0": "Friday   ",
                    "1": "06:00 am",
                    "2": "5954",
                    "3": "7623",
                    "4": "1669",
                    "5": "28.0300 %",
                    "6": "0.0956",
                    "7": "18.0200 %",
                    "8": "-36.5800 %"
                },
                {
                    "0": "Friday   ",
                    "1": "07:00 am",
                    "2": "16401",
                    "3": "22006",
                    "4": "5605",
                    "5": "34.1700 %",
                    "6": "0.3248",
                    "7": "25.3500 %",
                    "8": "-22.6900 %"
                },
                {
                    "0": "Friday   ",
                    "1": "08:00 am",
                    "2": "29270",
                    "3": "40942",
                    "4": "11672",
                    "5": "39.8800 %",
                    "6": "0.6781",
                    "7": "32.1600 %",
                    "8": "-9.7900 %"
                },
                {
                    "0": "Friday   ",
                    "1": "09:00 am",
                    "2": "16452",
                    "3": "23453",
                    "4": "7001",
                    "5": "42.5500 %",
                    "6": "0.4061",
                    "7": "35.3500 %",
                    "8": "-3.7300 %"
                },
                {
                    "0": "Friday   ",
                    "1": "10:00 am",
                    "2": "10638",
                    "3": "14968",
                    "4": "4330",
                    "5": "40.7000 %",
                    "6": "0.2505",
                    "7": "33.1400 %",
                    "8": "-7.9200 %"
                },
                {
                    "0": "Friday   ",
                    "1": "11:00 am",
                    "2": "11442",
                    "3": "16426",
                    "4": "4984",
                    "5": "43.5600 %",
                    "6": "0.2886",
                    "7": "36.5500 %",
                    "8": "-1.4600 %"
                },
                {
                    "0": "Friday   ",
                    "1": "12:00 pm",
                    "2": "13698",
                    "3": "19248",
                    "4": "5550",
                    "5": "40.5200 %",
                    "6": "0.3216",
                    "7": "32.9200 %",
                    "8": "-8.3400 %"
                },
                {
                    "0": "Friday   ",
                    "1": "01:00 pm",
                    "2": "13779",
                    "3": "19387",
                    "4": "5608",
                    "5": "40.7000 %",
                    "6": "0.3249",
                    "7": "33.1400 %",
                    "8": "-7.9300 %"
                },
                {
                    "0": "Friday   ",
                    "1": "02:00 pm",
                    "2": "14012",
                    "3": "19198",
                    "4": "5186",
                    "5": "37.0100 %",
                    "6": "0.3004",
                    "7": "28.7400 %",
                    "8": "-16.2700 %"
                },
                {
                    "0": "Friday   ",
                    "1": "03:00 pm",
                    "2": "17000",
                    "3": "23585",
                    "4": "6585",
                    "5": "38.7400 %",
                    "6": "0.3818",
                    "7": "30.8000 %",
                    "8": "-12.3700 %"
                },
                {
                    "0": "Friday   ",
                    "1": "04:00 pm",
                    "2": "26480",
                    "3": "34457",
                    "4": "7977",
                    "5": "30.1200 %",
                    "6": "0.4629",
                    "7": "20.5200 %",
                    "8": "-31.8500 %"
                },
                {
                    "0": "Friday   ",
                    "1": "05:00 pm",
                    "2": "30648",
                    "3": "42340",
                    "4": "11692",
                    "5": "38.1500 %",
                    "6": "0.6792",
                    "7": "30.1000 %",
                    "8": "-13.7000 %"
                },
                {
                    "0": "Friday   ",
                    "1": "06:00 pm",
                    "2": "20949",
                    "3": "30518",
                    "4": "9569",
                    "5": "45.6800 %",
                    "6": "0.5556",
                    "7": "39.0800 %",
                    "8": "3.3400 %"
                },
                {
                    "0": "Friday   ",
                    "1": "07:00 pm",
                    "2": "14436",
                    "3": "21277",
                    "4": "6841",
                    "5": "47.3900 %",
                    "6": "0.3968",
                    "7": "41.1200 %",
                    "8": "7.2100 %"
                },
                {
                    "0": "Friday   ",
                    "1": "08:00 pm",
                    "2": "9842",
                    "3": "14648",
                    "4": "4806",
                    "5": "48.8300 %",
                    "6": "0.2782",
                    "7": "42.8400 %",
                    "8": "10.4700 %"
                },
                {
                    "0": "Friday   ",
                    "1": "09:00 pm",
                    "2": "7774",
                    "3": "10932",
                    "4": "3158",
                    "5": "40.6200 %",
                    "6": "0.1823",
                    "7": "33.0500 %",
                    "8": "-8.1000 %"
                },
                {
                    "0": "Friday   ",
                    "1": "10:00 pm",
                    "2": "6617",
                    "3": "9327",
                    "4": "2710",
                    "5": "40.9600 %",
                    "6": "0.1562",
                    "7": "33.4400 %",
                    "8": "-7.3500 %"
                },
                {
                    "0": "Friday   ",
                    "1": "11:00 pm",
                    "2": "4793",
                    "3": "6479",
                    "4": "1686",
                    "5": "35.1800 %",
                    "6": "0.0966",
                    "7": "26.5500 %",
                    "8": "-20.4200 %"
                },
                {
                    "0": "Saturday ",
                    "1": "12:00 am",
                    "2": "3230",
                    "3": "4668",
                    "4": "1438",
                    "5": "44.5200 %",
                    "6": "0.0821",
                    "7": "37.7000 %",
                    "8": "0.7200 %"
                },
                {
                    "0": "Saturday ",
                    "1": "01:00 am",
                    "2": "2516",
                    "3": "3751",
                    "4": "1235",
                    "5": "49.0900 %",
                    "6": "0.0703",
                    "7": "43.1500 %",
                    "8": "11.0500 %"
                },
                {
                    "0": "Saturday ",
                    "1": "02:00 am",
                    "2": "1741",
                    "3": "2357",
                    "4": "616",
                    "5": "35.3800 %",
                    "6": "0.0342",
                    "7": "26.7900 %",
                    "8": "-19.9600 %"
                },
                {
                    "0": "Saturday ",
                    "1": "03:00 am",
                    "2": "586",
                    "3": "797",
                    "4": "211",
                    "5": "36.0100 %",
                    "6": "0.0107",
                    "7": "27.5400 %",
                    "8": "-18.5400 %"
                },
                {
                    "0": "Saturday ",
                    "1": "04:00 am",
                    "2": "367",
                    "3": "458",
                    "4": "91",
                    "5": "24.8000 %",
                    "6": "0.0037",
                    "7": "14.1600 %",
                    "8": "-43.9100 %"
                },
                {
                    "0": "Saturday ",
                    "1": "05:00 am",
                    "2": "481",
                    "3": "762",
                    "4": "281",
                    "5": "58.4200 %",
                    "6": "0.0147",
                    "7": "54.2800 %",
                    "8": "32.1600 %"
                },
                {
                    "0": "Saturday ",
                    "1": "06:00 am",
                    "2": "1135",
                    "3": "1620",
                    "4": "485",
                    "5": "42.7300 %",
                    "6": "0.0266",
                    "7": "35.5600 %",
                    "8": "-3.3300 %"
                },
                {
                    "0": "Saturday ",
                    "1": "07:00 am",
                    "2": "2891",
                    "3": "3904",
                    "4": "1013",
                    "5": "35.0400 %",
                    "6": "0.0574",
                    "7": "26.3900 %",
                    "8": "-20.7300 %"
                },
                {
                    "0": "Saturday ",
                    "1": "08:00 am",
                    "2": "5710",
                    "3": "8049",
                    "4": "2339",
                    "5": "40.9600 %",
                    "6": "0.1346",
                    "7": "33.4500 %",
                    "8": "-7.3300 %"
                },
                {
                    "0": "Saturday ",
                    "1": "09:00 am",
                    "2": "8861",
                    "3": "12955",
                    "4": "4094",
                    "5": "46.2000 %",
                    "6": "0.2368",
                    "7": "39.7100 %",
                    "8": "4.5200 %"
                },
                {
                    "0": "Saturday ",
                    "1": "10:00 am",
                    "2": "12208",
                    "3": "17646",
                    "4": "5438",
                    "5": "44.5400 %",
                    "6": "0.3150",
                    "7": "37.7300 %",
                    "8": "0.7700 %"
                },
                {
                    "0": "Saturday ",
                    "1": "11:00 am",
                    "2": "14567",
                    "3": "22454",
                    "4": "7887",
                    "5": "54.1400 %",
                    "6": "0.4577",
                    "7": "49.1800 %",
                    "8": "22.4900 %"
                },
                {
                    "0": "Saturday ",
                    "1": "12:00 pm",
                    "2": "16367",
                    "3": "26092",
                    "4": "9725",
                    "5": "59.4200 %",
                    "6": "0.5647",
                    "7": "55.4800 %",
                    "8": "34.4200 %"
                },
                {
                    "0": "Saturday ",
                    "1": "01:00 pm",
                    "2": "17361",
                    "3": "26840",
                    "4": "9479",
                    "5": "54.6000 %",
                    "6": "0.5504",
                    "7": "49.7300 %",
                    "8": "23.5200 %"
                },
                {
                    "0": "Saturday ",
                    "1": "02:00 pm",
                    "2": "17344",
                    "3": "27132",
                    "4": "9788",
                    "5": "56.4300 %",
                    "6": "0.5684",
                    "7": "51.9100 %",
                    "8": "27.6700 %"
                },
                {
                    "0": "Saturday ",
                    "1": "03:00 pm",
                    "2": "17341",
                    "3": "27428",
                    "4": "10087",
                    "5": "58.1700 %",
                    "6": "0.5858",
                    "7": "53.9800 %",
                    "8": "31.5900 %"
                },
                {
                    "0": "Saturday ",
                    "1": "04:00 pm",
                    "2": "17214",
                    "3": "26447",
                    "4": "9233",
                    "5": "53.6400 %",
                    "6": "0.5360",
                    "7": "48.5800 %",
                    "8": "21.3400 %"
                },
                {
                    "0": "Saturday ",
                    "1": "05:00 pm",
                    "2": "16116",
                    "3": "24997",
                    "4": "8881",
                    "5": "55.1100 %",
                    "6": "0.5155",
                    "7": "50.3300 %",
                    "8": "24.6700 %"
                },
                {
                    "0": "Saturday ",
                    "1": "06:00 pm",
                    "2": "14471",
                    "3": "22568",
                    "4": "8097",
                    "5": "55.9500 %",
                    "6": "0.4699",
                    "7": "51.3400 %",
                    "8": "26.5800 %"
                },
                {
                    "0": "Saturday ",
                    "1": "07:00 pm",
                    "2": "11797",
                    "3": "18175",
                    "4": "6378",
                    "5": "54.0600 %",
                    "6": "0.3698",
                    "7": "49.0900 %",
                    "8": "22.3100 %"
                },
                {
                    "0": "Saturday ",
                    "1": "08:00 pm",
                    "2": "8657",
                    "3": "13159",
                    "4": "4502",
                    "5": "52.0000 %",
                    "6": "0.2605",
                    "7": "46.6300 %",
                    "8": "17.6500 %"
                },
                {
                    "0": "Saturday ",
                    "1": "09:00 pm",
                    "2": "6888",
                    "3": "10901",
                    "4": "4013",
                    "5": "58.2600 %",
                    "6": "0.2321",
                    "7": "54.0900 %",
                    "8": "31.8000 %"
                },
                {
                    "0": "Saturday ",
                    "1": "10:00 pm",
                    "2": "5918",
                    "3": "9059",
                    "4": "3141",
                    "5": "53.0800 %",
                    "6": "0.1813",
                    "7": "47.9100 %",
                    "8": "20.0700 %"
                },
                {
                    "0": "Saturday ",
                    "1": "11:00 pm",
                    "2": "4377",
                    "3": "6805",
                    "4": "2428",
                    "5": "55.4700 %",
                    "6": "0.1398",
                    "7": "50.7700 %",
                    "8": "25.4900 %"
                },
                {
                    "0": "Sunday   ",
                    "1": "12:00 am",
                    "2": "3288",
                    "3": "5208",
                    "4": "1920",
                    "5": "58.3900 %",
                    "6": "0.1102",
                    "7": "54.2500 %",
                    "8": "32.1000 %"
                },
                {
                    "0": "Sunday   ",
                    "1": "01:00 am",
                    "2": "2785",
                    "3": "4741",
                    "4": "1956",
                    "5": "70.2300 %",
                    "6": "0.1123",
                    "7": "68.3800 %",
                    "8": "58.8900 %"
                },
                {
                    "0": "Sunday   ",
                    "1": "02:00 am",
                    "2": "1943",
                    "3": "2955",
                    "4": "1012",
                    "5": "52.0800 %",
                    "6": "0.0573",
                    "7": "46.7200 %",
                    "8": "17.8300 %"
                },
                {
                    "0": "Sunday   ",
                    "1": "03:00 am",
                    "2": "571",
                    "3": "793",
                    "4": "222",
                    "5": "38.8800 %",
                    "6": "0.0113",
                    "7": "30.9700 %",
                    "8": "-12.0400 %"
                },
                {
                    "0": "Sunday   ",
                    "1": "04:00 am",
                    "2": "268",
                    "3": "464",
                    "4": "196",
                    "5": "73.1300 %",
                    "6": "0.0098",
                    "7": "71.8400 %",
                    "8": "65.4500 %"
                },
                {
                    "0": "Sunday   ",
                    "1": "05:00 am",
                    "2": "421",
                    "3": "736",
                    "4": "315",
                    "5": "74.8200 %",
                    "6": "0.0167",
                    "7": "73.8600 %",
                    "8": "69.2700 %"
                },
                {
                    "0": "Sunday   ",
                    "1": "06:00 am",
                    "2": "911",
                    "3": "1534",
                    "4": "623",
                    "5": "68.3900 %",
                    "6": "0.0346",
                    "7": "66.1800 %",
                    "8": "54.7100 %"
                },
                {
                    "0": "Sunday   ",
                    "1": "07:00 am",
                    "2": "1935",
                    "3": "3028",
                    "4": "1093",
                    "5": "56.4900 %",
                    "6": "0.0620",
                    "7": "51.9800 %",
                    "8": "27.7900 %"
                },
                {
                    "0": "Sunday   ",
                    "1": "08:00 am",
                    "2": "4500",
                    "3": "7129",
                    "4": "2629",
                    "5": "58.4200 %",
                    "6": "0.1515",
                    "7": "54.2900 %",
                    "8": "32.1700 %"
                },
                {
                    "0": "Sunday   ",
                    "1": "09:00 am",
                    "2": "7620",
                    "3": "12035",
                    "4": "4415",
                    "5": "57.9400 %",
                    "6": "0.2555",
                    "7": "53.7100 %",
                    "8": "31.0800 %"
                },
                {
                    "0": "Sunday   ",
                    "1": "10:00 am",
                    "2": "11093",
                    "3": "16830",
                    "4": "5737",
                    "5": "51.7200 %",
                    "6": "0.3325",
                    "7": "46.2900 %",
                    "8": "17.0000 %"
                },
                {
                    "0": "Sunday   ",
                    "1": "11:00 am",
                    "2": "13401",
                    "3": "20140",
                    "4": "6739",
                    "5": "50.2900 %",
                    "6": "0.3908",
                    "7": "44.5800 %",
                    "8": "13.7600 %"
                },
                {
                    "0": "Sunday   ",
                    "1": "12:00 pm",
                    "2": "15646",
                    "3": "22816",
                    "4": "7170",
                    "5": "45.8300 %",
                    "6": "0.4159",
                    "7": "39.2600 %",
                    "8": "3.6700 %"
                },
                {
                    "0": "Sunday   ",
                    "1": "01:00 pm",
                    "2": "16761",
                    "3": "24356",
                    "4": "7595",
                    "5": "45.3100 %",
                    "6": "0.4407",
                    "7": "38.6400 %",
                    "8": "2.5100 %"
                },
                {
                    "0": "Sunday   ",
                    "1": "02:00 pm",
                    "2": "16736",
                    "3": "23920",
                    "4": "7184",
                    "5": "42.9300 %",
                    "6": "0.4167",
                    "7": "35.8000 %",
                    "8": "-2.8900 %"
                },
                {
                    "0": "Sunday   ",
                    "1": "03:00 pm",
                    "2": "16848",
                    "3": "23682",
                    "4": "6834",
                    "5": "40.5600 %",
                    "6": "0.3963",
                    "7": "32.9800 %",
                    "8": "-8.2400 %"
                },
                {
                    "0": "Sunday   ",
                    "1": "04:00 pm",
                    "2": "16426",
                    "3": "24073",
                    "4": "7647",
                    "5": "46.5500 %",
                    "6": "0.4437",
                    "7": "40.1300 %",
                    "8": "5.3200 %"
                },
                {
                    "0": "Sunday   ",
                    "1": "05:00 pm",
                    "2": "15527",
                    "3": "22860",
                    "4": "7333",
                    "5": "47.2300 %",
                    "6": "0.4254",
                    "7": "40.9300 %",
                    "8": "6.8400 %"
                },
                {
                    "0": "Sunday   ",
                    "1": "06:00 pm",
                    "2": "13780",
                    "3": "20821",
                    "4": "7041",
                    "5": "51.1000 %",
                    "6": "0.4084",
                    "7": "45.5400 %",
                    "8": "15.5900 %"
                },
                {
                    "0": "Sunday   ",
                    "1": "07:00 pm",
                    "2": "10698",
                    "3": "15772",
                    "4": "5074",
                    "5": "47.4300 %",
                    "6": "0.2939",
                    "7": "41.1700 %",
                    "8": "7.3000 %"
                },
                {
                    "0": "Sunday   ",
                    "1": "08:00 pm",
                    "2": "7506",
                    "3": "12009",
                    "4": "4503",
                    "5": "59.9900 %",
                    "6": "0.2606",
                    "7": "56.1600 %",
                    "8": "35.7200 %"
                },
                {
                    "0": "Sunday   ",
                    "1": "09:00 pm",
                    "2": "5498",
                    "3": "8460",
                    "4": "2962",
                    "5": "53.8700 %",
                    "6": "0.1709",
                    "7": "48.8600 %",
                    "8": "21.8800 %"
                },
                {
                    "0": "Sunday   ",
                    "1": "10:00 pm",
                    "2": "4043",
                    "3": "6565",
                    "4": "2522",
                    "5": "62.3800 %",
                    "6": "0.1452",
                    "7": "59.0100 %",
                    "8": "41.1200 %"
                },
                {
                    "0": "Sunday   ",
                    "1": "11:00 pm",
                    "2": "2850",
                    "3": "4276",
                    "4": "1426",
                    "5": "50.0400 %",
                    "6": "0.0814",
                    "7": "44.2800 %",
                    "8": "13.1900 %"
                }
            ]
        },
        "text/html": [
            "<table>",
            "<tr><th>day</th><th>hour</th><th>riders_2018</th><th>riders_2019</th><th>riders_change</th><th>percent_change</th><th>relative_rider_change</th><th>min_max_scaled_change</th><th>normalized_abolute_change</th></tr>",
            "<tr><td>Monday   </td><td>12:00 am</td><td>1574</td><td>2139</td><td>565</td><td>35.9000 %</td><td>0.0313</td><td>27.4100 %</td><td>-18.7900 %</td></tr>",
            "<tr><td>Monday   </td><td>01:00 am</td><td>882</td><td>1223</td><td>341</td><td>38.6600 %</td><td>0.0182</td><td>30.7100 %</td><td>-12.5400 %</td></tr>",
            "<tr><td>Monday   </td><td>02:00 am</td><td>446</td><td>707</td><td>261</td><td>58.5200 %</td><td>0.0136</td><td>54.4000 %</td><td>32.3900 %</td></tr>",
            "<tr><td>Monday   </td><td>03:00 am</td><td>224</td><td>289</td><td>65</td><td>29.0200 %</td><td>0.0022</td><td>19.2000 %</td><td>-34.3500 %</td></tr>",
            "<tr><td>Monday   </td><td>04:00 am</td><td>347</td><td>552</td><td>205</td><td>59.0800 %</td><td>0.0103</td><td>55.0700 %</td><td>33.6500 %</td></tr>",
            "<tr><td>Monday   </td><td>05:00 am</td><td>1860</td><td>2580</td><td>720</td><td>38.7100 %</td><td>0.0403</td><td>30.7600 %</td><td>-12.4300 %</td></tr>",
            "<tr><td>Monday   </td><td>06:00 am</td><td>6018</td><td>8431</td><td>2413</td><td>40.1000 %</td><td>0.1389</td><td>32.4200 %</td><td>-9.2900 %</td></tr>",
            "<tr><td>Monday   </td><td>07:00 am</td><td>16947</td><td>23693</td><td>6746</td><td>39.8100 %</td><td>0.3912</td><td>32.0700 %</td><td>-9.9500 %</td></tr>",
            "<tr><td>Monday   </td><td>08:00 am</td><td>29106</td><td>40835</td><td>11729</td><td>40.3000 %</td><td>0.6814</td><td>32.6600 %</td><td>-8.8400 %</td></tr>",
            "<tr><td>Monday   </td><td>09:00 am</td><td>14872</td><td>22167</td><td>7295</td><td>49.0500 %</td><td>0.4232</td><td>43.1100 %</td><td>10.9700 %</td></tr>",
            "<tr><td>Monday   </td><td>10:00 am</td><td>9116</td><td>13822</td><td>4706</td><td>51.6200 %</td><td>0.2724</td><td>46.1700 %</td><td>16.7900 %</td></tr>",
            "<tr><td>Monday   </td><td>11:00 am</td><td>9635</td><td>14630</td><td>4995</td><td>51.8400 %</td><td>0.2892</td><td>46.4400 %</td><td>17.2800 %</td></tr>",
            "<tr><td>Monday   </td><td>12:00 pm</td><td>11498</td><td>16986</td><td>5488</td><td>47.7300 %</td><td>0.3180</td><td>41.5300 %</td><td>7.9800 %</td></tr>",
            "<tr><td>Monday   </td><td>01:00 pm</td><td>10984</td><td>16031</td><td>5047</td><td>45.9500 %</td><td>0.2923</td><td>39.4000 %</td><td>3.9500 %</td></tr>",
            "<tr><td>Monday   </td><td>02:00 pm</td><td>10774</td><td>16408</td><td>5634</td><td>52.2900 %</td><td>0.3265</td><td>46.9700 %</td><td>18.3000 %</td></tr>",
            "<tr><td>Monday   </td><td>03:00 pm</td><td>13406</td><td>19396</td><td>5990</td><td>44.6800 %</td><td>0.3472</td><td>37.8900 %</td><td>1.0800 %</td></tr>",
            "<tr><td>Monday   </td><td>04:00 pm</td><td>22574</td><td>32409</td><td>9835</td><td>43.5700 %</td><td>0.5711</td><td>36.5600 %</td><td>-1.4400 %</td></tr>",
            "<tr><td>Monday   </td><td>05:00 pm</td><td>33529</td><td>47914</td><td>14385</td><td>42.9000 %</td><td>0.8361</td><td>35.7700 %</td><td>-2.9400 %</td></tr>",
            "<tr><td>Monday   </td><td>06:00 pm</td><td>23178</td><td>34306</td><td>11128</td><td>48.0100 %</td><td>0.6464</td><td>41.8600 %</td><td>8.6100 %</td></tr>",
            "<tr><td>Monday   </td><td>07:00 pm</td><td>15289</td><td>22784</td><td>7495</td><td>49.0200 %</td><td>0.4348</td><td>43.0700 %</td><td>10.9000 %</td></tr>",
            "<tr><td>Monday   </td><td>08:00 pm</td><td>10078</td><td>15081</td><td>5003</td><td>49.6400 %</td><td>0.2897</td><td>43.8100 %</td><td>12.3100 %</td></tr>",
            "<tr><td>Monday   </td><td>09:00 pm</td><td>6854</td><td>10180</td><td>3326</td><td>48.5300 %</td><td>0.1921</td><td>42.4800 %</td><td>9.7800 %</td></tr>",
            "<tr><td>Monday   </td><td>10:00 pm</td><td>4440</td><td>6433</td><td>1993</td><td>44.8900 %</td><td>0.1144</td><td>38.1400 %</td><td>1.5500 %</td></tr>",
            "<tr><td>Monday   </td><td>11:00 pm</td><td>2401</td><td>3391</td><td>990</td><td>41.2300 %</td><td>0.0560</td><td>33.7800 %</td><td>-6.7200 %</td></tr>",
            "<tr><td>Tuesday  </td><td>12:00 am</td><td>1175</td><td>1638</td><td>463</td><td>39.4000 %</td><td>0.0253</td><td>31.5900 %</td><td>-10.8600 %</td></tr>",
            "<tr><td>Tuesday  </td><td>01:00 am</td><td>585</td><td>849</td><td>264</td><td>45.1300 %</td><td>0.0137</td><td>38.4200 %</td><td>2.0900 %</td></tr>",
            "<tr><td>Tuesday  </td><td>02:00 am</td><td>354</td><td>544</td><td>190</td><td>53.6700 %</td><td>0.0094</td><td>48.6200 %</td><td>21.4200 %</td></tr>",
            "<tr><td>Tuesday  </td><td>03:00 am</td><td>153</td><td>301</td><td>148</td><td>96.7300 %</td><td>0.0070</td><td>100.0000 %</td><td>118.8300 %</td></tr>",
            "<tr><td>Tuesday  </td><td>04:00 am</td><td>324</td><td>498</td><td>174</td><td>53.7000 %</td><td>0.0085</td><td>48.6600 %</td><td>21.4900 %</td></tr>",
            "<tr><td>Tuesday  </td><td>05:00 am</td><td>2090</td><td>2951</td><td>861</td><td>41.2000 %</td><td>0.0485</td><td>33.7300 %</td><td>-6.8000 %</td></tr>",
            "<tr><td>Tuesday  </td><td>06:00 am</td><td>7061</td><td>9355</td><td>2294</td><td>32.4900 %</td><td>0.1320</td><td>23.3400 %</td><td>-26.5000 %</td></tr>",
            "<tr><td>Tuesday  </td><td>07:00 am</td><td>19600</td><td>25726</td><td>6126</td><td>31.2600 %</td><td>0.3551</td><td>21.8700 %</td><td>-29.2900 %</td></tr>",
            "<tr><td>Tuesday  </td><td>08:00 am</td><td>32890</td><td>44408</td><td>11518</td><td>35.0200 %</td><td>0.6691</td><td>26.3600 %</td><td>-20.7800 %</td></tr>",
            "<tr><td>Tuesday  </td><td>09:00 am</td><td>16363</td><td>23132</td><td>6769</td><td>41.3700 %</td><td>0.3926</td><td>33.9400 %</td><td>-6.4100 %</td></tr>",
            "<tr><td>Tuesday  </td><td>10:00 am</td><td>9063</td><td>13074</td><td>4011</td><td>44.2600 %</td><td>0.2319</td><td>37.3800 %</td><td>0.1200 %</td></tr>",
            "<tr><td>Tuesday  </td><td>11:00 am</td><td>9359</td><td>13504</td><td>4145</td><td>44.2900 %</td><td>0.2398</td><td>37.4200 %</td><td>0.1900 %</td></tr>",
            "<tr><td>Tuesday  </td><td>12:00 pm</td><td>10889</td><td>15667</td><td>4778</td><td>43.8800 %</td><td>0.2766</td><td>36.9300 %</td><td>-0.7300 %</td></tr>",
            "<tr><td>Tuesday  </td><td>01:00 pm</td><td>10147</td><td>14889</td><td>4742</td><td>46.7300 %</td><td>0.2745</td><td>40.3400 %</td><td>5.7200 %</td></tr>",
            "<tr><td>Tuesday  </td><td>02:00 pm</td><td>9816</td><td>14801</td><td>4985</td><td>50.7800 %</td><td>0.2887</td><td>45.1700 %</td><td>14.8900 %</td></tr>",
            "<tr><td>Tuesday  </td><td>03:00 pm</td><td>12016</td><td>18479</td><td>6463</td><td>53.7900 %</td><td>0.3747</td><td>48.7600 %</td><td>21.6800 %</td></tr>",
            "<tr><td>Tuesday  </td><td>04:00 pm</td><td>22270</td><td>33023</td><td>10753</td><td>48.2800 %</td><td>0.6246</td><td>42.1900 %</td><td>9.2300 %</td></tr>",
            "<tr><td>Tuesday  </td><td>05:00 pm</td><td>33838</td><td>51038</td><td>17200</td><td>50.8300 %</td><td>1.0000</td><td>45.2300 %</td><td>14.9900 %</td></tr>",
            "<tr><td>Tuesday  </td><td>06:00 pm</td><td>24302</td><td>36914</td><td>12612</td><td>51.9000 %</td><td>0.7328</td><td>46.5000 %</td><td>17.4100 %</td></tr>",
            "<tr><td>Tuesday  </td><td>07:00 pm</td><td>15609</td><td>24097</td><td>8488</td><td>54.3800 %</td><td>0.4927</td><td>49.4600 %</td><td>23.0200 %</td></tr>",
            "<tr><td>Tuesday  </td><td>08:00 pm</td><td>10967</td><td>15975</td><td>5008</td><td>45.6600 %</td><td>0.2900</td><td>39.0600 %</td><td>3.3100 %</td></tr>",
            "<tr><td>Tuesday  </td><td>09:00 pm</td><td>8002</td><td>11627</td><td>3625</td><td>45.3000 %</td><td>0.2095</td><td>38.6300 %</td><td>2.4800 %</td></tr>",
            "<tr><td>Tuesday  </td><td>10:00 pm</td><td>5453</td><td>7740</td><td>2287</td><td>41.9400 %</td><td>0.1316</td><td>34.6200 %</td><td>-5.1200 %</td></tr>",
            "<tr><td>Tuesday  </td><td>11:00 pm</td><td>2835</td><td>4225</td><td>1390</td><td>49.0300 %</td><td>0.0793</td><td>43.0800 %</td><td>10.9200 %</td></tr>",
            "<tr><td>Wednesday</td><td>12:00 am</td><td>1450</td><td>1850</td><td>400</td><td>27.5900 %</td><td>0.0217</td><td>17.4900 %</td><td>-37.5900 %</td></tr>",
            "<tr><td>Wednesday</td><td>01:00 am</td><td>737</td><td>1006</td><td>269</td><td>36.5000 %</td><td>0.0140</td><td>28.1300 %</td><td>-17.4300 %</td></tr>",
            "<tr><td>Wednesday</td><td>02:00 am</td><td>386</td><td>595</td><td>209</td><td>54.1500 %</td><td>0.0105</td><td>49.1800 %</td><td>22.4900 %</td></tr>",
            "<tr><td>Wednesday</td><td>03:00 am</td><td>207</td><td>235</td><td>28</td><td>13.5300 %</td><td>0.0000</td><td>0.7200 %</td><td>-69.4000 %</td></tr>",
            "<tr><td>Wednesday</td><td>04:00 am</td><td>369</td><td>482</td><td>113</td><td>30.6200 %</td><td>0.0049</td><td>21.1200 %</td><td>-30.7200 %</td></tr>",
            "<tr><td>Wednesday</td><td>05:00 am</td><td>2144</td><td>3054</td><td>910</td><td>42.4400 %</td><td>0.0514</td><td>35.2200 %</td><td>-3.9800 %</td></tr>",
            "<tr><td>Wednesday</td><td>06:00 am</td><td>7146</td><td>9851</td><td>2705</td><td>37.8500 %</td><td>0.1559</td><td>29.7400 %</td><td>-14.3700 %</td></tr>",
            "<tr><td>Wednesday</td><td>07:00 am</td><td>20036</td><td>27190</td><td>7154</td><td>35.7100 %</td><td>0.4150</td><td>27.1800 %</td><td>-19.2200 %</td></tr>",
            "<tr><td>Wednesday</td><td>08:00 am</td><td>33162</td><td>46245</td><td>13083</td><td>39.4500 %</td><td>0.7602</td><td>31.6500 %</td><td>-10.7500 %</td></tr>",
            "<tr><td>Wednesday</td><td>09:00 am</td><td>17197</td><td>24618</td><td>7421</td><td>43.1500 %</td><td>0.4305</td><td>36.0700 %</td><td>-2.3800 %</td></tr>",
            "<tr><td>Wednesday</td><td>10:00 am</td><td>10189</td><td>13843</td><td>3654</td><td>35.8600 %</td><td>0.2112</td><td>27.3700 %</td><td>-18.8700 %</td></tr>",
            "<tr><td>Wednesday</td><td>11:00 am</td><td>10582</td><td>14506</td><td>3924</td><td>37.0800 %</td><td>0.2269</td><td>28.8200 %</td><td>-16.1100 %</td></tr>",
            "<tr><td>Wednesday</td><td>12:00 pm</td><td>12530</td><td>16651</td><td>4121</td><td>32.8900 %</td><td>0.2384</td><td>23.8200 %</td><td>-25.6000 %</td></tr>",
            "<tr><td>Wednesday</td><td>01:00 pm</td><td>11723</td><td>15868</td><td>4145</td><td>35.3600 %</td><td>0.2398</td><td>26.7700 %</td><td>-20.0100 %</td></tr>",
            "<tr><td>Wednesday</td><td>02:00 pm</td><td>11097</td><td>15778</td><td>4681</td><td>42.1800 %</td><td>0.2710</td><td>34.9100 %</td><td>-4.5700 %</td></tr>",
            "<tr><td>Wednesday</td><td>03:00 pm</td><td>13604</td><td>19441</td><td>5837</td><td>42.9100 %</td><td>0.3383</td><td>35.7700 %</td><td>-2.9300 %</td></tr>",
            "<tr><td>Wednesday</td><td>04:00 pm</td><td>24554</td><td>32143</td><td>7589</td><td>30.9100 %</td><td>0.4403</td><td>21.4500 %</td><td>-30.0800 %</td></tr>",
            "<tr><td>Wednesday</td><td>05:00 pm</td><td>37229</td><td>47938</td><td>10709</td><td>28.7700 %</td><td>0.6220</td><td>18.9000 %</td><td>-34.9300 %</td></tr>",
            "<tr><td>Wednesday</td><td>06:00 pm</td><td>26096</td><td>34801</td><td>8705</td><td>33.3600 %</td><td>0.5053</td><td>24.3800 %</td><td>-24.5400 %</td></tr>",
            "<tr><td>Wednesday</td><td>07:00 pm</td><td>17850</td><td>23982</td><td>6132</td><td>34.3500 %</td><td>0.3555</td><td>25.5700 %</td><td>-22.2800 %</td></tr>",
            "<tr><td>Wednesday</td><td>08:00 pm</td><td>11862</td><td>15982</td><td>4120</td><td>34.7300 %</td><td>0.2383</td><td>26.0200 %</td><td>-21.4200 %</td></tr>",
            "<tr><td>Wednesday</td><td>09:00 pm</td><td>8809</td><td>11438</td><td>2629</td><td>29.8400 %</td><td>0.1515</td><td>20.1900 %</td><td>-32.4800 %</td></tr>",
            "<tr><td>Wednesday</td><td>10:00 pm</td><td>5782</td><td>7696</td><td>1914</td><td>33.1000 %</td><td>0.1098</td><td>24.0700 %</td><td>-25.1100 %</td></tr>",
            "<tr><td>Wednesday</td><td>11:00 pm</td><td>3744</td><td>4228</td><td>484</td><td>12.9300 %</td><td>0.0266</td><td>0.0000 %</td><td>-70.7500 %</td></tr>",
            "<tr><td>Thursday </td><td>12:00 am</td><td>1613</td><td>2006</td><td>393</td><td>24.3600 %</td><td>0.0213</td><td>13.6500 %</td><td>-44.8800 %</td></tr>",
            "<tr><td>Thursday </td><td>01:00 am</td><td>779</td><td>1085</td><td>306</td><td>39.2800 %</td><td>0.0162</td><td>31.4500 %</td><td>-11.1400 %</td></tr>",
            "<tr><td>Thursday </td><td>02:00 am</td><td>458</td><td>617</td><td>159</td><td>34.7200 %</td><td>0.0076</td><td>26.0000 %</td><td>-21.4600 %</td></tr>",
            "<tr><td>Thursday </td><td>03:00 am</td><td>208</td><td>271</td><td>63</td><td>30.2900 %</td><td>0.0020</td><td>20.7200 %</td><td>-31.4800 %</td></tr>",
            "<tr><td>Thursday </td><td>04:00 am</td><td>337</td><td>454</td><td>117</td><td>34.7200 %</td><td>0.0052</td><td>26.0000 %</td><td>-21.4600 %</td></tr>",
            "<tr><td>Thursday </td><td>05:00 am</td><td>1866</td><td>2690</td><td>824</td><td>44.1600 %</td><td>0.0464</td><td>37.2700 %</td><td>-0.1000 %</td></tr>",
            "<tr><td>Thursday </td><td>06:00 am</td><td>6821</td><td>8769</td><td>1948</td><td>28.5600 %</td><td>0.1118</td><td>18.6500 %</td><td>-35.3900 %</td></tr>",
            "<tr><td>Thursday </td><td>07:00 am</td><td>18982</td><td>24613</td><td>5631</td><td>29.6600 %</td><td>0.3263</td><td>19.9700 %</td><td>-32.8900 %</td></tr>",
            "<tr><td>Thursday </td><td>08:00 am</td><td>33130</td><td>42251</td><td>9121</td><td>27.5300 %</td><td>0.5295</td><td>17.4300 %</td><td>-37.7200 %</td></tr>",
            "<tr><td>Thursday </td><td>09:00 am</td><td>17252</td><td>23309</td><td>6057</td><td>35.1100 %</td><td>0.3511</td><td>26.4700 %</td><td>-20.5700 %</td></tr>",
            "<tr><td>Thursday </td><td>10:00 am</td><td>9903</td><td>13435</td><td>3532</td><td>35.6700 %</td><td>0.2041</td><td>27.1300 %</td><td>-19.3100 %</td></tr>",
            "<tr><td>Thursday </td><td>11:00 am</td><td>10711</td><td>14129</td><td>3418</td><td>31.9100 %</td><td>0.1974</td><td>22.6500 %</td><td>-27.8100 %</td></tr>",
            "<tr><td>Thursday </td><td>12:00 pm</td><td>12634</td><td>16206</td><td>3572</td><td>28.2700 %</td><td>0.2064</td><td>18.3100 %</td><td>-36.0400 %</td></tr>",
            "<tr><td>Thursday </td><td>01:00 pm</td><td>11666</td><td>15680</td><td>4014</td><td>34.4100 %</td><td>0.2321</td><td>25.6300 %</td><td>-22.1600 %</td></tr>",
            "<tr><td>Thursday </td><td>02:00 pm</td><td>11503</td><td>15909</td><td>4406</td><td>38.3000 %</td><td>0.2549</td><td>30.2800 %</td><td>-13.3500 %</td></tr>",
            "<tr><td>Thursday </td><td>03:00 pm</td><td>13866</td><td>19746</td><td>5880</td><td>42.4100 %</td><td>0.3408</td><td>35.1800 %</td><td>-4.0700 %</td></tr>",
            "<tr><td>Thursday </td><td>04:00 pm</td><td>23869</td><td>33814</td><td>9945</td><td>41.6600 %</td><td>0.5775</td><td>34.2900 %</td><td>-5.7400 %</td></tr>",
            "<tr><td>Thursday </td><td>05:00 pm</td><td>34912</td><td>47861</td><td>12949</td><td>37.0900 %</td><td>0.7524</td><td>28.8300 %</td><td>-16.0900 %</td></tr>",
            "<tr><td>Thursday </td><td>06:00 pm</td><td>25004</td><td>34991</td><td>9987</td><td>39.9400 %</td><td>0.5800</td><td>32.2300 %</td><td>-9.6400 %</td></tr>",
            "<tr><td>Thursday </td><td>07:00 pm</td><td>16657</td><td>24152</td><td>7495</td><td>45.0000 %</td><td>0.4348</td><td>38.2700 %</td><td>1.7900 %</td></tr>",
            "<tr><td>Thursday </td><td>08:00 pm</td><td>11965</td><td>16912</td><td>4947</td><td>41.3500 %</td><td>0.2865</td><td>33.9100 %</td><td>-6.4600 %</td></tr>",
            "<tr><td>Thursday </td><td>09:00 pm</td><td>8520</td><td>12746</td><td>4226</td><td>49.6000 %</td><td>0.2445</td><td>43.7600 %</td><td>12.2100 %</td></tr>",
            "<tr><td>Thursday </td><td>10:00 pm</td><td>6397</td><td>8924</td><td>2527</td><td>39.5000 %</td><td>0.1455</td><td>31.7100 %</td><td>-10.6300 %</td></tr>",
            "<tr><td>Thursday </td><td>11:00 pm</td><td>3647</td><td>6009</td><td>2362</td><td>64.7700 %</td><td>0.1359</td><td>61.8600 %</td><td>46.5200 %</td></tr>",
            "<tr><td>Friday   </td><td>12:00 am</td><td>2051</td><td>2911</td><td>860</td><td>41.9300 %</td><td>0.0485</td><td>34.6100 %</td><td>-5.1400 %</td></tr>",
            "<tr><td>Friday   </td><td>01:00 am</td><td>1049</td><td>1596</td><td>547</td><td>52.1400 %</td><td>0.0302</td><td>46.8000 %</td><td>17.9700 %</td></tr>",
            "<tr><td>Friday   </td><td>02:00 am</td><td>640</td><td>977</td><td>337</td><td>52.6600 %</td><td>0.0180</td><td>47.4100 %</td><td>19.1200 %</td></tr>",
            "<tr><td>Friday   </td><td>03:00 am</td><td>268</td><td>392</td><td>124</td><td>46.2700 %</td><td>0.0056</td><td>39.7800 %</td><td>4.6700 %</td></tr>",
            "<tr><td>Friday   </td><td>04:00 am</td><td>327</td><td>486</td><td>159</td><td>48.6200 %</td><td>0.0076</td><td>42.5900 %</td><td>10.0000 %</td></tr>",
            "<tr><td>Friday   </td><td>05:00 am</td><td>1709</td><td>2292</td><td>583</td><td>34.1100 %</td><td>0.0323</td><td>25.2800 %</td><td>-22.8300 %</td></tr>",
            "<tr><td>Friday   </td><td>06:00 am</td><td>5954</td><td>7623</td><td>1669</td><td>28.0300 %</td><td>0.0956</td><td>18.0200 %</td><td>-36.5800 %</td></tr>",
            "<tr><td>Friday   </td><td>07:00 am</td><td>16401</td><td>22006</td><td>5605</td><td>34.1700 %</td><td>0.3248</td><td>25.3500 %</td><td>-22.6900 %</td></tr>",
            "<tr><td>Friday   </td><td>08:00 am</td><td>29270</td><td>40942</td><td>11672</td><td>39.8800 %</td><td>0.6781</td><td>32.1600 %</td><td>-9.7900 %</td></tr>",
            "<tr><td>Friday   </td><td>09:00 am</td><td>16452</td><td>23453</td><td>7001</td><td>42.5500 %</td><td>0.4061</td><td>35.3500 %</td><td>-3.7300 %</td></tr>",
            "<tr><td>Friday   </td><td>10:00 am</td><td>10638</td><td>14968</td><td>4330</td><td>40.7000 %</td><td>0.2505</td><td>33.1400 %</td><td>-7.9200 %</td></tr>",
            "<tr><td>Friday   </td><td>11:00 am</td><td>11442</td><td>16426</td><td>4984</td><td>43.5600 %</td><td>0.2886</td><td>36.5500 %</td><td>-1.4600 %</td></tr>",
            "<tr><td>Friday   </td><td>12:00 pm</td><td>13698</td><td>19248</td><td>5550</td><td>40.5200 %</td><td>0.3216</td><td>32.9200 %</td><td>-8.3400 %</td></tr>",
            "<tr><td>Friday   </td><td>01:00 pm</td><td>13779</td><td>19387</td><td>5608</td><td>40.7000 %</td><td>0.3249</td><td>33.1400 %</td><td>-7.9300 %</td></tr>",
            "<tr><td>Friday   </td><td>02:00 pm</td><td>14012</td><td>19198</td><td>5186</td><td>37.0100 %</td><td>0.3004</td><td>28.7400 %</td><td>-16.2700 %</td></tr>",
            "<tr><td>Friday   </td><td>03:00 pm</td><td>17000</td><td>23585</td><td>6585</td><td>38.7400 %</td><td>0.3818</td><td>30.8000 %</td><td>-12.3700 %</td></tr>",
            "<tr><td>Friday   </td><td>04:00 pm</td><td>26480</td><td>34457</td><td>7977</td><td>30.1200 %</td><td>0.4629</td><td>20.5200 %</td><td>-31.8500 %</td></tr>",
            "<tr><td>Friday   </td><td>05:00 pm</td><td>30648</td><td>42340</td><td>11692</td><td>38.1500 %</td><td>0.6792</td><td>30.1000 %</td><td>-13.7000 %</td></tr>",
            "<tr><td>Friday   </td><td>06:00 pm</td><td>20949</td><td>30518</td><td>9569</td><td>45.6800 %</td><td>0.5556</td><td>39.0800 %</td><td>3.3400 %</td></tr>",
            "<tr><td>Friday   </td><td>07:00 pm</td><td>14436</td><td>21277</td><td>6841</td><td>47.3900 %</td><td>0.3968</td><td>41.1200 %</td><td>7.2100 %</td></tr>",
            "<tr><td>Friday   </td><td>08:00 pm</td><td>9842</td><td>14648</td><td>4806</td><td>48.8300 %</td><td>0.2782</td><td>42.8400 %</td><td>10.4700 %</td></tr>",
            "<tr><td>Friday   </td><td>09:00 pm</td><td>7774</td><td>10932</td><td>3158</td><td>40.6200 %</td><td>0.1823</td><td>33.0500 %</td><td>-8.1000 %</td></tr>",
            "<tr><td>Friday   </td><td>10:00 pm</td><td>6617</td><td>9327</td><td>2710</td><td>40.9600 %</td><td>0.1562</td><td>33.4400 %</td><td>-7.3500 %</td></tr>",
            "<tr><td>Friday   </td><td>11:00 pm</td><td>4793</td><td>6479</td><td>1686</td><td>35.1800 %</td><td>0.0966</td><td>26.5500 %</td><td>-20.4200 %</td></tr>",
            "<tr><td>Saturday </td><td>12:00 am</td><td>3230</td><td>4668</td><td>1438</td><td>44.5200 %</td><td>0.0821</td><td>37.7000 %</td><td>0.7200 %</td></tr>",
            "<tr><td>Saturday </td><td>01:00 am</td><td>2516</td><td>3751</td><td>1235</td><td>49.0900 %</td><td>0.0703</td><td>43.1500 %</td><td>11.0500 %</td></tr>",
            "<tr><td>Saturday </td><td>02:00 am</td><td>1741</td><td>2357</td><td>616</td><td>35.3800 %</td><td>0.0342</td><td>26.7900 %</td><td>-19.9600 %</td></tr>",
            "<tr><td>Saturday </td><td>03:00 am</td><td>586</td><td>797</td><td>211</td><td>36.0100 %</td><td>0.0107</td><td>27.5400 %</td><td>-18.5400 %</td></tr>",
            "<tr><td>Saturday </td><td>04:00 am</td><td>367</td><td>458</td><td>91</td><td>24.8000 %</td><td>0.0037</td><td>14.1600 %</td><td>-43.9100 %</td></tr>",
            "<tr><td>Saturday </td><td>05:00 am</td><td>481</td><td>762</td><td>281</td><td>58.4200 %</td><td>0.0147</td><td>54.2800 %</td><td>32.1600 %</td></tr>",
            "<tr><td>Saturday </td><td>06:00 am</td><td>1135</td><td>1620</td><td>485</td><td>42.7300 %</td><td>0.0266</td><td>35.5600 %</td><td>-3.3300 %</td></tr>",
            "<tr><td>Saturday </td><td>07:00 am</td><td>2891</td><td>3904</td><td>1013</td><td>35.0400 %</td><td>0.0574</td><td>26.3900 %</td><td>-20.7300 %</td></tr>",
            "<tr><td>Saturday </td><td>08:00 am</td><td>5710</td><td>8049</td><td>2339</td><td>40.9600 %</td><td>0.1346</td><td>33.4500 %</td><td>-7.3300 %</td></tr>",
            "<tr><td>Saturday </td><td>09:00 am</td><td>8861</td><td>12955</td><td>4094</td><td>46.2000 %</td><td>0.2368</td><td>39.7100 %</td><td>4.5200 %</td></tr>",
            "<tr><td>Saturday </td><td>10:00 am</td><td>12208</td><td>17646</td><td>5438</td><td>44.5400 %</td><td>0.3150</td><td>37.7300 %</td><td>0.7700 %</td></tr>",
            "<tr><td>Saturday </td><td>11:00 am</td><td>14567</td><td>22454</td><td>7887</td><td>54.1400 %</td><td>0.4577</td><td>49.1800 %</td><td>22.4900 %</td></tr>",
            "<tr><td>Saturday </td><td>12:00 pm</td><td>16367</td><td>26092</td><td>9725</td><td>59.4200 %</td><td>0.5647</td><td>55.4800 %</td><td>34.4200 %</td></tr>",
            "<tr><td>Saturday </td><td>01:00 pm</td><td>17361</td><td>26840</td><td>9479</td><td>54.6000 %</td><td>0.5504</td><td>49.7300 %</td><td>23.5200 %</td></tr>",
            "<tr><td>Saturday </td><td>02:00 pm</td><td>17344</td><td>27132</td><td>9788</td><td>56.4300 %</td><td>0.5684</td><td>51.9100 %</td><td>27.6700 %</td></tr>",
            "<tr><td>Saturday </td><td>03:00 pm</td><td>17341</td><td>27428</td><td>10087</td><td>58.1700 %</td><td>0.5858</td><td>53.9800 %</td><td>31.5900 %</td></tr>",
            "<tr><td>Saturday </td><td>04:00 pm</td><td>17214</td><td>26447</td><td>9233</td><td>53.6400 %</td><td>0.5360</td><td>48.5800 %</td><td>21.3400 %</td></tr>",
            "<tr><td>Saturday </td><td>05:00 pm</td><td>16116</td><td>24997</td><td>8881</td><td>55.1100 %</td><td>0.5155</td><td>50.3300 %</td><td>24.6700 %</td></tr>",
            "<tr><td>Saturday </td><td>06:00 pm</td><td>14471</td><td>22568</td><td>8097</td><td>55.9500 %</td><td>0.4699</td><td>51.3400 %</td><td>26.5800 %</td></tr>",
            "<tr><td>Saturday </td><td>07:00 pm</td><td>11797</td><td>18175</td><td>6378</td><td>54.0600 %</td><td>0.3698</td><td>49.0900 %</td><td>22.3100 %</td></tr>",
            "<tr><td>Saturday </td><td>08:00 pm</td><td>8657</td><td>13159</td><td>4502</td><td>52.0000 %</td><td>0.2605</td><td>46.6300 %</td><td>17.6500 %</td></tr>",
            "<tr><td>Saturday </td><td>09:00 pm</td><td>6888</td><td>10901</td><td>4013</td><td>58.2600 %</td><td>0.2321</td><td>54.0900 %</td><td>31.8000 %</td></tr>",
            "<tr><td>Saturday </td><td>10:00 pm</td><td>5918</td><td>9059</td><td>3141</td><td>53.0800 %</td><td>0.1813</td><td>47.9100 %</td><td>20.0700 %</td></tr>",
            "<tr><td>Saturday </td><td>11:00 pm</td><td>4377</td><td>6805</td><td>2428</td><td>55.4700 %</td><td>0.1398</td><td>50.7700 %</td><td>25.4900 %</td></tr>",
            "<tr><td>Sunday   </td><td>12:00 am</td><td>3288</td><td>5208</td><td>1920</td><td>58.3900 %</td><td>0.1102</td><td>54.2500 %</td><td>32.1000 %</td></tr>",
            "<tr><td>Sunday   </td><td>01:00 am</td><td>2785</td><td>4741</td><td>1956</td><td>70.2300 %</td><td>0.1123</td><td>68.3800 %</td><td>58.8900 %</td></tr>",
            "<tr><td>Sunday   </td><td>02:00 am</td><td>1943</td><td>2955</td><td>1012</td><td>52.0800 %</td><td>0.0573</td><td>46.7200 %</td><td>17.8300 %</td></tr>",
            "<tr><td>Sunday   </td><td>03:00 am</td><td>571</td><td>793</td><td>222</td><td>38.8800 %</td><td>0.0113</td><td>30.9700 %</td><td>-12.0400 %</td></tr>",
            "<tr><td>Sunday   </td><td>04:00 am</td><td>268</td><td>464</td><td>196</td><td>73.1300 %</td><td>0.0098</td><td>71.8400 %</td><td>65.4500 %</td></tr>",
            "<tr><td>Sunday   </td><td>05:00 am</td><td>421</td><td>736</td><td>315</td><td>74.8200 %</td><td>0.0167</td><td>73.8600 %</td><td>69.2700 %</td></tr>",
            "<tr><td>Sunday   </td><td>06:00 am</td><td>911</td><td>1534</td><td>623</td><td>68.3900 %</td><td>0.0346</td><td>66.1800 %</td><td>54.7100 %</td></tr>",
            "<tr><td>Sunday   </td><td>07:00 am</td><td>1935</td><td>3028</td><td>1093</td><td>56.4900 %</td><td>0.0620</td><td>51.9800 %</td><td>27.7900 %</td></tr>",
            "<tr><td>Sunday   </td><td>08:00 am</td><td>4500</td><td>7129</td><td>2629</td><td>58.4200 %</td><td>0.1515</td><td>54.2900 %</td><td>32.1700 %</td></tr>",
            "<tr><td>Sunday   </td><td>09:00 am</td><td>7620</td><td>12035</td><td>4415</td><td>57.9400 %</td><td>0.2555</td><td>53.7100 %</td><td>31.0800 %</td></tr>",
            "<tr><td>Sunday   </td><td>10:00 am</td><td>11093</td><td>16830</td><td>5737</td><td>51.7200 %</td><td>0.3325</td><td>46.2900 %</td><td>17.0000 %</td></tr>",
            "<tr><td>Sunday   </td><td>11:00 am</td><td>13401</td><td>20140</td><td>6739</td><td>50.2900 %</td><td>0.3908</td><td>44.5800 %</td><td>13.7600 %</td></tr>",
            "<tr><td>Sunday   </td><td>12:00 pm</td><td>15646</td><td>22816</td><td>7170</td><td>45.8300 %</td><td>0.4159</td><td>39.2600 %</td><td>3.6700 %</td></tr>",
            "<tr><td>Sunday   </td><td>01:00 pm</td><td>16761</td><td>24356</td><td>7595</td><td>45.3100 %</td><td>0.4407</td><td>38.6400 %</td><td>2.5100 %</td></tr>",
            "<tr><td>Sunday   </td><td>02:00 pm</td><td>16736</td><td>23920</td><td>7184</td><td>42.9300 %</td><td>0.4167</td><td>35.8000 %</td><td>-2.8900 %</td></tr>",
            "<tr><td>Sunday   </td><td>03:00 pm</td><td>16848</td><td>23682</td><td>6834</td><td>40.5600 %</td><td>0.3963</td><td>32.9800 %</td><td>-8.2400 %</td></tr>",
            "<tr><td>Sunday   </td><td>04:00 pm</td><td>16426</td><td>24073</td><td>7647</td><td>46.5500 %</td><td>0.4437</td><td>40.1300 %</td><td>5.3200 %</td></tr>",
            "<tr><td>Sunday   </td><td>05:00 pm</td><td>15527</td><td>22860</td><td>7333</td><td>47.2300 %</td><td>0.4254</td><td>40.9300 %</td><td>6.8400 %</td></tr>",
            "<tr><td>Sunday   </td><td>06:00 pm</td><td>13780</td><td>20821</td><td>7041</td><td>51.1000 %</td><td>0.4084</td><td>45.5400 %</td><td>15.5900 %</td></tr>",
            "<tr><td>Sunday   </td><td>07:00 pm</td><td>10698</td><td>15772</td><td>5074</td><td>47.4300 %</td><td>0.2939</td><td>41.1700 %</td><td>7.3000 %</td></tr>",
            "<tr><td>Sunday   </td><td>08:00 pm</td><td>7506</td><td>12009</td><td>4503</td><td>59.9900 %</td><td>0.2606</td><td>56.1600 %</td><td>35.7200 %</td></tr>",
            "<tr><td>Sunday   </td><td>09:00 pm</td><td>5498</td><td>8460</td><td>2962</td><td>53.8700 %</td><td>0.1709</td><td>48.8600 %</td><td>21.8800 %</td></tr>",
            "<tr><td>Sunday   </td><td>10:00 pm</td><td>4043</td><td>6565</td><td>2522</td><td>62.3800 %</td><td>0.1452</td><td>59.0100 %</td><td>41.1200 %</td></tr>",
            "<tr><td>Sunday   </td><td>11:00 pm</td><td>2850</td><td>4276</td><td>1426</td><td>50.0400 %</td><td>0.0814</td><td>44.2800 %</td><td>13.1900 %</td></tr>",
            "</table>"
        ]
    }
}
],
            "execution_count": 151
        },
        {
            "cell_type": "code",
            "source": [
                "-- THIS IS NOT WORKING\n",
                "select\n",
                "a.day,\n",
                "a.hour,\n",
                "avg(avg(a.riders)) over(partition by a.hour_no) as calc_riders_2018,\n",
                "avg(a.riders) as riders_2018,\n",
                "avg(b.riders) as riders_2019,\n",
                "avg(b.riders) - avg(a.riders) as riders_change,\n",
                "round((avg(b.riders) - avg(a.riders)::numeric) / avg(a.riders), 4) * 100 || ' %' as percent_change\n",
                "from agg_2018 a\n",
                "join agg_2019 b on a.month_no = b.month_no and a.day_no = b.day_no and a.hour_no = b.hour_no\n",
                "group by a.day, a.day_no, a.hour, a.hour_no\n",
                "order by a.day_no, a.hour_no;"
            ],
            "metadata": {
                "azdata_cell_guid": "ef796bcc-323c-4dd9-96be-25a98fdd3478"
            },
            "outputs": [
                {
                    "output_type": "display_data",
                    "data": {
                        "text/html": "(168 row(s) affected)"
                    },
                    "metadata": {}
                },
                {
                    "output_type": "display_data",
                    "data": {
                        "text/html": "Total execution time: 00:00:00.252"
                    },
                    "metadata": {}
                },
                {
                    "output_type": "execute_result",
                    "metadata": {},
                    "execution_count": 131,
                    "data": {
                        "application/vnd.dataresource+json": {
                            "schema": {
                                "fields": [
                                    {
                                        "name": "day"
                                    },
                                    {
                                        "name": "hour"
                                    },
                                    {
                                        "name": "calc_riders_2018"
                                    },
                                    {
                                        "name": "riders_2018"
                                    },
                                    {
                                        "name": "riders_2019"
                                    },
                                    {
                                        "name": "riders_change"
                                    },
                                    {
                                        "name": "percent_change"
                                    }
                                ]
                            },
                            "data": [
                                {
                                    "0": "Monday   ",
                                    "1": "12:00 am",
                                    "2": "171.2023809523809524",
                                    "3": "131.1666666666666667",
                                    "4": "178.2500000000000000",
                                    "5": "47.0833333333333333",
                                    "6": "35.9000 %"
                                },
                                {
                                    "0": "Monday   ",
                                    "1": "01:00 am",
                                    "2": "111.1071428571428572",
                                    "3": "73.5000000000000000",
                                    "4": "101.9166666666666667",
                                    "5": "28.4166666666666667",
                                    "6": "38.6600 %"
                                },
                                {
                                    "0": "Monday   ",
                                    "1": "02:00 am",
                                    "2": "71.0476190476190476",
                                    "3": "37.1666666666666667",
                                    "4": "58.9166666666666667",
                                    "5": "21.7500000000000000",
                                    "6": "58.5200 %"
                                },
                                {
                                    "0": "Monday   ",
                                    "1": "03:00 am",
                                    "2": "26.3928571428571428",
                                    "3": "18.6666666666666667",
                                    "4": "24.0833333333333333",
                                    "5": "5.4166666666666666",
                                    "6": "29.0200 %"
                                },
                                {
                                    "0": "Monday   ",
                                    "1": "04:00 am",
                                    "2": "27.8452380952380952",
                                    "3": "28.9166666666666667",
                                    "4": "46.0000000000000000",
                                    "5": "17.0833333333333333",
                                    "6": "59.0800 %"
                                },
                                {
                                    "0": "Monday   ",
                                    "1": "05:00 am",
                                    "2": "125.8452380952380952",
                                    "3": "155.0000000000000000",
                                    "4": "215.0000000000000000",
                                    "5": "60.0000000000000000",
                                    "6": "38.7100 %"
                                },
                                {
                                    "0": "Monday   ",
                                    "1": "06:00 am",
                                    "2": "417.2142857142857143",
                                    "3": "501.5000000000000000",
                                    "4": "702.5833333333333333",
                                    "5": "201.0833333333333333",
                                    "6": "40.1000 %"
                                },
                                {
                                    "0": "Monday   ",
                                    "1": "07:00 am",
                                    "2": "1152.2857142857142857",
                                    "3": "1412.2500000000000000",
                                    "4": "1974.4166666666666667",
                                    "5": "562.1666666666666667",
                                    "6": "39.8100 %"
                                },
                                {
                                    "0": "Monday   ",
                                    "1": "08:00 am",
                                    "2": "1997.2380952380952381",
                                    "3": "2425.5000000000000000",
                                    "4": "3402.9166666666666667",
                                    "5": "977.4166666666666667",
                                    "6": "40.3000 %"
                                },
                                {
                                    "0": "Monday   ",
                                    "1": "09:00 am",
                                    "2": "1174.0119047619047619",
                                    "3": "1239.3333333333333333",
                                    "4": "1847.2500000000000000",
                                    "5": "607.9166666666666667",
                                    "6": "49.0500 %"
                                },
                                {
                                    "0": "Monday   ",
                                    "1": "10:00 am",
                                    "2": "859.6428571428571429",
                                    "3": "759.6666666666666667",
                                    "4": "1151.8333333333333333",
                                    "5": "392.1666666666666666",
                                    "6": "51.6200 %"
                                },
                                {
                                    "0": "Monday   ",
                                    "1": "11:00 am",
                                    "2": "948.7738095238095238",
                                    "3": "802.9166666666666667",
                                    "4": "1219.1666666666666667",
                                    "5": "416.2500000000000000",
                                    "6": "51.8400 %"
                                },
                                {
                                    "0": "Monday   ",
                                    "1": "12:00 pm",
                                    "2": "1110.2619047619047619",
                                    "3": "958.1666666666666667",
                                    "4": "1415.5000000000000000",
                                    "5": "457.3333333333333333",
                                    "6": "47.7300 %"
                                },
                                {
                                    "0": "Monday   ",
                                    "1": "01:00 pm",
                                    "2": "1100.2500000000000000",
                                    "3": "915.3333333333333333",
                                    "4": "1335.9166666666666667",
                                    "5": "420.5833333333333334",
                                    "6": "45.9500 %"
                                },
                                {
                                    "0": "Monday   ",
                                    "1": "02:00 pm",
                                    "2": "1086.6904761904761905",
                                    "3": "897.8333333333333333",
                                    "4": "1367.3333333333333333",
                                    "5": "469.5000000000000000",
                                    "6": "52.2900 %"
                                },
                                {
                                    "0": "Monday   ",
                                    "1": "03:00 pm",
                                    "2": "1239.0595238095238095",
                                    "3": "1117.1666666666666667",
                                    "4": "1616.3333333333333333",
                                    "5": "499.1666666666666666",
                                    "6": "44.6800 %"
                                },
                                {
                                    "0": "Monday   ",
                                    "1": "04:00 pm",
                                    "2": "1826.0357142857142857",
                                    "3": "1881.1666666666666667",
                                    "4": "2700.7500000000000000",
                                    "5": "819.5833333333333333",
                                    "6": "43.5700 %"
                                },
                                {
                                    "0": "Monday   ",
                                    "1": "05:00 pm",
                                    "2": "2402.3690476190476190",
                                    "3": "2794.0833333333333333",
                                    "4": "3992.8333333333333333",
                                    "5": "1198.7500000000000000",
                                    "6": "42.9000 %"
                                },
                                {
                                    "0": "Monday   ",
                                    "1": "06:00 pm",
                                    "2": "1759.2857142857142857",
                                    "3": "1931.5000000000000000",
                                    "4": "2858.8333333333333333",
                                    "5": "927.3333333333333333",
                                    "6": "48.0100 %"
                                },
                                {
                                    "0": "Monday   ",
                                    "1": "07:00 pm",
                                    "2": "1218.2857142857142857",
                                    "3": "1274.0833333333333333",
                                    "4": "1898.6666666666666667",
                                    "5": "624.5833333333333334",
                                    "6": "49.0200 %"
                                },
                                {
                                    "0": "Monday   ",
                                    "1": "08:00 pm",
                                    "2": "843.7738095238095238",
                                    "3": "839.8333333333333333",
                                    "4": "1256.7500000000000000",
                                    "5": "416.9166666666666667",
                                    "6": "49.6400 %"
                                },
                                {
                                    "0": "Monday   ",
                                    "1": "09:00 pm",
                                    "2": "623.1547619047619048",
                                    "3": "571.1666666666666667",
                                    "4": "848.3333333333333333",
                                    "5": "277.1666666666666666",
                                    "6": "48.5300 %"
                                },
                                {
                                    "0": "Monday   ",
                                    "1": "10:00 pm",
                                    "2": "460.1190476190476191",
                                    "3": "370.0000000000000000",
                                    "4": "536.0833333333333333",
                                    "5": "166.0833333333333333",
                                    "6": "44.8900 %"
                                },
                                {
                                    "0": "Monday   ",
                                    "1": "11:00 pm",
                                    "2": "293.4166666666666667",
                                    "3": "200.0833333333333333",
                                    "4": "282.5833333333333333",
                                    "5": "82.5000000000000000",
                                    "6": "41.2300 %"
                                },
                                {
                                    "0": "Tuesday  ",
                                    "1": "12:00 am",
                                    "2": "171.2023809523809524",
                                    "3": "97.9166666666666667",
                                    "4": "136.5000000000000000",
                                    "5": "38.5833333333333333",
                                    "6": "39.4000 %"
                                },
                                {
                                    "0": "Tuesday  ",
                                    "1": "01:00 am",
                                    "2": "111.1071428571428572",
                                    "3": "48.7500000000000000",
                                    "4": "70.7500000000000000",
                                    "5": "22.0000000000000000",
                                    "6": "45.1300 %"
                                },
                                {
                                    "0": "Tuesday  ",
                                    "1": "02:00 am",
                                    "2": "71.0476190476190476",
                                    "3": "29.5000000000000000",
                                    "4": "45.3333333333333333",
                                    "5": "15.8333333333333333",
                                    "6": "53.6700 %"
                                },
                                {
                                    "0": "Tuesday  ",
                                    "1": "03:00 am",
                                    "2": "26.3928571428571428",
                                    "3": "12.7500000000000000",
                                    "4": "25.0833333333333333",
                                    "5": "12.3333333333333333",
                                    "6": "96.7300 %"
                                },
                                {
                                    "0": "Tuesday  ",
                                    "1": "04:00 am",
                                    "2": "27.8452380952380952",
                                    "3": "27.0000000000000000",
                                    "4": "41.5000000000000000",
                                    "5": "14.5000000000000000",
                                    "6": "53.7000 %"
                                },
                                {
                                    "0": "Tuesday  ",
                                    "1": "05:00 am",
                                    "2": "125.8452380952380952",
                                    "3": "174.1666666666666667",
                                    "4": "245.9166666666666667",
                                    "5": "71.7500000000000000",
                                    "6": "41.2000 %"
                                },
                                {
                                    "0": "Tuesday  ",
                                    "1": "06:00 am",
                                    "2": "417.2142857142857143",
                                    "3": "588.4166666666666667",
                                    "4": "779.5833333333333333",
                                    "5": "191.1666666666666666",
                                    "6": "32.4900 %"
                                },
                                {
                                    "0": "Tuesday  ",
                                    "1": "07:00 am",
                                    "2": "1152.2857142857142857",
                                    "3": "1633.3333333333333333",
                                    "4": "2143.8333333333333333",
                                    "5": "510.5000000000000000",
                                    "6": "31.2600 %"
                                },
                                {
                                    "0": "Tuesday  ",
                                    "1": "08:00 am",
                                    "2": "1997.2380952380952381",
                                    "3": "2740.8333333333333333",
                                    "4": "3700.6666666666666667",
                                    "5": "959.8333333333333334",
                                    "6": "35.0200 %"
                                },
                                {
                                    "0": "Tuesday  ",
                                    "1": "09:00 am",
                                    "2": "1174.0119047619047619",
                                    "3": "1363.5833333333333333",
                                    "4": "1927.6666666666666667",
                                    "5": "564.0833333333333334",
                                    "6": "41.3700 %"
                                },
                                {
                                    "0": "Tuesday  ",
                                    "1": "10:00 am",
                                    "2": "859.6428571428571429",
                                    "3": "755.2500000000000000",
                                    "4": "1089.5000000000000000",
                                    "5": "334.2500000000000000",
                                    "6": "44.2600 %"
                                },
                                {
                                    "0": "Tuesday  ",
                                    "1": "11:00 am",
                                    "2": "948.7738095238095238",
                                    "3": "779.9166666666666667",
                                    "4": "1125.3333333333333333",
                                    "5": "345.4166666666666666",
                                    "6": "44.2900 %"
                                },
                                {
                                    "0": "Tuesday  ",
                                    "1": "12:00 pm",
                                    "2": "1110.2619047619047619",
                                    "3": "907.4166666666666667",
                                    "4": "1305.5833333333333333",
                                    "5": "398.1666666666666666",
                                    "6": "43.8800 %"
                                },
                                {
                                    "0": "Tuesday  ",
                                    "1": "01:00 pm",
                                    "2": "1100.2500000000000000",
                                    "3": "845.5833333333333333",
                                    "4": "1240.7500000000000000",
                                    "5": "395.1666666666666667",
                                    "6": "46.7300 %"
                                },
                                {
                                    "0": "Tuesday  ",
                                    "1": "02:00 pm",
                                    "2": "1086.6904761904761905",
                                    "3": "818.0000000000000000",
                                    "4": "1233.4166666666666667",
                                    "5": "415.4166666666666667",
                                    "6": "50.7800 %"
                                },
                                {
                                    "0": "Tuesday  ",
                                    "1": "03:00 pm",
                                    "2": "1239.0595238095238095",
                                    "3": "1001.3333333333333333",
                                    "4": "1539.9166666666666667",
                                    "5": "538.5833333333333334",
                                    "6": "53.7900 %"
                                },
                                {
                                    "0": "Tuesday  ",
                                    "1": "04:00 pm",
                                    "2": "1826.0357142857142857",
                                    "3": "1855.8333333333333333",
                                    "4": "2751.9166666666666667",
                                    "5": "896.0833333333333334",
                                    "6": "48.2800 %"
                                },
                                {
                                    "0": "Tuesday  ",
                                    "1": "05:00 pm",
                                    "2": "2402.3690476190476190",
                                    "3": "2819.8333333333333333",
                                    "4": "4253.1666666666666667",
                                    "5": "1433.3333333333333334",
                                    "6": "50.8300 %"
                                },
                                {
                                    "0": "Tuesday  ",
                                    "1": "06:00 pm",
                                    "2": "1759.2857142857142857",
                                    "3": "2025.1666666666666667",
                                    "4": "3076.1666666666666667",
                                    "5": "1051.0000000000000000",
                                    "6": "51.9000 %"
                                },
                                {
                                    "0": "Tuesday  ",
                                    "1": "07:00 pm",
                                    "2": "1218.2857142857142857",
                                    "3": "1300.7500000000000000",
                                    "4": "2008.0833333333333333",
                                    "5": "707.3333333333333333",
                                    "6": "54.3800 %"
                                },
                                {
                                    "0": "Tuesday  ",
                                    "1": "08:00 pm",
                                    "2": "843.7738095238095238",
                                    "3": "913.9166666666666667",
                                    "4": "1331.2500000000000000",
                                    "5": "417.3333333333333333",
                                    "6": "45.6600 %"
                                },
                                {
                                    "0": "Tuesday  ",
                                    "1": "09:00 pm",
                                    "2": "623.1547619047619048",
                                    "3": "666.8333333333333333",
                                    "4": "968.9166666666666667",
                                    "5": "302.0833333333333334",
                                    "6": "45.3000 %"
                                },
                                {
                                    "0": "Tuesday  ",
                                    "1": "10:00 pm",
                                    "2": "460.1190476190476191",
                                    "3": "454.4166666666666667",
                                    "4": "645.0000000000000000",
                                    "5": "190.5833333333333333",
                                    "6": "41.9400 %"
                                },
                                {
                                    "0": "Tuesday  ",
                                    "1": "11:00 pm",
                                    "2": "293.4166666666666667",
                                    "3": "236.2500000000000000",
                                    "4": "352.0833333333333333",
                                    "5": "115.8333333333333333",
                                    "6": "49.0300 %"
                                },
                                {
                                    "0": "Wednesday",
                                    "1": "12:00 am",
                                    "2": "171.2023809523809524",
                                    "3": "120.8333333333333333",
                                    "4": "154.1666666666666667",
                                    "5": "33.3333333333333334",
                                    "6": "27.5900 %"
                                },
                                {
                                    "0": "Wednesday",
                                    "1": "01:00 am",
                                    "2": "111.1071428571428572",
                                    "3": "61.4166666666666667",
                                    "4": "83.8333333333333333",
                                    "5": "22.4166666666666666",
                                    "6": "36.5000 %"
                                },
                                {
                                    "0": "Wednesday",
                                    "1": "02:00 am",
                                    "2": "71.0476190476190476",
                                    "3": "32.1666666666666667",
                                    "4": "49.5833333333333333",
                                    "5": "17.4166666666666666",
                                    "6": "54.1500 %"
                                },
                                {
                                    "0": "Wednesday",
                                    "1": "03:00 am",
                                    "2": "26.3928571428571428",
                                    "3": "17.2500000000000000",
                                    "4": "19.5833333333333333",
                                    "5": "2.3333333333333333",
                                    "6": "13.5300 %"
                                },
                                {
                                    "0": "Wednesday",
                                    "1": "04:00 am",
                                    "2": "27.8452380952380952",
                                    "3": "30.7500000000000000",
                                    "4": "40.1666666666666667",
                                    "5": "9.4166666666666667",
                                    "6": "30.6200 %"
                                },
                                {
                                    "0": "Wednesday",
                                    "1": "05:00 am",
                                    "2": "125.8452380952380952",
                                    "3": "178.6666666666666667",
                                    "4": "254.5000000000000000",
                                    "5": "75.8333333333333333",
                                    "6": "42.4400 %"
                                },
                                {
                                    "0": "Wednesday",
                                    "1": "06:00 am",
                                    "2": "417.2142857142857143",
                                    "3": "595.5000000000000000",
                                    "4": "820.9166666666666667",
                                    "5": "225.4166666666666667",
                                    "6": "37.8500 %"
                                },
                                {
                                    "0": "Wednesday",
                                    "1": "07:00 am",
                                    "2": "1152.2857142857142857",
                                    "3": "1669.6666666666666667",
                                    "4": "2265.8333333333333333",
                                    "5": "596.1666666666666666",
                                    "6": "35.7100 %"
                                },
                                {
                                    "0": "Wednesday",
                                    "1": "08:00 am",
                                    "2": "1997.2380952380952381",
                                    "3": "2763.5000000000000000",
                                    "4": "3853.7500000000000000",
                                    "5": "1090.2500000000000000",
                                    "6": "39.4500 %"
                                },
                                {
                                    "0": "Wednesday",
                                    "1": "09:00 am",
                                    "2": "1174.0119047619047619",
                                    "3": "1433.0833333333333333",
                                    "4": "2051.5000000000000000",
                                    "5": "618.4166666666666667",
                                    "6": "43.1500 %"
                                },
                                {
                                    "0": "Wednesday",
                                    "1": "10:00 am",
                                    "2": "859.6428571428571429",
                                    "3": "849.0833333333333333",
                                    "4": "1153.5833333333333333",
                                    "5": "304.5000000000000000",
                                    "6": "35.8600 %"
                                },
                                {
                                    "0": "Wednesday",
                                    "1": "11:00 am",
                                    "2": "948.7738095238095238",
                                    "3": "881.8333333333333333",
                                    "4": "1208.8333333333333333",
                                    "5": "327.0000000000000000",
                                    "6": "37.0800 %"
                                },
                                {
                                    "0": "Wednesday",
                                    "1": "12:00 pm",
                                    "2": "1110.2619047619047619",
                                    "3": "1044.1666666666666667",
                                    "4": "1387.5833333333333333",
                                    "5": "343.4166666666666666",
                                    "6": "32.8900 %"
                                },
                                {
                                    "0": "Wednesday",
                                    "1": "01:00 pm",
                                    "2": "1100.2500000000000000",
                                    "3": "976.9166666666666667",
                                    "4": "1322.3333333333333333",
                                    "5": "345.4166666666666666",
                                    "6": "35.3600 %"
                                },
                                {
                                    "0": "Wednesday",
                                    "1": "02:00 pm",
                                    "2": "1086.6904761904761905",
                                    "3": "924.7500000000000000",
                                    "4": "1314.8333333333333333",
                                    "5": "390.0833333333333333",
                                    "6": "42.1800 %"
                                },
                                {
                                    "0": "Wednesday",
                                    "1": "03:00 pm",
                                    "2": "1239.0595238095238095",
                                    "3": "1133.6666666666666667",
                                    "4": "1620.0833333333333333",
                                    "5": "486.4166666666666666",
                                    "6": "42.9100 %"
                                },
                                {
                                    "0": "Wednesday",
                                    "1": "04:00 pm",
                                    "2": "1826.0357142857142857",
                                    "3": "2046.1666666666666667",
                                    "4": "2678.5833333333333333",
                                    "5": "632.4166666666666666",
                                    "6": "30.9100 %"
                                },
                                {
                                    "0": "Wednesday",
                                    "1": "05:00 pm",
                                    "2": "2402.3690476190476190",
                                    "3": "3102.4166666666666667",
                                    "4": "3994.8333333333333333",
                                    "5": "892.4166666666666666",
                                    "6": "28.7700 %"
                                },
                                {
                                    "0": "Wednesday",
                                    "1": "06:00 pm",
                                    "2": "1759.2857142857142857",
                                    "3": "2174.6666666666666667",
                                    "4": "2900.0833333333333333",
                                    "5": "725.4166666666666666",
                                    "6": "33.3600 %"
                                },
                                {
                                    "0": "Wednesday",
                                    "1": "07:00 pm",
                                    "2": "1218.2857142857142857",
                                    "3": "1487.5000000000000000",
                                    "4": "1998.5000000000000000",
                                    "5": "511.0000000000000000",
                                    "6": "34.3500 %"
                                },
                                {
                                    "0": "Wednesday",
                                    "1": "08:00 pm",
                                    "2": "843.7738095238095238",
                                    "3": "988.5000000000000000",
                                    "4": "1331.8333333333333333",
                                    "5": "343.3333333333333333",
                                    "6": "34.7300 %"
                                },
                                {
                                    "0": "Wednesday",
                                    "1": "09:00 pm",
                                    "2": "623.1547619047619048",
                                    "3": "734.0833333333333333",
                                    "4": "953.1666666666666667",
                                    "5": "219.0833333333333334",
                                    "6": "29.8400 %"
                                },
                                {
                                    "0": "Wednesday",
                                    "1": "10:00 pm",
                                    "2": "460.1190476190476191",
                                    "3": "481.8333333333333333",
                                    "4": "641.3333333333333333",
                                    "5": "159.5000000000000000",
                                    "6": "33.1000 %"
                                },
                                {
                                    "0": "Wednesday",
                                    "1": "11:00 pm",
                                    "2": "293.4166666666666667",
                                    "3": "312.0000000000000000",
                                    "4": "352.3333333333333333",
                                    "5": "40.3333333333333333",
                                    "6": "12.9300 %"
                                },
                                {
                                    "0": "Thursday ",
                                    "1": "12:00 am",
                                    "2": "171.2023809523809524",
                                    "3": "134.4166666666666667",
                                    "4": "167.1666666666666667",
                                    "5": "32.7500000000000000",
                                    "6": "24.3600 %"
                                },
                                {
                                    "0": "Thursday ",
                                    "1": "01:00 am",
                                    "2": "111.1071428571428572",
                                    "3": "64.9166666666666667",
                                    "4": "90.4166666666666667",
                                    "5": "25.5000000000000000",
                                    "6": "39.2800 %"
                                },
                                {
                                    "0": "Thursday ",
                                    "1": "02:00 am",
                                    "2": "71.0476190476190476",
                                    "3": "38.1666666666666667",
                                    "4": "51.4166666666666667",
                                    "5": "13.2500000000000000",
                                    "6": "34.7200 %"
                                },
                                {
                                    "0": "Thursday ",
                                    "1": "03:00 am",
                                    "2": "26.3928571428571428",
                                    "3": "17.3333333333333333",
                                    "4": "22.5833333333333333",
                                    "5": "5.2500000000000000",
                                    "6": "30.2900 %"
                                },
                                {
                                    "0": "Thursday ",
                                    "1": "04:00 am",
                                    "2": "27.8452380952380952",
                                    "3": "28.0833333333333333",
                                    "4": "37.8333333333333333",
                                    "5": "9.7500000000000000",
                                    "6": "34.7200 %"
                                },
                                {
                                    "0": "Thursday ",
                                    "1": "05:00 am",
                                    "2": "125.8452380952380952",
                                    "3": "155.5000000000000000",
                                    "4": "224.1666666666666667",
                                    "5": "68.6666666666666667",
                                    "6": "44.1600 %"
                                },
                                {
                                    "0": "Thursday ",
                                    "1": "06:00 am",
                                    "2": "417.2142857142857143",
                                    "3": "568.4166666666666667",
                                    "4": "730.7500000000000000",
                                    "5": "162.3333333333333333",
                                    "6": "28.5600 %"
                                },
                                {
                                    "0": "Thursday ",
                                    "1": "07:00 am",
                                    "2": "1152.2857142857142857",
                                    "3": "1581.8333333333333333",
                                    "4": "2051.0833333333333333",
                                    "5": "469.2500000000000000",
                                    "6": "29.6600 %"
                                },
                                {
                                    "0": "Thursday ",
                                    "1": "08:00 am",
                                    "2": "1997.2380952380952381",
                                    "3": "2760.8333333333333333",
                                    "4": "3520.9166666666666667",
                                    "5": "760.0833333333333334",
                                    "6": "27.5300 %"
                                },
                                {
                                    "0": "Thursday ",
                                    "1": "09:00 am",
                                    "2": "1174.0119047619047619",
                                    "3": "1437.6666666666666667",
                                    "4": "1942.4166666666666667",
                                    "5": "504.7500000000000000",
                                    "6": "35.1100 %"
                                },
                                {
                                    "0": "Thursday ",
                                    "1": "10:00 am",
                                    "2": "859.6428571428571429",
                                    "3": "825.2500000000000000",
                                    "4": "1119.5833333333333333",
                                    "5": "294.3333333333333333",
                                    "6": "35.6700 %"
                                },
                                {
                                    "0": "Thursday ",
                                    "1": "11:00 am",
                                    "2": "948.7738095238095238",
                                    "3": "892.5833333333333333",
                                    "4": "1177.4166666666666667",
                                    "5": "284.8333333333333334",
                                    "6": "31.9100 %"
                                },
                                {
                                    "0": "Thursday ",
                                    "1": "12:00 pm",
                                    "2": "1110.2619047619047619",
                                    "3": "1052.8333333333333333",
                                    "4": "1350.5000000000000000",
                                    "5": "297.6666666666666667",
                                    "6": "28.2700 %"
                                },
                                {
                                    "0": "Thursday ",
                                    "1": "01:00 pm",
                                    "2": "1100.2500000000000000",
                                    "3": "972.1666666666666667",
                                    "4": "1306.6666666666666667",
                                    "5": "334.5000000000000000",
                                    "6": "34.4100 %"
                                },
                                {
                                    "0": "Thursday ",
                                    "1": "02:00 pm",
                                    "2": "1086.6904761904761905",
                                    "3": "958.5833333333333333",
                                    "4": "1325.7500000000000000",
                                    "5": "367.1666666666666667",
                                    "6": "38.3000 %"
                                },
                                {
                                    "0": "Thursday ",
                                    "1": "03:00 pm",
                                    "2": "1239.0595238095238095",
                                    "3": "1155.5000000000000000",
                                    "4": "1645.5000000000000000",
                                    "5": "490.0000000000000000",
                                    "6": "42.4100 %"
                                },
                                {
                                    "0": "Thursday ",
                                    "1": "04:00 pm",
                                    "2": "1826.0357142857142857",
                                    "3": "1989.0833333333333333",
                                    "4": "2817.8333333333333333",
                                    "5": "828.7500000000000000",
                                    "6": "41.6600 %"
                                },
                                {
                                    "0": "Thursday ",
                                    "1": "05:00 pm",
                                    "2": "2402.3690476190476190",
                                    "3": "2909.3333333333333333",
                                    "4": "3988.4166666666666667",
                                    "5": "1079.0833333333333334",
                                    "6": "37.0900 %"
                                },
                                {
                                    "0": "Thursday ",
                                    "1": "06:00 pm",
                                    "2": "1759.2857142857142857",
                                    "3": "2083.6666666666666667",
                                    "4": "2915.9166666666666667",
                                    "5": "832.2500000000000000",
                                    "6": "39.9400 %"
                                },
                                {
                                    "0": "Thursday ",
                                    "1": "07:00 pm",
                                    "2": "1218.2857142857142857",
                                    "3": "1388.0833333333333333",
                                    "4": "2012.6666666666666667",
                                    "5": "624.5833333333333334",
                                    "6": "45.0000 %"
                                },
                                {
                                    "0": "Thursday ",
                                    "1": "08:00 pm",
                                    "2": "843.7738095238095238",
                                    "3": "997.0833333333333333",
                                    "4": "1409.3333333333333333",
                                    "5": "412.2500000000000000",
                                    "6": "41.3500 %"
                                },
                                {
                                    "0": "Thursday ",
                                    "1": "09:00 pm",
                                    "2": "623.1547619047619048",
                                    "3": "710.0000000000000000",
                                    "4": "1062.1666666666666667",
                                    "5": "352.1666666666666667",
                                    "6": "49.6000 %"
                                },
                                {
                                    "0": "Thursday ",
                                    "1": "10:00 pm",
                                    "2": "460.1190476190476191",
                                    "3": "533.0833333333333333",
                                    "4": "743.6666666666666667",
                                    "5": "210.5833333333333334",
                                    "6": "39.5000 %"
                                },
                                {
                                    "0": "Thursday ",
                                    "1": "11:00 pm",
                                    "2": "293.4166666666666667",
                                    "3": "303.9166666666666667",
                                    "4": "500.7500000000000000",
                                    "5": "196.8333333333333333",
                                    "6": "64.7700 %"
                                },
                                {
                                    "0": "Friday   ",
                                    "1": "12:00 am",
                                    "2": "171.2023809523809524",
                                    "3": "170.9166666666666667",
                                    "4": "242.5833333333333333",
                                    "5": "71.6666666666666666",
                                    "6": "41.9300 %"
                                },
                                {
                                    "0": "Friday   ",
                                    "1": "01:00 am",
                                    "2": "111.1071428571428572",
                                    "3": "87.4166666666666667",
                                    "4": "133.0000000000000000",
                                    "5": "45.5833333333333333",
                                    "6": "52.1400 %"
                                },
                                {
                                    "0": "Friday   ",
                                    "1": "02:00 am",
                                    "2": "71.0476190476190476",
                                    "3": "53.3333333333333333",
                                    "4": "81.4166666666666667",
                                    "5": "28.0833333333333334",
                                    "6": "52.6600 %"
                                },
                                {
                                    "0": "Friday   ",
                                    "1": "03:00 am",
                                    "2": "26.3928571428571428",
                                    "3": "22.3333333333333333",
                                    "4": "32.6666666666666667",
                                    "5": "10.3333333333333334",
                                    "6": "46.2700 %"
                                },
                                {
                                    "0": "Friday   ",
                                    "1": "04:00 am",
                                    "2": "27.8452380952380952",
                                    "3": "27.2500000000000000",
                                    "4": "40.5000000000000000",
                                    "5": "13.2500000000000000",
                                    "6": "48.6200 %"
                                },
                                {
                                    "0": "Friday   ",
                                    "1": "05:00 am",
                                    "2": "125.8452380952380952",
                                    "3": "142.4166666666666667",
                                    "4": "191.0000000000000000",
                                    "5": "48.5833333333333333",
                                    "6": "34.1100 %"
                                },
                                {
                                    "0": "Friday   ",
                                    "1": "06:00 am",
                                    "2": "417.2142857142857143",
                                    "3": "496.1666666666666667",
                                    "4": "635.2500000000000000",
                                    "5": "139.0833333333333333",
                                    "6": "28.0300 %"
                                },
                                {
                                    "0": "Friday   ",
                                    "1": "07:00 am",
                                    "2": "1152.2857142857142857",
                                    "3": "1366.7500000000000000",
                                    "4": "1833.8333333333333333",
                                    "5": "467.0833333333333333",
                                    "6": "34.1700 %"
                                },
                                {
                                    "0": "Friday   ",
                                    "1": "08:00 am",
                                    "2": "1997.2380952380952381",
                                    "3": "2439.1666666666666667",
                                    "4": "3411.8333333333333333",
                                    "5": "972.6666666666666666",
                                    "6": "39.8800 %"
                                },
                                {
                                    "0": "Friday   ",
                                    "1": "09:00 am",
                                    "2": "1174.0119047619047619",
                                    "3": "1371.0000000000000000",
                                    "4": "1954.4166666666666667",
                                    "5": "583.4166666666666667",
                                    "6": "42.5500 %"
                                },
                                {
                                    "0": "Friday   ",
                                    "1": "10:00 am",
                                    "2": "859.6428571428571429",
                                    "3": "886.5000000000000000",
                                    "4": "1247.3333333333333333",
                                    "5": "360.8333333333333333",
                                    "6": "40.7000 %"
                                },
                                {
                                    "0": "Friday   ",
                                    "1": "11:00 am",
                                    "2": "948.7738095238095238",
                                    "3": "953.5000000000000000",
                                    "4": "1368.8333333333333333",
                                    "5": "415.3333333333333333",
                                    "6": "43.5600 %"
                                },
                                {
                                    "0": "Friday   ",
                                    "1": "12:00 pm",
                                    "2": "1110.2619047619047619",
                                    "3": "1141.5000000000000000",
                                    "4": "1604.0000000000000000",
                                    "5": "462.5000000000000000",
                                    "6": "40.5200 %"
                                },
                                {
                                    "0": "Friday   ",
                                    "1": "01:00 pm",
                                    "2": "1100.2500000000000000",
                                    "3": "1148.2500000000000000",
                                    "4": "1615.5833333333333333",
                                    "5": "467.3333333333333333",
                                    "6": "40.7000 %"
                                },
                                {
                                    "0": "Friday   ",
                                    "1": "02:00 pm",
                                    "2": "1086.6904761904761905",
                                    "3": "1167.6666666666666667",
                                    "4": "1599.8333333333333333",
                                    "5": "432.1666666666666666",
                                    "6": "37.0100 %"
                                },
                                {
                                    "0": "Friday   ",
                                    "1": "03:00 pm",
                                    "2": "1239.0595238095238095",
                                    "3": "1416.6666666666666667",
                                    "4": "1965.4166666666666667",
                                    "5": "548.7500000000000000",
                                    "6": "38.7400 %"
                                },
                                {
                                    "0": "Friday   ",
                                    "1": "04:00 pm",
                                    "2": "1826.0357142857142857",
                                    "3": "2206.6666666666666667",
                                    "4": "2871.4166666666666667",
                                    "5": "664.7500000000000000",
                                    "6": "30.1200 %"
                                },
                                {
                                    "0": "Friday   ",
                                    "1": "05:00 pm",
                                    "2": "2402.3690476190476190",
                                    "3": "2554.0000000000000000",
                                    "4": "3528.3333333333333333",
                                    "5": "974.3333333333333333",
                                    "6": "38.1500 %"
                                },
                                {
                                    "0": "Friday   ",
                                    "1": "06:00 pm",
                                    "2": "1759.2857142857142857",
                                    "3": "1745.7500000000000000",
                                    "4": "2543.1666666666666667",
                                    "5": "797.4166666666666667",
                                    "6": "45.6800 %"
                                },
                                {
                                    "0": "Friday   ",
                                    "1": "07:00 pm",
                                    "2": "1218.2857142857142857",
                                    "3": "1203.0000000000000000",
                                    "4": "1773.0833333333333333",
                                    "5": "570.0833333333333333",
                                    "6": "47.3900 %"
                                },
                                {
                                    "0": "Friday   ",
                                    "1": "08:00 pm",
                                    "2": "843.7738095238095238",
                                    "3": "820.1666666666666667",
                                    "4": "1220.6666666666666667",
                                    "5": "400.5000000000000000",
                                    "6": "48.8300 %"
                                },
                                {
                                    "0": "Friday   ",
                                    "1": "09:00 pm",
                                    "2": "623.1547619047619048",
                                    "3": "647.8333333333333333",
                                    "4": "911.0000000000000000",
                                    "5": "263.1666666666666667",
                                    "6": "40.6200 %"
                                },
                                {
                                    "0": "Friday   ",
                                    "1": "10:00 pm",
                                    "2": "460.1190476190476191",
                                    "3": "551.4166666666666667",
                                    "4": "777.2500000000000000",
                                    "5": "225.8333333333333333",
                                    "6": "40.9600 %"
                                },
                                {
                                    "0": "Friday   ",
                                    "1": "11:00 pm",
                                    "2": "293.4166666666666667",
                                    "3": "399.4166666666666667",
                                    "4": "539.9166666666666667",
                                    "5": "140.5000000000000000",
                                    "6": "35.1800 %"
                                },
                                {
                                    "0": "Saturday ",
                                    "1": "12:00 am",
                                    "2": "171.2023809523809524",
                                    "3": "269.1666666666666667",
                                    "4": "389.0000000000000000",
                                    "5": "119.8333333333333333",
                                    "6": "44.5200 %"
                                },
                                {
                                    "0": "Saturday ",
                                    "1": "01:00 am",
                                    "2": "111.1071428571428572",
                                    "3": "209.6666666666666667",
                                    "4": "312.5833333333333333",
                                    "5": "102.9166666666666666",
                                    "6": "49.0900 %"
                                },
                                {
                                    "0": "Saturday ",
                                    "1": "02:00 am",
                                    "2": "71.0476190476190476",
                                    "3": "145.0833333333333333",
                                    "4": "196.4166666666666667",
                                    "5": "51.3333333333333334",
                                    "6": "35.3800 %"
                                },
                                {
                                    "0": "Saturday ",
                                    "1": "03:00 am",
                                    "2": "26.3928571428571428",
                                    "3": "48.8333333333333333",
                                    "4": "66.4166666666666667",
                                    "5": "17.5833333333333334",
                                    "6": "36.0100 %"
                                },
                                {
                                    "0": "Saturday ",
                                    "1": "04:00 am",
                                    "2": "27.8452380952380952",
                                    "3": "30.5833333333333333",
                                    "4": "38.1666666666666667",
                                    "5": "7.5833333333333334",
                                    "6": "24.8000 %"
                                },
                                {
                                    "0": "Saturday ",
                                    "1": "05:00 am",
                                    "2": "125.8452380952380952",
                                    "3": "40.0833333333333333",
                                    "4": "63.5000000000000000",
                                    "5": "23.4166666666666667",
                                    "6": "58.4200 %"
                                },
                                {
                                    "0": "Saturday ",
                                    "1": "06:00 am",
                                    "2": "417.2142857142857143",
                                    "3": "94.5833333333333333",
                                    "4": "135.0000000000000000",
                                    "5": "40.4166666666666667",
                                    "6": "42.7300 %"
                                },
                                {
                                    "0": "Saturday ",
                                    "1": "07:00 am",
                                    "2": "1152.2857142857142857",
                                    "3": "240.9166666666666667",
                                    "4": "325.3333333333333333",
                                    "5": "84.4166666666666666",
                                    "6": "35.0400 %"
                                },
                                {
                                    "0": "Saturday ",
                                    "1": "08:00 am",
                                    "2": "1997.2380952380952381",
                                    "3": "475.8333333333333333",
                                    "4": "670.7500000000000000",
                                    "5": "194.9166666666666667",
                                    "6": "40.9600 %"
                                },
                                {
                                    "0": "Saturday ",
                                    "1": "09:00 am",
                                    "2": "1174.0119047619047619",
                                    "3": "738.4166666666666667",
                                    "4": "1079.5833333333333333",
                                    "5": "341.1666666666666666",
                                    "6": "46.2000 %"
                                },
                                {
                                    "0": "Saturday ",
                                    "1": "10:00 am",
                                    "2": "859.6428571428571429",
                                    "3": "1017.3333333333333333",
                                    "4": "1470.5000000000000000",
                                    "5": "453.1666666666666667",
                                    "6": "44.5400 %"
                                },
                                {
                                    "0": "Saturday ",
                                    "1": "11:00 am",
                                    "2": "948.7738095238095238",
                                    "3": "1213.9166666666666667",
                                    "4": "1871.1666666666666667",
                                    "5": "657.2500000000000000",
                                    "6": "54.1400 %"
                                },
                                {
                                    "0": "Saturday ",
                                    "1": "12:00 pm",
                                    "2": "1110.2619047619047619",
                                    "3": "1363.9166666666666667",
                                    "4": "2174.3333333333333333",
                                    "5": "810.4166666666666666",
                                    "6": "59.4200 %"
                                },
                                {
                                    "0": "Saturday ",
                                    "1": "01:00 pm",
                                    "2": "1100.2500000000000000",
                                    "3": "1446.7500000000000000",
                                    "4": "2236.6666666666666667",
                                    "5": "789.9166666666666667",
                                    "6": "54.6000 %"
                                },
                                {
                                    "0": "Saturday ",
                                    "1": "02:00 pm",
                                    "2": "1086.6904761904761905",
                                    "3": "1445.3333333333333333",
                                    "4": "2261.0000000000000000",
                                    "5": "815.6666666666666667",
                                    "6": "56.4300 %"
                                },
                                {
                                    "0": "Saturday ",
                                    "1": "03:00 pm",
                                    "2": "1239.0595238095238095",
                                    "3": "1445.0833333333333333",
                                    "4": "2285.6666666666666667",
                                    "5": "840.5833333333333334",
                                    "6": "58.1700 %"
                                },
                                {
                                    "0": "Saturday ",
                                    "1": "04:00 pm",
                                    "2": "1826.0357142857142857",
                                    "3": "1434.5000000000000000",
                                    "4": "2203.9166666666666667",
                                    "5": "769.4166666666666667",
                                    "6": "53.6400 %"
                                },
                                {
                                    "0": "Saturday ",
                                    "1": "05:00 pm",
                                    "2": "2402.3690476190476190",
                                    "3": "1343.0000000000000000",
                                    "4": "2083.0833333333333333",
                                    "5": "740.0833333333333333",
                                    "6": "55.1100 %"
                                },
                                {
                                    "0": "Saturday ",
                                    "1": "06:00 pm",
                                    "2": "1759.2857142857142857",
                                    "3": "1205.9166666666666667",
                                    "4": "1880.6666666666666667",
                                    "5": "674.7500000000000000",
                                    "6": "55.9500 %"
                                },
                                {
                                    "0": "Saturday ",
                                    "1": "07:00 pm",
                                    "2": "1218.2857142857142857",
                                    "3": "983.0833333333333333",
                                    "4": "1514.5833333333333333",
                                    "5": "531.5000000000000000",
                                    "6": "54.0600 %"
                                },
                                {
                                    "0": "Saturday ",
                                    "1": "08:00 pm",
                                    "2": "843.7738095238095238",
                                    "3": "721.4166666666666667",
                                    "4": "1096.5833333333333333",
                                    "5": "375.1666666666666666",
                                    "6": "52.0000 %"
                                },
                                {
                                    "0": "Saturday ",
                                    "1": "09:00 pm",
                                    "2": "623.1547619047619048",
                                    "3": "574.0000000000000000",
                                    "4": "908.4166666666666667",
                                    "5": "334.4166666666666667",
                                    "6": "58.2600 %"
                                },
                                {
                                    "0": "Saturday ",
                                    "1": "10:00 pm",
                                    "2": "460.1190476190476191",
                                    "3": "493.1666666666666667",
                                    "4": "754.9166666666666667",
                                    "5": "261.7500000000000000",
                                    "6": "53.0800 %"
                                },
                                {
                                    "0": "Saturday ",
                                    "1": "11:00 pm",
                                    "2": "293.4166666666666667",
                                    "3": "364.7500000000000000",
                                    "4": "567.0833333333333333",
                                    "5": "202.3333333333333333",
                                    "6": "55.4700 %"
                                },
                                {
                                    "0": "Sunday   ",
                                    "1": "12:00 am",
                                    "2": "171.2023809523809524",
                                    "3": "274.0000000000000000",
                                    "4": "434.0000000000000000",
                                    "5": "160.0000000000000000",
                                    "6": "58.3900 %"
                                },
                                {
                                    "0": "Sunday   ",
                                    "1": "01:00 am",
                                    "2": "111.1071428571428572",
                                    "3": "232.0833333333333333",
                                    "4": "395.0833333333333333",
                                    "5": "163.0000000000000000",
                                    "6": "70.2300 %"
                                },
                                {
                                    "0": "Sunday   ",
                                    "1": "02:00 am",
                                    "2": "71.0476190476190476",
                                    "3": "161.9166666666666667",
                                    "4": "246.2500000000000000",
                                    "5": "84.3333333333333333",
                                    "6": "52.0800 %"
                                },
                                {
                                    "0": "Sunday   ",
                                    "1": "03:00 am",
                                    "2": "26.3928571428571428",
                                    "3": "47.5833333333333333",
                                    "4": "66.0833333333333333",
                                    "5": "18.5000000000000000",
                                    "6": "38.8800 %"
                                },
                                {
                                    "0": "Sunday   ",
                                    "1": "04:00 am",
                                    "2": "27.8452380952380952",
                                    "3": "22.3333333333333333",
                                    "4": "38.6666666666666667",
                                    "5": "16.3333333333333334",
                                    "6": "73.1300 %"
                                },
                                {
                                    "0": "Sunday   ",
                                    "1": "05:00 am",
                                    "2": "125.8452380952380952",
                                    "3": "35.0833333333333333",
                                    "4": "61.3333333333333333",
                                    "5": "26.2500000000000000",
                                    "6": "74.8200 %"
                                },
                                {
                                    "0": "Sunday   ",
                                    "1": "06:00 am",
                                    "2": "417.2142857142857143",
                                    "3": "75.9166666666666667",
                                    "4": "127.8333333333333333",
                                    "5": "51.9166666666666666",
                                    "6": "68.3900 %"
                                },
                                {
                                    "0": "Sunday   ",
                                    "1": "07:00 am",
                                    "2": "1152.2857142857142857",
                                    "3": "161.2500000000000000",
                                    "4": "252.3333333333333333",
                                    "5": "91.0833333333333333",
                                    "6": "56.4900 %"
                                },
                                {
                                    "0": "Sunday   ",
                                    "1": "08:00 am",
                                    "2": "1997.2380952380952381",
                                    "3": "375.0000000000000000",
                                    "4": "594.0833333333333333",
                                    "5": "219.0833333333333333",
                                    "6": "58.4200 %"
                                },
                                {
                                    "0": "Sunday   ",
                                    "1": "09:00 am",
                                    "2": "1174.0119047619047619",
                                    "3": "635.0000000000000000",
                                    "4": "1002.9166666666666667",
                                    "5": "367.9166666666666667",
                                    "6": "57.9400 %"
                                },
                                {
                                    "0": "Sunday   ",
                                    "1": "10:00 am",
                                    "2": "859.6428571428571429",
                                    "3": "924.4166666666666667",
                                    "4": "1402.5000000000000000",
                                    "5": "478.0833333333333333",
                                    "6": "51.7200 %"
                                },
                                {
                                    "0": "Sunday   ",
                                    "1": "11:00 am",
                                    "2": "948.7738095238095238",
                                    "3": "1116.7500000000000000",
                                    "4": "1678.3333333333333333",
                                    "5": "561.5833333333333333",
                                    "6": "50.2900 %"
                                },
                                {
                                    "0": "Sunday   ",
                                    "1": "12:00 pm",
                                    "2": "1110.2619047619047619",
                                    "3": "1303.8333333333333333",
                                    "4": "1901.3333333333333333",
                                    "5": "597.5000000000000000",
                                    "6": "45.8300 %"
                                },
                                {
                                    "0": "Sunday   ",
                                    "1": "01:00 pm",
                                    "2": "1100.2500000000000000",
                                    "3": "1396.7500000000000000",
                                    "4": "2029.6666666666666667",
                                    "5": "632.9166666666666667",
                                    "6": "45.3100 %"
                                },
                                {
                                    "0": "Sunday   ",
                                    "1": "02:00 pm",
                                    "2": "1086.6904761904761905",
                                    "3": "1394.6666666666666667",
                                    "4": "1993.3333333333333333",
                                    "5": "598.6666666666666666",
                                    "6": "42.9300 %"
                                },
                                {
                                    "0": "Sunday   ",
                                    "1": "03:00 pm",
                                    "2": "1239.0595238095238095",
                                    "3": "1404.0000000000000000",
                                    "4": "1973.5000000000000000",
                                    "5": "569.5000000000000000",
                                    "6": "40.5600 %"
                                },
                                {
                                    "0": "Sunday   ",
                                    "1": "04:00 pm",
                                    "2": "1826.0357142857142857",
                                    "3": "1368.8333333333333333",
                                    "4": "2006.0833333333333333",
                                    "5": "637.2500000000000000",
                                    "6": "46.5500 %"
                                },
                                {
                                    "0": "Sunday   ",
                                    "1": "05:00 pm",
                                    "2": "2402.3690476190476190",
                                    "3": "1293.9166666666666667",
                                    "4": "1905.0000000000000000",
                                    "5": "611.0833333333333333",
                                    "6": "47.2300 %"
                                },
                                {
                                    "0": "Sunday   ",
                                    "1": "06:00 pm",
                                    "2": "1759.2857142857142857",
                                    "3": "1148.3333333333333333",
                                    "4": "1735.0833333333333333",
                                    "5": "586.7500000000000000",
                                    "6": "51.1000 %"
                                },
                                {
                                    "0": "Sunday   ",
                                    "1": "07:00 pm",
                                    "2": "1218.2857142857142857",
                                    "3": "891.5000000000000000",
                                    "4": "1314.3333333333333333",
                                    "5": "422.8333333333333333",
                                    "6": "47.4300 %"
                                },
                                {
                                    "0": "Sunday   ",
                                    "1": "08:00 pm",
                                    "2": "843.7738095238095238",
                                    "3": "625.5000000000000000",
                                    "4": "1000.7500000000000000",
                                    "5": "375.2500000000000000",
                                    "6": "59.9900 %"
                                },
                                {
                                    "0": "Sunday   ",
                                    "1": "09:00 pm",
                                    "2": "623.1547619047619048",
                                    "3": "458.1666666666666667",
                                    "4": "705.0000000000000000",
                                    "5": "246.8333333333333333",
                                    "6": "53.8700 %"
                                },
                                {
                                    "0": "Sunday   ",
                                    "1": "10:00 pm",
                                    "2": "460.1190476190476191",
                                    "3": "336.9166666666666667",
                                    "4": "547.0833333333333333",
                                    "5": "210.1666666666666666",
                                    "6": "62.3800 %"
                                },
                                {
                                    "0": "Sunday   ",
                                    "1": "11:00 pm",
                                    "2": "293.4166666666666667",
                                    "3": "237.5000000000000000",
                                    "4": "356.3333333333333333",
                                    "5": "118.8333333333333333",
                                    "6": "50.0400 %"
                                }
                            ]
                        },
                        "text/html": [
                            "<table>",
                            "<tr><th>day</th><th>hour</th><th>calc_riders_2018</th><th>riders_2018</th><th>riders_2019</th><th>riders_change</th><th>percent_change</th></tr>",
                            "<tr><td>Monday   </td><td>12:00 am</td><td>171.2023809523809524</td><td>131.1666666666666667</td><td>178.2500000000000000</td><td>47.0833333333333333</td><td>35.9000 %</td></tr>",
                            "<tr><td>Monday   </td><td>01:00 am</td><td>111.1071428571428572</td><td>73.5000000000000000</td><td>101.9166666666666667</td><td>28.4166666666666667</td><td>38.6600 %</td></tr>",
                            "<tr><td>Monday   </td><td>02:00 am</td><td>71.0476190476190476</td><td>37.1666666666666667</td><td>58.9166666666666667</td><td>21.7500000000000000</td><td>58.5200 %</td></tr>",
                            "<tr><td>Monday   </td><td>03:00 am</td><td>26.3928571428571428</td><td>18.6666666666666667</td><td>24.0833333333333333</td><td>5.4166666666666666</td><td>29.0200 %</td></tr>",
                            "<tr><td>Monday   </td><td>04:00 am</td><td>27.8452380952380952</td><td>28.9166666666666667</td><td>46.0000000000000000</td><td>17.0833333333333333</td><td>59.0800 %</td></tr>",
                            "<tr><td>Monday   </td><td>05:00 am</td><td>125.8452380952380952</td><td>155.0000000000000000</td><td>215.0000000000000000</td><td>60.0000000000000000</td><td>38.7100 %</td></tr>",
                            "<tr><td>Monday   </td><td>06:00 am</td><td>417.2142857142857143</td><td>501.5000000000000000</td><td>702.5833333333333333</td><td>201.0833333333333333</td><td>40.1000 %</td></tr>",
                            "<tr><td>Monday   </td><td>07:00 am</td><td>1152.2857142857142857</td><td>1412.2500000000000000</td><td>1974.4166666666666667</td><td>562.1666666666666667</td><td>39.8100 %</td></tr>",
                            "<tr><td>Monday   </td><td>08:00 am</td><td>1997.2380952380952381</td><td>2425.5000000000000000</td><td>3402.9166666666666667</td><td>977.4166666666666667</td><td>40.3000 %</td></tr>",
                            "<tr><td>Monday   </td><td>09:00 am</td><td>1174.0119047619047619</td><td>1239.3333333333333333</td><td>1847.2500000000000000</td><td>607.9166666666666667</td><td>49.0500 %</td></tr>",
                            "<tr><td>Monday   </td><td>10:00 am</td><td>859.6428571428571429</td><td>759.6666666666666667</td><td>1151.8333333333333333</td><td>392.1666666666666666</td><td>51.6200 %</td></tr>",
                            "<tr><td>Monday   </td><td>11:00 am</td><td>948.7738095238095238</td><td>802.9166666666666667</td><td>1219.1666666666666667</td><td>416.2500000000000000</td><td>51.8400 %</td></tr>",
                            "<tr><td>Monday   </td><td>12:00 pm</td><td>1110.2619047619047619</td><td>958.1666666666666667</td><td>1415.5000000000000000</td><td>457.3333333333333333</td><td>47.7300 %</td></tr>",
                            "<tr><td>Monday   </td><td>01:00 pm</td><td>1100.2500000000000000</td><td>915.3333333333333333</td><td>1335.9166666666666667</td><td>420.5833333333333334</td><td>45.9500 %</td></tr>",
                            "<tr><td>Monday   </td><td>02:00 pm</td><td>1086.6904761904761905</td><td>897.8333333333333333</td><td>1367.3333333333333333</td><td>469.5000000000000000</td><td>52.2900 %</td></tr>",
                            "<tr><td>Monday   </td><td>03:00 pm</td><td>1239.0595238095238095</td><td>1117.1666666666666667</td><td>1616.3333333333333333</td><td>499.1666666666666666</td><td>44.6800 %</td></tr>",
                            "<tr><td>Monday   </td><td>04:00 pm</td><td>1826.0357142857142857</td><td>1881.1666666666666667</td><td>2700.7500000000000000</td><td>819.5833333333333333</td><td>43.5700 %</td></tr>",
                            "<tr><td>Monday   </td><td>05:00 pm</td><td>2402.3690476190476190</td><td>2794.0833333333333333</td><td>3992.8333333333333333</td><td>1198.7500000000000000</td><td>42.9000 %</td></tr>",
                            "<tr><td>Monday   </td><td>06:00 pm</td><td>1759.2857142857142857</td><td>1931.5000000000000000</td><td>2858.8333333333333333</td><td>927.3333333333333333</td><td>48.0100 %</td></tr>",
                            "<tr><td>Monday   </td><td>07:00 pm</td><td>1218.2857142857142857</td><td>1274.0833333333333333</td><td>1898.6666666666666667</td><td>624.5833333333333334</td><td>49.0200 %</td></tr>",
                            "<tr><td>Monday   </td><td>08:00 pm</td><td>843.7738095238095238</td><td>839.8333333333333333</td><td>1256.7500000000000000</td><td>416.9166666666666667</td><td>49.6400 %</td></tr>",
                            "<tr><td>Monday   </td><td>09:00 pm</td><td>623.1547619047619048</td><td>571.1666666666666667</td><td>848.3333333333333333</td><td>277.1666666666666666</td><td>48.5300 %</td></tr>",
                            "<tr><td>Monday   </td><td>10:00 pm</td><td>460.1190476190476191</td><td>370.0000000000000000</td><td>536.0833333333333333</td><td>166.0833333333333333</td><td>44.8900 %</td></tr>",
                            "<tr><td>Monday   </td><td>11:00 pm</td><td>293.4166666666666667</td><td>200.0833333333333333</td><td>282.5833333333333333</td><td>82.5000000000000000</td><td>41.2300 %</td></tr>",
                            "<tr><td>Tuesday  </td><td>12:00 am</td><td>171.2023809523809524</td><td>97.9166666666666667</td><td>136.5000000000000000</td><td>38.5833333333333333</td><td>39.4000 %</td></tr>",
                            "<tr><td>Tuesday  </td><td>01:00 am</td><td>111.1071428571428572</td><td>48.7500000000000000</td><td>70.7500000000000000</td><td>22.0000000000000000</td><td>45.1300 %</td></tr>",
                            "<tr><td>Tuesday  </td><td>02:00 am</td><td>71.0476190476190476</td><td>29.5000000000000000</td><td>45.3333333333333333</td><td>15.8333333333333333</td><td>53.6700 %</td></tr>",
                            "<tr><td>Tuesday  </td><td>03:00 am</td><td>26.3928571428571428</td><td>12.7500000000000000</td><td>25.0833333333333333</td><td>12.3333333333333333</td><td>96.7300 %</td></tr>",
                            "<tr><td>Tuesday  </td><td>04:00 am</td><td>27.8452380952380952</td><td>27.0000000000000000</td><td>41.5000000000000000</td><td>14.5000000000000000</td><td>53.7000 %</td></tr>",
                            "<tr><td>Tuesday  </td><td>05:00 am</td><td>125.8452380952380952</td><td>174.1666666666666667</td><td>245.9166666666666667</td><td>71.7500000000000000</td><td>41.2000 %</td></tr>",
                            "<tr><td>Tuesday  </td><td>06:00 am</td><td>417.2142857142857143</td><td>588.4166666666666667</td><td>779.5833333333333333</td><td>191.1666666666666666</td><td>32.4900 %</td></tr>",
                            "<tr><td>Tuesday  </td><td>07:00 am</td><td>1152.2857142857142857</td><td>1633.3333333333333333</td><td>2143.8333333333333333</td><td>510.5000000000000000</td><td>31.2600 %</td></tr>",
                            "<tr><td>Tuesday  </td><td>08:00 am</td><td>1997.2380952380952381</td><td>2740.8333333333333333</td><td>3700.6666666666666667</td><td>959.8333333333333334</td><td>35.0200 %</td></tr>",
                            "<tr><td>Tuesday  </td><td>09:00 am</td><td>1174.0119047619047619</td><td>1363.5833333333333333</td><td>1927.6666666666666667</td><td>564.0833333333333334</td><td>41.3700 %</td></tr>",
                            "<tr><td>Tuesday  </td><td>10:00 am</td><td>859.6428571428571429</td><td>755.2500000000000000</td><td>1089.5000000000000000</td><td>334.2500000000000000</td><td>44.2600 %</td></tr>",
                            "<tr><td>Tuesday  </td><td>11:00 am</td><td>948.7738095238095238</td><td>779.9166666666666667</td><td>1125.3333333333333333</td><td>345.4166666666666666</td><td>44.2900 %</td></tr>",
                            "<tr><td>Tuesday  </td><td>12:00 pm</td><td>1110.2619047619047619</td><td>907.4166666666666667</td><td>1305.5833333333333333</td><td>398.1666666666666666</td><td>43.8800 %</td></tr>",
                            "<tr><td>Tuesday  </td><td>01:00 pm</td><td>1100.2500000000000000</td><td>845.5833333333333333</td><td>1240.7500000000000000</td><td>395.1666666666666667</td><td>46.7300 %</td></tr>",
                            "<tr><td>Tuesday  </td><td>02:00 pm</td><td>1086.6904761904761905</td><td>818.0000000000000000</td><td>1233.4166666666666667</td><td>415.4166666666666667</td><td>50.7800 %</td></tr>",
                            "<tr><td>Tuesday  </td><td>03:00 pm</td><td>1239.0595238095238095</td><td>1001.3333333333333333</td><td>1539.9166666666666667</td><td>538.5833333333333334</td><td>53.7900 %</td></tr>",
                            "<tr><td>Tuesday  </td><td>04:00 pm</td><td>1826.0357142857142857</td><td>1855.8333333333333333</td><td>2751.9166666666666667</td><td>896.0833333333333334</td><td>48.2800 %</td></tr>",
                            "<tr><td>Tuesday  </td><td>05:00 pm</td><td>2402.3690476190476190</td><td>2819.8333333333333333</td><td>4253.1666666666666667</td><td>1433.3333333333333334</td><td>50.8300 %</td></tr>",
                            "<tr><td>Tuesday  </td><td>06:00 pm</td><td>1759.2857142857142857</td><td>2025.1666666666666667</td><td>3076.1666666666666667</td><td>1051.0000000000000000</td><td>51.9000 %</td></tr>",
                            "<tr><td>Tuesday  </td><td>07:00 pm</td><td>1218.2857142857142857</td><td>1300.7500000000000000</td><td>2008.0833333333333333</td><td>707.3333333333333333</td><td>54.3800 %</td></tr>",
                            "<tr><td>Tuesday  </td><td>08:00 pm</td><td>843.7738095238095238</td><td>913.9166666666666667</td><td>1331.2500000000000000</td><td>417.3333333333333333</td><td>45.6600 %</td></tr>",
                            "<tr><td>Tuesday  </td><td>09:00 pm</td><td>623.1547619047619048</td><td>666.8333333333333333</td><td>968.9166666666666667</td><td>302.0833333333333334</td><td>45.3000 %</td></tr>",
                            "<tr><td>Tuesday  </td><td>10:00 pm</td><td>460.1190476190476191</td><td>454.4166666666666667</td><td>645.0000000000000000</td><td>190.5833333333333333</td><td>41.9400 %</td></tr>",
                            "<tr><td>Tuesday  </td><td>11:00 pm</td><td>293.4166666666666667</td><td>236.2500000000000000</td><td>352.0833333333333333</td><td>115.8333333333333333</td><td>49.0300 %</td></tr>",
                            "<tr><td>Wednesday</td><td>12:00 am</td><td>171.2023809523809524</td><td>120.8333333333333333</td><td>154.1666666666666667</td><td>33.3333333333333334</td><td>27.5900 %</td></tr>",
                            "<tr><td>Wednesday</td><td>01:00 am</td><td>111.1071428571428572</td><td>61.4166666666666667</td><td>83.8333333333333333</td><td>22.4166666666666666</td><td>36.5000 %</td></tr>",
                            "<tr><td>Wednesday</td><td>02:00 am</td><td>71.0476190476190476</td><td>32.1666666666666667</td><td>49.5833333333333333</td><td>17.4166666666666666</td><td>54.1500 %</td></tr>",
                            "<tr><td>Wednesday</td><td>03:00 am</td><td>26.3928571428571428</td><td>17.2500000000000000</td><td>19.5833333333333333</td><td>2.3333333333333333</td><td>13.5300 %</td></tr>",
                            "<tr><td>Wednesday</td><td>04:00 am</td><td>27.8452380952380952</td><td>30.7500000000000000</td><td>40.1666666666666667</td><td>9.4166666666666667</td><td>30.6200 %</td></tr>",
                            "<tr><td>Wednesday</td><td>05:00 am</td><td>125.8452380952380952</td><td>178.6666666666666667</td><td>254.5000000000000000</td><td>75.8333333333333333</td><td>42.4400 %</td></tr>",
                            "<tr><td>Wednesday</td><td>06:00 am</td><td>417.2142857142857143</td><td>595.5000000000000000</td><td>820.9166666666666667</td><td>225.4166666666666667</td><td>37.8500 %</td></tr>",
                            "<tr><td>Wednesday</td><td>07:00 am</td><td>1152.2857142857142857</td><td>1669.6666666666666667</td><td>2265.8333333333333333</td><td>596.1666666666666666</td><td>35.7100 %</td></tr>",
                            "<tr><td>Wednesday</td><td>08:00 am</td><td>1997.2380952380952381</td><td>2763.5000000000000000</td><td>3853.7500000000000000</td><td>1090.2500000000000000</td><td>39.4500 %</td></tr>",
                            "<tr><td>Wednesday</td><td>09:00 am</td><td>1174.0119047619047619</td><td>1433.0833333333333333</td><td>2051.5000000000000000</td><td>618.4166666666666667</td><td>43.1500 %</td></tr>",
                            "<tr><td>Wednesday</td><td>10:00 am</td><td>859.6428571428571429</td><td>849.0833333333333333</td><td>1153.5833333333333333</td><td>304.5000000000000000</td><td>35.8600 %</td></tr>",
                            "<tr><td>Wednesday</td><td>11:00 am</td><td>948.7738095238095238</td><td>881.8333333333333333</td><td>1208.8333333333333333</td><td>327.0000000000000000</td><td>37.0800 %</td></tr>",
                            "<tr><td>Wednesday</td><td>12:00 pm</td><td>1110.2619047619047619</td><td>1044.1666666666666667</td><td>1387.5833333333333333</td><td>343.4166666666666666</td><td>32.8900 %</td></tr>",
                            "<tr><td>Wednesday</td><td>01:00 pm</td><td>1100.2500000000000000</td><td>976.9166666666666667</td><td>1322.3333333333333333</td><td>345.4166666666666666</td><td>35.3600 %</td></tr>",
                            "<tr><td>Wednesday</td><td>02:00 pm</td><td>1086.6904761904761905</td><td>924.7500000000000000</td><td>1314.8333333333333333</td><td>390.0833333333333333</td><td>42.1800 %</td></tr>",
                            "<tr><td>Wednesday</td><td>03:00 pm</td><td>1239.0595238095238095</td><td>1133.6666666666666667</td><td>1620.0833333333333333</td><td>486.4166666666666666</td><td>42.9100 %</td></tr>",
                            "<tr><td>Wednesday</td><td>04:00 pm</td><td>1826.0357142857142857</td><td>2046.1666666666666667</td><td>2678.5833333333333333</td><td>632.4166666666666666</td><td>30.9100 %</td></tr>",
                            "<tr><td>Wednesday</td><td>05:00 pm</td><td>2402.3690476190476190</td><td>3102.4166666666666667</td><td>3994.8333333333333333</td><td>892.4166666666666666</td><td>28.7700 %</td></tr>",
                            "<tr><td>Wednesday</td><td>06:00 pm</td><td>1759.2857142857142857</td><td>2174.6666666666666667</td><td>2900.0833333333333333</td><td>725.4166666666666666</td><td>33.3600 %</td></tr>",
                            "<tr><td>Wednesday</td><td>07:00 pm</td><td>1218.2857142857142857</td><td>1487.5000000000000000</td><td>1998.5000000000000000</td><td>511.0000000000000000</td><td>34.3500 %</td></tr>",
                            "<tr><td>Wednesday</td><td>08:00 pm</td><td>843.7738095238095238</td><td>988.5000000000000000</td><td>1331.8333333333333333</td><td>343.3333333333333333</td><td>34.7300 %</td></tr>",
                            "<tr><td>Wednesday</td><td>09:00 pm</td><td>623.1547619047619048</td><td>734.0833333333333333</td><td>953.1666666666666667</td><td>219.0833333333333334</td><td>29.8400 %</td></tr>",
                            "<tr><td>Wednesday</td><td>10:00 pm</td><td>460.1190476190476191</td><td>481.8333333333333333</td><td>641.3333333333333333</td><td>159.5000000000000000</td><td>33.1000 %</td></tr>",
                            "<tr><td>Wednesday</td><td>11:00 pm</td><td>293.4166666666666667</td><td>312.0000000000000000</td><td>352.3333333333333333</td><td>40.3333333333333333</td><td>12.9300 %</td></tr>",
                            "<tr><td>Thursday </td><td>12:00 am</td><td>171.2023809523809524</td><td>134.4166666666666667</td><td>167.1666666666666667</td><td>32.7500000000000000</td><td>24.3600 %</td></tr>",
                            "<tr><td>Thursday </td><td>01:00 am</td><td>111.1071428571428572</td><td>64.9166666666666667</td><td>90.4166666666666667</td><td>25.5000000000000000</td><td>39.2800 %</td></tr>",
                            "<tr><td>Thursday </td><td>02:00 am</td><td>71.0476190476190476</td><td>38.1666666666666667</td><td>51.4166666666666667</td><td>13.2500000000000000</td><td>34.7200 %</td></tr>",
                            "<tr><td>Thursday </td><td>03:00 am</td><td>26.3928571428571428</td><td>17.3333333333333333</td><td>22.5833333333333333</td><td>5.2500000000000000</td><td>30.2900 %</td></tr>",
                            "<tr><td>Thursday </td><td>04:00 am</td><td>27.8452380952380952</td><td>28.0833333333333333</td><td>37.8333333333333333</td><td>9.7500000000000000</td><td>34.7200 %</td></tr>",
                            "<tr><td>Thursday </td><td>05:00 am</td><td>125.8452380952380952</td><td>155.5000000000000000</td><td>224.1666666666666667</td><td>68.6666666666666667</td><td>44.1600 %</td></tr>",
                            "<tr><td>Thursday </td><td>06:00 am</td><td>417.2142857142857143</td><td>568.4166666666666667</td><td>730.7500000000000000</td><td>162.3333333333333333</td><td>28.5600 %</td></tr>",
                            "<tr><td>Thursday </td><td>07:00 am</td><td>1152.2857142857142857</td><td>1581.8333333333333333</td><td>2051.0833333333333333</td><td>469.2500000000000000</td><td>29.6600 %</td></tr>",
                            "<tr><td>Thursday </td><td>08:00 am</td><td>1997.2380952380952381</td><td>2760.8333333333333333</td><td>3520.9166666666666667</td><td>760.0833333333333334</td><td>27.5300 %</td></tr>",
                            "<tr><td>Thursday </td><td>09:00 am</td><td>1174.0119047619047619</td><td>1437.6666666666666667</td><td>1942.4166666666666667</td><td>504.7500000000000000</td><td>35.1100 %</td></tr>",
                            "<tr><td>Thursday </td><td>10:00 am</td><td>859.6428571428571429</td><td>825.2500000000000000</td><td>1119.5833333333333333</td><td>294.3333333333333333</td><td>35.6700 %</td></tr>",
                            "<tr><td>Thursday </td><td>11:00 am</td><td>948.7738095238095238</td><td>892.5833333333333333</td><td>1177.4166666666666667</td><td>284.8333333333333334</td><td>31.9100 %</td></tr>",
                            "<tr><td>Thursday </td><td>12:00 pm</td><td>1110.2619047619047619</td><td>1052.8333333333333333</td><td>1350.5000000000000000</td><td>297.6666666666666667</td><td>28.2700 %</td></tr>",
                            "<tr><td>Thursday </td><td>01:00 pm</td><td>1100.2500000000000000</td><td>972.1666666666666667</td><td>1306.6666666666666667</td><td>334.5000000000000000</td><td>34.4100 %</td></tr>",
                            "<tr><td>Thursday </td><td>02:00 pm</td><td>1086.6904761904761905</td><td>958.5833333333333333</td><td>1325.7500000000000000</td><td>367.1666666666666667</td><td>38.3000 %</td></tr>",
                            "<tr><td>Thursday </td><td>03:00 pm</td><td>1239.0595238095238095</td><td>1155.5000000000000000</td><td>1645.5000000000000000</td><td>490.0000000000000000</td><td>42.4100 %</td></tr>",
                            "<tr><td>Thursday </td><td>04:00 pm</td><td>1826.0357142857142857</td><td>1989.0833333333333333</td><td>2817.8333333333333333</td><td>828.7500000000000000</td><td>41.6600 %</td></tr>",
                            "<tr><td>Thursday </td><td>05:00 pm</td><td>2402.3690476190476190</td><td>2909.3333333333333333</td><td>3988.4166666666666667</td><td>1079.0833333333333334</td><td>37.0900 %</td></tr>",
                            "<tr><td>Thursday </td><td>06:00 pm</td><td>1759.2857142857142857</td><td>2083.6666666666666667</td><td>2915.9166666666666667</td><td>832.2500000000000000</td><td>39.9400 %</td></tr>",
                            "<tr><td>Thursday </td><td>07:00 pm</td><td>1218.2857142857142857</td><td>1388.0833333333333333</td><td>2012.6666666666666667</td><td>624.5833333333333334</td><td>45.0000 %</td></tr>",
                            "<tr><td>Thursday </td><td>08:00 pm</td><td>843.7738095238095238</td><td>997.0833333333333333</td><td>1409.3333333333333333</td><td>412.2500000000000000</td><td>41.3500 %</td></tr>",
                            "<tr><td>Thursday </td><td>09:00 pm</td><td>623.1547619047619048</td><td>710.0000000000000000</td><td>1062.1666666666666667</td><td>352.1666666666666667</td><td>49.6000 %</td></tr>",
                            "<tr><td>Thursday </td><td>10:00 pm</td><td>460.1190476190476191</td><td>533.0833333333333333</td><td>743.6666666666666667</td><td>210.5833333333333334</td><td>39.5000 %</td></tr>",
                            "<tr><td>Thursday </td><td>11:00 pm</td><td>293.4166666666666667</td><td>303.9166666666666667</td><td>500.7500000000000000</td><td>196.8333333333333333</td><td>64.7700 %</td></tr>",
                            "<tr><td>Friday   </td><td>12:00 am</td><td>171.2023809523809524</td><td>170.9166666666666667</td><td>242.5833333333333333</td><td>71.6666666666666666</td><td>41.9300 %</td></tr>",
                            "<tr><td>Friday   </td><td>01:00 am</td><td>111.1071428571428572</td><td>87.4166666666666667</td><td>133.0000000000000000</td><td>45.5833333333333333</td><td>52.1400 %</td></tr>",
                            "<tr><td>Friday   </td><td>02:00 am</td><td>71.0476190476190476</td><td>53.3333333333333333</td><td>81.4166666666666667</td><td>28.0833333333333334</td><td>52.6600 %</td></tr>",
                            "<tr><td>Friday   </td><td>03:00 am</td><td>26.3928571428571428</td><td>22.3333333333333333</td><td>32.6666666666666667</td><td>10.3333333333333334</td><td>46.2700 %</td></tr>",
                            "<tr><td>Friday   </td><td>04:00 am</td><td>27.8452380952380952</td><td>27.2500000000000000</td><td>40.5000000000000000</td><td>13.2500000000000000</td><td>48.6200 %</td></tr>",
                            "<tr><td>Friday   </td><td>05:00 am</td><td>125.8452380952380952</td><td>142.4166666666666667</td><td>191.0000000000000000</td><td>48.5833333333333333</td><td>34.1100 %</td></tr>",
                            "<tr><td>Friday   </td><td>06:00 am</td><td>417.2142857142857143</td><td>496.1666666666666667</td><td>635.2500000000000000</td><td>139.0833333333333333</td><td>28.0300 %</td></tr>",
                            "<tr><td>Friday   </td><td>07:00 am</td><td>1152.2857142857142857</td><td>1366.7500000000000000</td><td>1833.8333333333333333</td><td>467.0833333333333333</td><td>34.1700 %</td></tr>",
                            "<tr><td>Friday   </td><td>08:00 am</td><td>1997.2380952380952381</td><td>2439.1666666666666667</td><td>3411.8333333333333333</td><td>972.6666666666666666</td><td>39.8800 %</td></tr>",
                            "<tr><td>Friday   </td><td>09:00 am</td><td>1174.0119047619047619</td><td>1371.0000000000000000</td><td>1954.4166666666666667</td><td>583.4166666666666667</td><td>42.5500 %</td></tr>",
                            "<tr><td>Friday   </td><td>10:00 am</td><td>859.6428571428571429</td><td>886.5000000000000000</td><td>1247.3333333333333333</td><td>360.8333333333333333</td><td>40.7000 %</td></tr>",
                            "<tr><td>Friday   </td><td>11:00 am</td><td>948.7738095238095238</td><td>953.5000000000000000</td><td>1368.8333333333333333</td><td>415.3333333333333333</td><td>43.5600 %</td></tr>",
                            "<tr><td>Friday   </td><td>12:00 pm</td><td>1110.2619047619047619</td><td>1141.5000000000000000</td><td>1604.0000000000000000</td><td>462.5000000000000000</td><td>40.5200 %</td></tr>",
                            "<tr><td>Friday   </td><td>01:00 pm</td><td>1100.2500000000000000</td><td>1148.2500000000000000</td><td>1615.5833333333333333</td><td>467.3333333333333333</td><td>40.7000 %</td></tr>",
                            "<tr><td>Friday   </td><td>02:00 pm</td><td>1086.6904761904761905</td><td>1167.6666666666666667</td><td>1599.8333333333333333</td><td>432.1666666666666666</td><td>37.0100 %</td></tr>",
                            "<tr><td>Friday   </td><td>03:00 pm</td><td>1239.0595238095238095</td><td>1416.6666666666666667</td><td>1965.4166666666666667</td><td>548.7500000000000000</td><td>38.7400 %</td></tr>",
                            "<tr><td>Friday   </td><td>04:00 pm</td><td>1826.0357142857142857</td><td>2206.6666666666666667</td><td>2871.4166666666666667</td><td>664.7500000000000000</td><td>30.1200 %</td></tr>",
                            "<tr><td>Friday   </td><td>05:00 pm</td><td>2402.3690476190476190</td><td>2554.0000000000000000</td><td>3528.3333333333333333</td><td>974.3333333333333333</td><td>38.1500 %</td></tr>",
                            "<tr><td>Friday   </td><td>06:00 pm</td><td>1759.2857142857142857</td><td>1745.7500000000000000</td><td>2543.1666666666666667</td><td>797.4166666666666667</td><td>45.6800 %</td></tr>",
                            "<tr><td>Friday   </td><td>07:00 pm</td><td>1218.2857142857142857</td><td>1203.0000000000000000</td><td>1773.0833333333333333</td><td>570.0833333333333333</td><td>47.3900 %</td></tr>",
                            "<tr><td>Friday   </td><td>08:00 pm</td><td>843.7738095238095238</td><td>820.1666666666666667</td><td>1220.6666666666666667</td><td>400.5000000000000000</td><td>48.8300 %</td></tr>",
                            "<tr><td>Friday   </td><td>09:00 pm</td><td>623.1547619047619048</td><td>647.8333333333333333</td><td>911.0000000000000000</td><td>263.1666666666666667</td><td>40.6200 %</td></tr>",
                            "<tr><td>Friday   </td><td>10:00 pm</td><td>460.1190476190476191</td><td>551.4166666666666667</td><td>777.2500000000000000</td><td>225.8333333333333333</td><td>40.9600 %</td></tr>",
                            "<tr><td>Friday   </td><td>11:00 pm</td><td>293.4166666666666667</td><td>399.4166666666666667</td><td>539.9166666666666667</td><td>140.5000000000000000</td><td>35.1800 %</td></tr>",
                            "<tr><td>Saturday </td><td>12:00 am</td><td>171.2023809523809524</td><td>269.1666666666666667</td><td>389.0000000000000000</td><td>119.8333333333333333</td><td>44.5200 %</td></tr>",
                            "<tr><td>Saturday </td><td>01:00 am</td><td>111.1071428571428572</td><td>209.6666666666666667</td><td>312.5833333333333333</td><td>102.9166666666666666</td><td>49.0900 %</td></tr>",
                            "<tr><td>Saturday </td><td>02:00 am</td><td>71.0476190476190476</td><td>145.0833333333333333</td><td>196.4166666666666667</td><td>51.3333333333333334</td><td>35.3800 %</td></tr>",
                            "<tr><td>Saturday </td><td>03:00 am</td><td>26.3928571428571428</td><td>48.8333333333333333</td><td>66.4166666666666667</td><td>17.5833333333333334</td><td>36.0100 %</td></tr>",
                            "<tr><td>Saturday </td><td>04:00 am</td><td>27.8452380952380952</td><td>30.5833333333333333</td><td>38.1666666666666667</td><td>7.5833333333333334</td><td>24.8000 %</td></tr>",
                            "<tr><td>Saturday </td><td>05:00 am</td><td>125.8452380952380952</td><td>40.0833333333333333</td><td>63.5000000000000000</td><td>23.4166666666666667</td><td>58.4200 %</td></tr>",
                            "<tr><td>Saturday </td><td>06:00 am</td><td>417.2142857142857143</td><td>94.5833333333333333</td><td>135.0000000000000000</td><td>40.4166666666666667</td><td>42.7300 %</td></tr>",
                            "<tr><td>Saturday </td><td>07:00 am</td><td>1152.2857142857142857</td><td>240.9166666666666667</td><td>325.3333333333333333</td><td>84.4166666666666666</td><td>35.0400 %</td></tr>",
                            "<tr><td>Saturday </td><td>08:00 am</td><td>1997.2380952380952381</td><td>475.8333333333333333</td><td>670.7500000000000000</td><td>194.9166666666666667</td><td>40.9600 %</td></tr>",
                            "<tr><td>Saturday </td><td>09:00 am</td><td>1174.0119047619047619</td><td>738.4166666666666667</td><td>1079.5833333333333333</td><td>341.1666666666666666</td><td>46.2000 %</td></tr>",
                            "<tr><td>Saturday </td><td>10:00 am</td><td>859.6428571428571429</td><td>1017.3333333333333333</td><td>1470.5000000000000000</td><td>453.1666666666666667</td><td>44.5400 %</td></tr>",
                            "<tr><td>Saturday </td><td>11:00 am</td><td>948.7738095238095238</td><td>1213.9166666666666667</td><td>1871.1666666666666667</td><td>657.2500000000000000</td><td>54.1400 %</td></tr>",
                            "<tr><td>Saturday </td><td>12:00 pm</td><td>1110.2619047619047619</td><td>1363.9166666666666667</td><td>2174.3333333333333333</td><td>810.4166666666666666</td><td>59.4200 %</td></tr>",
                            "<tr><td>Saturday </td><td>01:00 pm</td><td>1100.2500000000000000</td><td>1446.7500000000000000</td><td>2236.6666666666666667</td><td>789.9166666666666667</td><td>54.6000 %</td></tr>",
                            "<tr><td>Saturday </td><td>02:00 pm</td><td>1086.6904761904761905</td><td>1445.3333333333333333</td><td>2261.0000000000000000</td><td>815.6666666666666667</td><td>56.4300 %</td></tr>",
                            "<tr><td>Saturday </td><td>03:00 pm</td><td>1239.0595238095238095</td><td>1445.0833333333333333</td><td>2285.6666666666666667</td><td>840.5833333333333334</td><td>58.1700 %</td></tr>",
                            "<tr><td>Saturday </td><td>04:00 pm</td><td>1826.0357142857142857</td><td>1434.5000000000000000</td><td>2203.9166666666666667</td><td>769.4166666666666667</td><td>53.6400 %</td></tr>",
                            "<tr><td>Saturday </td><td>05:00 pm</td><td>2402.3690476190476190</td><td>1343.0000000000000000</td><td>2083.0833333333333333</td><td>740.0833333333333333</td><td>55.1100 %</td></tr>",
                            "<tr><td>Saturday </td><td>06:00 pm</td><td>1759.2857142857142857</td><td>1205.9166666666666667</td><td>1880.6666666666666667</td><td>674.7500000000000000</td><td>55.9500 %</td></tr>",
                            "<tr><td>Saturday </td><td>07:00 pm</td><td>1218.2857142857142857</td><td>983.0833333333333333</td><td>1514.5833333333333333</td><td>531.5000000000000000</td><td>54.0600 %</td></tr>",
                            "<tr><td>Saturday </td><td>08:00 pm</td><td>843.7738095238095238</td><td>721.4166666666666667</td><td>1096.5833333333333333</td><td>375.1666666666666666</td><td>52.0000 %</td></tr>",
                            "<tr><td>Saturday </td><td>09:00 pm</td><td>623.1547619047619048</td><td>574.0000000000000000</td><td>908.4166666666666667</td><td>334.4166666666666667</td><td>58.2600 %</td></tr>",
                            "<tr><td>Saturday </td><td>10:00 pm</td><td>460.1190476190476191</td><td>493.1666666666666667</td><td>754.9166666666666667</td><td>261.7500000000000000</td><td>53.0800 %</td></tr>",
                            "<tr><td>Saturday </td><td>11:00 pm</td><td>293.4166666666666667</td><td>364.7500000000000000</td><td>567.0833333333333333</td><td>202.3333333333333333</td><td>55.4700 %</td></tr>",
                            "<tr><td>Sunday   </td><td>12:00 am</td><td>171.2023809523809524</td><td>274.0000000000000000</td><td>434.0000000000000000</td><td>160.0000000000000000</td><td>58.3900 %</td></tr>",
                            "<tr><td>Sunday   </td><td>01:00 am</td><td>111.1071428571428572</td><td>232.0833333333333333</td><td>395.0833333333333333</td><td>163.0000000000000000</td><td>70.2300 %</td></tr>",
                            "<tr><td>Sunday   </td><td>02:00 am</td><td>71.0476190476190476</td><td>161.9166666666666667</td><td>246.2500000000000000</td><td>84.3333333333333333</td><td>52.0800 %</td></tr>",
                            "<tr><td>Sunday   </td><td>03:00 am</td><td>26.3928571428571428</td><td>47.5833333333333333</td><td>66.0833333333333333</td><td>18.5000000000000000</td><td>38.8800 %</td></tr>",
                            "<tr><td>Sunday   </td><td>04:00 am</td><td>27.8452380952380952</td><td>22.3333333333333333</td><td>38.6666666666666667</td><td>16.3333333333333334</td><td>73.1300 %</td></tr>",
                            "<tr><td>Sunday   </td><td>05:00 am</td><td>125.8452380952380952</td><td>35.0833333333333333</td><td>61.3333333333333333</td><td>26.2500000000000000</td><td>74.8200 %</td></tr>",
                            "<tr><td>Sunday   </td><td>06:00 am</td><td>417.2142857142857143</td><td>75.9166666666666667</td><td>127.8333333333333333</td><td>51.9166666666666666</td><td>68.3900 %</td></tr>",
                            "<tr><td>Sunday   </td><td>07:00 am</td><td>1152.2857142857142857</td><td>161.2500000000000000</td><td>252.3333333333333333</td><td>91.0833333333333333</td><td>56.4900 %</td></tr>",
                            "<tr><td>Sunday   </td><td>08:00 am</td><td>1997.2380952380952381</td><td>375.0000000000000000</td><td>594.0833333333333333</td><td>219.0833333333333333</td><td>58.4200 %</td></tr>",
                            "<tr><td>Sunday   </td><td>09:00 am</td><td>1174.0119047619047619</td><td>635.0000000000000000</td><td>1002.9166666666666667</td><td>367.9166666666666667</td><td>57.9400 %</td></tr>",
                            "<tr><td>Sunday   </td><td>10:00 am</td><td>859.6428571428571429</td><td>924.4166666666666667</td><td>1402.5000000000000000</td><td>478.0833333333333333</td><td>51.7200 %</td></tr>",
                            "<tr><td>Sunday   </td><td>11:00 am</td><td>948.7738095238095238</td><td>1116.7500000000000000</td><td>1678.3333333333333333</td><td>561.5833333333333333</td><td>50.2900 %</td></tr>",
                            "<tr><td>Sunday   </td><td>12:00 pm</td><td>1110.2619047619047619</td><td>1303.8333333333333333</td><td>1901.3333333333333333</td><td>597.5000000000000000</td><td>45.8300 %</td></tr>",
                            "<tr><td>Sunday   </td><td>01:00 pm</td><td>1100.2500000000000000</td><td>1396.7500000000000000</td><td>2029.6666666666666667</td><td>632.9166666666666667</td><td>45.3100 %</td></tr>",
                            "<tr><td>Sunday   </td><td>02:00 pm</td><td>1086.6904761904761905</td><td>1394.6666666666666667</td><td>1993.3333333333333333</td><td>598.6666666666666666</td><td>42.9300 %</td></tr>",
                            "<tr><td>Sunday   </td><td>03:00 pm</td><td>1239.0595238095238095</td><td>1404.0000000000000000</td><td>1973.5000000000000000</td><td>569.5000000000000000</td><td>40.5600 %</td></tr>",
                            "<tr><td>Sunday   </td><td>04:00 pm</td><td>1826.0357142857142857</td><td>1368.8333333333333333</td><td>2006.0833333333333333</td><td>637.2500000000000000</td><td>46.5500 %</td></tr>",
                            "<tr><td>Sunday   </td><td>05:00 pm</td><td>2402.3690476190476190</td><td>1293.9166666666666667</td><td>1905.0000000000000000</td><td>611.0833333333333333</td><td>47.2300 %</td></tr>",
                            "<tr><td>Sunday   </td><td>06:00 pm</td><td>1759.2857142857142857</td><td>1148.3333333333333333</td><td>1735.0833333333333333</td><td>586.7500000000000000</td><td>51.1000 %</td></tr>",
                            "<tr><td>Sunday   </td><td>07:00 pm</td><td>1218.2857142857142857</td><td>891.5000000000000000</td><td>1314.3333333333333333</td><td>422.8333333333333333</td><td>47.4300 %</td></tr>",
                            "<tr><td>Sunday   </td><td>08:00 pm</td><td>843.7738095238095238</td><td>625.5000000000000000</td><td>1000.7500000000000000</td><td>375.2500000000000000</td><td>59.9900 %</td></tr>",
                            "<tr><td>Sunday   </td><td>09:00 pm</td><td>623.1547619047619048</td><td>458.1666666666666667</td><td>705.0000000000000000</td><td>246.8333333333333333</td><td>53.8700 %</td></tr>",
                            "<tr><td>Sunday   </td><td>10:00 pm</td><td>460.1190476190476191</td><td>336.9166666666666667</td><td>547.0833333333333333</td><td>210.1666666666666666</td><td>62.3800 %</td></tr>",
                            "<tr><td>Sunday   </td><td>11:00 pm</td><td>293.4166666666666667</td><td>237.5000000000000000</td><td>356.3333333333333333</td><td>118.8333333333333333</td><td>50.0400 %</td></tr>",
                            "</table>"
                        ]
                    }
                }
            ],
            "execution_count": 131
        },
        {
            "cell_type": "code",
            "source": [
                ""
            ],
            "metadata": {
                "azdata_cell_guid": "ce51af5a-af07-4297-b511-c57ee6342159"
            },
            "outputs": [],
            "execution_count": null
        },
        {
            "cell_type": "markdown",
            "source": [
                "# Rider By Type"
            ],
            "metadata": {
                "azdata_cell_guid": "59cc2567-2d01-43bf-823d-1e7e3a937f37"
            }
        },
        {
            "cell_type": "code",
            "source": [
                "create TEMPORARY table bluebikes_combined as\n",
                "\n",
                "select '2018' as data_year, bike_id, start_time, end_time, start_station_id, end_station_id, user_type, user_birth_year, user_gender\n",
                "from bluebikes_2018\n",
                "union all\n",
                "select '2019' as data_year, bike_id, start_time, end_time, start_station_id, end_station_id, user_type, user_birth_year, user_gender\n",
                "from bluebikes_2019\n",
                ""
            ],
            "metadata": {
                "azdata_cell_guid": "c9cdc3bd-2914-455b-8456-c2d223be0c04"
            },
            "outputs": [
                {
                    "output_type": "display_data",
                    "data": {
                        "text/html": "Commands completed successfully"
                    },
                    "metadata": {}
                },
                {
                    "output_type": "display_data",
                    "data": {
                        "text/html": "Total execution time: 00:00:02.598"
                    },
                    "metadata": {}
                }
            ],
            "execution_count": 14
        },
        {
            "cell_type": "code",
            "source": [
                "select * from bluebikes_combined\n",
                "order by random()\n",
                "limit 100"
            ],
            "metadata": {
                "azdata_cell_guid": "cc3c70f5-e944-46f9-9cf3-334c8884d9ca"
            },
            "outputs": [
                {
                    "output_type": "display_data",
                    "data": {
                        "text/html": "(100 row(s) affected)"
                    },
                    "metadata": {}
                },
                {
                    "output_type": "display_data",
                    "data": {
                        "text/html": "Total execution time: 00:00:02.052"
                    },
                    "metadata": {}
                },
                {
                    "output_type": "execute_result",
                    "metadata": {},
                    "execution_count": 15,
                    "data": {
                        "application/vnd.dataresource+json": {
                            "schema": {
                                "fields": [
                                    {
                                        "name": "data_year"
                                    },
                                    {
                                        "name": "bike_id"
                                    },
                                    {
                                        "name": "start_time"
                                    },
                                    {
                                        "name": "end_time"
                                    },
                                    {
                                        "name": "start_station_id"
                                    },
                                    {
                                        "name": "end_station_id"
                                    },
                                    {
                                        "name": "user_type"
                                    },
                                    {
                                        "name": "user_birth_year"
                                    },
                                    {
                                        "name": "user_gender"
                                    }
                                ]
                            },
                            "data": [
                                {
                                    "0": "2018",
                                    "1": "2968",
                                    "2": "2018-05-15T09:27:50.938000",
                                    "3": "2018-05-15T18:20:04.205000",
                                    "4": "67",
                                    "5": "78",
                                    "6": "Subscriber",
                                    "7": "1990",
                                    "8": "2"
                                },
                                {
                                    "0": "2019",
                                    "1": "4116",
                                    "2": "2019-07-03T07:16:40.081000",
                                    "3": "2019-07-03T07:21:01.678000",
                                    "4": "105",
                                    "5": "87",
                                    "6": "Subscriber",
                                    "7": "1988",
                                    "8": "1"
                                },
                                {
                                    "0": "2019",
                                    "1": "2152",
                                    "2": "2019-04-17T20:36:25.167000",
                                    "3": "2019-04-17T20:41:19.657000",
                                    "4": "67",
                                    "5": "68",
                                    "6": "Subscriber",
                                    "7": "1996",
                                    "8": "1"
                                },
                                {
                                    "0": "2019",
                                    "1": "2884",
                                    "2": "2019-07-19T23:00:52.123000",
                                    "3": "2019-07-19T23:12:58.209000",
                                    "4": "335",
                                    "5": "179",
                                    "6": "Subscriber",
                                    "7": "1995",
                                    "8": "1"
                                },
                                {
                                    "0": "2018",
                                    "1": "3474",
                                    "2": "2018-10-23T18:28:39.509000",
                                    "3": "2018-10-23T18:43:27.280000",
                                    "4": "335",
                                    "5": "149",
                                    "6": "Subscriber",
                                    "7": "1989",
                                    "8": "1"
                                },
                                {
                                    "0": "2018",
                                    "1": "2591",
                                    "2": "2018-08-23T14:37:18.195000",
                                    "3": "2018-08-23T14:56:54.425000",
                                    "4": "40",
                                    "5": "72",
                                    "6": "Customer",
                                    "7": "1969",
                                    "8": "0"
                                },
                                {
                                    "0": "2019",
                                    "1": "3688",
                                    "2": "2019-04-13T16:59:10.104000",
                                    "3": "2019-04-13T17:01:10.407000",
                                    "4": "67",
                                    "5": "67",
                                    "6": "Subscriber",
                                    "7": "1997",
                                    "8": "2"
                                },
                                {
                                    "0": "2019",
                                    "1": "4862",
                                    "2": "2019-08-24T23:19:13.413000",
                                    "3": "2019-08-24T23:35:12.952000",
                                    "4": "49",
                                    "5": "342",
                                    "6": "Subscriber",
                                    "7": "1983",
                                    "8": "1"
                                },
                                {
                                    "0": "2019",
                                    "1": "4443",
                                    "2": "2019-08-27T17:27:27.613000",
                                    "3": "2019-08-27T17:33:09.383000",
                                    "4": "115",
                                    "5": "71",
                                    "6": "Subscriber",
                                    "7": "1966",
                                    "8": "1"
                                },
                                {
                                    "0": "2019",
                                    "1": "3871",
                                    "2": "2019-08-30T07:02:55.038000",
                                    "3": "2019-08-30T07:09:22.838000",
                                    "4": "331",
                                    "5": "55",
                                    "6": "Customer",
                                    "7": "1997",
                                    "8": "1"
                                },
                                {
                                    "0": "2019",
                                    "1": "5393",
                                    "2": "2019-08-09T19:21:41.071000",
                                    "3": "2019-08-09T19:36:59.566000",
                                    "4": "386",
                                    "5": "400",
                                    "6": "Subscriber",
                                    "7": "1994",
                                    "8": "1"
                                },
                                {
                                    "0": "2019",
                                    "1": "3393",
                                    "2": "2019-08-30T16:01:28.092000",
                                    "3": "2019-08-30T16:40:27.206000",
                                    "4": "327",
                                    "5": "105",
                                    "6": "Subscriber",
                                    "7": "1987",
                                    "8": "2"
                                },
                                {
                                    "0": "2018",
                                    "1": "4207",
                                    "2": "2018-10-02T18:23:16.939000",
                                    "3": "2018-10-02T18:30:00.499000",
                                    "4": "25",
                                    "5": "250",
                                    "6": "Subscriber",
                                    "7": "1989",
                                    "8": "1"
                                },
                                {
                                    "0": "2019",
                                    "1": "5436",
                                    "2": "2019-11-14T16:07:06.562000",
                                    "3": "2019-11-14T16:10:02.936000",
                                    "4": "118",
                                    "5": "145",
                                    "6": "Subscriber",
                                    "7": "1982",
                                    "8": "1"
                                },
                                {
                                    "0": "2019",
                                    "1": "1673",
                                    "2": "2019-04-14T17:28:54.815000",
                                    "3": "2019-04-14T17:46:33.645000",
                                    "4": "181",
                                    "5": "73",
                                    "6": "Customer",
                                    "7": "1969",
                                    "8": "0"
                                },
                                {
                                    "0": "2018",
                                    "1": "263",
                                    "2": "2018-08-22T14:08:20.729000",
                                    "3": "2018-08-22T14:22:49.791000",
                                    "4": "58",
                                    "5": "195",
                                    "6": "Customer",
                                    "7": "1994",
                                    "8": "2"
                                },
                                {
                                    "0": "2018",
                                    "1": "3867",
                                    "2": "2018-08-31T12:25:28.920000",
                                    "3": "2018-08-31T12:51:54.459000",
                                    "4": "4",
                                    "5": "46",
                                    "6": "Customer",
                                    "7": "1969",
                                    "8": "0"
                                },
                                {
                                    "0": "2018",
                                    "1": "3858",
                                    "2": "2018-09-18T08:56:39.216000",
                                    "3": "2018-09-18T09:06:55.254000",
                                    "4": "22",
                                    "5": "40",
                                    "6": "Subscriber",
                                    "7": "1984",
                                    "8": "1"
                                },
                                {
                                    "0": "2018",
                                    "1": "1007",
                                    "2": "2018-02-23T17:18:16",
                                    "3": "2018-02-23T17:29:47",
                                    "4": "77",
                                    "5": "74",
                                    "6": "Subscriber",
                                    "7": "1979.0",
                                    "8": "1"
                                },
                                {
                                    "0": "2018",
                                    "1": "1335",
                                    "2": "2018-04-23T18:55:42.278000",
                                    "3": "2018-04-23T19:01:25.781000",
                                    "4": "75",
                                    "5": "53",
                                    "6": "Subscriber",
                                    "7": "1988",
                                    "8": "1"
                                },
                                {
                                    "0": "2019",
                                    "1": "4919",
                                    "2": "2019-09-15T23:36:00.810000",
                                    "3": "2019-09-15T23:47:54.926000",
                                    "4": "330",
                                    "5": "180",
                                    "6": "Subscriber",
                                    "7": "1987",
                                    "8": "1"
                                },
                                {
                                    "0": "2019",
                                    "1": "2090",
                                    "2": "2019-10-20T19:55:00.417000",
                                    "3": "2019-10-20T20:06:43.661000",
                                    "4": "42",
                                    "5": "22",
                                    "6": "Customer",
                                    "7": "1997",
                                    "8": "2"
                                },
                                {
                                    "0": "2019",
                                    "1": "1462",
                                    "2": "2019-01-08T08:40:12.875000",
                                    "3": "2019-01-08T08:44:40.077000",
                                    "4": "180",
                                    "5": "73",
                                    "6": "Subscriber",
                                    "7": "1985",
                                    "8": "1"
                                },
                                {
                                    "0": "2019",
                                    "1": "6091",
                                    "2": "2019-10-08T15:29:23.410000",
                                    "3": "2019-10-08T15:35:04.318000",
                                    "4": "159",
                                    "5": "131",
                                    "6": "Subscriber",
                                    "7": "1984",
                                    "8": "2"
                                },
                                {
                                    "0": "2018",
                                    "1": "2494",
                                    "2": "2018-11-27T09:58:03.393000",
                                    "3": "2018-11-27T10:02:38.831000",
                                    "4": "110",
                                    "5": "70",
                                    "6": "Subscriber",
                                    "7": "1991",
                                    "8": "1"
                                },
                                {
                                    "0": "2019",
                                    "1": "2186",
                                    "2": "2019-09-26T14:41:21.726000",
                                    "3": "2019-09-26T14:50:21.746000",
                                    "4": "96",
                                    "5": "76",
                                    "6": "Subscriber",
                                    "7": "1995",
                                    "8": "1"
                                },
                                {
                                    "0": "2019",
                                    "1": "2835",
                                    "2": "2019-06-10T10:13:35.023000",
                                    "3": "2019-06-10T10:20:15.066000",
                                    "4": "100",
                                    "5": "118",
                                    "6": "Subscriber",
                                    "7": "1961",
                                    "8": "2"
                                },
                                {
                                    "0": "2018",
                                    "1": "3735",
                                    "2": "2018-09-14T11:51:44.952000",
                                    "3": "2018-09-14T11:59:45.547000",
                                    "4": "20",
                                    "5": "35",
                                    "6": "Subscriber",
                                    "7": "1986",
                                    "8": "2"
                                },
                                {
                                    "0": "2019",
                                    "1": "5586",
                                    "2": "2019-08-08T22:15:08.488000",
                                    "3": "2019-08-08T22:21:25.690000",
                                    "4": "328",
                                    "5": "111",
                                    "6": "Subscriber",
                                    "7": "1986",
                                    "8": "1"
                                },
                                {
                                    "0": "2019",
                                    "1": "3657",
                                    "2": "2019-12-12T15:25:30.088000",
                                    "3": "2019-12-12T15:38:45.235000",
                                    "4": "117",
                                    "5": "94",
                                    "6": "Subscriber",
                                    "7": "1983",
                                    "8": "2"
                                },
                                {
                                    "0": "2019",
                                    "1": "6131",
                                    "2": "2019-10-15T07:45:29.354000",
                                    "3": "2019-10-15T07:55:21.826000",
                                    "4": "43",
                                    "5": "42",
                                    "6": "Subscriber",
                                    "7": "1980",
                                    "8": "1"
                                },
                                {
                                    "0": "2018",
                                    "1": "2174",
                                    "2": "2018-07-17T08:38:03.928000",
                                    "3": "2018-07-17T08:42:38.695000",
                                    "4": "152",
                                    "5": "59",
                                    "6": "Subscriber",
                                    "7": "1987",
                                    "8": "1"
                                },
                                {
                                    "0": "2018",
                                    "1": "804",
                                    "2": "2018-05-11T17:01:02.832000",
                                    "3": "2018-05-11T17:21:00.428000",
                                    "4": "84",
                                    "5": "10",
                                    "6": "Subscriber",
                                    "7": "1984",
                                    "8": "1"
                                },
                                {
                                    "0": "2019",
                                    "1": "2932",
                                    "2": "2019-07-26T12:12:45.178000",
                                    "3": "2019-07-26T12:25:45.515000",
                                    "4": "381",
                                    "5": "189",
                                    "6": "Subscriber",
                                    "7": "1994",
                                    "8": "1"
                                },
                                {
                                    "0": "2019",
                                    "1": "1383",
                                    "2": "2019-06-02T16:30:36.838000",
                                    "3": "2019-06-02T16:54:42.654000",
                                    "4": "58",
                                    "5": "16",
                                    "6": "Customer",
                                    "7": "1969",
                                    "8": "0"
                                },
                                {
                                    "0": "2019",
                                    "1": "6074",
                                    "2": "2019-10-03T15:13:39.253000",
                                    "3": "2019-10-03T15:20:04.079000",
                                    "4": "218",
                                    "5": "22",
                                    "6": "Subscriber",
                                    "7": "1981",
                                    "8": "1"
                                },
                                {
                                    "0": "2018",
                                    "1": "2090",
                                    "2": "2018-09-02T19:03:17.459000",
                                    "3": "2018-09-02T19:38:23.680000",
                                    "4": "206",
                                    "5": "20",
                                    "6": "Customer",
                                    "7": "1969",
                                    "8": "0"
                                },
                                {
                                    "0": "2019",
                                    "1": "3717",
                                    "2": "2019-08-08T17:46:56.668000",
                                    "3": "2019-08-08T18:02:59.454000",
                                    "4": "14",
                                    "5": "332",
                                    "6": "Subscriber",
                                    "7": "1991",
                                    "8": "1"
                                },
                                {
                                    "0": "2019",
                                    "1": "1616",
                                    "2": "2019-05-07T11:57:45.151000",
                                    "3": "2019-05-07T12:11:49.907000",
                                    "4": "6",
                                    "5": "68",
                                    "6": "Subscriber",
                                    "7": "1979",
                                    "8": "2"
                                },
                                {
                                    "0": "2019",
                                    "1": "2973",
                                    "2": "2019-01-28T12:06:24.955000",
                                    "3": "2019-01-28T12:18:10.586000",
                                    "4": "46",
                                    "5": "75",
                                    "6": "Subscriber",
                                    "7": "1995",
                                    "8": "1"
                                },
                                {
                                    "0": "2019",
                                    "1": "3562",
                                    "2": "2019-04-28T15:20:17.689000",
                                    "3": "2019-04-28T15:26:27.944000",
                                    "4": "185",
                                    "5": "91",
                                    "6": "Subscriber",
                                    "7": "1987",
                                    "8": "0"
                                },
                                {
                                    "0": "2019",
                                    "1": "2186",
                                    "2": "2019-10-07T16:52:42.690000",
                                    "3": "2019-10-07T17:06:53.992000",
                                    "4": "67",
                                    "5": "105",
                                    "6": "Subscriber",
                                    "7": "1995",
                                    "8": "1"
                                },
                                {
                                    "0": "2019",
                                    "1": "3446",
                                    "2": "2019-08-16T17:08:08.190000",
                                    "3": "2019-08-16T17:58:33.985000",
                                    "4": "68",
                                    "5": "116",
                                    "6": "Subscriber",
                                    "7": "1982",
                                    "8": "2"
                                },
                                {
                                    "0": "2018",
                                    "1": "11",
                                    "2": "2018-06-27T16:36:09.273000",
                                    "3": "2018-06-27T16:52:28.959000",
                                    "4": "91",
                                    "5": "33",
                                    "6": "Subscriber",
                                    "7": "1984",
                                    "8": "1"
                                },
                                {
                                    "0": "2019",
                                    "1": "3206",
                                    "2": "2019-10-24T10:57:55.950000",
                                    "3": "2019-10-24T11:07:19.965000",
                                    "4": "68",
                                    "5": "141",
                                    "6": "Subscriber",
                                    "7": "1979",
                                    "8": "2"
                                },
                                {
                                    "0": "2018",
                                    "1": "1113",
                                    "2": "2018-02-22T14:36:08",
                                    "3": "2018-02-22T14:45:20",
                                    "4": "179",
                                    "5": "91",
                                    "6": "Subscriber",
                                    "7": "1990.0",
                                    "8": "1"
                                },
                                {
                                    "0": "2018",
                                    "1": "3169",
                                    "2": "2018-07-18T00:16:03.289000",
                                    "3": "2018-07-18T00:26:11.002000",
                                    "4": "27",
                                    "5": "204",
                                    "6": "Customer",
                                    "7": "1969",
                                    "8": "0"
                                },
                                {
                                    "0": "2019",
                                    "1": "3879",
                                    "2": "2019-09-30T16:27:02.657000",
                                    "3": "2019-09-30T16:50:59.936000",
                                    "4": "372",
                                    "5": "338",
                                    "6": "Customer",
                                    "7": "1986",
                                    "8": "1"
                                },
                                {
                                    "0": "2018",
                                    "1": "2978",
                                    "2": "2018-07-17T07:49:00.420000",
                                    "3": "2018-07-17T08:05:21.362000",
                                    "4": "133",
                                    "5": "5",
                                    "6": "Subscriber",
                                    "7": "1984",
                                    "8": "1"
                                },
                                {
                                    "0": "2019",
                                    "1": "5101",
                                    "2": "2019-11-21T06:47:22.350000",
                                    "3": "2019-11-21T06:51:39.987000",
                                    "4": "40",
                                    "5": "192",
                                    "6": "Subscriber",
                                    "7": "1991",
                                    "8": "1"
                                },
                                {
                                    "0": "2019",
                                    "1": "2842",
                                    "2": "2019-08-07T20:53:01.256000",
                                    "3": "2019-08-07T21:02:35.107000",
                                    "4": "107",
                                    "5": "116",
                                    "6": "Subscriber",
                                    "7": "1945",
                                    "8": "1"
                                },
                                {
                                    "0": "2018",
                                    "1": "2076",
                                    "2": "2018-05-13T03:38:17.073000",
                                    "3": "2018-05-13T03:56:10.711000",
                                    "4": "30",
                                    "5": "53",
                                    "6": "Subscriber",
                                    "7": "1987",
                                    "8": "1"
                                },
                                {
                                    "0": "2018",
                                    "1": "88",
                                    "2": "2018-05-02T07:50:24.730000",
                                    "3": "2018-05-02T08:11:57.235000",
                                    "4": "32",
                                    "5": "143",
                                    "6": "Subscriber",
                                    "7": "1993",
                                    "8": "2"
                                },
                                {
                                    "0": "2019",
                                    "1": "3050",
                                    "2": "2019-04-23T07:39:04.375000",
                                    "3": "2019-04-23T07:45:03.010000",
                                    "4": "76",
                                    "5": "67",
                                    "6": "Subscriber",
                                    "7": "1994",
                                    "8": "1"
                                },
                                {
                                    "0": "2018",
                                    "1": "2167",
                                    "2": "2018-07-31T08:59:57.702000",
                                    "3": "2018-07-31T09:32:18.661000",
                                    "4": "33",
                                    "5": "97",
                                    "6": "Customer",
                                    "7": "1994",
                                    "8": "2"
                                },
                                {
                                    "0": "2019",
                                    "1": "4794",
                                    "2": "2019-07-29T11:48:25.621000",
                                    "3": "2019-07-29T12:00:43.099000",
                                    "4": "3",
                                    "5": "67",
                                    "6": "Customer",
                                    "7": "1994",
                                    "8": "1"
                                },
                                {
                                    "0": "2018",
                                    "1": "3917",
                                    "2": "2018-10-10T14:47:16.517000",
                                    "3": "2018-10-10T14:50:42.309000",
                                    "4": "55",
                                    "5": "53",
                                    "6": "Subscriber",
                                    "7": "1997",
                                    "8": "1"
                                },
                                {
                                    "0": "2019",
                                    "1": "3497",
                                    "2": "2019-07-24T13:44:45.647000",
                                    "3": "2019-07-24T13:51:31.623000",
                                    "4": "192",
                                    "5": "48",
                                    "6": "Subscriber",
                                    "7": "1984",
                                    "8": "1"
                                },
                                {
                                    "0": "2019",
                                    "1": "2823",
                                    "2": "2019-04-28T12:26:27.676000",
                                    "3": "2019-04-28T13:00:03.540000",
                                    "4": "52",
                                    "5": "53",
                                    "6": "Subscriber",
                                    "7": "1989",
                                    "8": "2"
                                },
                                {
                                    "0": "2019",
                                    "1": "5594",
                                    "2": "2019-08-30T08:54:04.658000",
                                    "3": "2019-08-30T09:07:55.731000",
                                    "4": "113",
                                    "5": "136",
                                    "6": "Customer",
                                    "7": "1996",
                                    "8": "2"
                                },
                                {
                                    "0": "2019",
                                    "1": "6104",
                                    "2": "2019-10-25T22:22:05.840000",
                                    "3": "2019-10-25T22:33:01.876000",
                                    "4": "386",
                                    "5": "29",
                                    "6": "Subscriber",
                                    "7": "1991",
                                    "8": "2"
                                },
                                {
                                    "0": "2019",
                                    "1": "2744",
                                    "2": "2019-10-10T07:26:45.854000",
                                    "3": "2019-10-10T07:36:41.087000",
                                    "4": "190",
                                    "5": "43",
                                    "6": "Subscriber",
                                    "7": "1978",
                                    "8": "1"
                                },
                                {
                                    "0": "2018",
                                    "1": "3049",
                                    "2": "2018-09-03T14:35:32.427000",
                                    "3": "2018-09-03T15:16:04.727000",
                                    "4": "45",
                                    "5": "5",
                                    "6": "Customer",
                                    "7": "1969",
                                    "8": "0"
                                },
                                {
                                    "0": "2018",
                                    "1": "558",
                                    "2": "2018-02-28T11:08:56",
                                    "3": "2018-02-28T11:17:12",
                                    "4": "60",
                                    "5": "36",
                                    "6": "Subscriber",
                                    "7": "1985.0",
                                    "8": "1"
                                },
                                {
                                    "0": "2018",
                                    "1": "1137",
                                    "2": "2018-02-22T08:38:43",
                                    "3": "2018-02-22T08:46:16",
                                    "4": "116",
                                    "5": "189",
                                    "6": "Subscriber",
                                    "7": "1989.0",
                                    "8": "1"
                                },
                                {
                                    "0": "2019",
                                    "1": "2514",
                                    "2": "2019-02-08T18:20:14.123000",
                                    "3": "2019-02-08T18:22:28.169000",
                                    "4": "380",
                                    "5": "80",
                                    "6": "Subscriber",
                                    "7": "1960",
                                    "8": "1"
                                },
                                {
                                    "0": "2019",
                                    "1": "2899",
                                    "2": "2019-08-21T20:15:23.728000",
                                    "3": "2019-08-21T20:30:10.209000",
                                    "4": "22",
                                    "5": "98",
                                    "6": "Subscriber",
                                    "7": "1988",
                                    "8": "2"
                                },
                                {
                                    "0": "2019",
                                    "1": "4501",
                                    "2": "2019-03-23T14:19:57.943000",
                                    "3": "2019-03-23T14:25:04.645000",
                                    "4": "184",
                                    "5": "105",
                                    "6": "Subscriber",
                                    "7": "1997",
                                    "8": "1"
                                },
                                {
                                    "0": "2019",
                                    "1": "4558",
                                    "2": "2019-11-01T16:06:42.065000",
                                    "3": "2019-11-01T16:16:36.859000",
                                    "4": "13",
                                    "5": "50",
                                    "6": "Subscriber",
                                    "7": "1972",
                                    "8": "1"
                                },
                                {
                                    "0": "2019",
                                    "1": "2661",
                                    "2": "2019-06-03T17:48:37.325000",
                                    "3": "2019-06-03T18:30:58.702000",
                                    "4": "334",
                                    "5": "120",
                                    "6": "Customer",
                                    "7": "1983",
                                    "8": "0"
                                },
                                {
                                    "0": "2019",
                                    "1": "2018",
                                    "2": "2019-09-09T22:09:13.222000",
                                    "3": "2019-09-09T22:55:28.706000",
                                    "4": "189",
                                    "5": "41",
                                    "6": "Subscriber",
                                    "7": "1994",
                                    "8": "2"
                                },
                                {
                                    "0": "2019",
                                    "1": "4000",
                                    "2": "2019-11-26T11:41:53.627000",
                                    "3": "2019-11-26T12:02:45.182000",
                                    "4": "44",
                                    "5": "189",
                                    "6": "Subscriber",
                                    "7": "1995",
                                    "8": "1"
                                },
                                {
                                    "0": "2019",
                                    "1": "3846",
                                    "2": "2019-01-26T23:11:10.896000",
                                    "3": "2019-01-26T23:52:03.758000",
                                    "4": "46",
                                    "5": "173",
                                    "6": "Customer",
                                    "7": "2000",
                                    "8": "2"
                                },
                                {
                                    "0": "2018",
                                    "1": "612",
                                    "2": "2018-04-21T16:21:46.514000",
                                    "3": "2018-04-21T16:42:29.930000",
                                    "4": "4",
                                    "5": "76",
                                    "6": "Subscriber",
                                    "7": "1993",
                                    "8": "1"
                                },
                                {
                                    "0": "2018",
                                    "1": "722",
                                    "2": "2018-03-19T00:02:58",
                                    "3": "2018-03-19T00:07:50",
                                    "4": "100",
                                    "5": "118",
                                    "6": "Subscriber",
                                    "7": "1964.0",
                                    "8": "1"
                                },
                                {
                                    "0": "2018",
                                    "1": "2233",
                                    "2": "2018-07-27T07:12:35.528000",
                                    "3": "2018-07-27T07:20:13.724000",
                                    "4": "157",
                                    "5": "135",
                                    "6": "Subscriber",
                                    "7": "1959",
                                    "8": "1"
                                },
                                {
                                    "0": "2019",
                                    "1": "2764",
                                    "2": "2019-07-01T19:18:43.009000",
                                    "3": "2019-07-01T19:24:01.206000",
                                    "4": "53",
                                    "5": "80",
                                    "6": "Subscriber",
                                    "7": "1982",
                                    "8": "2"
                                },
                                {
                                    "0": "2019",
                                    "1": "4410",
                                    "2": "2019-07-12T19:52:33.777000",
                                    "3": "2019-07-12T19:57:47.738000",
                                    "4": "105",
                                    "5": "87",
                                    "6": "Subscriber",
                                    "7": "1992",
                                    "8": "1"
                                },
                                {
                                    "0": "2019",
                                    "1": "5427",
                                    "2": "2019-07-24T06:56:58.695000",
                                    "3": "2019-07-24T07:01:32.985000",
                                    "4": "22",
                                    "5": "218",
                                    "6": "Subscriber",
                                    "7": "1965",
                                    "8": "1"
                                },
                                {
                                    "0": "2018",
                                    "1": "3142",
                                    "2": "2018-08-01T11:34:36.308000",
                                    "3": "2018-08-01T11:57:48.825000",
                                    "4": "40",
                                    "5": "160",
                                    "6": "Subscriber",
                                    "7": "1966",
                                    "8": "1"
                                },
                                {
                                    "0": "2018",
                                    "1": "838",
                                    "2": "2018-05-11T08:07:55.573000",
                                    "3": "2018-05-11T08:15:14.051000",
                                    "4": "47",
                                    "5": "54",
                                    "6": "Subscriber",
                                    "7": "1992",
                                    "8": "1"
                                },
                                {
                                    "0": "2018",
                                    "1": "858",
                                    "2": "2018-06-11T06:52:02.157000",
                                    "3": "2018-06-11T06:59:31.450000",
                                    "4": "118",
                                    "5": "137",
                                    "6": "Subscriber",
                                    "7": "1987",
                                    "8": "1"
                                },
                                {
                                    "0": "2019",
                                    "1": "2985",
                                    "2": "2019-01-09T17:34:09.734000",
                                    "3": "2019-01-09T17:56:18.786000",
                                    "4": "108",
                                    "5": "374",
                                    "6": "Subscriber",
                                    "7": "1958",
                                    "8": "1"
                                },
                                {
                                    "0": "2019",
                                    "1": "2853",
                                    "2": "2019-03-09T13:37:52.852000",
                                    "3": "2019-03-09T13:38:58.468000",
                                    "4": "361",
                                    "5": "361",
                                    "6": "Subscriber",
                                    "7": "1989",
                                    "8": "1"
                                },
                                {
                                    "0": "2019",
                                    "1": "2286",
                                    "2": "2019-04-03T16:59:30.406000",
                                    "3": "2019-04-03T17:05:15.442000",
                                    "4": "30",
                                    "5": "27",
                                    "6": "Subscriber",
                                    "7": "1988",
                                    "8": "2"
                                },
                                {
                                    "0": "2019",
                                    "1": "2377",
                                    "2": "2019-08-24T02:09:00.518000",
                                    "3": "2019-08-24T02:23:51.255000",
                                    "4": "54",
                                    "5": "228",
                                    "6": "Subscriber",
                                    "7": "1991",
                                    "8": "1"
                                },
                                {
                                    "0": "2018",
                                    "1": "2166",
                                    "2": "2018-11-15T08:25:26.886000",
                                    "3": "2018-11-15T08:42:59.468000",
                                    "4": "151",
                                    "5": "91",
                                    "6": "Subscriber",
                                    "7": "1987",
                                    "8": "2"
                                },
                                {
                                    "0": "2018",
                                    "1": "3849",
                                    "2": "2018-08-15T17:30:45.686000",
                                    "3": "2018-08-15T17:40:59.935000",
                                    "4": "179",
                                    "5": "80",
                                    "6": "Subscriber",
                                    "7": "1996",
                                    "8": "1"
                                },
                                {
                                    "0": "2019",
                                    "1": "3195",
                                    "2": "2019-10-24T12:39:26.211000",
                                    "3": "2019-10-24T12:43:11.901000",
                                    "4": "53",
                                    "5": "67",
                                    "6": "Subscriber",
                                    "7": "1998",
                                    "8": "1"
                                },
                                {
                                    "0": "2018",
                                    "1": "3246",
                                    "2": "2018-06-25T17:46:31.717000",
                                    "3": "2018-06-25T17:57:23.269000",
                                    "4": "4",
                                    "5": "190",
                                    "6": "Subscriber",
                                    "7": "1983",
                                    "8": "1"
                                },
                                {
                                    "0": "2018",
                                    "1": "3727",
                                    "2": "2018-08-29T16:39:12.482000",
                                    "3": "2018-08-29T16:45:52.407000",
                                    "4": "47",
                                    "5": "22",
                                    "6": "Subscriber",
                                    "7": "1960",
                                    "8": "1"
                                },
                                {
                                    "0": "2019",
                                    "1": "4011",
                                    "2": "2019-08-30T08:03:41.761000",
                                    "3": "2019-08-30T08:07:28.128000",
                                    "4": "350",
                                    "5": "271",
                                    "6": "Subscriber",
                                    "7": "1972",
                                    "8": "1"
                                },
                                {
                                    "0": "2019",
                                    "1": "2809",
                                    "2": "2019-08-16T13:21:50.976000",
                                    "3": "2019-08-16T13:36:44.948000",
                                    "4": "144",
                                    "5": "85",
                                    "6": "Subscriber",
                                    "7": "1964",
                                    "8": "1"
                                },
                                {
                                    "0": "2019",
                                    "1": "4044",
                                    "2": "2019-07-25T18:34:04.420000",
                                    "3": "2019-07-25T18:48:38.212000",
                                    "4": "376",
                                    "5": "74",
                                    "6": "Subscriber",
                                    "7": "1990",
                                    "8": "1"
                                },
                                {
                                    "0": "2019",
                                    "1": "2373",
                                    "2": "2019-07-09T08:37:54.067000",
                                    "3": "2019-07-09T08:44:43.963000",
                                    "4": "20",
                                    "5": "22",
                                    "6": "Subscriber",
                                    "7": "1969",
                                    "8": "1"
                                },
                                {
                                    "0": "2019",
                                    "1": "4705",
                                    "2": "2019-07-30T14:52:15.374000",
                                    "3": "2019-07-30T15:14:18.587000",
                                    "4": "372",
                                    "5": "119",
                                    "6": "Subscriber",
                                    "7": "1982",
                                    "8": "1"
                                },
                                {
                                    "0": "2019",
                                    "1": "2227",
                                    "2": "2019-12-31T15:44:32.862000",
                                    "3": "2019-12-31T15:52:08.224000",
                                    "4": "107",
                                    "5": "225",
                                    "6": "Subscriber",
                                    "7": "1986",
                                    "8": "1"
                                },
                                {
                                    "0": "2019",
                                    "1": "4471",
                                    "2": "2019-09-28T13:52:09.384000",
                                    "3": "2019-09-28T14:19:13.553000",
                                    "4": "40",
                                    "5": "228",
                                    "6": "Customer",
                                    "7": "1993",
                                    "8": "2"
                                },
                                {
                                    "0": "2019",
                                    "1": "3221",
                                    "2": "2019-07-12T10:41:44.908000",
                                    "3": "2019-07-12T10:56:40.978000",
                                    "4": "352",
                                    "5": "369",
                                    "6": "Subscriber",
                                    "7": "1967",
                                    "8": "1"
                                },
                                {
                                    "0": "2019",
                                    "1": "3414",
                                    "2": "2019-06-19T14:00:13.547000",
                                    "3": "2019-06-19T14:07:58.333000",
                                    "4": "41",
                                    "5": "10",
                                    "6": "Subscriber",
                                    "7": "1988",
                                    "8": "2"
                                }
                            ]
                        },
                        "text/html": [
                            "<table>",
                            "<tr><th>data_year</th><th>bike_id</th><th>start_time</th><th>end_time</th><th>start_station_id</th><th>end_station_id</th><th>user_type</th><th>user_birth_year</th><th>user_gender</th></tr>",
                            "<tr><td>2018</td><td>2968</td><td>2018-05-15T09:27:50.938000</td><td>2018-05-15T18:20:04.205000</td><td>67</td><td>78</td><td>Subscriber</td><td>1990</td><td>2</td></tr>",
                            "<tr><td>2019</td><td>4116</td><td>2019-07-03T07:16:40.081000</td><td>2019-07-03T07:21:01.678000</td><td>105</td><td>87</td><td>Subscriber</td><td>1988</td><td>1</td></tr>",
                            "<tr><td>2019</td><td>2152</td><td>2019-04-17T20:36:25.167000</td><td>2019-04-17T20:41:19.657000</td><td>67</td><td>68</td><td>Subscriber</td><td>1996</td><td>1</td></tr>",
                            "<tr><td>2019</td><td>2884</td><td>2019-07-19T23:00:52.123000</td><td>2019-07-19T23:12:58.209000</td><td>335</td><td>179</td><td>Subscriber</td><td>1995</td><td>1</td></tr>",
                            "<tr><td>2018</td><td>3474</td><td>2018-10-23T18:28:39.509000</td><td>2018-10-23T18:43:27.280000</td><td>335</td><td>149</td><td>Subscriber</td><td>1989</td><td>1</td></tr>",
                            "<tr><td>2018</td><td>2591</td><td>2018-08-23T14:37:18.195000</td><td>2018-08-23T14:56:54.425000</td><td>40</td><td>72</td><td>Customer</td><td>1969</td><td>0</td></tr>",
                            "<tr><td>2019</td><td>3688</td><td>2019-04-13T16:59:10.104000</td><td>2019-04-13T17:01:10.407000</td><td>67</td><td>67</td><td>Subscriber</td><td>1997</td><td>2</td></tr>",
                            "<tr><td>2019</td><td>4862</td><td>2019-08-24T23:19:13.413000</td><td>2019-08-24T23:35:12.952000</td><td>49</td><td>342</td><td>Subscriber</td><td>1983</td><td>1</td></tr>",
                            "<tr><td>2019</td><td>4443</td><td>2019-08-27T17:27:27.613000</td><td>2019-08-27T17:33:09.383000</td><td>115</td><td>71</td><td>Subscriber</td><td>1966</td><td>1</td></tr>",
                            "<tr><td>2019</td><td>3871</td><td>2019-08-30T07:02:55.038000</td><td>2019-08-30T07:09:22.838000</td><td>331</td><td>55</td><td>Customer</td><td>1997</td><td>1</td></tr>",
                            "<tr><td>2019</td><td>5393</td><td>2019-08-09T19:21:41.071000</td><td>2019-08-09T19:36:59.566000</td><td>386</td><td>400</td><td>Subscriber</td><td>1994</td><td>1</td></tr>",
                            "<tr><td>2019</td><td>3393</td><td>2019-08-30T16:01:28.092000</td><td>2019-08-30T16:40:27.206000</td><td>327</td><td>105</td><td>Subscriber</td><td>1987</td><td>2</td></tr>",
                            "<tr><td>2018</td><td>4207</td><td>2018-10-02T18:23:16.939000</td><td>2018-10-02T18:30:00.499000</td><td>25</td><td>250</td><td>Subscriber</td><td>1989</td><td>1</td></tr>",
                            "<tr><td>2019</td><td>5436</td><td>2019-11-14T16:07:06.562000</td><td>2019-11-14T16:10:02.936000</td><td>118</td><td>145</td><td>Subscriber</td><td>1982</td><td>1</td></tr>",
                            "<tr><td>2019</td><td>1673</td><td>2019-04-14T17:28:54.815000</td><td>2019-04-14T17:46:33.645000</td><td>181</td><td>73</td><td>Customer</td><td>1969</td><td>0</td></tr>",
                            "<tr><td>2018</td><td>263</td><td>2018-08-22T14:08:20.729000</td><td>2018-08-22T14:22:49.791000</td><td>58</td><td>195</td><td>Customer</td><td>1994</td><td>2</td></tr>",
                            "<tr><td>2018</td><td>3867</td><td>2018-08-31T12:25:28.920000</td><td>2018-08-31T12:51:54.459000</td><td>4</td><td>46</td><td>Customer</td><td>1969</td><td>0</td></tr>",
                            "<tr><td>2018</td><td>3858</td><td>2018-09-18T08:56:39.216000</td><td>2018-09-18T09:06:55.254000</td><td>22</td><td>40</td><td>Subscriber</td><td>1984</td><td>1</td></tr>",
                            "<tr><td>2018</td><td>1007</td><td>2018-02-23T17:18:16</td><td>2018-02-23T17:29:47</td><td>77</td><td>74</td><td>Subscriber</td><td>1979.0</td><td>1</td></tr>",
                            "<tr><td>2018</td><td>1335</td><td>2018-04-23T18:55:42.278000</td><td>2018-04-23T19:01:25.781000</td><td>75</td><td>53</td><td>Subscriber</td><td>1988</td><td>1</td></tr>",
                            "<tr><td>2019</td><td>4919</td><td>2019-09-15T23:36:00.810000</td><td>2019-09-15T23:47:54.926000</td><td>330</td><td>180</td><td>Subscriber</td><td>1987</td><td>1</td></tr>",
                            "<tr><td>2019</td><td>2090</td><td>2019-10-20T19:55:00.417000</td><td>2019-10-20T20:06:43.661000</td><td>42</td><td>22</td><td>Customer</td><td>1997</td><td>2</td></tr>",
                            "<tr><td>2019</td><td>1462</td><td>2019-01-08T08:40:12.875000</td><td>2019-01-08T08:44:40.077000</td><td>180</td><td>73</td><td>Subscriber</td><td>1985</td><td>1</td></tr>",
                            "<tr><td>2019</td><td>6091</td><td>2019-10-08T15:29:23.410000</td><td>2019-10-08T15:35:04.318000</td><td>159</td><td>131</td><td>Subscriber</td><td>1984</td><td>2</td></tr>",
                            "<tr><td>2018</td><td>2494</td><td>2018-11-27T09:58:03.393000</td><td>2018-11-27T10:02:38.831000</td><td>110</td><td>70</td><td>Subscriber</td><td>1991</td><td>1</td></tr>",
                            "<tr><td>2019</td><td>2186</td><td>2019-09-26T14:41:21.726000</td><td>2019-09-26T14:50:21.746000</td><td>96</td><td>76</td><td>Subscriber</td><td>1995</td><td>1</td></tr>",
                            "<tr><td>2019</td><td>2835</td><td>2019-06-10T10:13:35.023000</td><td>2019-06-10T10:20:15.066000</td><td>100</td><td>118</td><td>Subscriber</td><td>1961</td><td>2</td></tr>",
                            "<tr><td>2018</td><td>3735</td><td>2018-09-14T11:51:44.952000</td><td>2018-09-14T11:59:45.547000</td><td>20</td><td>35</td><td>Subscriber</td><td>1986</td><td>2</td></tr>",
                            "<tr><td>2019</td><td>5586</td><td>2019-08-08T22:15:08.488000</td><td>2019-08-08T22:21:25.690000</td><td>328</td><td>111</td><td>Subscriber</td><td>1986</td><td>1</td></tr>",
                            "<tr><td>2019</td><td>3657</td><td>2019-12-12T15:25:30.088000</td><td>2019-12-12T15:38:45.235000</td><td>117</td><td>94</td><td>Subscriber</td><td>1983</td><td>2</td></tr>",
                            "<tr><td>2019</td><td>6131</td><td>2019-10-15T07:45:29.354000</td><td>2019-10-15T07:55:21.826000</td><td>43</td><td>42</td><td>Subscriber</td><td>1980</td><td>1</td></tr>",
                            "<tr><td>2018</td><td>2174</td><td>2018-07-17T08:38:03.928000</td><td>2018-07-17T08:42:38.695000</td><td>152</td><td>59</td><td>Subscriber</td><td>1987</td><td>1</td></tr>",
                            "<tr><td>2018</td><td>804</td><td>2018-05-11T17:01:02.832000</td><td>2018-05-11T17:21:00.428000</td><td>84</td><td>10</td><td>Subscriber</td><td>1984</td><td>1</td></tr>",
                            "<tr><td>2019</td><td>2932</td><td>2019-07-26T12:12:45.178000</td><td>2019-07-26T12:25:45.515000</td><td>381</td><td>189</td><td>Subscriber</td><td>1994</td><td>1</td></tr>",
                            "<tr><td>2019</td><td>1383</td><td>2019-06-02T16:30:36.838000</td><td>2019-06-02T16:54:42.654000</td><td>58</td><td>16</td><td>Customer</td><td>1969</td><td>0</td></tr>",
                            "<tr><td>2019</td><td>6074</td><td>2019-10-03T15:13:39.253000</td><td>2019-10-03T15:20:04.079000</td><td>218</td><td>22</td><td>Subscriber</td><td>1981</td><td>1</td></tr>",
                            "<tr><td>2018</td><td>2090</td><td>2018-09-02T19:03:17.459000</td><td>2018-09-02T19:38:23.680000</td><td>206</td><td>20</td><td>Customer</td><td>1969</td><td>0</td></tr>",
                            "<tr><td>2019</td><td>3717</td><td>2019-08-08T17:46:56.668000</td><td>2019-08-08T18:02:59.454000</td><td>14</td><td>332</td><td>Subscriber</td><td>1991</td><td>1</td></tr>",
                            "<tr><td>2019</td><td>1616</td><td>2019-05-07T11:57:45.151000</td><td>2019-05-07T12:11:49.907000</td><td>6</td><td>68</td><td>Subscriber</td><td>1979</td><td>2</td></tr>",
                            "<tr><td>2019</td><td>2973</td><td>2019-01-28T12:06:24.955000</td><td>2019-01-28T12:18:10.586000</td><td>46</td><td>75</td><td>Subscriber</td><td>1995</td><td>1</td></tr>",
                            "<tr><td>2019</td><td>3562</td><td>2019-04-28T15:20:17.689000</td><td>2019-04-28T15:26:27.944000</td><td>185</td><td>91</td><td>Subscriber</td><td>1987</td><td>0</td></tr>",
                            "<tr><td>2019</td><td>2186</td><td>2019-10-07T16:52:42.690000</td><td>2019-10-07T17:06:53.992000</td><td>67</td><td>105</td><td>Subscriber</td><td>1995</td><td>1</td></tr>",
                            "<tr><td>2019</td><td>3446</td><td>2019-08-16T17:08:08.190000</td><td>2019-08-16T17:58:33.985000</td><td>68</td><td>116</td><td>Subscriber</td><td>1982</td><td>2</td></tr>",
                            "<tr><td>2018</td><td>11</td><td>2018-06-27T16:36:09.273000</td><td>2018-06-27T16:52:28.959000</td><td>91</td><td>33</td><td>Subscriber</td><td>1984</td><td>1</td></tr>",
                            "<tr><td>2019</td><td>3206</td><td>2019-10-24T10:57:55.950000</td><td>2019-10-24T11:07:19.965000</td><td>68</td><td>141</td><td>Subscriber</td><td>1979</td><td>2</td></tr>",
                            "<tr><td>2018</td><td>1113</td><td>2018-02-22T14:36:08</td><td>2018-02-22T14:45:20</td><td>179</td><td>91</td><td>Subscriber</td><td>1990.0</td><td>1</td></tr>",
                            "<tr><td>2018</td><td>3169</td><td>2018-07-18T00:16:03.289000</td><td>2018-07-18T00:26:11.002000</td><td>27</td><td>204</td><td>Customer</td><td>1969</td><td>0</td></tr>",
                            "<tr><td>2019</td><td>3879</td><td>2019-09-30T16:27:02.657000</td><td>2019-09-30T16:50:59.936000</td><td>372</td><td>338</td><td>Customer</td><td>1986</td><td>1</td></tr>",
                            "<tr><td>2018</td><td>2978</td><td>2018-07-17T07:49:00.420000</td><td>2018-07-17T08:05:21.362000</td><td>133</td><td>5</td><td>Subscriber</td><td>1984</td><td>1</td></tr>",
                            "<tr><td>2019</td><td>5101</td><td>2019-11-21T06:47:22.350000</td><td>2019-11-21T06:51:39.987000</td><td>40</td><td>192</td><td>Subscriber</td><td>1991</td><td>1</td></tr>",
                            "<tr><td>2019</td><td>2842</td><td>2019-08-07T20:53:01.256000</td><td>2019-08-07T21:02:35.107000</td><td>107</td><td>116</td><td>Subscriber</td><td>1945</td><td>1</td></tr>",
                            "<tr><td>2018</td><td>2076</td><td>2018-05-13T03:38:17.073000</td><td>2018-05-13T03:56:10.711000</td><td>30</td><td>53</td><td>Subscriber</td><td>1987</td><td>1</td></tr>",
                            "<tr><td>2018</td><td>88</td><td>2018-05-02T07:50:24.730000</td><td>2018-05-02T08:11:57.235000</td><td>32</td><td>143</td><td>Subscriber</td><td>1993</td><td>2</td></tr>",
                            "<tr><td>2019</td><td>3050</td><td>2019-04-23T07:39:04.375000</td><td>2019-04-23T07:45:03.010000</td><td>76</td><td>67</td><td>Subscriber</td><td>1994</td><td>1</td></tr>",
                            "<tr><td>2018</td><td>2167</td><td>2018-07-31T08:59:57.702000</td><td>2018-07-31T09:32:18.661000</td><td>33</td><td>97</td><td>Customer</td><td>1994</td><td>2</td></tr>",
                            "<tr><td>2019</td><td>4794</td><td>2019-07-29T11:48:25.621000</td><td>2019-07-29T12:00:43.099000</td><td>3</td><td>67</td><td>Customer</td><td>1994</td><td>1</td></tr>",
                            "<tr><td>2018</td><td>3917</td><td>2018-10-10T14:47:16.517000</td><td>2018-10-10T14:50:42.309000</td><td>55</td><td>53</td><td>Subscriber</td><td>1997</td><td>1</td></tr>",
                            "<tr><td>2019</td><td>3497</td><td>2019-07-24T13:44:45.647000</td><td>2019-07-24T13:51:31.623000</td><td>192</td><td>48</td><td>Subscriber</td><td>1984</td><td>1</td></tr>",
                            "<tr><td>2019</td><td>2823</td><td>2019-04-28T12:26:27.676000</td><td>2019-04-28T13:00:03.540000</td><td>52</td><td>53</td><td>Subscriber</td><td>1989</td><td>2</td></tr>",
                            "<tr><td>2019</td><td>5594</td><td>2019-08-30T08:54:04.658000</td><td>2019-08-30T09:07:55.731000</td><td>113</td><td>136</td><td>Customer</td><td>1996</td><td>2</td></tr>",
                            "<tr><td>2019</td><td>6104</td><td>2019-10-25T22:22:05.840000</td><td>2019-10-25T22:33:01.876000</td><td>386</td><td>29</td><td>Subscriber</td><td>1991</td><td>2</td></tr>",
                            "<tr><td>2019</td><td>2744</td><td>2019-10-10T07:26:45.854000</td><td>2019-10-10T07:36:41.087000</td><td>190</td><td>43</td><td>Subscriber</td><td>1978</td><td>1</td></tr>",
                            "<tr><td>2018</td><td>3049</td><td>2018-09-03T14:35:32.427000</td><td>2018-09-03T15:16:04.727000</td><td>45</td><td>5</td><td>Customer</td><td>1969</td><td>0</td></tr>",
                            "<tr><td>2018</td><td>558</td><td>2018-02-28T11:08:56</td><td>2018-02-28T11:17:12</td><td>60</td><td>36</td><td>Subscriber</td><td>1985.0</td><td>1</td></tr>",
                            "<tr><td>2018</td><td>1137</td><td>2018-02-22T08:38:43</td><td>2018-02-22T08:46:16</td><td>116</td><td>189</td><td>Subscriber</td><td>1989.0</td><td>1</td></tr>",
                            "<tr><td>2019</td><td>2514</td><td>2019-02-08T18:20:14.123000</td><td>2019-02-08T18:22:28.169000</td><td>380</td><td>80</td><td>Subscriber</td><td>1960</td><td>1</td></tr>",
                            "<tr><td>2019</td><td>2899</td><td>2019-08-21T20:15:23.728000</td><td>2019-08-21T20:30:10.209000</td><td>22</td><td>98</td><td>Subscriber</td><td>1988</td><td>2</td></tr>",
                            "<tr><td>2019</td><td>4501</td><td>2019-03-23T14:19:57.943000</td><td>2019-03-23T14:25:04.645000</td><td>184</td><td>105</td><td>Subscriber</td><td>1997</td><td>1</td></tr>",
                            "<tr><td>2019</td><td>4558</td><td>2019-11-01T16:06:42.065000</td><td>2019-11-01T16:16:36.859000</td><td>13</td><td>50</td><td>Subscriber</td><td>1972</td><td>1</td></tr>",
                            "<tr><td>2019</td><td>2661</td><td>2019-06-03T17:48:37.325000</td><td>2019-06-03T18:30:58.702000</td><td>334</td><td>120</td><td>Customer</td><td>1983</td><td>0</td></tr>",
                            "<tr><td>2019</td><td>2018</td><td>2019-09-09T22:09:13.222000</td><td>2019-09-09T22:55:28.706000</td><td>189</td><td>41</td><td>Subscriber</td><td>1994</td><td>2</td></tr>",
                            "<tr><td>2019</td><td>4000</td><td>2019-11-26T11:41:53.627000</td><td>2019-11-26T12:02:45.182000</td><td>44</td><td>189</td><td>Subscriber</td><td>1995</td><td>1</td></tr>",
                            "<tr><td>2019</td><td>3846</td><td>2019-01-26T23:11:10.896000</td><td>2019-01-26T23:52:03.758000</td><td>46</td><td>173</td><td>Customer</td><td>2000</td><td>2</td></tr>",
                            "<tr><td>2018</td><td>612</td><td>2018-04-21T16:21:46.514000</td><td>2018-04-21T16:42:29.930000</td><td>4</td><td>76</td><td>Subscriber</td><td>1993</td><td>1</td></tr>",
                            "<tr><td>2018</td><td>722</td><td>2018-03-19T00:02:58</td><td>2018-03-19T00:07:50</td><td>100</td><td>118</td><td>Subscriber</td><td>1964.0</td><td>1</td></tr>",
                            "<tr><td>2018</td><td>2233</td><td>2018-07-27T07:12:35.528000</td><td>2018-07-27T07:20:13.724000</td><td>157</td><td>135</td><td>Subscriber</td><td>1959</td><td>1</td></tr>",
                            "<tr><td>2019</td><td>2764</td><td>2019-07-01T19:18:43.009000</td><td>2019-07-01T19:24:01.206000</td><td>53</td><td>80</td><td>Subscriber</td><td>1982</td><td>2</td></tr>",
                            "<tr><td>2019</td><td>4410</td><td>2019-07-12T19:52:33.777000</td><td>2019-07-12T19:57:47.738000</td><td>105</td><td>87</td><td>Subscriber</td><td>1992</td><td>1</td></tr>",
                            "<tr><td>2019</td><td>5427</td><td>2019-07-24T06:56:58.695000</td><td>2019-07-24T07:01:32.985000</td><td>22</td><td>218</td><td>Subscriber</td><td>1965</td><td>1</td></tr>",
                            "<tr><td>2018</td><td>3142</td><td>2018-08-01T11:34:36.308000</td><td>2018-08-01T11:57:48.825000</td><td>40</td><td>160</td><td>Subscriber</td><td>1966</td><td>1</td></tr>",
                            "<tr><td>2018</td><td>838</td><td>2018-05-11T08:07:55.573000</td><td>2018-05-11T08:15:14.051000</td><td>47</td><td>54</td><td>Subscriber</td><td>1992</td><td>1</td></tr>",
                            "<tr><td>2018</td><td>858</td><td>2018-06-11T06:52:02.157000</td><td>2018-06-11T06:59:31.450000</td><td>118</td><td>137</td><td>Subscriber</td><td>1987</td><td>1</td></tr>",
                            "<tr><td>2019</td><td>2985</td><td>2019-01-09T17:34:09.734000</td><td>2019-01-09T17:56:18.786000</td><td>108</td><td>374</td><td>Subscriber</td><td>1958</td><td>1</td></tr>",
                            "<tr><td>2019</td><td>2853</td><td>2019-03-09T13:37:52.852000</td><td>2019-03-09T13:38:58.468000</td><td>361</td><td>361</td><td>Subscriber</td><td>1989</td><td>1</td></tr>",
                            "<tr><td>2019</td><td>2286</td><td>2019-04-03T16:59:30.406000</td><td>2019-04-03T17:05:15.442000</td><td>30</td><td>27</td><td>Subscriber</td><td>1988</td><td>2</td></tr>",
                            "<tr><td>2019</td><td>2377</td><td>2019-08-24T02:09:00.518000</td><td>2019-08-24T02:23:51.255000</td><td>54</td><td>228</td><td>Subscriber</td><td>1991</td><td>1</td></tr>",
                            "<tr><td>2018</td><td>2166</td><td>2018-11-15T08:25:26.886000</td><td>2018-11-15T08:42:59.468000</td><td>151</td><td>91</td><td>Subscriber</td><td>1987</td><td>2</td></tr>",
                            "<tr><td>2018</td><td>3849</td><td>2018-08-15T17:30:45.686000</td><td>2018-08-15T17:40:59.935000</td><td>179</td><td>80</td><td>Subscriber</td><td>1996</td><td>1</td></tr>",
                            "<tr><td>2019</td><td>3195</td><td>2019-10-24T12:39:26.211000</td><td>2019-10-24T12:43:11.901000</td><td>53</td><td>67</td><td>Subscriber</td><td>1998</td><td>1</td></tr>",
                            "<tr><td>2018</td><td>3246</td><td>2018-06-25T17:46:31.717000</td><td>2018-06-25T17:57:23.269000</td><td>4</td><td>190</td><td>Subscriber</td><td>1983</td><td>1</td></tr>",
                            "<tr><td>2018</td><td>3727</td><td>2018-08-29T16:39:12.482000</td><td>2018-08-29T16:45:52.407000</td><td>47</td><td>22</td><td>Subscriber</td><td>1960</td><td>1</td></tr>",
                            "<tr><td>2019</td><td>4011</td><td>2019-08-30T08:03:41.761000</td><td>2019-08-30T08:07:28.128000</td><td>350</td><td>271</td><td>Subscriber</td><td>1972</td><td>1</td></tr>",
                            "<tr><td>2019</td><td>2809</td><td>2019-08-16T13:21:50.976000</td><td>2019-08-16T13:36:44.948000</td><td>144</td><td>85</td><td>Subscriber</td><td>1964</td><td>1</td></tr>",
                            "<tr><td>2019</td><td>4044</td><td>2019-07-25T18:34:04.420000</td><td>2019-07-25T18:48:38.212000</td><td>376</td><td>74</td><td>Subscriber</td><td>1990</td><td>1</td></tr>",
                            "<tr><td>2019</td><td>2373</td><td>2019-07-09T08:37:54.067000</td><td>2019-07-09T08:44:43.963000</td><td>20</td><td>22</td><td>Subscriber</td><td>1969</td><td>1</td></tr>",
                            "<tr><td>2019</td><td>4705</td><td>2019-07-30T14:52:15.374000</td><td>2019-07-30T15:14:18.587000</td><td>372</td><td>119</td><td>Subscriber</td><td>1982</td><td>1</td></tr>",
                            "<tr><td>2019</td><td>2227</td><td>2019-12-31T15:44:32.862000</td><td>2019-12-31T15:52:08.224000</td><td>107</td><td>225</td><td>Subscriber</td><td>1986</td><td>1</td></tr>",
                            "<tr><td>2019</td><td>4471</td><td>2019-09-28T13:52:09.384000</td><td>2019-09-28T14:19:13.553000</td><td>40</td><td>228</td><td>Customer</td><td>1993</td><td>2</td></tr>",
                            "<tr><td>2019</td><td>3221</td><td>2019-07-12T10:41:44.908000</td><td>2019-07-12T10:56:40.978000</td><td>352</td><td>369</td><td>Subscriber</td><td>1967</td><td>1</td></tr>",
                            "<tr><td>2019</td><td>3414</td><td>2019-06-19T14:00:13.547000</td><td>2019-06-19T14:07:58.333000</td><td>41</td><td>10</td><td>Subscriber</td><td>1988</td><td>2</td></tr>",
                            "</table>"
                        ]
                    }
                }
            ],
            "execution_count": 15
        },
        {
            "cell_type": "code",
            "source": [
                "-- Rider type by category overall\n",
                "\n",
                "select user_type,\n",
                "count(*) / (cast(sum(count(*)) over() as float)) as percentage\n",
                "from bluebikes_2018\n",
                "group by user_type;\n",
                "\n",
                "\n",
                "select user_type,\n",
                "count(*) / (cast(sum(count(*)) over() as float)) as percentage\n",
                "from bluebikes_2019\n",
                "group by user_type;"
            ],
            "metadata": {
                "azdata_cell_guid": "12bb2717-e69e-4d08-a1c5-9cad64d1d010",
                "tags": []
            },
            "outputs": [
                {
                    "output_type": "display_data",
                    "data": {
                        "text/html": "(2 row(s) affected)"
                    },
                    "metadata": {}
                },
                {
                    "output_type": "display_data",
                    "data": {
                        "text/html": "(2 row(s) affected)"
                    },
                    "metadata": {}
                },
                {
                    "output_type": "display_data",
                    "data": {
                        "text/html": "Total execution time: 00:00:01.358"
                    },
                    "metadata": {}
                },
                {
                    "output_type": "execute_result",
                    "metadata": {},
                    "execution_count": 2,
                    "data": {
                        "application/vnd.dataresource+json": {
                            "schema": {
                                "fields": [
                                    {
                                        "name": "user_type"
                                    },
                                    {
                                        "name": "percentage"
                                    }
                                ]
                            },
                            "data": [
                                {
                                    "0": "Customer",
                                    "1": "0.18731071169574037"
                                },
                                {
                                    "0": "Subscriber",
                                    "1": "0.8126892883042597"
                                }
                            ]
                        },
                        "text/html": [
                            "<table>",
                            "<tr><th>user_type</th><th>percentage</th></tr>",
                            "<tr><td>Customer</td><td>0.18731071169574037</td></tr>",
                            "<tr><td>Subscriber</td><td>0.8126892883042597</td></tr>",
                            "</table>"
                        ]
                    }
                },
                {
                    "output_type": "execute_result",
                    "metadata": {},
                    "execution_count": 2,
                    "data": {
                        "application/vnd.dataresource+json": {
                            "schema": {
                                "fields": [
                                    {
                                        "name": "user_type"
                                    },
                                    {
                                        "name": "percentage"
                                    }
                                ]
                            },
                            "data": [
                                {
                                    "0": "Customer",
                                    "1": "0.21171939202477505"
                                },
                                {
                                    "0": "Subscriber",
                                    "1": "0.7882806079752249"
                                }
                            ]
                        },
                        "text/html": [
                            "<table>",
                            "<tr><th>user_type</th><th>percentage</th></tr>",
                            "<tr><td>Customer</td><td>0.21171939202477505</td></tr>",
                            "<tr><td>Subscriber</td><td>0.7882806079752249</td></tr>",
                            "</table>"
                        ]
                    }
                }
            ],
            "execution_count": 2
        },
        {
            "cell_type": "code",
            "source": [
                "-- Rider type by category by quarter\n",
                "\n",
                "with q as(\n",
                "    select user_type,\n",
                "    ntile(4) over(order by start_time) as quarter\n",
                "    from bluebikes_2018\n",
                "    )\n",
                "select user_type, quarter,\n",
                "count(*) as rides,\n",
                "count(*) / (cast(sum(count(*)) over(partition by quarter) as float)) as percentage\n",
                "from q\n",
                "group by quarter, user_type\n",
                "order by quarter, percentage desc;\n",
                "\n",
                "\n",
                "with q as(\n",
                "    select user_type,\n",
                "    ntile(4) over(order by start_time) as quarter\n",
                "    from bluebikes_2019\n",
                "    )\n",
                "select user_type, quarter,\n",
                "count(*) as rides,\n",
                "count(*) / (cast(sum(count(*)) over(partition by quarter) as float)) as percentage\n",
                "from q\n",
                "group by quarter, user_type\n",
                "order by quarter, percentage desc;"
            ],
            "metadata": {
                "azdata_cell_guid": "df75b57d-9fca-4c89-b623-7fb3be7faaeb"
            },
            "outputs": [
                {
                    "output_type": "display_data",
                    "data": {
                        "text/html": "(8 row(s) affected)"
                    },
                    "metadata": {}
                },
                {
                    "output_type": "display_data",
                    "data": {
                        "text/html": "(8 row(s) affected)"
                    },
                    "metadata": {}
                },
                {
                    "output_type": "display_data",
                    "data": {
                        "text/html": "Total execution time: 00:00:03.576"
                    },
                    "metadata": {}
                },
                {
                    "output_type": "execute_result",
                    "metadata": {},
                    "execution_count": 3,
                    "data": {
                        "application/vnd.dataresource+json": {
                            "schema": {
                                "fields": [
                                    {
                                        "name": "user_type"
                                    },
                                    {
                                        "name": "quarter"
                                    },
                                    {
                                        "name": "rides"
                                    },
                                    {
                                        "name": "percentage"
                                    }
                                ]
                            },
                            "data": [
                                {
                                    "0": "Subscriber",
                                    "1": "1",
                                    "2": "386792",
                                    "3": "0.8751900658895083"
                                },
                                {
                                    "0": "Customer",
                                    "1": "1",
                                    "2": "55160",
                                    "3": "0.12480993411049164"
                                },
                                {
                                    "0": "Subscriber",
                                    "1": "2",
                                    "2": "339276",
                                    "3": "0.7676761277242777"
                                },
                                {
                                    "0": "Customer",
                                    "1": "2",
                                    "2": "102676",
                                    "3": "0.23232387227572224"
                                },
                                {
                                    "0": "Subscriber",
                                    "1": "3",
                                    "2": "333140",
                                    "3": "0.7537939726349754"
                                },
                                {
                                    "0": "Customer",
                                    "1": "3",
                                    "2": "108811",
                                    "3": "0.24620602736502462"
                                },
                                {
                                    "0": "Subscriber",
                                    "1": "4",
                                    "2": "377469",
                                    "3": "0.8540969473991461"
                                },
                                {
                                    "0": "Customer",
                                    "1": "4",
                                    "2": "64482",
                                    "3": "0.14590305260085393"
                                }
                            ]
                        },
                        "text/html": [
                            "<table>",
                            "<tr><th>user_type</th><th>quarter</th><th>rides</th><th>percentage</th></tr>",
                            "<tr><td>Subscriber</td><td>1</td><td>386792</td><td>0.8751900658895083</td></tr>",
                            "<tr><td>Customer</td><td>1</td><td>55160</td><td>0.12480993411049164</td></tr>",
                            "<tr><td>Subscriber</td><td>2</td><td>339276</td><td>0.7676761277242777</td></tr>",
                            "<tr><td>Customer</td><td>2</td><td>102676</td><td>0.23232387227572224</td></tr>",
                            "<tr><td>Subscriber</td><td>3</td><td>333140</td><td>0.7537939726349754</td></tr>",
                            "<tr><td>Customer</td><td>3</td><td>108811</td><td>0.24620602736502462</td></tr>",
                            "<tr><td>Subscriber</td><td>4</td><td>377469</td><td>0.8540969473991461</td></tr>",
                            "<tr><td>Customer</td><td>4</td><td>64482</td><td>0.14590305260085393</td></tr>",
                            "</table>"
                        ]
                    }
                },
                {
                    "output_type": "execute_result",
                    "metadata": {},
                    "execution_count": 3,
                    "data": {
                        "application/vnd.dataresource+json": {
                            "schema": {
                                "fields": [
                                    {
                                        "name": "user_type"
                                    },
                                    {
                                        "name": "quarter"
                                    },
                                    {
                                        "name": "rides"
                                    },
                                    {
                                        "name": "percentage"
                                    }
                                ]
                            },
                            "data": [
                                {
                                    "0": "Subscriber",
                                    "1": "1",
                                    "2": "520314",
                                    "3": "0.8250636263448746"
                                },
                                {
                                    "0": "Customer",
                                    "1": "1",
                                    "2": "110321",
                                    "3": "0.17493637365512538"
                                },
                                {
                                    "0": "Subscriber",
                                    "1": "2",
                                    "2": "465746",
                                    "3": "0.7385361398211958"
                                },
                                {
                                    "0": "Customer",
                                    "1": "2",
                                    "2": "164888",
                                    "3": "0.2614638601788042"
                                },
                                {
                                    "0": "Subscriber",
                                    "1": "3",
                                    "2": "479890",
                                    "3": "0.7609643628475471"
                                },
                                {
                                    "0": "Customer",
                                    "1": "3",
                                    "2": "150744",
                                    "3": "0.23903563715245293"
                                },
                                {
                                    "0": "Subscriber",
                                    "1": "4",
                                    "2": "522517",
                                    "3": "0.8285582445602362"
                                },
                                {
                                    "0": "Customer",
                                    "1": "4",
                                    "2": "108117",
                                    "3": "0.17144175543976378"
                                }
                            ]
                        },
                        "text/html": [
                            "<table>",
                            "<tr><th>user_type</th><th>quarter</th><th>rides</th><th>percentage</th></tr>",
                            "<tr><td>Subscriber</td><td>1</td><td>520314</td><td>0.8250636263448746</td></tr>",
                            "<tr><td>Customer</td><td>1</td><td>110321</td><td>0.17493637365512538</td></tr>",
                            "<tr><td>Subscriber</td><td>2</td><td>465746</td><td>0.7385361398211958</td></tr>",
                            "<tr><td>Customer</td><td>2</td><td>164888</td><td>0.2614638601788042</td></tr>",
                            "<tr><td>Subscriber</td><td>3</td><td>479890</td><td>0.7609643628475471</td></tr>",
                            "<tr><td>Customer</td><td>3</td><td>150744</td><td>0.23903563715245293</td></tr>",
                            "<tr><td>Subscriber</td><td>4</td><td>522517</td><td>0.8285582445602362</td></tr>",
                            "<tr><td>Customer</td><td>4</td><td>108117</td><td>0.17144175543976378</td></tr>",
                            "</table>"
                        ]
                    }
                }
            ],
            "execution_count": 3
        },
        {
            "cell_type": "code",
            "source": [
                "-- Rider type by gender by month\n",
                "\n",
                "select\n",
                "case when user_gender = 1 then 'male' else 'female' end as gender,\n",
                "To_Char(start_time, 'Month') as month,\n",
                "count(*) as rides,\n",
                "round(count(*) / sum(count(*)) over(partition by To_Char(start_time, 'Month')), 4) * 100 as percentage\n",
                "from bluebikes_2018\n",
                "group by extract(month from start_time), month, gender\n",
                "order by extract(month from start_time), rides desc"
            ],
            "metadata": {
                "azdata_cell_guid": "99bbc616-3580-49f8-af23-1ce66bbb8aac"
            },
            "outputs": [
                {
                    "output_type": "display_data",
                    "data": {
                        "text/html": "(24 row(s) affected)"
                    },
                    "metadata": {}
                },
                {
                    "output_type": "display_data",
                    "data": {
                        "text/html": "Total execution time: 00:00:02.471"
                    },
                    "metadata": {}
                },
                {
                    "output_type": "execute_result",
                    "execution_count": 182,
                    "data": {
                        "application/vnd.dataresource+json": {
                            "schema": {
                                "fields": [
                                    {
                                        "name": "gender"
                                    },
                                    {
                                        "name": "month"
                                    },
                                    {
                                        "name": "rides"
                                    },
                                    {
                                        "name": "percentage"
                                    }
                                ]
                            },
                            "data": [
                                {
                                    "0": "male",
                                    "1": "January  ",
                                    "2": "30689",
                                    "3": "74.9800"
                                },
                                {
                                    "0": "female",
                                    "1": "January  ",
                                    "2": "10243",
                                    "3": "25.0200"
                                },
                                {
                                    "0": "male",
                                    "1": "February ",
                                    "2": "45380",
                                    "3": "72.2400"
                                },
                                {
                                    "0": "female",
                                    "1": "February ",
                                    "2": "17437",
                                    "3": "27.7600"
                                },
                                {
                                    "0": "male",
                                    "1": "March    ",
                                    "2": "44814",
                                    "3": "71.1500"
                                },
                                {
                                    "0": "female",
                                    "1": "March    ",
                                    "2": "18171",
                                    "3": "28.8500"
                                },
                                {
                                    "0": "male",
                                    "1": "April    ",
                                    "2": "65357",
                                    "3": "66.5600"
                                },
                                {
                                    "0": "female",
                                    "1": "April    ",
                                    "2": "32837",
                                    "3": "33.4400"
                                },
                                {
                                    "0": "male",
                                    "1": "May      ",
                                    "2": "113058",
                                    "3": "63.2100"
                                },
                                {
                                    "0": "female",
                                    "1": "May      ",
                                    "2": "65807",
                                    "3": "36.7900"
                                },
                                {
                                    "0": "male",
                                    "1": "June     ",
                                    "2": "127027",
                                    "3": "61.8600"
                                },
                                {
                                    "0": "female",
                                    "1": "June     ",
                                    "2": "78332",
                                    "3": "38.1400"
                                },
                                {
                                    "0": "male",
                                    "1": "July     ",
                                    "2": "146836",
                                    "3": "60.4500"
                                },
                                {
                                    "0": "female",
                                    "1": "July     ",
                                    "2": "96080",
                                    "3": "39.5500"
                                },
                                {
                                    "0": "male",
                                    "1": "August   ",
                                    "2": "144270",
                                    "3": "61.1100"
                                },
                                {
                                    "0": "female",
                                    "1": "August   ",
                                    "2": "91806",
                                    "3": "38.8900"
                                },
                                {
                                    "0": "male",
                                    "1": "September",
                                    "2": "146175",
                                    "3": "61.8900"
                                },
                                {
                                    "0": "female",
                                    "1": "September",
                                    "2": "90007",
                                    "3": "38.1100"
                                },
                                {
                                    "0": "male",
                                    "1": "October  ",
                                    "2": "134067",
                                    "3": "67.0000"
                                },
                                {
                                    "0": "female",
                                    "1": "October  ",
                                    "2": "66033",
                                    "3": "33.0000"
                                },
                                {
                                    "0": "male",
                                    "1": "November ",
                                    "2": "85108",
                                    "3": "70.0900"
                                },
                                {
                                    "0": "female",
                                    "1": "November ",
                                    "2": "36311",
                                    "3": "29.9100"
                                },
                                {
                                    "0": "male",
                                    "1": "December ",
                                    "2": "58954",
                                    "3": "71.9300"
                                },
                                {
                                    "0": "female",
                                    "1": "December ",
                                    "2": "23007",
                                    "3": "28.0700"
                                }
                            ]
                        },
                        "text/html": "<table><tr><th>gender</th><th>month</th><th>rides</th><th>percentage</th></tr><tr><td>male</td><td>January  </td><td>30689</td><td>74.9800</td></tr><tr><td>female</td><td>January  </td><td>10243</td><td>25.0200</td></tr><tr><td>male</td><td>February </td><td>45380</td><td>72.2400</td></tr><tr><td>female</td><td>February </td><td>17437</td><td>27.7600</td></tr><tr><td>male</td><td>March    </td><td>44814</td><td>71.1500</td></tr><tr><td>female</td><td>March    </td><td>18171</td><td>28.8500</td></tr><tr><td>male</td><td>April    </td><td>65357</td><td>66.5600</td></tr><tr><td>female</td><td>April    </td><td>32837</td><td>33.4400</td></tr><tr><td>male</td><td>May      </td><td>113058</td><td>63.2100</td></tr><tr><td>female</td><td>May      </td><td>65807</td><td>36.7900</td></tr><tr><td>male</td><td>June     </td><td>127027</td><td>61.8600</td></tr><tr><td>female</td><td>June     </td><td>78332</td><td>38.1400</td></tr><tr><td>male</td><td>July     </td><td>146836</td><td>60.4500</td></tr><tr><td>female</td><td>July     </td><td>96080</td><td>39.5500</td></tr><tr><td>male</td><td>August   </td><td>144270</td><td>61.1100</td></tr><tr><td>female</td><td>August   </td><td>91806</td><td>38.8900</td></tr><tr><td>male</td><td>September</td><td>146175</td><td>61.8900</td></tr><tr><td>female</td><td>September</td><td>90007</td><td>38.1100</td></tr><tr><td>male</td><td>October  </td><td>134067</td><td>67.0000</td></tr><tr><td>female</td><td>October  </td><td>66033</td><td>33.0000</td></tr><tr><td>male</td><td>November </td><td>85108</td><td>70.0900</td></tr><tr><td>female</td><td>November </td><td>36311</td><td>29.9100</td></tr><tr><td>male</td><td>December </td><td>58954</td><td>71.9300</td></tr><tr><td>female</td><td>December </td><td>23007</td><td>28.0700</td></tr></table>"
                    },
                    "metadata": {}
                }
            ],
            "execution_count": 182
        },
        {
            "cell_type": "code",
            "source": [
                "-- Rider type by gender by YEAR and month\n",
                "\n",
                "select\n",
                "case when user_gender = 1 then 'male' else 'female' end as gender,\n",
                "To_Char(start_time, 'YYYY') as year,\n",
                "To_Char(start_time, 'Month') as month,\n",
                "count(*) as rides,\n",
                "round(count(*) / sum(count(*)) over(partition by To_Char(start_time, 'Month')), 4) * 100 as percentage\n",
                "from bluebikes_combined\n",
                "group by extract(year from start_time), extract(month from start_time), year, month, gender\n",
                "order by extract(month from start_time), extract(year from start_time), rides desc"
            ],
            "metadata": {
                "azdata_cell_guid": "140fc212-07ce-4e74-ad84-abbf6288a70a"
            },
            "outputs": [
                {
                    "output_type": "display_data",
                    "data": {
                        "text/html": "(48 row(s) affected)"
                    },
                    "metadata": {}
                },
                {
                    "output_type": "display_data",
                    "data": {
                        "text/html": "Total execution time: 00:00:10.527"
                    },
                    "metadata": {}
                },
                {
                    "output_type": "execute_result",
                    "metadata": {},
                    "execution_count": 22,
                    "data": {
                        "application/vnd.dataresource+json": {
                            "schema": {
                                "fields": [
                                    {
                                        "name": "gender"
                                    },
                                    {
                                        "name": "year"
                                    },
                                    {
                                        "name": "month"
                                    },
                                    {
                                        "name": "rides"
                                    },
                                    {
                                        "name": "percentage"
                                    }
                                ]
                            },
                            "data": [
                                {
                                    "0": "male",
                                    "1": "2018",
                                    "2": "January  ",
                                    "3": "30689",
                                    "4": "27.7000"
                                },
                                {
                                    "0": "female",
                                    "1": "2018",
                                    "2": "January  ",
                                    "3": "10243",
                                    "4": "9.2400"
                                },
                                {
                                    "0": "male",
                                    "1": "2019",
                                    "2": "January  ",
                                    "3": "52134",
                                    "4": "47.0500"
                                },
                                {
                                    "0": "female",
                                    "1": "2019",
                                    "2": "January  ",
                                    "3": "17738",
                                    "4": "16.0100"
                                },
                                {
                                    "0": "male",
                                    "1": "2018",
                                    "2": "February ",
                                    "3": "45380",
                                    "4": "31.6700"
                                },
                                {
                                    "0": "female",
                                    "1": "2018",
                                    "2": "February ",
                                    "3": "17437",
                                    "4": "12.1700"
                                },
                                {
                                    "0": "male",
                                    "1": "2019",
                                    "2": "February ",
                                    "3": "59541",
                                    "4": "41.5500"
                                },
                                {
                                    "0": "female",
                                    "1": "2019",
                                    "2": "February ",
                                    "3": "20925",
                                    "4": "14.6000"
                                },
                                {
                                    "0": "male",
                                    "1": "2018",
                                    "2": "March    ",
                                    "3": "44814",
                                    "4": "27.1000"
                                },
                                {
                                    "0": "female",
                                    "1": "2018",
                                    "2": "March    ",
                                    "3": "18171",
                                    "4": "10.9900"
                                },
                                {
                                    "0": "male",
                                    "1": "2019",
                                    "2": "March    ",
                                    "3": "71803",
                                    "4": "43.4200"
                                },
                                {
                                    "0": "female",
                                    "1": "2019",
                                    "2": "March    ",
                                    "3": "30566",
                                    "4": "18.4900"
                                },
                                {
                                    "0": "male",
                                    "1": "2018",
                                    "2": "April    ",
                                    "3": "65357",
                                    "4": "24.6700"
                                },
                                {
                                    "0": "female",
                                    "1": "2018",
                                    "2": "April    ",
                                    "3": "32837",
                                    "4": "12.4000"
                                },
                                {
                                    "0": "male",
                                    "1": "2019",
                                    "2": "April    ",
                                    "3": "108715",
                                    "4": "41.0400"
                                },
                                {
                                    "0": "female",
                                    "1": "2019",
                                    "2": "April    ",
                                    "3": "57979",
                                    "4": "21.8900"
                                },
                                {
                                    "0": "male",
                                    "1": "2018",
                                    "2": "May      ",
                                    "3": "113058",
                                    "4": "28.1300"
                                },
                                {
                                    "0": "female",
                                    "1": "2018",
                                    "2": "May      ",
                                    "3": "65807",
                                    "4": "16.3700"
                                },
                                {
                                    "0": "male",
                                    "1": "2019",
                                    "2": "May      ",
                                    "3": "142125",
                                    "4": "35.3600"
                                },
                                {
                                    "0": "female",
                                    "1": "2019",
                                    "2": "May      ",
                                    "3": "80959",
                                    "4": "20.1400"
                                },
                                {
                                    "0": "male",
                                    "1": "2018",
                                    "2": "June     ",
                                    "3": "127027",
                                    "4": "26.5000"
                                },
                                {
                                    "0": "female",
                                    "1": "2018",
                                    "2": "June     ",
                                    "3": "78332",
                                    "4": "16.3400"
                                },
                                {
                                    "0": "male",
                                    "1": "2019",
                                    "2": "June     ",
                                    "3": "169448",
                                    "4": "35.3500"
                                },
                                {
                                    "0": "female",
                                    "1": "2019",
                                    "2": "June     ",
                                    "3": "104574",
                                    "4": "21.8100"
                                },
                                {
                                    "0": "male",
                                    "1": "2018",
                                    "2": "July     ",
                                    "3": "146836",
                                    "4": "26.2300"
                                },
                                {
                                    "0": "female",
                                    "1": "2018",
                                    "2": "July     ",
                                    "3": "96080",
                                    "4": "17.1600"
                                },
                                {
                                    "0": "male",
                                    "1": "2019",
                                    "2": "July     ",
                                    "3": "197689",
                                    "4": "35.3100"
                                },
                                {
                                    "0": "female",
                                    "1": "2019",
                                    "2": "July     ",
                                    "3": "119242",
                                    "4": "21.3000"
                                },
                                {
                                    "0": "male",
                                    "1": "2018",
                                    "2": "August   ",
                                    "3": "144270",
                                    "4": "25.1600"
                                },
                                {
                                    "0": "female",
                                    "1": "2018",
                                    "2": "August   ",
                                    "3": "91806",
                                    "4": "16.0100"
                                },
                                {
                                    "0": "male",
                                    "1": "2019",
                                    "2": "August   ",
                                    "3": "210825",
                                    "4": "36.7600"
                                },
                                {
                                    "0": "female",
                                    "1": "2019",
                                    "2": "August   ",
                                    "3": "126618",
                                    "4": "22.0800"
                                },
                                {
                                    "0": "male",
                                    "1": "2018",
                                    "2": "September",
                                    "3": "146175",
                                    "4": "24.3900"
                                },
                                {
                                    "0": "female",
                                    "1": "2018",
                                    "2": "September",
                                    "3": "90007",
                                    "4": "15.0200"
                                },
                                {
                                    "0": "male",
                                    "1": "2019",
                                    "2": "September",
                                    "3": "233011",
                                    "4": "38.8800"
                                },
                                {
                                    "0": "female",
                                    "1": "2019",
                                    "2": "September",
                                    "3": "130174",
                                    "4": "21.7200"
                                },
                                {
                                    "0": "male",
                                    "1": "2018",
                                    "2": "October  ",
                                    "3": "134067",
                                    "4": "26.5200"
                                },
                                {
                                    "0": "female",
                                    "1": "2018",
                                    "2": "October  ",
                                    "3": "66033",
                                    "4": "13.0600"
                                },
                                {
                                    "0": "male",
                                    "1": "2019",
                                    "2": "October  ",
                                    "3": "205371",
                                    "4": "40.6200"
                                },
                                {
                                    "0": "female",
                                    "1": "2019",
                                    "2": "October  ",
                                    "3": "100133",
                                    "4": "19.8000"
                                },
                                {
                                    "0": "male",
                                    "1": "2018",
                                    "2": "November ",
                                    "3": "85108",
                                    "4": "27.2600"
                                },
                                {
                                    "0": "female",
                                    "1": "2018",
                                    "2": "November ",
                                    "3": "36311",
                                    "4": "11.6300"
                                },
                                {
                                    "0": "male",
                                    "1": "2019",
                                    "2": "November ",
                                    "3": "133995",
                                    "4": "42.9200"
                                },
                                {
                                    "0": "female",
                                    "1": "2019",
                                    "2": "November ",
                                    "3": "56764",
                                    "4": "18.1800"
                                },
                                {
                                    "0": "male",
                                    "1": "2018",
                                    "2": "December ",
                                    "3": "58954",
                                    "4": "33.8500"
                                },
                                {
                                    "0": "female",
                                    "1": "2018",
                                    "2": "December ",
                                    "3": "23007",
                                    "4": "13.2100"
                                },
                                {
                                    "0": "male",
                                    "1": "2019",
                                    "2": "December ",
                                    "3": "67987",
                                    "4": "39.0400"
                                },
                                {
                                    "0": "female",
                                    "1": "2019",
                                    "2": "December ",
                                    "3": "24221",
                                    "4": "13.9100"
                                }
                            ]
                        },
                        "text/html": [
                            "<table>",
                            "<tr><th>gender</th><th>year</th><th>month</th><th>rides</th><th>percentage</th></tr>",
                            "<tr><td>male</td><td>2018</td><td>January  </td><td>30689</td><td>27.7000</td></tr>",
                            "<tr><td>female</td><td>2018</td><td>January  </td><td>10243</td><td>9.2400</td></tr>",
                            "<tr><td>male</td><td>2019</td><td>January  </td><td>52134</td><td>47.0500</td></tr>",
                            "<tr><td>female</td><td>2019</td><td>January  </td><td>17738</td><td>16.0100</td></tr>",
                            "<tr><td>male</td><td>2018</td><td>February </td><td>45380</td><td>31.6700</td></tr>",
                            "<tr><td>female</td><td>2018</td><td>February </td><td>17437</td><td>12.1700</td></tr>",
                            "<tr><td>male</td><td>2019</td><td>February </td><td>59541</td><td>41.5500</td></tr>",
                            "<tr><td>female</td><td>2019</td><td>February </td><td>20925</td><td>14.6000</td></tr>",
                            "<tr><td>male</td><td>2018</td><td>March    </td><td>44814</td><td>27.1000</td></tr>",
                            "<tr><td>female</td><td>2018</td><td>March    </td><td>18171</td><td>10.9900</td></tr>",
                            "<tr><td>male</td><td>2019</td><td>March    </td><td>71803</td><td>43.4200</td></tr>",
                            "<tr><td>female</td><td>2019</td><td>March    </td><td>30566</td><td>18.4900</td></tr>",
                            "<tr><td>male</td><td>2018</td><td>April    </td><td>65357</td><td>24.6700</td></tr>",
                            "<tr><td>female</td><td>2018</td><td>April    </td><td>32837</td><td>12.4000</td></tr>",
                            "<tr><td>male</td><td>2019</td><td>April    </td><td>108715</td><td>41.0400</td></tr>",
                            "<tr><td>female</td><td>2019</td><td>April    </td><td>57979</td><td>21.8900</td></tr>",
                            "<tr><td>male</td><td>2018</td><td>May      </td><td>113058</td><td>28.1300</td></tr>",
                            "<tr><td>female</td><td>2018</td><td>May      </td><td>65807</td><td>16.3700</td></tr>",
                            "<tr><td>male</td><td>2019</td><td>May      </td><td>142125</td><td>35.3600</td></tr>",
                            "<tr><td>female</td><td>2019</td><td>May      </td><td>80959</td><td>20.1400</td></tr>",
                            "<tr><td>male</td><td>2018</td><td>June     </td><td>127027</td><td>26.5000</td></tr>",
                            "<tr><td>female</td><td>2018</td><td>June     </td><td>78332</td><td>16.3400</td></tr>",
                            "<tr><td>male</td><td>2019</td><td>June     </td><td>169448</td><td>35.3500</td></tr>",
                            "<tr><td>female</td><td>2019</td><td>June     </td><td>104574</td><td>21.8100</td></tr>",
                            "<tr><td>male</td><td>2018</td><td>July     </td><td>146836</td><td>26.2300</td></tr>",
                            "<tr><td>female</td><td>2018</td><td>July     </td><td>96080</td><td>17.1600</td></tr>",
                            "<tr><td>male</td><td>2019</td><td>July     </td><td>197689</td><td>35.3100</td></tr>",
                            "<tr><td>female</td><td>2019</td><td>July     </td><td>119242</td><td>21.3000</td></tr>",
                            "<tr><td>male</td><td>2018</td><td>August   </td><td>144270</td><td>25.1600</td></tr>",
                            "<tr><td>female</td><td>2018</td><td>August   </td><td>91806</td><td>16.0100</td></tr>",
                            "<tr><td>male</td><td>2019</td><td>August   </td><td>210825</td><td>36.7600</td></tr>",
                            "<tr><td>female</td><td>2019</td><td>August   </td><td>126618</td><td>22.0800</td></tr>",
                            "<tr><td>male</td><td>2018</td><td>September</td><td>146175</td><td>24.3900</td></tr>",
                            "<tr><td>female</td><td>2018</td><td>September</td><td>90007</td><td>15.0200</td></tr>",
                            "<tr><td>male</td><td>2019</td><td>September</td><td>233011</td><td>38.8800</td></tr>",
                            "<tr><td>female</td><td>2019</td><td>September</td><td>130174</td><td>21.7200</td></tr>",
                            "<tr><td>male</td><td>2018</td><td>October  </td><td>134067</td><td>26.5200</td></tr>",
                            "<tr><td>female</td><td>2018</td><td>October  </td><td>66033</td><td>13.0600</td></tr>",
                            "<tr><td>male</td><td>2019</td><td>October  </td><td>205371</td><td>40.6200</td></tr>",
                            "<tr><td>female</td><td>2019</td><td>October  </td><td>100133</td><td>19.8000</td></tr>",
                            "<tr><td>male</td><td>2018</td><td>November </td><td>85108</td><td>27.2600</td></tr>",
                            "<tr><td>female</td><td>2018</td><td>November </td><td>36311</td><td>11.6300</td></tr>",
                            "<tr><td>male</td><td>2019</td><td>November </td><td>133995</td><td>42.9200</td></tr>",
                            "<tr><td>female</td><td>2019</td><td>November </td><td>56764</td><td>18.1800</td></tr>",
                            "<tr><td>male</td><td>2018</td><td>December </td><td>58954</td><td>33.8500</td></tr>",
                            "<tr><td>female</td><td>2018</td><td>December </td><td>23007</td><td>13.2100</td></tr>",
                            "<tr><td>male</td><td>2019</td><td>December </td><td>67987</td><td>39.0400</td></tr>",
                            "<tr><td>female</td><td>2019</td><td>December </td><td>24221</td><td>13.9100</td></tr>",
                            "</table>"
                        ]
                    }
                }
            ],
            "execution_count": 22
        },
        {
            "cell_type": "code",
            "source": [
                "-- Riders by age group\n",
                "\n",
                "select \n",
                "count(1) as riders,\n",
                "-- 2018 - trunc(cast(user_birth_year as numeric), 0), # this is for sanity testing\n",
                "case \n",
                "    when (trunc(cast(user_birth_year as numeric), 0) || '-01-01')::timestamp > '2018-01-01'::timestamp - interval '12 years' then 'under_12'\n",
                "    when (trunc(cast(user_birth_year as numeric), 0) || '-01-01')::timestamp > '2018-01-01'::timestamp - interval '20 years' then 'teenager'\n",
                "    when (trunc(cast(user_birth_year as numeric), 0) || '-01-01')::timestamp > '2018-01-01'::timestamp - interval '30 years' then '20s'\n",
                "    when (trunc(cast(user_birth_year as numeric), 0) || '-01-01')::timestamp > '2018-01-01'::timestamp - interval '40 years' then '30s'\n",
                "    when (trunc(cast(user_birth_year as numeric), 0) || '-01-01')::timestamp > '2018-01-01'::timestamp - interval '50 years' then '40s'\n",
                "    when (trunc(cast(user_birth_year as numeric), 0) || '-01-01')::timestamp > '2018-01-01'::timestamp - interval '60 years' then '50s'\n",
                "    when (trunc(cast(user_birth_year as numeric), 0) || '-01-01')::timestamp > '2018-01-01'::timestamp - interval '70 years' then '60s'\n",
                "    when (trunc(cast(user_birth_year as numeric), 0) || '-01-01')::timestamp > '2018-01-01'::timestamp - interval '80 years' then '70s'\n",
                "    when (trunc(cast(user_birth_year as numeric), 0) || '-01-01')::timestamp > '2018-01-01'::timestamp - interval '90 years' then '80s'\n",
                "    when (trunc(cast(user_birth_year as numeric), 0) || '-01-01')::timestamp > '2018-01-01'::timestamp - interval '90 years' then '80s'\n",
                "    else 'older' end as age_group,\n",
                "round(count(1) / sum(count(1)) over(), 4) * 100 as percentage\n",
                "from bluebikes_2018\n",
                "group by age_group\n",
                "order by percentage desc\n",
                "-- limit 500"
            ],
            "metadata": {
                "azdata_cell_guid": "4e9e5ea3-cb02-49a9-8d80-08e0aced022b"
            },
            "outputs": [
                {
                    "output_type": "display_data",
                    "data": {
                        "text/html": "(9 row(s) affected)"
                    },
                    "metadata": {}
                },
                {
                    "output_type": "display_data",
                    "data": {
                        "text/html": "Total execution time: 00:00:04.440"
                    },
                    "metadata": {}
                },
                {
                    "output_type": "execute_result",
                    "execution_count": 183,
                    "data": {
                        "application/vnd.dataresource+json": {
                            "schema": {
                                "fields": [
                                    {
                                        "name": "riders"
                                    },
                                    {
                                        "name": "age_group"
                                    },
                                    {
                                        "name": "percentage"
                                    }
                                ]
                            },
                            "data": [
                                {
                                    "0": "699781",
                                    "1": "20s",
                                    "2": "39.5800"
                                },
                                {
                                    "0": "465235",
                                    "1": "30s",
                                    "2": "26.3200"
                                },
                                {
                                    "0": "383585",
                                    "1": "40s",
                                    "2": "21.7000"
                                },
                                {
                                    "0": "122924",
                                    "1": "50s",
                                    "2": "6.9500"
                                },
                                {
                                    "0": "48958",
                                    "1": "60s",
                                    "2": "2.7700"
                                },
                                {
                                    "0": "30925",
                                    "1": "teenager",
                                    "2": "1.7500"
                                },
                                {
                                    "0": "9994",
                                    "1": "older",
                                    "2": "0.5700"
                                },
                                {
                                    "0": "6125",
                                    "1": "70s",
                                    "2": "0.3500"
                                },
                                {
                                    "0": "279",
                                    "1": "80s",
                                    "2": "0.0200"
                                }
                            ]
                        },
                        "text/html": "<table><tr><th>riders</th><th>age_group</th><th>percentage</th></tr><tr><td>699781</td><td>20s</td><td>39.5800</td></tr><tr><td>465235</td><td>30s</td><td>26.3200</td></tr><tr><td>383585</td><td>40s</td><td>21.7000</td></tr><tr><td>122924</td><td>50s</td><td>6.9500</td></tr><tr><td>48958</td><td>60s</td><td>2.7700</td></tr><tr><td>30925</td><td>teenager</td><td>1.7500</td></tr><tr><td>9994</td><td>older</td><td>0.5700</td></tr><tr><td>6125</td><td>70s</td><td>0.3500</td></tr><tr><td>279</td><td>80s</td><td>0.0200</td></tr></table>"
                    },
                    "metadata": {}
                }
            ],
            "execution_count": 183
        },
        {
            "cell_type": "code",
            "source": [
                "-- Riders by gender and age group\n",
                "\n",
                "select count(1) as riders,\n",
                "       case\n",
                "           when user_gender = 1 then 'male'\n",
                "           when user_gender = 2 then 'female'\n",
                "           else 'unspecified'\n",
                "       end as gender, -- 2018 - trunc(cast(user_birth_year as numeric), 0), # this is for sanity testing\n",
                "case\n",
                "    when (trunc(cast(user_birth_year as numeric), 0) || '-01-01')::timestamp > '2018-01-01'::timestamp - interval '12 years' then 'under_12'\n",
                "    when (trunc(cast(user_birth_year as numeric), 0) || '-01-01')::timestamp > '2018-01-01'::timestamp - interval '20 years' then 'teenager'\n",
                "    when (trunc(cast(user_birth_year as numeric), 0) || '-01-01')::timestamp > '2018-01-01'::timestamp - interval '30 years' then '20s'\n",
                "    when (trunc(cast(user_birth_year as numeric), 0) || '-01-01')::timestamp > '2018-01-01'::timestamp - interval '40 years' then '30s'\n",
                "    when (trunc(cast(user_birth_year as numeric), 0) || '-01-01')::timestamp > '2018-01-01'::timestamp - interval '50 years' then '40s'\n",
                "    when (trunc(cast(user_birth_year as numeric), 0) || '-01-01')::timestamp > '2018-01-01'::timestamp - interval '60 years' then '50s'\n",
                "    when (trunc(cast(user_birth_year as numeric), 0) || '-01-01')::timestamp > '2018-01-01'::timestamp - interval '70 years' then '60s'\n",
                "    when (trunc(cast(user_birth_year as numeric), 0) || '-01-01')::timestamp > '2018-01-01'::timestamp - interval '80 years' then '70s'\n",
                "    when (trunc(cast(user_birth_year as numeric), 0) || '-01-01')::timestamp > '2018-01-01'::timestamp - interval '90 years' then '80s'\n",
                "    when (trunc(cast(user_birth_year as numeric), 0) || '-01-01')::timestamp > '2018-01-01'::timestamp - interval '90 years' then '80s'\n",
                "    else 'older'\n",
                "    end as age_group,\n",
                "round(count(1) / sum(count(1)) over(), 4) * 100 as percentage\n",
                "from bluebikes_2018\n",
                "group by age_group, gender\n",
                "order by age_group, gender -- limit 500"
            ],
            "metadata": {
                "azdata_cell_guid": "e33e4753-6d7d-41d0-bf2d-dd280f4e14f2"
            },
            "outputs": [
                {
                    "output_type": "display_data",
                    "data": {
                        "text/html": "(26 row(s) affected)"
                    },
                    "metadata": {}
                },
                {
                    "output_type": "display_data",
                    "data": {
                        "text/html": "Total execution time: 00:00:04.580"
                    },
                    "metadata": {}
                },
                {
                    "output_type": "execute_result",
                    "execution_count": 184,
                    "data": {
                        "application/vnd.dataresource+json": {
                            "schema": {
                                "fields": [
                                    {
                                        "name": "riders"
                                    },
                                    {
                                        "name": "gender"
                                    },
                                    {
                                        "name": "age_group"
                                    },
                                    {
                                        "name": "percentage"
                                    }
                                ]
                            },
                            "data": [
                                {
                                    "0": "198274",
                                    "1": "female",
                                    "2": "20s",
                                    "3": "11.2200"
                                },
                                {
                                    "0": "497868",
                                    "1": "male",
                                    "2": "20s",
                                    "3": "28.1600"
                                },
                                {
                                    "0": "3639",
                                    "1": "unspecified",
                                    "2": "20s",
                                    "3": "0.2100"
                                },
                                {
                                    "0": "111795",
                                    "1": "female",
                                    "2": "30s",
                                    "3": "6.3200"
                                },
                                {
                                    "0": "349456",
                                    "1": "male",
                                    "2": "30s",
                                    "3": "19.7700"
                                },
                                {
                                    "0": "3984",
                                    "1": "unspecified",
                                    "2": "30s",
                                    "3": "0.2300"
                                },
                                {
                                    "0": "35141",
                                    "1": "female",
                                    "2": "40s",
                                    "3": "1.9900"
                                },
                                {
                                    "0": "139249",
                                    "1": "male",
                                    "2": "40s",
                                    "3": "7.8800"
                                },
                                {
                                    "0": "209195",
                                    "1": "unspecified",
                                    "2": "40s",
                                    "3": "11.8300"
                                },
                                {
                                    "0": "32777",
                                    "1": "female",
                                    "2": "50s",
                                    "3": "1.8500"
                                },
                                {
                                    "0": "89445",
                                    "1": "male",
                                    "2": "50s",
                                    "3": "5.0600"
                                },
                                {
                                    "0": "702",
                                    "1": "unspecified",
                                    "2": "50s",
                                    "3": "0.0400"
                                },
                                {
                                    "0": "12369",
                                    "1": "female",
                                    "2": "60s",
                                    "3": "0.7000"
                                },
                                {
                                    "0": "36509",
                                    "1": "male",
                                    "2": "60s",
                                    "3": "2.0700"
                                },
                                {
                                    "0": "80",
                                    "1": "unspecified",
                                    "2": "60s",
                                    "3": "0.0000"
                                },
                                {
                                    "0": "817",
                                    "1": "female",
                                    "2": "70s",
                                    "3": "0.0500"
                                },
                                {
                                    "0": "5287",
                                    "1": "male",
                                    "2": "70s",
                                    "3": "0.3000"
                                },
                                {
                                    "0": "21",
                                    "1": "unspecified",
                                    "2": "70s",
                                    "3": "0.0000"
                                },
                                {
                                    "0": "3",
                                    "1": "female",
                                    "2": "80s",
                                    "3": "0.0000"
                                },
                                {
                                    "0": "276",
                                    "1": "male",
                                    "2": "80s",
                                    "3": "0.0200"
                                },
                                {
                                    "0": "34",
                                    "1": "female",
                                    "2": "older",
                                    "3": "0.0000"
                                },
                                {
                                    "0": "212",
                                    "1": "male",
                                    "2": "older",
                                    "3": "0.0100"
                                },
                                {
                                    "0": "9748",
                                    "1": "unspecified",
                                    "2": "older",
                                    "3": "0.5500"
                                },
                                {
                                    "0": "7184",
                                    "1": "female",
                                    "2": "teenager",
                                    "3": "0.4100"
                                },
                                {
                                    "0": "23433",
                                    "1": "male",
                                    "2": "teenager",
                                    "3": "1.3300"
                                },
                                {
                                    "0": "308",
                                    "1": "unspecified",
                                    "2": "teenager",
                                    "3": "0.0200"
                                }
                            ]
                        },
                        "text/html": "<table><tr><th>riders</th><th>gender</th><th>age_group</th><th>percentage</th></tr><tr><td>198274</td><td>female</td><td>20s</td><td>11.2200</td></tr><tr><td>497868</td><td>male</td><td>20s</td><td>28.1600</td></tr><tr><td>3639</td><td>unspecified</td><td>20s</td><td>0.2100</td></tr><tr><td>111795</td><td>female</td><td>30s</td><td>6.3200</td></tr><tr><td>349456</td><td>male</td><td>30s</td><td>19.7700</td></tr><tr><td>3984</td><td>unspecified</td><td>30s</td><td>0.2300</td></tr><tr><td>35141</td><td>female</td><td>40s</td><td>1.9900</td></tr><tr><td>139249</td><td>male</td><td>40s</td><td>7.8800</td></tr><tr><td>209195</td><td>unspecified</td><td>40s</td><td>11.8300</td></tr><tr><td>32777</td><td>female</td><td>50s</td><td>1.8500</td></tr><tr><td>89445</td><td>male</td><td>50s</td><td>5.0600</td></tr><tr><td>702</td><td>unspecified</td><td>50s</td><td>0.0400</td></tr><tr><td>12369</td><td>female</td><td>60s</td><td>0.7000</td></tr><tr><td>36509</td><td>male</td><td>60s</td><td>2.0700</td></tr><tr><td>80</td><td>unspecified</td><td>60s</td><td>0.0000</td></tr><tr><td>817</td><td>female</td><td>70s</td><td>0.0500</td></tr><tr><td>5287</td><td>male</td><td>70s</td><td>0.3000</td></tr><tr><td>21</td><td>unspecified</td><td>70s</td><td>0.0000</td></tr><tr><td>3</td><td>female</td><td>80s</td><td>0.0000</td></tr><tr><td>276</td><td>male</td><td>80s</td><td>0.0200</td></tr><tr><td>34</td><td>female</td><td>older</td><td>0.0000</td></tr><tr><td>212</td><td>male</td><td>older</td><td>0.0100</td></tr><tr><td>9748</td><td>unspecified</td><td>older</td><td>0.5500</td></tr><tr><td>7184</td><td>female</td><td>teenager</td><td>0.4100</td></tr><tr><td>23433</td><td>male</td><td>teenager</td><td>1.3300</td></tr><tr><td>308</td><td>unspecified</td><td>teenager</td><td>0.0200</td></tr></table>"
                    },
                    "metadata": {}
                }
            ],
            "execution_count": 184
        },
        {
            "cell_type": "code",
            "source": [
                "-- Riders by gender and age group WORKING!!\n",
                "\n",
                "select riders,\n",
                "       gender,\n",
                "       age_group,\n",
                "       total_percent,\n",
                "       round(riders / sum(riders) over(partition by age_group), 4) * 100 as age_group_percent\n",
                "from\n",
                "    (select count(1) as riders,\n",
                "    case\n",
                "        when user_gender = 1 then 'male'\n",
                "        when user_gender = 2 then 'female'\n",
                "        else 'unspecified'\n",
                "    end as gender, \n",
                "    -- 2018 - trunc(cast(user_birth_year as numeric), 0), # this is for sanity testing\n",
                "    case\n",
                "        when (trunc(cast(user_birth_year as numeric), 0) || '-01-01')::timestamp > '2018-01-01'::timestamp - interval '12 years' then 'under_12'\n",
                "        when (trunc(cast(user_birth_year as numeric), 0) || '-01-01')::timestamp > '2018-01-01'::timestamp - interval '20 years' then 'teenager'\n",
                "        when (trunc(cast(user_birth_year as numeric), 0) || '-01-01')::timestamp > '2018-01-01'::timestamp - interval '30 years' then '20s'\n",
                "        when (trunc(cast(user_birth_year as numeric), 0) || '-01-01')::timestamp > '2018-01-01'::timestamp - interval '40 years' then '30s'\n",
                "        when (trunc(cast(user_birth_year as numeric), 0) || '-01-01')::timestamp > '2018-01-01'::timestamp - interval '50 years' then '40s'\n",
                "        when (trunc(cast(user_birth_year as numeric), 0) || '-01-01')::timestamp > '2018-01-01'::timestamp - interval '60 years' then '50s'\n",
                "        when (trunc(cast(user_birth_year as numeric), 0) || '-01-01')::timestamp > '2018-01-01'::timestamp - interval '70 years' then '60s'\n",
                "        when (trunc(cast(user_birth_year as numeric), 0) || '-01-01')::timestamp > '2018-01-01'::timestamp - interval '80 years' then '70s'\n",
                "        when (trunc(cast(user_birth_year as numeric), 0) || '-01-01')::timestamp > '2018-01-01'::timestamp - interval '90 years' then '80s'\n",
                "        when (trunc(cast(user_birth_year as numeric), 0) || '-01-01')::timestamp > '2018-01-01'::timestamp - interval '90 years' then '80s'\n",
                "        else 'older'\n",
                "    end as age_group,\n",
                "    round(count(1) / sum(count(1)) over(), 4) * 100 as total_percent\n",
                "    from bluebikes_2018\n",
                "    group by age_group, gender\n",
                "        order by age_group, gender\n",
                "        ) big\n",
                "\n",
                "group by age_group, gender, riders, total_percent\n",
                "order by age_group, gender"
            ],
            "metadata": {
                "azdata_cell_guid": "dd0cfaa5-c990-4cc6-91f5-7a7dbe1b293c"
            },
            "outputs": [
                {
                    "output_type": "display_data",
                    "data": {
                        "text/html": "(26 row(s) affected)"
                    },
                    "metadata": {}
                },
                {
                    "output_type": "display_data",
                    "data": {
                        "text/html": "Total execution time: 00:00:04.934"
                    },
                    "metadata": {}
                },
                {
                    "output_type": "execute_result",
                    "execution_count": 185,
                    "data": {
                        "application/vnd.dataresource+json": {
                            "schema": {
                                "fields": [
                                    {
                                        "name": "riders"
                                    },
                                    {
                                        "name": "gender"
                                    },
                                    {
                                        "name": "age_group"
                                    },
                                    {
                                        "name": "total_percent"
                                    },
                                    {
                                        "name": "age_group_percent"
                                    }
                                ]
                            },
                            "data": [
                                {
                                    "0": "198274",
                                    "1": "female",
                                    "2": "20s",
                                    "3": "11.2200",
                                    "4": "28.3300"
                                },
                                {
                                    "0": "497868",
                                    "1": "male",
                                    "2": "20s",
                                    "3": "28.1600",
                                    "4": "71.1500"
                                },
                                {
                                    "0": "3639",
                                    "1": "unspecified",
                                    "2": "20s",
                                    "3": "0.2100",
                                    "4": "0.5200"
                                },
                                {
                                    "0": "111795",
                                    "1": "female",
                                    "2": "30s",
                                    "3": "6.3200",
                                    "4": "24.0300"
                                },
                                {
                                    "0": "349456",
                                    "1": "male",
                                    "2": "30s",
                                    "3": "19.7700",
                                    "4": "75.1100"
                                },
                                {
                                    "0": "3984",
                                    "1": "unspecified",
                                    "2": "30s",
                                    "3": "0.2300",
                                    "4": "0.8600"
                                },
                                {
                                    "0": "35141",
                                    "1": "female",
                                    "2": "40s",
                                    "3": "1.9900",
                                    "4": "9.1600"
                                },
                                {
                                    "0": "139249",
                                    "1": "male",
                                    "2": "40s",
                                    "3": "7.8800",
                                    "4": "36.3000"
                                },
                                {
                                    "0": "209195",
                                    "1": "unspecified",
                                    "2": "40s",
                                    "3": "11.8300",
                                    "4": "54.5400"
                                },
                                {
                                    "0": "32777",
                                    "1": "female",
                                    "2": "50s",
                                    "3": "1.8500",
                                    "4": "26.6600"
                                },
                                {
                                    "0": "89445",
                                    "1": "male",
                                    "2": "50s",
                                    "3": "5.0600",
                                    "4": "72.7600"
                                },
                                {
                                    "0": "702",
                                    "1": "unspecified",
                                    "2": "50s",
                                    "3": "0.0400",
                                    "4": "0.5700"
                                },
                                {
                                    "0": "12369",
                                    "1": "female",
                                    "2": "60s",
                                    "3": "0.7000",
                                    "4": "25.2600"
                                },
                                {
                                    "0": "36509",
                                    "1": "male",
                                    "2": "60s",
                                    "3": "2.0700",
                                    "4": "74.5700"
                                },
                                {
                                    "0": "80",
                                    "1": "unspecified",
                                    "2": "60s",
                                    "3": "0.0000",
                                    "4": "0.1600"
                                },
                                {
                                    "0": "817",
                                    "1": "female",
                                    "2": "70s",
                                    "3": "0.0500",
                                    "4": "13.3400"
                                },
                                {
                                    "0": "5287",
                                    "1": "male",
                                    "2": "70s",
                                    "3": "0.3000",
                                    "4": "86.3200"
                                },
                                {
                                    "0": "21",
                                    "1": "unspecified",
                                    "2": "70s",
                                    "3": "0.0000",
                                    "4": "0.3400"
                                },
                                {
                                    "0": "3",
                                    "1": "female",
                                    "2": "80s",
                                    "3": "0.0000",
                                    "4": "1.0800"
                                },
                                {
                                    "0": "276",
                                    "1": "male",
                                    "2": "80s",
                                    "3": "0.0200",
                                    "4": "98.9200"
                                },
                                {
                                    "0": "34",
                                    "1": "female",
                                    "2": "older",
                                    "3": "0.0000",
                                    "4": "0.3400"
                                },
                                {
                                    "0": "212",
                                    "1": "male",
                                    "2": "older",
                                    "3": "0.0100",
                                    "4": "2.1200"
                                },
                                {
                                    "0": "9748",
                                    "1": "unspecified",
                                    "2": "older",
                                    "3": "0.5500",
                                    "4": "97.5400"
                                },
                                {
                                    "0": "7184",
                                    "1": "female",
                                    "2": "teenager",
                                    "3": "0.4100",
                                    "4": "23.2300"
                                },
                                {
                                    "0": "23433",
                                    "1": "male",
                                    "2": "teenager",
                                    "3": "1.3300",
                                    "4": "75.7700"
                                },
                                {
                                    "0": "308",
                                    "1": "unspecified",
                                    "2": "teenager",
                                    "3": "0.0200",
                                    "4": "1.0000"
                                }
                            ]
                        },
                        "text/html": "<table><tr><th>riders</th><th>gender</th><th>age_group</th><th>total_percent</th><th>age_group_percent</th></tr><tr><td>198274</td><td>female</td><td>20s</td><td>11.2200</td><td>28.3300</td></tr><tr><td>497868</td><td>male</td><td>20s</td><td>28.1600</td><td>71.1500</td></tr><tr><td>3639</td><td>unspecified</td><td>20s</td><td>0.2100</td><td>0.5200</td></tr><tr><td>111795</td><td>female</td><td>30s</td><td>6.3200</td><td>24.0300</td></tr><tr><td>349456</td><td>male</td><td>30s</td><td>19.7700</td><td>75.1100</td></tr><tr><td>3984</td><td>unspecified</td><td>30s</td><td>0.2300</td><td>0.8600</td></tr><tr><td>35141</td><td>female</td><td>40s</td><td>1.9900</td><td>9.1600</td></tr><tr><td>139249</td><td>male</td><td>40s</td><td>7.8800</td><td>36.3000</td></tr><tr><td>209195</td><td>unspecified</td><td>40s</td><td>11.8300</td><td>54.5400</td></tr><tr><td>32777</td><td>female</td><td>50s</td><td>1.8500</td><td>26.6600</td></tr><tr><td>89445</td><td>male</td><td>50s</td><td>5.0600</td><td>72.7600</td></tr><tr><td>702</td><td>unspecified</td><td>50s</td><td>0.0400</td><td>0.5700</td></tr><tr><td>12369</td><td>female</td><td>60s</td><td>0.7000</td><td>25.2600</td></tr><tr><td>36509</td><td>male</td><td>60s</td><td>2.0700</td><td>74.5700</td></tr><tr><td>80</td><td>unspecified</td><td>60s</td><td>0.0000</td><td>0.1600</td></tr><tr><td>817</td><td>female</td><td>70s</td><td>0.0500</td><td>13.3400</td></tr><tr><td>5287</td><td>male</td><td>70s</td><td>0.3000</td><td>86.3200</td></tr><tr><td>21</td><td>unspecified</td><td>70s</td><td>0.0000</td><td>0.3400</td></tr><tr><td>3</td><td>female</td><td>80s</td><td>0.0000</td><td>1.0800</td></tr><tr><td>276</td><td>male</td><td>80s</td><td>0.0200</td><td>98.9200</td></tr><tr><td>34</td><td>female</td><td>older</td><td>0.0000</td><td>0.3400</td></tr><tr><td>212</td><td>male</td><td>older</td><td>0.0100</td><td>2.1200</td></tr><tr><td>9748</td><td>unspecified</td><td>older</td><td>0.5500</td><td>97.5400</td></tr><tr><td>7184</td><td>female</td><td>teenager</td><td>0.4100</td><td>23.2300</td></tr><tr><td>23433</td><td>male</td><td>teenager</td><td>1.3300</td><td>75.7700</td></tr><tr><td>308</td><td>unspecified</td><td>teenager</td><td>0.0200</td><td>1.0000</td></tr></table>"
                    },
                    "metadata": {}
                }
            ],
            "execution_count": 185
        },
        {
            "cell_type": "code",
            "source": [
                "-- Percentage by gender\n",
                "\n",
                "select\n",
                "case when user_gender = 1 then 'male' \n",
                "    when user_gender = 2 then 'female'\n",
                "    else 'unspecified' end as gender,\n",
                "count(1),\n",
                "round(count(1) / sum(count(1)) over(), 6) * 100 as percentage\n",
                "from bluebikes_2018\n",
                "group by user_gender"
            ],
            "metadata": {
                "azdata_cell_guid": "3500349e-2b2b-4370-9f82-681d22c49790"
            },
            "outputs": [
                {
                    "output_type": "display_data",
                    "data": {
                        "text/html": "(3 row(s) affected)"
                    },
                    "metadata": {}
                },
                {
                    "output_type": "display_data",
                    "data": {
                        "text/html": "Total execution time: 00:00:00.993"
                    },
                    "metadata": {}
                },
                {
                    "output_type": "execute_result",
                    "execution_count": 186,
                    "data": {
                        "application/vnd.dataresource+json": {
                            "schema": {
                                "fields": [
                                    {
                                        "name": "gender"
                                    },
                                    {
                                        "name": "count"
                                    },
                                    {
                                        "name": "percentage"
                                    }
                                ]
                            },
                            "data": [
                                {
                                    "0": "unspecified",
                                    "1": "227677",
                                    "2": "12.879100"
                                },
                                {
                                    "0": "male",
                                    "1": "1141735",
                                    "2": "64.584900"
                                },
                                {
                                    "0": "female",
                                    "1": "398394",
                                    "2": "22.536100"
                                }
                            ]
                        },
                        "text/html": "<table><tr><th>gender</th><th>count</th><th>percentage</th></tr><tr><td>unspecified</td><td>227677</td><td>12.879100</td></tr><tr><td>male</td><td>1141735</td><td>64.584900</td></tr><tr><td>female</td><td>398394</td><td>22.536100</td></tr></table>"
                    },
                    "metadata": {}
                }
            ],
            "execution_count": 186
        },
        {
            "cell_type": "code",
            "source": [
                "-- Days of the week percent change 2018 2019\n",
                "with \n",
                "dow2018 as(\n",
                "    select count(1) as riders,\n",
                "    To_Char(start_time, 'Day') as weekday\n",
                "    from bluebikes_2018\n",
                "    group by weekday\n",
                "    order by riders desc\n",
                "),\n",
                "\n",
                "dow2019 as(\n",
                "    select count(1) as riders,\n",
                "    To_Char(start_time, 'Day') as weekday\n",
                "    from bluebikes_2019\n",
                "    group by weekday\n",
                "    order by riders desc\n",
                ")\n",
                "\n",
                "select \n",
                "dow2018.weekday,\n",
                "dow2018.riders as riders2018,\n",
                "dow2019.riders as riders2019,\n",
                "dow2019.riders - dow2018.riders as riders_change,\n",
                "round((dow2019.riders - dow2018.riders)::NUMERIC / dow2018.riders, 4) * 100 || ' %' as riders_percent_change\n",
                "\n",
                "from dow2018\n",
                "join dow2019 on dow2018.weekday = dow2019.weekday\n",
                ""
            ],
            "metadata": {
                "azdata_cell_guid": "f1464007-2542-4f27-890e-2e370f046ffd"
            },
            "outputs": [
                {
                    "output_type": "display_data",
                    "data": {
                        "text/html": "(7 row(s) affected)"
                    },
                    "metadata": {}
                },
                {
                    "output_type": "display_data",
                    "data": {
                        "text/html": "Total execution time: 00:00:01.668"
                    },
                    "metadata": {}
                },
                {
                    "output_type": "execute_result",
                    "metadata": {},
                    "execution_count": 35,
                    "data": {
                        "application/vnd.dataresource+json": {
                            "schema": {
                                "fields": [
                                    {
                                        "name": "weekday"
                                    },
                                    {
                                        "name": "riders2018"
                                    },
                                    {
                                        "name": "riders2019"
                                    },
                                    {
                                        "name": "riders_change"
                                    },
                                    {
                                        "name": "riders_percent_change"
                                    }
                                ]
                            },
                            "data": [
                                {
                                    "0": "Thursday ",
                                    "1": "282700",
                                    "2": "386579",
                                    "3": "103879",
                                    "4": "36.7500 %"
                                },
                                {
                                    "0": "Sunday   ",
                                    "1": "191055",
                                    "2": "285203",
                                    "3": "94148",
                                    "4": "49.2800 %"
                                },
                                {
                                    "0": "Tuesday  ",
                                    "1": "265161",
                                    "2": "384455",
                                    "3": "119294",
                                    "4": "44.9900 %"
                                },
                                {
                                    "0": "Wednesday",
                                    "1": "288485",
                                    "2": "389421",
                                    "3": "100936",
                                    "4": "34.9900 %"
                                },
                                {
                                    "0": "Monday   ",
                                    "1": "256032",
                                    "2": "372387",
                                    "3": "116355",
                                    "4": "45.4500 %"
                                },
                                {
                                    "0": "Saturday ",
                                    "1": "208144",
                                    "2": "319024",
                                    "3": "110880",
                                    "4": "53.2700 %"
                                },
                                {
                                    "0": "Friday   ",
                                    "1": "276229",
                                    "2": "385468",
                                    "3": "109239",
                                    "4": "39.5500 %"
                                }
                            ]
                        },
                        "text/html": [
                            "<table>",
                            "<tr><th>weekday</th><th>riders2018</th><th>riders2019</th><th>riders_change</th><th>riders_percent_change</th></tr>",
                            "<tr><td>Thursday </td><td>282700</td><td>386579</td><td>103879</td><td>36.7500 %</td></tr>",
                            "<tr><td>Sunday   </td><td>191055</td><td>285203</td><td>94148</td><td>49.2800 %</td></tr>",
                            "<tr><td>Tuesday  </td><td>265161</td><td>384455</td><td>119294</td><td>44.9900 %</td></tr>",
                            "<tr><td>Wednesday</td><td>288485</td><td>389421</td><td>100936</td><td>34.9900 %</td></tr>",
                            "<tr><td>Monday   </td><td>256032</td><td>372387</td><td>116355</td><td>45.4500 %</td></tr>",
                            "<tr><td>Saturday </td><td>208144</td><td>319024</td><td>110880</td><td>53.2700 %</td></tr>",
                            "<tr><td>Friday   </td><td>276229</td><td>385468</td><td>109239</td><td>39.5500 %</td></tr>",
                            "</table>"
                        ]
                    }
                }
            ],
            "execution_count": 35
        },
        {
            "cell_type": "code",
            "source": [
                "-- Riders by month\n",
                "\n",
                "select count(1) as riders,\n",
                "To_Char(start_time, 'Month') as month\n",
                "from bluebikes_2018\n",
                "-- where date_trunc('day', start_time) = date_trunc('day', timestamp '2018-10-01')\n",
                "group by month\n",
                "order by riders desc"
            ],
            "metadata": {
                "azdata_cell_guid": "ffa4131e-0a2e-4dc1-9bb7-b819586b3528"
            },
            "outputs": [
                {
                    "output_type": "display_data",
                    "data": {
                        "text/html": "(12 row(s) affected)"
                    },
                    "metadata": {}
                },
                {
                    "output_type": "display_data",
                    "data": {
                        "text/html": "Total execution time: 00:00:01.445"
                    },
                    "metadata": {}
                },
                {
                    "output_type": "execute_result",
                    "execution_count": 188,
                    "data": {
                        "application/vnd.dataresource+json": {
                            "schema": {
                                "fields": [
                                    {
                                        "name": "riders"
                                    },
                                    {
                                        "name": "month"
                                    }
                                ]
                            },
                            "data": [
                                {
                                    "0": "242916",
                                    "1": "July     "
                                },
                                {
                                    "0": "236182",
                                    "1": "September"
                                },
                                {
                                    "0": "236076",
                                    "1": "August   "
                                },
                                {
                                    "0": "205359",
                                    "1": "June     "
                                },
                                {
                                    "0": "200100",
                                    "1": "October  "
                                },
                                {
                                    "0": "178865",
                                    "1": "May      "
                                },
                                {
                                    "0": "121419",
                                    "1": "November "
                                },
                                {
                                    "0": "98194",
                                    "1": "April    "
                                },
                                {
                                    "0": "81961",
                                    "1": "December "
                                },
                                {
                                    "0": "62985",
                                    "1": "March    "
                                },
                                {
                                    "0": "62817",
                                    "1": "February "
                                },
                                {
                                    "0": "40932",
                                    "1": "January  "
                                }
                            ]
                        },
                        "text/html": "<table><tr><th>riders</th><th>month</th></tr><tr><td>242916</td><td>July     </td></tr><tr><td>236182</td><td>September</td></tr><tr><td>236076</td><td>August   </td></tr><tr><td>205359</td><td>June     </td></tr><tr><td>200100</td><td>October  </td></tr><tr><td>178865</td><td>May      </td></tr><tr><td>121419</td><td>November </td></tr><tr><td>98194</td><td>April    </td></tr><tr><td>81961</td><td>December </td></tr><tr><td>62985</td><td>March    </td></tr><tr><td>62817</td><td>February </td></tr><tr><td>40932</td><td>January  </td></tr></table>"
                    },
                    "metadata": {}
                }
            ],
            "execution_count": 188
        },
        {
            "cell_type": "code",
            "source": [
                "-- Top and Bottom 5 Stations based on riders\n",
                "\n",
                "with top5 as\n",
                "    (select number, name, district,\n",
                "    count(1) as riders,\n",
                "    'top5' as placement\n",
                "    from bluebikes_stations\n",
                "    join bluebikes_2018 on bluebikes_stations.id = bluebikes_2018.start_station_id\n",
                "    group by number, name, district, placement\n",
                "    order by riders desc\n",
                "    limit 5),\n",
                "\n",
                "bottom5 as\n",
                "    (select number, name, district,\n",
                "    count(1) as riders,\n",
                "    'bottom5' as placement\n",
                "    from bluebikes_stations\n",
                "    join bluebikes_2018 on bluebikes_stations.id = bluebikes_2018.start_station_id\n",
                "    group by number, name, district, placement\n",
                "    order by riders \n",
                "    limit 5)\n",
                "\n",
                "select * from top5\n",
                "union all\n",
                "select * from bottom5\n",
                "order by riders desc"
            ],
            "metadata": {
                "azdata_cell_guid": "c2a605bd-479a-4476-9025-861f544ec5a6"
            },
            "outputs": [
                {
                    "output_type": "display_data",
                    "data": {
                        "text/html": "(10 row(s) affected)"
                    },
                    "metadata": {}
                },
                {
                    "output_type": "display_data",
                    "data": {
                        "text/html": "Total execution time: 00:00:02.134"
                    },
                    "metadata": {}
                },
                {
                    "output_type": "execute_result",
                    "execution_count": 189,
                    "data": {
                        "application/vnd.dataresource+json": {
                            "schema": {
                                "fields": [
                                    {
                                        "name": "number"
                                    },
                                    {
                                        "name": "name"
                                    },
                                    {
                                        "name": "district"
                                    },
                                    {
                                        "name": "riders"
                                    },
                                    {
                                        "name": "placement"
                                    }
                                ]
                            },
                            "data": [
                                {
                                    "0": "M32006",
                                    "1": "MIT at Mass Ave / Amherst St",
                                    "2": "Cambridge",
                                    "3": "53846",
                                    "4": "top5"
                                },
                                {
                                    "0": "M32005",
                                    "1": "MIT Stata Center at Vassar St / Main St",
                                    "2": "Cambridge",
                                    "3": "41559",
                                    "4": "top5"
                                },
                                {
                                    "0": "M32011",
                                    "1": "Central Square at Mass Ave / Essex St",
                                    "2": "Cambridge",
                                    "3": "37346",
                                    "4": "top5"
                                },
                                {
                                    "0": "A32010",
                                    "1": "South Station - 700 Atlantic Ave",
                                    "2": "Boston",
                                    "3": "36346",
                                    "4": "top5"
                                },
                                {
                                    "0": "M32041",
                                    "1": "MIT Pacific St at Purrington St",
                                    "2": "Cambridge",
                                    "3": "29379",
                                    "4": "top5"
                                },
                                {
                                    "0": "C32049",
                                    "1": "Thetford Ave at Norfolk St",
                                    "2": "Boston",
                                    "3": "15",
                                    "4": "bottom5"
                                },
                                {
                                    "0": "C32044",
                                    "1": "Blue Hill Ave at Almont St",
                                    "2": "Boston",
                                    "3": "12",
                                    "4": "bottom5"
                                },
                                {
                                    "0": "C32050",
                                    "1": "Mattapan Library",
                                    "2": "Boston",
                                    "3": "12",
                                    "4": "bottom5"
                                },
                                {
                                    "0": "C32059",
                                    "1": "Belgrade Ave at Walworth St",
                                    "2": "Boston",
                                    "3": "9",
                                    "4": "bottom5"
                                },
                                {
                                    "0": "C23045",
                                    "1": "Morton St T",
                                    "2": "Boston",
                                    "3": "5",
                                    "4": "bottom5"
                                }
                            ]
                        },
                        "text/html": "<table><tr><th>number</th><th>name</th><th>district</th><th>riders</th><th>placement</th></tr><tr><td>M32006</td><td>MIT at Mass Ave / Amherst St</td><td>Cambridge</td><td>53846</td><td>top5</td></tr><tr><td>M32005</td><td>MIT Stata Center at Vassar St / Main St</td><td>Cambridge</td><td>41559</td><td>top5</td></tr><tr><td>M32011</td><td>Central Square at Mass Ave / Essex St</td><td>Cambridge</td><td>37346</td><td>top5</td></tr><tr><td>A32010</td><td>South Station - 700 Atlantic Ave</td><td>Boston</td><td>36346</td><td>top5</td></tr><tr><td>M32041</td><td>MIT Pacific St at Purrington St</td><td>Cambridge</td><td>29379</td><td>top5</td></tr><tr><td>C32049</td><td>Thetford Ave at Norfolk St</td><td>Boston</td><td>15</td><td>bottom5</td></tr><tr><td>C32044</td><td>Blue Hill Ave at Almont St</td><td>Boston</td><td>12</td><td>bottom5</td></tr><tr><td>C32050</td><td>Mattapan Library</td><td>Boston</td><td>12</td><td>bottom5</td></tr><tr><td>C32059</td><td>Belgrade Ave at Walworth St</td><td>Boston</td><td>9</td><td>bottom5</td></tr><tr><td>C23045</td><td>Morton St T</td><td>Boston</td><td>5</td><td>bottom5</td></tr></table>"
                    },
                    "metadata": {}
                }
            ],
            "execution_count": 189
        },
        {
            "cell_type": "code",
            "source": [
                "-- Sort by Duration\n",
                "with\n",
                "dur2018 as(\n",
                "    select \n",
                "    count(1) as riders,\n",
                "    case \n",
                "        when date_trunc('second', end_time - start_time) < time '00:05:00' then 'under5'\n",
                "        when date_trunc('second', end_time - start_time) < time '00:10:00' and date_trunc('second', end_time - start_time) > '00:05:00' then '5to10'\n",
                "        when date_trunc('second', end_time - start_time) < time '00:15:00' and date_trunc('second', end_time - start_time) > '00:10:00' then '10to15'\n",
                "        when date_trunc('second', end_time - start_time) < time '00:20:00' and date_trunc('second', end_time - start_time) > '00:15:00' then '15to20'\n",
                "        when date_trunc('second', end_time - start_time) < time '00:25:00' and date_trunc('second', end_time - start_time) > '00:20:00' then '20to25'\n",
                "        when date_trunc('second', end_time - start_time) < time '00:30:00' and date_trunc('second', end_time - start_time) > '00:25:00' then '25to30'\n",
                "        when date_trunc('second', end_time - start_time) < time '00:35:00' and date_trunc('second', end_time - start_time) > '00:30:00' then '30to35'\n",
                "        when date_trunc('second', end_time - start_time) < time '00:40:00' and date_trunc('second', end_time - start_time) > '00:35:00' then '35to40'\n",
                "        when date_trunc('second', end_time - start_time) < time '00:45:00' and date_trunc('second', end_time - start_time) > '00:40:00' then '40to45'\n",
                "        when date_trunc('second', end_time - start_time) < time '00:50:00' and date_trunc('second', end_time - start_time) > '00:45:00' then '45to50'\n",
                "        when date_trunc('second', end_time - start_time) < time '00:55:00' and date_trunc('second', end_time - start_time) > '00:50:00' then '50to55'\n",
                "        when date_trunc('second', end_time - start_time) < time '01:00:00' and date_trunc('second', end_time - start_time) > '00:55:00' then '55to60'\n",
                "        when date_trunc('second', end_time - start_time) < time '02:00:00' and date_trunc('second', end_time - start_time) > '01:00:00' then '1hrto2hr'\n",
                "        when date_trunc('second', end_time - start_time) < time '03:00:00' and date_trunc('second', end_time - start_time) > '02:00:00' then '2hrto3hr'\n",
                "        when date_trunc('second', end_time - start_time) < time '04:00:00' and date_trunc('second', end_time - start_time) > '03:00:00' then '3hrto4hr'\n",
                "        when date_trunc('second', end_time - start_time) < time '05:00:00' and date_trunc('second', end_time - start_time) > '04:00:00' then '4hrto5hr'\n",
                "        when date_trunc('second', end_time - start_time) < time '06:00:00' and date_trunc('second', end_time - start_time) > '05:00:00' then '5hrto6hr'\n",
                "        when date_trunc('second', end_time - start_time) < time '12:00:00' and date_trunc('second', end_time - start_time) > '06:00:00' then '6hrto12hr'\n",
                "        when date_trunc('second', end_time - start_time) < time '24:00:00' and date_trunc('second', end_time - start_time) > '12:00:00' then '12hrto24hr'\n",
                "    else 'longer' end as duration\n",
                "\n",
                "    from bluebikes_2018\n",
                "    group by duration\n",
                "    order by riders desc\n",
                "    ),\n",
                "\n",
                "dur2019 as (\n",
                "    select \n",
                "    count(1) as riders,\n",
                "    case \n",
                "        when date_trunc('second', end_time - start_time) < time '00:05:00' then 'under5'\n",
                "        when date_trunc('second', end_time - start_time) < time '00:10:00' and date_trunc('second', end_time - start_time) > '00:05:00' then '5to10'\n",
                "        when date_trunc('second', end_time - start_time) < time '00:15:00' and date_trunc('second', end_time - start_time) > '00:10:00' then '10to15'\n",
                "        when date_trunc('second', end_time - start_time) < time '00:20:00' and date_trunc('second', end_time - start_time) > '00:15:00' then '15to20'\n",
                "        when date_trunc('second', end_time - start_time) < time '00:25:00' and date_trunc('second', end_time - start_time) > '00:20:00' then '20to25'\n",
                "        when date_trunc('second', end_time - start_time) < time '00:30:00' and date_trunc('second', end_time - start_time) > '00:25:00' then '25to30'\n",
                "        when date_trunc('second', end_time - start_time) < time '00:35:00' and date_trunc('second', end_time - start_time) > '00:30:00' then '30to35'\n",
                "        when date_trunc('second', end_time - start_time) < time '00:40:00' and date_trunc('second', end_time - start_time) > '00:35:00' then '35to40'\n",
                "        when date_trunc('second', end_time - start_time) < time '00:45:00' and date_trunc('second', end_time - start_time) > '00:40:00' then '40to45'\n",
                "        when date_trunc('second', end_time - start_time) < time '00:50:00' and date_trunc('second', end_time - start_time) > '00:45:00' then '45to50'\n",
                "        when date_trunc('second', end_time - start_time) < time '00:55:00' and date_trunc('second', end_time - start_time) > '00:50:00' then '50to55'\n",
                "        when date_trunc('second', end_time - start_time) < time '01:00:00' and date_trunc('second', end_time - start_time) > '00:55:00' then '55to60'\n",
                "        when date_trunc('second', end_time - start_time) < time '02:00:00' and date_trunc('second', end_time - start_time) > '01:00:00' then '1hrto2hr'\n",
                "        when date_trunc('second', end_time - start_time) < time '03:00:00' and date_trunc('second', end_time - start_time) > '02:00:00' then '2hrto3hr'\n",
                "        when date_trunc('second', end_time - start_time) < time '04:00:00' and date_trunc('second', end_time - start_time) > '03:00:00' then '3hrto4hr'\n",
                "        when date_trunc('second', end_time - start_time) < time '05:00:00' and date_trunc('second', end_time - start_time) > '04:00:00' then '4hrto5hr'\n",
                "        when date_trunc('second', end_time - start_time) < time '06:00:00' and date_trunc('second', end_time - start_time) > '05:00:00' then '5hrto6hr'\n",
                "        when date_trunc('second', end_time - start_time) < time '12:00:00' and date_trunc('second', end_time - start_time) > '06:00:00' then '6hrto12hr'\n",
                "        when date_trunc('second', end_time - start_time) < time '24:00:00' and date_trunc('second', end_time - start_time) > '12:00:00' then '12hrto24hr'\n",
                "    else 'longer' end as duration\n",
                "\n",
                "    from bluebikes_2019\n",
                "    group by duration\n",
                "    order by riders desc\n",
                ")\n",
                "\n",
                "select dur2018.duration, \n",
                "dur2018.riders as riders2018, \n",
                "dur2019.riders as riders2019,\n",
                "dur2019.riders - dur2018.riders as riders_change,\n",
                "round((dur2019.riders - dur2018.riders)::NUMERIC / dur2018.riders, 4) * 100 || ' %' as riders_percent_change,\n",
                "round(((dur2019.riders - dur2018.riders)::numeric / dur2018.riders) - ((sum(dur2019.riders) over() - sum(dur2018.riders) over()) / sum(dur2018.riders) over()), 4) * 100 || ' %' as pct_change_relative\n",
                "from dur2018\n",
                "join dur2019 on dur2018.duration = dur2019.duration\n",
                "order by "
            ],
            "metadata": {
                "azdata_cell_guid": "fee9cab0-6942-4921-896d-e34dd7aeff00"
            },
            "outputs": [
                {
                    "output_type": "display_data",
                    "data": {
                        "text/html": "(20 row(s) affected)"
                    },
                    "metadata": {}
                },
                {
                    "output_type": "display_data",
                    "data": {
                        "text/html": "Total execution time: 00:00:04.619"
                    },
                    "metadata": {}
                },
                {
                    "output_type": "execute_result",
                    "metadata": {},
                    "execution_count": 45,
                    "data": {
                        "application/vnd.dataresource+json": {
                            "schema": {
                                "fields": [
                                    {
                                        "name": "duration"
                                    },
                                    {
                                        "name": "riders2018"
                                    },
                                    {
                                        "name": "riders2019"
                                    },
                                    {
                                        "name": "riders_change"
                                    },
                                    {
                                        "name": "riders_percent_change"
                                    },
                                    {
                                        "name": "pct_change_relative"
                                    }
                                ]
                            },
                            "data": [
                                {
                                    "0": "10to15",
                                    "1": "356463",
                                    "2": "516544",
                                    "3": "160081",
                                    "4": "44.9100 %",
                                    "5": "2.2200 %"
                                },
                                {
                                    "0": "20to25",
                                    "1": "142316",
                                    "2": "206478",
                                    "3": "64162",
                                    "4": "45.0800 %",
                                    "5": "2.3900 %"
                                },
                                {
                                    "0": "25to30",
                                    "1": "88795",
                                    "2": "130301",
                                    "3": "41506",
                                    "4": "46.7400 %",
                                    "5": "4.0500 %"
                                },
                                {
                                    "0": "6hrto12hr",
                                    "1": "1244",
                                    "2": "1405",
                                    "3": "161",
                                    "4": "12.9400 %",
                                    "5": "-29.7500 %"
                                },
                                {
                                    "0": "1hrto2hr",
                                    "1": "45577",
                                    "2": "58847",
                                    "3": "13270",
                                    "4": "29.1200 %",
                                    "5": "-13.5800 %"
                                },
                                {
                                    "0": "5to10",
                                    "1": "524937",
                                    "2": "730680",
                                    "3": "205743",
                                    "4": "39.1900 %",
                                    "5": "-3.5000 %"
                                },
                                {
                                    "0": "5hrto6hr",
                                    "1": "481",
                                    "2": "503",
                                    "3": "22",
                                    "4": "4.5700 %",
                                    "5": "-38.1200 %"
                                },
                                {
                                    "0": "12hrto24hr",
                                    "1": "1115",
                                    "2": "1396",
                                    "3": "281",
                                    "4": "25.2000 %",
                                    "5": "-17.4900 %"
                                },
                                {
                                    "0": "3hrto4hr",
                                    "1": "2304",
                                    "2": "2128",
                                    "3": "-176",
                                    "4": "-7.6400 %",
                                    "5": "-50.3300 %"
                                },
                                {
                                    "0": "2hrto3hr",
                                    "1": "7685",
                                    "2": "7623",
                                    "3": "-62",
                                    "4": "-0.8100 %",
                                    "5": "-43.5000 %"
                                },
                                {
                                    "0": "15to20",
                                    "1": "227597",
                                    "2": "332967",
                                    "3": "105370",
                                    "4": "46.3000 %",
                                    "5": "3.6000 %"
                                },
                                {
                                    "0": "45to50",
                                    "1": "14023",
                                    "2": "19884",
                                    "3": "5861",
                                    "4": "41.8000 %",
                                    "5": "-0.9000 %"
                                },
                                {
                                    "0": "55to60",
                                    "1": "9043",
                                    "2": "12213",
                                    "3": "3170",
                                    "4": "35.0500 %",
                                    "5": "-7.6400 %"
                                },
                                {
                                    "0": "longer",
                                    "1": "7327",
                                    "2": "10365",
                                    "3": "3038",
                                    "4": "41.4600 %",
                                    "5": "-1.2300 %"
                                },
                                {
                                    "0": "4hrto5hr",
                                    "1": "945",
                                    "2": "930",
                                    "3": "-15",
                                    "4": "-1.5900 %",
                                    "5": "-44.2800 %"
                                },
                                {
                                    "0": "35to40",
                                    "1": "30641",
                                    "2": "48030",
                                    "3": "17389",
                                    "4": "56.7500 %",
                                    "5": "14.0600 %"
                                },
                                {
                                    "0": "40to45",
                                    "1": "20901",
                                    "2": "31615",
                                    "3": "10714",
                                    "4": "51.2600 %",
                                    "5": "8.5700 %"
                                },
                                {
                                    "0": "50to55",
                                    "1": "11100",
                                    "2": "14811",
                                    "3": "3711",
                                    "4": "33.4300 %",
                                    "5": "-9.2600 %"
                                },
                                {
                                    "0": "under5",
                                    "1": "225330",
                                    "2": "318936",
                                    "3": "93606",
                                    "4": "41.5400 %",
                                    "5": "-1.1500 %"
                                },
                                {
                                    "0": "30to35",
                                    "1": "49982",
                                    "2": "76881",
                                    "3": "26899",
                                    "4": "53.8200 %",
                                    "5": "11.1200 %"
                                }
                            ]
                        },
                        "text/html": [
                            "<table>",
                            "<tr><th>duration</th><th>riders2018</th><th>riders2019</th><th>riders_change</th><th>riders_percent_change</th><th>pct_change_relative</th></tr>",
                            "<tr><td>10to15</td><td>356463</td><td>516544</td><td>160081</td><td>44.9100 %</td><td>2.2200 %</td></tr>",
                            "<tr><td>20to25</td><td>142316</td><td>206478</td><td>64162</td><td>45.0800 %</td><td>2.3900 %</td></tr>",
                            "<tr><td>25to30</td><td>88795</td><td>130301</td><td>41506</td><td>46.7400 %</td><td>4.0500 %</td></tr>",
                            "<tr><td>6hrto12hr</td><td>1244</td><td>1405</td><td>161</td><td>12.9400 %</td><td>-29.7500 %</td></tr>",
                            "<tr><td>1hrto2hr</td><td>45577</td><td>58847</td><td>13270</td><td>29.1200 %</td><td>-13.5800 %</td></tr>",
                            "<tr><td>5to10</td><td>524937</td><td>730680</td><td>205743</td><td>39.1900 %</td><td>-3.5000 %</td></tr>",
                            "<tr><td>5hrto6hr</td><td>481</td><td>503</td><td>22</td><td>4.5700 %</td><td>-38.1200 %</td></tr>",
                            "<tr><td>12hrto24hr</td><td>1115</td><td>1396</td><td>281</td><td>25.2000 %</td><td>-17.4900 %</td></tr>",
                            "<tr><td>3hrto4hr</td><td>2304</td><td>2128</td><td>-176</td><td>-7.6400 %</td><td>-50.3300 %</td></tr>",
                            "<tr><td>2hrto3hr</td><td>7685</td><td>7623</td><td>-62</td><td>-0.8100 %</td><td>-43.5000 %</td></tr>",
                            "<tr><td>15to20</td><td>227597</td><td>332967</td><td>105370</td><td>46.3000 %</td><td>3.6000 %</td></tr>",
                            "<tr><td>45to50</td><td>14023</td><td>19884</td><td>5861</td><td>41.8000 %</td><td>-0.9000 %</td></tr>",
                            "<tr><td>55to60</td><td>9043</td><td>12213</td><td>3170</td><td>35.0500 %</td><td>-7.6400 %</td></tr>",
                            "<tr><td>longer</td><td>7327</td><td>10365</td><td>3038</td><td>41.4600 %</td><td>-1.2300 %</td></tr>",
                            "<tr><td>4hrto5hr</td><td>945</td><td>930</td><td>-15</td><td>-1.5900 %</td><td>-44.2800 %</td></tr>",
                            "<tr><td>35to40</td><td>30641</td><td>48030</td><td>17389</td><td>56.7500 %</td><td>14.0600 %</td></tr>",
                            "<tr><td>40to45</td><td>20901</td><td>31615</td><td>10714</td><td>51.2600 %</td><td>8.5700 %</td></tr>",
                            "<tr><td>50to55</td><td>11100</td><td>14811</td><td>3711</td><td>33.4300 %</td><td>-9.2600 %</td></tr>",
                            "<tr><td>under5</td><td>225330</td><td>318936</td><td>93606</td><td>41.5400 %</td><td>-1.1500 %</td></tr>",
                            "<tr><td>30to35</td><td>49982</td><td>76881</td><td>26899</td><td>53.8200 %</td><td>11.1200 %</td></tr>",
                            "</table>"
                        ]
                    }
                }
            ],
            "execution_count": 45
        },
        {
            "cell_type": "code",
            "source": [
                "-- Top 3 Positive and Negative Bike Check-in difference per month\n",
                "\n",
                "with outbikes as (\n",
                "    select\n",
                "    stations.name,\n",
                "    extract(month from start_time) as month_no,\n",
                "    To_Char(start_time, 'Month') as month,\n",
                "    count(start_station_id) as outgoing\n",
                "    from bluebikes_2018 bikes\n",
                "    join bluebikes_stations stations on stations.id = bikes.start_station_id\n",
                "    group by month_no, month, stations.name\n",
                "    order by month_no, month, outgoing desc\n",
                "),\n",
                "\n",
                "inbikes as(\n",
                "    select\n",
                "    stations.name,\n",
                "    extract(month from start_time) as month_no,\n",
                "    To_Char(start_time, 'Month') as month,\n",
                "    count(end_station_id) as incoming\n",
                "    from bluebikes_2018 bikes\n",
                "    join bluebikes_stations stations on stations.id = bikes.end_station_id\n",
                "    group by month_no, month, stations.name\n",
                "    order by month_no, month, incoming desc\n",
                "),\n",
                "\n",
                "positivebikeflow as (\n",
                "    select \n",
                "    row_number() over(partition by outbikes.month order by outbikes.month, sum(inbikes.incoming) - sum(outbikes.outgoing) desc) as rank,\n",
                "    outbikes.month_no as month_no,\n",
                "    outbikes.month as month, \n",
                "    outbikes.name as name, \n",
                "    sum(outbikes.outgoing) as outgoing,\n",
                "    sum(inbikes.incoming) as incoming,\n",
                "    sum(inbikes.incoming) - sum(outbikes.outgoing) as difference\n",
                "    from outbikes\n",
                "    join inbikes on outbikes.name = inbikes.name\n",
                "    group by outbikes.month_no, outbikes.month, outbikes.name\n",
                "    order by outbikes.month_no, outbikes.month, difference desc\n",
                "),\n",
                "\n",
                "negativebikeflow as (\n",
                "    select \n",
                "    row_number() over(partition by outbikes.month order by outbikes.month, sum(inbikes.incoming) - sum(outbikes.outgoing)) as rank,\n",
                "    outbikes.month_no as month_no,\n",
                "    outbikes.month as month,\n",
                "    outbikes.name as name,\n",
                "    sum(outbikes.outgoing) as outgoing,\n",
                "    sum(inbikes.incoming) as incoming,\n",
                "    sum(inbikes.incoming) - sum(outbikes.outgoing) as difference\n",
                "    from outbikes\n",
                "    join inbikes on outbikes.name = inbikes.name\n",
                "    group by outbikes.month_no, outbikes.month, outbikes.name\n",
                "    order by outbikes.month_no, outbikes.month, difference\n",
                ")\n",
                "\n",
                "select * from positivebikeflow\n",
                "where rank in (1,2,3)\n",
                "union all\n",
                "select * from negativebikeflow\n",
                "where rank in (1,2,3)\n",
                "order by month_no, difference desc"
            ],
            "metadata": {
                "azdata_cell_guid": "12d84ec4-27f6-4668-b8a8-8a21cb0b9ac6"
            },
            "outputs": [
                {
                    "output_type": "display_data",
                    "data": {
                        "text/html": "(72 row(s) affected)"
                    },
                    "metadata": {}
                },
                {
                    "output_type": "display_data",
                    "data": {
                        "text/html": "Total execution time: 00:00:04.732"
                    },
                    "metadata": {}
                },
                {
                    "output_type": "execute_result",
                    "execution_count": 198,
                    "data": {
                        "application/vnd.dataresource+json": {
                            "schema": {
                                "fields": [
                                    {
                                        "name": "rank"
                                    },
                                    {
                                        "name": "month_no"
                                    },
                                    {
                                        "name": "month"
                                    },
                                    {
                                        "name": "name"
                                    },
                                    {
                                        "name": "outgoing"
                                    },
                                    {
                                        "name": "incoming"
                                    },
                                    {
                                        "name": "difference"
                                    }
                                ]
                            },
                            "data": [
                                {
                                    "0": "1",
                                    "1": "1.0",
                                    "2": "January  ",
                                    "3": "MIT Stata Center at Vassar St / Main St",
                                    "4": "13968",
                                    "5": "46369",
                                    "6": "32401"
                                },
                                {
                                    "0": "2",
                                    "1": "1.0",
                                    "2": "January  ",
                                    "3": "MIT at Mass Ave / Amherst St",
                                    "4": "18984",
                                    "5": "49635",
                                    "6": "30651"
                                },
                                {
                                    "0": "3",
                                    "1": "1.0",
                                    "2": "January  ",
                                    "3": "Nashua Street at Red Auerbach Way",
                                    "4": "10104",
                                    "5": "37861",
                                    "6": "27757"
                                },
                                {
                                    "0": "3",
                                    "1": "1.0",
                                    "2": "January  ",
                                    "3": "Congress St at Boston City Hall",
                                    "4": "716",
                                    "5": "1040",
                                    "6": "324"
                                },
                                {
                                    "0": "2",
                                    "1": "1.0",
                                    "2": "January  ",
                                    "3": "Roxbury YMCA - Warren St at MLK Blvd",
                                    "4": "456",
                                    "5": "759",
                                    "6": "303"
                                },
                                {
                                    "0": "1",
                                    "1": "1.0",
                                    "2": "January  ",
                                    "3": "Grove Hall Library - 41 Geneva Ave",
                                    "4": "180",
                                    "5": "336",
                                    "6": "156"
                                },
                                {
                                    "0": "1",
                                    "1": "2.0",
                                    "2": "February ",
                                    "3": "MIT Stata Center at Vassar St / Main St",
                                    "4": "21048",
                                    "5": "46369",
                                    "6": "25321"
                                },
                                {
                                    "0": "2",
                                    "1": "2.0",
                                    "2": "February ",
                                    "3": "Nashua Street at Red Auerbach Way",
                                    "4": "14196",
                                    "5": "37861",
                                    "6": "23665"
                                },
                                {
                                    "0": "3",
                                    "1": "2.0",
                                    "2": "February ",
                                    "3": "MIT at Mass Ave / Amherst St",
                                    "4": "26832",
                                    "5": "49635",
                                    "6": "22803"
                                },
                                {
                                    "0": "3",
                                    "1": "2.0",
                                    "2": "February ",
                                    "3": "NCAAA - Walnut Ave at Crawford St",
                                    "4": "348",
                                    "5": "500",
                                    "6": "152"
                                },
                                {
                                    "0": "2",
                                    "1": "2.0",
                                    "2": "February ",
                                    "3": "Congress St at Boston City Hall",
                                    "4": "1100",
                                    "5": "1040",
                                    "6": "-60"
                                },
                                {
                                    "0": "1",
                                    "1": "2.0",
                                    "2": "February ",
                                    "3": "Uphams Corner",
                                    "4": "1177",
                                    "5": "1063",
                                    "6": "-114"
                                },
                                {
                                    "0": "1",
                                    "1": "3.0",
                                    "2": "March    ",
                                    "3": "Nashua Street at Red Auerbach Way",
                                    "4": "12660",
                                    "5": "37861",
                                    "6": "25201"
                                },
                                {
                                    "0": "2",
                                    "1": "3.0",
                                    "2": "March    ",
                                    "3": "MIT Stata Center at Vassar St / Main St",
                                    "4": "22368",
                                    "5": "46369",
                                    "6": "24001"
                                },
                                {
                                    "0": "3",
                                    "1": "3.0",
                                    "2": "March    ",
                                    "3": "MIT at Mass Ave / Amherst St",
                                    "4": "27552",
                                    "5": "49635",
                                    "6": "22083"
                                },
                                {
                                    "0": "3",
                                    "1": "3.0",
                                    "2": "March    ",
                                    "3": "Grove Hall Library - 41 Geneva Ave",
                                    "4": "192",
                                    "5": "336",
                                    "6": "144"
                                },
                                {
                                    "0": "2",
                                    "1": "3.0",
                                    "2": "March    ",
                                    "3": "Uphams Corner",
                                    "4": "968",
                                    "5": "1063",
                                    "6": "95"
                                },
                                {
                                    "0": "1",
                                    "1": "3.0",
                                    "2": "March    ",
                                    "3": "Congress St at Boston City Hall",
                                    "4": "1344",
                                    "5": "1040",
                                    "6": "-304"
                                },
                                {
                                    "0": "1",
                                    "1": "4.0",
                                    "2": "April    ",
                                    "3": "Nashua Street at Red Auerbach Way",
                                    "4": "16884",
                                    "5": "37861",
                                    "6": "20977"
                                },
                                {
                                    "0": "2",
                                    "1": "4.0",
                                    "2": "April    ",
                                    "3": "MIT Stata Center at Vassar St / Main St",
                                    "4": "28212",
                                    "5": "46369",
                                    "6": "18157"
                                },
                                {
                                    "0": "3",
                                    "1": "4.0",
                                    "2": "April    ",
                                    "3": "Boylston St at Fairfield St",
                                    "4": "1528",
                                    "5": "16093",
                                    "6": "14565"
                                },
                                {
                                    "0": "3",
                                    "1": "4.0",
                                    "2": "April    ",
                                    "3": "Roxbury YMCA - Warren St at MLK Blvd",
                                    "4": "780",
                                    "5": "759",
                                    "6": "-21"
                                },
                                {
                                    "0": "2",
                                    "1": "4.0",
                                    "2": "April    ",
                                    "3": "NCAAA - Walnut Ave at Crawford St",
                                    "4": "576",
                                    "5": "500",
                                    "6": "-76"
                                },
                                {
                                    "0": "1",
                                    "1": "4.0",
                                    "2": "April    ",
                                    "3": "359 Broadway - Broadway at Fayette Street",
                                    "4": "10548",
                                    "5": "9568",
                                    "6": "-980"
                                },
                                {
                                    "0": "1",
                                    "1": "5.0",
                                    "2": "May      ",
                                    "3": "Boylston St at Massachusetts Ave",
                                    "4": "12856",
                                    "5": "15633",
                                    "6": "2777"
                                },
                                {
                                    "0": "2",
                                    "1": "5.0",
                                    "2": "May      ",
                                    "3": "Nashua Street at Red Auerbach Way",
                                    "4": "35124",
                                    "5": "37861",
                                    "6": "2737"
                                },
                                {
                                    "0": "3",
                                    "1": "5.0",
                                    "2": "May      ",
                                    "3": "MIT Stata Center at Vassar St / Main St",
                                    "4": "43644",
                                    "5": "46369",
                                    "6": "2725"
                                },
                                {
                                    "0": "3",
                                    "1": "5.0",
                                    "2": "May      ",
                                    "3": "Charles Circle - Charles St at Cambridge St",
                                    "4": "28094",
                                    "5": "19899",
                                    "6": "-8195"
                                },
                                {
                                    "0": "2",
                                    "1": "5.0",
                                    "2": "May      ",
                                    "3": "South Station - 700 Atlantic Ave",
                                    "4": "49476",
                                    "5": "33895",
                                    "6": "-15581"
                                },
                                {
                                    "0": "1",
                                    "1": "5.0",
                                    "2": "May      ",
                                    "3": "MIT at Mass Ave / Amherst St",
                                    "4": "68364",
                                    "5": "49635",
                                    "6": "-18729"
                                },
                                {
                                    "0": "1",
                                    "1": "6.0",
                                    "2": "June     ",
                                    "3": "Northeastern University - North Parking Lot",
                                    "4": "8811",
                                    "5": "9281",
                                    "6": "470"
                                },
                                {
                                    "0": "2",
                                    "1": "6.0",
                                    "2": "June     ",
                                    "3": "Uphams Corner T Stop - Magnolia St at Dudley St",
                                    "4": "192",
                                    "5": "404",
                                    "6": "212"
                                },
                                {
                                    "0": "3",
                                    "1": "6.0",
                                    "2": "June     ",
                                    "3": "Kendall Street",
                                    "4": "9096",
                                    "5": "9280",
                                    "6": "184"
                                },
                                {
                                    "0": "3",
                                    "1": "6.0",
                                    "2": "June     ",
                                    "3": "MIT at Mass Ave / Amherst St",
                                    "4": "61488",
                                    "5": "49635",
                                    "6": "-11853"
                                },
                                {
                                    "0": "2",
                                    "1": "6.0",
                                    "2": "June     ",
                                    "3": "Boston City Hall - 28 State St",
                                    "4": "34212",
                                    "5": "21585",
                                    "6": "-12627"
                                },
                                {
                                    "0": "1",
                                    "1": "6.0",
                                    "2": "June     ",
                                    "3": "South Station - 700 Atlantic Ave",
                                    "4": "52860",
                                    "5": "33895",
                                    "6": "-18965"
                                },
                                {
                                    "0": "1",
                                    "1": "7.0",
                                    "2": "July     ",
                                    "3": "Silber Way",
                                    "4": "3216",
                                    "5": "7523",
                                    "6": "4307"
                                },
                                {
                                    "0": "2",
                                    "1": "7.0",
                                    "2": "July     ",
                                    "3": "Brookline Village - Station Street at MBTA",
                                    "4": "294",
                                    "5": "1563",
                                    "6": "1269"
                                },
                                {
                                    "0": "3",
                                    "1": "7.0",
                                    "2": "July     ",
                                    "3": "Assembly Square T",
                                    "4": "24",
                                    "5": "1065",
                                    "6": "1041"
                                },
                                {
                                    "0": "3",
                                    "1": "7.0",
                                    "2": "July     ",
                                    "3": "Central Square at Mass Ave / Essex St",
                                    "4": "59664",
                                    "5": "37270",
                                    "6": "-22394"
                                },
                                {
                                    "0": "2",
                                    "1": "7.0",
                                    "2": "July     ",
                                    "3": "MIT at Mass Ave / Amherst St",
                                    "4": "73860",
                                    "5": "49635",
                                    "6": "-24225"
                                },
                                {
                                    "0": "1",
                                    "1": "7.0",
                                    "2": "July     ",
                                    "3": "South Station - 700 Atlantic Ave",
                                    "4": "60792",
                                    "5": "33895",
                                    "6": "-26897"
                                },
                                {
                                    "0": "1",
                                    "1": "8.0",
                                    "2": "August   ",
                                    "3": "St Mary's",
                                    "4": "2150",
                                    "5": "2732",
                                    "6": "582"
                                },
                                {
                                    "0": "2",
                                    "1": "8.0",
                                    "2": "August   ",
                                    "3": "Washington St at Melnea Cass Blvd",
                                    "4": "1656",
                                    "5": "1953",
                                    "6": "297"
                                },
                                {
                                    "0": "3",
                                    "1": "8.0",
                                    "2": "August   ",
                                    "3": "Community Path at Cedar Street",
                                    "4": "1734",
                                    "5": "1948",
                                    "6": "214"
                                },
                                {
                                    "0": "3",
                                    "1": "8.0",
                                    "2": "August   ",
                                    "3": "Central Square at Mass Ave / Essex St",
                                    "4": "59136",
                                    "5": "37270",
                                    "6": "-21866"
                                },
                                {
                                    "0": "2",
                                    "1": "8.0",
                                    "2": "August   ",
                                    "3": "MIT at Mass Ave / Amherst St",
                                    "4": "73620",
                                    "5": "49635",
                                    "6": "-23985"
                                },
                                {
                                    "0": "1",
                                    "1": "8.0",
                                    "2": "August   ",
                                    "3": "South Station - 700 Atlantic Ave",
                                    "4": "61380",
                                    "5": "33895",
                                    "6": "-27485"
                                },
                                {
                                    "0": "1",
                                    "1": "9.0",
                                    "2": "September",
                                    "3": "Post Office Square",
                                    "4": "7288",
                                    "5": "8687",
                                    "6": "1399"
                                },
                                {
                                    "0": "2",
                                    "1": "9.0",
                                    "2": "September",
                                    "3": "Main St at Baldwin St",
                                    "4": "400",
                                    "5": "657",
                                    "6": "257"
                                },
                                {
                                    "0": "3",
                                    "1": "9.0",
                                    "2": "September",
                                    "3": "Burlington Ave at Brookline Ave",
                                    "4": "3976",
                                    "5": "4143",
                                    "6": "167"
                                },
                                {
                                    "0": "3",
                                    "1": "9.0",
                                    "2": "September",
                                    "3": "MIT Pacific St at Purrington St",
                                    "4": "46824",
                                    "5": "27490",
                                    "6": "-19334"
                                },
                                {
                                    "0": "2",
                                    "1": "9.0",
                                    "2": "September",
                                    "3": "Central Square at Mass Ave / Essex St",
                                    "4": "58128",
                                    "5": "37270",
                                    "6": "-20858"
                                },
                                {
                                    "0": "1",
                                    "1": "9.0",
                                    "2": "September",
                                    "3": "MIT at Mass Ave / Amherst St",
                                    "4": "89640",
                                    "5": "49635",
                                    "6": "-40005"
                                },
                                {
                                    "0": "1",
                                    "1": "10.0",
                                    "2": "October  ",
                                    "3": "Cross St at Hanover St",
                                    "4": "8745",
                                    "5": "17095",
                                    "6": "8350"
                                },
                                {
                                    "0": "2",
                                    "1": "10.0",
                                    "2": "October  ",
                                    "3": "Landmark Center - Brookline Ave at Park Dr",
                                    "4": "2672",
                                    "5": "8130",
                                    "6": "5458"
                                },
                                {
                                    "0": "3",
                                    "1": "10.0",
                                    "2": "October  ",
                                    "3": "Murphy Skating Rink - 1880 Day Blvd",
                                    "4": "2808",
                                    "5": "5640",
                                    "6": "2832"
                                },
                                {
                                    "0": "3",
                                    "1": "10.0",
                                    "2": "October  ",
                                    "3": "MIT Pacific St at Purrington St",
                                    "4": "39744",
                                    "5": "27490",
                                    "6": "-12254"
                                },
                                {
                                    "0": "2",
                                    "1": "10.0",
                                    "2": "October  ",
                                    "3": "MIT Stata Center at Vassar St / Main St",
                                    "4": "61740",
                                    "5": "46369",
                                    "6": "-15371"
                                },
                                {
                                    "0": "1",
                                    "1": "10.0",
                                    "2": "October  ",
                                    "3": "MIT at Mass Ave / Amherst St",
                                    "4": "75852",
                                    "5": "49635",
                                    "6": "-26217"
                                },
                                {
                                    "0": "1",
                                    "1": "11.0",
                                    "2": "November ",
                                    "3": "Copley Square - Dartmouth St at Boylston St",
                                    "4": "12012",
                                    "5": "28325",
                                    "6": "16313"
                                },
                                {
                                    "0": "2",
                                    "1": "11.0",
                                    "2": "November ",
                                    "3": "Nashua Street at Red Auerbach Way",
                                    "4": "22812",
                                    "5": "37861",
                                    "6": "15049"
                                },
                                {
                                    "0": "3",
                                    "1": "11.0",
                                    "2": "November ",
                                    "3": "Cross St at Hanover St",
                                    "4": "2310",
                                    "5": "17095",
                                    "6": "14785"
                                },
                                {
                                    "0": "3",
                                    "1": "11.0",
                                    "2": "November ",
                                    "3": "MIT at Mass Ave / Amherst St",
                                    "4": "50952",
                                    "5": "49635",
                                    "6": "-1317"
                                },
                                {
                                    "0": "2",
                                    "1": "11.0",
                                    "2": "November ",
                                    "3": "MIT Pacific St at Purrington St",
                                    "4": "29472",
                                    "5": "27490",
                                    "6": "-1982"
                                },
                                {
                                    "0": "1",
                                    "1": "11.0",
                                    "2": "November ",
                                    "3": "Commonwealth Ave at Agganis Way",
                                    "4": "13824",
                                    "5": "11186",
                                    "6": "-2638"
                                },
                                {
                                    "0": "1",
                                    "1": "12.0",
                                    "2": "December ",
                                    "3": "Nashua Street at Red Auerbach Way",
                                    "4": "16248",
                                    "5": "37861",
                                    "6": "21613"
                                },
                                {
                                    "0": "2",
                                    "1": "12.0",
                                    "2": "December ",
                                    "3": "MIT Stata Center at Vassar St / Main St",
                                    "4": "27252",
                                    "5": "46369",
                                    "6": "19117"
                                },
                                {
                                    "0": "3",
                                    "1": "12.0",
                                    "2": "December ",
                                    "3": "MIT at Mass Ave / Amherst St",
                                    "4": "32364",
                                    "5": "49635",
                                    "6": "17271"
                                },
                                {
                                    "0": "3",
                                    "1": "12.0",
                                    "2": "December ",
                                    "3": "Ames St at Broadway",
                                    "4": "1263",
                                    "5": "874",
                                    "6": "-389"
                                },
                                {
                                    "0": "2",
                                    "1": "12.0",
                                    "2": "December ",
                                    "3": "Boylston St at Jersey St",
                                    "4": "2391",
                                    "5": "1807",
                                    "6": "-584"
                                },
                                {
                                    "0": "1",
                                    "1": "12.0",
                                    "2": "December ",
                                    "3": "Ring Rd",
                                    "4": "1743",
                                    "5": "964",
                                    "6": "-779"
                                }
                            ]
                        },
                        "text/html": "<table><tr><th>rank</th><th>month_no</th><th>month</th><th>name</th><th>outgoing</th><th>incoming</th><th>difference</th></tr><tr><td>1</td><td>1.0</td><td>January  </td><td>MIT Stata Center at Vassar St / Main St</td><td>13968</td><td>46369</td><td>32401</td></tr><tr><td>2</td><td>1.0</td><td>January  </td><td>MIT at Mass Ave / Amherst St</td><td>18984</td><td>49635</td><td>30651</td></tr><tr><td>3</td><td>1.0</td><td>January  </td><td>Nashua Street at Red Auerbach Way</td><td>10104</td><td>37861</td><td>27757</td></tr><tr><td>3</td><td>1.0</td><td>January  </td><td>Congress St at Boston City Hall</td><td>716</td><td>1040</td><td>324</td></tr><tr><td>2</td><td>1.0</td><td>January  </td><td>Roxbury YMCA - Warren St at MLK Blvd</td><td>456</td><td>759</td><td>303</td></tr><tr><td>1</td><td>1.0</td><td>January  </td><td>Grove Hall Library - 41 Geneva Ave</td><td>180</td><td>336</td><td>156</td></tr><tr><td>1</td><td>2.0</td><td>February </td><td>MIT Stata Center at Vassar St / Main St</td><td>21048</td><td>46369</td><td>25321</td></tr><tr><td>2</td><td>2.0</td><td>February </td><td>Nashua Street at Red Auerbach Way</td><td>14196</td><td>37861</td><td>23665</td></tr><tr><td>3</td><td>2.0</td><td>February </td><td>MIT at Mass Ave / Amherst St</td><td>26832</td><td>49635</td><td>22803</td></tr><tr><td>3</td><td>2.0</td><td>February </td><td>NCAAA - Walnut Ave at Crawford St</td><td>348</td><td>500</td><td>152</td></tr><tr><td>2</td><td>2.0</td><td>February </td><td>Congress St at Boston City Hall</td><td>1100</td><td>1040</td><td>-60</td></tr><tr><td>1</td><td>2.0</td><td>February </td><td>Uphams Corner</td><td>1177</td><td>1063</td><td>-114</td></tr><tr><td>1</td><td>3.0</td><td>March    </td><td>Nashua Street at Red Auerbach Way</td><td>12660</td><td>37861</td><td>25201</td></tr><tr><td>2</td><td>3.0</td><td>March    </td><td>MIT Stata Center at Vassar St / Main St</td><td>22368</td><td>46369</td><td>24001</td></tr><tr><td>3</td><td>3.0</td><td>March    </td><td>MIT at Mass Ave / Amherst St</td><td>27552</td><td>49635</td><td>22083</td></tr><tr><td>3</td><td>3.0</td><td>March    </td><td>Grove Hall Library - 41 Geneva Ave</td><td>192</td><td>336</td><td>144</td></tr><tr><td>2</td><td>3.0</td><td>March    </td><td>Uphams Corner</td><td>968</td><td>1063</td><td>95</td></tr><tr><td>1</td><td>3.0</td><td>March    </td><td>Congress St at Boston City Hall</td><td>1344</td><td>1040</td><td>-304</td></tr><tr><td>1</td><td>4.0</td><td>April    </td><td>Nashua Street at Red Auerbach Way</td><td>16884</td><td>37861</td><td>20977</td></tr><tr><td>2</td><td>4.0</td><td>April    </td><td>MIT Stata Center at Vassar St / Main St</td><td>28212</td><td>46369</td><td>18157</td></tr><tr><td>3</td><td>4.0</td><td>April    </td><td>Boylston St at Fairfield St</td><td>1528</td><td>16093</td><td>14565</td></tr><tr><td>3</td><td>4.0</td><td>April    </td><td>Roxbury YMCA - Warren St at MLK Blvd</td><td>780</td><td>759</td><td>-21</td></tr><tr><td>2</td><td>4.0</td><td>April    </td><td>NCAAA - Walnut Ave at Crawford St</td><td>576</td><td>500</td><td>-76</td></tr><tr><td>1</td><td>4.0</td><td>April    </td><td>359 Broadway - Broadway at Fayette Street</td><td>10548</td><td>9568</td><td>-980</td></tr><tr><td>1</td><td>5.0</td><td>May      </td><td>Boylston St at Massachusetts Ave</td><td>12856</td><td>15633</td><td>2777</td></tr><tr><td>2</td><td>5.0</td><td>May      </td><td>Nashua Street at Red Auerbach Way</td><td>35124</td><td>37861</td><td>2737</td></tr><tr><td>3</td><td>5.0</td><td>May      </td><td>MIT Stata Center at Vassar St / Main St</td><td>43644</td><td>46369</td><td>2725</td></tr><tr><td>3</td><td>5.0</td><td>May      </td><td>Charles Circle - Charles St at Cambridge St</td><td>28094</td><td>19899</td><td>-8195</td></tr><tr><td>2</td><td>5.0</td><td>May      </td><td>South Station - 700 Atlantic Ave</td><td>49476</td><td>33895</td><td>-15581</td></tr><tr><td>1</td><td>5.0</td><td>May      </td><td>MIT at Mass Ave / Amherst St</td><td>68364</td><td>49635</td><td>-18729</td></tr><tr><td>1</td><td>6.0</td><td>June     </td><td>Northeastern University - North Parking Lot</td><td>8811</td><td>9281</td><td>470</td></tr><tr><td>2</td><td>6.0</td><td>June     </td><td>Uphams Corner T Stop - Magnolia St at Dudley St</td><td>192</td><td>404</td><td>212</td></tr><tr><td>3</td><td>6.0</td><td>June     </td><td>Kendall Street</td><td>9096</td><td>9280</td><td>184</td></tr><tr><td>3</td><td>6.0</td><td>June     </td><td>MIT at Mass Ave / Amherst St</td><td>61488</td><td>49635</td><td>-11853</td></tr><tr><td>2</td><td>6.0</td><td>June     </td><td>Boston City Hall - 28 State St</td><td>34212</td><td>21585</td><td>-12627</td></tr><tr><td>1</td><td>6.0</td><td>June     </td><td>South Station - 700 Atlantic Ave</td><td>52860</td><td>33895</td><td>-18965</td></tr><tr><td>1</td><td>7.0</td><td>July     </td><td>Silber Way</td><td>3216</td><td>7523</td><td>4307</td></tr><tr><td>2</td><td>7.0</td><td>July     </td><td>Brookline Village - Station Street at MBTA</td><td>294</td><td>1563</td><td>1269</td></tr><tr><td>3</td><td>7.0</td><td>July     </td><td>Assembly Square T</td><td>24</td><td>1065</td><td>1041</td></tr><tr><td>3</td><td>7.0</td><td>July     </td><td>Central Square at Mass Ave / Essex St</td><td>59664</td><td>37270</td><td>-22394</td></tr><tr><td>2</td><td>7.0</td><td>July     </td><td>MIT at Mass Ave / Amherst St</td><td>73860</td><td>49635</td><td>-24225</td></tr><tr><td>1</td><td>7.0</td><td>July     </td><td>South Station - 700 Atlantic Ave</td><td>60792</td><td>33895</td><td>-26897</td></tr><tr><td>1</td><td>8.0</td><td>August   </td><td>St Mary's</td><td>2150</td><td>2732</td><td>582</td></tr><tr><td>2</td><td>8.0</td><td>August   </td><td>Washington St at Melnea Cass Blvd</td><td>1656</td><td>1953</td><td>297</td></tr><tr><td>3</td><td>8.0</td><td>August   </td><td>Community Path at Cedar Street</td><td>1734</td><td>1948</td><td>214</td></tr><tr><td>3</td><td>8.0</td><td>August   </td><td>Central Square at Mass Ave / Essex St</td><td>59136</td><td>37270</td><td>-21866</td></tr><tr><td>2</td><td>8.0</td><td>August   </td><td>MIT at Mass Ave / Amherst St</td><td>73620</td><td>49635</td><td>-23985</td></tr><tr><td>1</td><td>8.0</td><td>August   </td><td>South Station - 700 Atlantic Ave</td><td>61380</td><td>33895</td><td>-27485</td></tr><tr><td>1</td><td>9.0</td><td>September</td><td>Post Office Square</td><td>7288</td><td>8687</td><td>1399</td></tr><tr><td>2</td><td>9.0</td><td>September</td><td>Main St at Baldwin St</td><td>400</td><td>657</td><td>257</td></tr><tr><td>3</td><td>9.0</td><td>September</td><td>Burlington Ave at Brookline Ave</td><td>3976</td><td>4143</td><td>167</td></tr><tr><td>3</td><td>9.0</td><td>September</td><td>MIT Pacific St at Purrington St</td><td>46824</td><td>27490</td><td>-19334</td></tr><tr><td>2</td><td>9.0</td><td>September</td><td>Central Square at Mass Ave / Essex St</td><td>58128</td><td>37270</td><td>-20858</td></tr><tr><td>1</td><td>9.0</td><td>September</td><td>MIT at Mass Ave / Amherst St</td><td>89640</td><td>49635</td><td>-40005</td></tr><tr><td>1</td><td>10.0</td><td>October  </td><td>Cross St at Hanover St</td><td>8745</td><td>17095</td><td>8350</td></tr><tr><td>2</td><td>10.0</td><td>October  </td><td>Landmark Center - Brookline Ave at Park Dr</td><td>2672</td><td>8130</td><td>5458</td></tr><tr><td>3</td><td>10.0</td><td>October  </td><td>Murphy Skating Rink - 1880 Day Blvd</td><td>2808</td><td>5640</td><td>2832</td></tr><tr><td>3</td><td>10.0</td><td>October  </td><td>MIT Pacific St at Purrington St</td><td>39744</td><td>27490</td><td>-12254</td></tr><tr><td>2</td><td>10.0</td><td>October  </td><td>MIT Stata Center at Vassar St / Main St</td><td>61740</td><td>46369</td><td>-15371</td></tr><tr><td>1</td><td>10.0</td><td>October  </td><td>MIT at Mass Ave / Amherst St</td><td>75852</td><td>49635</td><td>-26217</td></tr><tr><td>1</td><td>11.0</td><td>November </td><td>Copley Square - Dartmouth St at Boylston St</td><td>12012</td><td>28325</td><td>16313</td></tr><tr><td>2</td><td>11.0</td><td>November </td><td>Nashua Street at Red Auerbach Way</td><td>22812</td><td>37861</td><td>15049</td></tr><tr><td>3</td><td>11.0</td><td>November </td><td>Cross St at Hanover St</td><td>2310</td><td>17095</td><td>14785</td></tr><tr><td>3</td><td>11.0</td><td>November </td><td>MIT at Mass Ave / Amherst St</td><td>50952</td><td>49635</td><td>-1317</td></tr><tr><td>2</td><td>11.0</td><td>November </td><td>MIT Pacific St at Purrington St</td><td>29472</td><td>27490</td><td>-1982</td></tr><tr><td>1</td><td>11.0</td><td>November </td><td>Commonwealth Ave at Agganis Way</td><td>13824</td><td>11186</td><td>-2638</td></tr><tr><td>1</td><td>12.0</td><td>December </td><td>Nashua Street at Red Auerbach Way</td><td>16248</td><td>37861</td><td>21613</td></tr><tr><td>2</td><td>12.0</td><td>December </td><td>MIT Stata Center at Vassar St / Main St</td><td>27252</td><td>46369</td><td>19117</td></tr><tr><td>3</td><td>12.0</td><td>December </td><td>MIT at Mass Ave / Amherst St</td><td>32364</td><td>49635</td><td>17271</td></tr><tr><td>3</td><td>12.0</td><td>December </td><td>Ames St at Broadway</td><td>1263</td><td>874</td><td>-389</td></tr><tr><td>2</td><td>12.0</td><td>December </td><td>Boylston St at Jersey St</td><td>2391</td><td>1807</td><td>-584</td></tr><tr><td>1</td><td>12.0</td><td>December </td><td>Ring Rd</td><td>1743</td><td>964</td><td>-779</td></tr></table>"
                    },
                    "metadata": {}
                }
            ],
            "execution_count": 198
        },
        {
            "cell_type": "code",
            "source": [
                ""
            ],
            "metadata": {
                "azdata_cell_guid": "1f70e99d-bb3a-4a11-8e46-a7aa43011f80"
            },
            "outputs": [
                {
                    "output_type": "display_data",
                    "data": {
                        "text/html": "(1 row(s) affected)"
                    },
                    "metadata": {}
                },
                {
                    "output_type": "display_data",
                    "data": {
                        "text/html": "Total execution time: 00:00:01.875"
                    },
                    "metadata": {}
                },
                {
                    "output_type": "execute_result",
                    "execution_count": 165,
                    "data": {
                        "application/vnd.dataresource+json": {
                            "schema": {
                                "fields": [
                                    {
                                        "name": "date_part"
                                    }
                                ]
                            },
                            "data": [
                                {
                                    "0": "1.0"
                                }
                            ]
                        },
                        "text/html": "<table><tr><th>date_part</th></tr><tr><td>1.0</td></tr></table>"
                    },
                    "metadata": {}
                }
            ],
            "execution_count": 165
        },
        {
            "cell_type": "code",
            "source": [
                ""
            ],
            "metadata": {
                "azdata_cell_guid": "35694c8b-57e9-4662-9cd9-2d8d501f584a"
            },
            "outputs": [],
            "execution_count": null
        },
        {
            "cell_type": "code",
            "source": [
                ""
            ],
            "metadata": {
                "azdata_cell_guid": "4fc26ddb-7fdf-43ec-a9b7-e0148a4c5331"
            },
            "outputs": [],
            "execution_count": null
        },
        {
            "cell_type": "code",
            "source": [
                ""
            ],
            "metadata": {
                "azdata_cell_guid": "7153a2a0-1cfe-4625-b8e5-6d3a238f93dc"
            },
            "outputs": [],
            "execution_count": null
        },
        {
            "cell_type": "code",
            "source": [
                ""
            ],
            "metadata": {
                "azdata_cell_guid": "acd58cb1-a09c-461c-89b8-507190dd0534"
            },
            "outputs": [],
            "execution_count": null
        },
        {
            "cell_type": "code",
            "source": [
                ""
            ],
            "metadata": {
                "azdata_cell_guid": "f72861c4-7be0-4b32-b404-c68cfe258c03"
            },
            "outputs": [],
            "execution_count": null
        },
        {
            "cell_type": "code",
            "source": [
                ""
            ],
            "metadata": {
                "azdata_cell_guid": "1caa2867-1c04-4f0d-bbb8-537e1100b916"
            },
            "outputs": [],
            "execution_count": null
        },
        {
            "cell_type": "code",
            "source": [
                ""
            ],
            "metadata": {
                "azdata_cell_guid": "7e41f664-171b-4515-b595-181b6aa85e00"
            },
            "outputs": [],
            "execution_count": null
        },
        {
            "cell_type": "code",
            "source": [
                ""
            ],
            "metadata": {
                "azdata_cell_guid": "fc9b28db-e3aa-46d7-a5b2-db1616438f1d"
            },
            "outputs": [],
            "execution_count": null
        },
        {
            "cell_type": "code",
            "source": [
                ""
            ],
            "metadata": {
                "azdata_cell_guid": "ed8baad7-c990-4cee-9122-bd9209156c53"
            },
            "outputs": [],
            "execution_count": null
        },
        {
            "cell_type": "code",
            "source": [
                ""
            ],
            "metadata": {
                "azdata_cell_guid": "08485c64-7ef8-4d9a-9cbd-39ff36b076a8"
            },
            "outputs": [],
            "execution_count": null
        },
        {
            "cell_type": "code",
            "source": [
                ""
            ],
            "metadata": {
                "azdata_cell_guid": "b6bf3586-aaa4-4043-8b33-74d27b7b67af"
            },
            "outputs": [],
            "execution_count": null
        },
        {
            "cell_type": "code",
            "source": [
                ""
            ],
            "metadata": {
                "azdata_cell_guid": "978b5e58-3645-4750-870b-650061184bd3"
            },
            "outputs": [],
            "execution_count": null
        }
    ]
}