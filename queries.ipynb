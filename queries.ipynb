{
    "metadata": {
        "kernelspec": {
            "name": "SQL",
            "display_name": "SQL",
            "language": "sql"
        },
        "language_info": {
            "name": "sql",
            "version": ""
        }
    },
    "nbformat_minor": 2,
    "nbformat": 4,
    "cells": [
        {
            "cell_type": "code",
            "source": [
                "-- Rider type by category overall\n",
                "\n",
                "select user_type,\n",
                "count(*) / (cast(sum(count(*)) over() as float)) as percentage\n",
                "from bluebikes_2019\n",
                "group by user_type"
            ],
            "metadata": {
                "azdata_cell_guid": "12bb2717-e69e-4d08-a1c5-9cad64d1d010",
                "tags": []
            },
            "outputs": [
                {
                    "output_type": "display_data",
                    "data": {
                        "text/html": "(2 row(s) affected)"
                    },
                    "metadata": {}
                },
                {
                    "output_type": "display_data",
                    "data": {
                        "text/html": "Total execution time: 00:00:01.058"
                    },
                    "metadata": {}
                },
                {
                    "output_type": "execute_result",
                    "execution_count": 18,
                    "data": {
                        "application/vnd.dataresource+json": {
                            "schema": {
                                "fields": [
                                    {
                                        "name": "user_type"
                                    },
                                    {
                                        "name": "percentage"
                                    }
                                ]
                            },
                            "data": [
                                {
                                    "0": "Customer",
                                    "1": "0.21171939202477505"
                                },
                                {
                                    "0": "Subscriber",
                                    "1": "0.7882806079752249"
                                }
                            ]
                        },
                        "text/html": "<table><tr><th>user_type</th><th>percentage</th></tr><tr><td>Customer</td><td>0.21171939202477505</td></tr><tr><td>Subscriber</td><td>0.7882806079752249</td></tr></table>"
                    },
                    "metadata": {}
                }
            ],
            "execution_count": 18
        },
        {
            "cell_type": "code",
            "source": [
                "-- Rider type by category by quarter\n",
                "\n",
                "with q as(\n",
                "\n",
                "select user_type,\n",
                "ntile(4) over(order by start_time) as quarter\n",
                "\n",
                "from bluebikes_2018)\n",
                "\n",
                "select user_type, quarter,\n",
                "count(*) as rides,\n",
                "count(*) / (cast(sum(count(*)) over(partition by quarter) as float)) as percentage\n",
                "\n",
                "from q\n",
                "\n",
                "group by quarter, user_type\n",
                "order by quarter, percentage desc"
            ],
            "metadata": {
                "azdata_cell_guid": "df75b57d-9fca-4c89-b623-7fb3be7faaeb"
            },
            "outputs": [
                {
                    "output_type": "display_data",
                    "data": {
                        "text/html": "(8 row(s) affected)"
                    },
                    "metadata": {}
                },
                {
                    "output_type": "display_data",
                    "data": {
                        "text/html": "Total execution time: 00:00:01.627"
                    },
                    "metadata": {}
                },
                {
                    "output_type": "execute_result",
                    "execution_count": 19,
                    "data": {
                        "application/vnd.dataresource+json": {
                            "schema": {
                                "fields": [
                                    {
                                        "name": "user_type"
                                    },
                                    {
                                        "name": "quarter"
                                    },
                                    {
                                        "name": "rides"
                                    },
                                    {
                                        "name": "percentage"
                                    }
                                ]
                            },
                            "data": [
                                {
                                    "0": "Subscriber",
                                    "1": "1",
                                    "2": "386792",
                                    "3": "0.8751900658895083"
                                },
                                {
                                    "0": "Customer",
                                    "1": "1",
                                    "2": "55160",
                                    "3": "0.12480993411049164"
                                },
                                {
                                    "0": "Subscriber",
                                    "1": "2",
                                    "2": "339276",
                                    "3": "0.7676761277242777"
                                },
                                {
                                    "0": "Customer",
                                    "1": "2",
                                    "2": "102676",
                                    "3": "0.23232387227572224"
                                },
                                {
                                    "0": "Subscriber",
                                    "1": "3",
                                    "2": "333140",
                                    "3": "0.7537939726349754"
                                },
                                {
                                    "0": "Customer",
                                    "1": "3",
                                    "2": "108811",
                                    "3": "0.24620602736502462"
                                },
                                {
                                    "0": "Subscriber",
                                    "1": "4",
                                    "2": "377469",
                                    "3": "0.8540969473991461"
                                },
                                {
                                    "0": "Customer",
                                    "1": "4",
                                    "2": "64482",
                                    "3": "0.14590305260085393"
                                }
                            ]
                        },
                        "text/html": "<table><tr><th>user_type</th><th>quarter</th><th>rides</th><th>percentage</th></tr><tr><td>Subscriber</td><td>1</td><td>386792</td><td>0.8751900658895083</td></tr><tr><td>Customer</td><td>1</td><td>55160</td><td>0.12480993411049164</td></tr><tr><td>Subscriber</td><td>2</td><td>339276</td><td>0.7676761277242777</td></tr><tr><td>Customer</td><td>2</td><td>102676</td><td>0.23232387227572224</td></tr><tr><td>Subscriber</td><td>3</td><td>333140</td><td>0.7537939726349754</td></tr><tr><td>Customer</td><td>3</td><td>108811</td><td>0.24620602736502462</td></tr><tr><td>Subscriber</td><td>4</td><td>377469</td><td>0.8540969473991461</td></tr><tr><td>Customer</td><td>4</td><td>64482</td><td>0.14590305260085393</td></tr></table>"
                    },
                    "metadata": {}
                }
            ],
            "execution_count": 19
        },
        {
            "cell_type": "code",
            "source": [
                "-- Rider type by category by month\n",
                "\n",
                "with q as(\n",
                "\n",
                "select user_type,\n",
                "ntile(12) over(order by start_time) as month\n",
                "\n",
                "from bluebikes_2018)\n",
                "\n",
                "select user_type, month,\n",
                "count(*) as rides,\n",
                "round(count(*) / sum(count(*)) over(partition by month), 4) * 100 as percentage\n",
                "\n",
                "from q\n",
                "\n",
                "group by month, user_type\n",
                "order by month, percentage desc"
            ],
            "metadata": {
                "azdata_cell_guid": "79bfa8d3-b09b-4c98-be92-b5859d6d6b23"
            },
            "outputs": [
                {
                    "output_type": "display_data",
                    "data": {
                        "text/html": "(24 row(s) affected)"
                    },
                    "metadata": {}
                },
                {
                    "output_type": "display_data",
                    "data": {
                        "text/html": "Total execution time: 00:00:01.444"
                    },
                    "metadata": {}
                },
                {
                    "output_type": "execute_result",
                    "execution_count": 58,
                    "data": {
                        "application/vnd.dataresource+json": {
                            "schema": {
                                "fields": [
                                    {
                                        "name": "user_type"
                                    },
                                    {
                                        "name": "month"
                                    },
                                    {
                                        "name": "rides"
                                    },
                                    {
                                        "name": "percentage"
                                    }
                                ]
                            },
                            "data": [
                                {
                                    "0": "Subscriber",
                                    "1": "1",
                                    "2": "140442",
                                    "3": "95.3300"
                                },
                                {
                                    "0": "Customer",
                                    "1": "1",
                                    "2": "6876",
                                    "3": "4.6700"
                                },
                                {
                                    "0": "Subscriber",
                                    "1": "2",
                                    "2": "127292",
                                    "3": "86.4100"
                                },
                                {
                                    "0": "Customer",
                                    "1": "2",
                                    "2": "20026",
                                    "3": "13.5900"
                                },
                                {
                                    "0": "Subscriber",
                                    "1": "3",
                                    "2": "119059",
                                    "3": "80.8200"
                                },
                                {
                                    "0": "Customer",
                                    "1": "3",
                                    "2": "28258",
                                    "3": "19.1800"
                                },
                                {
                                    "0": "Subscriber",
                                    "1": "4",
                                    "2": "116703",
                                    "3": "79.2200"
                                },
                                {
                                    "0": "Customer",
                                    "1": "4",
                                    "2": "30614",
                                    "3": "20.7800"
                                },
                                {
                                    "0": "Subscriber",
                                    "1": "5",
                                    "2": "112285",
                                    "3": "76.2200"
                                },
                                {
                                    "0": "Customer",
                                    "1": "5",
                                    "2": "35032",
                                    "3": "23.7800"
                                },
                                {
                                    "0": "Subscriber",
                                    "1": "6",
                                    "2": "110287",
                                    "3": "74.8600"
                                },
                                {
                                    "0": "Customer",
                                    "1": "6",
                                    "2": "37030",
                                    "3": "25.1400"
                                },
                                {
                                    "0": "Subscriber",
                                    "1": "7",
                                    "2": "108944",
                                    "3": "73.9500"
                                },
                                {
                                    "0": "Customer",
                                    "1": "7",
                                    "2": "38373",
                                    "3": "26.0500"
                                },
                                {
                                    "0": "Subscriber",
                                    "1": "8",
                                    "2": "108369",
                                    "3": "73.5600"
                                },
                                {
                                    "0": "Customer",
                                    "1": "8",
                                    "2": "38948",
                                    "3": "26.4400"
                                },
                                {
                                    "0": "Subscriber",
                                    "1": "9",
                                    "2": "115827",
                                    "3": "78.6200"
                                },
                                {
                                    "0": "Customer",
                                    "1": "9",
                                    "2": "31490",
                                    "3": "21.3800"
                                },
                                {
                                    "0": "Subscriber",
                                    "1": "10",
                                    "2": "117610",
                                    "3": "79.8300"
                                },
                                {
                                    "0": "Customer",
                                    "1": "10",
                                    "2": "29707",
                                    "3": "20.1700"
                                },
                                {
                                    "0": "Subscriber",
                                    "1": "11",
                                    "2": "126216",
                                    "3": "85.6800"
                                },
                                {
                                    "0": "Customer",
                                    "1": "11",
                                    "2": "21101",
                                    "3": "14.3200"
                                },
                                {
                                    "0": "Subscriber",
                                    "1": "12",
                                    "2": "133643",
                                    "3": "90.7200"
                                },
                                {
                                    "0": "Customer",
                                    "1": "12",
                                    "2": "13674",
                                    "3": "9.2800"
                                }
                            ]
                        },
                        "text/html": "<table><tr><th>user_type</th><th>month</th><th>rides</th><th>percentage</th></tr><tr><td>Subscriber</td><td>1</td><td>140442</td><td>95.3300</td></tr><tr><td>Customer</td><td>1</td><td>6876</td><td>4.6700</td></tr><tr><td>Subscriber</td><td>2</td><td>127292</td><td>86.4100</td></tr><tr><td>Customer</td><td>2</td><td>20026</td><td>13.5900</td></tr><tr><td>Subscriber</td><td>3</td><td>119059</td><td>80.8200</td></tr><tr><td>Customer</td><td>3</td><td>28258</td><td>19.1800</td></tr><tr><td>Subscriber</td><td>4</td><td>116703</td><td>79.2200</td></tr><tr><td>Customer</td><td>4</td><td>30614</td><td>20.7800</td></tr><tr><td>Subscriber</td><td>5</td><td>112285</td><td>76.2200</td></tr><tr><td>Customer</td><td>5</td><td>35032</td><td>23.7800</td></tr><tr><td>Subscriber</td><td>6</td><td>110287</td><td>74.8600</td></tr><tr><td>Customer</td><td>6</td><td>37030</td><td>25.1400</td></tr><tr><td>Subscriber</td><td>7</td><td>108944</td><td>73.9500</td></tr><tr><td>Customer</td><td>7</td><td>38373</td><td>26.0500</td></tr><tr><td>Subscriber</td><td>8</td><td>108369</td><td>73.5600</td></tr><tr><td>Customer</td><td>8</td><td>38948</td><td>26.4400</td></tr><tr><td>Subscriber</td><td>9</td><td>115827</td><td>78.6200</td></tr><tr><td>Customer</td><td>9</td><td>31490</td><td>21.3800</td></tr><tr><td>Subscriber</td><td>10</td><td>117610</td><td>79.8300</td></tr><tr><td>Customer</td><td>10</td><td>29707</td><td>20.1700</td></tr><tr><td>Subscriber</td><td>11</td><td>126216</td><td>85.6800</td></tr><tr><td>Customer</td><td>11</td><td>21101</td><td>14.3200</td></tr><tr><td>Subscriber</td><td>12</td><td>133643</td><td>90.7200</td></tr><tr><td>Customer</td><td>12</td><td>13674</td><td>9.2800</td></tr></table>"
                    },
                    "metadata": {}
                }
            ],
            "execution_count": 58
        },
        {
            "cell_type": "code",
            "source": [
                "-- Rider type by gender by month\n",
                "\n",
                "with q as(\n",
                "select\n",
                "case when user_gender = 1 then 'male' else 'female' end as gender,\n",
                "ntile(12) over(order by start_time) as month\n",
                "\n",
                "from bluebikes_2018)\n",
                "\n",
                "select gender, month,\n",
                "count(*) as rides,\n",
                "round(count(*) / sum(count(*)) over(partition by month), 4) * 100 as percentage\n",
                "\n",
                "from q\n",
                "\n",
                "group by month, gender\n",
                "order by month, percentage desc"
            ],
            "metadata": {
                "azdata_cell_guid": "99bbc616-3580-49f8-af23-1ce66bbb8aac"
            },
            "outputs": [
                {
                    "output_type": "display_data",
                    "data": {
                        "text/html": "(24 row(s) affected)"
                    },
                    "metadata": {}
                },
                {
                    "output_type": "display_data",
                    "data": {
                        "text/html": "Total execution time: 00:00:02.103"
                    },
                    "metadata": {}
                },
                {
                    "output_type": "execute_result",
                    "execution_count": 10,
                    "data": {
                        "application/vnd.dataresource+json": {
                            "schema": {
                                "fields": [
                                    {
                                        "name": "gender"
                                    },
                                    {
                                        "name": "month"
                                    },
                                    {
                                        "name": "rides"
                                    },
                                    {
                                        "name": "percentage"
                                    }
                                ]
                            },
                            "data": [
                                {
                                    "0": "male",
                                    "1": "1",
                                    "2": "107996",
                                    "3": "73.3100"
                                },
                                {
                                    "0": "female",
                                    "1": "1",
                                    "2": "39322",
                                    "3": "26.6900"
                                },
                                {
                                    "0": "male",
                                    "1": "2",
                                    "2": "96758",
                                    "3": "65.6800"
                                },
                                {
                                    "0": "female",
                                    "1": "2",
                                    "2": "50560",
                                    "3": "34.3200"
                                },
                                {
                                    "0": "male",
                                    "1": "3",
                                    "2": "93375",
                                    "3": "63.3800"
                                },
                                {
                                    "0": "female",
                                    "1": "3",
                                    "2": "53942",
                                    "3": "36.6200"
                                },
                                {
                                    "0": "male",
                                    "1": "4",
                                    "2": "91260",
                                    "3": "61.9500"
                                },
                                {
                                    "0": "female",
                                    "1": "4",
                                    "2": "56057",
                                    "3": "38.0500"
                                },
                                {
                                    "0": "male",
                                    "1": "5",
                                    "2": "89239",
                                    "3": "60.5800"
                                },
                                {
                                    "0": "female",
                                    "1": "5",
                                    "2": "58078",
                                    "3": "39.4200"
                                },
                                {
                                    "0": "male",
                                    "1": "6",
                                    "2": "89398",
                                    "3": "60.6800"
                                },
                                {
                                    "0": "female",
                                    "1": "6",
                                    "2": "57919",
                                    "3": "39.3200"
                                },
                                {
                                    "0": "male",
                                    "1": "7",
                                    "2": "90174",
                                    "3": "61.2100"
                                },
                                {
                                    "0": "female",
                                    "1": "7",
                                    "2": "57143",
                                    "3": "38.7900"
                                },
                                {
                                    "0": "male",
                                    "1": "8",
                                    "2": "88581",
                                    "3": "60.1300"
                                },
                                {
                                    "0": "female",
                                    "1": "8",
                                    "2": "58736",
                                    "3": "39.8700"
                                },
                                {
                                    "0": "male",
                                    "1": "9",
                                    "2": "92492",
                                    "3": "62.7800"
                                },
                                {
                                    "0": "female",
                                    "1": "9",
                                    "2": "54825",
                                    "3": "37.2200"
                                },
                                {
                                    "0": "male",
                                    "1": "10",
                                    "2": "96326",
                                    "3": "65.3900"
                                },
                                {
                                    "0": "female",
                                    "1": "10",
                                    "2": "50991",
                                    "3": "34.6100"
                                },
                                {
                                    "0": "male",
                                    "1": "11",
                                    "2": "100379",
                                    "3": "68.1400"
                                },
                                {
                                    "0": "female",
                                    "1": "11",
                                    "2": "46938",
                                    "3": "31.8600"
                                },
                                {
                                    "0": "male",
                                    "1": "12",
                                    "2": "105757",
                                    "3": "71.7900"
                                },
                                {
                                    "0": "female",
                                    "1": "12",
                                    "2": "41560",
                                    "3": "28.2100"
                                }
                            ]
                        },
                        "text/html": "<table><tr><th>gender</th><th>month</th><th>rides</th><th>percentage</th></tr><tr><td>male</td><td>1</td><td>107996</td><td>73.3100</td></tr><tr><td>female</td><td>1</td><td>39322</td><td>26.6900</td></tr><tr><td>male</td><td>2</td><td>96758</td><td>65.6800</td></tr><tr><td>female</td><td>2</td><td>50560</td><td>34.3200</td></tr><tr><td>male</td><td>3</td><td>93375</td><td>63.3800</td></tr><tr><td>female</td><td>3</td><td>53942</td><td>36.6200</td></tr><tr><td>male</td><td>4</td><td>91260</td><td>61.9500</td></tr><tr><td>female</td><td>4</td><td>56057</td><td>38.0500</td></tr><tr><td>male</td><td>5</td><td>89239</td><td>60.5800</td></tr><tr><td>female</td><td>5</td><td>58078</td><td>39.4200</td></tr><tr><td>male</td><td>6</td><td>89398</td><td>60.6800</td></tr><tr><td>female</td><td>6</td><td>57919</td><td>39.3200</td></tr><tr><td>male</td><td>7</td><td>90174</td><td>61.2100</td></tr><tr><td>female</td><td>7</td><td>57143</td><td>38.7900</td></tr><tr><td>male</td><td>8</td><td>88581</td><td>60.1300</td></tr><tr><td>female</td><td>8</td><td>58736</td><td>39.8700</td></tr><tr><td>male</td><td>9</td><td>92492</td><td>62.7800</td></tr><tr><td>female</td><td>9</td><td>54825</td><td>37.2200</td></tr><tr><td>male</td><td>10</td><td>96326</td><td>65.3900</td></tr><tr><td>female</td><td>10</td><td>50991</td><td>34.6100</td></tr><tr><td>male</td><td>11</td><td>100379</td><td>68.1400</td></tr><tr><td>female</td><td>11</td><td>46938</td><td>31.8600</td></tr><tr><td>male</td><td>12</td><td>105757</td><td>71.7900</td></tr><tr><td>female</td><td>12</td><td>41560</td><td>28.2100</td></tr></table>"
                    },
                    "metadata": {}
                }
            ],
            "execution_count": 10
        },
        {
            "cell_type": "code",
            "source": [
                "select * from bluebikes_2018\n",
                "limit 10"
            ],
            "metadata": {
                "azdata_cell_guid": "a60c6c97-1c99-409e-806e-38273a9bfac3"
            },
            "outputs": [
                {
                    "output_type": "display_data",
                    "data": {
                        "text/html": "(10 row(s) affected)"
                    },
                    "metadata": {}
                },
                {
                    "output_type": "display_data",
                    "data": {
                        "text/html": "Total execution time: 00:00:00.191"
                    },
                    "metadata": {}
                },
                {
                    "output_type": "execute_result",
                    "execution_count": 32,
                    "data": {
                        "application/vnd.dataresource+json": {
                            "schema": {
                                "fields": [
                                    {
                                        "name": "bike_id"
                                    },
                                    {
                                        "name": "start_time"
                                    },
                                    {
                                        "name": "end_time"
                                    },
                                    {
                                        "name": "start_station_id"
                                    },
                                    {
                                        "name": "end_station_id"
                                    },
                                    {
                                        "name": "user_type"
                                    },
                                    {
                                        "name": "user_birth_year"
                                    },
                                    {
                                        "name": "user_gender"
                                    }
                                ]
                            },
                            "data": [
                                {
                                    "0": "2749",
                                    "1": "2018-10-01T00:01:57.186000",
                                    "2": "2018-10-01T00:06:34.232000",
                                    "3": "67",
                                    "4": "189",
                                    "5": "Subscriber",
                                    "6": "1996",
                                    "7": "1"
                                },
                                {
                                    "0": "3416",
                                    "1": "2018-10-01T00:03:22.310000",
                                    "2": "2018-10-01T00:19:11.505000",
                                    "3": "45",
                                    "4": "103",
                                    "5": "Subscriber",
                                    "6": "1992",
                                    "7": "1"
                                },
                                {
                                    "0": "3647",
                                    "1": "2018-10-01T00:05:49.220000",
                                    "2": "2018-10-01T00:51:18.540000",
                                    "3": "160",
                                    "4": "160",
                                    "5": "Customer",
                                    "6": "1969",
                                    "7": "0"
                                },
                                {
                                    "0": "3673",
                                    "1": "2018-10-01T00:06:21.292000",
                                    "2": "2018-10-01T00:49:45.876000",
                                    "3": "160",
                                    "4": "160",
                                    "5": "Customer",
                                    "6": "1969",
                                    "7": "0"
                                },
                                {
                                    "0": "3065",
                                    "1": "2018-10-01T00:06:46.653000",
                                    "2": "2018-10-01T00:20:22.714000",
                                    "3": "4",
                                    "4": "190",
                                    "5": "Subscriber",
                                    "6": "1998",
                                    "7": "2"
                                },
                                {
                                    "0": "3301",
                                    "1": "2018-10-01T00:06:53.431000",
                                    "2": "2018-10-01T00:17:11.447000",
                                    "3": "103",
                                    "4": "233",
                                    "5": "Subscriber",
                                    "6": "1996",
                                    "7": "1"
                                },
                                {
                                    "0": "3607",
                                    "1": "2018-10-01T00:08:20.504000",
                                    "2": "2018-10-01T00:10:46.318000",
                                    "3": "74",
                                    "4": "97",
                                    "5": "Subscriber",
                                    "6": "1999",
                                    "7": "1"
                                },
                                {
                                    "0": "3905",
                                    "1": "2018-10-01T00:08:24.845000",
                                    "2": "2018-10-01T00:33:18.243000",
                                    "3": "33",
                                    "4": "120",
                                    "5": "Subscriber",
                                    "6": "1982",
                                    "7": "1"
                                },
                                {
                                    "0": "3434",
                                    "1": "2018-10-01T00:08:54.932000",
                                    "2": "2018-10-01T00:24:57.315000",
                                    "3": "11",
                                    "4": "70",
                                    "5": "Customer",
                                    "6": "1969",
                                    "7": "0"
                                },
                                {
                                    "0": "3395",
                                    "1": "2018-10-01T00:08:59.323000",
                                    "2": "2018-10-01T00:28:35.436000",
                                    "3": "134",
                                    "4": "106",
                                    "5": "Customer",
                                    "6": "1997",
                                    "7": "1"
                                }
                            ]
                        },
                        "text/html": "<table><tr><th>bike_id</th><th>start_time</th><th>end_time</th><th>start_station_id</th><th>end_station_id</th><th>user_type</th><th>user_birth_year</th><th>user_gender</th></tr><tr><td>2749</td><td>2018-10-01T00:01:57.186000</td><td>2018-10-01T00:06:34.232000</td><td>67</td><td>189</td><td>Subscriber</td><td>1996</td><td>1</td></tr><tr><td>3416</td><td>2018-10-01T00:03:22.310000</td><td>2018-10-01T00:19:11.505000</td><td>45</td><td>103</td><td>Subscriber</td><td>1992</td><td>1</td></tr><tr><td>3647</td><td>2018-10-01T00:05:49.220000</td><td>2018-10-01T00:51:18.540000</td><td>160</td><td>160</td><td>Customer</td><td>1969</td><td>0</td></tr><tr><td>3673</td><td>2018-10-01T00:06:21.292000</td><td>2018-10-01T00:49:45.876000</td><td>160</td><td>160</td><td>Customer</td><td>1969</td><td>0</td></tr><tr><td>3065</td><td>2018-10-01T00:06:46.653000</td><td>2018-10-01T00:20:22.714000</td><td>4</td><td>190</td><td>Subscriber</td><td>1998</td><td>2</td></tr><tr><td>3301</td><td>2018-10-01T00:06:53.431000</td><td>2018-10-01T00:17:11.447000</td><td>103</td><td>233</td><td>Subscriber</td><td>1996</td><td>1</td></tr><tr><td>3607</td><td>2018-10-01T00:08:20.504000</td><td>2018-10-01T00:10:46.318000</td><td>74</td><td>97</td><td>Subscriber</td><td>1999</td><td>1</td></tr><tr><td>3905</td><td>2018-10-01T00:08:24.845000</td><td>2018-10-01T00:33:18.243000</td><td>33</td><td>120</td><td>Subscriber</td><td>1982</td><td>1</td></tr><tr><td>3434</td><td>2018-10-01T00:08:54.932000</td><td>2018-10-01T00:24:57.315000</td><td>11</td><td>70</td><td>Customer</td><td>1969</td><td>0</td></tr><tr><td>3395</td><td>2018-10-01T00:08:59.323000</td><td>2018-10-01T00:28:35.436000</td><td>134</td><td>106</td><td>Customer</td><td>1997</td><td>1</td></tr></table>"
                    },
                    "metadata": {}
                }
            ],
            "execution_count": 32
        },
        {
            "cell_type": "code",
            "source": [
                "-- Riders by age group\n",
                "\n",
                "select \n",
                "count(1) as riders,\n",
                "-- 2018 - trunc(cast(user_birth_year as numeric), 0), # this is for sanity testing\n",
                "case \n",
                "when (trunc(cast(user_birth_year as numeric), 0) || '-01-01')::timestamp > '2018-01-01'::timestamp - interval '12 years' then 'under_12'\n",
                "when (trunc(cast(user_birth_year as numeric), 0) || '-01-01')::timestamp > '2018-01-01'::timestamp - interval '20 years' then 'teenager'\n",
                "when (trunc(cast(user_birth_year as numeric), 0) || '-01-01')::timestamp > '2018-01-01'::timestamp - interval '30 years' then '20s'\n",
                "when (trunc(cast(user_birth_year as numeric), 0) || '-01-01')::timestamp > '2018-01-01'::timestamp - interval '40 years' then '30s'\n",
                "when (trunc(cast(user_birth_year as numeric), 0) || '-01-01')::timestamp > '2018-01-01'::timestamp - interval '50 years' then '40s'\n",
                "when (trunc(cast(user_birth_year as numeric), 0) || '-01-01')::timestamp > '2018-01-01'::timestamp - interval '60 years' then '50s'\n",
                "when (trunc(cast(user_birth_year as numeric), 0) || '-01-01')::timestamp > '2018-01-01'::timestamp - interval '70 years' then '60s'\n",
                "when (trunc(cast(user_birth_year as numeric), 0) || '-01-01')::timestamp > '2018-01-01'::timestamp - interval '80 years' then '70s'\n",
                "when (trunc(cast(user_birth_year as numeric), 0) || '-01-01')::timestamp > '2018-01-01'::timestamp - interval '90 years' then '80s'\n",
                "when (trunc(cast(user_birth_year as numeric), 0) || '-01-01')::timestamp > '2018-01-01'::timestamp - interval '90 years' then '80s'\n",
                "else 'older' end as age_group,\n",
                "round(count(1) / sum(count(1)) over(), 4) * 100 as percentage\n",
                "from bluebikes_2018\n",
                "group by age_group\n",
                "order by percentage desc\n",
                "-- limit 500"
            ],
            "metadata": {
                "azdata_cell_guid": "4e9e5ea3-cb02-49a9-8d80-08e0aced022b"
            },
            "outputs": [
                {
                    "output_type": "display_data",
                    "data": {
                        "text/html": "(9 row(s) affected)"
                    },
                    "metadata": {}
                },
                {
                    "output_type": "display_data",
                    "data": {
                        "text/html": "Total execution time: 00:00:04.557"
                    },
                    "metadata": {}
                },
                {
                    "output_type": "execute_result",
                    "execution_count": 44,
                    "data": {
                        "application/vnd.dataresource+json": {
                            "schema": {
                                "fields": [
                                    {
                                        "name": "riders"
                                    },
                                    {
                                        "name": "age_group"
                                    },
                                    {
                                        "name": "percentage"
                                    }
                                ]
                            },
                            "data": [
                                {
                                    "0": "699781",
                                    "1": "20s",
                                    "2": "39.5800"
                                },
                                {
                                    "0": "465235",
                                    "1": "30s",
                                    "2": "26.3200"
                                },
                                {
                                    "0": "383585",
                                    "1": "40s",
                                    "2": "21.7000"
                                },
                                {
                                    "0": "122924",
                                    "1": "50s",
                                    "2": "6.9500"
                                },
                                {
                                    "0": "48958",
                                    "1": "60s",
                                    "2": "2.7700"
                                },
                                {
                                    "0": "30925",
                                    "1": "teenager",
                                    "2": "1.7500"
                                },
                                {
                                    "0": "9994",
                                    "1": "older",
                                    "2": "0.5700"
                                },
                                {
                                    "0": "6125",
                                    "1": "70s",
                                    "2": "0.3500"
                                },
                                {
                                    "0": "279",
                                    "1": "80s",
                                    "2": "0.0200"
                                }
                            ]
                        },
                        "text/html": "<table><tr><th>riders</th><th>age_group</th><th>percentage</th></tr><tr><td>699781</td><td>20s</td><td>39.5800</td></tr><tr><td>465235</td><td>30s</td><td>26.3200</td></tr><tr><td>383585</td><td>40s</td><td>21.7000</td></tr><tr><td>122924</td><td>50s</td><td>6.9500</td></tr><tr><td>48958</td><td>60s</td><td>2.7700</td></tr><tr><td>30925</td><td>teenager</td><td>1.7500</td></tr><tr><td>9994</td><td>older</td><td>0.5700</td></tr><tr><td>6125</td><td>70s</td><td>0.3500</td></tr><tr><td>279</td><td>80s</td><td>0.0200</td></tr></table>"
                    },
                    "metadata": {}
                }
            ],
            "execution_count": 44
        },
        {
            "cell_type": "code",
            "source": [
                "-- Riders by gender and age group\n",
                "\n",
                "select count(1) as riders,\n",
                "       case\n",
                "           when user_gender = 1 then 'male'\n",
                "           when user_gender = 2 then 'female'\n",
                "           else 'unspecified'\n",
                "       end as gender, -- 2018 - trunc(cast(user_birth_year as numeric), 0), # this is for sanity testing\n",
                "case\n",
                "    when (trunc(cast(user_birth_year as numeric), 0) || '-01-01')::timestamp > '2018-01-01'::timestamp - interval '12 years' then 'under_12'\n",
                "    when (trunc(cast(user_birth_year as numeric), 0) || '-01-01')::timestamp > '2018-01-01'::timestamp - interval '20 years' then 'teenager'\n",
                "    when (trunc(cast(user_birth_year as numeric), 0) || '-01-01')::timestamp > '2018-01-01'::timestamp - interval '30 years' then '20s'\n",
                "    when (trunc(cast(user_birth_year as numeric), 0) || '-01-01')::timestamp > '2018-01-01'::timestamp - interval '40 years' then '30s'\n",
                "    when (trunc(cast(user_birth_year as numeric), 0) || '-01-01')::timestamp > '2018-01-01'::timestamp - interval '50 years' then '40s'\n",
                "    when (trunc(cast(user_birth_year as numeric), 0) || '-01-01')::timestamp > '2018-01-01'::timestamp - interval '60 years' then '50s'\n",
                "    when (trunc(cast(user_birth_year as numeric), 0) || '-01-01')::timestamp > '2018-01-01'::timestamp - interval '70 years' then '60s'\n",
                "    when (trunc(cast(user_birth_year as numeric), 0) || '-01-01')::timestamp > '2018-01-01'::timestamp - interval '80 years' then '70s'\n",
                "    when (trunc(cast(user_birth_year as numeric), 0) || '-01-01')::timestamp > '2018-01-01'::timestamp - interval '90 years' then '80s'\n",
                "    when (trunc(cast(user_birth_year as numeric), 0) || '-01-01')::timestamp > '2018-01-01'::timestamp - interval '90 years' then '80s'\n",
                "    else 'older'\n",
                "                                                                                                        end as age_group,\n",
                "                                                                                                        round(count(1) / sum(count(1)) over(), 4) * 100 as percentage\n",
                "                                                                                                        -- round(count(1) / sum(count(1)) over(partition by age_group), 4) * 100 as age_group_percent\n",
                "from bluebikes_2018\n",
                "group by age_group,\n",
                "         gender\n",
                "order by age_group,\n",
                "         gender -- limit 500"
            ],
            "metadata": {
                "azdata_cell_guid": "e33e4753-6d7d-41d0-bf2d-dd280f4e14f2"
            },
            "outputs": [
{
    "output_type": "display_data",
    "data": {
        "text/html": "(26 row(s) affected)"
    },
    "metadata": {}
}, {
    "output_type": "display_data",
    "data": {
        "text/html": "Total execution time: 00:00:04.623"
    },
    "metadata": {}
}, {
    "output_type": "execute_result",
    "metadata": {},
    "execution_count": 18,
    "data": {
        "application/vnd.dataresource+json": {
            "schema": {
                "fields": [
                    {
                        "name": "riders"
                    },
                    {
                        "name": "gender"
                    },
                    {
                        "name": "age_group"
                    },
                    {
                        "name": "percentage"
                    }
                ]
            },
            "data": [
                {
                    "0": "198274",
                    "1": "female",
                    "2": "20s",
                    "3": "11.2200"
                },
                {
                    "0": "497868",
                    "1": "male",
                    "2": "20s",
                    "3": "28.1600"
                },
                {
                    "0": "3639",
                    "1": "unspecified",
                    "2": "20s",
                    "3": "0.2100"
                },
                {
                    "0": "111795",
                    "1": "female",
                    "2": "30s",
                    "3": "6.3200"
                },
                {
                    "0": "349456",
                    "1": "male",
                    "2": "30s",
                    "3": "19.7700"
                },
                {
                    "0": "3984",
                    "1": "unspecified",
                    "2": "30s",
                    "3": "0.2300"
                },
                {
                    "0": "35141",
                    "1": "female",
                    "2": "40s",
                    "3": "1.9900"
                },
                {
                    "0": "139249",
                    "1": "male",
                    "2": "40s",
                    "3": "7.8800"
                },
                {
                    "0": "209195",
                    "1": "unspecified",
                    "2": "40s",
                    "3": "11.8300"
                },
                {
                    "0": "32777",
                    "1": "female",
                    "2": "50s",
                    "3": "1.8500"
                },
                {
                    "0": "89445",
                    "1": "male",
                    "2": "50s",
                    "3": "5.0600"
                },
                {
                    "0": "702",
                    "1": "unspecified",
                    "2": "50s",
                    "3": "0.0400"
                },
                {
                    "0": "12369",
                    "1": "female",
                    "2": "60s",
                    "3": "0.7000"
                },
                {
                    "0": "36509",
                    "1": "male",
                    "2": "60s",
                    "3": "2.0700"
                },
                {
                    "0": "80",
                    "1": "unspecified",
                    "2": "60s",
                    "3": "0.0000"
                },
                {
                    "0": "817",
                    "1": "female",
                    "2": "70s",
                    "3": "0.0500"
                },
                {
                    "0": "5287",
                    "1": "male",
                    "2": "70s",
                    "3": "0.3000"
                },
                {
                    "0": "21",
                    "1": "unspecified",
                    "2": "70s",
                    "3": "0.0000"
                },
                {
                    "0": "3",
                    "1": "female",
                    "2": "80s",
                    "3": "0.0000"
                },
                {
                    "0": "276",
                    "1": "male",
                    "2": "80s",
                    "3": "0.0200"
                },
                {
                    "0": "34",
                    "1": "female",
                    "2": "older",
                    "3": "0.0000"
                },
                {
                    "0": "212",
                    "1": "male",
                    "2": "older",
                    "3": "0.0100"
                },
                {
                    "0": "9748",
                    "1": "unspecified",
                    "2": "older",
                    "3": "0.5500"
                },
                {
                    "0": "7184",
                    "1": "female",
                    "2": "teenager",
                    "3": "0.4100"
                },
                {
                    "0": "23433",
                    "1": "male",
                    "2": "teenager",
                    "3": "1.3300"
                },
                {
                    "0": "308",
                    "1": "unspecified",
                    "2": "teenager",
                    "3": "0.0200"
                }
            ]
        },
        "text/html": [
            "<table>",
            "<tr><th>riders</th><th>gender</th><th>age_group</th><th>percentage</th></tr>",
            "<tr><td>198274</td><td>female</td><td>20s</td><td>11.2200</td></tr>",
            "<tr><td>497868</td><td>male</td><td>20s</td><td>28.1600</td></tr>",
            "<tr><td>3639</td><td>unspecified</td><td>20s</td><td>0.2100</td></tr>",
            "<tr><td>111795</td><td>female</td><td>30s</td><td>6.3200</td></tr>",
            "<tr><td>349456</td><td>male</td><td>30s</td><td>19.7700</td></tr>",
            "<tr><td>3984</td><td>unspecified</td><td>30s</td><td>0.2300</td></tr>",
            "<tr><td>35141</td><td>female</td><td>40s</td><td>1.9900</td></tr>",
            "<tr><td>139249</td><td>male</td><td>40s</td><td>7.8800</td></tr>",
            "<tr><td>209195</td><td>unspecified</td><td>40s</td><td>11.8300</td></tr>",
            "<tr><td>32777</td><td>female</td><td>50s</td><td>1.8500</td></tr>",
            "<tr><td>89445</td><td>male</td><td>50s</td><td>5.0600</td></tr>",
            "<tr><td>702</td><td>unspecified</td><td>50s</td><td>0.0400</td></tr>",
            "<tr><td>12369</td><td>female</td><td>60s</td><td>0.7000</td></tr>",
            "<tr><td>36509</td><td>male</td><td>60s</td><td>2.0700</td></tr>",
            "<tr><td>80</td><td>unspecified</td><td>60s</td><td>0.0000</td></tr>",
            "<tr><td>817</td><td>female</td><td>70s</td><td>0.0500</td></tr>",
            "<tr><td>5287</td><td>male</td><td>70s</td><td>0.3000</td></tr>",
            "<tr><td>21</td><td>unspecified</td><td>70s</td><td>0.0000</td></tr>",
            "<tr><td>3</td><td>female</td><td>80s</td><td>0.0000</td></tr>",
            "<tr><td>276</td><td>male</td><td>80s</td><td>0.0200</td></tr>",
            "<tr><td>34</td><td>female</td><td>older</td><td>0.0000</td></tr>",
            "<tr><td>212</td><td>male</td><td>older</td><td>0.0100</td></tr>",
            "<tr><td>9748</td><td>unspecified</td><td>older</td><td>0.5500</td></tr>",
            "<tr><td>7184</td><td>female</td><td>teenager</td><td>0.4100</td></tr>",
            "<tr><td>23433</td><td>male</td><td>teenager</td><td>1.3300</td></tr>",
            "<tr><td>308</td><td>unspecified</td><td>teenager</td><td>0.0200</td></tr>",
            "</table>"
        ]
    }
}
],
            "execution_count": 18
        },
        {
            "cell_type": "code",
            "source": [
                "-- Riders by gender and age group WORKING!!\n",
                "\n",
                "select riders,\n",
                "       gender,\n",
                "       age_group,\n",
                "       total_percent,\n",
                "       round(riders / sum(riders) over(partition by age_group), 4) * 100 as age_group_percent\n",
                "from\n",
                "    (select count(1) as riders,\n",
                "            case\n",
                "                when user_gender = 1 then 'male'\n",
                "                when user_gender = 2 then 'female'\n",
                "                else 'unspecified'\n",
                "            end as gender, -- 2018 - trunc(cast(user_birth_year as numeric), 0), # this is for sanity testing\n",
                " case\n",
                "     when (trunc(cast(user_birth_year as numeric), 0) || '-01-01')::timestamp > '2018-01-01'::timestamp - interval '12 years' then 'under_12'\n",
                "     when (trunc(cast(user_birth_year as numeric), 0) || '-01-01')::timestamp > '2018-01-01'::timestamp - interval '20 years' then 'teenager'\n",
                "     when (trunc(cast(user_birth_year as numeric), 0) || '-01-01')::timestamp > '2018-01-01'::timestamp - interval '30 years' then '20s'\n",
                "     when (trunc(cast(user_birth_year as numeric), 0) || '-01-01')::timestamp > '2018-01-01'::timestamp - interval '40 years' then '30s'\n",
                "     when (trunc(cast(user_birth_year as numeric), 0) || '-01-01')::timestamp > '2018-01-01'::timestamp - interval '50 years' then '40s'\n",
                "     when (trunc(cast(user_birth_year as numeric), 0) || '-01-01')::timestamp > '2018-01-01'::timestamp - interval '60 years' then '50s'\n",
                "     when (trunc(cast(user_birth_year as numeric), 0) || '-01-01')::timestamp > '2018-01-01'::timestamp - interval '70 years' then '60s'\n",
                "     when (trunc(cast(user_birth_year as numeric), 0) || '-01-01')::timestamp > '2018-01-01'::timestamp - interval '80 years' then '70s'\n",
                "     when (trunc(cast(user_birth_year as numeric), 0) || '-01-01')::timestamp > '2018-01-01'::timestamp - interval '90 years' then '80s'\n",
                "     when (trunc(cast(user_birth_year as numeric), 0) || '-01-01')::timestamp > '2018-01-01'::timestamp - interval '90 years' then '80s'\n",
                "     else 'older'\n",
                " end as age_group,\n",
                " round(count(1) / sum(count(1)) over(), 4) * 100 as total_percent\n",
                "     from bluebikes_2018\n",
                "     group by age_group,\n",
                "              gender\n",
                "     order by age_group,\n",
                "              gender) big\n",
                "group by age_group,\n",
                "         gender,\n",
                "         riders,\n",
                "         total_percent\n",
                "order by age_group,\n",
                "         gender"
            ],
            "metadata": {
                "azdata_cell_guid": "dd0cfaa5-c990-4cc6-91f5-7a7dbe1b293c"
            },
            "outputs": [
{
    "output_type": "display_data",
    "data": {
        "text/html": "(26 row(s) affected)"
    },
    "metadata": {}
}, {
    "output_type": "display_data",
    "data": {
        "text/html": "Total execution time: 00:00:04.620"
    },
    "metadata": {}
}, {
    "output_type": "execute_result",
    "metadata": {},
    "execution_count": 21,
    "data": {
        "application/vnd.dataresource+json": {
            "schema": {
                "fields": [
                    {
                        "name": "riders"
                    },
                    {
                        "name": "gender"
                    },
                    {
                        "name": "age_group"
                    },
                    {
                        "name": "total_percent"
                    },
                    {
                        "name": "age_group_percent"
                    }
                ]
            },
            "data": [
                {
                    "0": "198274",
                    "1": "female",
                    "2": "20s",
                    "3": "11.2200",
                    "4": "28.3300"
                },
                {
                    "0": "497868",
                    "1": "male",
                    "2": "20s",
                    "3": "28.1600",
                    "4": "71.1500"
                },
                {
                    "0": "3639",
                    "1": "unspecified",
                    "2": "20s",
                    "3": "0.2100",
                    "4": "0.5200"
                },
                {
                    "0": "111795",
                    "1": "female",
                    "2": "30s",
                    "3": "6.3200",
                    "4": "24.0300"
                },
                {
                    "0": "349456",
                    "1": "male",
                    "2": "30s",
                    "3": "19.7700",
                    "4": "75.1100"
                },
                {
                    "0": "3984",
                    "1": "unspecified",
                    "2": "30s",
                    "3": "0.2300",
                    "4": "0.8600"
                },
                {
                    "0": "35141",
                    "1": "female",
                    "2": "40s",
                    "3": "1.9900",
                    "4": "9.1600"
                },
                {
                    "0": "139249",
                    "1": "male",
                    "2": "40s",
                    "3": "7.8800",
                    "4": "36.3000"
                },
                {
                    "0": "209195",
                    "1": "unspecified",
                    "2": "40s",
                    "3": "11.8300",
                    "4": "54.5400"
                },
                {
                    "0": "32777",
                    "1": "female",
                    "2": "50s",
                    "3": "1.8500",
                    "4": "26.6600"
                },
                {
                    "0": "89445",
                    "1": "male",
                    "2": "50s",
                    "3": "5.0600",
                    "4": "72.7600"
                },
                {
                    "0": "702",
                    "1": "unspecified",
                    "2": "50s",
                    "3": "0.0400",
                    "4": "0.5700"
                },
                {
                    "0": "12369",
                    "1": "female",
                    "2": "60s",
                    "3": "0.7000",
                    "4": "25.2600"
                },
                {
                    "0": "36509",
                    "1": "male",
                    "2": "60s",
                    "3": "2.0700",
                    "4": "74.5700"
                },
                {
                    "0": "80",
                    "1": "unspecified",
                    "2": "60s",
                    "3": "0.0000",
                    "4": "0.1600"
                },
                {
                    "0": "817",
                    "1": "female",
                    "2": "70s",
                    "3": "0.0500",
                    "4": "13.3400"
                },
                {
                    "0": "5287",
                    "1": "male",
                    "2": "70s",
                    "3": "0.3000",
                    "4": "86.3200"
                },
                {
                    "0": "21",
                    "1": "unspecified",
                    "2": "70s",
                    "3": "0.0000",
                    "4": "0.3400"
                },
                {
                    "0": "3",
                    "1": "female",
                    "2": "80s",
                    "3": "0.0000",
                    "4": "1.0800"
                },
                {
                    "0": "276",
                    "1": "male",
                    "2": "80s",
                    "3": "0.0200",
                    "4": "98.9200"
                },
                {
                    "0": "34",
                    "1": "female",
                    "2": "older",
                    "3": "0.0000",
                    "4": "0.3400"
                },
                {
                    "0": "212",
                    "1": "male",
                    "2": "older",
                    "3": "0.0100",
                    "4": "2.1200"
                },
                {
                    "0": "9748",
                    "1": "unspecified",
                    "2": "older",
                    "3": "0.5500",
                    "4": "97.5400"
                },
                {
                    "0": "7184",
                    "1": "female",
                    "2": "teenager",
                    "3": "0.4100",
                    "4": "23.2300"
                },
                {
                    "0": "23433",
                    "1": "male",
                    "2": "teenager",
                    "3": "1.3300",
                    "4": "75.7700"
                },
                {
                    "0": "308",
                    "1": "unspecified",
                    "2": "teenager",
                    "3": "0.0200",
                    "4": "1.0000"
                }
            ]
        },
        "text/html": [
            "<table>",
            "<tr><th>riders</th><th>gender</th><th>age_group</th><th>total_percent</th><th>age_group_percent</th></tr>",
            "<tr><td>198274</td><td>female</td><td>20s</td><td>11.2200</td><td>28.3300</td></tr>",
            "<tr><td>497868</td><td>male</td><td>20s</td><td>28.1600</td><td>71.1500</td></tr>",
            "<tr><td>3639</td><td>unspecified</td><td>20s</td><td>0.2100</td><td>0.5200</td></tr>",
            "<tr><td>111795</td><td>female</td><td>30s</td><td>6.3200</td><td>24.0300</td></tr>",
            "<tr><td>349456</td><td>male</td><td>30s</td><td>19.7700</td><td>75.1100</td></tr>",
            "<tr><td>3984</td><td>unspecified</td><td>30s</td><td>0.2300</td><td>0.8600</td></tr>",
            "<tr><td>35141</td><td>female</td><td>40s</td><td>1.9900</td><td>9.1600</td></tr>",
            "<tr><td>139249</td><td>male</td><td>40s</td><td>7.8800</td><td>36.3000</td></tr>",
            "<tr><td>209195</td><td>unspecified</td><td>40s</td><td>11.8300</td><td>54.5400</td></tr>",
            "<tr><td>32777</td><td>female</td><td>50s</td><td>1.8500</td><td>26.6600</td></tr>",
            "<tr><td>89445</td><td>male</td><td>50s</td><td>5.0600</td><td>72.7600</td></tr>",
            "<tr><td>702</td><td>unspecified</td><td>50s</td><td>0.0400</td><td>0.5700</td></tr>",
            "<tr><td>12369</td><td>female</td><td>60s</td><td>0.7000</td><td>25.2600</td></tr>",
            "<tr><td>36509</td><td>male</td><td>60s</td><td>2.0700</td><td>74.5700</td></tr>",
            "<tr><td>80</td><td>unspecified</td><td>60s</td><td>0.0000</td><td>0.1600</td></tr>",
            "<tr><td>817</td><td>female</td><td>70s</td><td>0.0500</td><td>13.3400</td></tr>",
            "<tr><td>5287</td><td>male</td><td>70s</td><td>0.3000</td><td>86.3200</td></tr>",
            "<tr><td>21</td><td>unspecified</td><td>70s</td><td>0.0000</td><td>0.3400</td></tr>",
            "<tr><td>3</td><td>female</td><td>80s</td><td>0.0000</td><td>1.0800</td></tr>",
            "<tr><td>276</td><td>male</td><td>80s</td><td>0.0200</td><td>98.9200</td></tr>",
            "<tr><td>34</td><td>female</td><td>older</td><td>0.0000</td><td>0.3400</td></tr>",
            "<tr><td>212</td><td>male</td><td>older</td><td>0.0100</td><td>2.1200</td></tr>",
            "<tr><td>9748</td><td>unspecified</td><td>older</td><td>0.5500</td><td>97.5400</td></tr>",
            "<tr><td>7184</td><td>female</td><td>teenager</td><td>0.4100</td><td>23.2300</td></tr>",
            "<tr><td>23433</td><td>male</td><td>teenager</td><td>1.3300</td><td>75.7700</td></tr>",
            "<tr><td>308</td><td>unspecified</td><td>teenager</td><td>0.0200</td><td>1.0000</td></tr>",
            "</table>"
        ]
    }
}
],
            "execution_count": 21
        },
        {
            "cell_type": "code",
            "source": [
                "select * from bluebikes_2018\n",
                "order by start_time\n",
                "limit 10"
            ],
            "metadata": {
                "azdata_cell_guid": "8e133e43-687d-4445-b0e9-d47cd031ad5f"
            },
            "outputs": [
                {
                    "output_type": "display_data",
                    "data": {
                        "text/html": "(10 row(s) affected)"
                    },
                    "metadata": {}
                },
                {
                    "output_type": "display_data",
                    "data": {
                        "text/html": "Total execution time: 00:00:00.605"
                    },
                    "metadata": {}
                },
                {
                    "output_type": "execute_result",
                    "execution_count": 53,
                    "data": {
                        "application/vnd.dataresource+json": {
                            "schema": {
                                "fields": [
                                    {
                                        "name": "bike_id"
                                    },
                                    {
                                        "name": "start_time"
                                    },
                                    {
                                        "name": "end_time"
                                    },
                                    {
                                        "name": "start_station_id"
                                    },
                                    {
                                        "name": "end_station_id"
                                    },
                                    {
                                        "name": "user_type"
                                    },
                                    {
                                        "name": "user_birth_year"
                                    },
                                    {
                                        "name": "user_gender"
                                    }
                                ]
                            },
                            "data": [
                                {
                                    "0": "643",
                                    "1": "2018-01-01T00:16:33",
                                    "2": "2018-01-01T00:23:01",
                                    "3": "178",
                                    "4": "107",
                                    "5": "Subscriber",
                                    "6": "1992.0",
                                    "7": "2"
                                },
                                {
                                    "0": "1581",
                                    "1": "2018-01-01T00:42:00",
                                    "2": "2018-01-01T00:46:25",
                                    "3": "78",
                                    "4": "225",
                                    "5": "Subscriber",
                                    "6": "1990.0",
                                    "7": "1"
                                },
                                {
                                    "0": "173",
                                    "1": "2018-01-01T00:42:44",
                                    "2": "2018-01-01T01:02:11",
                                    "3": "16",
                                    "4": "76",
                                    "5": "Subscriber",
                                    "6": "1990.0",
                                    "7": "1"
                                },
                                {
                                    "0": "1772",
                                    "1": "2018-01-01T00:56:50",
                                    "2": "2018-01-01T01:11:06",
                                    "3": "69",
                                    "4": "177",
                                    "5": "Subscriber",
                                    "6": "1992.0",
                                    "7": "1"
                                },
                                {
                                    "0": "1183",
                                    "1": "2018-01-01T01:07:54",
                                    "2": "2018-01-01T01:16:02",
                                    "3": "4",
                                    "4": "46",
                                    "5": "Subscriber",
                                    "6": "1993.0",
                                    "7": "1"
                                },
                                {
                                    "0": "1793",
                                    "1": "2018-01-01T01:15:59",
                                    "2": "2018-01-01T01:17:21",
                                    "3": "31",
                                    "4": "186",
                                    "5": "Subscriber",
                                    "6": "1990.0",
                                    "7": "1"
                                },
                                {
                                    "0": "60",
                                    "1": "2018-01-01T01:35:37",
                                    "2": "2018-01-01T01:42:35",
                                    "3": "51",
                                    "4": "222",
                                    "5": "Subscriber",
                                    "6": "1986.0",
                                    "7": "1"
                                },
                                {
                                    "0": "371",
                                    "1": "2018-01-01T01:35:46",
                                    "2": "2018-01-01T01:45:11",
                                    "3": "189",
                                    "4": "178",
                                    "5": "Subscriber",
                                    "6": "1980.0",
                                    "7": "1"
                                },
                                {
                                    "0": "961",
                                    "1": "2018-01-01T01:45:04",
                                    "2": "2018-01-01T01:53:40",
                                    "3": "108",
                                    "4": "176",
                                    "5": "Subscriber",
                                    "6": "1989.0",
                                    "7": "1"
                                },
                                {
                                    "0": "1286",
                                    "1": "2018-01-01T01:56:58",
                                    "2": "2018-01-01T02:06:13",
                                    "3": "185",
                                    "4": "178",
                                    "5": "Subscriber",
                                    "6": "1989.0",
                                    "7": "1"
                                }
                            ]
                        },
                        "text/html": "<table><tr><th>bike_id</th><th>start_time</th><th>end_time</th><th>start_station_id</th><th>end_station_id</th><th>user_type</th><th>user_birth_year</th><th>user_gender</th></tr><tr><td>643</td><td>2018-01-01T00:16:33</td><td>2018-01-01T00:23:01</td><td>178</td><td>107</td><td>Subscriber</td><td>1992.0</td><td>2</td></tr><tr><td>1581</td><td>2018-01-01T00:42:00</td><td>2018-01-01T00:46:25</td><td>78</td><td>225</td><td>Subscriber</td><td>1990.0</td><td>1</td></tr><tr><td>173</td><td>2018-01-01T00:42:44</td><td>2018-01-01T01:02:11</td><td>16</td><td>76</td><td>Subscriber</td><td>1990.0</td><td>1</td></tr><tr><td>1772</td><td>2018-01-01T00:56:50</td><td>2018-01-01T01:11:06</td><td>69</td><td>177</td><td>Subscriber</td><td>1992.0</td><td>1</td></tr><tr><td>1183</td><td>2018-01-01T01:07:54</td><td>2018-01-01T01:16:02</td><td>4</td><td>46</td><td>Subscriber</td><td>1993.0</td><td>1</td></tr><tr><td>1793</td><td>2018-01-01T01:15:59</td><td>2018-01-01T01:17:21</td><td>31</td><td>186</td><td>Subscriber</td><td>1990.0</td><td>1</td></tr><tr><td>60</td><td>2018-01-01T01:35:37</td><td>2018-01-01T01:42:35</td><td>51</td><td>222</td><td>Subscriber</td><td>1986.0</td><td>1</td></tr><tr><td>371</td><td>2018-01-01T01:35:46</td><td>2018-01-01T01:45:11</td><td>189</td><td>178</td><td>Subscriber</td><td>1980.0</td><td>1</td></tr><tr><td>961</td><td>2018-01-01T01:45:04</td><td>2018-01-01T01:53:40</td><td>108</td><td>176</td><td>Subscriber</td><td>1989.0</td><td>1</td></tr><tr><td>1286</td><td>2018-01-01T01:56:58</td><td>2018-01-01T02:06:13</td><td>185</td><td>178</td><td>Subscriber</td><td>1989.0</td><td>1</td></tr></table>"
                    },
                    "metadata": {}
                }
            ],
            "execution_count": 53
        },
        {
            "cell_type": "code",
            "source": [
                "-- Percentage by gender\n",
                "\n",
                "select\n",
                "case when user_gender = 1 then 'male' \n",
                "    when user_gender = 2 then 'female'\n",
                "    else 'unspecified' end as gender,\n",
                "count(1),\n",
                "round(count(1) / sum(count(1)) over(), 6) * 100 as percentage\n",
                "from bluebikes_2018\n",
                "group by user_gender"
            ],
            "metadata": {
                "azdata_cell_guid": "3500349e-2b2b-4370-9f82-681d22c49790"
            },
            "outputs": [
                {
                    "output_type": "display_data",
                    "data": {
                        "text/html": "(3 row(s) affected)"
                    },
                    "metadata": {}
                },
                {
                    "output_type": "display_data",
                    "data": {
                        "text/html": "Total execution time: 00:00:00.566"
                    },
                    "metadata": {}
                },
                {
                    "output_type": "execute_result",
                    "execution_count": 45,
                    "data": {
                        "application/vnd.dataresource+json": {
                            "schema": {
                                "fields": [
                                    {
                                        "name": "gender"
                                    },
                                    {
                                        "name": "count"
                                    },
                                    {
                                        "name": "percentage"
                                    }
                                ]
                            },
                            "data": [
                                {
                                    "0": "unspecified",
                                    "1": "227677",
                                    "2": "12.879100"
                                },
                                {
                                    "0": "male",
                                    "1": "1141735",
                                    "2": "64.584900"
                                },
                                {
                                    "0": "female",
                                    "1": "398394",
                                    "2": "22.536100"
                                }
                            ]
                        },
                        "text/html": "<table><tr><th>gender</th><th>count</th><th>percentage</th></tr><tr><td>unspecified</td><td>227677</td><td>12.879100</td></tr><tr><td>male</td><td>1141735</td><td>64.584900</td></tr><tr><td>female</td><td>398394</td><td>22.536100</td></tr></table>"
                    },
                    "metadata": {}
                }
            ],
            "execution_count": 45
        },
        {
            "cell_type": "code",
            "source": [
                ""
            ],
            "metadata": {
                "azdata_cell_guid": "f1464007-2542-4f27-890e-2e370f046ffd"
            },
            "outputs": [],
            "execution_count": null
        }
    ]
}