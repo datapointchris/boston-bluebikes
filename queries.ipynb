{
    "metadata": {
        "kernelspec": {
            "name": "SQL",
            "display_name": "SQL",
            "language": "sql"
        },
        "language_info": {
            "name": "sql",
            "version": ""
        }
    },
    "nbformat_minor": 2,
    "nbformat": 4,
    "cells": [
        {
            "cell_type": "markdown",
            "source": [
                "# Presentation\n",
                "\n",
                "1. Rider demand by month, compare years\n",
                "2. Rider demand by day of week, compare years\n",
                "3. Rider demand by hour, compare years\n",
                "4. Rider demand by hour for each day of week\n",
                "5. See which stations are in the most demand for the highest demand hours on different days\n",
                "1. This probably can't be on one graph, probably by day"
            ],
            "metadata": {
                "azdata_cell_guid": "d17192bf-f5be-440f-9454-6701a67b90e2"
            }
        },
        {
            "cell_type": "markdown",
            "source": [
                "## Aggregate Temp Tables"
            ],
            "metadata": {
                "azdata_cell_guid": "53e0fee6-b101-4ecd-a8c8-0376e9446b0c"
            }
        },
        {
            "cell_type": "code",
            "source": [
                "-- temp tables for aggregates\n",
                "create temporary table agg_2018 as\n",
                "\n",
                "select\n",
                "To_Char(start_time, 'YYYY') as year,\n",
                "To_Char(start_time, 'MM') as month_no,\n",
                "To_Char(start_time, 'ID') as day_no,\n",
                "To_Char(start_time, 'HH24') as hour_no,\n",
                "To_Char(start_time, 'Month') as month,\n",
                "To_Char(start_time, 'Day') as day,\n",
                "To_Char(start_time, 'HH12') || ':00 ' || To_Char(start_time, 'am') as hour,\n",
                "count(1) as riders\n",
                "\n",
                "from bluebikes_2018\n",
                "group by year, month_no, day_no, hour_no, month, day, hour\n",
                "order by month_no, day_no, hour_no\n",
                ""
            ],
            "metadata": {
                "azdata_cell_guid": "48775f1d-acfd-40bf-ab0c-5d6f451377ef"
            },
            "outputs": [
                {
                    "output_type": "display_data",
                    "data": {
                        "text/html": "Commands completed successfully"
                    },
                    "metadata": {}
                },
                {
                    "output_type": "display_data",
                    "data": {
                        "text/html": "Total execution time: 00:00:04.163"
                    },
                    "metadata": {}
                }
            ],
            "execution_count": 3
        },
        {
            "cell_type": "code",
            "source": [
                "-- temp tables for aggregates\n",
                "create temporary table agg_2019 as\n",
                "\n",
                "select\n",
                "To_Char(start_time, 'YYYY') as year,\n",
                "To_Char(start_time, 'MM') as month_no,\n",
                "To_Char(start_time, 'ID') as day_no,\n",
                "To_Char(start_time, 'HH24') as hour_no,\n",
                "To_Char(start_time, 'Month') as month,\n",
                "To_Char(start_time, 'Day') as day,\n",
                "To_Char(start_time, 'HH12') || ':00 ' || To_Char(start_time, 'am') as hour,\n",
                "count(1) as riders\n",
                "\n",
                "from bluebikes_2019\n",
                "group by year, month_no, day_no, hour_no, month, day, hour\n",
                "order by month_no, day_no, hour_no\n",
                ""
            ],
            "metadata": {
                "azdata_cell_guid": "4de387f6-6d8c-49a0-a7d3-a755bee89f28"
            },
            "outputs": [
                {
                    "output_type": "display_data",
                    "data": {
                        "text/html": "Commands completed successfully"
                    },
                    "metadata": {}
                },
                {
                    "output_type": "display_data",
                    "data": {
                        "text/html": "Total execution time: 00:00:06.155"
                    },
                    "metadata": {}
                }
            ],
            "execution_count": 4
        },
        {
            "cell_type": "code",
            "source": [
                "select * from agg_2018\n",
                "limit 5;\n",
                "\n",
                "select * from agg_2019\n",
                "limit 5;"
            ],
            "metadata": {
                "azdata_cell_guid": "aea10eb5-c963-44b4-9cea-0562524e7014"
            },
            "outputs": [
                {
                    "output_type": "display_data",
                    "data": {
                        "text/html": "(5 row(s) affected)"
                    },
                    "metadata": {}
                },
                {
                    "output_type": "display_data",
                    "data": {
                        "text/html": "(5 row(s) affected)"
                    },
                    "metadata": {}
                },
                {
                    "output_type": "display_data",
                    "data": {
                        "text/html": "Total execution time: 00:00:00.403"
                    },
                    "metadata": {}
                },
                {
                    "output_type": "execute_result",
                    "execution_count": 65,
                    "data": {
                        "application/vnd.dataresource+json": {
                            "schema": {
                                "fields": [
                                    {
                                        "name": "year"
                                    },
                                    {
                                        "name": "month_no"
                                    },
                                    {
                                        "name": "day_no"
                                    },
                                    {
                                        "name": "hour_no"
                                    },
                                    {
                                        "name": "month"
                                    },
                                    {
                                        "name": "day"
                                    },
                                    {
                                        "name": "hour"
                                    },
                                    {
                                        "name": "riders"
                                    }
                                ]
                            },
                            "data": [
                                {
                                    "0": "2018",
                                    "1": "01",
                                    "2": "1",
                                    "3": "00",
                                    "4": "January  ",
                                    "5": "Monday   ",
                                    "6": "12:00 am",
                                    "7": "47"
                                },
                                {
                                    "0": "2018",
                                    "1": "01",
                                    "2": "1",
                                    "3": "01",
                                    "4": "January  ",
                                    "5": "Monday   ",
                                    "6": "01:00 am",
                                    "7": "19"
                                },
                                {
                                    "0": "2018",
                                    "1": "01",
                                    "2": "1",
                                    "3": "02",
                                    "4": "January  ",
                                    "5": "Monday   ",
                                    "6": "02:00 am",
                                    "7": "13"
                                },
                                {
                                    "0": "2018",
                                    "1": "01",
                                    "2": "1",
                                    "3": "03",
                                    "4": "January  ",
                                    "5": "Monday   ",
                                    "6": "03:00 am",
                                    "7": "3"
                                },
                                {
                                    "0": "2018",
                                    "1": "01",
                                    "2": "1",
                                    "3": "04",
                                    "4": "January  ",
                                    "5": "Monday   ",
                                    "6": "04:00 am",
                                    "7": "7"
                                }
                            ]
                        },
                        "text/html": "<table><tr><th>year</th><th>month_no</th><th>day_no</th><th>hour_no</th><th>month</th><th>day</th><th>hour</th><th>riders</th></tr><tr><td>2018</td><td>01</td><td>1</td><td>00</td><td>January  </td><td>Monday   </td><td>12:00 am</td><td>47</td></tr><tr><td>2018</td><td>01</td><td>1</td><td>01</td><td>January  </td><td>Monday   </td><td>01:00 am</td><td>19</td></tr><tr><td>2018</td><td>01</td><td>1</td><td>02</td><td>January  </td><td>Monday   </td><td>02:00 am</td><td>13</td></tr><tr><td>2018</td><td>01</td><td>1</td><td>03</td><td>January  </td><td>Monday   </td><td>03:00 am</td><td>3</td></tr><tr><td>2018</td><td>01</td><td>1</td><td>04</td><td>January  </td><td>Monday   </td><td>04:00 am</td><td>7</td></tr></table>"
                    },
                    "metadata": {}
                },
                {
                    "output_type": "execute_result",
                    "execution_count": 65,
                    "data": {
                        "application/vnd.dataresource+json": {
                            "schema": {
                                "fields": [
                                    {
                                        "name": "year"
                                    },
                                    {
                                        "name": "month_no"
                                    },
                                    {
                                        "name": "day_no"
                                    },
                                    {
                                        "name": "hour_no"
                                    },
                                    {
                                        "name": "month"
                                    },
                                    {
                                        "name": "day"
                                    },
                                    {
                                        "name": "hour"
                                    },
                                    {
                                        "name": "riders"
                                    }
                                ]
                            },
                            "data": [
                                {
                                    "0": "2019",
                                    "1": "01",
                                    "2": "1",
                                    "3": "00",
                                    "4": "January  ",
                                    "5": "Monday   ",
                                    "6": "12:00 am",
                                    "7": "24"
                                },
                                {
                                    "0": "2019",
                                    "1": "01",
                                    "2": "1",
                                    "3": "01",
                                    "4": "January  ",
                                    "5": "Monday   ",
                                    "6": "01:00 am",
                                    "7": "16"
                                },
                                {
                                    "0": "2019",
                                    "1": "01",
                                    "2": "1",
                                    "3": "02",
                                    "4": "January  ",
                                    "5": "Monday   ",
                                    "6": "02:00 am",
                                    "7": "11"
                                },
                                {
                                    "0": "2019",
                                    "1": "01",
                                    "2": "1",
                                    "3": "03",
                                    "4": "January  ",
                                    "5": "Monday   ",
                                    "6": "03:00 am",
                                    "7": "3"
                                },
                                {
                                    "0": "2019",
                                    "1": "01",
                                    "2": "1",
                                    "3": "04",
                                    "4": "January  ",
                                    "5": "Monday   ",
                                    "6": "04:00 am",
                                    "7": "15"
                                }
                            ]
                        },
                        "text/html": "<table><tr><th>year</th><th>month_no</th><th>day_no</th><th>hour_no</th><th>month</th><th>day</th><th>hour</th><th>riders</th></tr><tr><td>2019</td><td>01</td><td>1</td><td>00</td><td>January  </td><td>Monday   </td><td>12:00 am</td><td>24</td></tr><tr><td>2019</td><td>01</td><td>1</td><td>01</td><td>January  </td><td>Monday   </td><td>01:00 am</td><td>16</td></tr><tr><td>2019</td><td>01</td><td>1</td><td>02</td><td>January  </td><td>Monday   </td><td>02:00 am</td><td>11</td></tr><tr><td>2019</td><td>01</td><td>1</td><td>03</td><td>January  </td><td>Monday   </td><td>03:00 am</td><td>3</td></tr><tr><td>2019</td><td>01</td><td>1</td><td>04</td><td>January  </td><td>Monday   </td><td>04:00 am</td><td>15</td></tr></table>"
                    },
                    "metadata": {}
                }
            ],
            "execution_count": 65
        },
        {
            "cell_type": "markdown",
            "source": [
                "## 1\\. Rider demand by month, compare years"
            ],
            "metadata": {
                "azdata_cell_guid": "18dd401a-ca77-4fce-8cd7-651b55214273"
            }
        },
        {
            "cell_type": "code",
            "source": [
                "-- Year over year change\n",
                "\n",
                "select \n",
                "a.month,\n",
                "sum(a.riders) as riders_2018,\n",
                "sum(b.riders) as riders_2019,\n",
                "sum(b.riders) - sum(a.riders) as riders_change,\n",
                "round((sum(b.riders) - sum(a.riders)::numeric) / sum(a.riders), 4) * 100 || ' %' as percent_change\n",
                "from agg_2018 a\n",
                "join agg_2019 b on a.month_no = b.month_no and a.day_no = b.day_no and a.hour_no = b.hour_no\n",
                "group by a.month, a.month_no\n",
                "order by a.month_no;"
            ],
            "metadata": {
                "azdata_cell_guid": "df0b8eaa-a636-4893-97f1-c8b0d4da3dc3"
            },
            "outputs": [
                {
                    "output_type": "display_data",
                    "data": {
                        "text/html": "(12 row(s) affected)"
                    },
                    "metadata": {}
                },
                {
                    "output_type": "display_data",
                    "data": {
                        "text/html": "Total execution time: 00:00:00.202"
                    },
                    "metadata": {}
                },
                {
                    "output_type": "execute_result",
                    "execution_count": 114,
                    "data": {
                        "application/vnd.dataresource+json": {
                            "schema": {
                                "fields": [
                                    {
                                        "name": "month"
                                    },
                                    {
                                        "name": "riders_2018"
                                    },
                                    {
                                        "name": "riders_2019"
                                    },
                                    {
                                        "name": "riders_change"
                                    },
                                    {
                                        "name": "percent_change"
                                    }
                                ]
                            },
                            "data": [
                                {
                                    "0": "January  ",
                                    "1": "40932",
                                    "2": "69872",
                                    "3": "28940",
                                    "4": "70.7000 %"
                                },
                                {
                                    "0": "February ",
                                    "1": "62817",
                                    "2": "80466",
                                    "3": "17649",
                                    "4": "28.1000 %"
                                },
                                {
                                    "0": "March    ",
                                    "1": "62985",
                                    "2": "102369",
                                    "3": "39384",
                                    "4": "62.5300 %"
                                },
                                {
                                    "0": "April    ",
                                    "1": "98194",
                                    "2": "166694",
                                    "3": "68500",
                                    "4": "69.7600 %"
                                },
                                {
                                    "0": "May      ",
                                    "1": "178865",
                                    "2": "223084",
                                    "3": "44219",
                                    "4": "24.7200 %"
                                },
                                {
                                    "0": "June     ",
                                    "1": "205359",
                                    "2": "274022",
                                    "3": "68663",
                                    "4": "33.4400 %"
                                },
                                {
                                    "0": "July     ",
                                    "1": "242916",
                                    "2": "316931",
                                    "3": "74015",
                                    "4": "30.4700 %"
                                },
                                {
                                    "0": "August   ",
                                    "1": "236076",
                                    "2": "337443",
                                    "3": "101367",
                                    "4": "42.9400 %"
                                },
                                {
                                    "0": "September",
                                    "1": "236182",
                                    "2": "363185",
                                    "3": "127003",
                                    "4": "53.7700 %"
                                },
                                {
                                    "0": "October  ",
                                    "1": "200100",
                                    "2": "305504",
                                    "3": "105404",
                                    "4": "52.6800 %"
                                },
                                {
                                    "0": "November ",
                                    "1": "121419",
                                    "2": "190759",
                                    "3": "69340",
                                    "4": "57.1100 %"
                                },
                                {
                                    "0": "December ",
                                    "1": "81961",
                                    "2": "92208",
                                    "3": "10247",
                                    "4": "12.5000 %"
                                }
                            ]
                        },
                        "text/html": "<table><tr><th>month</th><th>riders_2018</th><th>riders_2019</th><th>riders_change</th><th>percent_change</th></tr><tr><td>January  </td><td>40932</td><td>69872</td><td>28940</td><td>70.7000 %</td></tr><tr><td>February </td><td>62817</td><td>80466</td><td>17649</td><td>28.1000 %</td></tr><tr><td>March    </td><td>62985</td><td>102369</td><td>39384</td><td>62.5300 %</td></tr><tr><td>April    </td><td>98194</td><td>166694</td><td>68500</td><td>69.7600 %</td></tr><tr><td>May      </td><td>178865</td><td>223084</td><td>44219</td><td>24.7200 %</td></tr><tr><td>June     </td><td>205359</td><td>274022</td><td>68663</td><td>33.4400 %</td></tr><tr><td>July     </td><td>242916</td><td>316931</td><td>74015</td><td>30.4700 %</td></tr><tr><td>August   </td><td>236076</td><td>337443</td><td>101367</td><td>42.9400 %</td></tr><tr><td>September</td><td>236182</td><td>363185</td><td>127003</td><td>53.7700 %</td></tr><tr><td>October  </td><td>200100</td><td>305504</td><td>105404</td><td>52.6800 %</td></tr><tr><td>November </td><td>121419</td><td>190759</td><td>69340</td><td>57.1100 %</td></tr><tr><td>December </td><td>81961</td><td>92208</td><td>10247</td><td>12.5000 %</td></tr></table>"
                    },
                    "metadata": {}
                }
            ],
            "execution_count": 114
        },
        {
            "cell_type": "markdown",
            "source": [
                "# Rider Demand by Day of Week, Compare Years"
            ],
            "metadata": {
                "azdata_cell_guid": "20c07ac7-800c-48c6-b712-4313c2adc4f2"
            }
        },
        {
            "cell_type": "code",
            "source": [
                "select \n",
                "a.day,\n",
                "sum(a.riders) as riders_2018,\n",
                "sum(b.riders) as riders_2019,\n",
                "sum(b.riders) - sum(a.riders) as riders_change,\n",
                "-- min(sum(b.riders) - sum(a.riders)) over() as min_riders_change,\n",
                "-- max(sum(b.riders) - sum(a.riders)) over() as max_riders_change,\n",
                "round(((sum(b.riders) - sum(a.riders)) - (min(sum(b.riders) - sum(a.riders)) over()))    /    ((max(sum(b.riders) - sum(a.riders)) over()) - (min(sum(b.riders) - sum(a.riders)) over())), 4) as relative_rider_change,\n",
                "\n",
                "round((sum(b.riders) - sum(a.riders)::numeric) / sum(a.riders), 4) * 100 || ' %' as percent_change,\n",
                "-- max((sum(b.riders) - sum(a.riders)::numeric) / sum(a.riders)) over() as max_change,\n",
                "-- min((sum(b.riders) - sum(a.riders)::numeric) / sum(a.riders)) over() as min_change,\n",
                "-- ((sum(b.riders) - sum(a.riders)::numeric) / sum(a.riders) - (min((sum(b.riders) - sum(a.riders)::numeric) / sum(a.riders)) over())) as new_value, -- this is good\n",
                "round(((sum(b.riders) - sum(a.riders)::numeric) / sum(a.riders) - (min((sum(b.riders) - sum(a.riders)::numeric) / sum(a.riders)) over())) / ((max((sum(b.riders) - sum(a.riders)::numeric) / sum(a.riders)) over()) - (min((sum(b.riders) - sum(a.riders)::numeric) / sum(a.riders)) over())), 4) * 100 || ' %' as min_max_scaled_change,\n",
                "-- ((percent change of riders) - (minimum of percent change of riders)) / ((maximum of percent change of riders) - (minimum of percent change of riders))\n",
                "round(((sum(b.riders) - sum(a.riders)::numeric) / sum(a.riders)) / avg((sum(b.riders) - sum(a.riders)::numeric) / sum(a.riders)) over() - 1, 4) * 100 || ' %' as normalized_abolute_change\n",
                "\n",
                "from agg_2018 a\n",
                "join agg_2019 b on a.month_no = b.month_no and a.day_no = b.day_no and a.hour_no = b.hour_no\n",
                "group by a.day, a.day_no\n",
                "order by a.day_no;"
            ],
            "metadata": {
                "azdata_cell_guid": "b742291e-1e94-4e01-87ba-fb95fd9c2ada"
            },
            "outputs": [
                {
                    "output_type": "display_data",
                    "data": {
                        "text/html": "(7 row(s) affected)"
                    },
                    "metadata": {}
                },
                {
                    "output_type": "display_data",
                    "data": {
                        "text/html": "Total execution time: 00:00:00.178"
                    },
                    "metadata": {}
                },
                {
                    "output_type": "execute_result",
                    "execution_count": 148,
                    "data": {
                        "application/vnd.dataresource+json": {
                            "schema": {
                                "fields": [
                                    {
                                        "name": "day"
                                    },
                                    {
                                        "name": "riders_2018"
                                    },
                                    {
                                        "name": "riders_2019"
                                    },
                                    {
                                        "name": "riders_change"
                                    },
                                    {
                                        "name": "relative_rider_change"
                                    },
                                    {
                                        "name": "percent_change"
                                    },
                                    {
                                        "name": "min_max_scaled_change"
                                    },
                                    {
                                        "name": "normalized_abolute_change"
                                    }
                                ]
                            },
                            "data": [
                                {
                                    "0": "Monday   ",
                                    "1": "256032",
                                    "2": "372387",
                                    "3": "116355",
                                    "4": "0.8831",
                                    "5": "45.4500 %",
                                    "6": "57.2000 %",
                                    "7": "4.5500 %"
                                },
                                {
                                    "0": "Tuesday  ",
                                    "1": "265161",
                                    "2": "384455",
                                    "3": "119294",
                                    "4": "1.0000",
                                    "5": "44.9900 %",
                                    "6": "54.7000 %",
                                    "7": "3.5000 %"
                                },
                                {
                                    "0": "Wednesday",
                                    "1": "288485",
                                    "2": "389421",
                                    "3": "100936",
                                    "4": "0.2699",
                                    "5": "34.9900 %",
                                    "6": "0.0000 %",
                                    "7": "-19.5000 %"
                                },
                                {
                                    "0": "Thursday ",
                                    "1": "282700",
                                    "2": "386579",
                                    "3": "103879",
                                    "4": "0.3870",
                                    "5": "36.7500 %",
                                    "6": "9.6100 %",
                                    "7": "-15.4600 %"
                                },
                                {
                                    "0": "Friday   ",
                                    "1": "276229",
                                    "2": "385468",
                                    "3": "109239",
                                    "4": "0.6001",
                                    "5": "39.5500 %",
                                    "6": "24.9300 %",
                                    "7": "-9.0200 %"
                                },
                                {
                                    "0": "Saturday ",
                                    "1": "208144",
                                    "2": "319024",
                                    "3": "110880",
                                    "4": "0.6654",
                                    "5": "53.2700 %",
                                    "6": "100.0000 %",
                                    "7": "22.5600 %"
                                },
                                {
                                    "0": "Sunday   ",
                                    "1": "191055",
                                    "2": "285203",
                                    "3": "94148",
                                    "4": "0.0000",
                                    "5": "49.2800 %",
                                    "6": "78.1600 %",
                                    "7": "13.3700 %"
                                }
                            ]
                        },
                        "text/html": "<table><tr><th>day</th><th>riders_2018</th><th>riders_2019</th><th>riders_change</th><th>relative_rider_change</th><th>percent_change</th><th>min_max_scaled_change</th><th>normalized_abolute_change</th></tr><tr><td>Monday   </td><td>256032</td><td>372387</td><td>116355</td><td>0.8831</td><td>45.4500 %</td><td>57.2000 %</td><td>4.5500 %</td></tr><tr><td>Tuesday  </td><td>265161</td><td>384455</td><td>119294</td><td>1.0000</td><td>44.9900 %</td><td>54.7000 %</td><td>3.5000 %</td></tr><tr><td>Wednesday</td><td>288485</td><td>389421</td><td>100936</td><td>0.2699</td><td>34.9900 %</td><td>0.0000 %</td><td>-19.5000 %</td></tr><tr><td>Thursday </td><td>282700</td><td>386579</td><td>103879</td><td>0.3870</td><td>36.7500 %</td><td>9.6100 %</td><td>-15.4600 %</td></tr><tr><td>Friday   </td><td>276229</td><td>385468</td><td>109239</td><td>0.6001</td><td>39.5500 %</td><td>24.9300 %</td><td>-9.0200 %</td></tr><tr><td>Saturday </td><td>208144</td><td>319024</td><td>110880</td><td>0.6654</td><td>53.2700 %</td><td>100.0000 %</td><td>22.5600 %</td></tr><tr><td>Sunday   </td><td>191055</td><td>285203</td><td>94148</td><td>0.0000</td><td>49.2800 %</td><td>78.1600 %</td><td>13.3700 %</td></tr></table>"
                    },
                    "metadata": {}
                }
            ],
            "execution_count": 148
        },
        {
            "cell_type": "markdown",
            "source": [
                "# Rider Demand by Hour of Day, Compare Years"
            ],
            "metadata": {
                "azdata_cell_guid": "bf75c6b1-c4af-4945-ac36-26c081b1bf0a"
            }
        },
        {
            "cell_type": "code",
            "source": [
                "select \n",
                "a.hour,\n",
                "sum(a.riders) as riders_2018,\n",
                "sum(b.riders) as riders_2019,\n",
                "sum(b.riders) - sum(a.riders) as riders_change,\n",
                "round((sum(b.riders) - sum(a.riders)::numeric) / sum(a.riders), 4) * 100 || ' %' as percent_change,\n",
                "round(((sum(b.riders) - sum(a.riders)) - (min(sum(b.riders) - sum(a.riders)) over()))    /    ((max(sum(b.riders) - sum(a.riders)) over()) - (min(sum(b.riders) - sum(a.riders)) over())), 4) as relative_rider_change,\n",
                "round(((sum(b.riders) - sum(a.riders)::numeric) / sum(a.riders) - (min((sum(b.riders) - sum(a.riders)::numeric) / sum(a.riders)) over())) / ((max((sum(b.riders) - sum(a.riders)::numeric) / sum(a.riders)) over()) - (min((sum(b.riders) - sum(a.riders)::numeric) / sum(a.riders)) over())), 4) * 100 || ' %' as min_max_scaled_change,\n",
                "round(((sum(b.riders) - sum(a.riders)::numeric) / sum(a.riders)) / avg((sum(b.riders) - sum(a.riders)::numeric) / sum(a.riders)) over() - 1, 4) * 100 || ' %' as normalized_abolute_change\n",
                "from agg_2018 a\n",
                "join agg_2019 b on a.month_no = b.month_no and a.day_no = b.day_no and a.hour_no = b.hour_no\n",
                "group by a.hour, a.hour_no\n",
                "order by a.hour_no;"
            ],
            "metadata": {
                "azdata_cell_guid": "2ba56512-3382-4801-975b-6cc448bbac4c"
            },
            "outputs": [
                {
                    "output_type": "display_data",
                    "data": {
                        "text/html": "(24 row(s) affected)"
                    },
                    "metadata": {}
                },
                {
                    "output_type": "display_data",
                    "data": {
                        "text/html": "Total execution time: 00:00:00.190"
                    },
                    "metadata": {}
                },
                {
                    "output_type": "execute_result",
                    "execution_count": 150,
                    "data": {
                        "application/vnd.dataresource+json": {
                            "schema": {
                                "fields": [
                                    {
                                        "name": "hour"
                                    },
                                    {
                                        "name": "riders_2018"
                                    },
                                    {
                                        "name": "riders_2019"
                                    },
                                    {
                                        "name": "riders_change"
                                    },
                                    {
                                        "name": "percent_change"
                                    },
                                    {
                                        "name": "relative_rider_change"
                                    },
                                    {
                                        "name": "min_max_scaled_change"
                                    },
                                    {
                                        "name": "normalized_abolute_change"
                                    }
                                ]
                            },
                            "data": [
                                {
                                    "0": "12:00 am",
                                    "1": "14381",
                                    "2": "20420",
                                    "3": "6039",
                                    "4": "41.9900 %",
                                    "5": "0.0629",
                                    "6": "41.2700 %",
                                    "7": "-3.0800 %"
                                },
                                {
                                    "0": "01:00 am",
                                    "1": "9333",
                                    "2": "14251",
                                    "3": "4918",
                                    "4": "52.6900 %",
                                    "5": "0.0493",
                                    "6": "100.0000 %",
                                    "7": "21.6200 %"
                                },
                                {
                                    "0": "02:00 am",
                                    "1": "5968",
                                    "2": "8752",
                                    "3": "2784",
                                    "4": "46.6500 %",
                                    "5": "0.0234",
                                    "6": "66.8200 %",
                                    "7": "7.6700 %"
                                },
                                {
                                    "0": "03:00 am",
                                    "1": "2217",
                                    "2": "3078",
                                    "3": "861",
                                    "4": "38.8400 %",
                                    "5": "0.0000",
                                    "6": "23.9400 %",
                                    "7": "-10.3600 %"
                                },
                                {
                                    "0": "04:00 am",
                                    "1": "2339",
                                    "2": "3394",
                                    "3": "1055",
                                    "4": "45.1000 %",
                                    "5": "0.0024",
                                    "6": "58.3400 %",
                                    "7": "4.1000 %"
                                },
                                {
                                    "0": "05:00 am",
                                    "1": "10571",
                                    "2": "15065",
                                    "3": "4494",
                                    "4": "42.5100 %",
                                    "5": "0.0441",
                                    "6": "44.1200 %",
                                    "7": "-1.8800 %"
                                },
                                {
                                    "0": "06:00 am",
                                    "1": "35046",
                                    "2": "47183",
                                    "3": "12137",
                                    "4": "34.6300 %",
                                    "5": "0.1370",
                                    "6": "0.8700 %",
                                    "7": "-20.0700 %"
                                },
                                {
                                    "0": "07:00 am",
                                    "1": "96792",
                                    "2": "130160",
                                    "3": "33368",
                                    "4": "34.4700 %",
                                    "5": "0.3950",
                                    "6": "0.0000 %",
                                    "7": "-20.4300 %"
                                },
                                {
                                    "0": "08:00 am",
                                    "1": "167768",
                                    "2": "229859",
                                    "3": "62091",
                                    "4": "37.0100 %",
                                    "5": "0.7441",
                                    "6": "13.9200 %",
                                    "7": "-14.5800 %"
                                },
                                {
                                    "0": "09:00 am",
                                    "1": "98617",
                                    "2": "141669",
                                    "3": "43052",
                                    "4": "43.6600 %",
                                    "5": "0.5127",
                                    "6": "50.3900 %",
                                    "7": "0.7600 %"
                                },
                                {
                                    "0": "10:00 am",
                                    "1": "72210",
                                    "2": "103618",
                                    "3": "31408",
                                    "4": "43.5000 %",
                                    "5": "0.3712",
                                    "6": "49.5100 %",
                                    "7": "0.3900 %"
                                },
                                {
                                    "0": "11:00 am",
                                    "1": "79697",
                                    "2": "115789",
                                    "3": "36092",
                                    "4": "45.2900 %",
                                    "5": "0.4281",
                                    "6": "59.3400 %",
                                    "7": "4.5200 %"
                                },
                                {
                                    "0": "12:00 pm",
                                    "1": "93262",
                                    "2": "133666",
                                    "3": "40404",
                                    "4": "43.3200 %",
                                    "5": "0.4805",
                                    "6": "48.5700 %",
                                    "7": "-0.0100 %"
                                },
                                {
                                    "0": "01:00 pm",
                                    "1": "92421",
                                    "2": "133051",
                                    "3": "40630",
                                    "4": "43.9600 %",
                                    "5": "0.4833",
                                    "6": "52.0700 %",
                                    "7": "1.4700 %"
                                },
                                {
                                    "0": "02:00 pm",
                                    "1": "91282",
                                    "2": "133146",
                                    "3": "41864",
                                    "4": "45.8600 %",
                                    "5": "0.4983",
                                    "6": "62.5000 %",
                                    "7": "5.8500 %"
                                },
                                {
                                    "0": "03:00 pm",
                                    "1": "104081",
                                    "2": "151757",
                                    "3": "47676",
                                    "4": "45.8100 %",
                                    "5": "0.5689",
                                    "6": "62.2000 %",
                                    "7": "5.7200 %"
                                },
                                {
                                    "0": "04:00 pm",
                                    "1": "153387",
                                    "2": "216366",
                                    "3": "62979",
                                    "4": "41.0600 %",
                                    "5": "0.7549",
                                    "6": "36.1400 %",
                                    "7": "-5.2300 %"
                                },
                                {
                                    "0": "05:00 pm",
                                    "1": "201799",
                                    "2": "284948",
                                    "3": "83149",
                                    "4": "41.2000 %",
                                    "5": "1.0000",
                                    "6": "36.9400 %",
                                    "7": "-4.9000 %"
                                },
                                {
                                    "0": "06:00 pm",
                                    "1": "147780",
                                    "2": "214919",
                                    "3": "67139",
                                    "4": "45.4300 %",
                                    "5": "0.8054",
                                    "6": "60.1400 %",
                                    "7": "4.8600 %"
                                },
                                {
                                    "0": "07:00 pm",
                                    "1": "102336",
                                    "2": "150239",
                                    "3": "47903",
                                    "4": "46.8100 %",
                                    "5": "0.5717",
                                    "6": "67.7000 %",
                                    "7": "8.0400 %"
                                },
                                {
                                    "0": "08:00 pm",
                                    "1": "70877",
                                    "2": "103766",
                                    "3": "32889",
                                    "4": "46.4000 %",
                                    "5": "0.3892",
                                    "6": "65.4700 %",
                                    "7": "7.1000 %"
                                },
                                {
                                    "0": "09:00 pm",
                                    "1": "52345",
                                    "2": "76284",
                                    "3": "23939",
                                    "4": "45.7300 %",
                                    "5": "0.2805",
                                    "6": "61.7900 %",
                                    "7": "5.5500 %"
                                },
                                {
                                    "0": "10:00 pm",
                                    "1": "38650",
                                    "2": "55744",
                                    "3": "17094",
                                    "4": "44.2300 %",
                                    "5": "0.1973",
                                    "6": "53.5300 %",
                                    "7": "2.0800 %"
                                },
                                {
                                    "0": "11:00 pm",
                                    "1": "24647",
                                    "2": "35413",
                                    "3": "10766",
                                    "4": "43.6800 %",
                                    "5": "0.1204",
                                    "6": "50.5300 %",
                                    "7": "0.8200 %"
                                }
                            ]
                        },
                        "text/html": "<table><tr><th>hour</th><th>riders_2018</th><th>riders_2019</th><th>riders_change</th><th>percent_change</th><th>relative_rider_change</th><th>min_max_scaled_change</th><th>normalized_abolute_change</th></tr><tr><td>12:00 am</td><td>14381</td><td>20420</td><td>6039</td><td>41.9900 %</td><td>0.0629</td><td>41.2700 %</td><td>-3.0800 %</td></tr><tr><td>01:00 am</td><td>9333</td><td>14251</td><td>4918</td><td>52.6900 %</td><td>0.0493</td><td>100.0000 %</td><td>21.6200 %</td></tr><tr><td>02:00 am</td><td>5968</td><td>8752</td><td>2784</td><td>46.6500 %</td><td>0.0234</td><td>66.8200 %</td><td>7.6700 %</td></tr><tr><td>03:00 am</td><td>2217</td><td>3078</td><td>861</td><td>38.8400 %</td><td>0.0000</td><td>23.9400 %</td><td>-10.3600 %</td></tr><tr><td>04:00 am</td><td>2339</td><td>3394</td><td>1055</td><td>45.1000 %</td><td>0.0024</td><td>58.3400 %</td><td>4.1000 %</td></tr><tr><td>05:00 am</td><td>10571</td><td>15065</td><td>4494</td><td>42.5100 %</td><td>0.0441</td><td>44.1200 %</td><td>-1.8800 %</td></tr><tr><td>06:00 am</td><td>35046</td><td>47183</td><td>12137</td><td>34.6300 %</td><td>0.1370</td><td>0.8700 %</td><td>-20.0700 %</td></tr><tr><td>07:00 am</td><td>96792</td><td>130160</td><td>33368</td><td>34.4700 %</td><td>0.3950</td><td>0.0000 %</td><td>-20.4300 %</td></tr><tr><td>08:00 am</td><td>167768</td><td>229859</td><td>62091</td><td>37.0100 %</td><td>0.7441</td><td>13.9200 %</td><td>-14.5800 %</td></tr><tr><td>09:00 am</td><td>98617</td><td>141669</td><td>43052</td><td>43.6600 %</td><td>0.5127</td><td>50.3900 %</td><td>0.7600 %</td></tr><tr><td>10:00 am</td><td>72210</td><td>103618</td><td>31408</td><td>43.5000 %</td><td>0.3712</td><td>49.5100 %</td><td>0.3900 %</td></tr><tr><td>11:00 am</td><td>79697</td><td>115789</td><td>36092</td><td>45.2900 %</td><td>0.4281</td><td>59.3400 %</td><td>4.5200 %</td></tr><tr><td>12:00 pm</td><td>93262</td><td>133666</td><td>40404</td><td>43.3200 %</td><td>0.4805</td><td>48.5700 %</td><td>-0.0100 %</td></tr><tr><td>01:00 pm</td><td>92421</td><td>133051</td><td>40630</td><td>43.9600 %</td><td>0.4833</td><td>52.0700 %</td><td>1.4700 %</td></tr><tr><td>02:00 pm</td><td>91282</td><td>133146</td><td>41864</td><td>45.8600 %</td><td>0.4983</td><td>62.5000 %</td><td>5.8500 %</td></tr><tr><td>03:00 pm</td><td>104081</td><td>151757</td><td>47676</td><td>45.8100 %</td><td>0.5689</td><td>62.2000 %</td><td>5.7200 %</td></tr><tr><td>04:00 pm</td><td>153387</td><td>216366</td><td>62979</td><td>41.0600 %</td><td>0.7549</td><td>36.1400 %</td><td>-5.2300 %</td></tr><tr><td>05:00 pm</td><td>201799</td><td>284948</td><td>83149</td><td>41.2000 %</td><td>1.0000</td><td>36.9400 %</td><td>-4.9000 %</td></tr><tr><td>06:00 pm</td><td>147780</td><td>214919</td><td>67139</td><td>45.4300 %</td><td>0.8054</td><td>60.1400 %</td><td>4.8600 %</td></tr><tr><td>07:00 pm</td><td>102336</td><td>150239</td><td>47903</td><td>46.8100 %</td><td>0.5717</td><td>67.7000 %</td><td>8.0400 %</td></tr><tr><td>08:00 pm</td><td>70877</td><td>103766</td><td>32889</td><td>46.4000 %</td><td>0.3892</td><td>65.4700 %</td><td>7.1000 %</td></tr><tr><td>09:00 pm</td><td>52345</td><td>76284</td><td>23939</td><td>45.7300 %</td><td>0.2805</td><td>61.7900 %</td><td>5.5500 %</td></tr><tr><td>10:00 pm</td><td>38650</td><td>55744</td><td>17094</td><td>44.2300 %</td><td>0.1973</td><td>53.5300 %</td><td>2.0800 %</td></tr><tr><td>11:00 pm</td><td>24647</td><td>35413</td><td>10766</td><td>43.6800 %</td><td>0.1204</td><td>50.5300 %</td><td>0.8200 %</td></tr></table>"
                    },
                    "metadata": {}
                }
            ],
            "execution_count": 150
        },
        {
            "cell_type": "markdown",
            "source": [
                "# Rider Demand by Hour of Every Day, Compare Years"
            ],
            "metadata": {
                "azdata_cell_guid": "150c5ffd-1e93-466b-ad28-0a0f279202fc"
            }
        },
        {
            "cell_type": "code",
            "source": [
                "select\n",
                "a.day,\n",
                "a.hour,\n",
                "sum(a.riders) as riders_2018,\n",
                "sum(b.riders) as riders_2019,\n",
                "sum(b.riders) - sum(a.riders) as riders_change,\n",
                "round((sum(b.riders) - sum(a.riders)::numeric) / sum(a.riders), 4) * 100 || ' %' as percent_change,\n",
                "round(((sum(b.riders) - sum(a.riders)) - (min(sum(b.riders) - sum(a.riders)) over()))    /    ((max(sum(b.riders) - sum(a.riders)) over()) - (min(sum(b.riders) - sum(a.riders)) over())), 4) as relative_rider_change,\n",
                "round(((sum(b.riders) - sum(a.riders)::numeric) / sum(a.riders) - (min((sum(b.riders) - sum(a.riders)::numeric) / sum(a.riders)) over())) / ((max((sum(b.riders) - sum(a.riders)::numeric) / sum(a.riders)) over()) - (min((sum(b.riders) - sum(a.riders)::numeric) / sum(a.riders)) over())), 4) * 100 || ' %' as min_max_scaled_change,\n",
                "round(((sum(b.riders) - sum(a.riders)::numeric) / sum(a.riders)) / avg((sum(b.riders) - sum(a.riders)::numeric) / sum(a.riders)) over() - 1, 4) * 100 || ' %' as normalized_abolute_change\n",
                "from agg_2018 a\n",
                "join agg_2019 b on a.month_no = b.month_no and a.day_no = b.day_no and a.hour_no = b.hour_no\n",
                "group by a.day, a.day_no, a.hour, a.hour_no\n",
                "order by a.day_no, a.hour_no;"
            ],
            "metadata": {
                "azdata_cell_guid": "798669e2-5e8b-44dc-ac48-9dedc98fad7d"
            },
            "outputs": [
                {
                    "output_type": "display_data",
                    "data": {
                        "text/html": "(168 row(s) affected)"
                    },
                    "metadata": {}
                },
                {
                    "output_type": "display_data",
                    "data": {
                        "text/html": "Total execution time: 00:00:00.226"
                    },
                    "metadata": {}
                },
                {
                    "output_type": "execute_result",
                    "execution_count": 151,
                    "data": {
                        "application/vnd.dataresource+json": {
                            "schema": {
                                "fields": [
                                    {
                                        "name": "day"
                                    },
                                    {
                                        "name": "hour"
                                    },
                                    {
                                        "name": "riders_2018"
                                    },
                                    {
                                        "name": "riders_2019"
                                    },
                                    {
                                        "name": "riders_change"
                                    },
                                    {
                                        "name": "percent_change"
                                    },
                                    {
                                        "name": "relative_rider_change"
                                    },
                                    {
                                        "name": "min_max_scaled_change"
                                    },
                                    {
                                        "name": "normalized_abolute_change"
                                    }
                                ]
                            },
                            "data": [
                                {
                                    "0": "Monday   ",
                                    "1": "12:00 am",
                                    "2": "1574",
                                    "3": "2139",
                                    "4": "565",
                                    "5": "35.9000 %",
                                    "6": "0.0313",
                                    "7": "27.4100 %",
                                    "8": "-18.7900 %"
                                },
                                {
                                    "0": "Monday   ",
                                    "1": "01:00 am",
                                    "2": "882",
                                    "3": "1223",
                                    "4": "341",
                                    "5": "38.6600 %",
                                    "6": "0.0182",
                                    "7": "30.7100 %",
                                    "8": "-12.5400 %"
                                },
                                {
                                    "0": "Monday   ",
                                    "1": "02:00 am",
                                    "2": "446",
                                    "3": "707",
                                    "4": "261",
                                    "5": "58.5200 %",
                                    "6": "0.0136",
                                    "7": "54.4000 %",
                                    "8": "32.3900 %"
                                },
                                {
                                    "0": "Monday   ",
                                    "1": "03:00 am",
                                    "2": "224",
                                    "3": "289",
                                    "4": "65",
                                    "5": "29.0200 %",
                                    "6": "0.0022",
                                    "7": "19.2000 %",
                                    "8": "-34.3500 %"
                                },
                                {
                                    "0": "Monday   ",
                                    "1": "04:00 am",
                                    "2": "347",
                                    "3": "552",
                                    "4": "205",
                                    "5": "59.0800 %",
                                    "6": "0.0103",
                                    "7": "55.0700 %",
                                    "8": "33.6500 %"
                                },
                                {
                                    "0": "Monday   ",
                                    "1": "05:00 am",
                                    "2": "1860",
                                    "3": "2580",
                                    "4": "720",
                                    "5": "38.7100 %",
                                    "6": "0.0403",
                                    "7": "30.7600 %",
                                    "8": "-12.4300 %"
                                },
                                {
                                    "0": "Monday   ",
                                    "1": "06:00 am",
                                    "2": "6018",
                                    "3": "8431",
                                    "4": "2413",
                                    "5": "40.1000 %",
                                    "6": "0.1389",
                                    "7": "32.4200 %",
                                    "8": "-9.2900 %"
                                },
                                {
                                    "0": "Monday   ",
                                    "1": "07:00 am",
                                    "2": "16947",
                                    "3": "23693",
                                    "4": "6746",
                                    "5": "39.8100 %",
                                    "6": "0.3912",
                                    "7": "32.0700 %",
                                    "8": "-9.9500 %"
                                },
                                {
                                    "0": "Monday   ",
                                    "1": "08:00 am",
                                    "2": "29106",
                                    "3": "40835",
                                    "4": "11729",
                                    "5": "40.3000 %",
                                    "6": "0.6814",
                                    "7": "32.6600 %",
                                    "8": "-8.8400 %"
                                },
                                {
                                    "0": "Monday   ",
                                    "1": "09:00 am",
                                    "2": "14872",
                                    "3": "22167",
                                    "4": "7295",
                                    "5": "49.0500 %",
                                    "6": "0.4232",
                                    "7": "43.1100 %",
                                    "8": "10.9700 %"
                                },
                                {
                                    "0": "Monday   ",
                                    "1": "10:00 am",
                                    "2": "9116",
                                    "3": "13822",
                                    "4": "4706",
                                    "5": "51.6200 %",
                                    "6": "0.2724",
                                    "7": "46.1700 %",
                                    "8": "16.7900 %"
                                },
                                {
                                    "0": "Monday   ",
                                    "1": "11:00 am",
                                    "2": "9635",
                                    "3": "14630",
                                    "4": "4995",
                                    "5": "51.8400 %",
                                    "6": "0.2892",
                                    "7": "46.4400 %",
                                    "8": "17.2800 %"
                                },
                                {
                                    "0": "Monday   ",
                                    "1": "12:00 pm",
                                    "2": "11498",
                                    "3": "16986",
                                    "4": "5488",
                                    "5": "47.7300 %",
                                    "6": "0.3180",
                                    "7": "41.5300 %",
                                    "8": "7.9800 %"
                                },
                                {
                                    "0": "Monday   ",
                                    "1": "01:00 pm",
                                    "2": "10984",
                                    "3": "16031",
                                    "4": "5047",
                                    "5": "45.9500 %",
                                    "6": "0.2923",
                                    "7": "39.4000 %",
                                    "8": "3.9500 %"
                                },
                                {
                                    "0": "Monday   ",
                                    "1": "02:00 pm",
                                    "2": "10774",
                                    "3": "16408",
                                    "4": "5634",
                                    "5": "52.2900 %",
                                    "6": "0.3265",
                                    "7": "46.9700 %",
                                    "8": "18.3000 %"
                                },
                                {
                                    "0": "Monday   ",
                                    "1": "03:00 pm",
                                    "2": "13406",
                                    "3": "19396",
                                    "4": "5990",
                                    "5": "44.6800 %",
                                    "6": "0.3472",
                                    "7": "37.8900 %",
                                    "8": "1.0800 %"
                                },
                                {
                                    "0": "Monday   ",
                                    "1": "04:00 pm",
                                    "2": "22574",
                                    "3": "32409",
                                    "4": "9835",
                                    "5": "43.5700 %",
                                    "6": "0.5711",
                                    "7": "36.5600 %",
                                    "8": "-1.4400 %"
                                },
                                {
                                    "0": "Monday   ",
                                    "1": "05:00 pm",
                                    "2": "33529",
                                    "3": "47914",
                                    "4": "14385",
                                    "5": "42.9000 %",
                                    "6": "0.8361",
                                    "7": "35.7700 %",
                                    "8": "-2.9400 %"
                                },
                                {
                                    "0": "Monday   ",
                                    "1": "06:00 pm",
                                    "2": "23178",
                                    "3": "34306",
                                    "4": "11128",
                                    "5": "48.0100 %",
                                    "6": "0.6464",
                                    "7": "41.8600 %",
                                    "8": "8.6100 %"
                                },
                                {
                                    "0": "Monday   ",
                                    "1": "07:00 pm",
                                    "2": "15289",
                                    "3": "22784",
                                    "4": "7495",
                                    "5": "49.0200 %",
                                    "6": "0.4348",
                                    "7": "43.0700 %",
                                    "8": "10.9000 %"
                                },
                                {
                                    "0": "Monday   ",
                                    "1": "08:00 pm",
                                    "2": "10078",
                                    "3": "15081",
                                    "4": "5003",
                                    "5": "49.6400 %",
                                    "6": "0.2897",
                                    "7": "43.8100 %",
                                    "8": "12.3100 %"
                                },
                                {
                                    "0": "Monday   ",
                                    "1": "09:00 pm",
                                    "2": "6854",
                                    "3": "10180",
                                    "4": "3326",
                                    "5": "48.5300 %",
                                    "6": "0.1921",
                                    "7": "42.4800 %",
                                    "8": "9.7800 %"
                                },
                                {
                                    "0": "Monday   ",
                                    "1": "10:00 pm",
                                    "2": "4440",
                                    "3": "6433",
                                    "4": "1993",
                                    "5": "44.8900 %",
                                    "6": "0.1144",
                                    "7": "38.1400 %",
                                    "8": "1.5500 %"
                                },
                                {
                                    "0": "Monday   ",
                                    "1": "11:00 pm",
                                    "2": "2401",
                                    "3": "3391",
                                    "4": "990",
                                    "5": "41.2300 %",
                                    "6": "0.0560",
                                    "7": "33.7800 %",
                                    "8": "-6.7200 %"
                                },
                                {
                                    "0": "Tuesday  ",
                                    "1": "12:00 am",
                                    "2": "1175",
                                    "3": "1638",
                                    "4": "463",
                                    "5": "39.4000 %",
                                    "6": "0.0253",
                                    "7": "31.5900 %",
                                    "8": "-10.8600 %"
                                },
                                {
                                    "0": "Tuesday  ",
                                    "1": "01:00 am",
                                    "2": "585",
                                    "3": "849",
                                    "4": "264",
                                    "5": "45.1300 %",
                                    "6": "0.0137",
                                    "7": "38.4200 %",
                                    "8": "2.0900 %"
                                },
                                {
                                    "0": "Tuesday  ",
                                    "1": "02:00 am",
                                    "2": "354",
                                    "3": "544",
                                    "4": "190",
                                    "5": "53.6700 %",
                                    "6": "0.0094",
                                    "7": "48.6200 %",
                                    "8": "21.4200 %"
                                },
                                {
                                    "0": "Tuesday  ",
                                    "1": "03:00 am",
                                    "2": "153",
                                    "3": "301",
                                    "4": "148",
                                    "5": "96.7300 %",
                                    "6": "0.0070",
                                    "7": "100.0000 %",
                                    "8": "118.8300 %"
                                },
                                {
                                    "0": "Tuesday  ",
                                    "1": "04:00 am",
                                    "2": "324",
                                    "3": "498",
                                    "4": "174",
                                    "5": "53.7000 %",
                                    "6": "0.0085",
                                    "7": "48.6600 %",
                                    "8": "21.4900 %"
                                },
                                {
                                    "0": "Tuesday  ",
                                    "1": "05:00 am",
                                    "2": "2090",
                                    "3": "2951",
                                    "4": "861",
                                    "5": "41.2000 %",
                                    "6": "0.0485",
                                    "7": "33.7300 %",
                                    "8": "-6.8000 %"
                                },
                                {
                                    "0": "Tuesday  ",
                                    "1": "06:00 am",
                                    "2": "7061",
                                    "3": "9355",
                                    "4": "2294",
                                    "5": "32.4900 %",
                                    "6": "0.1320",
                                    "7": "23.3400 %",
                                    "8": "-26.5000 %"
                                },
                                {
                                    "0": "Tuesday  ",
                                    "1": "07:00 am",
                                    "2": "19600",
                                    "3": "25726",
                                    "4": "6126",
                                    "5": "31.2600 %",
                                    "6": "0.3551",
                                    "7": "21.8700 %",
                                    "8": "-29.2900 %"
                                },
                                {
                                    "0": "Tuesday  ",
                                    "1": "08:00 am",
                                    "2": "32890",
                                    "3": "44408",
                                    "4": "11518",
                                    "5": "35.0200 %",
                                    "6": "0.6691",
                                    "7": "26.3600 %",
                                    "8": "-20.7800 %"
                                },
                                {
                                    "0": "Tuesday  ",
                                    "1": "09:00 am",
                                    "2": "16363",
                                    "3": "23132",
                                    "4": "6769",
                                    "5": "41.3700 %",
                                    "6": "0.3926",
                                    "7": "33.9400 %",
                                    "8": "-6.4100 %"
                                },
                                {
                                    "0": "Tuesday  ",
                                    "1": "10:00 am",
                                    "2": "9063",
                                    "3": "13074",
                                    "4": "4011",
                                    "5": "44.2600 %",
                                    "6": "0.2319",
                                    "7": "37.3800 %",
                                    "8": "0.1200 %"
                                },
                                {
                                    "0": "Tuesday  ",
                                    "1": "11:00 am",
                                    "2": "9359",
                                    "3": "13504",
                                    "4": "4145",
                                    "5": "44.2900 %",
                                    "6": "0.2398",
                                    "7": "37.4200 %",
                                    "8": "0.1900 %"
                                },
                                {
                                    "0": "Tuesday  ",
                                    "1": "12:00 pm",
                                    "2": "10889",
                                    "3": "15667",
                                    "4": "4778",
                                    "5": "43.8800 %",
                                    "6": "0.2766",
                                    "7": "36.9300 %",
                                    "8": "-0.7300 %"
                                },
                                {
                                    "0": "Tuesday  ",
                                    "1": "01:00 pm",
                                    "2": "10147",
                                    "3": "14889",
                                    "4": "4742",
                                    "5": "46.7300 %",
                                    "6": "0.2745",
                                    "7": "40.3400 %",
                                    "8": "5.7200 %"
                                },
                                {
                                    "0": "Tuesday  ",
                                    "1": "02:00 pm",
                                    "2": "9816",
                                    "3": "14801",
                                    "4": "4985",
                                    "5": "50.7800 %",
                                    "6": "0.2887",
                                    "7": "45.1700 %",
                                    "8": "14.8900 %"
                                },
                                {
                                    "0": "Tuesday  ",
                                    "1": "03:00 pm",
                                    "2": "12016",
                                    "3": "18479",
                                    "4": "6463",
                                    "5": "53.7900 %",
                                    "6": "0.3747",
                                    "7": "48.7600 %",
                                    "8": "21.6800 %"
                                },
                                {
                                    "0": "Tuesday  ",
                                    "1": "04:00 pm",
                                    "2": "22270",
                                    "3": "33023",
                                    "4": "10753",
                                    "5": "48.2800 %",
                                    "6": "0.6246",
                                    "7": "42.1900 %",
                                    "8": "9.2300 %"
                                },
                                {
                                    "0": "Tuesday  ",
                                    "1": "05:00 pm",
                                    "2": "33838",
                                    "3": "51038",
                                    "4": "17200",
                                    "5": "50.8300 %",
                                    "6": "1.0000",
                                    "7": "45.2300 %",
                                    "8": "14.9900 %"
                                },
                                {
                                    "0": "Tuesday  ",
                                    "1": "06:00 pm",
                                    "2": "24302",
                                    "3": "36914",
                                    "4": "12612",
                                    "5": "51.9000 %",
                                    "6": "0.7328",
                                    "7": "46.5000 %",
                                    "8": "17.4100 %"
                                },
                                {
                                    "0": "Tuesday  ",
                                    "1": "07:00 pm",
                                    "2": "15609",
                                    "3": "24097",
                                    "4": "8488",
                                    "5": "54.3800 %",
                                    "6": "0.4927",
                                    "7": "49.4600 %",
                                    "8": "23.0200 %"
                                },
                                {
                                    "0": "Tuesday  ",
                                    "1": "08:00 pm",
                                    "2": "10967",
                                    "3": "15975",
                                    "4": "5008",
                                    "5": "45.6600 %",
                                    "6": "0.2900",
                                    "7": "39.0600 %",
                                    "8": "3.3100 %"
                                },
                                {
                                    "0": "Tuesday  ",
                                    "1": "09:00 pm",
                                    "2": "8002",
                                    "3": "11627",
                                    "4": "3625",
                                    "5": "45.3000 %",
                                    "6": "0.2095",
                                    "7": "38.6300 %",
                                    "8": "2.4800 %"
                                },
                                {
                                    "0": "Tuesday  ",
                                    "1": "10:00 pm",
                                    "2": "5453",
                                    "3": "7740",
                                    "4": "2287",
                                    "5": "41.9400 %",
                                    "6": "0.1316",
                                    "7": "34.6200 %",
                                    "8": "-5.1200 %"
                                },
                                {
                                    "0": "Tuesday  ",
                                    "1": "11:00 pm",
                                    "2": "2835",
                                    "3": "4225",
                                    "4": "1390",
                                    "5": "49.0300 %",
                                    "6": "0.0793",
                                    "7": "43.0800 %",
                                    "8": "10.9200 %"
                                },
                                {
                                    "0": "Wednesday",
                                    "1": "12:00 am",
                                    "2": "1450",
                                    "3": "1850",
                                    "4": "400",
                                    "5": "27.5900 %",
                                    "6": "0.0217",
                                    "7": "17.4900 %",
                                    "8": "-37.5900 %"
                                },
                                {
                                    "0": "Wednesday",
                                    "1": "01:00 am",
                                    "2": "737",
                                    "3": "1006",
                                    "4": "269",
                                    "5": "36.5000 %",
                                    "6": "0.0140",
                                    "7": "28.1300 %",
                                    "8": "-17.4300 %"
                                },
                                {
                                    "0": "Wednesday",
                                    "1": "02:00 am",
                                    "2": "386",
                                    "3": "595",
                                    "4": "209",
                                    "5": "54.1500 %",
                                    "6": "0.0105",
                                    "7": "49.1800 %",
                                    "8": "22.4900 %"
                                },
                                {
                                    "0": "Wednesday",
                                    "1": "03:00 am",
                                    "2": "207",
                                    "3": "235",
                                    "4": "28",
                                    "5": "13.5300 %",
                                    "6": "0.0000",
                                    "7": "0.7200 %",
                                    "8": "-69.4000 %"
                                },
                                {
                                    "0": "Wednesday",
                                    "1": "04:00 am",
                                    "2": "369",
                                    "3": "482",
                                    "4": "113",
                                    "5": "30.6200 %",
                                    "6": "0.0049",
                                    "7": "21.1200 %",
                                    "8": "-30.7200 %"
                                },
                                {
                                    "0": "Wednesday",
                                    "1": "05:00 am",
                                    "2": "2144",
                                    "3": "3054",
                                    "4": "910",
                                    "5": "42.4400 %",
                                    "6": "0.0514",
                                    "7": "35.2200 %",
                                    "8": "-3.9800 %"
                                },
                                {
                                    "0": "Wednesday",
                                    "1": "06:00 am",
                                    "2": "7146",
                                    "3": "9851",
                                    "4": "2705",
                                    "5": "37.8500 %",
                                    "6": "0.1559",
                                    "7": "29.7400 %",
                                    "8": "-14.3700 %"
                                },
                                {
                                    "0": "Wednesday",
                                    "1": "07:00 am",
                                    "2": "20036",
                                    "3": "27190",
                                    "4": "7154",
                                    "5": "35.7100 %",
                                    "6": "0.4150",
                                    "7": "27.1800 %",
                                    "8": "-19.2200 %"
                                },
                                {
                                    "0": "Wednesday",
                                    "1": "08:00 am",
                                    "2": "33162",
                                    "3": "46245",
                                    "4": "13083",
                                    "5": "39.4500 %",
                                    "6": "0.7602",
                                    "7": "31.6500 %",
                                    "8": "-10.7500 %"
                                },
                                {
                                    "0": "Wednesday",
                                    "1": "09:00 am",
                                    "2": "17197",
                                    "3": "24618",
                                    "4": "7421",
                                    "5": "43.1500 %",
                                    "6": "0.4305",
                                    "7": "36.0700 %",
                                    "8": "-2.3800 %"
                                },
                                {
                                    "0": "Wednesday",
                                    "1": "10:00 am",
                                    "2": "10189",
                                    "3": "13843",
                                    "4": "3654",
                                    "5": "35.8600 %",
                                    "6": "0.2112",
                                    "7": "27.3700 %",
                                    "8": "-18.8700 %"
                                },
                                {
                                    "0": "Wednesday",
                                    "1": "11:00 am",
                                    "2": "10582",
                                    "3": "14506",
                                    "4": "3924",
                                    "5": "37.0800 %",
                                    "6": "0.2269",
                                    "7": "28.8200 %",
                                    "8": "-16.1100 %"
                                },
                                {
                                    "0": "Wednesday",
                                    "1": "12:00 pm",
                                    "2": "12530",
                                    "3": "16651",
                                    "4": "4121",
                                    "5": "32.8900 %",
                                    "6": "0.2384",
                                    "7": "23.8200 %",
                                    "8": "-25.6000 %"
                                },
                                {
                                    "0": "Wednesday",
                                    "1": "01:00 pm",
                                    "2": "11723",
                                    "3": "15868",
                                    "4": "4145",
                                    "5": "35.3600 %",
                                    "6": "0.2398",
                                    "7": "26.7700 %",
                                    "8": "-20.0100 %"
                                },
                                {
                                    "0": "Wednesday",
                                    "1": "02:00 pm",
                                    "2": "11097",
                                    "3": "15778",
                                    "4": "4681",
                                    "5": "42.1800 %",
                                    "6": "0.2710",
                                    "7": "34.9100 %",
                                    "8": "-4.5700 %"
                                },
                                {
                                    "0": "Wednesday",
                                    "1": "03:00 pm",
                                    "2": "13604",
                                    "3": "19441",
                                    "4": "5837",
                                    "5": "42.9100 %",
                                    "6": "0.3383",
                                    "7": "35.7700 %",
                                    "8": "-2.9300 %"
                                },
                                {
                                    "0": "Wednesday",
                                    "1": "04:00 pm",
                                    "2": "24554",
                                    "3": "32143",
                                    "4": "7589",
                                    "5": "30.9100 %",
                                    "6": "0.4403",
                                    "7": "21.4500 %",
                                    "8": "-30.0800 %"
                                },
                                {
                                    "0": "Wednesday",
                                    "1": "05:00 pm",
                                    "2": "37229",
                                    "3": "47938",
                                    "4": "10709",
                                    "5": "28.7700 %",
                                    "6": "0.6220",
                                    "7": "18.9000 %",
                                    "8": "-34.9300 %"
                                },
                                {
                                    "0": "Wednesday",
                                    "1": "06:00 pm",
                                    "2": "26096",
                                    "3": "34801",
                                    "4": "8705",
                                    "5": "33.3600 %",
                                    "6": "0.5053",
                                    "7": "24.3800 %",
                                    "8": "-24.5400 %"
                                },
                                {
                                    "0": "Wednesday",
                                    "1": "07:00 pm",
                                    "2": "17850",
                                    "3": "23982",
                                    "4": "6132",
                                    "5": "34.3500 %",
                                    "6": "0.3555",
                                    "7": "25.5700 %",
                                    "8": "-22.2800 %"
                                },
                                {
                                    "0": "Wednesday",
                                    "1": "08:00 pm",
                                    "2": "11862",
                                    "3": "15982",
                                    "4": "4120",
                                    "5": "34.7300 %",
                                    "6": "0.2383",
                                    "7": "26.0200 %",
                                    "8": "-21.4200 %"
                                },
                                {
                                    "0": "Wednesday",
                                    "1": "09:00 pm",
                                    "2": "8809",
                                    "3": "11438",
                                    "4": "2629",
                                    "5": "29.8400 %",
                                    "6": "0.1515",
                                    "7": "20.1900 %",
                                    "8": "-32.4800 %"
                                },
                                {
                                    "0": "Wednesday",
                                    "1": "10:00 pm",
                                    "2": "5782",
                                    "3": "7696",
                                    "4": "1914",
                                    "5": "33.1000 %",
                                    "6": "0.1098",
                                    "7": "24.0700 %",
                                    "8": "-25.1100 %"
                                },
                                {
                                    "0": "Wednesday",
                                    "1": "11:00 pm",
                                    "2": "3744",
                                    "3": "4228",
                                    "4": "484",
                                    "5": "12.9300 %",
                                    "6": "0.0266",
                                    "7": "0.0000 %",
                                    "8": "-70.7500 %"
                                },
                                {
                                    "0": "Thursday ",
                                    "1": "12:00 am",
                                    "2": "1613",
                                    "3": "2006",
                                    "4": "393",
                                    "5": "24.3600 %",
                                    "6": "0.0213",
                                    "7": "13.6500 %",
                                    "8": "-44.8800 %"
                                },
                                {
                                    "0": "Thursday ",
                                    "1": "01:00 am",
                                    "2": "779",
                                    "3": "1085",
                                    "4": "306",
                                    "5": "39.2800 %",
                                    "6": "0.0162",
                                    "7": "31.4500 %",
                                    "8": "-11.1400 %"
                                },
                                {
                                    "0": "Thursday ",
                                    "1": "02:00 am",
                                    "2": "458",
                                    "3": "617",
                                    "4": "159",
                                    "5": "34.7200 %",
                                    "6": "0.0076",
                                    "7": "26.0000 %",
                                    "8": "-21.4600 %"
                                },
                                {
                                    "0": "Thursday ",
                                    "1": "03:00 am",
                                    "2": "208",
                                    "3": "271",
                                    "4": "63",
                                    "5": "30.2900 %",
                                    "6": "0.0020",
                                    "7": "20.7200 %",
                                    "8": "-31.4800 %"
                                },
                                {
                                    "0": "Thursday ",
                                    "1": "04:00 am",
                                    "2": "337",
                                    "3": "454",
                                    "4": "117",
                                    "5": "34.7200 %",
                                    "6": "0.0052",
                                    "7": "26.0000 %",
                                    "8": "-21.4600 %"
                                },
                                {
                                    "0": "Thursday ",
                                    "1": "05:00 am",
                                    "2": "1866",
                                    "3": "2690",
                                    "4": "824",
                                    "5": "44.1600 %",
                                    "6": "0.0464",
                                    "7": "37.2700 %",
                                    "8": "-0.1000 %"
                                },
                                {
                                    "0": "Thursday ",
                                    "1": "06:00 am",
                                    "2": "6821",
                                    "3": "8769",
                                    "4": "1948",
                                    "5": "28.5600 %",
                                    "6": "0.1118",
                                    "7": "18.6500 %",
                                    "8": "-35.3900 %"
                                },
                                {
                                    "0": "Thursday ",
                                    "1": "07:00 am",
                                    "2": "18982",
                                    "3": "24613",
                                    "4": "5631",
                                    "5": "29.6600 %",
                                    "6": "0.3263",
                                    "7": "19.9700 %",
                                    "8": "-32.8900 %"
                                },
                                {
                                    "0": "Thursday ",
                                    "1": "08:00 am",
                                    "2": "33130",
                                    "3": "42251",
                                    "4": "9121",
                                    "5": "27.5300 %",
                                    "6": "0.5295",
                                    "7": "17.4300 %",
                                    "8": "-37.7200 %"
                                },
                                {
                                    "0": "Thursday ",
                                    "1": "09:00 am",
                                    "2": "17252",
                                    "3": "23309",
                                    "4": "6057",
                                    "5": "35.1100 %",
                                    "6": "0.3511",
                                    "7": "26.4700 %",
                                    "8": "-20.5700 %"
                                },
                                {
                                    "0": "Thursday ",
                                    "1": "10:00 am",
                                    "2": "9903",
                                    "3": "13435",
                                    "4": "3532",
                                    "5": "35.6700 %",
                                    "6": "0.2041",
                                    "7": "27.1300 %",
                                    "8": "-19.3100 %"
                                },
                                {
                                    "0": "Thursday ",
                                    "1": "11:00 am",
                                    "2": "10711",
                                    "3": "14129",
                                    "4": "3418",
                                    "5": "31.9100 %",
                                    "6": "0.1974",
                                    "7": "22.6500 %",
                                    "8": "-27.8100 %"
                                },
                                {
                                    "0": "Thursday ",
                                    "1": "12:00 pm",
                                    "2": "12634",
                                    "3": "16206",
                                    "4": "3572",
                                    "5": "28.2700 %",
                                    "6": "0.2064",
                                    "7": "18.3100 %",
                                    "8": "-36.0400 %"
                                },
                                {
                                    "0": "Thursday ",
                                    "1": "01:00 pm",
                                    "2": "11666",
                                    "3": "15680",
                                    "4": "4014",
                                    "5": "34.4100 %",
                                    "6": "0.2321",
                                    "7": "25.6300 %",
                                    "8": "-22.1600 %"
                                },
                                {
                                    "0": "Thursday ",
                                    "1": "02:00 pm",
                                    "2": "11503",
                                    "3": "15909",
                                    "4": "4406",
                                    "5": "38.3000 %",
                                    "6": "0.2549",
                                    "7": "30.2800 %",
                                    "8": "-13.3500 %"
                                },
                                {
                                    "0": "Thursday ",
                                    "1": "03:00 pm",
                                    "2": "13866",
                                    "3": "19746",
                                    "4": "5880",
                                    "5": "42.4100 %",
                                    "6": "0.3408",
                                    "7": "35.1800 %",
                                    "8": "-4.0700 %"
                                },
                                {
                                    "0": "Thursday ",
                                    "1": "04:00 pm",
                                    "2": "23869",
                                    "3": "33814",
                                    "4": "9945",
                                    "5": "41.6600 %",
                                    "6": "0.5775",
                                    "7": "34.2900 %",
                                    "8": "-5.7400 %"
                                },
                                {
                                    "0": "Thursday ",
                                    "1": "05:00 pm",
                                    "2": "34912",
                                    "3": "47861",
                                    "4": "12949",
                                    "5": "37.0900 %",
                                    "6": "0.7524",
                                    "7": "28.8300 %",
                                    "8": "-16.0900 %"
                                },
                                {
                                    "0": "Thursday ",
                                    "1": "06:00 pm",
                                    "2": "25004",
                                    "3": "34991",
                                    "4": "9987",
                                    "5": "39.9400 %",
                                    "6": "0.5800",
                                    "7": "32.2300 %",
                                    "8": "-9.6400 %"
                                },
                                {
                                    "0": "Thursday ",
                                    "1": "07:00 pm",
                                    "2": "16657",
                                    "3": "24152",
                                    "4": "7495",
                                    "5": "45.0000 %",
                                    "6": "0.4348",
                                    "7": "38.2700 %",
                                    "8": "1.7900 %"
                                },
                                {
                                    "0": "Thursday ",
                                    "1": "08:00 pm",
                                    "2": "11965",
                                    "3": "16912",
                                    "4": "4947",
                                    "5": "41.3500 %",
                                    "6": "0.2865",
                                    "7": "33.9100 %",
                                    "8": "-6.4600 %"
                                },
                                {
                                    "0": "Thursday ",
                                    "1": "09:00 pm",
                                    "2": "8520",
                                    "3": "12746",
                                    "4": "4226",
                                    "5": "49.6000 %",
                                    "6": "0.2445",
                                    "7": "43.7600 %",
                                    "8": "12.2100 %"
                                },
                                {
                                    "0": "Thursday ",
                                    "1": "10:00 pm",
                                    "2": "6397",
                                    "3": "8924",
                                    "4": "2527",
                                    "5": "39.5000 %",
                                    "6": "0.1455",
                                    "7": "31.7100 %",
                                    "8": "-10.6300 %"
                                },
                                {
                                    "0": "Thursday ",
                                    "1": "11:00 pm",
                                    "2": "3647",
                                    "3": "6009",
                                    "4": "2362",
                                    "5": "64.7700 %",
                                    "6": "0.1359",
                                    "7": "61.8600 %",
                                    "8": "46.5200 %"
                                },
                                {
                                    "0": "Friday   ",
                                    "1": "12:00 am",
                                    "2": "2051",
                                    "3": "2911",
                                    "4": "860",
                                    "5": "41.9300 %",
                                    "6": "0.0485",
                                    "7": "34.6100 %",
                                    "8": "-5.1400 %"
                                },
                                {
                                    "0": "Friday   ",
                                    "1": "01:00 am",
                                    "2": "1049",
                                    "3": "1596",
                                    "4": "547",
                                    "5": "52.1400 %",
                                    "6": "0.0302",
                                    "7": "46.8000 %",
                                    "8": "17.9700 %"
                                },
                                {
                                    "0": "Friday   ",
                                    "1": "02:00 am",
                                    "2": "640",
                                    "3": "977",
                                    "4": "337",
                                    "5": "52.6600 %",
                                    "6": "0.0180",
                                    "7": "47.4100 %",
                                    "8": "19.1200 %"
                                },
                                {
                                    "0": "Friday   ",
                                    "1": "03:00 am",
                                    "2": "268",
                                    "3": "392",
                                    "4": "124",
                                    "5": "46.2700 %",
                                    "6": "0.0056",
                                    "7": "39.7800 %",
                                    "8": "4.6700 %"
                                },
                                {
                                    "0": "Friday   ",
                                    "1": "04:00 am",
                                    "2": "327",
                                    "3": "486",
                                    "4": "159",
                                    "5": "48.6200 %",
                                    "6": "0.0076",
                                    "7": "42.5900 %",
                                    "8": "10.0000 %"
                                },
                                {
                                    "0": "Friday   ",
                                    "1": "05:00 am",
                                    "2": "1709",
                                    "3": "2292",
                                    "4": "583",
                                    "5": "34.1100 %",
                                    "6": "0.0323",
                                    "7": "25.2800 %",
                                    "8": "-22.8300 %"
                                },
                                {
                                    "0": "Friday   ",
                                    "1": "06:00 am",
                                    "2": "5954",
                                    "3": "7623",
                                    "4": "1669",
                                    "5": "28.0300 %",
                                    "6": "0.0956",
                                    "7": "18.0200 %",
                                    "8": "-36.5800 %"
                                },
                                {
                                    "0": "Friday   ",
                                    "1": "07:00 am",
                                    "2": "16401",
                                    "3": "22006",
                                    "4": "5605",
                                    "5": "34.1700 %",
                                    "6": "0.3248",
                                    "7": "25.3500 %",
                                    "8": "-22.6900 %"
                                },
                                {
                                    "0": "Friday   ",
                                    "1": "08:00 am",
                                    "2": "29270",
                                    "3": "40942",
                                    "4": "11672",
                                    "5": "39.8800 %",
                                    "6": "0.6781",
                                    "7": "32.1600 %",
                                    "8": "-9.7900 %"
                                },
                                {
                                    "0": "Friday   ",
                                    "1": "09:00 am",
                                    "2": "16452",
                                    "3": "23453",
                                    "4": "7001",
                                    "5": "42.5500 %",
                                    "6": "0.4061",
                                    "7": "35.3500 %",
                                    "8": "-3.7300 %"
                                },
                                {
                                    "0": "Friday   ",
                                    "1": "10:00 am",
                                    "2": "10638",
                                    "3": "14968",
                                    "4": "4330",
                                    "5": "40.7000 %",
                                    "6": "0.2505",
                                    "7": "33.1400 %",
                                    "8": "-7.9200 %"
                                },
                                {
                                    "0": "Friday   ",
                                    "1": "11:00 am",
                                    "2": "11442",
                                    "3": "16426",
                                    "4": "4984",
                                    "5": "43.5600 %",
                                    "6": "0.2886",
                                    "7": "36.5500 %",
                                    "8": "-1.4600 %"
                                },
                                {
                                    "0": "Friday   ",
                                    "1": "12:00 pm",
                                    "2": "13698",
                                    "3": "19248",
                                    "4": "5550",
                                    "5": "40.5200 %",
                                    "6": "0.3216",
                                    "7": "32.9200 %",
                                    "8": "-8.3400 %"
                                },
                                {
                                    "0": "Friday   ",
                                    "1": "01:00 pm",
                                    "2": "13779",
                                    "3": "19387",
                                    "4": "5608",
                                    "5": "40.7000 %",
                                    "6": "0.3249",
                                    "7": "33.1400 %",
                                    "8": "-7.9300 %"
                                },
                                {
                                    "0": "Friday   ",
                                    "1": "02:00 pm",
                                    "2": "14012",
                                    "3": "19198",
                                    "4": "5186",
                                    "5": "37.0100 %",
                                    "6": "0.3004",
                                    "7": "28.7400 %",
                                    "8": "-16.2700 %"
                                },
                                {
                                    "0": "Friday   ",
                                    "1": "03:00 pm",
                                    "2": "17000",
                                    "3": "23585",
                                    "4": "6585",
                                    "5": "38.7400 %",
                                    "6": "0.3818",
                                    "7": "30.8000 %",
                                    "8": "-12.3700 %"
                                },
                                {
                                    "0": "Friday   ",
                                    "1": "04:00 pm",
                                    "2": "26480",
                                    "3": "34457",
                                    "4": "7977",
                                    "5": "30.1200 %",
                                    "6": "0.4629",
                                    "7": "20.5200 %",
                                    "8": "-31.8500 %"
                                },
                                {
                                    "0": "Friday   ",
                                    "1": "05:00 pm",
                                    "2": "30648",
                                    "3": "42340",
                                    "4": "11692",
                                    "5": "38.1500 %",
                                    "6": "0.6792",
                                    "7": "30.1000 %",
                                    "8": "-13.7000 %"
                                },
                                {
                                    "0": "Friday   ",
                                    "1": "06:00 pm",
                                    "2": "20949",
                                    "3": "30518",
                                    "4": "9569",
                                    "5": "45.6800 %",
                                    "6": "0.5556",
                                    "7": "39.0800 %",
                                    "8": "3.3400 %"
                                },
                                {
                                    "0": "Friday   ",
                                    "1": "07:00 pm",
                                    "2": "14436",
                                    "3": "21277",
                                    "4": "6841",
                                    "5": "47.3900 %",
                                    "6": "0.3968",
                                    "7": "41.1200 %",
                                    "8": "7.2100 %"
                                },
                                {
                                    "0": "Friday   ",
                                    "1": "08:00 pm",
                                    "2": "9842",
                                    "3": "14648",
                                    "4": "4806",
                                    "5": "48.8300 %",
                                    "6": "0.2782",
                                    "7": "42.8400 %",
                                    "8": "10.4700 %"
                                },
                                {
                                    "0": "Friday   ",
                                    "1": "09:00 pm",
                                    "2": "7774",
                                    "3": "10932",
                                    "4": "3158",
                                    "5": "40.6200 %",
                                    "6": "0.1823",
                                    "7": "33.0500 %",
                                    "8": "-8.1000 %"
                                },
                                {
                                    "0": "Friday   ",
                                    "1": "10:00 pm",
                                    "2": "6617",
                                    "3": "9327",
                                    "4": "2710",
                                    "5": "40.9600 %",
                                    "6": "0.1562",
                                    "7": "33.4400 %",
                                    "8": "-7.3500 %"
                                },
                                {
                                    "0": "Friday   ",
                                    "1": "11:00 pm",
                                    "2": "4793",
                                    "3": "6479",
                                    "4": "1686",
                                    "5": "35.1800 %",
                                    "6": "0.0966",
                                    "7": "26.5500 %",
                                    "8": "-20.4200 %"
                                },
                                {
                                    "0": "Saturday ",
                                    "1": "12:00 am",
                                    "2": "3230",
                                    "3": "4668",
                                    "4": "1438",
                                    "5": "44.5200 %",
                                    "6": "0.0821",
                                    "7": "37.7000 %",
                                    "8": "0.7200 %"
                                },
                                {
                                    "0": "Saturday ",
                                    "1": "01:00 am",
                                    "2": "2516",
                                    "3": "3751",
                                    "4": "1235",
                                    "5": "49.0900 %",
                                    "6": "0.0703",
                                    "7": "43.1500 %",
                                    "8": "11.0500 %"
                                },
                                {
                                    "0": "Saturday ",
                                    "1": "02:00 am",
                                    "2": "1741",
                                    "3": "2357",
                                    "4": "616",
                                    "5": "35.3800 %",
                                    "6": "0.0342",
                                    "7": "26.7900 %",
                                    "8": "-19.9600 %"
                                },
                                {
                                    "0": "Saturday ",
                                    "1": "03:00 am",
                                    "2": "586",
                                    "3": "797",
                                    "4": "211",
                                    "5": "36.0100 %",
                                    "6": "0.0107",
                                    "7": "27.5400 %",
                                    "8": "-18.5400 %"
                                },
                                {
                                    "0": "Saturday ",
                                    "1": "04:00 am",
                                    "2": "367",
                                    "3": "458",
                                    "4": "91",
                                    "5": "24.8000 %",
                                    "6": "0.0037",
                                    "7": "14.1600 %",
                                    "8": "-43.9100 %"
                                },
                                {
                                    "0": "Saturday ",
                                    "1": "05:00 am",
                                    "2": "481",
                                    "3": "762",
                                    "4": "281",
                                    "5": "58.4200 %",
                                    "6": "0.0147",
                                    "7": "54.2800 %",
                                    "8": "32.1600 %"
                                },
                                {
                                    "0": "Saturday ",
                                    "1": "06:00 am",
                                    "2": "1135",
                                    "3": "1620",
                                    "4": "485",
                                    "5": "42.7300 %",
                                    "6": "0.0266",
                                    "7": "35.5600 %",
                                    "8": "-3.3300 %"
                                },
                                {
                                    "0": "Saturday ",
                                    "1": "07:00 am",
                                    "2": "2891",
                                    "3": "3904",
                                    "4": "1013",
                                    "5": "35.0400 %",
                                    "6": "0.0574",
                                    "7": "26.3900 %",
                                    "8": "-20.7300 %"
                                },
                                {
                                    "0": "Saturday ",
                                    "1": "08:00 am",
                                    "2": "5710",
                                    "3": "8049",
                                    "4": "2339",
                                    "5": "40.9600 %",
                                    "6": "0.1346",
                                    "7": "33.4500 %",
                                    "8": "-7.3300 %"
                                },
                                {
                                    "0": "Saturday ",
                                    "1": "09:00 am",
                                    "2": "8861",
                                    "3": "12955",
                                    "4": "4094",
                                    "5": "46.2000 %",
                                    "6": "0.2368",
                                    "7": "39.7100 %",
                                    "8": "4.5200 %"
                                },
                                {
                                    "0": "Saturday ",
                                    "1": "10:00 am",
                                    "2": "12208",
                                    "3": "17646",
                                    "4": "5438",
                                    "5": "44.5400 %",
                                    "6": "0.3150",
                                    "7": "37.7300 %",
                                    "8": "0.7700 %"
                                },
                                {
                                    "0": "Saturday ",
                                    "1": "11:00 am",
                                    "2": "14567",
                                    "3": "22454",
                                    "4": "7887",
                                    "5": "54.1400 %",
                                    "6": "0.4577",
                                    "7": "49.1800 %",
                                    "8": "22.4900 %"
                                },
                                {
                                    "0": "Saturday ",
                                    "1": "12:00 pm",
                                    "2": "16367",
                                    "3": "26092",
                                    "4": "9725",
                                    "5": "59.4200 %",
                                    "6": "0.5647",
                                    "7": "55.4800 %",
                                    "8": "34.4200 %"
                                },
                                {
                                    "0": "Saturday ",
                                    "1": "01:00 pm",
                                    "2": "17361",
                                    "3": "26840",
                                    "4": "9479",
                                    "5": "54.6000 %",
                                    "6": "0.5504",
                                    "7": "49.7300 %",
                                    "8": "23.5200 %"
                                },
                                {
                                    "0": "Saturday ",
                                    "1": "02:00 pm",
                                    "2": "17344",
                                    "3": "27132",
                                    "4": "9788",
                                    "5": "56.4300 %",
                                    "6": "0.5684",
                                    "7": "51.9100 %",
                                    "8": "27.6700 %"
                                },
                                {
                                    "0": "Saturday ",
                                    "1": "03:00 pm",
                                    "2": "17341",
                                    "3": "27428",
                                    "4": "10087",
                                    "5": "58.1700 %",
                                    "6": "0.5858",
                                    "7": "53.9800 %",
                                    "8": "31.5900 %"
                                },
                                {
                                    "0": "Saturday ",
                                    "1": "04:00 pm",
                                    "2": "17214",
                                    "3": "26447",
                                    "4": "9233",
                                    "5": "53.6400 %",
                                    "6": "0.5360",
                                    "7": "48.5800 %",
                                    "8": "21.3400 %"
                                },
                                {
                                    "0": "Saturday ",
                                    "1": "05:00 pm",
                                    "2": "16116",
                                    "3": "24997",
                                    "4": "8881",
                                    "5": "55.1100 %",
                                    "6": "0.5155",
                                    "7": "50.3300 %",
                                    "8": "24.6700 %"
                                },
                                {
                                    "0": "Saturday ",
                                    "1": "06:00 pm",
                                    "2": "14471",
                                    "3": "22568",
                                    "4": "8097",
                                    "5": "55.9500 %",
                                    "6": "0.4699",
                                    "7": "51.3400 %",
                                    "8": "26.5800 %"
                                },
                                {
                                    "0": "Saturday ",
                                    "1": "07:00 pm",
                                    "2": "11797",
                                    "3": "18175",
                                    "4": "6378",
                                    "5": "54.0600 %",
                                    "6": "0.3698",
                                    "7": "49.0900 %",
                                    "8": "22.3100 %"
                                },
                                {
                                    "0": "Saturday ",
                                    "1": "08:00 pm",
                                    "2": "8657",
                                    "3": "13159",
                                    "4": "4502",
                                    "5": "52.0000 %",
                                    "6": "0.2605",
                                    "7": "46.6300 %",
                                    "8": "17.6500 %"
                                },
                                {
                                    "0": "Saturday ",
                                    "1": "09:00 pm",
                                    "2": "6888",
                                    "3": "10901",
                                    "4": "4013",
                                    "5": "58.2600 %",
                                    "6": "0.2321",
                                    "7": "54.0900 %",
                                    "8": "31.8000 %"
                                },
                                {
                                    "0": "Saturday ",
                                    "1": "10:00 pm",
                                    "2": "5918",
                                    "3": "9059",
                                    "4": "3141",
                                    "5": "53.0800 %",
                                    "6": "0.1813",
                                    "7": "47.9100 %",
                                    "8": "20.0700 %"
                                },
                                {
                                    "0": "Saturday ",
                                    "1": "11:00 pm",
                                    "2": "4377",
                                    "3": "6805",
                                    "4": "2428",
                                    "5": "55.4700 %",
                                    "6": "0.1398",
                                    "7": "50.7700 %",
                                    "8": "25.4900 %"
                                },
                                {
                                    "0": "Sunday   ",
                                    "1": "12:00 am",
                                    "2": "3288",
                                    "3": "5208",
                                    "4": "1920",
                                    "5": "58.3900 %",
                                    "6": "0.1102",
                                    "7": "54.2500 %",
                                    "8": "32.1000 %"
                                },
                                {
                                    "0": "Sunday   ",
                                    "1": "01:00 am",
                                    "2": "2785",
                                    "3": "4741",
                                    "4": "1956",
                                    "5": "70.2300 %",
                                    "6": "0.1123",
                                    "7": "68.3800 %",
                                    "8": "58.8900 %"
                                },
                                {
                                    "0": "Sunday   ",
                                    "1": "02:00 am",
                                    "2": "1943",
                                    "3": "2955",
                                    "4": "1012",
                                    "5": "52.0800 %",
                                    "6": "0.0573",
                                    "7": "46.7200 %",
                                    "8": "17.8300 %"
                                },
                                {
                                    "0": "Sunday   ",
                                    "1": "03:00 am",
                                    "2": "571",
                                    "3": "793",
                                    "4": "222",
                                    "5": "38.8800 %",
                                    "6": "0.0113",
                                    "7": "30.9700 %",
                                    "8": "-12.0400 %"
                                },
                                {
                                    "0": "Sunday   ",
                                    "1": "04:00 am",
                                    "2": "268",
                                    "3": "464",
                                    "4": "196",
                                    "5": "73.1300 %",
                                    "6": "0.0098",
                                    "7": "71.8400 %",
                                    "8": "65.4500 %"
                                },
                                {
                                    "0": "Sunday   ",
                                    "1": "05:00 am",
                                    "2": "421",
                                    "3": "736",
                                    "4": "315",
                                    "5": "74.8200 %",
                                    "6": "0.0167",
                                    "7": "73.8600 %",
                                    "8": "69.2700 %"
                                },
                                {
                                    "0": "Sunday   ",
                                    "1": "06:00 am",
                                    "2": "911",
                                    "3": "1534",
                                    "4": "623",
                                    "5": "68.3900 %",
                                    "6": "0.0346",
                                    "7": "66.1800 %",
                                    "8": "54.7100 %"
                                },
                                {
                                    "0": "Sunday   ",
                                    "1": "07:00 am",
                                    "2": "1935",
                                    "3": "3028",
                                    "4": "1093",
                                    "5": "56.4900 %",
                                    "6": "0.0620",
                                    "7": "51.9800 %",
                                    "8": "27.7900 %"
                                },
                                {
                                    "0": "Sunday   ",
                                    "1": "08:00 am",
                                    "2": "4500",
                                    "3": "7129",
                                    "4": "2629",
                                    "5": "58.4200 %",
                                    "6": "0.1515",
                                    "7": "54.2900 %",
                                    "8": "32.1700 %"
                                },
                                {
                                    "0": "Sunday   ",
                                    "1": "09:00 am",
                                    "2": "7620",
                                    "3": "12035",
                                    "4": "4415",
                                    "5": "57.9400 %",
                                    "6": "0.2555",
                                    "7": "53.7100 %",
                                    "8": "31.0800 %"
                                },
                                {
                                    "0": "Sunday   ",
                                    "1": "10:00 am",
                                    "2": "11093",
                                    "3": "16830",
                                    "4": "5737",
                                    "5": "51.7200 %",
                                    "6": "0.3325",
                                    "7": "46.2900 %",
                                    "8": "17.0000 %"
                                },
                                {
                                    "0": "Sunday   ",
                                    "1": "11:00 am",
                                    "2": "13401",
                                    "3": "20140",
                                    "4": "6739",
                                    "5": "50.2900 %",
                                    "6": "0.3908",
                                    "7": "44.5800 %",
                                    "8": "13.7600 %"
                                },
                                {
                                    "0": "Sunday   ",
                                    "1": "12:00 pm",
                                    "2": "15646",
                                    "3": "22816",
                                    "4": "7170",
                                    "5": "45.8300 %",
                                    "6": "0.4159",
                                    "7": "39.2600 %",
                                    "8": "3.6700 %"
                                },
                                {
                                    "0": "Sunday   ",
                                    "1": "01:00 pm",
                                    "2": "16761",
                                    "3": "24356",
                                    "4": "7595",
                                    "5": "45.3100 %",
                                    "6": "0.4407",
                                    "7": "38.6400 %",
                                    "8": "2.5100 %"
                                },
                                {
                                    "0": "Sunday   ",
                                    "1": "02:00 pm",
                                    "2": "16736",
                                    "3": "23920",
                                    "4": "7184",
                                    "5": "42.9300 %",
                                    "6": "0.4167",
                                    "7": "35.8000 %",
                                    "8": "-2.8900 %"
                                },
                                {
                                    "0": "Sunday   ",
                                    "1": "03:00 pm",
                                    "2": "16848",
                                    "3": "23682",
                                    "4": "6834",
                                    "5": "40.5600 %",
                                    "6": "0.3963",
                                    "7": "32.9800 %",
                                    "8": "-8.2400 %"
                                },
                                {
                                    "0": "Sunday   ",
                                    "1": "04:00 pm",
                                    "2": "16426",
                                    "3": "24073",
                                    "4": "7647",
                                    "5": "46.5500 %",
                                    "6": "0.4437",
                                    "7": "40.1300 %",
                                    "8": "5.3200 %"
                                },
                                {
                                    "0": "Sunday   ",
                                    "1": "05:00 pm",
                                    "2": "15527",
                                    "3": "22860",
                                    "4": "7333",
                                    "5": "47.2300 %",
                                    "6": "0.4254",
                                    "7": "40.9300 %",
                                    "8": "6.8400 %"
                                },
                                {
                                    "0": "Sunday   ",
                                    "1": "06:00 pm",
                                    "2": "13780",
                                    "3": "20821",
                                    "4": "7041",
                                    "5": "51.1000 %",
                                    "6": "0.4084",
                                    "7": "45.5400 %",
                                    "8": "15.5900 %"
                                },
                                {
                                    "0": "Sunday   ",
                                    "1": "07:00 pm",
                                    "2": "10698",
                                    "3": "15772",
                                    "4": "5074",
                                    "5": "47.4300 %",
                                    "6": "0.2939",
                                    "7": "41.1700 %",
                                    "8": "7.3000 %"
                                },
                                {
                                    "0": "Sunday   ",
                                    "1": "08:00 pm",
                                    "2": "7506",
                                    "3": "12009",
                                    "4": "4503",
                                    "5": "59.9900 %",
                                    "6": "0.2606",
                                    "7": "56.1600 %",
                                    "8": "35.7200 %"
                                },
                                {
                                    "0": "Sunday   ",
                                    "1": "09:00 pm",
                                    "2": "5498",
                                    "3": "8460",
                                    "4": "2962",
                                    "5": "53.8700 %",
                                    "6": "0.1709",
                                    "7": "48.8600 %",
                                    "8": "21.8800 %"
                                },
                                {
                                    "0": "Sunday   ",
                                    "1": "10:00 pm",
                                    "2": "4043",
                                    "3": "6565",
                                    "4": "2522",
                                    "5": "62.3800 %",
                                    "6": "0.1452",
                                    "7": "59.0100 %",
                                    "8": "41.1200 %"
                                },
                                {
                                    "0": "Sunday   ",
                                    "1": "11:00 pm",
                                    "2": "2850",
                                    "3": "4276",
                                    "4": "1426",
                                    "5": "50.0400 %",
                                    "6": "0.0814",
                                    "7": "44.2800 %",
                                    "8": "13.1900 %"
                                }
                            ]
                        },
                        "text/html": "<table><tr><th>day</th><th>hour</th><th>riders_2018</th><th>riders_2019</th><th>riders_change</th><th>percent_change</th><th>relative_rider_change</th><th>min_max_scaled_change</th><th>normalized_abolute_change</th></tr><tr><td>Monday   </td><td>12:00 am</td><td>1574</td><td>2139</td><td>565</td><td>35.9000 %</td><td>0.0313</td><td>27.4100 %</td><td>-18.7900 %</td></tr><tr><td>Monday   </td><td>01:00 am</td><td>882</td><td>1223</td><td>341</td><td>38.6600 %</td><td>0.0182</td><td>30.7100 %</td><td>-12.5400 %</td></tr><tr><td>Monday   </td><td>02:00 am</td><td>446</td><td>707</td><td>261</td><td>58.5200 %</td><td>0.0136</td><td>54.4000 %</td><td>32.3900 %</td></tr><tr><td>Monday   </td><td>03:00 am</td><td>224</td><td>289</td><td>65</td><td>29.0200 %</td><td>0.0022</td><td>19.2000 %</td><td>-34.3500 %</td></tr><tr><td>Monday   </td><td>04:00 am</td><td>347</td><td>552</td><td>205</td><td>59.0800 %</td><td>0.0103</td><td>55.0700 %</td><td>33.6500 %</td></tr><tr><td>Monday   </td><td>05:00 am</td><td>1860</td><td>2580</td><td>720</td><td>38.7100 %</td><td>0.0403</td><td>30.7600 %</td><td>-12.4300 %</td></tr><tr><td>Monday   </td><td>06:00 am</td><td>6018</td><td>8431</td><td>2413</td><td>40.1000 %</td><td>0.1389</td><td>32.4200 %</td><td>-9.2900 %</td></tr><tr><td>Monday   </td><td>07:00 am</td><td>16947</td><td>23693</td><td>6746</td><td>39.8100 %</td><td>0.3912</td><td>32.0700 %</td><td>-9.9500 %</td></tr><tr><td>Monday   </td><td>08:00 am</td><td>29106</td><td>40835</td><td>11729</td><td>40.3000 %</td><td>0.6814</td><td>32.6600 %</td><td>-8.8400 %</td></tr><tr><td>Monday   </td><td>09:00 am</td><td>14872</td><td>22167</td><td>7295</td><td>49.0500 %</td><td>0.4232</td><td>43.1100 %</td><td>10.9700 %</td></tr><tr><td>Monday   </td><td>10:00 am</td><td>9116</td><td>13822</td><td>4706</td><td>51.6200 %</td><td>0.2724</td><td>46.1700 %</td><td>16.7900 %</td></tr><tr><td>Monday   </td><td>11:00 am</td><td>9635</td><td>14630</td><td>4995</td><td>51.8400 %</td><td>0.2892</td><td>46.4400 %</td><td>17.2800 %</td></tr><tr><td>Monday   </td><td>12:00 pm</td><td>11498</td><td>16986</td><td>5488</td><td>47.7300 %</td><td>0.3180</td><td>41.5300 %</td><td>7.9800 %</td></tr><tr><td>Monday   </td><td>01:00 pm</td><td>10984</td><td>16031</td><td>5047</td><td>45.9500 %</td><td>0.2923</td><td>39.4000 %</td><td>3.9500 %</td></tr><tr><td>Monday   </td><td>02:00 pm</td><td>10774</td><td>16408</td><td>5634</td><td>52.2900 %</td><td>0.3265</td><td>46.9700 %</td><td>18.3000 %</td></tr><tr><td>Monday   </td><td>03:00 pm</td><td>13406</td><td>19396</td><td>5990</td><td>44.6800 %</td><td>0.3472</td><td>37.8900 %</td><td>1.0800 %</td></tr><tr><td>Monday   </td><td>04:00 pm</td><td>22574</td><td>32409</td><td>9835</td><td>43.5700 %</td><td>0.5711</td><td>36.5600 %</td><td>-1.4400 %</td></tr><tr><td>Monday   </td><td>05:00 pm</td><td>33529</td><td>47914</td><td>14385</td><td>42.9000 %</td><td>0.8361</td><td>35.7700 %</td><td>-2.9400 %</td></tr><tr><td>Monday   </td><td>06:00 pm</td><td>23178</td><td>34306</td><td>11128</td><td>48.0100 %</td><td>0.6464</td><td>41.8600 %</td><td>8.6100 %</td></tr><tr><td>Monday   </td><td>07:00 pm</td><td>15289</td><td>22784</td><td>7495</td><td>49.0200 %</td><td>0.4348</td><td>43.0700 %</td><td>10.9000 %</td></tr><tr><td>Monday   </td><td>08:00 pm</td><td>10078</td><td>15081</td><td>5003</td><td>49.6400 %</td><td>0.2897</td><td>43.8100 %</td><td>12.3100 %</td></tr><tr><td>Monday   </td><td>09:00 pm</td><td>6854</td><td>10180</td><td>3326</td><td>48.5300 %</td><td>0.1921</td><td>42.4800 %</td><td>9.7800 %</td></tr><tr><td>Monday   </td><td>10:00 pm</td><td>4440</td><td>6433</td><td>1993</td><td>44.8900 %</td><td>0.1144</td><td>38.1400 %</td><td>1.5500 %</td></tr><tr><td>Monday   </td><td>11:00 pm</td><td>2401</td><td>3391</td><td>990</td><td>41.2300 %</td><td>0.0560</td><td>33.7800 %</td><td>-6.7200 %</td></tr><tr><td>Tuesday  </td><td>12:00 am</td><td>1175</td><td>1638</td><td>463</td><td>39.4000 %</td><td>0.0253</td><td>31.5900 %</td><td>-10.8600 %</td></tr><tr><td>Tuesday  </td><td>01:00 am</td><td>585</td><td>849</td><td>264</td><td>45.1300 %</td><td>0.0137</td><td>38.4200 %</td><td>2.0900 %</td></tr><tr><td>Tuesday  </td><td>02:00 am</td><td>354</td><td>544</td><td>190</td><td>53.6700 %</td><td>0.0094</td><td>48.6200 %</td><td>21.4200 %</td></tr><tr><td>Tuesday  </td><td>03:00 am</td><td>153</td><td>301</td><td>148</td><td>96.7300 %</td><td>0.0070</td><td>100.0000 %</td><td>118.8300 %</td></tr><tr><td>Tuesday  </td><td>04:00 am</td><td>324</td><td>498</td><td>174</td><td>53.7000 %</td><td>0.0085</td><td>48.6600 %</td><td>21.4900 %</td></tr><tr><td>Tuesday  </td><td>05:00 am</td><td>2090</td><td>2951</td><td>861</td><td>41.2000 %</td><td>0.0485</td><td>33.7300 %</td><td>-6.8000 %</td></tr><tr><td>Tuesday  </td><td>06:00 am</td><td>7061</td><td>9355</td><td>2294</td><td>32.4900 %</td><td>0.1320</td><td>23.3400 %</td><td>-26.5000 %</td></tr><tr><td>Tuesday  </td><td>07:00 am</td><td>19600</td><td>25726</td><td>6126</td><td>31.2600 %</td><td>0.3551</td><td>21.8700 %</td><td>-29.2900 %</td></tr><tr><td>Tuesday  </td><td>08:00 am</td><td>32890</td><td>44408</td><td>11518</td><td>35.0200 %</td><td>0.6691</td><td>26.3600 %</td><td>-20.7800 %</td></tr><tr><td>Tuesday  </td><td>09:00 am</td><td>16363</td><td>23132</td><td>6769</td><td>41.3700 %</td><td>0.3926</td><td>33.9400 %</td><td>-6.4100 %</td></tr><tr><td>Tuesday  </td><td>10:00 am</td><td>9063</td><td>13074</td><td>4011</td><td>44.2600 %</td><td>0.2319</td><td>37.3800 %</td><td>0.1200 %</td></tr><tr><td>Tuesday  </td><td>11:00 am</td><td>9359</td><td>13504</td><td>4145</td><td>44.2900 %</td><td>0.2398</td><td>37.4200 %</td><td>0.1900 %</td></tr><tr><td>Tuesday  </td><td>12:00 pm</td><td>10889</td><td>15667</td><td>4778</td><td>43.8800 %</td><td>0.2766</td><td>36.9300 %</td><td>-0.7300 %</td></tr><tr><td>Tuesday  </td><td>01:00 pm</td><td>10147</td><td>14889</td><td>4742</td><td>46.7300 %</td><td>0.2745</td><td>40.3400 %</td><td>5.7200 %</td></tr><tr><td>Tuesday  </td><td>02:00 pm</td><td>9816</td><td>14801</td><td>4985</td><td>50.7800 %</td><td>0.2887</td><td>45.1700 %</td><td>14.8900 %</td></tr><tr><td>Tuesday  </td><td>03:00 pm</td><td>12016</td><td>18479</td><td>6463</td><td>53.7900 %</td><td>0.3747</td><td>48.7600 %</td><td>21.6800 %</td></tr><tr><td>Tuesday  </td><td>04:00 pm</td><td>22270</td><td>33023</td><td>10753</td><td>48.2800 %</td><td>0.6246</td><td>42.1900 %</td><td>9.2300 %</td></tr><tr><td>Tuesday  </td><td>05:00 pm</td><td>33838</td><td>51038</td><td>17200</td><td>50.8300 %</td><td>1.0000</td><td>45.2300 %</td><td>14.9900 %</td></tr><tr><td>Tuesday  </td><td>06:00 pm</td><td>24302</td><td>36914</td><td>12612</td><td>51.9000 %</td><td>0.7328</td><td>46.5000 %</td><td>17.4100 %</td></tr><tr><td>Tuesday  </td><td>07:00 pm</td><td>15609</td><td>24097</td><td>8488</td><td>54.3800 %</td><td>0.4927</td><td>49.4600 %</td><td>23.0200 %</td></tr><tr><td>Tuesday  </td><td>08:00 pm</td><td>10967</td><td>15975</td><td>5008</td><td>45.6600 %</td><td>0.2900</td><td>39.0600 %</td><td>3.3100 %</td></tr><tr><td>Tuesday  </td><td>09:00 pm</td><td>8002</td><td>11627</td><td>3625</td><td>45.3000 %</td><td>0.2095</td><td>38.6300 %</td><td>2.4800 %</td></tr><tr><td>Tuesday  </td><td>10:00 pm</td><td>5453</td><td>7740</td><td>2287</td><td>41.9400 %</td><td>0.1316</td><td>34.6200 %</td><td>-5.1200 %</td></tr><tr><td>Tuesday  </td><td>11:00 pm</td><td>2835</td><td>4225</td><td>1390</td><td>49.0300 %</td><td>0.0793</td><td>43.0800 %</td><td>10.9200 %</td></tr><tr><td>Wednesday</td><td>12:00 am</td><td>1450</td><td>1850</td><td>400</td><td>27.5900 %</td><td>0.0217</td><td>17.4900 %</td><td>-37.5900 %</td></tr><tr><td>Wednesday</td><td>01:00 am</td><td>737</td><td>1006</td><td>269</td><td>36.5000 %</td><td>0.0140</td><td>28.1300 %</td><td>-17.4300 %</td></tr><tr><td>Wednesday</td><td>02:00 am</td><td>386</td><td>595</td><td>209</td><td>54.1500 %</td><td>0.0105</td><td>49.1800 %</td><td>22.4900 %</td></tr><tr><td>Wednesday</td><td>03:00 am</td><td>207</td><td>235</td><td>28</td><td>13.5300 %</td><td>0.0000</td><td>0.7200 %</td><td>-69.4000 %</td></tr><tr><td>Wednesday</td><td>04:00 am</td><td>369</td><td>482</td><td>113</td><td>30.6200 %</td><td>0.0049</td><td>21.1200 %</td><td>-30.7200 %</td></tr><tr><td>Wednesday</td><td>05:00 am</td><td>2144</td><td>3054</td><td>910</td><td>42.4400 %</td><td>0.0514</td><td>35.2200 %</td><td>-3.9800 %</td></tr><tr><td>Wednesday</td><td>06:00 am</td><td>7146</td><td>9851</td><td>2705</td><td>37.8500 %</td><td>0.1559</td><td>29.7400 %</td><td>-14.3700 %</td></tr><tr><td>Wednesday</td><td>07:00 am</td><td>20036</td><td>27190</td><td>7154</td><td>35.7100 %</td><td>0.4150</td><td>27.1800 %</td><td>-19.2200 %</td></tr><tr><td>Wednesday</td><td>08:00 am</td><td>33162</td><td>46245</td><td>13083</td><td>39.4500 %</td><td>0.7602</td><td>31.6500 %</td><td>-10.7500 %</td></tr><tr><td>Wednesday</td><td>09:00 am</td><td>17197</td><td>24618</td><td>7421</td><td>43.1500 %</td><td>0.4305</td><td>36.0700 %</td><td>-2.3800 %</td></tr><tr><td>Wednesday</td><td>10:00 am</td><td>10189</td><td>13843</td><td>3654</td><td>35.8600 %</td><td>0.2112</td><td>27.3700 %</td><td>-18.8700 %</td></tr><tr><td>Wednesday</td><td>11:00 am</td><td>10582</td><td>14506</td><td>3924</td><td>37.0800 %</td><td>0.2269</td><td>28.8200 %</td><td>-16.1100 %</td></tr><tr><td>Wednesday</td><td>12:00 pm</td><td>12530</td><td>16651</td><td>4121</td><td>32.8900 %</td><td>0.2384</td><td>23.8200 %</td><td>-25.6000 %</td></tr><tr><td>Wednesday</td><td>01:00 pm</td><td>11723</td><td>15868</td><td>4145</td><td>35.3600 %</td><td>0.2398</td><td>26.7700 %</td><td>-20.0100 %</td></tr><tr><td>Wednesday</td><td>02:00 pm</td><td>11097</td><td>15778</td><td>4681</td><td>42.1800 %</td><td>0.2710</td><td>34.9100 %</td><td>-4.5700 %</td></tr><tr><td>Wednesday</td><td>03:00 pm</td><td>13604</td><td>19441</td><td>5837</td><td>42.9100 %</td><td>0.3383</td><td>35.7700 %</td><td>-2.9300 %</td></tr><tr><td>Wednesday</td><td>04:00 pm</td><td>24554</td><td>32143</td><td>7589</td><td>30.9100 %</td><td>0.4403</td><td>21.4500 %</td><td>-30.0800 %</td></tr><tr><td>Wednesday</td><td>05:00 pm</td><td>37229</td><td>47938</td><td>10709</td><td>28.7700 %</td><td>0.6220</td><td>18.9000 %</td><td>-34.9300 %</td></tr><tr><td>Wednesday</td><td>06:00 pm</td><td>26096</td><td>34801</td><td>8705</td><td>33.3600 %</td><td>0.5053</td><td>24.3800 %</td><td>-24.5400 %</td></tr><tr><td>Wednesday</td><td>07:00 pm</td><td>17850</td><td>23982</td><td>6132</td><td>34.3500 %</td><td>0.3555</td><td>25.5700 %</td><td>-22.2800 %</td></tr><tr><td>Wednesday</td><td>08:00 pm</td><td>11862</td><td>15982</td><td>4120</td><td>34.7300 %</td><td>0.2383</td><td>26.0200 %</td><td>-21.4200 %</td></tr><tr><td>Wednesday</td><td>09:00 pm</td><td>8809</td><td>11438</td><td>2629</td><td>29.8400 %</td><td>0.1515</td><td>20.1900 %</td><td>-32.4800 %</td></tr><tr><td>Wednesday</td><td>10:00 pm</td><td>5782</td><td>7696</td><td>1914</td><td>33.1000 %</td><td>0.1098</td><td>24.0700 %</td><td>-25.1100 %</td></tr><tr><td>Wednesday</td><td>11:00 pm</td><td>3744</td><td>4228</td><td>484</td><td>12.9300 %</td><td>0.0266</td><td>0.0000 %</td><td>-70.7500 %</td></tr><tr><td>Thursday </td><td>12:00 am</td><td>1613</td><td>2006</td><td>393</td><td>24.3600 %</td><td>0.0213</td><td>13.6500 %</td><td>-44.8800 %</td></tr><tr><td>Thursday </td><td>01:00 am</td><td>779</td><td>1085</td><td>306</td><td>39.2800 %</td><td>0.0162</td><td>31.4500 %</td><td>-11.1400 %</td></tr><tr><td>Thursday </td><td>02:00 am</td><td>458</td><td>617</td><td>159</td><td>34.7200 %</td><td>0.0076</td><td>26.0000 %</td><td>-21.4600 %</td></tr><tr><td>Thursday </td><td>03:00 am</td><td>208</td><td>271</td><td>63</td><td>30.2900 %</td><td>0.0020</td><td>20.7200 %</td><td>-31.4800 %</td></tr><tr><td>Thursday </td><td>04:00 am</td><td>337</td><td>454</td><td>117</td><td>34.7200 %</td><td>0.0052</td><td>26.0000 %</td><td>-21.4600 %</td></tr><tr><td>Thursday </td><td>05:00 am</td><td>1866</td><td>2690</td><td>824</td><td>44.1600 %</td><td>0.0464</td><td>37.2700 %</td><td>-0.1000 %</td></tr><tr><td>Thursday </td><td>06:00 am</td><td>6821</td><td>8769</td><td>1948</td><td>28.5600 %</td><td>0.1118</td><td>18.6500 %</td><td>-35.3900 %</td></tr><tr><td>Thursday </td><td>07:00 am</td><td>18982</td><td>24613</td><td>5631</td><td>29.6600 %</td><td>0.3263</td><td>19.9700 %</td><td>-32.8900 %</td></tr><tr><td>Thursday </td><td>08:00 am</td><td>33130</td><td>42251</td><td>9121</td><td>27.5300 %</td><td>0.5295</td><td>17.4300 %</td><td>-37.7200 %</td></tr><tr><td>Thursday </td><td>09:00 am</td><td>17252</td><td>23309</td><td>6057</td><td>35.1100 %</td><td>0.3511</td><td>26.4700 %</td><td>-20.5700 %</td></tr><tr><td>Thursday </td><td>10:00 am</td><td>9903</td><td>13435</td><td>3532</td><td>35.6700 %</td><td>0.2041</td><td>27.1300 %</td><td>-19.3100 %</td></tr><tr><td>Thursday </td><td>11:00 am</td><td>10711</td><td>14129</td><td>3418</td><td>31.9100 %</td><td>0.1974</td><td>22.6500 %</td><td>-27.8100 %</td></tr><tr><td>Thursday </td><td>12:00 pm</td><td>12634</td><td>16206</td><td>3572</td><td>28.2700 %</td><td>0.2064</td><td>18.3100 %</td><td>-36.0400 %</td></tr><tr><td>Thursday </td><td>01:00 pm</td><td>11666</td><td>15680</td><td>4014</td><td>34.4100 %</td><td>0.2321</td><td>25.6300 %</td><td>-22.1600 %</td></tr><tr><td>Thursday </td><td>02:00 pm</td><td>11503</td><td>15909</td><td>4406</td><td>38.3000 %</td><td>0.2549</td><td>30.2800 %</td><td>-13.3500 %</td></tr><tr><td>Thursday </td><td>03:00 pm</td><td>13866</td><td>19746</td><td>5880</td><td>42.4100 %</td><td>0.3408</td><td>35.1800 %</td><td>-4.0700 %</td></tr><tr><td>Thursday </td><td>04:00 pm</td><td>23869</td><td>33814</td><td>9945</td><td>41.6600 %</td><td>0.5775</td><td>34.2900 %</td><td>-5.7400 %</td></tr><tr><td>Thursday </td><td>05:00 pm</td><td>34912</td><td>47861</td><td>12949</td><td>37.0900 %</td><td>0.7524</td><td>28.8300 %</td><td>-16.0900 %</td></tr><tr><td>Thursday </td><td>06:00 pm</td><td>25004</td><td>34991</td><td>9987</td><td>39.9400 %</td><td>0.5800</td><td>32.2300 %</td><td>-9.6400 %</td></tr><tr><td>Thursday </td><td>07:00 pm</td><td>16657</td><td>24152</td><td>7495</td><td>45.0000 %</td><td>0.4348</td><td>38.2700 %</td><td>1.7900 %</td></tr><tr><td>Thursday </td><td>08:00 pm</td><td>11965</td><td>16912</td><td>4947</td><td>41.3500 %</td><td>0.2865</td><td>33.9100 %</td><td>-6.4600 %</td></tr><tr><td>Thursday </td><td>09:00 pm</td><td>8520</td><td>12746</td><td>4226</td><td>49.6000 %</td><td>0.2445</td><td>43.7600 %</td><td>12.2100 %</td></tr><tr><td>Thursday </td><td>10:00 pm</td><td>6397</td><td>8924</td><td>2527</td><td>39.5000 %</td><td>0.1455</td><td>31.7100 %</td><td>-10.6300 %</td></tr><tr><td>Thursday </td><td>11:00 pm</td><td>3647</td><td>6009</td><td>2362</td><td>64.7700 %</td><td>0.1359</td><td>61.8600 %</td><td>46.5200 %</td></tr><tr><td>Friday   </td><td>12:00 am</td><td>2051</td><td>2911</td><td>860</td><td>41.9300 %</td><td>0.0485</td><td>34.6100 %</td><td>-5.1400 %</td></tr><tr><td>Friday   </td><td>01:00 am</td><td>1049</td><td>1596</td><td>547</td><td>52.1400 %</td><td>0.0302</td><td>46.8000 %</td><td>17.9700 %</td></tr><tr><td>Friday   </td><td>02:00 am</td><td>640</td><td>977</td><td>337</td><td>52.6600 %</td><td>0.0180</td><td>47.4100 %</td><td>19.1200 %</td></tr><tr><td>Friday   </td><td>03:00 am</td><td>268</td><td>392</td><td>124</td><td>46.2700 %</td><td>0.0056</td><td>39.7800 %</td><td>4.6700 %</td></tr><tr><td>Friday   </td><td>04:00 am</td><td>327</td><td>486</td><td>159</td><td>48.6200 %</td><td>0.0076</td><td>42.5900 %</td><td>10.0000 %</td></tr><tr><td>Friday   </td><td>05:00 am</td><td>1709</td><td>2292</td><td>583</td><td>34.1100 %</td><td>0.0323</td><td>25.2800 %</td><td>-22.8300 %</td></tr><tr><td>Friday   </td><td>06:00 am</td><td>5954</td><td>7623</td><td>1669</td><td>28.0300 %</td><td>0.0956</td><td>18.0200 %</td><td>-36.5800 %</td></tr><tr><td>Friday   </td><td>07:00 am</td><td>16401</td><td>22006</td><td>5605</td><td>34.1700 %</td><td>0.3248</td><td>25.3500 %</td><td>-22.6900 %</td></tr><tr><td>Friday   </td><td>08:00 am</td><td>29270</td><td>40942</td><td>11672</td><td>39.8800 %</td><td>0.6781</td><td>32.1600 %</td><td>-9.7900 %</td></tr><tr><td>Friday   </td><td>09:00 am</td><td>16452</td><td>23453</td><td>7001</td><td>42.5500 %</td><td>0.4061</td><td>35.3500 %</td><td>-3.7300 %</td></tr><tr><td>Friday   </td><td>10:00 am</td><td>10638</td><td>14968</td><td>4330</td><td>40.7000 %</td><td>0.2505</td><td>33.1400 %</td><td>-7.9200 %</td></tr><tr><td>Friday   </td><td>11:00 am</td><td>11442</td><td>16426</td><td>4984</td><td>43.5600 %</td><td>0.2886</td><td>36.5500 %</td><td>-1.4600 %</td></tr><tr><td>Friday   </td><td>12:00 pm</td><td>13698</td><td>19248</td><td>5550</td><td>40.5200 %</td><td>0.3216</td><td>32.9200 %</td><td>-8.3400 %</td></tr><tr><td>Friday   </td><td>01:00 pm</td><td>13779</td><td>19387</td><td>5608</td><td>40.7000 %</td><td>0.3249</td><td>33.1400 %</td><td>-7.9300 %</td></tr><tr><td>Friday   </td><td>02:00 pm</td><td>14012</td><td>19198</td><td>5186</td><td>37.0100 %</td><td>0.3004</td><td>28.7400 %</td><td>-16.2700 %</td></tr><tr><td>Friday   </td><td>03:00 pm</td><td>17000</td><td>23585</td><td>6585</td><td>38.7400 %</td><td>0.3818</td><td>30.8000 %</td><td>-12.3700 %</td></tr><tr><td>Friday   </td><td>04:00 pm</td><td>26480</td><td>34457</td><td>7977</td><td>30.1200 %</td><td>0.4629</td><td>20.5200 %</td><td>-31.8500 %</td></tr><tr><td>Friday   </td><td>05:00 pm</td><td>30648</td><td>42340</td><td>11692</td><td>38.1500 %</td><td>0.6792</td><td>30.1000 %</td><td>-13.7000 %</td></tr><tr><td>Friday   </td><td>06:00 pm</td><td>20949</td><td>30518</td><td>9569</td><td>45.6800 %</td><td>0.5556</td><td>39.0800 %</td><td>3.3400 %</td></tr><tr><td>Friday   </td><td>07:00 pm</td><td>14436</td><td>21277</td><td>6841</td><td>47.3900 %</td><td>0.3968</td><td>41.1200 %</td><td>7.2100 %</td></tr><tr><td>Friday   </td><td>08:00 pm</td><td>9842</td><td>14648</td><td>4806</td><td>48.8300 %</td><td>0.2782</td><td>42.8400 %</td><td>10.4700 %</td></tr><tr><td>Friday   </td><td>09:00 pm</td><td>7774</td><td>10932</td><td>3158</td><td>40.6200 %</td><td>0.1823</td><td>33.0500 %</td><td>-8.1000 %</td></tr><tr><td>Friday   </td><td>10:00 pm</td><td>6617</td><td>9327</td><td>2710</td><td>40.9600 %</td><td>0.1562</td><td>33.4400 %</td><td>-7.3500 %</td></tr><tr><td>Friday   </td><td>11:00 pm</td><td>4793</td><td>6479</td><td>1686</td><td>35.1800 %</td><td>0.0966</td><td>26.5500 %</td><td>-20.4200 %</td></tr><tr><td>Saturday </td><td>12:00 am</td><td>3230</td><td>4668</td><td>1438</td><td>44.5200 %</td><td>0.0821</td><td>37.7000 %</td><td>0.7200 %</td></tr><tr><td>Saturday </td><td>01:00 am</td><td>2516</td><td>3751</td><td>1235</td><td>49.0900 %</td><td>0.0703</td><td>43.1500 %</td><td>11.0500 %</td></tr><tr><td>Saturday </td><td>02:00 am</td><td>1741</td><td>2357</td><td>616</td><td>35.3800 %</td><td>0.0342</td><td>26.7900 %</td><td>-19.9600 %</td></tr><tr><td>Saturday </td><td>03:00 am</td><td>586</td><td>797</td><td>211</td><td>36.0100 %</td><td>0.0107</td><td>27.5400 %</td><td>-18.5400 %</td></tr><tr><td>Saturday </td><td>04:00 am</td><td>367</td><td>458</td><td>91</td><td>24.8000 %</td><td>0.0037</td><td>14.1600 %</td><td>-43.9100 %</td></tr><tr><td>Saturday </td><td>05:00 am</td><td>481</td><td>762</td><td>281</td><td>58.4200 %</td><td>0.0147</td><td>54.2800 %</td><td>32.1600 %</td></tr><tr><td>Saturday </td><td>06:00 am</td><td>1135</td><td>1620</td><td>485</td><td>42.7300 %</td><td>0.0266</td><td>35.5600 %</td><td>-3.3300 %</td></tr><tr><td>Saturday </td><td>07:00 am</td><td>2891</td><td>3904</td><td>1013</td><td>35.0400 %</td><td>0.0574</td><td>26.3900 %</td><td>-20.7300 %</td></tr><tr><td>Saturday </td><td>08:00 am</td><td>5710</td><td>8049</td><td>2339</td><td>40.9600 %</td><td>0.1346</td><td>33.4500 %</td><td>-7.3300 %</td></tr><tr><td>Saturday </td><td>09:00 am</td><td>8861</td><td>12955</td><td>4094</td><td>46.2000 %</td><td>0.2368</td><td>39.7100 %</td><td>4.5200 %</td></tr><tr><td>Saturday </td><td>10:00 am</td><td>12208</td><td>17646</td><td>5438</td><td>44.5400 %</td><td>0.3150</td><td>37.7300 %</td><td>0.7700 %</td></tr><tr><td>Saturday </td><td>11:00 am</td><td>14567</td><td>22454</td><td>7887</td><td>54.1400 %</td><td>0.4577</td><td>49.1800 %</td><td>22.4900 %</td></tr><tr><td>Saturday </td><td>12:00 pm</td><td>16367</td><td>26092</td><td>9725</td><td>59.4200 %</td><td>0.5647</td><td>55.4800 %</td><td>34.4200 %</td></tr><tr><td>Saturday </td><td>01:00 pm</td><td>17361</td><td>26840</td><td>9479</td><td>54.6000 %</td><td>0.5504</td><td>49.7300 %</td><td>23.5200 %</td></tr><tr><td>Saturday </td><td>02:00 pm</td><td>17344</td><td>27132</td><td>9788</td><td>56.4300 %</td><td>0.5684</td><td>51.9100 %</td><td>27.6700 %</td></tr><tr><td>Saturday </td><td>03:00 pm</td><td>17341</td><td>27428</td><td>10087</td><td>58.1700 %</td><td>0.5858</td><td>53.9800 %</td><td>31.5900 %</td></tr><tr><td>Saturday </td><td>04:00 pm</td><td>17214</td><td>26447</td><td>9233</td><td>53.6400 %</td><td>0.5360</td><td>48.5800 %</td><td>21.3400 %</td></tr><tr><td>Saturday </td><td>05:00 pm</td><td>16116</td><td>24997</td><td>8881</td><td>55.1100 %</td><td>0.5155</td><td>50.3300 %</td><td>24.6700 %</td></tr><tr><td>Saturday </td><td>06:00 pm</td><td>14471</td><td>22568</td><td>8097</td><td>55.9500 %</td><td>0.4699</td><td>51.3400 %</td><td>26.5800 %</td></tr><tr><td>Saturday </td><td>07:00 pm</td><td>11797</td><td>18175</td><td>6378</td><td>54.0600 %</td><td>0.3698</td><td>49.0900 %</td><td>22.3100 %</td></tr><tr><td>Saturday </td><td>08:00 pm</td><td>8657</td><td>13159</td><td>4502</td><td>52.0000 %</td><td>0.2605</td><td>46.6300 %</td><td>17.6500 %</td></tr><tr><td>Saturday </td><td>09:00 pm</td><td>6888</td><td>10901</td><td>4013</td><td>58.2600 %</td><td>0.2321</td><td>54.0900 %</td><td>31.8000 %</td></tr><tr><td>Saturday </td><td>10:00 pm</td><td>5918</td><td>9059</td><td>3141</td><td>53.0800 %</td><td>0.1813</td><td>47.9100 %</td><td>20.0700 %</td></tr><tr><td>Saturday </td><td>11:00 pm</td><td>4377</td><td>6805</td><td>2428</td><td>55.4700 %</td><td>0.1398</td><td>50.7700 %</td><td>25.4900 %</td></tr><tr><td>Sunday   </td><td>12:00 am</td><td>3288</td><td>5208</td><td>1920</td><td>58.3900 %</td><td>0.1102</td><td>54.2500 %</td><td>32.1000 %</td></tr><tr><td>Sunday   </td><td>01:00 am</td><td>2785</td><td>4741</td><td>1956</td><td>70.2300 %</td><td>0.1123</td><td>68.3800 %</td><td>58.8900 %</td></tr><tr><td>Sunday   </td><td>02:00 am</td><td>1943</td><td>2955</td><td>1012</td><td>52.0800 %</td><td>0.0573</td><td>46.7200 %</td><td>17.8300 %</td></tr><tr><td>Sunday   </td><td>03:00 am</td><td>571</td><td>793</td><td>222</td><td>38.8800 %</td><td>0.0113</td><td>30.9700 %</td><td>-12.0400 %</td></tr><tr><td>Sunday   </td><td>04:00 am</td><td>268</td><td>464</td><td>196</td><td>73.1300 %</td><td>0.0098</td><td>71.8400 %</td><td>65.4500 %</td></tr><tr><td>Sunday   </td><td>05:00 am</td><td>421</td><td>736</td><td>315</td><td>74.8200 %</td><td>0.0167</td><td>73.8600 %</td><td>69.2700 %</td></tr><tr><td>Sunday   </td><td>06:00 am</td><td>911</td><td>1534</td><td>623</td><td>68.3900 %</td><td>0.0346</td><td>66.1800 %</td><td>54.7100 %</td></tr><tr><td>Sunday   </td><td>07:00 am</td><td>1935</td><td>3028</td><td>1093</td><td>56.4900 %</td><td>0.0620</td><td>51.9800 %</td><td>27.7900 %</td></tr><tr><td>Sunday   </td><td>08:00 am</td><td>4500</td><td>7129</td><td>2629</td><td>58.4200 %</td><td>0.1515</td><td>54.2900 %</td><td>32.1700 %</td></tr><tr><td>Sunday   </td><td>09:00 am</td><td>7620</td><td>12035</td><td>4415</td><td>57.9400 %</td><td>0.2555</td><td>53.7100 %</td><td>31.0800 %</td></tr><tr><td>Sunday   </td><td>10:00 am</td><td>11093</td><td>16830</td><td>5737</td><td>51.7200 %</td><td>0.3325</td><td>46.2900 %</td><td>17.0000 %</td></tr><tr><td>Sunday   </td><td>11:00 am</td><td>13401</td><td>20140</td><td>6739</td><td>50.2900 %</td><td>0.3908</td><td>44.5800 %</td><td>13.7600 %</td></tr><tr><td>Sunday   </td><td>12:00 pm</td><td>15646</td><td>22816</td><td>7170</td><td>45.8300 %</td><td>0.4159</td><td>39.2600 %</td><td>3.6700 %</td></tr><tr><td>Sunday   </td><td>01:00 pm</td><td>16761</td><td>24356</td><td>7595</td><td>45.3100 %</td><td>0.4407</td><td>38.6400 %</td><td>2.5100 %</td></tr><tr><td>Sunday   </td><td>02:00 pm</td><td>16736</td><td>23920</td><td>7184</td><td>42.9300 %</td><td>0.4167</td><td>35.8000 %</td><td>-2.8900 %</td></tr><tr><td>Sunday   </td><td>03:00 pm</td><td>16848</td><td>23682</td><td>6834</td><td>40.5600 %</td><td>0.3963</td><td>32.9800 %</td><td>-8.2400 %</td></tr><tr><td>Sunday   </td><td>04:00 pm</td><td>16426</td><td>24073</td><td>7647</td><td>46.5500 %</td><td>0.4437</td><td>40.1300 %</td><td>5.3200 %</td></tr><tr><td>Sunday   </td><td>05:00 pm</td><td>15527</td><td>22860</td><td>7333</td><td>47.2300 %</td><td>0.4254</td><td>40.9300 %</td><td>6.8400 %</td></tr><tr><td>Sunday   </td><td>06:00 pm</td><td>13780</td><td>20821</td><td>7041</td><td>51.1000 %</td><td>0.4084</td><td>45.5400 %</td><td>15.5900 %</td></tr><tr><td>Sunday   </td><td>07:00 pm</td><td>10698</td><td>15772</td><td>5074</td><td>47.4300 %</td><td>0.2939</td><td>41.1700 %</td><td>7.3000 %</td></tr><tr><td>Sunday   </td><td>08:00 pm</td><td>7506</td><td>12009</td><td>4503</td><td>59.9900 %</td><td>0.2606</td><td>56.1600 %</td><td>35.7200 %</td></tr><tr><td>Sunday   </td><td>09:00 pm</td><td>5498</td><td>8460</td><td>2962</td><td>53.8700 %</td><td>0.1709</td><td>48.8600 %</td><td>21.8800 %</td></tr><tr><td>Sunday   </td><td>10:00 pm</td><td>4043</td><td>6565</td><td>2522</td><td>62.3800 %</td><td>0.1452</td><td>59.0100 %</td><td>41.1200 %</td></tr><tr><td>Sunday   </td><td>11:00 pm</td><td>2850</td><td>4276</td><td>1426</td><td>50.0400 %</td><td>0.0814</td><td>44.2800 %</td><td>13.1900 %</td></tr></table>"
                    },
                    "metadata": {}
                }
            ],
            "execution_count": 151
        },
        {
            "cell_type": "markdown",
            "source": [
                "# Busiest Stations"
            ],
            "metadata": {
                "azdata_cell_guid": "14fe366a-632a-499e-8e52-2b59137ed139"
            }
        },
        {
            "cell_type": "code",
            "source": [
                "select * from bluebikes_stations\n",
                "order by random()\n",
                "limit 50\n",
                "\n",
                ""
            ],
            "metadata": {
                "azdata_cell_guid": "6545a21c-db3f-4181-97e7-4db7933d67b1"
            },
            "outputs": [
                {
                    "output_type": "display_data",
                    "data": {
                        "text/html": "(50 row(s) affected)"
                    },
                    "metadata": {}
                },
                {
                    "output_type": "display_data",
                    "data": {
                        "text/html": "Total execution time: 00:00:00.198"
                    },
                    "metadata": {}
                },
                {
                    "output_type": "execute_result",
                    "execution_count": 173,
                    "data": {
                        "application/vnd.dataresource+json": {
                            "schema": {
                                "fields": [
                                    {
                                        "name": "number"
                                    },
                                    {
                                        "name": "name"
                                    },
                                    {
                                        "name": "latitude"
                                    },
                                    {
                                        "name": "longtitude"
                                    },
                                    {
                                        "name": "district"
                                    },
                                    {
                                        "name": "public"
                                    },
                                    {
                                        "name": "total_docks"
                                    },
                                    {
                                        "name": "id"
                                    }
                                ]
                            },
                            "data": [
                                {
                                    "0": "B32060",
                                    "1": "700 Commonwealth Ave.",
                                    "2": "42.34960945",
                                    "3": "-71.10391524",
                                    "4": "Boston",
                                    "5": "Yes",
                                    "6": "12",
                                    "7": "446"
                                },
                                {
                                    "0": "V32003",
                                    "1": "Everett Square (Broadway at Chelsea St)",
                                    "2": "42.40725945",
                                    "3": "-71.05546381",
                                    "4": "Everett",
                                    "5": "Yes",
                                    "6": "14",
                                    "7": "389"
                                },
                                {
                                    "0": "C32005",
                                    "1": "Washington St at Lenox St",
                                    "2": "42.33509899",
                                    "3": "-71.07903779",
                                    "4": "Boston",
                                    "5": "Yes",
                                    "6": "15",
                                    "7": "51"
                                },
                                {
                                    "0": "C32089",
                                    "1": "Hyde Park Ave at Walk Hill St",
                                    "2": "42.29606705",
                                    "3": "-71.116012",
                                    "4": "Boston",
                                    "5": "Yes",
                                    "6": "15",
                                    "7": "442"
                                },
                                {
                                    "0": "C32001",
                                    "1": "Roxbury Crossing T Stop - Columbus Ave at Tremont St",
                                    "2": "42.331184",
                                    "3": "-71.095171",
                                    "4": "Boston",
                                    "5": "Yes",
                                    "6": "23",
                                    "7": "27"
                                },
                                {
                                    "0": "B32014",
                                    "1": "Seaport Hotel - Congress St at Seaport Ln",
                                    "2": "42.34881026",
                                    "3": "-71.04167744",
                                    "4": "Boston",
                                    "5": "Yes",
                                    "6": "19",
                                    "7": "31"
                                },
                                {
                                    "0": "B32021",
                                    "1": "Wentworth Institute of Technology - Huntington Ave at Vancouver St",
                                    "2": "42.33758601",
                                    "3": "-71.09627098",
                                    "4": "Boston",
                                    "5": "Yes",
                                    "6": "14",
                                    "7": "160"
                                },
                                {
                                    "0": "A32006",
                                    "1": "Soldiers Field Park - 111 Western Ave",
                                    "2": "42.36426344",
                                    "3": "-71.1182757",
                                    "4": "Boston",
                                    "5": "Yes",
                                    "6": "15",
                                    "7": "17"
                                },
                                {
                                    "0": "D32047",
                                    "1": "Clarendon St at Newbury St",
                                    "2": "42.35155308",
                                    "3": "-71.07569031",
                                    "4": "Boston",
                                    "5": "Yes",
                                    "6": "19",
                                    "7": "384"
                                },
                                {
                                    "0": "D32026",
                                    "1": "Hayes Square - Vine St at Moulton St",
                                    "2": "42.377022",
                                    "3": "-71.056605",
                                    "4": "Boston",
                                    "5": "Yes",
                                    "6": "19",
                                    "7": "129"
                                },
                                {
                                    "0": "D32024",
                                    "1": "Beacon St at Charles St",
                                    "2": "42.356052",
                                    "3": "-71.069849",
                                    "4": "Boston",
                                    "5": "Yes",
                                    "6": "15",
                                    "7": "120"
                                },
                                {
                                    "0": "S32036",
                                    "1": "Somerville City Hall Annex",
                                    "2": "42.39189812",
                                    "3": "-71.09745376",
                                    "4": "Somerville",
                                    "5": "Yes",
                                    "6": "19",
                                    "7": "406"
                                },
                                {
                                    "0": "V32012",
                                    "1": "Hale Park",
                                    "2": "42.41496265",
                                    "3": "-71.05279301",
                                    "4": "Everett",
                                    "5": "Yes",
                                    "6": "11",
                                    "7": "448"
                                },
                                {
                                    "0": "A32001",
                                    "1": "Union Square - Brighton Ave at Cambridge St",
                                    "2": "42.353334",
                                    "3": "-71.137313",
                                    "4": "Boston",
                                    "5": "Yes",
                                    "6": "19",
                                    "7": "8"
                                },
                                {
                                    "0": "K32011",
                                    "1": "Washington St at Griggs Rd",
                                    "2": "42.33833424",
                                    "3": "-71.1305093",
                                    "4": "Brookline",
                                    "5": "Yes",
                                    "6": "15",
                                    "7": "402"
                                },
                                {
                                    "0": "S32021",
                                    "1": "Washington St at Myrtle St",
                                    "2": "42.38170676",
                                    "3": "-71.08377187",
                                    "4": "Somerville",
                                    "5": "Yes",
                                    "6": "15",
                                    "7": "329"
                                },
                                {
                                    "0": "C32008",
                                    "1": "Boylston St at Fairfield St",
                                    "2": "42.348762",
                                    "3": "-71.082383",
                                    "4": "Boston",
                                    "5": "Yes",
                                    "6": "19",
                                    "7": "61"
                                },
                                {
                                    "0": "B32056",
                                    "1": "Tremont St at Hamilton Pl",
                                    "2": "42.35668335",
                                    "3": "-71.06166646",
                                    "4": "Boston",
                                    "5": "Yes",
                                    "6": "19",
                                    "7": "374"
                                },
                                {
                                    "0": "V32011",
                                    "1": "Broadway at Beacham St",
                                    "2": "42.3983606",
                                    "3": "-71.06373843",
                                    "4": "Everett",
                                    "5": "Yes",
                                    "6": "15",
                                    "7": "397"
                                },
                                {
                                    "0": "B32032",
                                    "1": "Government Center - Cambridge St at Court St",
                                    "2": "42.3598254",
                                    "3": "-71.05979576",
                                    "4": "Boston",
                                    "5": "Yes",
                                    "6": "23",
                                    "7": "206"
                                },
                                {
                                    "0": "D32020",
                                    "1": "Main St at Austin St",
                                    "2": "42.375603",
                                    "3": "-71.064608",
                                    "4": "Boston",
                                    "5": "Yes",
                                    "6": "11",
                                    "7": "94"
                                },
                                {
                                    "0": "A32022",
                                    "1": "Edwards Playground - Main St at Eden St",
                                    "2": "42.378965",
                                    "3": "-71.068607",
                                    "4": "Boston",
                                    "5": "Yes",
                                    "6": "19",
                                    "7": "169"
                                },
                                {
                                    "0": "C32080",
                                    "1": "Mt. Hope St at Hyde Park Ave",
                                    "2": "42.28484472",
                                    "3": "-71.11874517",
                                    "4": "Boston",
                                    "5": "Yes",
                                    "6": "19",
                                    "7": "423"
                                },
                                {
                                    "0": "B32013",
                                    "1": "Brigham Circle - Francis St at Huntington Ave",
                                    "2": "42.33462893",
                                    "3": "-71.10407918",
                                    "4": "Boston",
                                    "5": "Yes",
                                    "6": "15",
                                    "7": "30"
                                },
                                {
                                    "0": "M32006",
                                    "1": "MIT at Mass Ave / Amherst St",
                                    "2": "42.3581",
                                    "3": "-71.093198",
                                    "4": "Cambridge",
                                    "5": "Yes",
                                    "6": "27",
                                    "7": "67"
                                },
                                {
                                    "0": "C32018",
                                    "1": "E Cottage St at Columbia Rd",
                                    "2": "42.320561",
                                    "3": "-71.06198",
                                    "4": "Boston",
                                    "5": "Yes",
                                    "6": "19",
                                    "7": "128"
                                },
                                {
                                    "0": "D32015",
                                    "1": "Chinatown Gate Plaza",
                                    "2": "42.351356",
                                    "3": "-71.059367",
                                    "4": "Boston",
                                    "5": "Yes",
                                    "6": "19",
                                    "7": "59"
                                },
                                {
                                    "0": "C32000",
                                    "1": "Tremont St at E Berkeley St",
                                    "2": "42.345392",
                                    "3": "-71.069616",
                                    "4": "Boston",
                                    "5": "Yes",
                                    "6": "19",
                                    "7": "4"
                                },
                                {
                                    "0": "B32004",
                                    "1": "Aquarium T Stop - 200 Atlantic Ave",
                                    "2": "42.35991176",
                                    "3": "-71.05142981",
                                    "4": "Boston",
                                    "5": "Yes",
                                    "6": "23",
                                    "7": "20"
                                },
                                {
                                    "0": "D32053",
                                    "1": "Sullivan Square",
                                    "2": "42.38445226",
                                    "3": "-71.07514855",
                                    "4": "Boston",
                                    "5": "Yes",
                                    "6": "19",
                                    "7": "441"
                                },
                                {
                                    "0": "C32087",
                                    "1": "Spring St at Powell St",
                                    "2": "42.27748444",
                                    "3": "-71.16341468",
                                    "4": "Boston",
                                    "5": "Yes",
                                    "6": "19",
                                    "7": "434"
                                },
                                {
                                    "0": "C32057",
                                    "1": "Harrison Ave at Mullins Way",
                                    "2": "42.34521562",
                                    "3": "-71.06384031",
                                    "4": "Boston",
                                    "5": "Yes",
                                    "6": "19",
                                    "7": "363"
                                },
                                {
                                    "0": "A32033",
                                    "1": "The Eddy - New St at Sumner St",
                                    "2": "42.370744",
                                    "3": "-71.044201",
                                    "4": "Boston",
                                    "5": "Yes",
                                    "6": "15",
                                    "7": "215"
                                },
                                {
                                    "0": "M32013",
                                    "1": "Cambridge Main Library at Broadway / Trowbridge St",
                                    "2": "42.373379",
                                    "3": "-71.111075",
                                    "4": "Cambridge",
                                    "5": "Yes",
                                    "6": "19",
                                    "7": "96"
                                },
                                {
                                    "0": "A32012",
                                    "1": "Packard's Corner - Commonwealth Ave at Brighton Ave",
                                    "2": "42.352261",
                                    "3": "-71.123831",
                                    "4": "Boston",
                                    "5": "Yes",
                                    "6": "27",
                                    "7": "41"
                                },
                                {
                                    "0": "D32021",
                                    "1": "Warren St at Chelsea St",
                                    "2": "42.371848",
                                    "3": "-71.060292",
                                    "4": "Boston",
                                    "5": "Yes",
                                    "6": "23",
                                    "7": "98"
                                },
                                {
                                    "0": "M32068",
                                    "1": "Graham and Parks School ? Linnaean St at Walker St",
                                    "2": "42.3829443",
                                    "3": "-71.12449831",
                                    "4": "Cambridge",
                                    "5": "Yes",
                                    "6": "19",
                                    "7": "NULL"
                                },
                                {
                                    "0": "M32066",
                                    "1": "Discovery Park - 30 Acorn Park Drive",
                                    "2": "42.39790817",
                                    "3": "-71.14797131",
                                    "4": "Cambridge",
                                    "5": "Yes",
                                    "6": "23",
                                    "7": "414"
                                },
                                {
                                    "0": "E32006",
                                    "1": "Jackson Square T Stop",
                                    "2": "42.32293117",
                                    "3": "-71.10014141",
                                    "4": "Boston",
                                    "5": "Yes",
                                    "6": "18",
                                    "7": "131"
                                },
                                {
                                    "0": "D32009",
                                    "1": "Congress St at Boston City Hall",
                                    "2": "42.36041775",
                                    "3": "-71.05752244",
                                    "4": "Boston",
                                    "5": "Yes",
                                    "6": "23",
                                    "7": "44"
                                },
                                {
                                    "0": "B32058",
                                    "1": "Lansdowne T Stop",
                                    "2": "42.34734473",
                                    "3": "-71.10016808",
                                    "4": "Boston",
                                    "5": "Yes",
                                    "6": "27",
                                    "7": "400"
                                },
                                {
                                    "0": "M32027",
                                    "1": "Binney St / Sixth St",
                                    "2": "42.36608797",
                                    "3": "-71.08633604",
                                    "4": "Cambridge",
                                    "5": "Yes",
                                    "6": "19",
                                    "7": "117"
                                },
                                {
                                    "0": "C32042",
                                    "1": "Washington St at Bradlee St",
                                    "2": "42.29916498",
                                    "3": "-71.07345872",
                                    "4": "Boston",
                                    "5": "Yes",
                                    "6": "15",
                                    "7": "259"
                                },
                                {
                                    "0": "B32025",
                                    "1": "Uphams Corner T Stop - Magnolia St at Dudley St",
                                    "2": "42.31869734",
                                    "3": "-71.06978148",
                                    "4": "Boston",
                                    "5": "Yes",
                                    "6": "15",
                                    "7": "199"
                                },
                                {
                                    "0": "S32009",
                                    "1": "Packard Ave at Powderhouse Blvd",
                                    "2": "42.40449",
                                    "3": "-71.123413",
                                    "4": "Somerville",
                                    "5": "Yes",
                                    "6": "15",
                                    "7": "111"
                                },
                                {
                                    "0": "V32006",
                                    "1": "Glendale Square (Ferry St at Broadway)",
                                    "2": "42.41427294",
                                    "3": "-71.04479656",
                                    "4": "Everett",
                                    "5": "Yes",
                                    "6": "15",
                                    "7": "392"
                                },
                                {
                                    "0": "D32043",
                                    "1": "Harrison Ave at Bennet St",
                                    "2": "42.3494261",
                                    "3": "-71.0620996",
                                    "4": "Boston",
                                    "5": "Yes",
                                    "6": "19",
                                    "7": "365"
                                },
                                {
                                    "0": "A32034",
                                    "1": "Glendon St at Condor St",
                                    "2": "42.38240378",
                                    "3": "-71.03024304",
                                    "4": "Boston",
                                    "5": "Yes",
                                    "6": "19",
                                    "7": "216"
                                },
                                {
                                    "0": "C32081",
                                    "1": "Washington St at Denton Terr",
                                    "2": "42.28072815",
                                    "3": "-71.13423757",
                                    "4": "Boston",
                                    "5": "Yes",
                                    "6": "19",
                                    "7": "427"
                                },
                                {
                                    "0": "K32002",
                                    "1": "Beacon St at Tappan St",
                                    "2": "42.3382668",
                                    "3": "-71.13894682",
                                    "4": "Brookline",
                                    "5": "Yes",
                                    "6": "15",
                                    "7": "82"
                                }
                            ]
                        },
                        "text/html": "<table><tr><th>number</th><th>name</th><th>latitude</th><th>longtitude</th><th>district</th><th>public</th><th>total_docks</th><th>id</th></tr><tr><td>B32060</td><td>700 Commonwealth Ave.</td><td>42.34960945</td><td>-71.10391524</td><td>Boston</td><td>Yes</td><td>12</td><td>446</td></tr><tr><td>V32003</td><td>Everett Square (Broadway at Chelsea St)</td><td>42.40725945</td><td>-71.05546381</td><td>Everett</td><td>Yes</td><td>14</td><td>389</td></tr><tr><td>C32005</td><td>Washington St at Lenox St</td><td>42.33509899</td><td>-71.07903779</td><td>Boston</td><td>Yes</td><td>15</td><td>51</td></tr><tr><td>C32089</td><td>Hyde Park Ave at Walk Hill St</td><td>42.29606705</td><td>-71.116012</td><td>Boston</td><td>Yes</td><td>15</td><td>442</td></tr><tr><td>C32001</td><td>Roxbury Crossing T Stop - Columbus Ave at Tremont St</td><td>42.331184</td><td>-71.095171</td><td>Boston</td><td>Yes</td><td>23</td><td>27</td></tr><tr><td>B32014</td><td>Seaport Hotel - Congress St at Seaport Ln</td><td>42.34881026</td><td>-71.04167744</td><td>Boston</td><td>Yes</td><td>19</td><td>31</td></tr><tr><td>B32021</td><td>Wentworth Institute of Technology - Huntington Ave at Vancouver St</td><td>42.33758601</td><td>-71.09627098</td><td>Boston</td><td>Yes</td><td>14</td><td>160</td></tr><tr><td>A32006</td><td>Soldiers Field Park - 111 Western Ave</td><td>42.36426344</td><td>-71.1182757</td><td>Boston</td><td>Yes</td><td>15</td><td>17</td></tr><tr><td>D32047</td><td>Clarendon St at Newbury St</td><td>42.35155308</td><td>-71.07569031</td><td>Boston</td><td>Yes</td><td>19</td><td>384</td></tr><tr><td>D32026</td><td>Hayes Square - Vine St at Moulton St</td><td>42.377022</td><td>-71.056605</td><td>Boston</td><td>Yes</td><td>19</td><td>129</td></tr><tr><td>D32024</td><td>Beacon St at Charles St</td><td>42.356052</td><td>-71.069849</td><td>Boston</td><td>Yes</td><td>15</td><td>120</td></tr><tr><td>S32036</td><td>Somerville City Hall Annex</td><td>42.39189812</td><td>-71.09745376</td><td>Somerville</td><td>Yes</td><td>19</td><td>406</td></tr><tr><td>V32012</td><td>Hale Park</td><td>42.41496265</td><td>-71.05279301</td><td>Everett</td><td>Yes</td><td>11</td><td>448</td></tr><tr><td>A32001</td><td>Union Square - Brighton Ave at Cambridge St</td><td>42.353334</td><td>-71.137313</td><td>Boston</td><td>Yes</td><td>19</td><td>8</td></tr><tr><td>K32011</td><td>Washington St at Griggs Rd</td><td>42.33833424</td><td>-71.1305093</td><td>Brookline</td><td>Yes</td><td>15</td><td>402</td></tr><tr><td>S32021</td><td>Washington St at Myrtle St</td><td>42.38170676</td><td>-71.08377187</td><td>Somerville</td><td>Yes</td><td>15</td><td>329</td></tr><tr><td>C32008</td><td>Boylston St at Fairfield St</td><td>42.348762</td><td>-71.082383</td><td>Boston</td><td>Yes</td><td>19</td><td>61</td></tr><tr><td>B32056</td><td>Tremont St at Hamilton Pl</td><td>42.35668335</td><td>-71.06166646</td><td>Boston</td><td>Yes</td><td>19</td><td>374</td></tr><tr><td>V32011</td><td>Broadway at Beacham St</td><td>42.3983606</td><td>-71.06373843</td><td>Everett</td><td>Yes</td><td>15</td><td>397</td></tr><tr><td>B32032</td><td>Government Center - Cambridge St at Court St</td><td>42.3598254</td><td>-71.05979576</td><td>Boston</td><td>Yes</td><td>23</td><td>206</td></tr><tr><td>D32020</td><td>Main St at Austin St</td><td>42.375603</td><td>-71.064608</td><td>Boston</td><td>Yes</td><td>11</td><td>94</td></tr><tr><td>A32022</td><td>Edwards Playground - Main St at Eden St</td><td>42.378965</td><td>-71.068607</td><td>Boston</td><td>Yes</td><td>19</td><td>169</td></tr><tr><td>C32080</td><td>Mt. Hope St at Hyde Park Ave</td><td>42.28484472</td><td>-71.11874517</td><td>Boston</td><td>Yes</td><td>19</td><td>423</td></tr><tr><td>B32013</td><td>Brigham Circle - Francis St at Huntington Ave</td><td>42.33462893</td><td>-71.10407918</td><td>Boston</td><td>Yes</td><td>15</td><td>30</td></tr><tr><td>M32006</td><td>MIT at Mass Ave / Amherst St</td><td>42.3581</td><td>-71.093198</td><td>Cambridge</td><td>Yes</td><td>27</td><td>67</td></tr><tr><td>C32018</td><td>E Cottage St at Columbia Rd</td><td>42.320561</td><td>-71.06198</td><td>Boston</td><td>Yes</td><td>19</td><td>128</td></tr><tr><td>D32015</td><td>Chinatown Gate Plaza</td><td>42.351356</td><td>-71.059367</td><td>Boston</td><td>Yes</td><td>19</td><td>59</td></tr><tr><td>C32000</td><td>Tremont St at E Berkeley St</td><td>42.345392</td><td>-71.069616</td><td>Boston</td><td>Yes</td><td>19</td><td>4</td></tr><tr><td>B32004</td><td>Aquarium T Stop - 200 Atlantic Ave</td><td>42.35991176</td><td>-71.05142981</td><td>Boston</td><td>Yes</td><td>23</td><td>20</td></tr><tr><td>D32053</td><td>Sullivan Square</td><td>42.38445226</td><td>-71.07514855</td><td>Boston</td><td>Yes</td><td>19</td><td>441</td></tr><tr><td>C32087</td><td>Spring St at Powell St</td><td>42.27748444</td><td>-71.16341468</td><td>Boston</td><td>Yes</td><td>19</td><td>434</td></tr><tr><td>C32057</td><td>Harrison Ave at Mullins Way</td><td>42.34521562</td><td>-71.06384031</td><td>Boston</td><td>Yes</td><td>19</td><td>363</td></tr><tr><td>A32033</td><td>The Eddy - New St at Sumner St</td><td>42.370744</td><td>-71.044201</td><td>Boston</td><td>Yes</td><td>15</td><td>215</td></tr><tr><td>M32013</td><td>Cambridge Main Library at Broadway / Trowbridge St</td><td>42.373379</td><td>-71.111075</td><td>Cambridge</td><td>Yes</td><td>19</td><td>96</td></tr><tr><td>A32012</td><td>Packard's Corner - Commonwealth Ave at Brighton Ave</td><td>42.352261</td><td>-71.123831</td><td>Boston</td><td>Yes</td><td>27</td><td>41</td></tr><tr><td>D32021</td><td>Warren St at Chelsea St</td><td>42.371848</td><td>-71.060292</td><td>Boston</td><td>Yes</td><td>23</td><td>98</td></tr><tr><td>M32068</td><td>Graham and Parks School ? Linnaean St at Walker St</td><td>42.3829443</td><td>-71.12449831</td><td>Cambridge</td><td>Yes</td><td>19</td><td>NULL</td></tr><tr><td>M32066</td><td>Discovery Park - 30 Acorn Park Drive</td><td>42.39790817</td><td>-71.14797131</td><td>Cambridge</td><td>Yes</td><td>23</td><td>414</td></tr><tr><td>E32006</td><td>Jackson Square T Stop</td><td>42.32293117</td><td>-71.10014141</td><td>Boston</td><td>Yes</td><td>18</td><td>131</td></tr><tr><td>D32009</td><td>Congress St at Boston City Hall</td><td>42.36041775</td><td>-71.05752244</td><td>Boston</td><td>Yes</td><td>23</td><td>44</td></tr><tr><td>B32058</td><td>Lansdowne T Stop</td><td>42.34734473</td><td>-71.10016808</td><td>Boston</td><td>Yes</td><td>27</td><td>400</td></tr><tr><td>M32027</td><td>Binney St / Sixth St</td><td>42.36608797</td><td>-71.08633604</td><td>Cambridge</td><td>Yes</td><td>19</td><td>117</td></tr><tr><td>C32042</td><td>Washington St at Bradlee St</td><td>42.29916498</td><td>-71.07345872</td><td>Boston</td><td>Yes</td><td>15</td><td>259</td></tr><tr><td>B32025</td><td>Uphams Corner T Stop - Magnolia St at Dudley St</td><td>42.31869734</td><td>-71.06978148</td><td>Boston</td><td>Yes</td><td>15</td><td>199</td></tr><tr><td>S32009</td><td>Packard Ave at Powderhouse Blvd</td><td>42.40449</td><td>-71.123413</td><td>Somerville</td><td>Yes</td><td>15</td><td>111</td></tr><tr><td>V32006</td><td>Glendale Square (Ferry St at Broadway)</td><td>42.41427294</td><td>-71.04479656</td><td>Everett</td><td>Yes</td><td>15</td><td>392</td></tr><tr><td>D32043</td><td>Harrison Ave at Bennet St</td><td>42.3494261</td><td>-71.0620996</td><td>Boston</td><td>Yes</td><td>19</td><td>365</td></tr><tr><td>A32034</td><td>Glendon St at Condor St</td><td>42.38240378</td><td>-71.03024304</td><td>Boston</td><td>Yes</td><td>19</td><td>216</td></tr><tr><td>C32081</td><td>Washington St at Denton Terr</td><td>42.28072815</td><td>-71.13423757</td><td>Boston</td><td>Yes</td><td>19</td><td>427</td></tr><tr><td>K32002</td><td>Beacon St at Tappan St</td><td>42.3382668</td><td>-71.13894682</td><td>Brookline</td><td>Yes</td><td>15</td><td>82</td></tr></table>"
                    },
                    "metadata": {}
                }
            ],
            "execution_count": 173
        },
        {
            "cell_type": "markdown",
            "source": [
                "# Rider By Type"
            ],
            "metadata": {
                "azdata_cell_guid": "59cc2567-2d01-43bf-823d-1e7e3a937f37"
            }
        },
        {
            "cell_type": "code",
            "source": [
                "-- Rider type by category overall\n",
                "\n",
                "select user_type,\n",
                "count(*) / (cast(sum(count(*)) over() as float)) as percentage\n",
                "from bluebikes_2018\n",
                "group by user_type;\n",
                "\n",
                "\n",
                "select user_type,\n",
                "count(*) / (cast(sum(count(*)) over() as float)) as percentage\n",
                "from bluebikes_2019\n",
                "group by user_type;"
            ],
            "metadata": {
                "azdata_cell_guid": "12bb2717-e69e-4d08-a1c5-9cad64d1d010",
                "tags": []
            },
            "outputs": [
                {
                    "output_type": "display_data",
                    "data": {
                        "text/html": "(2 row(s) affected)"
                    },
                    "metadata": {}
                },
                {
                    "output_type": "display_data",
                    "data": {
                        "text/html": "(2 row(s) affected)"
                    },
                    "metadata": {}
                },
                {
                    "output_type": "display_data",
                    "data": {
                        "text/html": "Total execution time: 00:00:01.358"
                    },
                    "metadata": {}
                },
                {
                    "output_type": "execute_result",
                    "execution_count": 2,
                    "data": {
                        "application/vnd.dataresource+json": {
                            "schema": {
                                "fields": [
                                    {
                                        "name": "user_type"
                                    },
                                    {
                                        "name": "percentage"
                                    }
                                ]
                            },
                            "data": [
                                {
                                    "0": "Customer",
                                    "1": "0.18731071169574037"
                                },
                                {
                                    "0": "Subscriber",
                                    "1": "0.8126892883042597"
                                }
                            ]
                        },
                        "text/html": "<table><tr><th>user_type</th><th>percentage</th></tr><tr><td>Customer</td><td>0.18731071169574037</td></tr><tr><td>Subscriber</td><td>0.8126892883042597</td></tr></table>"
                    },
                    "metadata": {}
                },
                {
                    "output_type": "execute_result",
                    "execution_count": 2,
                    "data": {
                        "application/vnd.dataresource+json": {
                            "schema": {
                                "fields": [
                                    {
                                        "name": "user_type"
                                    },
                                    {
                                        "name": "percentage"
                                    }
                                ]
                            },
                            "data": [
                                {
                                    "0": "Customer",
                                    "1": "0.21171939202477505"
                                },
                                {
                                    "0": "Subscriber",
                                    "1": "0.7882806079752249"
                                }
                            ]
                        },
                        "text/html": "<table><tr><th>user_type</th><th>percentage</th></tr><tr><td>Customer</td><td>0.21171939202477505</td></tr><tr><td>Subscriber</td><td>0.7882806079752249</td></tr></table>"
                    },
                    "metadata": {}
                }
            ],
            "execution_count": 2
        },
        {
            "cell_type": "code",
            "source": [
                "-- Rider type by category by quarter\n",
                "\n",
                "with q as(\n",
                "    select user_type,\n",
                "    ntile(4) over(order by start_time) as quarter\n",
                "    from bluebikes_2018\n",
                "    )\n",
                "select user_type, quarter,\n",
                "count(*) as rides,\n",
                "count(*) / (cast(sum(count(*)) over(partition by quarter) as float)) as percentage\n",
                "from q\n",
                "group by quarter, user_type\n",
                "order by quarter, percentage desc;\n",
                "\n",
                "\n",
                "with q as(\n",
                "    select user_type,\n",
                "    ntile(4) over(order by start_time) as quarter\n",
                "    from bluebikes_2019\n",
                "    )\n",
                "select user_type, quarter,\n",
                "count(*) as rides,\n",
                "count(*) / (cast(sum(count(*)) over(partition by quarter) as float)) as percentage\n",
                "from q\n",
                "group by quarter, user_type\n",
                "order by quarter, percentage desc;"
            ],
            "metadata": {
                "azdata_cell_guid": "df75b57d-9fca-4c89-b623-7fb3be7faaeb"
            },
            "outputs": [
                {
                    "output_type": "display_data",
                    "data": {
                        "text/html": "(8 row(s) affected)"
                    },
                    "metadata": {}
                },
                {
                    "output_type": "display_data",
                    "data": {
                        "text/html": "(8 row(s) affected)"
                    },
                    "metadata": {}
                },
                {
                    "output_type": "display_data",
                    "data": {
                        "text/html": "Total execution time: 00:00:03.576"
                    },
                    "metadata": {}
                },
                {
                    "output_type": "execute_result",
                    "execution_count": 3,
                    "data": {
                        "application/vnd.dataresource+json": {
                            "schema": {
                                "fields": [
                                    {
                                        "name": "user_type"
                                    },
                                    {
                                        "name": "quarter"
                                    },
                                    {
                                        "name": "rides"
                                    },
                                    {
                                        "name": "percentage"
                                    }
                                ]
                            },
                            "data": [
                                {
                                    "0": "Subscriber",
                                    "1": "1",
                                    "2": "386792",
                                    "3": "0.8751900658895083"
                                },
                                {
                                    "0": "Customer",
                                    "1": "1",
                                    "2": "55160",
                                    "3": "0.12480993411049164"
                                },
                                {
                                    "0": "Subscriber",
                                    "1": "2",
                                    "2": "339276",
                                    "3": "0.7676761277242777"
                                },
                                {
                                    "0": "Customer",
                                    "1": "2",
                                    "2": "102676",
                                    "3": "0.23232387227572224"
                                },
                                {
                                    "0": "Subscriber",
                                    "1": "3",
                                    "2": "333140",
                                    "3": "0.7537939726349754"
                                },
                                {
                                    "0": "Customer",
                                    "1": "3",
                                    "2": "108811",
                                    "3": "0.24620602736502462"
                                },
                                {
                                    "0": "Subscriber",
                                    "1": "4",
                                    "2": "377469",
                                    "3": "0.8540969473991461"
                                },
                                {
                                    "0": "Customer",
                                    "1": "4",
                                    "2": "64482",
                                    "3": "0.14590305260085393"
                                }
                            ]
                        },
                        "text/html": "<table><tr><th>user_type</th><th>quarter</th><th>rides</th><th>percentage</th></tr><tr><td>Subscriber</td><td>1</td><td>386792</td><td>0.8751900658895083</td></tr><tr><td>Customer</td><td>1</td><td>55160</td><td>0.12480993411049164</td></tr><tr><td>Subscriber</td><td>2</td><td>339276</td><td>0.7676761277242777</td></tr><tr><td>Customer</td><td>2</td><td>102676</td><td>0.23232387227572224</td></tr><tr><td>Subscriber</td><td>3</td><td>333140</td><td>0.7537939726349754</td></tr><tr><td>Customer</td><td>3</td><td>108811</td><td>0.24620602736502462</td></tr><tr><td>Subscriber</td><td>4</td><td>377469</td><td>0.8540969473991461</td></tr><tr><td>Customer</td><td>4</td><td>64482</td><td>0.14590305260085393</td></tr></table>"
                    },
                    "metadata": {}
                },
                {
                    "output_type": "execute_result",
                    "execution_count": 3,
                    "data": {
                        "application/vnd.dataresource+json": {
                            "schema": {
                                "fields": [
                                    {
                                        "name": "user_type"
                                    },
                                    {
                                        "name": "quarter"
                                    },
                                    {
                                        "name": "rides"
                                    },
                                    {
                                        "name": "percentage"
                                    }
                                ]
                            },
                            "data": [
                                {
                                    "0": "Subscriber",
                                    "1": "1",
                                    "2": "520314",
                                    "3": "0.8250636263448746"
                                },
                                {
                                    "0": "Customer",
                                    "1": "1",
                                    "2": "110321",
                                    "3": "0.17493637365512538"
                                },
                                {
                                    "0": "Subscriber",
                                    "1": "2",
                                    "2": "465746",
                                    "3": "0.7385361398211958"
                                },
                                {
                                    "0": "Customer",
                                    "1": "2",
                                    "2": "164888",
                                    "3": "0.2614638601788042"
                                },
                                {
                                    "0": "Subscriber",
                                    "1": "3",
                                    "2": "479890",
                                    "3": "0.7609643628475471"
                                },
                                {
                                    "0": "Customer",
                                    "1": "3",
                                    "2": "150744",
                                    "3": "0.23903563715245293"
                                },
                                {
                                    "0": "Subscriber",
                                    "1": "4",
                                    "2": "522517",
                                    "3": "0.8285582445602362"
                                },
                                {
                                    "0": "Customer",
                                    "1": "4",
                                    "2": "108117",
                                    "3": "0.17144175543976378"
                                }
                            ]
                        },
                        "text/html": "<table><tr><th>user_type</th><th>quarter</th><th>rides</th><th>percentage</th></tr><tr><td>Subscriber</td><td>1</td><td>520314</td><td>0.8250636263448746</td></tr><tr><td>Customer</td><td>1</td><td>110321</td><td>0.17493637365512538</td></tr><tr><td>Subscriber</td><td>2</td><td>465746</td><td>0.7385361398211958</td></tr><tr><td>Customer</td><td>2</td><td>164888</td><td>0.2614638601788042</td></tr><tr><td>Subscriber</td><td>3</td><td>479890</td><td>0.7609643628475471</td></tr><tr><td>Customer</td><td>3</td><td>150744</td><td>0.23903563715245293</td></tr><tr><td>Subscriber</td><td>4</td><td>522517</td><td>0.8285582445602362</td></tr><tr><td>Customer</td><td>4</td><td>108117</td><td>0.17144175543976378</td></tr></table>"
                    },
                    "metadata": {}
                }
            ],
            "execution_count": 3
        },
        {
            "cell_type": "code",
            "source": [
                "-- Rider type by gender by month\n",
                "\n",
                "select\n",
                "case when user_gender = 1 then 'male' else 'female' end as gender,\n",
                "To_Char(start_time, 'Month') as month,\n",
                "count(*) as rides,\n",
                "round(count(*) / sum(count(*)) over(partition by To_Char(start_time, 'Month')), 4) * 100 as percentage\n",
                "from bluebikes_2018\n",
                "group by extract(month from start_time), month, gender\n",
                "order by extract(month from start_time), rides desc"
            ],
            "metadata": {
                "azdata_cell_guid": "99bbc616-3580-49f8-af23-1ce66bbb8aac"
            },
            "outputs": [
                {
                    "output_type": "display_data",
                    "data": {
                        "text/html": "(24 row(s) affected)"
                    },
                    "metadata": {}
                },
                {
                    "output_type": "display_data",
                    "data": {
                        "text/html": "Total execution time: 00:00:02.471"
                    },
                    "metadata": {}
                },
                {
                    "output_type": "execute_result",
                    "execution_count": 182,
                    "data": {
                        "application/vnd.dataresource+json": {
                            "schema": {
                                "fields": [
                                    {
                                        "name": "gender"
                                    },
                                    {
                                        "name": "month"
                                    },
                                    {
                                        "name": "rides"
                                    },
                                    {
                                        "name": "percentage"
                                    }
                                ]
                            },
                            "data": [
                                {
                                    "0": "male",
                                    "1": "January  ",
                                    "2": "30689",
                                    "3": "74.9800"
                                },
                                {
                                    "0": "female",
                                    "1": "January  ",
                                    "2": "10243",
                                    "3": "25.0200"
                                },
                                {
                                    "0": "male",
                                    "1": "February ",
                                    "2": "45380",
                                    "3": "72.2400"
                                },
                                {
                                    "0": "female",
                                    "1": "February ",
                                    "2": "17437",
                                    "3": "27.7600"
                                },
                                {
                                    "0": "male",
                                    "1": "March    ",
                                    "2": "44814",
                                    "3": "71.1500"
                                },
                                {
                                    "0": "female",
                                    "1": "March    ",
                                    "2": "18171",
                                    "3": "28.8500"
                                },
                                {
                                    "0": "male",
                                    "1": "April    ",
                                    "2": "65357",
                                    "3": "66.5600"
                                },
                                {
                                    "0": "female",
                                    "1": "April    ",
                                    "2": "32837",
                                    "3": "33.4400"
                                },
                                {
                                    "0": "male",
                                    "1": "May      ",
                                    "2": "113058",
                                    "3": "63.2100"
                                },
                                {
                                    "0": "female",
                                    "1": "May      ",
                                    "2": "65807",
                                    "3": "36.7900"
                                },
                                {
                                    "0": "male",
                                    "1": "June     ",
                                    "2": "127027",
                                    "3": "61.8600"
                                },
                                {
                                    "0": "female",
                                    "1": "June     ",
                                    "2": "78332",
                                    "3": "38.1400"
                                },
                                {
                                    "0": "male",
                                    "1": "July     ",
                                    "2": "146836",
                                    "3": "60.4500"
                                },
                                {
                                    "0": "female",
                                    "1": "July     ",
                                    "2": "96080",
                                    "3": "39.5500"
                                },
                                {
                                    "0": "male",
                                    "1": "August   ",
                                    "2": "144270",
                                    "3": "61.1100"
                                },
                                {
                                    "0": "female",
                                    "1": "August   ",
                                    "2": "91806",
                                    "3": "38.8900"
                                },
                                {
                                    "0": "male",
                                    "1": "September",
                                    "2": "146175",
                                    "3": "61.8900"
                                },
                                {
                                    "0": "female",
                                    "1": "September",
                                    "2": "90007",
                                    "3": "38.1100"
                                },
                                {
                                    "0": "male",
                                    "1": "October  ",
                                    "2": "134067",
                                    "3": "67.0000"
                                },
                                {
                                    "0": "female",
                                    "1": "October  ",
                                    "2": "66033",
                                    "3": "33.0000"
                                },
                                {
                                    "0": "male",
                                    "1": "November ",
                                    "2": "85108",
                                    "3": "70.0900"
                                },
                                {
                                    "0": "female",
                                    "1": "November ",
                                    "2": "36311",
                                    "3": "29.9100"
                                },
                                {
                                    "0": "male",
                                    "1": "December ",
                                    "2": "58954",
                                    "3": "71.9300"
                                },
                                {
                                    "0": "female",
                                    "1": "December ",
                                    "2": "23007",
                                    "3": "28.0700"
                                }
                            ]
                        },
                        "text/html": "<table><tr><th>gender</th><th>month</th><th>rides</th><th>percentage</th></tr><tr><td>male</td><td>January  </td><td>30689</td><td>74.9800</td></tr><tr><td>female</td><td>January  </td><td>10243</td><td>25.0200</td></tr><tr><td>male</td><td>February </td><td>45380</td><td>72.2400</td></tr><tr><td>female</td><td>February </td><td>17437</td><td>27.7600</td></tr><tr><td>male</td><td>March    </td><td>44814</td><td>71.1500</td></tr><tr><td>female</td><td>March    </td><td>18171</td><td>28.8500</td></tr><tr><td>male</td><td>April    </td><td>65357</td><td>66.5600</td></tr><tr><td>female</td><td>April    </td><td>32837</td><td>33.4400</td></tr><tr><td>male</td><td>May      </td><td>113058</td><td>63.2100</td></tr><tr><td>female</td><td>May      </td><td>65807</td><td>36.7900</td></tr><tr><td>male</td><td>June     </td><td>127027</td><td>61.8600</td></tr><tr><td>female</td><td>June     </td><td>78332</td><td>38.1400</td></tr><tr><td>male</td><td>July     </td><td>146836</td><td>60.4500</td></tr><tr><td>female</td><td>July     </td><td>96080</td><td>39.5500</td></tr><tr><td>male</td><td>August   </td><td>144270</td><td>61.1100</td></tr><tr><td>female</td><td>August   </td><td>91806</td><td>38.8900</td></tr><tr><td>male</td><td>September</td><td>146175</td><td>61.8900</td></tr><tr><td>female</td><td>September</td><td>90007</td><td>38.1100</td></tr><tr><td>male</td><td>October  </td><td>134067</td><td>67.0000</td></tr><tr><td>female</td><td>October  </td><td>66033</td><td>33.0000</td></tr><tr><td>male</td><td>November </td><td>85108</td><td>70.0900</td></tr><tr><td>female</td><td>November </td><td>36311</td><td>29.9100</td></tr><tr><td>male</td><td>December </td><td>58954</td><td>71.9300</td></tr><tr><td>female</td><td>December </td><td>23007</td><td>28.0700</td></tr></table>"
                    },
                    "metadata": {}
                }
            ],
            "execution_count": 182
        },
        {
            "cell_type": "code",
            "source": [
                "-- Rider type by gender by YEAR and month\n",
                "\n",
                "select\n",
                "case when user_gender = 1 then 'male' else 'female' end as gender,\n",
                "To_Char(start_time, 'YYYY') as year,\n",
                "To_Char(start_time, 'Month') as month,\n",
                "count(*) as rides,\n",
                "round(count(*) / sum(count(*)) over(partition by To_Char(start_time, 'Month')), 4) * 100 as percentage\n",
                "from bluebikes_combined\n",
                "group by extract(year from start_time), extract(month from start_time), year, month, gender\n",
                "order by extract(month from start_time), extract(year from start_time), rides desc"
            ],
            "metadata": {
                "azdata_cell_guid": "140fc212-07ce-4e74-ad84-abbf6288a70a"
            },
            "outputs": [
                {
                    "output_type": "display_data",
                    "data": {
                        "text/html": "(48 row(s) affected)"
                    },
                    "metadata": {}
                },
                {
                    "output_type": "display_data",
                    "data": {
                        "text/html": "Total execution time: 00:00:10.527"
                    },
                    "metadata": {}
                },
                {
                    "output_type": "execute_result",
                    "execution_count": 22,
                    "data": {
                        "application/vnd.dataresource+json": {
                            "schema": {
                                "fields": [
                                    {
                                        "name": "gender"
                                    },
                                    {
                                        "name": "year"
                                    },
                                    {
                                        "name": "month"
                                    },
                                    {
                                        "name": "rides"
                                    },
                                    {
                                        "name": "percentage"
                                    }
                                ]
                            },
                            "data": [
                                {
                                    "0": "male",
                                    "1": "2018",
                                    "2": "January  ",
                                    "3": "30689",
                                    "4": "27.7000"
                                },
                                {
                                    "0": "female",
                                    "1": "2018",
                                    "2": "January  ",
                                    "3": "10243",
                                    "4": "9.2400"
                                },
                                {
                                    "0": "male",
                                    "1": "2019",
                                    "2": "January  ",
                                    "3": "52134",
                                    "4": "47.0500"
                                },
                                {
                                    "0": "female",
                                    "1": "2019",
                                    "2": "January  ",
                                    "3": "17738",
                                    "4": "16.0100"
                                },
                                {
                                    "0": "male",
                                    "1": "2018",
                                    "2": "February ",
                                    "3": "45380",
                                    "4": "31.6700"
                                },
                                {
                                    "0": "female",
                                    "1": "2018",
                                    "2": "February ",
                                    "3": "17437",
                                    "4": "12.1700"
                                },
                                {
                                    "0": "male",
                                    "1": "2019",
                                    "2": "February ",
                                    "3": "59541",
                                    "4": "41.5500"
                                },
                                {
                                    "0": "female",
                                    "1": "2019",
                                    "2": "February ",
                                    "3": "20925",
                                    "4": "14.6000"
                                },
                                {
                                    "0": "male",
                                    "1": "2018",
                                    "2": "March    ",
                                    "3": "44814",
                                    "4": "27.1000"
                                },
                                {
                                    "0": "female",
                                    "1": "2018",
                                    "2": "March    ",
                                    "3": "18171",
                                    "4": "10.9900"
                                },
                                {
                                    "0": "male",
                                    "1": "2019",
                                    "2": "March    ",
                                    "3": "71803",
                                    "4": "43.4200"
                                },
                                {
                                    "0": "female",
                                    "1": "2019",
                                    "2": "March    ",
                                    "3": "30566",
                                    "4": "18.4900"
                                },
                                {
                                    "0": "male",
                                    "1": "2018",
                                    "2": "April    ",
                                    "3": "65357",
                                    "4": "24.6700"
                                },
                                {
                                    "0": "female",
                                    "1": "2018",
                                    "2": "April    ",
                                    "3": "32837",
                                    "4": "12.4000"
                                },
                                {
                                    "0": "male",
                                    "1": "2019",
                                    "2": "April    ",
                                    "3": "108715",
                                    "4": "41.0400"
                                },
                                {
                                    "0": "female",
                                    "1": "2019",
                                    "2": "April    ",
                                    "3": "57979",
                                    "4": "21.8900"
                                },
                                {
                                    "0": "male",
                                    "1": "2018",
                                    "2": "May      ",
                                    "3": "113058",
                                    "4": "28.1300"
                                },
                                {
                                    "0": "female",
                                    "1": "2018",
                                    "2": "May      ",
                                    "3": "65807",
                                    "4": "16.3700"
                                },
                                {
                                    "0": "male",
                                    "1": "2019",
                                    "2": "May      ",
                                    "3": "142125",
                                    "4": "35.3600"
                                },
                                {
                                    "0": "female",
                                    "1": "2019",
                                    "2": "May      ",
                                    "3": "80959",
                                    "4": "20.1400"
                                },
                                {
                                    "0": "male",
                                    "1": "2018",
                                    "2": "June     ",
                                    "3": "127027",
                                    "4": "26.5000"
                                },
                                {
                                    "0": "female",
                                    "1": "2018",
                                    "2": "June     ",
                                    "3": "78332",
                                    "4": "16.3400"
                                },
                                {
                                    "0": "male",
                                    "1": "2019",
                                    "2": "June     ",
                                    "3": "169448",
                                    "4": "35.3500"
                                },
                                {
                                    "0": "female",
                                    "1": "2019",
                                    "2": "June     ",
                                    "3": "104574",
                                    "4": "21.8100"
                                },
                                {
                                    "0": "male",
                                    "1": "2018",
                                    "2": "July     ",
                                    "3": "146836",
                                    "4": "26.2300"
                                },
                                {
                                    "0": "female",
                                    "1": "2018",
                                    "2": "July     ",
                                    "3": "96080",
                                    "4": "17.1600"
                                },
                                {
                                    "0": "male",
                                    "1": "2019",
                                    "2": "July     ",
                                    "3": "197689",
                                    "4": "35.3100"
                                },
                                {
                                    "0": "female",
                                    "1": "2019",
                                    "2": "July     ",
                                    "3": "119242",
                                    "4": "21.3000"
                                },
                                {
                                    "0": "male",
                                    "1": "2018",
                                    "2": "August   ",
                                    "3": "144270",
                                    "4": "25.1600"
                                },
                                {
                                    "0": "female",
                                    "1": "2018",
                                    "2": "August   ",
                                    "3": "91806",
                                    "4": "16.0100"
                                },
                                {
                                    "0": "male",
                                    "1": "2019",
                                    "2": "August   ",
                                    "3": "210825",
                                    "4": "36.7600"
                                },
                                {
                                    "0": "female",
                                    "1": "2019",
                                    "2": "August   ",
                                    "3": "126618",
                                    "4": "22.0800"
                                },
                                {
                                    "0": "male",
                                    "1": "2018",
                                    "2": "September",
                                    "3": "146175",
                                    "4": "24.3900"
                                },
                                {
                                    "0": "female",
                                    "1": "2018",
                                    "2": "September",
                                    "3": "90007",
                                    "4": "15.0200"
                                },
                                {
                                    "0": "male",
                                    "1": "2019",
                                    "2": "September",
                                    "3": "233011",
                                    "4": "38.8800"
                                },
                                {
                                    "0": "female",
                                    "1": "2019",
                                    "2": "September",
                                    "3": "130174",
                                    "4": "21.7200"
                                },
                                {
                                    "0": "male",
                                    "1": "2018",
                                    "2": "October  ",
                                    "3": "134067",
                                    "4": "26.5200"
                                },
                                {
                                    "0": "female",
                                    "1": "2018",
                                    "2": "October  ",
                                    "3": "66033",
                                    "4": "13.0600"
                                },
                                {
                                    "0": "male",
                                    "1": "2019",
                                    "2": "October  ",
                                    "3": "205371",
                                    "4": "40.6200"
                                },
                                {
                                    "0": "female",
                                    "1": "2019",
                                    "2": "October  ",
                                    "3": "100133",
                                    "4": "19.8000"
                                },
                                {
                                    "0": "male",
                                    "1": "2018",
                                    "2": "November ",
                                    "3": "85108",
                                    "4": "27.2600"
                                },
                                {
                                    "0": "female",
                                    "1": "2018",
                                    "2": "November ",
                                    "3": "36311",
                                    "4": "11.6300"
                                },
                                {
                                    "0": "male",
                                    "1": "2019",
                                    "2": "November ",
                                    "3": "133995",
                                    "4": "42.9200"
                                },
                                {
                                    "0": "female",
                                    "1": "2019",
                                    "2": "November ",
                                    "3": "56764",
                                    "4": "18.1800"
                                },
                                {
                                    "0": "male",
                                    "1": "2018",
                                    "2": "December ",
                                    "3": "58954",
                                    "4": "33.8500"
                                },
                                {
                                    "0": "female",
                                    "1": "2018",
                                    "2": "December ",
                                    "3": "23007",
                                    "4": "13.2100"
                                },
                                {
                                    "0": "male",
                                    "1": "2019",
                                    "2": "December ",
                                    "3": "67987",
                                    "4": "39.0400"
                                },
                                {
                                    "0": "female",
                                    "1": "2019",
                                    "2": "December ",
                                    "3": "24221",
                                    "4": "13.9100"
                                }
                            ]
                        },
                        "text/html": "<table><tr><th>gender</th><th>year</th><th>month</th><th>rides</th><th>percentage</th></tr><tr><td>male</td><td>2018</td><td>January  </td><td>30689</td><td>27.7000</td></tr><tr><td>female</td><td>2018</td><td>January  </td><td>10243</td><td>9.2400</td></tr><tr><td>male</td><td>2019</td><td>January  </td><td>52134</td><td>47.0500</td></tr><tr><td>female</td><td>2019</td><td>January  </td><td>17738</td><td>16.0100</td></tr><tr><td>male</td><td>2018</td><td>February </td><td>45380</td><td>31.6700</td></tr><tr><td>female</td><td>2018</td><td>February </td><td>17437</td><td>12.1700</td></tr><tr><td>male</td><td>2019</td><td>February </td><td>59541</td><td>41.5500</td></tr><tr><td>female</td><td>2019</td><td>February </td><td>20925</td><td>14.6000</td></tr><tr><td>male</td><td>2018</td><td>March    </td><td>44814</td><td>27.1000</td></tr><tr><td>female</td><td>2018</td><td>March    </td><td>18171</td><td>10.9900</td></tr><tr><td>male</td><td>2019</td><td>March    </td><td>71803</td><td>43.4200</td></tr><tr><td>female</td><td>2019</td><td>March    </td><td>30566</td><td>18.4900</td></tr><tr><td>male</td><td>2018</td><td>April    </td><td>65357</td><td>24.6700</td></tr><tr><td>female</td><td>2018</td><td>April    </td><td>32837</td><td>12.4000</td></tr><tr><td>male</td><td>2019</td><td>April    </td><td>108715</td><td>41.0400</td></tr><tr><td>female</td><td>2019</td><td>April    </td><td>57979</td><td>21.8900</td></tr><tr><td>male</td><td>2018</td><td>May      </td><td>113058</td><td>28.1300</td></tr><tr><td>female</td><td>2018</td><td>May      </td><td>65807</td><td>16.3700</td></tr><tr><td>male</td><td>2019</td><td>May      </td><td>142125</td><td>35.3600</td></tr><tr><td>female</td><td>2019</td><td>May      </td><td>80959</td><td>20.1400</td></tr><tr><td>male</td><td>2018</td><td>June     </td><td>127027</td><td>26.5000</td></tr><tr><td>female</td><td>2018</td><td>June     </td><td>78332</td><td>16.3400</td></tr><tr><td>male</td><td>2019</td><td>June     </td><td>169448</td><td>35.3500</td></tr><tr><td>female</td><td>2019</td><td>June     </td><td>104574</td><td>21.8100</td></tr><tr><td>male</td><td>2018</td><td>July     </td><td>146836</td><td>26.2300</td></tr><tr><td>female</td><td>2018</td><td>July     </td><td>96080</td><td>17.1600</td></tr><tr><td>male</td><td>2019</td><td>July     </td><td>197689</td><td>35.3100</td></tr><tr><td>female</td><td>2019</td><td>July     </td><td>119242</td><td>21.3000</td></tr><tr><td>male</td><td>2018</td><td>August   </td><td>144270</td><td>25.1600</td></tr><tr><td>female</td><td>2018</td><td>August   </td><td>91806</td><td>16.0100</td></tr><tr><td>male</td><td>2019</td><td>August   </td><td>210825</td><td>36.7600</td></tr><tr><td>female</td><td>2019</td><td>August   </td><td>126618</td><td>22.0800</td></tr><tr><td>male</td><td>2018</td><td>September</td><td>146175</td><td>24.3900</td></tr><tr><td>female</td><td>2018</td><td>September</td><td>90007</td><td>15.0200</td></tr><tr><td>male</td><td>2019</td><td>September</td><td>233011</td><td>38.8800</td></tr><tr><td>female</td><td>2019</td><td>September</td><td>130174</td><td>21.7200</td></tr><tr><td>male</td><td>2018</td><td>October  </td><td>134067</td><td>26.5200</td></tr><tr><td>female</td><td>2018</td><td>October  </td><td>66033</td><td>13.0600</td></tr><tr><td>male</td><td>2019</td><td>October  </td><td>205371</td><td>40.6200</td></tr><tr><td>female</td><td>2019</td><td>October  </td><td>100133</td><td>19.8000</td></tr><tr><td>male</td><td>2018</td><td>November </td><td>85108</td><td>27.2600</td></tr><tr><td>female</td><td>2018</td><td>November </td><td>36311</td><td>11.6300</td></tr><tr><td>male</td><td>2019</td><td>November </td><td>133995</td><td>42.9200</td></tr><tr><td>female</td><td>2019</td><td>November </td><td>56764</td><td>18.1800</td></tr><tr><td>male</td><td>2018</td><td>December </td><td>58954</td><td>33.8500</td></tr><tr><td>female</td><td>2018</td><td>December </td><td>23007</td><td>13.2100</td></tr><tr><td>male</td><td>2019</td><td>December </td><td>67987</td><td>39.0400</td></tr><tr><td>female</td><td>2019</td><td>December </td><td>24221</td><td>13.9100</td></tr></table>"
                    },
                    "metadata": {}
                }
            ],
            "execution_count": 22
        },
        {
            "cell_type": "code",
            "source": [
                "-- Riders by age group\n",
                "\n",
                "select \n",
                "count(1) as riders,\n",
                "-- 2018 - trunc(cast(user_birth_year as numeric), 0), # this is for sanity testing\n",
                "case \n",
                "    when (trunc(cast(user_birth_year as numeric), 0) || '-01-01')::timestamp > '2018-01-01'::timestamp - interval '12 years' then 'under_12'\n",
                "    when (trunc(cast(user_birth_year as numeric), 0) || '-01-01')::timestamp > '2018-01-01'::timestamp - interval '20 years' then 'teenager'\n",
                "    when (trunc(cast(user_birth_year as numeric), 0) || '-01-01')::timestamp > '2018-01-01'::timestamp - interval '30 years' then '20s'\n",
                "    when (trunc(cast(user_birth_year as numeric), 0) || '-01-01')::timestamp > '2018-01-01'::timestamp - interval '40 years' then '30s'\n",
                "    when (trunc(cast(user_birth_year as numeric), 0) || '-01-01')::timestamp > '2018-01-01'::timestamp - interval '50 years' then '40s'\n",
                "    when (trunc(cast(user_birth_year as numeric), 0) || '-01-01')::timestamp > '2018-01-01'::timestamp - interval '60 years' then '50s'\n",
                "    when (trunc(cast(user_birth_year as numeric), 0) || '-01-01')::timestamp > '2018-01-01'::timestamp - interval '70 years' then '60s'\n",
                "    when (trunc(cast(user_birth_year as numeric), 0) || '-01-01')::timestamp > '2018-01-01'::timestamp - interval '80 years' then '70s'\n",
                "    when (trunc(cast(user_birth_year as numeric), 0) || '-01-01')::timestamp > '2018-01-01'::timestamp - interval '90 years' then '80s'\n",
                "    when (trunc(cast(user_birth_year as numeric), 0) || '-01-01')::timestamp > '2018-01-01'::timestamp - interval '90 years' then '80s'\n",
                "    else 'older' end as age_group,\n",
                "round(count(1) / sum(count(1)) over(), 4) * 100 as percentage\n",
                "from bluebikes_2018\n",
                "group by age_group\n",
                "order by percentage desc\n",
                "-- limit 500"
            ],
            "metadata": {
                "azdata_cell_guid": "4e9e5ea3-cb02-49a9-8d80-08e0aced022b"
            },
            "outputs": [
                {
                    "output_type": "display_data",
                    "data": {
                        "text/html": "(9 row(s) affected)"
                    },
                    "metadata": {}
                },
                {
                    "output_type": "display_data",
                    "data": {
                        "text/html": "Total execution time: 00:00:04.440"
                    },
                    "metadata": {}
                },
                {
                    "output_type": "execute_result",
                    "execution_count": 183,
                    "data": {
                        "application/vnd.dataresource+json": {
                            "schema": {
                                "fields": [
                                    {
                                        "name": "riders"
                                    },
                                    {
                                        "name": "age_group"
                                    },
                                    {
                                        "name": "percentage"
                                    }
                                ]
                            },
                            "data": [
                                {
                                    "0": "699781",
                                    "1": "20s",
                                    "2": "39.5800"
                                },
                                {
                                    "0": "465235",
                                    "1": "30s",
                                    "2": "26.3200"
                                },
                                {
                                    "0": "383585",
                                    "1": "40s",
                                    "2": "21.7000"
                                },
                                {
                                    "0": "122924",
                                    "1": "50s",
                                    "2": "6.9500"
                                },
                                {
                                    "0": "48958",
                                    "1": "60s",
                                    "2": "2.7700"
                                },
                                {
                                    "0": "30925",
                                    "1": "teenager",
                                    "2": "1.7500"
                                },
                                {
                                    "0": "9994",
                                    "1": "older",
                                    "2": "0.5700"
                                },
                                {
                                    "0": "6125",
                                    "1": "70s",
                                    "2": "0.3500"
                                },
                                {
                                    "0": "279",
                                    "1": "80s",
                                    "2": "0.0200"
                                }
                            ]
                        },
                        "text/html": "<table><tr><th>riders</th><th>age_group</th><th>percentage</th></tr><tr><td>699781</td><td>20s</td><td>39.5800</td></tr><tr><td>465235</td><td>30s</td><td>26.3200</td></tr><tr><td>383585</td><td>40s</td><td>21.7000</td></tr><tr><td>122924</td><td>50s</td><td>6.9500</td></tr><tr><td>48958</td><td>60s</td><td>2.7700</td></tr><tr><td>30925</td><td>teenager</td><td>1.7500</td></tr><tr><td>9994</td><td>older</td><td>0.5700</td></tr><tr><td>6125</td><td>70s</td><td>0.3500</td></tr><tr><td>279</td><td>80s</td><td>0.0200</td></tr></table>"
                    },
                    "metadata": {}
                }
            ],
            "execution_count": 183
        },
        {
            "cell_type": "code",
            "source": [
                "-- Riders by gender and age group\n",
                "\n",
                "select count(1) as riders,\n",
                "       case\n",
                "           when user_gender = 1 then 'male'\n",
                "           when user_gender = 2 then 'female'\n",
                "           else 'unspecified'\n",
                "       end as gender, -- 2018 - trunc(cast(user_birth_year as numeric), 0), # this is for sanity testing\n",
                "case\n",
                "    when (trunc(cast(user_birth_year as numeric), 0) || '-01-01')::timestamp > '2018-01-01'::timestamp - interval '12 years' then 'under_12'\n",
                "    when (trunc(cast(user_birth_year as numeric), 0) || '-01-01')::timestamp > '2018-01-01'::timestamp - interval '20 years' then 'teenager'\n",
                "    when (trunc(cast(user_birth_year as numeric), 0) || '-01-01')::timestamp > '2018-01-01'::timestamp - interval '30 years' then '20s'\n",
                "    when (trunc(cast(user_birth_year as numeric), 0) || '-01-01')::timestamp > '2018-01-01'::timestamp - interval '40 years' then '30s'\n",
                "    when (trunc(cast(user_birth_year as numeric), 0) || '-01-01')::timestamp > '2018-01-01'::timestamp - interval '50 years' then '40s'\n",
                "    when (trunc(cast(user_birth_year as numeric), 0) || '-01-01')::timestamp > '2018-01-01'::timestamp - interval '60 years' then '50s'\n",
                "    when (trunc(cast(user_birth_year as numeric), 0) || '-01-01')::timestamp > '2018-01-01'::timestamp - interval '70 years' then '60s'\n",
                "    when (trunc(cast(user_birth_year as numeric), 0) || '-01-01')::timestamp > '2018-01-01'::timestamp - interval '80 years' then '70s'\n",
                "    when (trunc(cast(user_birth_year as numeric), 0) || '-01-01')::timestamp > '2018-01-01'::timestamp - interval '90 years' then '80s'\n",
                "    when (trunc(cast(user_birth_year as numeric), 0) || '-01-01')::timestamp > '2018-01-01'::timestamp - interval '90 years' then '80s'\n",
                "    else 'older'\n",
                "    end as age_group,\n",
                "round(count(1) / sum(count(1)) over(), 4) * 100 as percentage\n",
                "from bluebikes_2018\n",
                "group by age_group, gender\n",
                "order by age_group, gender -- limit 500"
            ],
            "metadata": {
                "azdata_cell_guid": "e33e4753-6d7d-41d0-bf2d-dd280f4e14f2"
            },
            "outputs": [
                {
                    "output_type": "display_data",
                    "data": {
                        "text/html": "(26 row(s) affected)"
                    },
                    "metadata": {}
                },
                {
                    "output_type": "display_data",
                    "data": {
                        "text/html": "Total execution time: 00:00:04.580"
                    },
                    "metadata": {}
                },
                {
                    "output_type": "execute_result",
                    "execution_count": 184,
                    "data": {
                        "application/vnd.dataresource+json": {
                            "schema": {
                                "fields": [
                                    {
                                        "name": "riders"
                                    },
                                    {
                                        "name": "gender"
                                    },
                                    {
                                        "name": "age_group"
                                    },
                                    {
                                        "name": "percentage"
                                    }
                                ]
                            },
                            "data": [
                                {
                                    "0": "198274",
                                    "1": "female",
                                    "2": "20s",
                                    "3": "11.2200"
                                },
                                {
                                    "0": "497868",
                                    "1": "male",
                                    "2": "20s",
                                    "3": "28.1600"
                                },
                                {
                                    "0": "3639",
                                    "1": "unspecified",
                                    "2": "20s",
                                    "3": "0.2100"
                                },
                                {
                                    "0": "111795",
                                    "1": "female",
                                    "2": "30s",
                                    "3": "6.3200"
                                },
                                {
                                    "0": "349456",
                                    "1": "male",
                                    "2": "30s",
                                    "3": "19.7700"
                                },
                                {
                                    "0": "3984",
                                    "1": "unspecified",
                                    "2": "30s",
                                    "3": "0.2300"
                                },
                                {
                                    "0": "35141",
                                    "1": "female",
                                    "2": "40s",
                                    "3": "1.9900"
                                },
                                {
                                    "0": "139249",
                                    "1": "male",
                                    "2": "40s",
                                    "3": "7.8800"
                                },
                                {
                                    "0": "209195",
                                    "1": "unspecified",
                                    "2": "40s",
                                    "3": "11.8300"
                                },
                                {
                                    "0": "32777",
                                    "1": "female",
                                    "2": "50s",
                                    "3": "1.8500"
                                },
                                {
                                    "0": "89445",
                                    "1": "male",
                                    "2": "50s",
                                    "3": "5.0600"
                                },
                                {
                                    "0": "702",
                                    "1": "unspecified",
                                    "2": "50s",
                                    "3": "0.0400"
                                },
                                {
                                    "0": "12369",
                                    "1": "female",
                                    "2": "60s",
                                    "3": "0.7000"
                                },
                                {
                                    "0": "36509",
                                    "1": "male",
                                    "2": "60s",
                                    "3": "2.0700"
                                },
                                {
                                    "0": "80",
                                    "1": "unspecified",
                                    "2": "60s",
                                    "3": "0.0000"
                                },
                                {
                                    "0": "817",
                                    "1": "female",
                                    "2": "70s",
                                    "3": "0.0500"
                                },
                                {
                                    "0": "5287",
                                    "1": "male",
                                    "2": "70s",
                                    "3": "0.3000"
                                },
                                {
                                    "0": "21",
                                    "1": "unspecified",
                                    "2": "70s",
                                    "3": "0.0000"
                                },
                                {
                                    "0": "3",
                                    "1": "female",
                                    "2": "80s",
                                    "3": "0.0000"
                                },
                                {
                                    "0": "276",
                                    "1": "male",
                                    "2": "80s",
                                    "3": "0.0200"
                                },
                                {
                                    "0": "34",
                                    "1": "female",
                                    "2": "older",
                                    "3": "0.0000"
                                },
                                {
                                    "0": "212",
                                    "1": "male",
                                    "2": "older",
                                    "3": "0.0100"
                                },
                                {
                                    "0": "9748",
                                    "1": "unspecified",
                                    "2": "older",
                                    "3": "0.5500"
                                },
                                {
                                    "0": "7184",
                                    "1": "female",
                                    "2": "teenager",
                                    "3": "0.4100"
                                },
                                {
                                    "0": "23433",
                                    "1": "male",
                                    "2": "teenager",
                                    "3": "1.3300"
                                },
                                {
                                    "0": "308",
                                    "1": "unspecified",
                                    "2": "teenager",
                                    "3": "0.0200"
                                }
                            ]
                        },
                        "text/html": "<table><tr><th>riders</th><th>gender</th><th>age_group</th><th>percentage</th></tr><tr><td>198274</td><td>female</td><td>20s</td><td>11.2200</td></tr><tr><td>497868</td><td>male</td><td>20s</td><td>28.1600</td></tr><tr><td>3639</td><td>unspecified</td><td>20s</td><td>0.2100</td></tr><tr><td>111795</td><td>female</td><td>30s</td><td>6.3200</td></tr><tr><td>349456</td><td>male</td><td>30s</td><td>19.7700</td></tr><tr><td>3984</td><td>unspecified</td><td>30s</td><td>0.2300</td></tr><tr><td>35141</td><td>female</td><td>40s</td><td>1.9900</td></tr><tr><td>139249</td><td>male</td><td>40s</td><td>7.8800</td></tr><tr><td>209195</td><td>unspecified</td><td>40s</td><td>11.8300</td></tr><tr><td>32777</td><td>female</td><td>50s</td><td>1.8500</td></tr><tr><td>89445</td><td>male</td><td>50s</td><td>5.0600</td></tr><tr><td>702</td><td>unspecified</td><td>50s</td><td>0.0400</td></tr><tr><td>12369</td><td>female</td><td>60s</td><td>0.7000</td></tr><tr><td>36509</td><td>male</td><td>60s</td><td>2.0700</td></tr><tr><td>80</td><td>unspecified</td><td>60s</td><td>0.0000</td></tr><tr><td>817</td><td>female</td><td>70s</td><td>0.0500</td></tr><tr><td>5287</td><td>male</td><td>70s</td><td>0.3000</td></tr><tr><td>21</td><td>unspecified</td><td>70s</td><td>0.0000</td></tr><tr><td>3</td><td>female</td><td>80s</td><td>0.0000</td></tr><tr><td>276</td><td>male</td><td>80s</td><td>0.0200</td></tr><tr><td>34</td><td>female</td><td>older</td><td>0.0000</td></tr><tr><td>212</td><td>male</td><td>older</td><td>0.0100</td></tr><tr><td>9748</td><td>unspecified</td><td>older</td><td>0.5500</td></tr><tr><td>7184</td><td>female</td><td>teenager</td><td>0.4100</td></tr><tr><td>23433</td><td>male</td><td>teenager</td><td>1.3300</td></tr><tr><td>308</td><td>unspecified</td><td>teenager</td><td>0.0200</td></tr></table>"
                    },
                    "metadata": {}
                }
            ],
            "execution_count": 184
        },
        {
            "cell_type": "code",
            "source": [
                "-- Riders by gender and age group WORKING!!\n",
                "\n",
                "select riders,\n",
                "       gender,\n",
                "       age_group,\n",
                "       total_percent,\n",
                "       round(riders / sum(riders) over(partition by age_group), 4) * 100 as age_group_percent\n",
                "from\n",
                "    (select count(1) as riders,\n",
                "    case\n",
                "        when user_gender = 1 then 'male'\n",
                "        when user_gender = 2 then 'female'\n",
                "        else 'unspecified'\n",
                "    end as gender, \n",
                "    -- 2018 - trunc(cast(user_birth_year as numeric), 0), # this is for sanity testing\n",
                "    case\n",
                "        when (trunc(cast(user_birth_year as numeric), 0) || '-01-01')::timestamp > '2018-01-01'::timestamp - interval '12 years' then 'under_12'\n",
                "        when (trunc(cast(user_birth_year as numeric), 0) || '-01-01')::timestamp > '2018-01-01'::timestamp - interval '20 years' then 'teenager'\n",
                "        when (trunc(cast(user_birth_year as numeric), 0) || '-01-01')::timestamp > '2018-01-01'::timestamp - interval '30 years' then '20s'\n",
                "        when (trunc(cast(user_birth_year as numeric), 0) || '-01-01')::timestamp > '2018-01-01'::timestamp - interval '40 years' then '30s'\n",
                "        when (trunc(cast(user_birth_year as numeric), 0) || '-01-01')::timestamp > '2018-01-01'::timestamp - interval '50 years' then '40s'\n",
                "        when (trunc(cast(user_birth_year as numeric), 0) || '-01-01')::timestamp > '2018-01-01'::timestamp - interval '60 years' then '50s'\n",
                "        when (trunc(cast(user_birth_year as numeric), 0) || '-01-01')::timestamp > '2018-01-01'::timestamp - interval '70 years' then '60s'\n",
                "        when (trunc(cast(user_birth_year as numeric), 0) || '-01-01')::timestamp > '2018-01-01'::timestamp - interval '80 years' then '70s'\n",
                "        when (trunc(cast(user_birth_year as numeric), 0) || '-01-01')::timestamp > '2018-01-01'::timestamp - interval '90 years' then '80s'\n",
                "        when (trunc(cast(user_birth_year as numeric), 0) || '-01-01')::timestamp > '2018-01-01'::timestamp - interval '90 years' then '80s'\n",
                "        else 'older'\n",
                "    end as age_group,\n",
                "    round(count(1) / sum(count(1)) over(), 4) * 100 as total_percent\n",
                "    from bluebikes_2018\n",
                "    group by age_group, gender\n",
                "        order by age_group, gender\n",
                "        ) big\n",
                "\n",
                "group by age_group, gender, riders, total_percent\n",
                "order by age_group, gender"
            ],
            "metadata": {
                "azdata_cell_guid": "dd0cfaa5-c990-4cc6-91f5-7a7dbe1b293c"
            },
            "outputs": [
                {
                    "output_type": "display_data",
                    "data": {
                        "text/html": "(26 row(s) affected)"
                    },
                    "metadata": {}
                },
                {
                    "output_type": "display_data",
                    "data": {
                        "text/html": "Total execution time: 00:00:04.934"
                    },
                    "metadata": {}
                },
                {
                    "output_type": "execute_result",
                    "execution_count": 185,
                    "data": {
                        "application/vnd.dataresource+json": {
                            "schema": {
                                "fields": [
                                    {
                                        "name": "riders"
                                    },
                                    {
                                        "name": "gender"
                                    },
                                    {
                                        "name": "age_group"
                                    },
                                    {
                                        "name": "total_percent"
                                    },
                                    {
                                        "name": "age_group_percent"
                                    }
                                ]
                            },
                            "data": [
                                {
                                    "0": "198274",
                                    "1": "female",
                                    "2": "20s",
                                    "3": "11.2200",
                                    "4": "28.3300"
                                },
                                {
                                    "0": "497868",
                                    "1": "male",
                                    "2": "20s",
                                    "3": "28.1600",
                                    "4": "71.1500"
                                },
                                {
                                    "0": "3639",
                                    "1": "unspecified",
                                    "2": "20s",
                                    "3": "0.2100",
                                    "4": "0.5200"
                                },
                                {
                                    "0": "111795",
                                    "1": "female",
                                    "2": "30s",
                                    "3": "6.3200",
                                    "4": "24.0300"
                                },
                                {
                                    "0": "349456",
                                    "1": "male",
                                    "2": "30s",
                                    "3": "19.7700",
                                    "4": "75.1100"
                                },
                                {
                                    "0": "3984",
                                    "1": "unspecified",
                                    "2": "30s",
                                    "3": "0.2300",
                                    "4": "0.8600"
                                },
                                {
                                    "0": "35141",
                                    "1": "female",
                                    "2": "40s",
                                    "3": "1.9900",
                                    "4": "9.1600"
                                },
                                {
                                    "0": "139249",
                                    "1": "male",
                                    "2": "40s",
                                    "3": "7.8800",
                                    "4": "36.3000"
                                },
                                {
                                    "0": "209195",
                                    "1": "unspecified",
                                    "2": "40s",
                                    "3": "11.8300",
                                    "4": "54.5400"
                                },
                                {
                                    "0": "32777",
                                    "1": "female",
                                    "2": "50s",
                                    "3": "1.8500",
                                    "4": "26.6600"
                                },
                                {
                                    "0": "89445",
                                    "1": "male",
                                    "2": "50s",
                                    "3": "5.0600",
                                    "4": "72.7600"
                                },
                                {
                                    "0": "702",
                                    "1": "unspecified",
                                    "2": "50s",
                                    "3": "0.0400",
                                    "4": "0.5700"
                                },
                                {
                                    "0": "12369",
                                    "1": "female",
                                    "2": "60s",
                                    "3": "0.7000",
                                    "4": "25.2600"
                                },
                                {
                                    "0": "36509",
                                    "1": "male",
                                    "2": "60s",
                                    "3": "2.0700",
                                    "4": "74.5700"
                                },
                                {
                                    "0": "80",
                                    "1": "unspecified",
                                    "2": "60s",
                                    "3": "0.0000",
                                    "4": "0.1600"
                                },
                                {
                                    "0": "817",
                                    "1": "female",
                                    "2": "70s",
                                    "3": "0.0500",
                                    "4": "13.3400"
                                },
                                {
                                    "0": "5287",
                                    "1": "male",
                                    "2": "70s",
                                    "3": "0.3000",
                                    "4": "86.3200"
                                },
                                {
                                    "0": "21",
                                    "1": "unspecified",
                                    "2": "70s",
                                    "3": "0.0000",
                                    "4": "0.3400"
                                },
                                {
                                    "0": "3",
                                    "1": "female",
                                    "2": "80s",
                                    "3": "0.0000",
                                    "4": "1.0800"
                                },
                                {
                                    "0": "276",
                                    "1": "male",
                                    "2": "80s",
                                    "3": "0.0200",
                                    "4": "98.9200"
                                },
                                {
                                    "0": "34",
                                    "1": "female",
                                    "2": "older",
                                    "3": "0.0000",
                                    "4": "0.3400"
                                },
                                {
                                    "0": "212",
                                    "1": "male",
                                    "2": "older",
                                    "3": "0.0100",
                                    "4": "2.1200"
                                },
                                {
                                    "0": "9748",
                                    "1": "unspecified",
                                    "2": "older",
                                    "3": "0.5500",
                                    "4": "97.5400"
                                },
                                {
                                    "0": "7184",
                                    "1": "female",
                                    "2": "teenager",
                                    "3": "0.4100",
                                    "4": "23.2300"
                                },
                                {
                                    "0": "23433",
                                    "1": "male",
                                    "2": "teenager",
                                    "3": "1.3300",
                                    "4": "75.7700"
                                },
                                {
                                    "0": "308",
                                    "1": "unspecified",
                                    "2": "teenager",
                                    "3": "0.0200",
                                    "4": "1.0000"
                                }
                            ]
                        },
                        "text/html": "<table><tr><th>riders</th><th>gender</th><th>age_group</th><th>total_percent</th><th>age_group_percent</th></tr><tr><td>198274</td><td>female</td><td>20s</td><td>11.2200</td><td>28.3300</td></tr><tr><td>497868</td><td>male</td><td>20s</td><td>28.1600</td><td>71.1500</td></tr><tr><td>3639</td><td>unspecified</td><td>20s</td><td>0.2100</td><td>0.5200</td></tr><tr><td>111795</td><td>female</td><td>30s</td><td>6.3200</td><td>24.0300</td></tr><tr><td>349456</td><td>male</td><td>30s</td><td>19.7700</td><td>75.1100</td></tr><tr><td>3984</td><td>unspecified</td><td>30s</td><td>0.2300</td><td>0.8600</td></tr><tr><td>35141</td><td>female</td><td>40s</td><td>1.9900</td><td>9.1600</td></tr><tr><td>139249</td><td>male</td><td>40s</td><td>7.8800</td><td>36.3000</td></tr><tr><td>209195</td><td>unspecified</td><td>40s</td><td>11.8300</td><td>54.5400</td></tr><tr><td>32777</td><td>female</td><td>50s</td><td>1.8500</td><td>26.6600</td></tr><tr><td>89445</td><td>male</td><td>50s</td><td>5.0600</td><td>72.7600</td></tr><tr><td>702</td><td>unspecified</td><td>50s</td><td>0.0400</td><td>0.5700</td></tr><tr><td>12369</td><td>female</td><td>60s</td><td>0.7000</td><td>25.2600</td></tr><tr><td>36509</td><td>male</td><td>60s</td><td>2.0700</td><td>74.5700</td></tr><tr><td>80</td><td>unspecified</td><td>60s</td><td>0.0000</td><td>0.1600</td></tr><tr><td>817</td><td>female</td><td>70s</td><td>0.0500</td><td>13.3400</td></tr><tr><td>5287</td><td>male</td><td>70s</td><td>0.3000</td><td>86.3200</td></tr><tr><td>21</td><td>unspecified</td><td>70s</td><td>0.0000</td><td>0.3400</td></tr><tr><td>3</td><td>female</td><td>80s</td><td>0.0000</td><td>1.0800</td></tr><tr><td>276</td><td>male</td><td>80s</td><td>0.0200</td><td>98.9200</td></tr><tr><td>34</td><td>female</td><td>older</td><td>0.0000</td><td>0.3400</td></tr><tr><td>212</td><td>male</td><td>older</td><td>0.0100</td><td>2.1200</td></tr><tr><td>9748</td><td>unspecified</td><td>older</td><td>0.5500</td><td>97.5400</td></tr><tr><td>7184</td><td>female</td><td>teenager</td><td>0.4100</td><td>23.2300</td></tr><tr><td>23433</td><td>male</td><td>teenager</td><td>1.3300</td><td>75.7700</td></tr><tr><td>308</td><td>unspecified</td><td>teenager</td><td>0.0200</td><td>1.0000</td></tr></table>"
                    },
                    "metadata": {}
                }
            ],
            "execution_count": 185
        },
        {
            "cell_type": "code",
            "source": [
                "-- Percentage by gender\n",
                "\n",
                "select\n",
                "case when user_gender = 1 then 'male' \n",
                "    when user_gender = 2 then 'female'\n",
                "    else 'unspecified' end as gender,\n",
                "count(1),\n",
                "round(count(1) / sum(count(1)) over(), 6) * 100 as percentage\n",
                "from bluebikes_2018\n",
                "group by user_gender"
            ],
            "metadata": {
                "azdata_cell_guid": "3500349e-2b2b-4370-9f82-681d22c49790"
            },
            "outputs": [
                {
                    "output_type": "display_data",
                    "data": {
                        "text/html": "(3 row(s) affected)"
                    },
                    "metadata": {}
                },
                {
                    "output_type": "display_data",
                    "data": {
                        "text/html": "Total execution time: 00:00:00.993"
                    },
                    "metadata": {}
                },
                {
                    "output_type": "execute_result",
                    "execution_count": 186,
                    "data": {
                        "application/vnd.dataresource+json": {
                            "schema": {
                                "fields": [
                                    {
                                        "name": "gender"
                                    },
                                    {
                                        "name": "count"
                                    },
                                    {
                                        "name": "percentage"
                                    }
                                ]
                            },
                            "data": [
                                {
                                    "0": "unspecified",
                                    "1": "227677",
                                    "2": "12.879100"
                                },
                                {
                                    "0": "male",
                                    "1": "1141735",
                                    "2": "64.584900"
                                },
                                {
                                    "0": "female",
                                    "1": "398394",
                                    "2": "22.536100"
                                }
                            ]
                        },
                        "text/html": "<table><tr><th>gender</th><th>count</th><th>percentage</th></tr><tr><td>unspecified</td><td>227677</td><td>12.879100</td></tr><tr><td>male</td><td>1141735</td><td>64.584900</td></tr><tr><td>female</td><td>398394</td><td>22.536100</td></tr></table>"
                    },
                    "metadata": {}
                }
            ],
            "execution_count": 186
        },
        {
            "cell_type": "code",
            "source": [
                "-- Days of the week percent change 2018 2019\n",
                "with \n",
                "dow2018 as(\n",
                "    select count(1) as riders,\n",
                "    To_Char(start_time, 'Day') as weekday\n",
                "    from bluebikes_2018\n",
                "    group by weekday\n",
                "    order by riders desc\n",
                "),\n",
                "\n",
                "dow2019 as(\n",
                "    select count(1) as riders,\n",
                "    To_Char(start_time, 'Day') as weekday\n",
                "    from bluebikes_2019\n",
                "    group by weekday\n",
                "    order by riders desc\n",
                ")\n",
                "\n",
                "select \n",
                "dow2018.weekday,\n",
                "dow2018.riders as riders2018,\n",
                "dow2019.riders as riders2019,\n",
                "dow2019.riders - dow2018.riders as riders_change,\n",
                "round((dow2019.riders - dow2018.riders)::NUMERIC / dow2018.riders, 4) * 100 || ' %' as riders_percent_change\n",
                "\n",
                "from dow2018\n",
                "join dow2019 on dow2018.weekday = dow2019.weekday\n",
                ""
            ],
            "metadata": {
                "azdata_cell_guid": "f1464007-2542-4f27-890e-2e370f046ffd"
            },
            "outputs": [
                {
                    "output_type": "display_data",
                    "data": {
                        "text/html": "(7 row(s) affected)"
                    },
                    "metadata": {}
                },
                {
                    "output_type": "display_data",
                    "data": {
                        "text/html": "Total execution time: 00:00:01.668"
                    },
                    "metadata": {}
                },
                {
                    "output_type": "execute_result",
                    "execution_count": 35,
                    "data": {
                        "application/vnd.dataresource+json": {
                            "schema": {
                                "fields": [
                                    {
                                        "name": "weekday"
                                    },
                                    {
                                        "name": "riders2018"
                                    },
                                    {
                                        "name": "riders2019"
                                    },
                                    {
                                        "name": "riders_change"
                                    },
                                    {
                                        "name": "riders_percent_change"
                                    }
                                ]
                            },
                            "data": [
                                {
                                    "0": "Thursday ",
                                    "1": "282700",
                                    "2": "386579",
                                    "3": "103879",
                                    "4": "36.7500 %"
                                },
                                {
                                    "0": "Sunday   ",
                                    "1": "191055",
                                    "2": "285203",
                                    "3": "94148",
                                    "4": "49.2800 %"
                                },
                                {
                                    "0": "Tuesday  ",
                                    "1": "265161",
                                    "2": "384455",
                                    "3": "119294",
                                    "4": "44.9900 %"
                                },
                                {
                                    "0": "Wednesday",
                                    "1": "288485",
                                    "2": "389421",
                                    "3": "100936",
                                    "4": "34.9900 %"
                                },
                                {
                                    "0": "Monday   ",
                                    "1": "256032",
                                    "2": "372387",
                                    "3": "116355",
                                    "4": "45.4500 %"
                                },
                                {
                                    "0": "Saturday ",
                                    "1": "208144",
                                    "2": "319024",
                                    "3": "110880",
                                    "4": "53.2700 %"
                                },
                                {
                                    "0": "Friday   ",
                                    "1": "276229",
                                    "2": "385468",
                                    "3": "109239",
                                    "4": "39.5500 %"
                                }
                            ]
                        },
                        "text/html": "<table><tr><th>weekday</th><th>riders2018</th><th>riders2019</th><th>riders_change</th><th>riders_percent_change</th></tr><tr><td>Thursday </td><td>282700</td><td>386579</td><td>103879</td><td>36.7500 %</td></tr><tr><td>Sunday   </td><td>191055</td><td>285203</td><td>94148</td><td>49.2800 %</td></tr><tr><td>Tuesday  </td><td>265161</td><td>384455</td><td>119294</td><td>44.9900 %</td></tr><tr><td>Wednesday</td><td>288485</td><td>389421</td><td>100936</td><td>34.9900 %</td></tr><tr><td>Monday   </td><td>256032</td><td>372387</td><td>116355</td><td>45.4500 %</td></tr><tr><td>Saturday </td><td>208144</td><td>319024</td><td>110880</td><td>53.2700 %</td></tr><tr><td>Friday   </td><td>276229</td><td>385468</td><td>109239</td><td>39.5500 %</td></tr></table>"
                    },
                    "metadata": {}
                }
            ],
            "execution_count": 35
        },
        {
            "cell_type": "code",
            "source": [
                "-- Riders by month\n",
                "\n",
                "select count(1) as riders,\n",
                "To_Char(start_time, 'Month') as month\n",
                "from bluebikes_2018\n",
                "-- where date_trunc('day', start_time) = date_trunc('day', timestamp '2018-10-01')\n",
                "group by month\n",
                "order by riders desc"
            ],
            "metadata": {
                "azdata_cell_guid": "ffa4131e-0a2e-4dc1-9bb7-b819586b3528"
            },
            "outputs": [
                {
                    "output_type": "display_data",
                    "data": {
                        "text/html": "(12 row(s) affected)"
                    },
                    "metadata": {}
                },
                {
                    "output_type": "display_data",
                    "data": {
                        "text/html": "Total execution time: 00:00:01.445"
                    },
                    "metadata": {}
                },
                {
                    "output_type": "execute_result",
                    "execution_count": 188,
                    "data": {
                        "application/vnd.dataresource+json": {
                            "schema": {
                                "fields": [
                                    {
                                        "name": "riders"
                                    },
                                    {
                                        "name": "month"
                                    }
                                ]
                            },
                            "data": [
                                {
                                    "0": "242916",
                                    "1": "July     "
                                },
                                {
                                    "0": "236182",
                                    "1": "September"
                                },
                                {
                                    "0": "236076",
                                    "1": "August   "
                                },
                                {
                                    "0": "205359",
                                    "1": "June     "
                                },
                                {
                                    "0": "200100",
                                    "1": "October  "
                                },
                                {
                                    "0": "178865",
                                    "1": "May      "
                                },
                                {
                                    "0": "121419",
                                    "1": "November "
                                },
                                {
                                    "0": "98194",
                                    "1": "April    "
                                },
                                {
                                    "0": "81961",
                                    "1": "December "
                                },
                                {
                                    "0": "62985",
                                    "1": "March    "
                                },
                                {
                                    "0": "62817",
                                    "1": "February "
                                },
                                {
                                    "0": "40932",
                                    "1": "January  "
                                }
                            ]
                        },
                        "text/html": "<table><tr><th>riders</th><th>month</th></tr><tr><td>242916</td><td>July     </td></tr><tr><td>236182</td><td>September</td></tr><tr><td>236076</td><td>August   </td></tr><tr><td>205359</td><td>June     </td></tr><tr><td>200100</td><td>October  </td></tr><tr><td>178865</td><td>May      </td></tr><tr><td>121419</td><td>November </td></tr><tr><td>98194</td><td>April    </td></tr><tr><td>81961</td><td>December </td></tr><tr><td>62985</td><td>March    </td></tr><tr><td>62817</td><td>February </td></tr><tr><td>40932</td><td>January  </td></tr></table>"
                    },
                    "metadata": {}
                }
            ],
            "execution_count": 188
        },
        {
            "cell_type": "code",
            "source": [
                "-- Top and Bottom 5 Stations based on riders\n",
                "\n",
                "with top5 as\n",
                "    (select number, name, district,\n",
                "    count(1) as riders,\n",
                "    'top5' as placement\n",
                "    from bluebikes_stations\n",
                "    join bluebikes_2018 on bluebikes_stations.id = bluebikes_2018.start_station_id\n",
                "    group by number, name, district, placement\n",
                "    order by riders desc\n",
                "    limit 5),\n",
                "\n",
                "bottom5 as\n",
                "    (select number, name, district,\n",
                "    count(1) as riders,\n",
                "    'bottom5' as placement\n",
                "    from bluebikes_stations\n",
                "    join bluebikes_2018 on bluebikes_stations.id = bluebikes_2018.start_station_id\n",
                "    group by number, name, district, placement\n",
                "    order by riders \n",
                "    limit 5)\n",
                "\n",
                "select * from top5\n",
                "union all\n",
                "select * from bottom5\n",
                "order by riders desc"
            ],
            "metadata": {
                "azdata_cell_guid": "c2a605bd-479a-4476-9025-861f544ec5a6"
            },
            "outputs": [
                {
                    "output_type": "display_data",
                    "data": {
                        "text/html": "(10 row(s) affected)"
                    },
                    "metadata": {}
                },
                {
                    "output_type": "display_data",
                    "data": {
                        "text/html": "Total execution time: 00:00:02.134"
                    },
                    "metadata": {}
                },
                {
                    "output_type": "execute_result",
                    "execution_count": 189,
                    "data": {
                        "application/vnd.dataresource+json": {
                            "schema": {
                                "fields": [
                                    {
                                        "name": "number"
                                    },
                                    {
                                        "name": "name"
                                    },
                                    {
                                        "name": "district"
                                    },
                                    {
                                        "name": "riders"
                                    },
                                    {
                                        "name": "placement"
                                    }
                                ]
                            },
                            "data": [
                                {
                                    "0": "M32006",
                                    "1": "MIT at Mass Ave / Amherst St",
                                    "2": "Cambridge",
                                    "3": "53846",
                                    "4": "top5"
                                },
                                {
                                    "0": "M32005",
                                    "1": "MIT Stata Center at Vassar St / Main St",
                                    "2": "Cambridge",
                                    "3": "41559",
                                    "4": "top5"
                                },
                                {
                                    "0": "M32011",
                                    "1": "Central Square at Mass Ave / Essex St",
                                    "2": "Cambridge",
                                    "3": "37346",
                                    "4": "top5"
                                },
                                {
                                    "0": "A32010",
                                    "1": "South Station - 700 Atlantic Ave",
                                    "2": "Boston",
                                    "3": "36346",
                                    "4": "top5"
                                },
                                {
                                    "0": "M32041",
                                    "1": "MIT Pacific St at Purrington St",
                                    "2": "Cambridge",
                                    "3": "29379",
                                    "4": "top5"
                                },
                                {
                                    "0": "C32049",
                                    "1": "Thetford Ave at Norfolk St",
                                    "2": "Boston",
                                    "3": "15",
                                    "4": "bottom5"
                                },
                                {
                                    "0": "C32044",
                                    "1": "Blue Hill Ave at Almont St",
                                    "2": "Boston",
                                    "3": "12",
                                    "4": "bottom5"
                                },
                                {
                                    "0": "C32050",
                                    "1": "Mattapan Library",
                                    "2": "Boston",
                                    "3": "12",
                                    "4": "bottom5"
                                },
                                {
                                    "0": "C32059",
                                    "1": "Belgrade Ave at Walworth St",
                                    "2": "Boston",
                                    "3": "9",
                                    "4": "bottom5"
                                },
                                {
                                    "0": "C23045",
                                    "1": "Morton St T",
                                    "2": "Boston",
                                    "3": "5",
                                    "4": "bottom5"
                                }
                            ]
                        },
                        "text/html": "<table><tr><th>number</th><th>name</th><th>district</th><th>riders</th><th>placement</th></tr><tr><td>M32006</td><td>MIT at Mass Ave / Amherst St</td><td>Cambridge</td><td>53846</td><td>top5</td></tr><tr><td>M32005</td><td>MIT Stata Center at Vassar St / Main St</td><td>Cambridge</td><td>41559</td><td>top5</td></tr><tr><td>M32011</td><td>Central Square at Mass Ave / Essex St</td><td>Cambridge</td><td>37346</td><td>top5</td></tr><tr><td>A32010</td><td>South Station - 700 Atlantic Ave</td><td>Boston</td><td>36346</td><td>top5</td></tr><tr><td>M32041</td><td>MIT Pacific St at Purrington St</td><td>Cambridge</td><td>29379</td><td>top5</td></tr><tr><td>C32049</td><td>Thetford Ave at Norfolk St</td><td>Boston</td><td>15</td><td>bottom5</td></tr><tr><td>C32044</td><td>Blue Hill Ave at Almont St</td><td>Boston</td><td>12</td><td>bottom5</td></tr><tr><td>C32050</td><td>Mattapan Library</td><td>Boston</td><td>12</td><td>bottom5</td></tr><tr><td>C32059</td><td>Belgrade Ave at Walworth St</td><td>Boston</td><td>9</td><td>bottom5</td></tr><tr><td>C23045</td><td>Morton St T</td><td>Boston</td><td>5</td><td>bottom5</td></tr></table>"
                    },
                    "metadata": {}
                }
            ],
            "execution_count": 189
        },
        {
            "cell_type": "code",
            "source": [
                "-- Sort by Duration\n",
                "with\n",
                "dur2018 as(\n",
                "    select \n",
                "    count(1) as riders,\n",
                "    case \n",
                "        when date_trunc('second', end_time - start_time) < time '00:05:00' then 'under5'\n",
                "        when date_trunc('second', end_time - start_time) < time '00:10:00' and date_trunc('second', end_time - start_time) > '00:05:00' then '5to10'\n",
                "        when date_trunc('second', end_time - start_time) < time '00:15:00' and date_trunc('second', end_time - start_time) > '00:10:00' then '10to15'\n",
                "        when date_trunc('second', end_time - start_time) < time '00:20:00' and date_trunc('second', end_time - start_time) > '00:15:00' then '15to20'\n",
                "        when date_trunc('second', end_time - start_time) < time '00:25:00' and date_trunc('second', end_time - start_time) > '00:20:00' then '20to25'\n",
                "        when date_trunc('second', end_time - start_time) < time '00:30:00' and date_trunc('second', end_time - start_time) > '00:25:00' then '25to30'\n",
                "        when date_trunc('second', end_time - start_time) < time '00:35:00' and date_trunc('second', end_time - start_time) > '00:30:00' then '30to35'\n",
                "        when date_trunc('second', end_time - start_time) < time '00:40:00' and date_trunc('second', end_time - start_time) > '00:35:00' then '35to40'\n",
                "        when date_trunc('second', end_time - start_time) < time '00:45:00' and date_trunc('second', end_time - start_time) > '00:40:00' then '40to45'\n",
                "        when date_trunc('second', end_time - start_time) < time '00:50:00' and date_trunc('second', end_time - start_time) > '00:45:00' then '45to50'\n",
                "        when date_trunc('second', end_time - start_time) < time '00:55:00' and date_trunc('second', end_time - start_time) > '00:50:00' then '50to55'\n",
                "        when date_trunc('second', end_time - start_time) < time '01:00:00' and date_trunc('second', end_time - start_time) > '00:55:00' then '55to60'\n",
                "        when date_trunc('second', end_time - start_time) < time '02:00:00' and date_trunc('second', end_time - start_time) > '01:00:00' then '1hrto2hr'\n",
                "        when date_trunc('second', end_time - start_time) < time '03:00:00' and date_trunc('second', end_time - start_time) > '02:00:00' then '2hrto3hr'\n",
                "        when date_trunc('second', end_time - start_time) < time '04:00:00' and date_trunc('second', end_time - start_time) > '03:00:00' then '3hrto4hr'\n",
                "        when date_trunc('second', end_time - start_time) < time '05:00:00' and date_trunc('second', end_time - start_time) > '04:00:00' then '4hrto5hr'\n",
                "        when date_trunc('second', end_time - start_time) < time '06:00:00' and date_trunc('second', end_time - start_time) > '05:00:00' then '5hrto6hr'\n",
                "        when date_trunc('second', end_time - start_time) < time '12:00:00' and date_trunc('second', end_time - start_time) > '06:00:00' then '6hrto12hr'\n",
                "        when date_trunc('second', end_time - start_time) < time '24:00:00' and date_trunc('second', end_time - start_time) > '12:00:00' then '12hrto24hr'\n",
                "    else 'longer' end as duration\n",
                "\n",
                "    from bluebikes_2018\n",
                "    group by duration\n",
                "    order by riders desc\n",
                "    ),\n",
                "\n",
                "dur2019 as (\n",
                "    select \n",
                "    count(1) as riders,\n",
                "    case \n",
                "        when date_trunc('second', end_time - start_time) < time '00:05:00' then 'under5'\n",
                "        when date_trunc('second', end_time - start_time) < time '00:10:00' and date_trunc('second', end_time - start_time) > '00:05:00' then '5to10'\n",
                "        when date_trunc('second', end_time - start_time) < time '00:15:00' and date_trunc('second', end_time - start_time) > '00:10:00' then '10to15'\n",
                "        when date_trunc('second', end_time - start_time) < time '00:20:00' and date_trunc('second', end_time - start_time) > '00:15:00' then '15to20'\n",
                "        when date_trunc('second', end_time - start_time) < time '00:25:00' and date_trunc('second', end_time - start_time) > '00:20:00' then '20to25'\n",
                "        when date_trunc('second', end_time - start_time) < time '00:30:00' and date_trunc('second', end_time - start_time) > '00:25:00' then '25to30'\n",
                "        when date_trunc('second', end_time - start_time) < time '00:35:00' and date_trunc('second', end_time - start_time) > '00:30:00' then '30to35'\n",
                "        when date_trunc('second', end_time - start_time) < time '00:40:00' and date_trunc('second', end_time - start_time) > '00:35:00' then '35to40'\n",
                "        when date_trunc('second', end_time - start_time) < time '00:45:00' and date_trunc('second', end_time - start_time) > '00:40:00' then '40to45'\n",
                "        when date_trunc('second', end_time - start_time) < time '00:50:00' and date_trunc('second', end_time - start_time) > '00:45:00' then '45to50'\n",
                "        when date_trunc('second', end_time - start_time) < time '00:55:00' and date_trunc('second', end_time - start_time) > '00:50:00' then '50to55'\n",
                "        when date_trunc('second', end_time - start_time) < time '01:00:00' and date_trunc('second', end_time - start_time) > '00:55:00' then '55to60'\n",
                "        when date_trunc('second', end_time - start_time) < time '02:00:00' and date_trunc('second', end_time - start_time) > '01:00:00' then '1hrto2hr'\n",
                "        when date_trunc('second', end_time - start_time) < time '03:00:00' and date_trunc('second', end_time - start_time) > '02:00:00' then '2hrto3hr'\n",
                "        when date_trunc('second', end_time - start_time) < time '04:00:00' and date_trunc('second', end_time - start_time) > '03:00:00' then '3hrto4hr'\n",
                "        when date_trunc('second', end_time - start_time) < time '05:00:00' and date_trunc('second', end_time - start_time) > '04:00:00' then '4hrto5hr'\n",
                "        when date_trunc('second', end_time - start_time) < time '06:00:00' and date_trunc('second', end_time - start_time) > '05:00:00' then '5hrto6hr'\n",
                "        when date_trunc('second', end_time - start_time) < time '12:00:00' and date_trunc('second', end_time - start_time) > '06:00:00' then '6hrto12hr'\n",
                "        when date_trunc('second', end_time - start_time) < time '24:00:00' and date_trunc('second', end_time - start_time) > '12:00:00' then '12hrto24hr'\n",
                "    else 'longer' end as duration\n",
                "\n",
                "    from bluebikes_2019\n",
                "    group by duration\n",
                "    order by riders desc\n",
                ")\n",
                "\n",
                "select dur2018.duration, \n",
                "dur2018.riders as riders2018, \n",
                "dur2019.riders as riders2019,\n",
                "dur2019.riders - dur2018.riders as riders_change,\n",
                "round((dur2019.riders - dur2018.riders)::NUMERIC / dur2018.riders, 4) * 100 || ' %' as riders_percent_change,\n",
                "round(((dur2019.riders - dur2018.riders)::numeric / dur2018.riders) - ((sum(dur2019.riders) over() - sum(dur2018.riders) over()) / sum(dur2018.riders) over()), 4) * 100 || ' %' as pct_change_relative\n",
                "from dur2018\n",
                "join dur2019 on dur2018.duration = dur2019.duration\n",
                "order by "
            ],
            "metadata": {
                "azdata_cell_guid": "fee9cab0-6942-4921-896d-e34dd7aeff00"
            },
            "outputs": [
                {
                    "output_type": "display_data",
                    "data": {
                        "text/html": "(20 row(s) affected)"
                    },
                    "metadata": {}
                },
                {
                    "output_type": "display_data",
                    "data": {
                        "text/html": "Total execution time: 00:00:04.619"
                    },
                    "metadata": {}
                },
                {
                    "output_type": "execute_result",
                    "execution_count": 45,
                    "data": {
                        "application/vnd.dataresource+json": {
                            "schema": {
                                "fields": [
                                    {
                                        "name": "duration"
                                    },
                                    {
                                        "name": "riders2018"
                                    },
                                    {
                                        "name": "riders2019"
                                    },
                                    {
                                        "name": "riders_change"
                                    },
                                    {
                                        "name": "riders_percent_change"
                                    },
                                    {
                                        "name": "pct_change_relative"
                                    }
                                ]
                            },
                            "data": [
                                {
                                    "0": "10to15",
                                    "1": "356463",
                                    "2": "516544",
                                    "3": "160081",
                                    "4": "44.9100 %",
                                    "5": "2.2200 %"
                                },
                                {
                                    "0": "20to25",
                                    "1": "142316",
                                    "2": "206478",
                                    "3": "64162",
                                    "4": "45.0800 %",
                                    "5": "2.3900 %"
                                },
                                {
                                    "0": "25to30",
                                    "1": "88795",
                                    "2": "130301",
                                    "3": "41506",
                                    "4": "46.7400 %",
                                    "5": "4.0500 %"
                                },
                                {
                                    "0": "6hrto12hr",
                                    "1": "1244",
                                    "2": "1405",
                                    "3": "161",
                                    "4": "12.9400 %",
                                    "5": "-29.7500 %"
                                },
                                {
                                    "0": "1hrto2hr",
                                    "1": "45577",
                                    "2": "58847",
                                    "3": "13270",
                                    "4": "29.1200 %",
                                    "5": "-13.5800 %"
                                },
                                {
                                    "0": "5to10",
                                    "1": "524937",
                                    "2": "730680",
                                    "3": "205743",
                                    "4": "39.1900 %",
                                    "5": "-3.5000 %"
                                },
                                {
                                    "0": "5hrto6hr",
                                    "1": "481",
                                    "2": "503",
                                    "3": "22",
                                    "4": "4.5700 %",
                                    "5": "-38.1200 %"
                                },
                                {
                                    "0": "12hrto24hr",
                                    "1": "1115",
                                    "2": "1396",
                                    "3": "281",
                                    "4": "25.2000 %",
                                    "5": "-17.4900 %"
                                },
                                {
                                    "0": "3hrto4hr",
                                    "1": "2304",
                                    "2": "2128",
                                    "3": "-176",
                                    "4": "-7.6400 %",
                                    "5": "-50.3300 %"
                                },
                                {
                                    "0": "2hrto3hr",
                                    "1": "7685",
                                    "2": "7623",
                                    "3": "-62",
                                    "4": "-0.8100 %",
                                    "5": "-43.5000 %"
                                },
                                {
                                    "0": "15to20",
                                    "1": "227597",
                                    "2": "332967",
                                    "3": "105370",
                                    "4": "46.3000 %",
                                    "5": "3.6000 %"
                                },
                                {
                                    "0": "45to50",
                                    "1": "14023",
                                    "2": "19884",
                                    "3": "5861",
                                    "4": "41.8000 %",
                                    "5": "-0.9000 %"
                                },
                                {
                                    "0": "55to60",
                                    "1": "9043",
                                    "2": "12213",
                                    "3": "3170",
                                    "4": "35.0500 %",
                                    "5": "-7.6400 %"
                                },
                                {
                                    "0": "longer",
                                    "1": "7327",
                                    "2": "10365",
                                    "3": "3038",
                                    "4": "41.4600 %",
                                    "5": "-1.2300 %"
                                },
                                {
                                    "0": "4hrto5hr",
                                    "1": "945",
                                    "2": "930",
                                    "3": "-15",
                                    "4": "-1.5900 %",
                                    "5": "-44.2800 %"
                                },
                                {
                                    "0": "35to40",
                                    "1": "30641",
                                    "2": "48030",
                                    "3": "17389",
                                    "4": "56.7500 %",
                                    "5": "14.0600 %"
                                },
                                {
                                    "0": "40to45",
                                    "1": "20901",
                                    "2": "31615",
                                    "3": "10714",
                                    "4": "51.2600 %",
                                    "5": "8.5700 %"
                                },
                                {
                                    "0": "50to55",
                                    "1": "11100",
                                    "2": "14811",
                                    "3": "3711",
                                    "4": "33.4300 %",
                                    "5": "-9.2600 %"
                                },
                                {
                                    "0": "under5",
                                    "1": "225330",
                                    "2": "318936",
                                    "3": "93606",
                                    "4": "41.5400 %",
                                    "5": "-1.1500 %"
                                },
                                {
                                    "0": "30to35",
                                    "1": "49982",
                                    "2": "76881",
                                    "3": "26899",
                                    "4": "53.8200 %",
                                    "5": "11.1200 %"
                                }
                            ]
                        },
                        "text/html": "<table><tr><th>duration</th><th>riders2018</th><th>riders2019</th><th>riders_change</th><th>riders_percent_change</th><th>pct_change_relative</th></tr><tr><td>10to15</td><td>356463</td><td>516544</td><td>160081</td><td>44.9100 %</td><td>2.2200 %</td></tr><tr><td>20to25</td><td>142316</td><td>206478</td><td>64162</td><td>45.0800 %</td><td>2.3900 %</td></tr><tr><td>25to30</td><td>88795</td><td>130301</td><td>41506</td><td>46.7400 %</td><td>4.0500 %</td></tr><tr><td>6hrto12hr</td><td>1244</td><td>1405</td><td>161</td><td>12.9400 %</td><td>-29.7500 %</td></tr><tr><td>1hrto2hr</td><td>45577</td><td>58847</td><td>13270</td><td>29.1200 %</td><td>-13.5800 %</td></tr><tr><td>5to10</td><td>524937</td><td>730680</td><td>205743</td><td>39.1900 %</td><td>-3.5000 %</td></tr><tr><td>5hrto6hr</td><td>481</td><td>503</td><td>22</td><td>4.5700 %</td><td>-38.1200 %</td></tr><tr><td>12hrto24hr</td><td>1115</td><td>1396</td><td>281</td><td>25.2000 %</td><td>-17.4900 %</td></tr><tr><td>3hrto4hr</td><td>2304</td><td>2128</td><td>-176</td><td>-7.6400 %</td><td>-50.3300 %</td></tr><tr><td>2hrto3hr</td><td>7685</td><td>7623</td><td>-62</td><td>-0.8100 %</td><td>-43.5000 %</td></tr><tr><td>15to20</td><td>227597</td><td>332967</td><td>105370</td><td>46.3000 %</td><td>3.6000 %</td></tr><tr><td>45to50</td><td>14023</td><td>19884</td><td>5861</td><td>41.8000 %</td><td>-0.9000 %</td></tr><tr><td>55to60</td><td>9043</td><td>12213</td><td>3170</td><td>35.0500 %</td><td>-7.6400 %</td></tr><tr><td>longer</td><td>7327</td><td>10365</td><td>3038</td><td>41.4600 %</td><td>-1.2300 %</td></tr><tr><td>4hrto5hr</td><td>945</td><td>930</td><td>-15</td><td>-1.5900 %</td><td>-44.2800 %</td></tr><tr><td>35to40</td><td>30641</td><td>48030</td><td>17389</td><td>56.7500 %</td><td>14.0600 %</td></tr><tr><td>40to45</td><td>20901</td><td>31615</td><td>10714</td><td>51.2600 %</td><td>8.5700 %</td></tr><tr><td>50to55</td><td>11100</td><td>14811</td><td>3711</td><td>33.4300 %</td><td>-9.2600 %</td></tr><tr><td>under5</td><td>225330</td><td>318936</td><td>93606</td><td>41.5400 %</td><td>-1.1500 %</td></tr><tr><td>30to35</td><td>49982</td><td>76881</td><td>26899</td><td>53.8200 %</td><td>11.1200 %</td></tr></table>"
                    },
                    "metadata": {}
                }
            ],
            "execution_count": 45
        },
        {
            "cell_type": "code",
            "source": [
                "-- Top 3 Positive and Negative Bike Check-in difference per month\n",
                "\n",
                "with outbikes as (\n",
                "    select\n",
                "    stations.name,\n",
                "    extract(month from start_time) as month_no,\n",
                "    To_Char(start_time, 'Month') as month,\n",
                "    count(start_station_id) as outgoing\n",
                "    from bluebikes_2018 bikes\n",
                "    join bluebikes_stations stations on stations.id = bikes.start_station_id\n",
                "    group by month_no, month, stations.name\n",
                "    order by month_no, month, outgoing desc\n",
                "),\n",
                "\n",
                "inbikes as(\n",
                "    select\n",
                "    stations.name,\n",
                "    extract(month from start_time) as month_no,\n",
                "    To_Char(start_time, 'Month') as month,\n",
                "    count(end_station_id) as incoming\n",
                "    from bluebikes_2018 bikes\n",
                "    join bluebikes_stations stations on stations.id = bikes.end_station_id\n",
                "    group by month_no, month, stations.name\n",
                "    order by month_no, month, incoming desc\n",
                "),\n",
                "\n",
                "positivebikeflow as (\n",
                "    select \n",
                "    row_number() over(partition by outbikes.month order by outbikes.month, sum(inbikes.incoming) - sum(outbikes.outgoing) desc) as rank,\n",
                "    outbikes.month_no as month_no,\n",
                "    outbikes.month as month, \n",
                "    outbikes.name as name, \n",
                "    sum(outbikes.outgoing) as outgoing,\n",
                "    sum(inbikes.incoming) as incoming,\n",
                "    sum(inbikes.incoming) - sum(outbikes.outgoing) as difference\n",
                "    from outbikes\n",
                "    join inbikes on outbikes.name = inbikes.name\n",
                "    group by outbikes.month_no, outbikes.month, outbikes.name\n",
                "    order by outbikes.month_no, outbikes.month, difference desc\n",
                "),\n",
                "\n",
                "negativebikeflow as (\n",
                "    select \n",
                "    row_number() over(partition by outbikes.month order by outbikes.month, sum(inbikes.incoming) - sum(outbikes.outgoing)) as rank,\n",
                "    outbikes.month_no as month_no,\n",
                "    outbikes.month as month,\n",
                "    outbikes.name as name,\n",
                "    sum(outbikes.outgoing) as outgoing,\n",
                "    sum(inbikes.incoming) as incoming,\n",
                "    sum(inbikes.incoming) - sum(outbikes.outgoing) as difference\n",
                "    from outbikes\n",
                "    join inbikes on outbikes.name = inbikes.name\n",
                "    group by outbikes.month_no, outbikes.month, outbikes.name\n",
                "    order by outbikes.month_no, outbikes.month, difference\n",
                ")\n",
                "\n",
                "select * from positivebikeflow\n",
                "where rank in (1,2,3)\n",
                "union all\n",
                "select * from negativebikeflow\n",
                "where rank in (1,2,3)\n",
                "order by month_no, difference desc"
            ],
            "metadata": {
                "azdata_cell_guid": "12d84ec4-27f6-4668-b8a8-8a21cb0b9ac6"
            },
            "outputs": [
                {
                    "output_type": "display_data",
                    "data": {
                        "text/html": "(72 row(s) affected)"
                    },
                    "metadata": {}
                },
                {
                    "output_type": "display_data",
                    "data": {
                        "text/html": "Total execution time: 00:00:04.732"
                    },
                    "metadata": {}
                },
                {
                    "output_type": "execute_result",
                    "execution_count": 198,
                    "data": {
                        "application/vnd.dataresource+json": {
                            "schema": {
                                "fields": [
                                    {
                                        "name": "rank"
                                    },
                                    {
                                        "name": "month_no"
                                    },
                                    {
                                        "name": "month"
                                    },
                                    {
                                        "name": "name"
                                    },
                                    {
                                        "name": "outgoing"
                                    },
                                    {
                                        "name": "incoming"
                                    },
                                    {
                                        "name": "difference"
                                    }
                                ]
                            },
                            "data": [
                                {
                                    "0": "1",
                                    "1": "1.0",
                                    "2": "January  ",
                                    "3": "MIT Stata Center at Vassar St / Main St",
                                    "4": "13968",
                                    "5": "46369",
                                    "6": "32401"
                                },
                                {
                                    "0": "2",
                                    "1": "1.0",
                                    "2": "January  ",
                                    "3": "MIT at Mass Ave / Amherst St",
                                    "4": "18984",
                                    "5": "49635",
                                    "6": "30651"
                                },
                                {
                                    "0": "3",
                                    "1": "1.0",
                                    "2": "January  ",
                                    "3": "Nashua Street at Red Auerbach Way",
                                    "4": "10104",
                                    "5": "37861",
                                    "6": "27757"
                                },
                                {
                                    "0": "3",
                                    "1": "1.0",
                                    "2": "January  ",
                                    "3": "Congress St at Boston City Hall",
                                    "4": "716",
                                    "5": "1040",
                                    "6": "324"
                                },
                                {
                                    "0": "2",
                                    "1": "1.0",
                                    "2": "January  ",
                                    "3": "Roxbury YMCA - Warren St at MLK Blvd",
                                    "4": "456",
                                    "5": "759",
                                    "6": "303"
                                },
                                {
                                    "0": "1",
                                    "1": "1.0",
                                    "2": "January  ",
                                    "3": "Grove Hall Library - 41 Geneva Ave",
                                    "4": "180",
                                    "5": "336",
                                    "6": "156"
                                },
                                {
                                    "0": "1",
                                    "1": "2.0",
                                    "2": "February ",
                                    "3": "MIT Stata Center at Vassar St / Main St",
                                    "4": "21048",
                                    "5": "46369",
                                    "6": "25321"
                                },
                                {
                                    "0": "2",
                                    "1": "2.0",
                                    "2": "February ",
                                    "3": "Nashua Street at Red Auerbach Way",
                                    "4": "14196",
                                    "5": "37861",
                                    "6": "23665"
                                },
                                {
                                    "0": "3",
                                    "1": "2.0",
                                    "2": "February ",
                                    "3": "MIT at Mass Ave / Amherst St",
                                    "4": "26832",
                                    "5": "49635",
                                    "6": "22803"
                                },
                                {
                                    "0": "3",
                                    "1": "2.0",
                                    "2": "February ",
                                    "3": "NCAAA - Walnut Ave at Crawford St",
                                    "4": "348",
                                    "5": "500",
                                    "6": "152"
                                },
                                {
                                    "0": "2",
                                    "1": "2.0",
                                    "2": "February ",
                                    "3": "Congress St at Boston City Hall",
                                    "4": "1100",
                                    "5": "1040",
                                    "6": "-60"
                                },
                                {
                                    "0": "1",
                                    "1": "2.0",
                                    "2": "February ",
                                    "3": "Uphams Corner",
                                    "4": "1177",
                                    "5": "1063",
                                    "6": "-114"
                                },
                                {
                                    "0": "1",
                                    "1": "3.0",
                                    "2": "March    ",
                                    "3": "Nashua Street at Red Auerbach Way",
                                    "4": "12660",
                                    "5": "37861",
                                    "6": "25201"
                                },
                                {
                                    "0": "2",
                                    "1": "3.0",
                                    "2": "March    ",
                                    "3": "MIT Stata Center at Vassar St / Main St",
                                    "4": "22368",
                                    "5": "46369",
                                    "6": "24001"
                                },
                                {
                                    "0": "3",
                                    "1": "3.0",
                                    "2": "March    ",
                                    "3": "MIT at Mass Ave / Amherst St",
                                    "4": "27552",
                                    "5": "49635",
                                    "6": "22083"
                                },
                                {
                                    "0": "3",
                                    "1": "3.0",
                                    "2": "March    ",
                                    "3": "Grove Hall Library - 41 Geneva Ave",
                                    "4": "192",
                                    "5": "336",
                                    "6": "144"
                                },
                                {
                                    "0": "2",
                                    "1": "3.0",
                                    "2": "March    ",
                                    "3": "Uphams Corner",
                                    "4": "968",
                                    "5": "1063",
                                    "6": "95"
                                },
                                {
                                    "0": "1",
                                    "1": "3.0",
                                    "2": "March    ",
                                    "3": "Congress St at Boston City Hall",
                                    "4": "1344",
                                    "5": "1040",
                                    "6": "-304"
                                },
                                {
                                    "0": "1",
                                    "1": "4.0",
                                    "2": "April    ",
                                    "3": "Nashua Street at Red Auerbach Way",
                                    "4": "16884",
                                    "5": "37861",
                                    "6": "20977"
                                },
                                {
                                    "0": "2",
                                    "1": "4.0",
                                    "2": "April    ",
                                    "3": "MIT Stata Center at Vassar St / Main St",
                                    "4": "28212",
                                    "5": "46369",
                                    "6": "18157"
                                },
                                {
                                    "0": "3",
                                    "1": "4.0",
                                    "2": "April    ",
                                    "3": "Boylston St at Fairfield St",
                                    "4": "1528",
                                    "5": "16093",
                                    "6": "14565"
                                },
                                {
                                    "0": "3",
                                    "1": "4.0",
                                    "2": "April    ",
                                    "3": "Roxbury YMCA - Warren St at MLK Blvd",
                                    "4": "780",
                                    "5": "759",
                                    "6": "-21"
                                },
                                {
                                    "0": "2",
                                    "1": "4.0",
                                    "2": "April    ",
                                    "3": "NCAAA - Walnut Ave at Crawford St",
                                    "4": "576",
                                    "5": "500",
                                    "6": "-76"
                                },
                                {
                                    "0": "1",
                                    "1": "4.0",
                                    "2": "April    ",
                                    "3": "359 Broadway - Broadway at Fayette Street",
                                    "4": "10548",
                                    "5": "9568",
                                    "6": "-980"
                                },
                                {
                                    "0": "1",
                                    "1": "5.0",
                                    "2": "May      ",
                                    "3": "Boylston St at Massachusetts Ave",
                                    "4": "12856",
                                    "5": "15633",
                                    "6": "2777"
                                },
                                {
                                    "0": "2",
                                    "1": "5.0",
                                    "2": "May      ",
                                    "3": "Nashua Street at Red Auerbach Way",
                                    "4": "35124",
                                    "5": "37861",
                                    "6": "2737"
                                },
                                {
                                    "0": "3",
                                    "1": "5.0",
                                    "2": "May      ",
                                    "3": "MIT Stata Center at Vassar St / Main St",
                                    "4": "43644",
                                    "5": "46369",
                                    "6": "2725"
                                },
                                {
                                    "0": "3",
                                    "1": "5.0",
                                    "2": "May      ",
                                    "3": "Charles Circle - Charles St at Cambridge St",
                                    "4": "28094",
                                    "5": "19899",
                                    "6": "-8195"
                                },
                                {
                                    "0": "2",
                                    "1": "5.0",
                                    "2": "May      ",
                                    "3": "South Station - 700 Atlantic Ave",
                                    "4": "49476",
                                    "5": "33895",
                                    "6": "-15581"
                                },
                                {
                                    "0": "1",
                                    "1": "5.0",
                                    "2": "May      ",
                                    "3": "MIT at Mass Ave / Amherst St",
                                    "4": "68364",
                                    "5": "49635",
                                    "6": "-18729"
                                },
                                {
                                    "0": "1",
                                    "1": "6.0",
                                    "2": "June     ",
                                    "3": "Northeastern University - North Parking Lot",
                                    "4": "8811",
                                    "5": "9281",
                                    "6": "470"
                                },
                                {
                                    "0": "2",
                                    "1": "6.0",
                                    "2": "June     ",
                                    "3": "Uphams Corner T Stop - Magnolia St at Dudley St",
                                    "4": "192",
                                    "5": "404",
                                    "6": "212"
                                },
                                {
                                    "0": "3",
                                    "1": "6.0",
                                    "2": "June     ",
                                    "3": "Kendall Street",
                                    "4": "9096",
                                    "5": "9280",
                                    "6": "184"
                                },
                                {
                                    "0": "3",
                                    "1": "6.0",
                                    "2": "June     ",
                                    "3": "MIT at Mass Ave / Amherst St",
                                    "4": "61488",
                                    "5": "49635",
                                    "6": "-11853"
                                },
                                {
                                    "0": "2",
                                    "1": "6.0",
                                    "2": "June     ",
                                    "3": "Boston City Hall - 28 State St",
                                    "4": "34212",
                                    "5": "21585",
                                    "6": "-12627"
                                },
                                {
                                    "0": "1",
                                    "1": "6.0",
                                    "2": "June     ",
                                    "3": "South Station - 700 Atlantic Ave",
                                    "4": "52860",
                                    "5": "33895",
                                    "6": "-18965"
                                },
                                {
                                    "0": "1",
                                    "1": "7.0",
                                    "2": "July     ",
                                    "3": "Silber Way",
                                    "4": "3216",
                                    "5": "7523",
                                    "6": "4307"
                                },
                                {
                                    "0": "2",
                                    "1": "7.0",
                                    "2": "July     ",
                                    "3": "Brookline Village - Station Street at MBTA",
                                    "4": "294",
                                    "5": "1563",
                                    "6": "1269"
                                },
                                {
                                    "0": "3",
                                    "1": "7.0",
                                    "2": "July     ",
                                    "3": "Assembly Square T",
                                    "4": "24",
                                    "5": "1065",
                                    "6": "1041"
                                },
                                {
                                    "0": "3",
                                    "1": "7.0",
                                    "2": "July     ",
                                    "3": "Central Square at Mass Ave / Essex St",
                                    "4": "59664",
                                    "5": "37270",
                                    "6": "-22394"
                                },
                                {
                                    "0": "2",
                                    "1": "7.0",
                                    "2": "July     ",
                                    "3": "MIT at Mass Ave / Amherst St",
                                    "4": "73860",
                                    "5": "49635",
                                    "6": "-24225"
                                },
                                {
                                    "0": "1",
                                    "1": "7.0",
                                    "2": "July     ",
                                    "3": "South Station - 700 Atlantic Ave",
                                    "4": "60792",
                                    "5": "33895",
                                    "6": "-26897"
                                },
                                {
                                    "0": "1",
                                    "1": "8.0",
                                    "2": "August   ",
                                    "3": "St Mary's",
                                    "4": "2150",
                                    "5": "2732",
                                    "6": "582"
                                },
                                {
                                    "0": "2",
                                    "1": "8.0",
                                    "2": "August   ",
                                    "3": "Washington St at Melnea Cass Blvd",
                                    "4": "1656",
                                    "5": "1953",
                                    "6": "297"
                                },
                                {
                                    "0": "3",
                                    "1": "8.0",
                                    "2": "August   ",
                                    "3": "Community Path at Cedar Street",
                                    "4": "1734",
                                    "5": "1948",
                                    "6": "214"
                                },
                                {
                                    "0": "3",
                                    "1": "8.0",
                                    "2": "August   ",
                                    "3": "Central Square at Mass Ave / Essex St",
                                    "4": "59136",
                                    "5": "37270",
                                    "6": "-21866"
                                },
                                {
                                    "0": "2",
                                    "1": "8.0",
                                    "2": "August   ",
                                    "3": "MIT at Mass Ave / Amherst St",
                                    "4": "73620",
                                    "5": "49635",
                                    "6": "-23985"
                                },
                                {
                                    "0": "1",
                                    "1": "8.0",
                                    "2": "August   ",
                                    "3": "South Station - 700 Atlantic Ave",
                                    "4": "61380",
                                    "5": "33895",
                                    "6": "-27485"
                                },
                                {
                                    "0": "1",
                                    "1": "9.0",
                                    "2": "September",
                                    "3": "Post Office Square",
                                    "4": "7288",
                                    "5": "8687",
                                    "6": "1399"
                                },
                                {
                                    "0": "2",
                                    "1": "9.0",
                                    "2": "September",
                                    "3": "Main St at Baldwin St",
                                    "4": "400",
                                    "5": "657",
                                    "6": "257"
                                },
                                {
                                    "0": "3",
                                    "1": "9.0",
                                    "2": "September",
                                    "3": "Burlington Ave at Brookline Ave",
                                    "4": "3976",
                                    "5": "4143",
                                    "6": "167"
                                },
                                {
                                    "0": "3",
                                    "1": "9.0",
                                    "2": "September",
                                    "3": "MIT Pacific St at Purrington St",
                                    "4": "46824",
                                    "5": "27490",
                                    "6": "-19334"
                                },
                                {
                                    "0": "2",
                                    "1": "9.0",
                                    "2": "September",
                                    "3": "Central Square at Mass Ave / Essex St",
                                    "4": "58128",
                                    "5": "37270",
                                    "6": "-20858"
                                },
                                {
                                    "0": "1",
                                    "1": "9.0",
                                    "2": "September",
                                    "3": "MIT at Mass Ave / Amherst St",
                                    "4": "89640",
                                    "5": "49635",
                                    "6": "-40005"
                                },
                                {
                                    "0": "1",
                                    "1": "10.0",
                                    "2": "October  ",
                                    "3": "Cross St at Hanover St",
                                    "4": "8745",
                                    "5": "17095",
                                    "6": "8350"
                                },
                                {
                                    "0": "2",
                                    "1": "10.0",
                                    "2": "October  ",
                                    "3": "Landmark Center - Brookline Ave at Park Dr",
                                    "4": "2672",
                                    "5": "8130",
                                    "6": "5458"
                                },
                                {
                                    "0": "3",
                                    "1": "10.0",
                                    "2": "October  ",
                                    "3": "Murphy Skating Rink - 1880 Day Blvd",
                                    "4": "2808",
                                    "5": "5640",
                                    "6": "2832"
                                },
                                {
                                    "0": "3",
                                    "1": "10.0",
                                    "2": "October  ",
                                    "3": "MIT Pacific St at Purrington St",
                                    "4": "39744",
                                    "5": "27490",
                                    "6": "-12254"
                                },
                                {
                                    "0": "2",
                                    "1": "10.0",
                                    "2": "October  ",
                                    "3": "MIT Stata Center at Vassar St / Main St",
                                    "4": "61740",
                                    "5": "46369",
                                    "6": "-15371"
                                },
                                {
                                    "0": "1",
                                    "1": "10.0",
                                    "2": "October  ",
                                    "3": "MIT at Mass Ave / Amherst St",
                                    "4": "75852",
                                    "5": "49635",
                                    "6": "-26217"
                                },
                                {
                                    "0": "1",
                                    "1": "11.0",
                                    "2": "November ",
                                    "3": "Copley Square - Dartmouth St at Boylston St",
                                    "4": "12012",
                                    "5": "28325",
                                    "6": "16313"
                                },
                                {
                                    "0": "2",
                                    "1": "11.0",
                                    "2": "November ",
                                    "3": "Nashua Street at Red Auerbach Way",
                                    "4": "22812",
                                    "5": "37861",
                                    "6": "15049"
                                },
                                {
                                    "0": "3",
                                    "1": "11.0",
                                    "2": "November ",
                                    "3": "Cross St at Hanover St",
                                    "4": "2310",
                                    "5": "17095",
                                    "6": "14785"
                                },
                                {
                                    "0": "3",
                                    "1": "11.0",
                                    "2": "November ",
                                    "3": "MIT at Mass Ave / Amherst St",
                                    "4": "50952",
                                    "5": "49635",
                                    "6": "-1317"
                                },
                                {
                                    "0": "2",
                                    "1": "11.0",
                                    "2": "November ",
                                    "3": "MIT Pacific St at Purrington St",
                                    "4": "29472",
                                    "5": "27490",
                                    "6": "-1982"
                                },
                                {
                                    "0": "1",
                                    "1": "11.0",
                                    "2": "November ",
                                    "3": "Commonwealth Ave at Agganis Way",
                                    "4": "13824",
                                    "5": "11186",
                                    "6": "-2638"
                                },
                                {
                                    "0": "1",
                                    "1": "12.0",
                                    "2": "December ",
                                    "3": "Nashua Street at Red Auerbach Way",
                                    "4": "16248",
                                    "5": "37861",
                                    "6": "21613"
                                },
                                {
                                    "0": "2",
                                    "1": "12.0",
                                    "2": "December ",
                                    "3": "MIT Stata Center at Vassar St / Main St",
                                    "4": "27252",
                                    "5": "46369",
                                    "6": "19117"
                                },
                                {
                                    "0": "3",
                                    "1": "12.0",
                                    "2": "December ",
                                    "3": "MIT at Mass Ave / Amherst St",
                                    "4": "32364",
                                    "5": "49635",
                                    "6": "17271"
                                },
                                {
                                    "0": "3",
                                    "1": "12.0",
                                    "2": "December ",
                                    "3": "Ames St at Broadway",
                                    "4": "1263",
                                    "5": "874",
                                    "6": "-389"
                                },
                                {
                                    "0": "2",
                                    "1": "12.0",
                                    "2": "December ",
                                    "3": "Boylston St at Jersey St",
                                    "4": "2391",
                                    "5": "1807",
                                    "6": "-584"
                                },
                                {
                                    "0": "1",
                                    "1": "12.0",
                                    "2": "December ",
                                    "3": "Ring Rd",
                                    "4": "1743",
                                    "5": "964",
                                    "6": "-779"
                                }
                            ]
                        },
                        "text/html": "<table><tr><th>rank</th><th>month_no</th><th>month</th><th>name</th><th>outgoing</th><th>incoming</th><th>difference</th></tr><tr><td>1</td><td>1.0</td><td>January  </td><td>MIT Stata Center at Vassar St / Main St</td><td>13968</td><td>46369</td><td>32401</td></tr><tr><td>2</td><td>1.0</td><td>January  </td><td>MIT at Mass Ave / Amherst St</td><td>18984</td><td>49635</td><td>30651</td></tr><tr><td>3</td><td>1.0</td><td>January  </td><td>Nashua Street at Red Auerbach Way</td><td>10104</td><td>37861</td><td>27757</td></tr><tr><td>3</td><td>1.0</td><td>January  </td><td>Congress St at Boston City Hall</td><td>716</td><td>1040</td><td>324</td></tr><tr><td>2</td><td>1.0</td><td>January  </td><td>Roxbury YMCA - Warren St at MLK Blvd</td><td>456</td><td>759</td><td>303</td></tr><tr><td>1</td><td>1.0</td><td>January  </td><td>Grove Hall Library - 41 Geneva Ave</td><td>180</td><td>336</td><td>156</td></tr><tr><td>1</td><td>2.0</td><td>February </td><td>MIT Stata Center at Vassar St / Main St</td><td>21048</td><td>46369</td><td>25321</td></tr><tr><td>2</td><td>2.0</td><td>February </td><td>Nashua Street at Red Auerbach Way</td><td>14196</td><td>37861</td><td>23665</td></tr><tr><td>3</td><td>2.0</td><td>February </td><td>MIT at Mass Ave / Amherst St</td><td>26832</td><td>49635</td><td>22803</td></tr><tr><td>3</td><td>2.0</td><td>February </td><td>NCAAA - Walnut Ave at Crawford St</td><td>348</td><td>500</td><td>152</td></tr><tr><td>2</td><td>2.0</td><td>February </td><td>Congress St at Boston City Hall</td><td>1100</td><td>1040</td><td>-60</td></tr><tr><td>1</td><td>2.0</td><td>February </td><td>Uphams Corner</td><td>1177</td><td>1063</td><td>-114</td></tr><tr><td>1</td><td>3.0</td><td>March    </td><td>Nashua Street at Red Auerbach Way</td><td>12660</td><td>37861</td><td>25201</td></tr><tr><td>2</td><td>3.0</td><td>March    </td><td>MIT Stata Center at Vassar St / Main St</td><td>22368</td><td>46369</td><td>24001</td></tr><tr><td>3</td><td>3.0</td><td>March    </td><td>MIT at Mass Ave / Amherst St</td><td>27552</td><td>49635</td><td>22083</td></tr><tr><td>3</td><td>3.0</td><td>March    </td><td>Grove Hall Library - 41 Geneva Ave</td><td>192</td><td>336</td><td>144</td></tr><tr><td>2</td><td>3.0</td><td>March    </td><td>Uphams Corner</td><td>968</td><td>1063</td><td>95</td></tr><tr><td>1</td><td>3.0</td><td>March    </td><td>Congress St at Boston City Hall</td><td>1344</td><td>1040</td><td>-304</td></tr><tr><td>1</td><td>4.0</td><td>April    </td><td>Nashua Street at Red Auerbach Way</td><td>16884</td><td>37861</td><td>20977</td></tr><tr><td>2</td><td>4.0</td><td>April    </td><td>MIT Stata Center at Vassar St / Main St</td><td>28212</td><td>46369</td><td>18157</td></tr><tr><td>3</td><td>4.0</td><td>April    </td><td>Boylston St at Fairfield St</td><td>1528</td><td>16093</td><td>14565</td></tr><tr><td>3</td><td>4.0</td><td>April    </td><td>Roxbury YMCA - Warren St at MLK Blvd</td><td>780</td><td>759</td><td>-21</td></tr><tr><td>2</td><td>4.0</td><td>April    </td><td>NCAAA - Walnut Ave at Crawford St</td><td>576</td><td>500</td><td>-76</td></tr><tr><td>1</td><td>4.0</td><td>April    </td><td>359 Broadway - Broadway at Fayette Street</td><td>10548</td><td>9568</td><td>-980</td></tr><tr><td>1</td><td>5.0</td><td>May      </td><td>Boylston St at Massachusetts Ave</td><td>12856</td><td>15633</td><td>2777</td></tr><tr><td>2</td><td>5.0</td><td>May      </td><td>Nashua Street at Red Auerbach Way</td><td>35124</td><td>37861</td><td>2737</td></tr><tr><td>3</td><td>5.0</td><td>May      </td><td>MIT Stata Center at Vassar St / Main St</td><td>43644</td><td>46369</td><td>2725</td></tr><tr><td>3</td><td>5.0</td><td>May      </td><td>Charles Circle - Charles St at Cambridge St</td><td>28094</td><td>19899</td><td>-8195</td></tr><tr><td>2</td><td>5.0</td><td>May      </td><td>South Station - 700 Atlantic Ave</td><td>49476</td><td>33895</td><td>-15581</td></tr><tr><td>1</td><td>5.0</td><td>May      </td><td>MIT at Mass Ave / Amherst St</td><td>68364</td><td>49635</td><td>-18729</td></tr><tr><td>1</td><td>6.0</td><td>June     </td><td>Northeastern University - North Parking Lot</td><td>8811</td><td>9281</td><td>470</td></tr><tr><td>2</td><td>6.0</td><td>June     </td><td>Uphams Corner T Stop - Magnolia St at Dudley St</td><td>192</td><td>404</td><td>212</td></tr><tr><td>3</td><td>6.0</td><td>June     </td><td>Kendall Street</td><td>9096</td><td>9280</td><td>184</td></tr><tr><td>3</td><td>6.0</td><td>June     </td><td>MIT at Mass Ave / Amherst St</td><td>61488</td><td>49635</td><td>-11853</td></tr><tr><td>2</td><td>6.0</td><td>June     </td><td>Boston City Hall - 28 State St</td><td>34212</td><td>21585</td><td>-12627</td></tr><tr><td>1</td><td>6.0</td><td>June     </td><td>South Station - 700 Atlantic Ave</td><td>52860</td><td>33895</td><td>-18965</td></tr><tr><td>1</td><td>7.0</td><td>July     </td><td>Silber Way</td><td>3216</td><td>7523</td><td>4307</td></tr><tr><td>2</td><td>7.0</td><td>July     </td><td>Brookline Village - Station Street at MBTA</td><td>294</td><td>1563</td><td>1269</td></tr><tr><td>3</td><td>7.0</td><td>July     </td><td>Assembly Square T</td><td>24</td><td>1065</td><td>1041</td></tr><tr><td>3</td><td>7.0</td><td>July     </td><td>Central Square at Mass Ave / Essex St</td><td>59664</td><td>37270</td><td>-22394</td></tr><tr><td>2</td><td>7.0</td><td>July     </td><td>MIT at Mass Ave / Amherst St</td><td>73860</td><td>49635</td><td>-24225</td></tr><tr><td>1</td><td>7.0</td><td>July     </td><td>South Station - 700 Atlantic Ave</td><td>60792</td><td>33895</td><td>-26897</td></tr><tr><td>1</td><td>8.0</td><td>August   </td><td>St Mary's</td><td>2150</td><td>2732</td><td>582</td></tr><tr><td>2</td><td>8.0</td><td>August   </td><td>Washington St at Melnea Cass Blvd</td><td>1656</td><td>1953</td><td>297</td></tr><tr><td>3</td><td>8.0</td><td>August   </td><td>Community Path at Cedar Street</td><td>1734</td><td>1948</td><td>214</td></tr><tr><td>3</td><td>8.0</td><td>August   </td><td>Central Square at Mass Ave / Essex St</td><td>59136</td><td>37270</td><td>-21866</td></tr><tr><td>2</td><td>8.0</td><td>August   </td><td>MIT at Mass Ave / Amherst St</td><td>73620</td><td>49635</td><td>-23985</td></tr><tr><td>1</td><td>8.0</td><td>August   </td><td>South Station - 700 Atlantic Ave</td><td>61380</td><td>33895</td><td>-27485</td></tr><tr><td>1</td><td>9.0</td><td>September</td><td>Post Office Square</td><td>7288</td><td>8687</td><td>1399</td></tr><tr><td>2</td><td>9.0</td><td>September</td><td>Main St at Baldwin St</td><td>400</td><td>657</td><td>257</td></tr><tr><td>3</td><td>9.0</td><td>September</td><td>Burlington Ave at Brookline Ave</td><td>3976</td><td>4143</td><td>167</td></tr><tr><td>3</td><td>9.0</td><td>September</td><td>MIT Pacific St at Purrington St</td><td>46824</td><td>27490</td><td>-19334</td></tr><tr><td>2</td><td>9.0</td><td>September</td><td>Central Square at Mass Ave / Essex St</td><td>58128</td><td>37270</td><td>-20858</td></tr><tr><td>1</td><td>9.0</td><td>September</td><td>MIT at Mass Ave / Amherst St</td><td>89640</td><td>49635</td><td>-40005</td></tr><tr><td>1</td><td>10.0</td><td>October  </td><td>Cross St at Hanover St</td><td>8745</td><td>17095</td><td>8350</td></tr><tr><td>2</td><td>10.0</td><td>October  </td><td>Landmark Center - Brookline Ave at Park Dr</td><td>2672</td><td>8130</td><td>5458</td></tr><tr><td>3</td><td>10.0</td><td>October  </td><td>Murphy Skating Rink - 1880 Day Blvd</td><td>2808</td><td>5640</td><td>2832</td></tr><tr><td>3</td><td>10.0</td><td>October  </td><td>MIT Pacific St at Purrington St</td><td>39744</td><td>27490</td><td>-12254</td></tr><tr><td>2</td><td>10.0</td><td>October  </td><td>MIT Stata Center at Vassar St / Main St</td><td>61740</td><td>46369</td><td>-15371</td></tr><tr><td>1</td><td>10.0</td><td>October  </td><td>MIT at Mass Ave / Amherst St</td><td>75852</td><td>49635</td><td>-26217</td></tr><tr><td>1</td><td>11.0</td><td>November </td><td>Copley Square - Dartmouth St at Boylston St</td><td>12012</td><td>28325</td><td>16313</td></tr><tr><td>2</td><td>11.0</td><td>November </td><td>Nashua Street at Red Auerbach Way</td><td>22812</td><td>37861</td><td>15049</td></tr><tr><td>3</td><td>11.0</td><td>November </td><td>Cross St at Hanover St</td><td>2310</td><td>17095</td><td>14785</td></tr><tr><td>3</td><td>11.0</td><td>November </td><td>MIT at Mass Ave / Amherst St</td><td>50952</td><td>49635</td><td>-1317</td></tr><tr><td>2</td><td>11.0</td><td>November </td><td>MIT Pacific St at Purrington St</td><td>29472</td><td>27490</td><td>-1982</td></tr><tr><td>1</td><td>11.0</td><td>November </td><td>Commonwealth Ave at Agganis Way</td><td>13824</td><td>11186</td><td>-2638</td></tr><tr><td>1</td><td>12.0</td><td>December </td><td>Nashua Street at Red Auerbach Way</td><td>16248</td><td>37861</td><td>21613</td></tr><tr><td>2</td><td>12.0</td><td>December </td><td>MIT Stata Center at Vassar St / Main St</td><td>27252</td><td>46369</td><td>19117</td></tr><tr><td>3</td><td>12.0</td><td>December </td><td>MIT at Mass Ave / Amherst St</td><td>32364</td><td>49635</td><td>17271</td></tr><tr><td>3</td><td>12.0</td><td>December </td><td>Ames St at Broadway</td><td>1263</td><td>874</td><td>-389</td></tr><tr><td>2</td><td>12.0</td><td>December </td><td>Boylston St at Jersey St</td><td>2391</td><td>1807</td><td>-584</td></tr><tr><td>1</td><td>12.0</td><td>December </td><td>Ring Rd</td><td>1743</td><td>964</td><td>-779</td></tr></table>"
                    },
                    "metadata": {}
                }
            ],
            "execution_count": 198
        },
        {
            "cell_type": "code",
            "source": [
                ""
            ],
            "metadata": {
                "azdata_cell_guid": "35694c8b-57e9-4662-9cd9-2d8d501f584a"
            },
            "outputs": [],
            "execution_count": null
        },
        {
            "cell_type": "code",
            "source": [
                ""
            ],
            "metadata": {
                "azdata_cell_guid": "4fc26ddb-7fdf-43ec-a9b7-e0148a4c5331"
            },
            "outputs": [],
            "execution_count": null
        },
        {
            "cell_type": "code",
            "source": [
                ""
            ],
            "metadata": {
                "azdata_cell_guid": "7153a2a0-1cfe-4625-b8e5-6d3a238f93dc"
            },
            "outputs": [],
            "execution_count": null
        },
        {
            "cell_type": "code",
            "source": [
                ""
            ],
            "metadata": {
                "azdata_cell_guid": "acd58cb1-a09c-461c-89b8-507190dd0534"
            },
            "outputs": [],
            "execution_count": null
        },
        {
            "cell_type": "code",
            "source": [
                ""
            ],
            "metadata": {
                "azdata_cell_guid": "f72861c4-7be0-4b32-b404-c68cfe258c03"
            },
            "outputs": [],
            "execution_count": null
        },
        {
            "cell_type": "code",
            "source": [
                ""
            ],
            "metadata": {
                "azdata_cell_guid": "1caa2867-1c04-4f0d-bbb8-537e1100b916"
            },
            "outputs": [],
            "execution_count": null
        },
        {
            "cell_type": "code",
            "source": [
                ""
            ],
            "metadata": {
                "azdata_cell_guid": "7e41f664-171b-4515-b595-181b6aa85e00"
            },
            "outputs": [],
            "execution_count": null
        },
        {
            "cell_type": "code",
            "source": [
                ""
            ],
            "metadata": {
                "azdata_cell_guid": "fc9b28db-e3aa-46d7-a5b2-db1616438f1d"
            },
            "outputs": [],
            "execution_count": null
        },
        {
            "cell_type": "code",
            "source": [
                ""
            ],
            "metadata": {
                "azdata_cell_guid": "ed8baad7-c990-4cee-9122-bd9209156c53"
            },
            "outputs": [],
            "execution_count": null
        },
        {
            "cell_type": "code",
            "source": [
                ""
            ],
            "metadata": {
                "azdata_cell_guid": "08485c64-7ef8-4d9a-9cbd-39ff36b076a8"
            },
            "outputs": [],
            "execution_count": null
        },
        {
            "cell_type": "code",
            "source": [
                ""
            ],
            "metadata": {
                "azdata_cell_guid": "b6bf3586-aaa4-4043-8b33-74d27b7b67af"
            },
            "outputs": [],
            "execution_count": null
        },
        {
            "cell_type": "code",
            "source": [
                ""
            ],
            "metadata": {
                "azdata_cell_guid": "978b5e58-3645-4750-870b-650061184bd3"
            },
            "outputs": [],
            "execution_count": null
        }
    ]
}