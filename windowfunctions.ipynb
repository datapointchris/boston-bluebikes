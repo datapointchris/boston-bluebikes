{
    "metadata": {
        "kernelspec": {
            "name": "SQL",
            "display_name": "SQL",
            "language": "sql"
        },
        "language_info": {
            "name": "sql",
            "version": ""
        },
        "extensions": {
            "azuredatastudio": {
                "version": 1,
                "views": []
            }
        }
    },
    "nbformat_minor": 2,
    "nbformat": 4,
    "cells": [
        {
            "cell_type": "code",
            "source": [
                "select *\n",
                "from bluebikes_2018\n",
                "limit 5"
            ],
            "metadata": {
                "azdata_cell_guid": "1c8f73e3-fa47-45f8-804b-1e32e11c9bce",
                "extensions": {
                    "azuredatastudio": {
                        "views": []
                    }
                }
            },
            "outputs": [
                {
                    "output_type": "display_data",
                    "data": {
                        "text/html": "(5 row(s) affected)"
                    },
                    "metadata": {}
                },
                {
                    "output_type": "display_data",
                    "data": {
                        "text/html": "Total execution time: 00:00:00.177"
                    },
                    "metadata": {}
                },
                {
                    "output_type": "execute_result",
                    "execution_count": 1,
                    "data": {
                        "application/vnd.dataresource+json": {
                            "schema": {
                                "fields": [
                                    {
                                        "name": "bike_id"
                                    },
                                    {
                                        "name": "start_time"
                                    },
                                    {
                                        "name": "end_time"
                                    },
                                    {
                                        "name": "start_station_id"
                                    },
                                    {
                                        "name": "end_station_id"
                                    },
                                    {
                                        "name": "user_type"
                                    },
                                    {
                                        "name": "user_birth_year"
                                    },
                                    {
                                        "name": "user_gender"
                                    },
                                    {
                                        "name": "id"
                                    }
                                ]
                            },
                            "data": [
                                {
                                    "0": "2749",
                                    "1": "2018-10-01T00:01:57.186000",
                                    "2": "2018-10-01T00:06:34.232000",
                                    "3": "67",
                                    "4": "189",
                                    "5": "Subscriber",
                                    "6": "1996",
                                    "7": "1",
                                    "8": "1"
                                },
                                {
                                    "0": "3416",
                                    "1": "2018-10-01T00:03:22.310000",
                                    "2": "2018-10-01T00:19:11.505000",
                                    "3": "45",
                                    "4": "103",
                                    "5": "Subscriber",
                                    "6": "1992",
                                    "7": "1",
                                    "8": "2"
                                },
                                {
                                    "0": "3647",
                                    "1": "2018-10-01T00:05:49.220000",
                                    "2": "2018-10-01T00:51:18.540000",
                                    "3": "160",
                                    "4": "160",
                                    "5": "Customer",
                                    "6": "1969",
                                    "7": "0",
                                    "8": "3"
                                },
                                {
                                    "0": "3673",
                                    "1": "2018-10-01T00:06:21.292000",
                                    "2": "2018-10-01T00:49:45.876000",
                                    "3": "160",
                                    "4": "160",
                                    "5": "Customer",
                                    "6": "1969",
                                    "7": "0",
                                    "8": "4"
                                },
                                {
                                    "0": "3065",
                                    "1": "2018-10-01T00:06:46.653000",
                                    "2": "2018-10-01T00:20:22.714000",
                                    "3": "4",
                                    "4": "190",
                                    "5": "Subscriber",
                                    "6": "1998",
                                    "7": "2",
                                    "8": "5"
                                }
                            ]
                        },
                        "text/html": "<table><tr><th>bike_id</th><th>start_time</th><th>end_time</th><th>start_station_id</th><th>end_station_id</th><th>user_type</th><th>user_birth_year</th><th>user_gender</th><th>id</th></tr><tr><td>2749</td><td>2018-10-01T00:01:57.186000</td><td>2018-10-01T00:06:34.232000</td><td>67</td><td>189</td><td>Subscriber</td><td>1996</td><td>1</td><td>1</td></tr><tr><td>3416</td><td>2018-10-01T00:03:22.310000</td><td>2018-10-01T00:19:11.505000</td><td>45</td><td>103</td><td>Subscriber</td><td>1992</td><td>1</td><td>2</td></tr><tr><td>3647</td><td>2018-10-01T00:05:49.220000</td><td>2018-10-01T00:51:18.540000</td><td>160</td><td>160</td><td>Customer</td><td>1969</td><td>0</td><td>3</td></tr><tr><td>3673</td><td>2018-10-01T00:06:21.292000</td><td>2018-10-01T00:49:45.876000</td><td>160</td><td>160</td><td>Customer</td><td>1969</td><td>0</td><td>4</td></tr><tr><td>3065</td><td>2018-10-01T00:06:46.653000</td><td>2018-10-01T00:20:22.714000</td><td>4</td><td>190</td><td>Subscriber</td><td>1998</td><td>2</td><td>5</td></tr></table>"
                    },
                    "metadata": {}
                }
            ],
            "execution_count": 1
        },
        {
            "cell_type": "code",
            "source": [
                "\n",
                "create temp table station_group as \n",
                "select\n",
                "start_station_id as id,\n",
                "count(1) as riders\n",
                "-- sum(1) as sum_riders,\n",
                "-- avg(1) as avg_riders\n",
                "from bluebikes_2018\n",
                "group by start_station_id"
            ],
            "metadata": {
                "azdata_cell_guid": "5e3bf053-8ac1-4661-b844-59f2570348ce",
                "extensions": {
                    "azuredatastudio": {
                        "views": []
                    }
                }
            },
            "outputs": [
                {
                    "output_type": "error",
                    "ename": "",
                    "evalue": "syntax error at or near \"if\"",
                    "traceback": []
                },
                {
                    "output_type": "display_data",
                    "data": {
                        "text/html": "Total execution time: 00:00:00.036"
                    },
                    "metadata": {}
                }
            ],
            "execution_count": 15
        },
        {
            "cell_type": "code",
            "source": [
                "select * from station_group\n",
                "limit 5"
            ],
            "metadata": {
                "azdata_cell_guid": "96a6f218-4b9d-41db-97ed-c5931bf6d9c9",
                "extensions": {
                    "azuredatastudio": {
                        "views": []
                    }
                }
            },
            "outputs": [
                {
                    "output_type": "display_data",
                    "data": {
                        "text/html": "(5 row(s) affected)"
                    },
                    "metadata": {}
                },
                {
                    "output_type": "display_data",
                    "data": {
                        "text/html": "Total execution time: 00:00:00.174"
                    },
                    "metadata": {}
                },
                {
                    "output_type": "execute_result",
                    "execution_count": 9,
                    "data": {
                        "application/vnd.dataresource+json": {
                            "schema": {
                                "fields": [
                                    {
                                        "name": "start_station_id"
                                    },
                                    {
                                        "name": "riders"
                                    }
                                ]
                            },
                            "data": [
                                {
                                    "0": "1",
                                    "1": "157"
                                },
                                {
                                    "0": "3",
                                    "1": "6293"
                                },
                                {
                                    "0": "4",
                                    "1": "10279"
                                },
                                {
                                    "0": "5",
                                    "1": "9144"
                                },
                                {
                                    "0": "6",
                                    "1": "16633"
                                }
                            ]
                        },
                        "text/html": "<table><tr><th>start_station_id</th><th>riders</th></tr><tr><td>1</td><td>157</td></tr><tr><td>3</td><td>6293</td></tr><tr><td>4</td><td>10279</td></tr><tr><td>5</td><td>9144</td></tr><tr><td>6</td><td>16633</td></tr></table>"
                    },
                    "metadata": {}
                }
            ],
            "execution_count": 9
        },
        {
            "cell_type": "code",
            "source": [
                "select \n",
                "count(riders) as stations,\n",
                "sum(riders),\n",
                "avg(riders),\n",
                "sum(riders) / count(riders) as myavg\n",
                "\n",
                "\n",
                "from station_group"
            ],
            "metadata": {
                "azdata_cell_guid": "0da2c29f-3f58-4d20-b3b4-e56690b94420",
                "extensions": {
                    "azuredatastudio": {
                        "views": []
                    }
                }
            },
            "outputs": [
                {
                    "output_type": "display_data",
                    "data": {
                        "text/html": "(1 row(s) affected)"
                    },
                    "metadata": {}
                },
                {
                    "output_type": "display_data",
                    "data": {
                        "text/html": "Total execution time: 00:00:00.178"
                    },
                    "metadata": {}
                },
                {
                    "output_type": "execute_result",
                    "execution_count": 27,
                    "data": {
                        "application/vnd.dataresource+json": {
                            "schema": {
                                "fields": [
                                    {
                                        "name": "stations"
                                    },
                                    {
                                        "name": "sum"
                                    },
                                    {
                                        "name": "avg"
                                    },
                                    {
                                        "name": "myavg"
                                    }
                                ]
                            },
                            "data": [
                                {
                                    "0": "315",
                                    "1": "1767806",
                                    "2": "5612.0825396825396825",
                                    "3": "5612.0825396825396825"
                                }
                            ]
                        },
                        "text/html": "<table><tr><th>stations</th><th>sum</th><th>avg</th><th>myavg</th></tr><tr><td>315</td><td>1767806</td><td>5612.0825396825396825</td><td>5612.0825396825396825</td></tr></table>"
                    },
                    "metadata": {}
                }
            ],
            "execution_count": 27
        },
        {
            "cell_type": "code",
            "source": [
                "SELECT\n",
                "start_station_id,\n",
                "sum(riders) as riders,\n",
                "avg(sum(riders)) over() as avg_riders,\n",
                "sum(sum(riders)) over() as total_riders,\n",
                "sum(count(riders)) over() as stations\n",
                "from station_group\n",
                "group by start_station_id\n",
                "order by start_station_id\n",
                "limit 5"
            ],
            "metadata": {
                "azdata_cell_guid": "0ff8e3f4-21fa-4440-9eae-b06074393751",
                "extensions": {
                    "azuredatastudio": {
                        "views": []
                    }
                }
            },
            "outputs": [
                {
                    "output_type": "display_data",
                    "data": {
                        "text/html": "(5 row(s) affected)"
                    },
                    "metadata": {}
                },
                {
                    "output_type": "display_data",
                    "data": {
                        "text/html": "Total execution time: 00:00:00.177"
                    },
                    "metadata": {}
                },
                {
                    "output_type": "execute_result",
                    "execution_count": 30,
                    "data": {
                        "application/vnd.dataresource+json": {
                            "schema": {
                                "fields": [
                                    {
                                        "name": "start_station_id"
                                    },
                                    {
                                        "name": "riders"
                                    },
                                    {
                                        "name": "avg_riders"
                                    },
                                    {
                                        "name": "total_riders"
                                    },
                                    {
                                        "name": "stations"
                                    }
                                ]
                            },
                            "data": [
                                {
                                    "0": "1",
                                    "1": "157",
                                    "2": "5612.0825396825396825",
                                    "3": "1767806",
                                    "4": "315"
                                },
                                {
                                    "0": "3",
                                    "1": "6293",
                                    "2": "5612.0825396825396825",
                                    "3": "1767806",
                                    "4": "315"
                                },
                                {
                                    "0": "4",
                                    "1": "10279",
                                    "2": "5612.0825396825396825",
                                    "3": "1767806",
                                    "4": "315"
                                },
                                {
                                    "0": "5",
                                    "1": "9144",
                                    "2": "5612.0825396825396825",
                                    "3": "1767806",
                                    "4": "315"
                                },
                                {
                                    "0": "6",
                                    "1": "16633",
                                    "2": "5612.0825396825396825",
                                    "3": "1767806",
                                    "4": "315"
                                }
                            ]
                        },
                        "text/html": "<table><tr><th>start_station_id</th><th>riders</th><th>avg_riders</th><th>total_riders</th><th>stations</th></tr><tr><td>1</td><td>157</td><td>5612.0825396825396825</td><td>1767806</td><td>315</td></tr><tr><td>3</td><td>6293</td><td>5612.0825396825396825</td><td>1767806</td><td>315</td></tr><tr><td>4</td><td>10279</td><td>5612.0825396825396825</td><td>1767806</td><td>315</td></tr><tr><td>5</td><td>9144</td><td>5612.0825396825396825</td><td>1767806</td><td>315</td></tr><tr><td>6</td><td>16633</td><td>5612.0825396825396825</td><td>1767806</td><td>315</td></tr></table>"
                    },
                    "metadata": {}
                }
            ],
            "execution_count": 30
        },
        {
            "cell_type": "code",
            "source": [
                "select\n",
                "start_station_id,\n",
                "count(1) as riders,\n",
                "avg(count(1)) over() as avg_riders,\n",
                "sum(sum(1)) over() as total_riders,\n",
                "count(1) over() as stations,\n",
                "count(1) / sum(sum(1)) over() as rider_percent,\n",
                "count(1) / (avg(count(1)) over()) as percent_of_average,\n",
                "count(1) / avg(sum(1)) over() as percent_of_averagesum\n",
                "from bluebikes_2018\n",
                "group by start_station_id\n",
                "order by start_station_id\n",
                "limit 5"
            ],
            "metadata": {
                "azdata_cell_guid": "52f10c74-eb14-4f33-af6f-48eacce624e8",
                "extensions": {
                    "azuredatastudio": {
                        "views": []
                    }
                }
            },
            "outputs": [
                {
                    "output_type": "display_data",
                    "data": {
                        "text/html": "(5 row(s) affected)"
                    },
                    "metadata": {}
                },
                {
                    "output_type": "display_data",
                    "data": {
                        "text/html": "Total execution time: 00:00:01.553"
                    },
                    "metadata": {}
                },
                {
                    "output_type": "execute_result",
                    "execution_count": 36,
                    "data": {
                        "application/vnd.dataresource+json": {
                            "schema": {
                                "fields": [
                                    {
                                        "name": "start_station_id"
                                    },
                                    {
                                        "name": "riders"
                                    },
                                    {
                                        "name": "avg_riders"
                                    },
                                    {
                                        "name": "total_riders"
                                    },
                                    {
                                        "name": "stations"
                                    },
                                    {
                                        "name": "rider_percent"
                                    },
                                    {
                                        "name": "percent_of_average"
                                    },
                                    {
                                        "name": "percent_of_averagesum"
                                    }
                                ]
                            },
                            "data": [
                                {
                                    "0": "1",
                                    "1": "157",
                                    "2": "5612.0825396825396825",
                                    "3": "1767806",
                                    "4": "315",
                                    "5": "0.000088810650037390980685",
                                    "6": "0.02797535476177815892",
                                    "7": "0.02797535476177815892"
                                },
                                {
                                    "0": "3",
                                    "1": "6293",
                                    "2": "5612.0825396825396825",
                                    "3": "1767806",
                                    "4": "315",
                                    "5": "0.00355977974958790727",
                                    "6": "1.1213306211201908",
                                    "7": "1.1213306211201908"
                                },
                                {
                                    "0": "4",
                                    "1": "10279",
                                    "2": "5612.0825396825396825",
                                    "3": "1767806",
                                    "4": "315",
                                    "5": "0.00581455204926332414",
                                    "6": "1.8315838955179471",
                                    "7": "1.8315838955179471"
                                },
                                {
                                    "0": "5",
                                    "1": "9144",
                                    "2": "5612.0825396825396825",
                                    "3": "1767806",
                                    "4": "315",
                                    "5": "0.00517251327351530654",
                                    "6": "1.6293416811573216",
                                    "7": "1.6293416811573216"
                                },
                                {
                                    "0": "6",
                                    "1": "16633",
                                    "2": "5612.0825396825396825",
                                    "3": "1767806",
                                    "4": "315",
                                    "5": "0.00940883784759187377",
                                    "6": "2.9637839219914402",
                                    "7": "2.9637839219914402"
                                }
                            ]
                        },
                        "text/html": "<table><tr><th>start_station_id</th><th>riders</th><th>avg_riders</th><th>total_riders</th><th>stations</th><th>rider_percent</th><th>percent_of_average</th><th>percent_of_averagesum</th></tr><tr><td>1</td><td>157</td><td>5612.0825396825396825</td><td>1767806</td><td>315</td><td>0.000088810650037390980685</td><td>0.02797535476177815892</td><td>0.02797535476177815892</td></tr><tr><td>3</td><td>6293</td><td>5612.0825396825396825</td><td>1767806</td><td>315</td><td>0.00355977974958790727</td><td>1.1213306211201908</td><td>1.1213306211201908</td></tr><tr><td>4</td><td>10279</td><td>5612.0825396825396825</td><td>1767806</td><td>315</td><td>0.00581455204926332414</td><td>1.8315838955179471</td><td>1.8315838955179471</td></tr><tr><td>5</td><td>9144</td><td>5612.0825396825396825</td><td>1767806</td><td>315</td><td>0.00517251327351530654</td><td>1.6293416811573216</td><td>1.6293416811573216</td></tr><tr><td>6</td><td>16633</td><td>5612.0825396825396825</td><td>1767806</td><td>315</td><td>0.00940883784759187377</td><td>2.9637839219914402</td><td>2.9637839219914402</td></tr></table>"
                    },
                    "metadata": {}
                }
            ],
            "execution_count": 36
        },
        {
            "cell_type": "code",
            "source": [
                ""
            ],
            "metadata": {
                "azdata_cell_guid": "93bd8403-5997-447c-90ba-f9eebdcfaee3",
                "extensions": {
                    "azuredatastudio": {
                        "views": []
                    }
                }
            },
            "outputs": [],
            "execution_count": null
        },
        {
            "cell_type": "code",
            "source": [
                "select * from bluebikes_2018 limit 10;"
            ],
            "metadata": {
                "azdata_cell_guid": "8576ec38-12fa-4f06-b605-2953a1185a05",
                "extensions": {
                    "azuredatastudio": {
                        "views": []
                    }
                }
            },
            "outputs": [
                {
                    "output_type": "display_data",
                    "data": {
                        "text/html": "(10 row(s) affected)"
                    },
                    "metadata": {}
                },
                {
                    "output_type": "display_data",
                    "data": {
                        "text/html": "Total execution time: 00:00:00.214"
                    },
                    "metadata": {}
                },
                {
                    "output_type": "execute_result",
                    "execution_count": 1,
                    "data": {
                        "application/vnd.dataresource+json": {
                            "schema": {
                                "fields": [
                                    {
                                        "name": "bike_id"
                                    },
                                    {
                                        "name": "start_time"
                                    },
                                    {
                                        "name": "end_time"
                                    },
                                    {
                                        "name": "start_station_id"
                                    },
                                    {
                                        "name": "end_station_id"
                                    },
                                    {
                                        "name": "user_type"
                                    },
                                    {
                                        "name": "user_birth_year"
                                    },
                                    {
                                        "name": "user_gender"
                                    },
                                    {
                                        "name": "id"
                                    }
                                ]
                            },
                            "data": [
                                {
                                    "0": "2749",
                                    "1": "2018-10-01T00:01:57.186000",
                                    "2": "2018-10-01T00:06:34.232000",
                                    "3": "67",
                                    "4": "189",
                                    "5": "Subscriber",
                                    "6": "1996",
                                    "7": "1",
                                    "8": "1"
                                },
                                {
                                    "0": "3416",
                                    "1": "2018-10-01T00:03:22.310000",
                                    "2": "2018-10-01T00:19:11.505000",
                                    "3": "45",
                                    "4": "103",
                                    "5": "Subscriber",
                                    "6": "1992",
                                    "7": "1",
                                    "8": "2"
                                },
                                {
                                    "0": "3647",
                                    "1": "2018-10-01T00:05:49.220000",
                                    "2": "2018-10-01T00:51:18.540000",
                                    "3": "160",
                                    "4": "160",
                                    "5": "Customer",
                                    "6": "1969",
                                    "7": "0",
                                    "8": "3"
                                },
                                {
                                    "0": "3673",
                                    "1": "2018-10-01T00:06:21.292000",
                                    "2": "2018-10-01T00:49:45.876000",
                                    "3": "160",
                                    "4": "160",
                                    "5": "Customer",
                                    "6": "1969",
                                    "7": "0",
                                    "8": "4"
                                },
                                {
                                    "0": "3065",
                                    "1": "2018-10-01T00:06:46.653000",
                                    "2": "2018-10-01T00:20:22.714000",
                                    "3": "4",
                                    "4": "190",
                                    "5": "Subscriber",
                                    "6": "1998",
                                    "7": "2",
                                    "8": "5"
                                },
                                {
                                    "0": "3301",
                                    "1": "2018-10-01T00:06:53.431000",
                                    "2": "2018-10-01T00:17:11.447000",
                                    "3": "103",
                                    "4": "233",
                                    "5": "Subscriber",
                                    "6": "1996",
                                    "7": "1",
                                    "8": "6"
                                },
                                {
                                    "0": "3607",
                                    "1": "2018-10-01T00:08:20.504000",
                                    "2": "2018-10-01T00:10:46.318000",
                                    "3": "74",
                                    "4": "97",
                                    "5": "Subscriber",
                                    "6": "1999",
                                    "7": "1",
                                    "8": "7"
                                },
                                {
                                    "0": "3905",
                                    "1": "2018-10-01T00:08:24.845000",
                                    "2": "2018-10-01T00:33:18.243000",
                                    "3": "33",
                                    "4": "120",
                                    "5": "Subscriber",
                                    "6": "1982",
                                    "7": "1",
                                    "8": "8"
                                },
                                {
                                    "0": "3434",
                                    "1": "2018-10-01T00:08:54.932000",
                                    "2": "2018-10-01T00:24:57.315000",
                                    "3": "11",
                                    "4": "70",
                                    "5": "Customer",
                                    "6": "1969",
                                    "7": "0",
                                    "8": "9"
                                },
                                {
                                    "0": "3395",
                                    "1": "2018-10-01T00:08:59.323000",
                                    "2": "2018-10-01T00:28:35.436000",
                                    "3": "134",
                                    "4": "106",
                                    "5": "Customer",
                                    "6": "1997",
                                    "7": "1",
                                    "8": "10"
                                }
                            ]
                        },
                        "text/html": "<table><tr><th>bike_id</th><th>start_time</th><th>end_time</th><th>start_station_id</th><th>end_station_id</th><th>user_type</th><th>user_birth_year</th><th>user_gender</th><th>id</th></tr><tr><td>2749</td><td>2018-10-01T00:01:57.186000</td><td>2018-10-01T00:06:34.232000</td><td>67</td><td>189</td><td>Subscriber</td><td>1996</td><td>1</td><td>1</td></tr><tr><td>3416</td><td>2018-10-01T00:03:22.310000</td><td>2018-10-01T00:19:11.505000</td><td>45</td><td>103</td><td>Subscriber</td><td>1992</td><td>1</td><td>2</td></tr><tr><td>3647</td><td>2018-10-01T00:05:49.220000</td><td>2018-10-01T00:51:18.540000</td><td>160</td><td>160</td><td>Customer</td><td>1969</td><td>0</td><td>3</td></tr><tr><td>3673</td><td>2018-10-01T00:06:21.292000</td><td>2018-10-01T00:49:45.876000</td><td>160</td><td>160</td><td>Customer</td><td>1969</td><td>0</td><td>4</td></tr><tr><td>3065</td><td>2018-10-01T00:06:46.653000</td><td>2018-10-01T00:20:22.714000</td><td>4</td><td>190</td><td>Subscriber</td><td>1998</td><td>2</td><td>5</td></tr><tr><td>3301</td><td>2018-10-01T00:06:53.431000</td><td>2018-10-01T00:17:11.447000</td><td>103</td><td>233</td><td>Subscriber</td><td>1996</td><td>1</td><td>6</td></tr><tr><td>3607</td><td>2018-10-01T00:08:20.504000</td><td>2018-10-01T00:10:46.318000</td><td>74</td><td>97</td><td>Subscriber</td><td>1999</td><td>1</td><td>7</td></tr><tr><td>3905</td><td>2018-10-01T00:08:24.845000</td><td>2018-10-01T00:33:18.243000</td><td>33</td><td>120</td><td>Subscriber</td><td>1982</td><td>1</td><td>8</td></tr><tr><td>3434</td><td>2018-10-01T00:08:54.932000</td><td>2018-10-01T00:24:57.315000</td><td>11</td><td>70</td><td>Customer</td><td>1969</td><td>0</td><td>9</td></tr><tr><td>3395</td><td>2018-10-01T00:08:59.323000</td><td>2018-10-01T00:28:35.436000</td><td>134</td><td>106</td><td>Customer</td><td>1997</td><td>1</td><td>10</td></tr></table>"
                    },
                    "metadata": {}
                }
            ],
            "execution_count": 1
        },
        {
            "cell_type": "code",
            "source": [
                ""
            ],
            "metadata": {
                "azdata_cell_guid": "290b59d9-e18c-4147-abf5-14586b1773b1",
                "extensions": {
                    "azuredatastudio": {
                        "views": []
                    }
                }
            },
            "outputs": [],
            "execution_count": null
        },
        {
            "cell_type": "code",
            "source": [
                "with bike_counts as (\n",
                "select \n",
                "count(bike_id) as bikes,\n",
                "date(start_time) as sdate\n",
                "from bluebikes_2019\n",
                "group by sdate\n",
                ")\n",
                "\n",
                "select\n",
                "sdate,\n",
                "bikes,\n",
                "sum(bikes) over(order by sdate rows between unbounded preceding and current row) as running_total,\n",
                "sum(bikes) over(order by sdate rows between unbounded preceding and unbounded following) as grand_total\n",
                "from bike_counts\n",
                "order by sdate;"
            ],
            "metadata": {
                "azdata_cell_guid": "258fe00e-85cd-4823-97d1-86657fa7decf",
                "extensions": {
                    "azuredatastudio": {
                        "views": []
                    }
                }
            },
            "outputs": [
                {
                    "output_type": "display_data",
                    "data": {
                        "text/html": "(364 row(s) affected)"
                    },
                    "metadata": {}
                },
                {
                    "output_type": "display_data",
                    "data": {
                        "text/html": "Total execution time: 00:00:01.391"
                    },
                    "metadata": {}
                },
                {
                    "output_type": "execute_result",
                    "metadata": {},
                    "execution_count": 23,
                    "data": {
                        "application/vnd.dataresource+json": {
                            "schema": {
                                "fields": [
                                    {
                                        "name": "sdate"
                                    },
                                    {
                                        "name": "bikes"
                                    },
                                    {
                                        "name": "running_total"
                                    },
                                    {
                                        "name": "grand_total"
                                    }
                                ]
                            },
                            "data": [
                                {
                                    "0": "2019-01-01",
                                    "1": "1305",
                                    "2": "1305",
                                    "3": "2522537"
                                },
                                {
                                    "0": "2019-01-02",
                                    "1": "2632",
                                    "2": "3937",
                                    "3": "2522537"
                                },
                                {
                                    "0": "2019-01-03",
                                    "1": "3005",
                                    "2": "6942",
                                    "3": "2522537"
                                },
                                {
                                    "0": "2019-01-04",
                                    "1": "3397",
                                    "2": "10339",
                                    "3": "2522537"
                                },
                                {
                                    "0": "2019-01-05",
                                    "1": "786",
                                    "2": "11125",
                                    "3": "2522537"
                                },
                                {
                                    "0": "2019-01-06",
                                    "1": "1631",
                                    "2": "12756",
                                    "3": "2522537"
                                },
                                {
                                    "0": "2019-01-07",
                                    "1": "2874",
                                    "2": "15630",
                                    "3": "2522537"
                                },
                                {
                                    "0": "2019-01-08",
                                    "1": "2981",
                                    "2": "18611",
                                    "3": "2522537"
                                },
                                {
                                    "0": "2019-01-09",
                                    "1": "3385",
                                    "2": "21996",
                                    "3": "2522537"
                                },
                                {
                                    "0": "2019-01-10",
                                    "1": "3332",
                                    "2": "25328",
                                    "3": "2522537"
                                },
                                {
                                    "0": "2019-01-11",
                                    "1": "2640",
                                    "2": "27968",
                                    "3": "2522537"
                                },
                                {
                                    "0": "2019-01-12",
                                    "1": "1236",
                                    "2": "29204",
                                    "3": "2522537"
                                },
                                {
                                    "0": "2019-01-13",
                                    "1": "1169",
                                    "2": "30373",
                                    "3": "2522537"
                                },
                                {
                                    "0": "2019-01-14",
                                    "1": "3008",
                                    "2": "33381",
                                    "3": "2522537"
                                },
                                {
                                    "0": "2019-01-15",
                                    "1": "3310",
                                    "2": "36691",
                                    "3": "2522537"
                                },
                                {
                                    "0": "2019-01-16",
                                    "1": "3555",
                                    "2": "40246",
                                    "3": "2522537"
                                },
                                {
                                    "0": "2019-01-17",
                                    "1": "3144",
                                    "2": "43390",
                                    "3": "2522537"
                                },
                                {
                                    "0": "2019-01-18",
                                    "1": "3292",
                                    "2": "46682",
                                    "3": "2522537"
                                },
                                {
                                    "0": "2019-01-19",
                                    "1": "1377",
                                    "2": "48059",
                                    "3": "2522537"
                                },
                                {
                                    "0": "2019-01-21",
                                    "1": "155",
                                    "2": "48214",
                                    "3": "2522537"
                                },
                                {
                                    "0": "2019-01-22",
                                    "1": "969",
                                    "2": "49183",
                                    "3": "2522537"
                                },
                                {
                                    "0": "2019-01-23",
                                    "1": "1814",
                                    "2": "50997",
                                    "3": "2522537"
                                },
                                {
                                    "0": "2019-01-24",
                                    "1": "1493",
                                    "2": "52490",
                                    "3": "2522537"
                                },
                                {
                                    "0": "2019-01-25",
                                    "1": "3019",
                                    "2": "55509",
                                    "3": "2522537"
                                },
                                {
                                    "0": "2019-01-26",
                                    "1": "1731",
                                    "2": "57240",
                                    "3": "2522537"
                                },
                                {
                                    "0": "2019-01-27",
                                    "1": "1913",
                                    "2": "59153",
                                    "3": "2522537"
                                },
                                {
                                    "0": "2019-01-28",
                                    "1": "3268",
                                    "2": "62421",
                                    "3": "2522537"
                                },
                                {
                                    "0": "2019-01-29",
                                    "1": "3244",
                                    "2": "65665",
                                    "3": "2522537"
                                },
                                {
                                    "0": "2019-01-30",
                                    "1": "2560",
                                    "2": "68225",
                                    "3": "2522537"
                                },
                                {
                                    "0": "2019-01-31",
                                    "1": "1647",
                                    "2": "69872",
                                    "3": "2522537"
                                },
                                {
                                    "0": "2019-02-01",
                                    "1": "2213",
                                    "2": "72085",
                                    "3": "2522537"
                                },
                                {
                                    "0": "2019-02-02",
                                    "1": "1579",
                                    "2": "73664",
                                    "3": "2522537"
                                },
                                {
                                    "0": "2019-02-03",
                                    "1": "2095",
                                    "2": "75759",
                                    "3": "2522537"
                                },
                                {
                                    "0": "2019-02-04",
                                    "1": "4786",
                                    "2": "80545",
                                    "3": "2522537"
                                },
                                {
                                    "0": "2019-02-05",
                                    "1": "5900",
                                    "2": "86445",
                                    "3": "2522537"
                                },
                                {
                                    "0": "2019-02-06",
                                    "1": "4065",
                                    "2": "90510",
                                    "3": "2522537"
                                },
                                {
                                    "0": "2019-02-07",
                                    "1": "3740",
                                    "2": "94250",
                                    "3": "2522537"
                                },
                                {
                                    "0": "2019-02-08",
                                    "1": "3864",
                                    "2": "98114",
                                    "3": "2522537"
                                },
                                {
                                    "0": "2019-02-09",
                                    "1": "1825",
                                    "2": "99939",
                                    "3": "2522537"
                                },
                                {
                                    "0": "2019-02-10",
                                    "1": "1977",
                                    "2": "101916",
                                    "3": "2522537"
                                },
                                {
                                    "0": "2019-02-11",
                                    "1": "3797",
                                    "2": "105713",
                                    "3": "2522537"
                                },
                                {
                                    "0": "2019-02-12",
                                    "1": "2172",
                                    "2": "107885",
                                    "3": "2522537"
                                },
                                {
                                    "0": "2019-02-13",
                                    "1": "2636",
                                    "2": "110521",
                                    "3": "2522537"
                                },
                                {
                                    "0": "2019-02-14",
                                    "1": "3633",
                                    "2": "114154",
                                    "3": "2522537"
                                },
                                {
                                    "0": "2019-02-15",
                                    "1": "3395",
                                    "2": "117549",
                                    "3": "2522537"
                                },
                                {
                                    "0": "2019-02-16",
                                    "1": "2350",
                                    "2": "119899",
                                    "3": "2522537"
                                },
                                {
                                    "0": "2019-02-17",
                                    "1": "2097",
                                    "2": "121996",
                                    "3": "2522537"
                                },
                                {
                                    "0": "2019-02-18",
                                    "1": "955",
                                    "2": "122951",
                                    "3": "2522537"
                                },
                                {
                                    "0": "2019-02-19",
                                    "1": "2801",
                                    "2": "125752",
                                    "3": "2522537"
                                },
                                {
                                    "0": "2019-02-20",
                                    "1": "3164",
                                    "2": "128916",
                                    "3": "2522537"
                                },
                                {
                                    "0": "2019-02-21",
                                    "1": "2907",
                                    "2": "131823",
                                    "3": "2522537"
                                },
                                {
                                    "0": "2019-02-22",
                                    "1": "3750",
                                    "2": "135573",
                                    "3": "2522537"
                                },
                                {
                                    "0": "2019-02-23",
                                    "1": "2413",
                                    "2": "137986",
                                    "3": "2522537"
                                },
                                {
                                    "0": "2019-02-24",
                                    "1": "1078",
                                    "2": "139064",
                                    "3": "2522537"
                                },
                                {
                                    "0": "2019-02-25",
                                    "1": "2899",
                                    "2": "141963",
                                    "3": "2522537"
                                },
                                {
                                    "0": "2019-02-26",
                                    "1": "3053",
                                    "2": "145016",
                                    "3": "2522537"
                                },
                                {
                                    "0": "2019-02-27",
                                    "1": "2982",
                                    "2": "147998",
                                    "3": "2522537"
                                },
                                {
                                    "0": "2019-02-28",
                                    "1": "2340",
                                    "2": "150338",
                                    "3": "2522537"
                                },
                                {
                                    "0": "2019-03-01",
                                    "1": "3201",
                                    "2": "153539",
                                    "3": "2522537"
                                },
                                {
                                    "0": "2019-03-02",
                                    "1": "834",
                                    "2": "154373",
                                    "3": "2522537"
                                },
                                {
                                    "0": "2019-03-03",
                                    "1": "1853",
                                    "2": "156226",
                                    "3": "2522537"
                                },
                                {
                                    "0": "2019-03-04",
                                    "1": "1260",
                                    "2": "157486",
                                    "3": "2522537"
                                },
                                {
                                    "0": "2019-03-05",
                                    "1": "2726",
                                    "2": "160212",
                                    "3": "2522537"
                                },
                                {
                                    "0": "2019-03-06",
                                    "1": "2625",
                                    "2": "162837",
                                    "3": "2522537"
                                },
                                {
                                    "0": "2019-03-07",
                                    "1": "2762",
                                    "2": "165599",
                                    "3": "2522537"
                                },
                                {
                                    "0": "2019-03-08",
                                    "1": "2867",
                                    "2": "168466",
                                    "3": "2522537"
                                },
                                {
                                    "0": "2019-03-09",
                                    "1": "2106",
                                    "2": "170572",
                                    "3": "2522537"
                                },
                                {
                                    "0": "2019-03-10",
                                    "1": "670",
                                    "2": "171242",
                                    "3": "2522537"
                                },
                                {
                                    "0": "2019-03-11",
                                    "1": "3733",
                                    "2": "174975",
                                    "3": "2522537"
                                },
                                {
                                    "0": "2019-03-12",
                                    "1": "3868",
                                    "2": "178843",
                                    "3": "2522537"
                                },
                                {
                                    "0": "2019-03-13",
                                    "1": "3892",
                                    "2": "182735",
                                    "3": "2522537"
                                },
                                {
                                    "0": "2019-03-14",
                                    "1": "4505",
                                    "2": "187240",
                                    "3": "2522537"
                                },
                                {
                                    "0": "2019-03-15",
                                    "1": "4583",
                                    "2": "191823",
                                    "3": "2522537"
                                },
                                {
                                    "0": "2019-03-16",
                                    "1": "2728",
                                    "2": "194551",
                                    "3": "2522537"
                                },
                                {
                                    "0": "2019-03-17",
                                    "1": "2337",
                                    "2": "196888",
                                    "3": "2522537"
                                },
                                {
                                    "0": "2019-03-18",
                                    "1": "3774",
                                    "2": "200662",
                                    "3": "2522537"
                                },
                                {
                                    "0": "2019-03-19",
                                    "1": "4127",
                                    "2": "204789",
                                    "3": "2522537"
                                },
                                {
                                    "0": "2019-03-20",
                                    "1": "4528",
                                    "2": "209317",
                                    "3": "2522537"
                                },
                                {
                                    "0": "2019-03-21",
                                    "1": "4448",
                                    "2": "213765",
                                    "3": "2522537"
                                },
                                {
                                    "0": "2019-03-22",
                                    "1": "2026",
                                    "2": "215791",
                                    "3": "2522537"
                                },
                                {
                                    "0": "2019-03-23",
                                    "1": "2274",
                                    "2": "218065",
                                    "3": "2522537"
                                },
                                {
                                    "0": "2019-03-24",
                                    "1": "3619",
                                    "2": "221684",
                                    "3": "2522537"
                                },
                                {
                                    "0": "2019-03-25",
                                    "1": "4579",
                                    "2": "226263",
                                    "3": "2522537"
                                },
                                {
                                    "0": "2019-03-26",
                                    "1": "4392",
                                    "2": "230655",
                                    "3": "2522537"
                                },
                                {
                                    "0": "2019-03-27",
                                    "1": "4431",
                                    "2": "235086",
                                    "3": "2522537"
                                },
                                {
                                    "0": "2019-03-28",
                                    "1": "4864",
                                    "2": "239950",
                                    "3": "2522537"
                                },
                                {
                                    "0": "2019-03-29",
                                    "1": "4196",
                                    "2": "244146",
                                    "3": "2522537"
                                },
                                {
                                    "0": "2019-03-30",
                                    "1": "5924",
                                    "2": "250070",
                                    "3": "2522537"
                                },
                                {
                                    "0": "2019-03-31",
                                    "1": "2637",
                                    "2": "252707",
                                    "3": "2522537"
                                },
                                {
                                    "0": "2019-04-01",
                                    "1": "4698",
                                    "2": "257405",
                                    "3": "2522537"
                                },
                                {
                                    "0": "2019-04-02",
                                    "1": "5501",
                                    "2": "262906",
                                    "3": "2522537"
                                },
                                {
                                    "0": "2019-04-03",
                                    "1": "4918",
                                    "2": "267824",
                                    "3": "2522537"
                                },
                                {
                                    "0": "2019-04-04",
                                    "1": "5357",
                                    "2": "273181",
                                    "3": "2522537"
                                },
                                {
                                    "0": "2019-04-05",
                                    "1": "4868",
                                    "2": "278049",
                                    "3": "2522537"
                                },
                                {
                                    "0": "2019-04-06",
                                    "1": "6227",
                                    "2": "284276",
                                    "3": "2522537"
                                },
                                {
                                    "0": "2019-04-07",
                                    "1": "5708",
                                    "2": "289984",
                                    "3": "2522537"
                                },
                                {
                                    "0": "2019-04-08",
                                    "1": "2778",
                                    "2": "292762",
                                    "3": "2522537"
                                },
                                {
                                    "0": "2019-04-09",
                                    "1": "4446",
                                    "2": "297208",
                                    "3": "2522537"
                                },
                                {
                                    "0": "2019-04-10",
                                    "1": "5112",
                                    "2": "302320",
                                    "3": "2522537"
                                },
                                {
                                    "0": "2019-04-11",
                                    "1": "6169",
                                    "2": "308489",
                                    "3": "2522537"
                                },
                                {
                                    "0": "2019-04-12",
                                    "1": "5734",
                                    "2": "314223",
                                    "3": "2522537"
                                },
                                {
                                    "0": "2019-04-13",
                                    "1": "7081",
                                    "2": "321304",
                                    "3": "2522537"
                                },
                                {
                                    "0": "2019-04-14",
                                    "1": "6480",
                                    "2": "327784",
                                    "3": "2522537"
                                },
                                {
                                    "0": "2019-04-15",
                                    "1": "4649",
                                    "2": "332433",
                                    "3": "2522537"
                                },
                                {
                                    "0": "2019-04-16",
                                    "1": "6479",
                                    "2": "338912",
                                    "3": "2522537"
                                },
                                {
                                    "0": "2019-04-17",
                                    "1": "7267",
                                    "2": "346179",
                                    "3": "2522537"
                                },
                                {
                                    "0": "2019-04-18",
                                    "1": "5543",
                                    "2": "351722",
                                    "3": "2522537"
                                },
                                {
                                    "0": "2019-04-19",
                                    "1": "7450",
                                    "2": "359172",
                                    "3": "2522537"
                                },
                                {
                                    "0": "2019-04-20",
                                    "1": "3650",
                                    "2": "362822",
                                    "3": "2522537"
                                },
                                {
                                    "0": "2019-04-21",
                                    "1": "5370",
                                    "2": "368192",
                                    "3": "2522537"
                                },
                                {
                                    "0": "2019-04-22",
                                    "1": "3508",
                                    "2": "371700",
                                    "3": "2522537"
                                },
                                {
                                    "0": "2019-04-23",
                                    "1": "6243",
                                    "2": "377943",
                                    "3": "2522537"
                                },
                                {
                                    "0": "2019-04-24",
                                    "1": "7951",
                                    "2": "385894",
                                    "3": "2522537"
                                },
                                {
                                    "0": "2019-04-25",
                                    "1": "8312",
                                    "2": "394206",
                                    "3": "2522537"
                                },
                                {
                                    "0": "2019-04-26",
                                    "1": "3374",
                                    "2": "397580",
                                    "3": "2522537"
                                },
                                {
                                    "0": "2019-04-27",
                                    "1": "4653",
                                    "2": "402233",
                                    "3": "2522537"
                                },
                                {
                                    "0": "2019-04-28",
                                    "1": "4058",
                                    "2": "406291",
                                    "3": "2522537"
                                },
                                {
                                    "0": "2019-04-29",
                                    "1": "7379",
                                    "2": "413670",
                                    "3": "2522537"
                                },
                                {
                                    "0": "2019-04-30",
                                    "1": "5731",
                                    "2": "419401",
                                    "3": "2522537"
                                },
                                {
                                    "0": "2019-05-01",
                                    "1": "7244",
                                    "2": "426645",
                                    "3": "2522537"
                                },
                                {
                                    "0": "2019-05-02",
                                    "1": "5454",
                                    "2": "432099",
                                    "3": "2522537"
                                },
                                {
                                    "0": "2019-05-03",
                                    "1": "6074",
                                    "2": "438173",
                                    "3": "2522537"
                                },
                                {
                                    "0": "2019-05-04",
                                    "1": "5386",
                                    "2": "443559",
                                    "3": "2522537"
                                },
                                {
                                    "0": "2019-05-05",
                                    "1": "4649",
                                    "2": "448208",
                                    "3": "2522537"
                                },
                                {
                                    "0": "2019-05-06",
                                    "1": "7883",
                                    "2": "456091",
                                    "3": "2522537"
                                },
                                {
                                    "0": "2019-05-07",
                                    "1": "7842",
                                    "2": "463933",
                                    "3": "2522537"
                                },
                                {
                                    "0": "2019-05-08",
                                    "1": "8909",
                                    "2": "472842",
                                    "3": "2522537"
                                },
                                {
                                    "0": "2019-05-09",
                                    "1": "8415",
                                    "2": "481257",
                                    "3": "2522537"
                                },
                                {
                                    "0": "2019-05-10",
                                    "1": "7120",
                                    "2": "488377",
                                    "3": "2522537"
                                },
                                {
                                    "0": "2019-05-11",
                                    "1": "8162",
                                    "2": "496539",
                                    "3": "2522537"
                                },
                                {
                                    "0": "2019-05-12",
                                    "1": "1464",
                                    "2": "498003",
                                    "3": "2522537"
                                },
                                {
                                    "0": "2019-05-13",
                                    "1": "5208",
                                    "2": "503211",
                                    "3": "2522537"
                                },
                                {
                                    "0": "2019-05-14",
                                    "1": "4803",
                                    "2": "508014",
                                    "3": "2522537"
                                },
                                {
                                    "0": "2019-05-15",
                                    "1": "7929",
                                    "2": "515943",
                                    "3": "2522537"
                                },
                                {
                                    "0": "2019-05-16",
                                    "1": "8749",
                                    "2": "524692",
                                    "3": "2522537"
                                },
                                {
                                    "0": "2019-05-17",
                                    "1": "5847",
                                    "2": "530539",
                                    "3": "2522537"
                                },
                                {
                                    "0": "2019-05-18",
                                    "1": "9009",
                                    "2": "539548",
                                    "3": "2522537"
                                },
                                {
                                    "0": "2019-05-19",
                                    "1": "5891",
                                    "2": "545439",
                                    "3": "2522537"
                                },
                                {
                                    "0": "2019-05-20",
                                    "1": "8468",
                                    "2": "553907",
                                    "3": "2522537"
                                },
                                {
                                    "0": "2019-05-21",
                                    "1": "9426",
                                    "2": "563333",
                                    "3": "2522537"
                                },
                                {
                                    "0": "2019-05-22",
                                    "1": "9019",
                                    "2": "572352",
                                    "3": "2522537"
                                },
                                {
                                    "0": "2019-05-23",
                                    "1": "8247",
                                    "2": "580599",
                                    "3": "2522537"
                                },
                                {
                                    "0": "2019-05-24",
                                    "1": "7921",
                                    "2": "588520",
                                    "3": "2522537"
                                },
                                {
                                    "0": "2019-05-25",
                                    "1": "7747",
                                    "2": "596267",
                                    "3": "2522537"
                                },
                                {
                                    "0": "2019-05-26",
                                    "1": "7822",
                                    "2": "604089",
                                    "3": "2522537"
                                },
                                {
                                    "0": "2019-05-27",
                                    "1": "8247",
                                    "2": "612336",
                                    "3": "2522537"
                                },
                                {
                                    "0": "2019-05-28",
                                    "1": "4530",
                                    "2": "616866",
                                    "3": "2522537"
                                },
                                {
                                    "0": "2019-05-29",
                                    "1": "7600",
                                    "2": "624466",
                                    "3": "2522537"
                                },
                                {
                                    "0": "2019-05-30",
                                    "1": "8565",
                                    "2": "633031",
                                    "3": "2522537"
                                },
                                {
                                    "0": "2019-05-31",
                                    "1": "9454",
                                    "2": "642485",
                                    "3": "2522537"
                                },
                                {
                                    "0": "2019-06-01",
                                    "1": "7403",
                                    "2": "649888",
                                    "3": "2522537"
                                },
                                {
                                    "0": "2019-06-02",
                                    "1": "6950",
                                    "2": "656838",
                                    "3": "2522537"
                                },
                                {
                                    "0": "2019-06-03",
                                    "1": "9369",
                                    "2": "666207",
                                    "3": "2522537"
                                },
                                {
                                    "0": "2019-06-04",
                                    "1": "10059",
                                    "2": "676266",
                                    "3": "2522537"
                                },
                                {
                                    "0": "2019-06-05",
                                    "1": "10491",
                                    "2": "686757",
                                    "3": "2522537"
                                },
                                {
                                    "0": "2019-06-06",
                                    "1": "10033",
                                    "2": "696790",
                                    "3": "2522537"
                                },
                                {
                                    "0": "2019-06-07",
                                    "1": "10930",
                                    "2": "707720",
                                    "3": "2522537"
                                },
                                {
                                    "0": "2019-06-08",
                                    "1": "9625",
                                    "2": "717345",
                                    "3": "2522537"
                                },
                                {
                                    "0": "2019-06-09",
                                    "1": "8972",
                                    "2": "726317",
                                    "3": "2522537"
                                },
                                {
                                    "0": "2019-06-10",
                                    "1": "10109",
                                    "2": "736426",
                                    "3": "2522537"
                                },
                                {
                                    "0": "2019-06-11",
                                    "1": "8057",
                                    "2": "744483",
                                    "3": "2522537"
                                },
                                {
                                    "0": "2019-06-12",
                                    "1": "11814",
                                    "2": "756297",
                                    "3": "2522537"
                                },
                                {
                                    "0": "2019-06-13",
                                    "1": "4501",
                                    "2": "760798",
                                    "3": "2522537"
                                },
                                {
                                    "0": "2019-06-14",
                                    "1": "10455",
                                    "2": "771253",
                                    "3": "2522537"
                                },
                                {
                                    "0": "2019-06-15",
                                    "1": "9454",
                                    "2": "780707",
                                    "3": "2522537"
                                },
                                {
                                    "0": "2019-06-16",
                                    "1": "3651",
                                    "2": "784358",
                                    "3": "2522537"
                                },
                                {
                                    "0": "2019-06-17",
                                    "1": "10692",
                                    "2": "795050",
                                    "3": "2522537"
                                },
                                {
                                    "0": "2019-06-18",
                                    "1": "7965",
                                    "2": "803015",
                                    "3": "2522537"
                                },
                                {
                                    "0": "2019-06-19",
                                    "1": "11006",
                                    "2": "814021",
                                    "3": "2522537"
                                },
                                {
                                    "0": "2019-06-20",
                                    "1": "7074",
                                    "2": "821095",
                                    "3": "2522537"
                                },
                                {
                                    "0": "2019-06-21",
                                    "1": "8660",
                                    "2": "829755",
                                    "3": "2522537"
                                },
                                {
                                    "0": "2019-06-22",
                                    "1": "9753",
                                    "2": "839508",
                                    "3": "2522537"
                                },
                                {
                                    "0": "2019-06-23",
                                    "1": "9990",
                                    "2": "849498",
                                    "3": "2522537"
                                },
                                {
                                    "0": "2019-06-24",
                                    "1": "10677",
                                    "2": "860175",
                                    "3": "2522537"
                                },
                                {
                                    "0": "2019-06-25",
                                    "1": "8392",
                                    "2": "868567",
                                    "3": "2522537"
                                },
                                {
                                    "0": "2019-06-26",
                                    "1": "11469",
                                    "2": "880036",
                                    "3": "2522537"
                                },
                                {
                                    "0": "2019-06-27",
                                    "1": "11695",
                                    "2": "891731",
                                    "3": "2522537"
                                },
                                {
                                    "0": "2019-06-28",
                                    "1": "11164",
                                    "2": "902895",
                                    "3": "2522537"
                                },
                                {
                                    "0": "2019-06-29",
                                    "1": "7164",
                                    "2": "910059",
                                    "3": "2522537"
                                },
                                {
                                    "0": "2019-06-30",
                                    "1": "6448",
                                    "2": "916507",
                                    "3": "2522537"
                                },
                                {
                                    "0": "2019-07-01",
                                    "1": "10877",
                                    "2": "927384",
                                    "3": "2522537"
                                },
                                {
                                    "0": "2019-07-02",
                                    "1": "11236",
                                    "2": "938620",
                                    "3": "2522537"
                                },
                                {
                                    "0": "2019-07-03",
                                    "1": "10408",
                                    "2": "949028",
                                    "3": "2522537"
                                },
                                {
                                    "0": "2019-07-04",
                                    "1": "11110",
                                    "2": "960138",
                                    "3": "2522537"
                                },
                                {
                                    "0": "2019-07-05",
                                    "1": "8192",
                                    "2": "968330",
                                    "3": "2522537"
                                },
                                {
                                    "0": "2019-07-06",
                                    "1": "5399",
                                    "2": "973729",
                                    "3": "2522537"
                                },
                                {
                                    "0": "2019-07-07",
                                    "1": "9255",
                                    "2": "982984",
                                    "3": "2522537"
                                },
                                {
                                    "0": "2019-07-08",
                                    "1": "11189",
                                    "2": "994173",
                                    "3": "2522537"
                                },
                                {
                                    "0": "2019-07-09",
                                    "1": "11479",
                                    "2": "1005652",
                                    "3": "2522537"
                                },
                                {
                                    "0": "2019-07-10",
                                    "1": "11189",
                                    "2": "1016841",
                                    "3": "2522537"
                                },
                                {
                                    "0": "2019-07-11",
                                    "1": "11389",
                                    "2": "1028230",
                                    "3": "2522537"
                                },
                                {
                                    "0": "2019-07-12",
                                    "1": "8798",
                                    "2": "1037028",
                                    "3": "2522537"
                                },
                                {
                                    "0": "2019-07-13",
                                    "1": "9934",
                                    "2": "1046962",
                                    "3": "2522537"
                                },
                                {
                                    "0": "2019-07-14",
                                    "1": "9434",
                                    "2": "1056396",
                                    "3": "2522537"
                                },
                                {
                                    "0": "2019-07-15",
                                    "1": "11545",
                                    "2": "1067941",
                                    "3": "2522537"
                                },
                                {
                                    "0": "2019-07-16",
                                    "1": "12201",
                                    "2": "1080142",
                                    "3": "2522537"
                                },
                                {
                                    "0": "2019-07-17",
                                    "1": "9195",
                                    "2": "1089337",
                                    "3": "2522537"
                                },
                                {
                                    "0": "2019-07-18",
                                    "1": "10161",
                                    "2": "1099498",
                                    "3": "2522537"
                                },
                                {
                                    "0": "2019-07-19",
                                    "1": "11219",
                                    "2": "1110717",
                                    "3": "2522537"
                                },
                                {
                                    "0": "2019-07-20",
                                    "1": "6790",
                                    "2": "1117507",
                                    "3": "2522537"
                                },
                                {
                                    "0": "2019-07-21",
                                    "1": "7258",
                                    "2": "1124765",
                                    "3": "2522537"
                                },
                                {
                                    "0": "2019-07-22",
                                    "1": "9540",
                                    "2": "1134305",
                                    "3": "2522537"
                                },
                                {
                                    "0": "2019-07-23",
                                    "1": "7955",
                                    "2": "1142260",
                                    "3": "2522537"
                                },
                                {
                                    "0": "2019-07-24",
                                    "1": "12860",
                                    "2": "1155120",
                                    "3": "2522537"
                                },
                                {
                                    "0": "2019-07-25",
                                    "1": "13201",
                                    "2": "1168321",
                                    "3": "2522537"
                                },
                                {
                                    "0": "2019-07-26",
                                    "1": "12439",
                                    "2": "1180760",
                                    "3": "2522537"
                                },
                                {
                                    "0": "2019-07-27",
                                    "1": "10142",
                                    "2": "1190902",
                                    "3": "2522537"
                                },
                                {
                                    "0": "2019-07-28",
                                    "1": "9093",
                                    "2": "1199995",
                                    "3": "2522537"
                                },
                                {
                                    "0": "2019-07-29",
                                    "1": "11294",
                                    "2": "1211289",
                                    "3": "2522537"
                                },
                                {
                                    "0": "2019-07-30",
                                    "1": "12042",
                                    "2": "1223331",
                                    "3": "2522537"
                                },
                                {
                                    "0": "2019-07-31",
                                    "1": "10107",
                                    "2": "1233438",
                                    "3": "2522537"
                                },
                                {
                                    "0": "2019-08-01",
                                    "1": "13053",
                                    "2": "1246491",
                                    "3": "2522537"
                                },
                                {
                                    "0": "2019-08-02",
                                    "1": "12349",
                                    "2": "1258840",
                                    "3": "2522537"
                                },
                                {
                                    "0": "2019-08-03",
                                    "1": "9496",
                                    "2": "1268336",
                                    "3": "2522537"
                                },
                                {
                                    "0": "2019-08-04",
                                    "1": "9888",
                                    "2": "1278224",
                                    "3": "2522537"
                                },
                                {
                                    "0": "2019-08-05",
                                    "1": "12317",
                                    "2": "1290541",
                                    "3": "2522537"
                                },
                                {
                                    "0": "2019-08-06",
                                    "1": "12625",
                                    "2": "1303166",
                                    "3": "2522537"
                                },
                                {
                                    "0": "2019-08-07",
                                    "1": "11122",
                                    "2": "1314288",
                                    "3": "2522537"
                                },
                                {
                                    "0": "2019-08-08",
                                    "1": "11820",
                                    "2": "1326108",
                                    "3": "2522537"
                                },
                                {
                                    "0": "2019-08-09",
                                    "1": "12000",
                                    "2": "1338108",
                                    "3": "2522537"
                                },
                                {
                                    "0": "2019-08-10",
                                    "1": "11438",
                                    "2": "1349546",
                                    "3": "2522537"
                                },
                                {
                                    "0": "2019-08-11",
                                    "1": "10038",
                                    "2": "1359584",
                                    "3": "2522537"
                                },
                                {
                                    "0": "2019-08-12",
                                    "1": "11839",
                                    "2": "1371423",
                                    "3": "2522537"
                                },
                                {
                                    "0": "2019-08-13",
                                    "1": "11214",
                                    "2": "1382637",
                                    "3": "2522537"
                                },
                                {
                                    "0": "2019-08-14",
                                    "1": "12113",
                                    "2": "1394750",
                                    "3": "2522537"
                                },
                                {
                                    "0": "2019-08-15",
                                    "1": "12205",
                                    "2": "1406955",
                                    "3": "2522537"
                                },
                                {
                                    "0": "2019-08-16",
                                    "1": "11618",
                                    "2": "1418573",
                                    "3": "2522537"
                                },
                                {
                                    "0": "2019-08-17",
                                    "1": "9317",
                                    "2": "1427890",
                                    "3": "2522537"
                                },
                                {
                                    "0": "2019-08-18",
                                    "1": "8410",
                                    "2": "1436300",
                                    "3": "2522537"
                                },
                                {
                                    "0": "2019-08-19",
                                    "1": "9471",
                                    "2": "1445771",
                                    "3": "2522537"
                                },
                                {
                                    "0": "2019-08-20",
                                    "1": "11550",
                                    "2": "1457321",
                                    "3": "2522537"
                                },
                                {
                                    "0": "2019-08-21",
                                    "1": "9569",
                                    "2": "1466890",
                                    "3": "2522537"
                                },
                                {
                                    "0": "2019-08-22",
                                    "1": "11300",
                                    "2": "1478190",
                                    "3": "2522537"
                                },
                                {
                                    "0": "2019-08-23",
                                    "1": "10829",
                                    "2": "1489019",
                                    "3": "2522537"
                                },
                                {
                                    "0": "2019-08-24",
                                    "1": "10001",
                                    "2": "1499020",
                                    "3": "2522537"
                                },
                                {
                                    "0": "2019-08-25",
                                    "1": "8338",
                                    "2": "1507358",
                                    "3": "2522537"
                                },
                                {
                                    "0": "2019-08-26",
                                    "1": "10945",
                                    "2": "1518303",
                                    "3": "2522537"
                                },
                                {
                                    "0": "2019-08-27",
                                    "1": "11847",
                                    "2": "1530150",
                                    "3": "2522537"
                                },
                                {
                                    "0": "2019-08-28",
                                    "1": "7590",
                                    "2": "1537740",
                                    "3": "2522537"
                                },
                                {
                                    "0": "2019-08-29",
                                    "1": "12081",
                                    "2": "1549821",
                                    "3": "2522537"
                                },
                                {
                                    "0": "2019-08-30",
                                    "1": "11701",
                                    "2": "1561522",
                                    "3": "2522537"
                                },
                                {
                                    "0": "2019-08-31",
                                    "1": "9359",
                                    "2": "1570881",
                                    "3": "2522537"
                                },
                                {
                                    "0": "2019-09-01",
                                    "1": "9777",
                                    "2": "1580658",
                                    "3": "2522537"
                                },
                                {
                                    "0": "2019-09-02",
                                    "1": "6894",
                                    "2": "1587552",
                                    "3": "2522537"
                                },
                                {
                                    "0": "2019-09-03",
                                    "1": "13369",
                                    "2": "1600921",
                                    "3": "2522537"
                                },
                                {
                                    "0": "2019-09-04",
                                    "1": "11836",
                                    "2": "1612757",
                                    "3": "2522537"
                                },
                                {
                                    "0": "2019-09-05",
                                    "1": "13661",
                                    "2": "1626418",
                                    "3": "2522537"
                                },
                                {
                                    "0": "2019-09-06",
                                    "1": "12888",
                                    "2": "1639306",
                                    "3": "2522537"
                                },
                                {
                                    "0": "2019-09-07",
                                    "1": "9732",
                                    "2": "1649038",
                                    "3": "2522537"
                                },
                                {
                                    "0": "2019-09-08",
                                    "1": "10742",
                                    "2": "1659780",
                                    "3": "2522537"
                                },
                                {
                                    "0": "2019-09-09",
                                    "1": "13167",
                                    "2": "1672947",
                                    "3": "2522537"
                                },
                                {
                                    "0": "2019-09-10",
                                    "1": "13109",
                                    "2": "1686056",
                                    "3": "2522537"
                                },
                                {
                                    "0": "2019-09-11",
                                    "1": "13661",
                                    "2": "1699717",
                                    "3": "2522537"
                                },
                                {
                                    "0": "2019-09-12",
                                    "1": "10592",
                                    "2": "1710309",
                                    "3": "2522537"
                                },
                                {
                                    "0": "2019-09-13",
                                    "1": "13138",
                                    "2": "1723447",
                                    "3": "2522537"
                                },
                                {
                                    "0": "2019-09-14",
                                    "1": "8742",
                                    "2": "1732189",
                                    "3": "2522537"
                                },
                                {
                                    "0": "2019-09-15",
                                    "1": "10909",
                                    "2": "1743098",
                                    "3": "2522537"
                                },
                                {
                                    "0": "2019-09-16",
                                    "1": "12878",
                                    "2": "1755976",
                                    "3": "2522537"
                                },
                                {
                                    "0": "2019-09-17",
                                    "1": "13406",
                                    "2": "1769382",
                                    "3": "2522537"
                                },
                                {
                                    "0": "2019-09-18",
                                    "1": "13286",
                                    "2": "1782668",
                                    "3": "2522537"
                                },
                                {
                                    "0": "2019-09-19",
                                    "1": "13554",
                                    "2": "1796222",
                                    "3": "2522537"
                                },
                                {
                                    "0": "2019-09-20",
                                    "1": "14282",
                                    "2": "1810504",
                                    "3": "2522537"
                                },
                                {
                                    "0": "2019-09-21",
                                    "1": "12449",
                                    "2": "1822953",
                                    "3": "2522537"
                                },
                                {
                                    "0": "2019-09-22",
                                    "1": "11335",
                                    "2": "1834288",
                                    "3": "2522537"
                                },
                                {
                                    "0": "2019-09-23",
                                    "1": "13222",
                                    "2": "1847510",
                                    "3": "2522537"
                                },
                                {
                                    "0": "2019-09-24",
                                    "1": "13427",
                                    "2": "1860937",
                                    "3": "2522537"
                                },
                                {
                                    "0": "2019-09-25",
                                    "1": "13520",
                                    "2": "1874457",
                                    "3": "2522537"
                                },
                                {
                                    "0": "2019-09-26",
                                    "1": "10935",
                                    "2": "1885392",
                                    "3": "2522537"
                                },
                                {
                                    "0": "2019-09-27",
                                    "1": "14025",
                                    "2": "1899417",
                                    "3": "2522537"
                                },
                                {
                                    "0": "2019-09-28",
                                    "1": "11963",
                                    "2": "1911380",
                                    "3": "2522537"
                                },
                                {
                                    "0": "2019-09-29",
                                    "1": "10682",
                                    "2": "1922062",
                                    "3": "2522537"
                                },
                                {
                                    "0": "2019-09-30",
                                    "1": "12004",
                                    "2": "1934066",
                                    "3": "2522537"
                                },
                                {
                                    "0": "2019-10-01",
                                    "1": "12183",
                                    "2": "1946249",
                                    "3": "2522537"
                                },
                                {
                                    "0": "2019-10-02",
                                    "1": "9071",
                                    "2": "1955320",
                                    "3": "2522537"
                                },
                                {
                                    "0": "2019-10-03",
                                    "1": "11496",
                                    "2": "1966816",
                                    "3": "2522537"
                                },
                                {
                                    "0": "2019-10-04",
                                    "1": "11767",
                                    "2": "1978583",
                                    "3": "2522537"
                                },
                                {
                                    "0": "2019-10-05",
                                    "1": "9315",
                                    "2": "1987898",
                                    "3": "2522537"
                                },
                                {
                                    "0": "2019-10-06",
                                    "1": "8632",
                                    "2": "1996530",
                                    "3": "2522537"
                                },
                                {
                                    "0": "2019-10-07",
                                    "1": "11449",
                                    "2": "2007979",
                                    "3": "2522537"
                                },
                                {
                                    "0": "2019-10-08",
                                    "1": "11403",
                                    "2": "2019382",
                                    "3": "2522537"
                                },
                                {
                                    "0": "2019-10-09",
                                    "1": "9153",
                                    "2": "2028535",
                                    "3": "2522537"
                                },
                                {
                                    "0": "2019-10-10",
                                    "1": "9473",
                                    "2": "2038008",
                                    "3": "2522537"
                                },
                                {
                                    "0": "2019-10-11",
                                    "1": "5724",
                                    "2": "2043732",
                                    "3": "2522537"
                                },
                                {
                                    "0": "2019-10-12",
                                    "1": "6744",
                                    "2": "2050476",
                                    "3": "2522537"
                                },
                                {
                                    "0": "2019-10-13",
                                    "1": "9942",
                                    "2": "2060418",
                                    "3": "2522537"
                                },
                                {
                                    "0": "2019-10-14",
                                    "1": "10029",
                                    "2": "2070447",
                                    "3": "2522537"
                                },
                                {
                                    "0": "2019-10-15",
                                    "1": "11776",
                                    "2": "2082223",
                                    "3": "2522537"
                                },
                                {
                                    "0": "2019-10-16",
                                    "1": "10933",
                                    "2": "2093156",
                                    "3": "2522537"
                                },
                                {
                                    "0": "2019-10-17",
                                    "1": "9260",
                                    "2": "2102416",
                                    "3": "2522537"
                                },
                                {
                                    "0": "2019-10-18",
                                    "1": "10988",
                                    "2": "2113404",
                                    "3": "2522537"
                                },
                                {
                                    "0": "2019-10-19",
                                    "1": "10114",
                                    "2": "2123518",
                                    "3": "2522537"
                                },
                                {
                                    "0": "2019-10-20",
                                    "1": "8994",
                                    "2": "2132512",
                                    "3": "2522537"
                                },
                                {
                                    "0": "2019-10-21",
                                    "1": "11676",
                                    "2": "2144188",
                                    "3": "2522537"
                                },
                                {
                                    "0": "2019-10-22",
                                    "1": "10609",
                                    "2": "2154797",
                                    "3": "2522537"
                                },
                                {
                                    "0": "2019-10-23",
                                    "1": "10209",
                                    "2": "2165006",
                                    "3": "2522537"
                                },
                                {
                                    "0": "2019-10-24",
                                    "1": "12187",
                                    "2": "2177193",
                                    "3": "2522537"
                                },
                                {
                                    "0": "2019-10-25",
                                    "1": "11864",
                                    "2": "2189057",
                                    "3": "2522537"
                                },
                                {
                                    "0": "2019-10-26",
                                    "1": "9726",
                                    "2": "2198783",
                                    "3": "2522537"
                                },
                                {
                                    "0": "2019-10-27",
                                    "1": "2133",
                                    "2": "2200916",
                                    "3": "2522537"
                                },
                                {
                                    "0": "2019-10-28",
                                    "1": "9058",
                                    "2": "2209974",
                                    "3": "2522537"
                                },
                                {
                                    "0": "2019-10-29",
                                    "1": "10533",
                                    "2": "2220507",
                                    "3": "2522537"
                                },
                                {
                                    "0": "2019-10-30",
                                    "1": "10321",
                                    "2": "2230828",
                                    "3": "2522537"
                                },
                                {
                                    "0": "2019-10-31",
                                    "1": "8742",
                                    "2": "2239570",
                                    "3": "2522537"
                                },
                                {
                                    "0": "2019-11-01",
                                    "1": "10510",
                                    "2": "2250080",
                                    "3": "2522537"
                                },
                                {
                                    "0": "2019-11-02",
                                    "1": "8610",
                                    "2": "2258690",
                                    "3": "2522537"
                                },
                                {
                                    "0": "2019-11-03",
                                    "1": "7211",
                                    "2": "2265901",
                                    "3": "2522537"
                                },
                                {
                                    "0": "2019-11-04",
                                    "1": "9889",
                                    "2": "2275790",
                                    "3": "2522537"
                                },
                                {
                                    "0": "2019-11-05",
                                    "1": "8253",
                                    "2": "2284043",
                                    "3": "2522537"
                                },
                                {
                                    "0": "2019-11-06",
                                    "1": "10388",
                                    "2": "2294431",
                                    "3": "2522537"
                                },
                                {
                                    "0": "2019-11-07",
                                    "1": "7658",
                                    "2": "2302089",
                                    "3": "2522537"
                                },
                                {
                                    "0": "2019-11-08",
                                    "1": "6754",
                                    "2": "2308843",
                                    "3": "2522537"
                                },
                                {
                                    "0": "2019-11-09",
                                    "1": "4880",
                                    "2": "2313723",
                                    "3": "2522537"
                                },
                                {
                                    "0": "2019-11-10",
                                    "1": "5787",
                                    "2": "2319510",
                                    "3": "2522537"
                                },
                                {
                                    "0": "2019-11-11",
                                    "1": "7829",
                                    "2": "2327339",
                                    "3": "2522537"
                                },
                                {
                                    "0": "2019-11-12",
                                    "1": "6470",
                                    "2": "2333809",
                                    "3": "2522537"
                                },
                                {
                                    "0": "2019-11-13",
                                    "1": "5917",
                                    "2": "2339726",
                                    "3": "2522537"
                                },
                                {
                                    "0": "2019-11-14",
                                    "1": "7040",
                                    "2": "2346766",
                                    "3": "2522537"
                                },
                                {
                                    "0": "2019-11-15",
                                    "1": "8435",
                                    "2": "2355201",
                                    "3": "2522537"
                                },
                                {
                                    "0": "2019-11-16",
                                    "1": "4859",
                                    "2": "2360060",
                                    "3": "2522537"
                                },
                                {
                                    "0": "2019-11-17",
                                    "1": "4012",
                                    "2": "2364072",
                                    "3": "2522537"
                                },
                                {
                                    "0": "2019-11-18",
                                    "1": "4695",
                                    "2": "2368767",
                                    "3": "2522537"
                                },
                                {
                                    "0": "2019-11-19",
                                    "1": "6163",
                                    "2": "2374930",
                                    "3": "2522537"
                                },
                                {
                                    "0": "2019-11-20",
                                    "1": "5104",
                                    "2": "2380034",
                                    "3": "2522537"
                                },
                                {
                                    "0": "2019-11-21",
                                    "1": "8404",
                                    "2": "2388438",
                                    "3": "2522537"
                                },
                                {
                                    "0": "2019-11-22",
                                    "1": "6959",
                                    "2": "2395397",
                                    "3": "2522537"
                                },
                                {
                                    "0": "2019-11-23",
                                    "1": "5472",
                                    "2": "2400869",
                                    "3": "2522537"
                                },
                                {
                                    "0": "2019-11-24",
                                    "1": "1423",
                                    "2": "2402292",
                                    "3": "2522537"
                                },
                                {
                                    "0": "2019-11-25",
                                    "1": "7897",
                                    "2": "2410189",
                                    "3": "2522537"
                                },
                                {
                                    "0": "2019-11-26",
                                    "1": "8366",
                                    "2": "2418555",
                                    "3": "2522537"
                                },
                                {
                                    "0": "2019-11-27",
                                    "1": "5589",
                                    "2": "2424144",
                                    "3": "2522537"
                                },
                                {
                                    "0": "2019-11-28",
                                    "1": "1455",
                                    "2": "2425599",
                                    "3": "2522537"
                                },
                                {
                                    "0": "2019-11-29",
                                    "1": "2551",
                                    "2": "2428150",
                                    "3": "2522537"
                                },
                                {
                                    "0": "2019-11-30",
                                    "1": "2179",
                                    "2": "2430329",
                                    "3": "2522537"
                                },
                                {
                                    "0": "2019-12-01",
                                    "1": "1754",
                                    "2": "2432083",
                                    "3": "2522537"
                                },
                                {
                                    "0": "2019-12-02",
                                    "1": "1792",
                                    "2": "2433875",
                                    "3": "2522537"
                                },
                                {
                                    "0": "2019-12-03",
                                    "1": "1688",
                                    "2": "2435563",
                                    "3": "2522537"
                                },
                                {
                                    "0": "2019-12-04",
                                    "1": "4425",
                                    "2": "2439988",
                                    "3": "2522537"
                                },
                                {
                                    "0": "2019-12-05",
                                    "1": "5769",
                                    "2": "2445757",
                                    "3": "2522537"
                                },
                                {
                                    "0": "2019-12-06",
                                    "1": "4882",
                                    "2": "2450639",
                                    "3": "2522537"
                                },
                                {
                                    "0": "2019-12-07",
                                    "1": "3265",
                                    "2": "2453904",
                                    "3": "2522537"
                                },
                                {
                                    "0": "2019-12-08",
                                    "1": "2952",
                                    "2": "2456856",
                                    "3": "2522537"
                                },
                                {
                                    "0": "2019-12-09",
                                    "1": "3340",
                                    "2": "2460196",
                                    "3": "2522537"
                                },
                                {
                                    "0": "2019-12-10",
                                    "1": "5827",
                                    "2": "2466023",
                                    "3": "2522537"
                                },
                                {
                                    "0": "2019-12-11",
                                    "1": "4032",
                                    "2": "2470055",
                                    "3": "2522537"
                                },
                                {
                                    "0": "2019-12-12",
                                    "1": "5258",
                                    "2": "2475313",
                                    "3": "2522537"
                                },
                                {
                                    "0": "2019-12-13",
                                    "1": "4971",
                                    "2": "2480284",
                                    "3": "2522537"
                                },
                                {
                                    "0": "2019-12-14",
                                    "1": "2803",
                                    "2": "2483087",
                                    "3": "2522537"
                                },
                                {
                                    "0": "2019-12-15",
                                    "1": "3225",
                                    "2": "2486312",
                                    "3": "2522537"
                                },
                                {
                                    "0": "2019-12-16",
                                    "1": "5037",
                                    "2": "2491349",
                                    "3": "2522537"
                                },
                                {
                                    "0": "2019-12-17",
                                    "1": "1887",
                                    "2": "2493236",
                                    "3": "2522537"
                                },
                                {
                                    "0": "2019-12-18",
                                    "1": "4022",
                                    "2": "2497258",
                                    "3": "2522537"
                                },
                                {
                                    "0": "2019-12-19",
                                    "1": "3004",
                                    "2": "2500262",
                                    "3": "2522537"
                                },
                                {
                                    "0": "2019-12-20",
                                    "1": "2926",
                                    "2": "2503188",
                                    "3": "2522537"
                                },
                                {
                                    "0": "2019-12-21",
                                    "1": "1663",
                                    "2": "2504851",
                                    "3": "2522537"
                                },
                                {
                                    "0": "2019-12-22",
                                    "1": "1654",
                                    "2": "2506505",
                                    "3": "2522537"
                                },
                                {
                                    "0": "2019-12-23",
                                    "1": "3099",
                                    "2": "2509604",
                                    "3": "2522537"
                                },
                                {
                                    "0": "2019-12-24",
                                    "1": "1699",
                                    "2": "2511303",
                                    "3": "2522537"
                                },
                                {
                                    "0": "2019-12-25",
                                    "1": "803",
                                    "2": "2512106",
                                    "3": "2522537"
                                },
                                {
                                    "0": "2019-12-26",
                                    "1": "1837",
                                    "2": "2513943",
                                    "3": "2522537"
                                },
                                {
                                    "0": "2019-12-27",
                                    "1": "2165",
                                    "2": "2516108",
                                    "3": "2522537"
                                },
                                {
                                    "0": "2019-12-28",
                                    "1": "2155",
                                    "2": "2518263",
                                    "3": "2522537"
                                },
                                {
                                    "0": "2019-12-29",
                                    "1": "1796",
                                    "2": "2520059",
                                    "3": "2522537"
                                },
                                {
                                    "0": "2019-12-30",
                                    "1": "662",
                                    "2": "2520721",
                                    "3": "2522537"
                                },
                                {
                                    "0": "2019-12-31",
                                    "1": "1816",
                                    "2": "2522537",
                                    "3": "2522537"
                                }
                            ]
                        },
                        "text/html": [
                            "<table>",
                            "<tr><th>sdate</th><th>bikes</th><th>running_total</th><th>grand_total</th></tr>",
                            "<tr><td>2019-01-01</td><td>1305</td><td>1305</td><td>2522537</td></tr>",
                            "<tr><td>2019-01-02</td><td>2632</td><td>3937</td><td>2522537</td></tr>",
                            "<tr><td>2019-01-03</td><td>3005</td><td>6942</td><td>2522537</td></tr>",
                            "<tr><td>2019-01-04</td><td>3397</td><td>10339</td><td>2522537</td></tr>",
                            "<tr><td>2019-01-05</td><td>786</td><td>11125</td><td>2522537</td></tr>",
                            "<tr><td>2019-01-06</td><td>1631</td><td>12756</td><td>2522537</td></tr>",
                            "<tr><td>2019-01-07</td><td>2874</td><td>15630</td><td>2522537</td></tr>",
                            "<tr><td>2019-01-08</td><td>2981</td><td>18611</td><td>2522537</td></tr>",
                            "<tr><td>2019-01-09</td><td>3385</td><td>21996</td><td>2522537</td></tr>",
                            "<tr><td>2019-01-10</td><td>3332</td><td>25328</td><td>2522537</td></tr>",
                            "<tr><td>2019-01-11</td><td>2640</td><td>27968</td><td>2522537</td></tr>",
                            "<tr><td>2019-01-12</td><td>1236</td><td>29204</td><td>2522537</td></tr>",
                            "<tr><td>2019-01-13</td><td>1169</td><td>30373</td><td>2522537</td></tr>",
                            "<tr><td>2019-01-14</td><td>3008</td><td>33381</td><td>2522537</td></tr>",
                            "<tr><td>2019-01-15</td><td>3310</td><td>36691</td><td>2522537</td></tr>",
                            "<tr><td>2019-01-16</td><td>3555</td><td>40246</td><td>2522537</td></tr>",
                            "<tr><td>2019-01-17</td><td>3144</td><td>43390</td><td>2522537</td></tr>",
                            "<tr><td>2019-01-18</td><td>3292</td><td>46682</td><td>2522537</td></tr>",
                            "<tr><td>2019-01-19</td><td>1377</td><td>48059</td><td>2522537</td></tr>",
                            "<tr><td>2019-01-21</td><td>155</td><td>48214</td><td>2522537</td></tr>",
                            "<tr><td>2019-01-22</td><td>969</td><td>49183</td><td>2522537</td></tr>",
                            "<tr><td>2019-01-23</td><td>1814</td><td>50997</td><td>2522537</td></tr>",
                            "<tr><td>2019-01-24</td><td>1493</td><td>52490</td><td>2522537</td></tr>",
                            "<tr><td>2019-01-25</td><td>3019</td><td>55509</td><td>2522537</td></tr>",
                            "<tr><td>2019-01-26</td><td>1731</td><td>57240</td><td>2522537</td></tr>",
                            "<tr><td>2019-01-27</td><td>1913</td><td>59153</td><td>2522537</td></tr>",
                            "<tr><td>2019-01-28</td><td>3268</td><td>62421</td><td>2522537</td></tr>",
                            "<tr><td>2019-01-29</td><td>3244</td><td>65665</td><td>2522537</td></tr>",
                            "<tr><td>2019-01-30</td><td>2560</td><td>68225</td><td>2522537</td></tr>",
                            "<tr><td>2019-01-31</td><td>1647</td><td>69872</td><td>2522537</td></tr>",
                            "<tr><td>2019-02-01</td><td>2213</td><td>72085</td><td>2522537</td></tr>",
                            "<tr><td>2019-02-02</td><td>1579</td><td>73664</td><td>2522537</td></tr>",
                            "<tr><td>2019-02-03</td><td>2095</td><td>75759</td><td>2522537</td></tr>",
                            "<tr><td>2019-02-04</td><td>4786</td><td>80545</td><td>2522537</td></tr>",
                            "<tr><td>2019-02-05</td><td>5900</td><td>86445</td><td>2522537</td></tr>",
                            "<tr><td>2019-02-06</td><td>4065</td><td>90510</td><td>2522537</td></tr>",
                            "<tr><td>2019-02-07</td><td>3740</td><td>94250</td><td>2522537</td></tr>",
                            "<tr><td>2019-02-08</td><td>3864</td><td>98114</td><td>2522537</td></tr>",
                            "<tr><td>2019-02-09</td><td>1825</td><td>99939</td><td>2522537</td></tr>",
                            "<tr><td>2019-02-10</td><td>1977</td><td>101916</td><td>2522537</td></tr>",
                            "<tr><td>2019-02-11</td><td>3797</td><td>105713</td><td>2522537</td></tr>",
                            "<tr><td>2019-02-12</td><td>2172</td><td>107885</td><td>2522537</td></tr>",
                            "<tr><td>2019-02-13</td><td>2636</td><td>110521</td><td>2522537</td></tr>",
                            "<tr><td>2019-02-14</td><td>3633</td><td>114154</td><td>2522537</td></tr>",
                            "<tr><td>2019-02-15</td><td>3395</td><td>117549</td><td>2522537</td></tr>",
                            "<tr><td>2019-02-16</td><td>2350</td><td>119899</td><td>2522537</td></tr>",
                            "<tr><td>2019-02-17</td><td>2097</td><td>121996</td><td>2522537</td></tr>",
                            "<tr><td>2019-02-18</td><td>955</td><td>122951</td><td>2522537</td></tr>",
                            "<tr><td>2019-02-19</td><td>2801</td><td>125752</td><td>2522537</td></tr>",
                            "<tr><td>2019-02-20</td><td>3164</td><td>128916</td><td>2522537</td></tr>",
                            "<tr><td>2019-02-21</td><td>2907</td><td>131823</td><td>2522537</td></tr>",
                            "<tr><td>2019-02-22</td><td>3750</td><td>135573</td><td>2522537</td></tr>",
                            "<tr><td>2019-02-23</td><td>2413</td><td>137986</td><td>2522537</td></tr>",
                            "<tr><td>2019-02-24</td><td>1078</td><td>139064</td><td>2522537</td></tr>",
                            "<tr><td>2019-02-25</td><td>2899</td><td>141963</td><td>2522537</td></tr>",
                            "<tr><td>2019-02-26</td><td>3053</td><td>145016</td><td>2522537</td></tr>",
                            "<tr><td>2019-02-27</td><td>2982</td><td>147998</td><td>2522537</td></tr>",
                            "<tr><td>2019-02-28</td><td>2340</td><td>150338</td><td>2522537</td></tr>",
                            "<tr><td>2019-03-01</td><td>3201</td><td>153539</td><td>2522537</td></tr>",
                            "<tr><td>2019-03-02</td><td>834</td><td>154373</td><td>2522537</td></tr>",
                            "<tr><td>2019-03-03</td><td>1853</td><td>156226</td><td>2522537</td></tr>",
                            "<tr><td>2019-03-04</td><td>1260</td><td>157486</td><td>2522537</td></tr>",
                            "<tr><td>2019-03-05</td><td>2726</td><td>160212</td><td>2522537</td></tr>",
                            "<tr><td>2019-03-06</td><td>2625</td><td>162837</td><td>2522537</td></tr>",
                            "<tr><td>2019-03-07</td><td>2762</td><td>165599</td><td>2522537</td></tr>",
                            "<tr><td>2019-03-08</td><td>2867</td><td>168466</td><td>2522537</td></tr>",
                            "<tr><td>2019-03-09</td><td>2106</td><td>170572</td><td>2522537</td></tr>",
                            "<tr><td>2019-03-10</td><td>670</td><td>171242</td><td>2522537</td></tr>",
                            "<tr><td>2019-03-11</td><td>3733</td><td>174975</td><td>2522537</td></tr>",
                            "<tr><td>2019-03-12</td><td>3868</td><td>178843</td><td>2522537</td></tr>",
                            "<tr><td>2019-03-13</td><td>3892</td><td>182735</td><td>2522537</td></tr>",
                            "<tr><td>2019-03-14</td><td>4505</td><td>187240</td><td>2522537</td></tr>",
                            "<tr><td>2019-03-15</td><td>4583</td><td>191823</td><td>2522537</td></tr>",
                            "<tr><td>2019-03-16</td><td>2728</td><td>194551</td><td>2522537</td></tr>",
                            "<tr><td>2019-03-17</td><td>2337</td><td>196888</td><td>2522537</td></tr>",
                            "<tr><td>2019-03-18</td><td>3774</td><td>200662</td><td>2522537</td></tr>",
                            "<tr><td>2019-03-19</td><td>4127</td><td>204789</td><td>2522537</td></tr>",
                            "<tr><td>2019-03-20</td><td>4528</td><td>209317</td><td>2522537</td></tr>",
                            "<tr><td>2019-03-21</td><td>4448</td><td>213765</td><td>2522537</td></tr>",
                            "<tr><td>2019-03-22</td><td>2026</td><td>215791</td><td>2522537</td></tr>",
                            "<tr><td>2019-03-23</td><td>2274</td><td>218065</td><td>2522537</td></tr>",
                            "<tr><td>2019-03-24</td><td>3619</td><td>221684</td><td>2522537</td></tr>",
                            "<tr><td>2019-03-25</td><td>4579</td><td>226263</td><td>2522537</td></tr>",
                            "<tr><td>2019-03-26</td><td>4392</td><td>230655</td><td>2522537</td></tr>",
                            "<tr><td>2019-03-27</td><td>4431</td><td>235086</td><td>2522537</td></tr>",
                            "<tr><td>2019-03-28</td><td>4864</td><td>239950</td><td>2522537</td></tr>",
                            "<tr><td>2019-03-29</td><td>4196</td><td>244146</td><td>2522537</td></tr>",
                            "<tr><td>2019-03-30</td><td>5924</td><td>250070</td><td>2522537</td></tr>",
                            "<tr><td>2019-03-31</td><td>2637</td><td>252707</td><td>2522537</td></tr>",
                            "<tr><td>2019-04-01</td><td>4698</td><td>257405</td><td>2522537</td></tr>",
                            "<tr><td>2019-04-02</td><td>5501</td><td>262906</td><td>2522537</td></tr>",
                            "<tr><td>2019-04-03</td><td>4918</td><td>267824</td><td>2522537</td></tr>",
                            "<tr><td>2019-04-04</td><td>5357</td><td>273181</td><td>2522537</td></tr>",
                            "<tr><td>2019-04-05</td><td>4868</td><td>278049</td><td>2522537</td></tr>",
                            "<tr><td>2019-04-06</td><td>6227</td><td>284276</td><td>2522537</td></tr>",
                            "<tr><td>2019-04-07</td><td>5708</td><td>289984</td><td>2522537</td></tr>",
                            "<tr><td>2019-04-08</td><td>2778</td><td>292762</td><td>2522537</td></tr>",
                            "<tr><td>2019-04-09</td><td>4446</td><td>297208</td><td>2522537</td></tr>",
                            "<tr><td>2019-04-10</td><td>5112</td><td>302320</td><td>2522537</td></tr>",
                            "<tr><td>2019-04-11</td><td>6169</td><td>308489</td><td>2522537</td></tr>",
                            "<tr><td>2019-04-12</td><td>5734</td><td>314223</td><td>2522537</td></tr>",
                            "<tr><td>2019-04-13</td><td>7081</td><td>321304</td><td>2522537</td></tr>",
                            "<tr><td>2019-04-14</td><td>6480</td><td>327784</td><td>2522537</td></tr>",
                            "<tr><td>2019-04-15</td><td>4649</td><td>332433</td><td>2522537</td></tr>",
                            "<tr><td>2019-04-16</td><td>6479</td><td>338912</td><td>2522537</td></tr>",
                            "<tr><td>2019-04-17</td><td>7267</td><td>346179</td><td>2522537</td></tr>",
                            "<tr><td>2019-04-18</td><td>5543</td><td>351722</td><td>2522537</td></tr>",
                            "<tr><td>2019-04-19</td><td>7450</td><td>359172</td><td>2522537</td></tr>",
                            "<tr><td>2019-04-20</td><td>3650</td><td>362822</td><td>2522537</td></tr>",
                            "<tr><td>2019-04-21</td><td>5370</td><td>368192</td><td>2522537</td></tr>",
                            "<tr><td>2019-04-22</td><td>3508</td><td>371700</td><td>2522537</td></tr>",
                            "<tr><td>2019-04-23</td><td>6243</td><td>377943</td><td>2522537</td></tr>",
                            "<tr><td>2019-04-24</td><td>7951</td><td>385894</td><td>2522537</td></tr>",
                            "<tr><td>2019-04-25</td><td>8312</td><td>394206</td><td>2522537</td></tr>",
                            "<tr><td>2019-04-26</td><td>3374</td><td>397580</td><td>2522537</td></tr>",
                            "<tr><td>2019-04-27</td><td>4653</td><td>402233</td><td>2522537</td></tr>",
                            "<tr><td>2019-04-28</td><td>4058</td><td>406291</td><td>2522537</td></tr>",
                            "<tr><td>2019-04-29</td><td>7379</td><td>413670</td><td>2522537</td></tr>",
                            "<tr><td>2019-04-30</td><td>5731</td><td>419401</td><td>2522537</td></tr>",
                            "<tr><td>2019-05-01</td><td>7244</td><td>426645</td><td>2522537</td></tr>",
                            "<tr><td>2019-05-02</td><td>5454</td><td>432099</td><td>2522537</td></tr>",
                            "<tr><td>2019-05-03</td><td>6074</td><td>438173</td><td>2522537</td></tr>",
                            "<tr><td>2019-05-04</td><td>5386</td><td>443559</td><td>2522537</td></tr>",
                            "<tr><td>2019-05-05</td><td>4649</td><td>448208</td><td>2522537</td></tr>",
                            "<tr><td>2019-05-06</td><td>7883</td><td>456091</td><td>2522537</td></tr>",
                            "<tr><td>2019-05-07</td><td>7842</td><td>463933</td><td>2522537</td></tr>",
                            "<tr><td>2019-05-08</td><td>8909</td><td>472842</td><td>2522537</td></tr>",
                            "<tr><td>2019-05-09</td><td>8415</td><td>481257</td><td>2522537</td></tr>",
                            "<tr><td>2019-05-10</td><td>7120</td><td>488377</td><td>2522537</td></tr>",
                            "<tr><td>2019-05-11</td><td>8162</td><td>496539</td><td>2522537</td></tr>",
                            "<tr><td>2019-05-12</td><td>1464</td><td>498003</td><td>2522537</td></tr>",
                            "<tr><td>2019-05-13</td><td>5208</td><td>503211</td><td>2522537</td></tr>",
                            "<tr><td>2019-05-14</td><td>4803</td><td>508014</td><td>2522537</td></tr>",
                            "<tr><td>2019-05-15</td><td>7929</td><td>515943</td><td>2522537</td></tr>",
                            "<tr><td>2019-05-16</td><td>8749</td><td>524692</td><td>2522537</td></tr>",
                            "<tr><td>2019-05-17</td><td>5847</td><td>530539</td><td>2522537</td></tr>",
                            "<tr><td>2019-05-18</td><td>9009</td><td>539548</td><td>2522537</td></tr>",
                            "<tr><td>2019-05-19</td><td>5891</td><td>545439</td><td>2522537</td></tr>",
                            "<tr><td>2019-05-20</td><td>8468</td><td>553907</td><td>2522537</td></tr>",
                            "<tr><td>2019-05-21</td><td>9426</td><td>563333</td><td>2522537</td></tr>",
                            "<tr><td>2019-05-22</td><td>9019</td><td>572352</td><td>2522537</td></tr>",
                            "<tr><td>2019-05-23</td><td>8247</td><td>580599</td><td>2522537</td></tr>",
                            "<tr><td>2019-05-24</td><td>7921</td><td>588520</td><td>2522537</td></tr>",
                            "<tr><td>2019-05-25</td><td>7747</td><td>596267</td><td>2522537</td></tr>",
                            "<tr><td>2019-05-26</td><td>7822</td><td>604089</td><td>2522537</td></tr>",
                            "<tr><td>2019-05-27</td><td>8247</td><td>612336</td><td>2522537</td></tr>",
                            "<tr><td>2019-05-28</td><td>4530</td><td>616866</td><td>2522537</td></tr>",
                            "<tr><td>2019-05-29</td><td>7600</td><td>624466</td><td>2522537</td></tr>",
                            "<tr><td>2019-05-30</td><td>8565</td><td>633031</td><td>2522537</td></tr>",
                            "<tr><td>2019-05-31</td><td>9454</td><td>642485</td><td>2522537</td></tr>",
                            "<tr><td>2019-06-01</td><td>7403</td><td>649888</td><td>2522537</td></tr>",
                            "<tr><td>2019-06-02</td><td>6950</td><td>656838</td><td>2522537</td></tr>",
                            "<tr><td>2019-06-03</td><td>9369</td><td>666207</td><td>2522537</td></tr>",
                            "<tr><td>2019-06-04</td><td>10059</td><td>676266</td><td>2522537</td></tr>",
                            "<tr><td>2019-06-05</td><td>10491</td><td>686757</td><td>2522537</td></tr>",
                            "<tr><td>2019-06-06</td><td>10033</td><td>696790</td><td>2522537</td></tr>",
                            "<tr><td>2019-06-07</td><td>10930</td><td>707720</td><td>2522537</td></tr>",
                            "<tr><td>2019-06-08</td><td>9625</td><td>717345</td><td>2522537</td></tr>",
                            "<tr><td>2019-06-09</td><td>8972</td><td>726317</td><td>2522537</td></tr>",
                            "<tr><td>2019-06-10</td><td>10109</td><td>736426</td><td>2522537</td></tr>",
                            "<tr><td>2019-06-11</td><td>8057</td><td>744483</td><td>2522537</td></tr>",
                            "<tr><td>2019-06-12</td><td>11814</td><td>756297</td><td>2522537</td></tr>",
                            "<tr><td>2019-06-13</td><td>4501</td><td>760798</td><td>2522537</td></tr>",
                            "<tr><td>2019-06-14</td><td>10455</td><td>771253</td><td>2522537</td></tr>",
                            "<tr><td>2019-06-15</td><td>9454</td><td>780707</td><td>2522537</td></tr>",
                            "<tr><td>2019-06-16</td><td>3651</td><td>784358</td><td>2522537</td></tr>",
                            "<tr><td>2019-06-17</td><td>10692</td><td>795050</td><td>2522537</td></tr>",
                            "<tr><td>2019-06-18</td><td>7965</td><td>803015</td><td>2522537</td></tr>",
                            "<tr><td>2019-06-19</td><td>11006</td><td>814021</td><td>2522537</td></tr>",
                            "<tr><td>2019-06-20</td><td>7074</td><td>821095</td><td>2522537</td></tr>",
                            "<tr><td>2019-06-21</td><td>8660</td><td>829755</td><td>2522537</td></tr>",
                            "<tr><td>2019-06-22</td><td>9753</td><td>839508</td><td>2522537</td></tr>",
                            "<tr><td>2019-06-23</td><td>9990</td><td>849498</td><td>2522537</td></tr>",
                            "<tr><td>2019-06-24</td><td>10677</td><td>860175</td><td>2522537</td></tr>",
                            "<tr><td>2019-06-25</td><td>8392</td><td>868567</td><td>2522537</td></tr>",
                            "<tr><td>2019-06-26</td><td>11469</td><td>880036</td><td>2522537</td></tr>",
                            "<tr><td>2019-06-27</td><td>11695</td><td>891731</td><td>2522537</td></tr>",
                            "<tr><td>2019-06-28</td><td>11164</td><td>902895</td><td>2522537</td></tr>",
                            "<tr><td>2019-06-29</td><td>7164</td><td>910059</td><td>2522537</td></tr>",
                            "<tr><td>2019-06-30</td><td>6448</td><td>916507</td><td>2522537</td></tr>",
                            "<tr><td>2019-07-01</td><td>10877</td><td>927384</td><td>2522537</td></tr>",
                            "<tr><td>2019-07-02</td><td>11236</td><td>938620</td><td>2522537</td></tr>",
                            "<tr><td>2019-07-03</td><td>10408</td><td>949028</td><td>2522537</td></tr>",
                            "<tr><td>2019-07-04</td><td>11110</td><td>960138</td><td>2522537</td></tr>",
                            "<tr><td>2019-07-05</td><td>8192</td><td>968330</td><td>2522537</td></tr>",
                            "<tr><td>2019-07-06</td><td>5399</td><td>973729</td><td>2522537</td></tr>",
                            "<tr><td>2019-07-07</td><td>9255</td><td>982984</td><td>2522537</td></tr>",
                            "<tr><td>2019-07-08</td><td>11189</td><td>994173</td><td>2522537</td></tr>",
                            "<tr><td>2019-07-09</td><td>11479</td><td>1005652</td><td>2522537</td></tr>",
                            "<tr><td>2019-07-10</td><td>11189</td><td>1016841</td><td>2522537</td></tr>",
                            "<tr><td>2019-07-11</td><td>11389</td><td>1028230</td><td>2522537</td></tr>",
                            "<tr><td>2019-07-12</td><td>8798</td><td>1037028</td><td>2522537</td></tr>",
                            "<tr><td>2019-07-13</td><td>9934</td><td>1046962</td><td>2522537</td></tr>",
                            "<tr><td>2019-07-14</td><td>9434</td><td>1056396</td><td>2522537</td></tr>",
                            "<tr><td>2019-07-15</td><td>11545</td><td>1067941</td><td>2522537</td></tr>",
                            "<tr><td>2019-07-16</td><td>12201</td><td>1080142</td><td>2522537</td></tr>",
                            "<tr><td>2019-07-17</td><td>9195</td><td>1089337</td><td>2522537</td></tr>",
                            "<tr><td>2019-07-18</td><td>10161</td><td>1099498</td><td>2522537</td></tr>",
                            "<tr><td>2019-07-19</td><td>11219</td><td>1110717</td><td>2522537</td></tr>",
                            "<tr><td>2019-07-20</td><td>6790</td><td>1117507</td><td>2522537</td></tr>",
                            "<tr><td>2019-07-21</td><td>7258</td><td>1124765</td><td>2522537</td></tr>",
                            "<tr><td>2019-07-22</td><td>9540</td><td>1134305</td><td>2522537</td></tr>",
                            "<tr><td>2019-07-23</td><td>7955</td><td>1142260</td><td>2522537</td></tr>",
                            "<tr><td>2019-07-24</td><td>12860</td><td>1155120</td><td>2522537</td></tr>",
                            "<tr><td>2019-07-25</td><td>13201</td><td>1168321</td><td>2522537</td></tr>",
                            "<tr><td>2019-07-26</td><td>12439</td><td>1180760</td><td>2522537</td></tr>",
                            "<tr><td>2019-07-27</td><td>10142</td><td>1190902</td><td>2522537</td></tr>",
                            "<tr><td>2019-07-28</td><td>9093</td><td>1199995</td><td>2522537</td></tr>",
                            "<tr><td>2019-07-29</td><td>11294</td><td>1211289</td><td>2522537</td></tr>",
                            "<tr><td>2019-07-30</td><td>12042</td><td>1223331</td><td>2522537</td></tr>",
                            "<tr><td>2019-07-31</td><td>10107</td><td>1233438</td><td>2522537</td></tr>",
                            "<tr><td>2019-08-01</td><td>13053</td><td>1246491</td><td>2522537</td></tr>",
                            "<tr><td>2019-08-02</td><td>12349</td><td>1258840</td><td>2522537</td></tr>",
                            "<tr><td>2019-08-03</td><td>9496</td><td>1268336</td><td>2522537</td></tr>",
                            "<tr><td>2019-08-04</td><td>9888</td><td>1278224</td><td>2522537</td></tr>",
                            "<tr><td>2019-08-05</td><td>12317</td><td>1290541</td><td>2522537</td></tr>",
                            "<tr><td>2019-08-06</td><td>12625</td><td>1303166</td><td>2522537</td></tr>",
                            "<tr><td>2019-08-07</td><td>11122</td><td>1314288</td><td>2522537</td></tr>",
                            "<tr><td>2019-08-08</td><td>11820</td><td>1326108</td><td>2522537</td></tr>",
                            "<tr><td>2019-08-09</td><td>12000</td><td>1338108</td><td>2522537</td></tr>",
                            "<tr><td>2019-08-10</td><td>11438</td><td>1349546</td><td>2522537</td></tr>",
                            "<tr><td>2019-08-11</td><td>10038</td><td>1359584</td><td>2522537</td></tr>",
                            "<tr><td>2019-08-12</td><td>11839</td><td>1371423</td><td>2522537</td></tr>",
                            "<tr><td>2019-08-13</td><td>11214</td><td>1382637</td><td>2522537</td></tr>",
                            "<tr><td>2019-08-14</td><td>12113</td><td>1394750</td><td>2522537</td></tr>",
                            "<tr><td>2019-08-15</td><td>12205</td><td>1406955</td><td>2522537</td></tr>",
                            "<tr><td>2019-08-16</td><td>11618</td><td>1418573</td><td>2522537</td></tr>",
                            "<tr><td>2019-08-17</td><td>9317</td><td>1427890</td><td>2522537</td></tr>",
                            "<tr><td>2019-08-18</td><td>8410</td><td>1436300</td><td>2522537</td></tr>",
                            "<tr><td>2019-08-19</td><td>9471</td><td>1445771</td><td>2522537</td></tr>",
                            "<tr><td>2019-08-20</td><td>11550</td><td>1457321</td><td>2522537</td></tr>",
                            "<tr><td>2019-08-21</td><td>9569</td><td>1466890</td><td>2522537</td></tr>",
                            "<tr><td>2019-08-22</td><td>11300</td><td>1478190</td><td>2522537</td></tr>",
                            "<tr><td>2019-08-23</td><td>10829</td><td>1489019</td><td>2522537</td></tr>",
                            "<tr><td>2019-08-24</td><td>10001</td><td>1499020</td><td>2522537</td></tr>",
                            "<tr><td>2019-08-25</td><td>8338</td><td>1507358</td><td>2522537</td></tr>",
                            "<tr><td>2019-08-26</td><td>10945</td><td>1518303</td><td>2522537</td></tr>",
                            "<tr><td>2019-08-27</td><td>11847</td><td>1530150</td><td>2522537</td></tr>",
                            "<tr><td>2019-08-28</td><td>7590</td><td>1537740</td><td>2522537</td></tr>",
                            "<tr><td>2019-08-29</td><td>12081</td><td>1549821</td><td>2522537</td></tr>",
                            "<tr><td>2019-08-30</td><td>11701</td><td>1561522</td><td>2522537</td></tr>",
                            "<tr><td>2019-08-31</td><td>9359</td><td>1570881</td><td>2522537</td></tr>",
                            "<tr><td>2019-09-01</td><td>9777</td><td>1580658</td><td>2522537</td></tr>",
                            "<tr><td>2019-09-02</td><td>6894</td><td>1587552</td><td>2522537</td></tr>",
                            "<tr><td>2019-09-03</td><td>13369</td><td>1600921</td><td>2522537</td></tr>",
                            "<tr><td>2019-09-04</td><td>11836</td><td>1612757</td><td>2522537</td></tr>",
                            "<tr><td>2019-09-05</td><td>13661</td><td>1626418</td><td>2522537</td></tr>",
                            "<tr><td>2019-09-06</td><td>12888</td><td>1639306</td><td>2522537</td></tr>",
                            "<tr><td>2019-09-07</td><td>9732</td><td>1649038</td><td>2522537</td></tr>",
                            "<tr><td>2019-09-08</td><td>10742</td><td>1659780</td><td>2522537</td></tr>",
                            "<tr><td>2019-09-09</td><td>13167</td><td>1672947</td><td>2522537</td></tr>",
                            "<tr><td>2019-09-10</td><td>13109</td><td>1686056</td><td>2522537</td></tr>",
                            "<tr><td>2019-09-11</td><td>13661</td><td>1699717</td><td>2522537</td></tr>",
                            "<tr><td>2019-09-12</td><td>10592</td><td>1710309</td><td>2522537</td></tr>",
                            "<tr><td>2019-09-13</td><td>13138</td><td>1723447</td><td>2522537</td></tr>",
                            "<tr><td>2019-09-14</td><td>8742</td><td>1732189</td><td>2522537</td></tr>",
                            "<tr><td>2019-09-15</td><td>10909</td><td>1743098</td><td>2522537</td></tr>",
                            "<tr><td>2019-09-16</td><td>12878</td><td>1755976</td><td>2522537</td></tr>",
                            "<tr><td>2019-09-17</td><td>13406</td><td>1769382</td><td>2522537</td></tr>",
                            "<tr><td>2019-09-18</td><td>13286</td><td>1782668</td><td>2522537</td></tr>",
                            "<tr><td>2019-09-19</td><td>13554</td><td>1796222</td><td>2522537</td></tr>",
                            "<tr><td>2019-09-20</td><td>14282</td><td>1810504</td><td>2522537</td></tr>",
                            "<tr><td>2019-09-21</td><td>12449</td><td>1822953</td><td>2522537</td></tr>",
                            "<tr><td>2019-09-22</td><td>11335</td><td>1834288</td><td>2522537</td></tr>",
                            "<tr><td>2019-09-23</td><td>13222</td><td>1847510</td><td>2522537</td></tr>",
                            "<tr><td>2019-09-24</td><td>13427</td><td>1860937</td><td>2522537</td></tr>",
                            "<tr><td>2019-09-25</td><td>13520</td><td>1874457</td><td>2522537</td></tr>",
                            "<tr><td>2019-09-26</td><td>10935</td><td>1885392</td><td>2522537</td></tr>",
                            "<tr><td>2019-09-27</td><td>14025</td><td>1899417</td><td>2522537</td></tr>",
                            "<tr><td>2019-09-28</td><td>11963</td><td>1911380</td><td>2522537</td></tr>",
                            "<tr><td>2019-09-29</td><td>10682</td><td>1922062</td><td>2522537</td></tr>",
                            "<tr><td>2019-09-30</td><td>12004</td><td>1934066</td><td>2522537</td></tr>",
                            "<tr><td>2019-10-01</td><td>12183</td><td>1946249</td><td>2522537</td></tr>",
                            "<tr><td>2019-10-02</td><td>9071</td><td>1955320</td><td>2522537</td></tr>",
                            "<tr><td>2019-10-03</td><td>11496</td><td>1966816</td><td>2522537</td></tr>",
                            "<tr><td>2019-10-04</td><td>11767</td><td>1978583</td><td>2522537</td></tr>",
                            "<tr><td>2019-10-05</td><td>9315</td><td>1987898</td><td>2522537</td></tr>",
                            "<tr><td>2019-10-06</td><td>8632</td><td>1996530</td><td>2522537</td></tr>",
                            "<tr><td>2019-10-07</td><td>11449</td><td>2007979</td><td>2522537</td></tr>",
                            "<tr><td>2019-10-08</td><td>11403</td><td>2019382</td><td>2522537</td></tr>",
                            "<tr><td>2019-10-09</td><td>9153</td><td>2028535</td><td>2522537</td></tr>",
                            "<tr><td>2019-10-10</td><td>9473</td><td>2038008</td><td>2522537</td></tr>",
                            "<tr><td>2019-10-11</td><td>5724</td><td>2043732</td><td>2522537</td></tr>",
                            "<tr><td>2019-10-12</td><td>6744</td><td>2050476</td><td>2522537</td></tr>",
                            "<tr><td>2019-10-13</td><td>9942</td><td>2060418</td><td>2522537</td></tr>",
                            "<tr><td>2019-10-14</td><td>10029</td><td>2070447</td><td>2522537</td></tr>",
                            "<tr><td>2019-10-15</td><td>11776</td><td>2082223</td><td>2522537</td></tr>",
                            "<tr><td>2019-10-16</td><td>10933</td><td>2093156</td><td>2522537</td></tr>",
                            "<tr><td>2019-10-17</td><td>9260</td><td>2102416</td><td>2522537</td></tr>",
                            "<tr><td>2019-10-18</td><td>10988</td><td>2113404</td><td>2522537</td></tr>",
                            "<tr><td>2019-10-19</td><td>10114</td><td>2123518</td><td>2522537</td></tr>",
                            "<tr><td>2019-10-20</td><td>8994</td><td>2132512</td><td>2522537</td></tr>",
                            "<tr><td>2019-10-21</td><td>11676</td><td>2144188</td><td>2522537</td></tr>",
                            "<tr><td>2019-10-22</td><td>10609</td><td>2154797</td><td>2522537</td></tr>",
                            "<tr><td>2019-10-23</td><td>10209</td><td>2165006</td><td>2522537</td></tr>",
                            "<tr><td>2019-10-24</td><td>12187</td><td>2177193</td><td>2522537</td></tr>",
                            "<tr><td>2019-10-25</td><td>11864</td><td>2189057</td><td>2522537</td></tr>",
                            "<tr><td>2019-10-26</td><td>9726</td><td>2198783</td><td>2522537</td></tr>",
                            "<tr><td>2019-10-27</td><td>2133</td><td>2200916</td><td>2522537</td></tr>",
                            "<tr><td>2019-10-28</td><td>9058</td><td>2209974</td><td>2522537</td></tr>",
                            "<tr><td>2019-10-29</td><td>10533</td><td>2220507</td><td>2522537</td></tr>",
                            "<tr><td>2019-10-30</td><td>10321</td><td>2230828</td><td>2522537</td></tr>",
                            "<tr><td>2019-10-31</td><td>8742</td><td>2239570</td><td>2522537</td></tr>",
                            "<tr><td>2019-11-01</td><td>10510</td><td>2250080</td><td>2522537</td></tr>",
                            "<tr><td>2019-11-02</td><td>8610</td><td>2258690</td><td>2522537</td></tr>",
                            "<tr><td>2019-11-03</td><td>7211</td><td>2265901</td><td>2522537</td></tr>",
                            "<tr><td>2019-11-04</td><td>9889</td><td>2275790</td><td>2522537</td></tr>",
                            "<tr><td>2019-11-05</td><td>8253</td><td>2284043</td><td>2522537</td></tr>",
                            "<tr><td>2019-11-06</td><td>10388</td><td>2294431</td><td>2522537</td></tr>",
                            "<tr><td>2019-11-07</td><td>7658</td><td>2302089</td><td>2522537</td></tr>",
                            "<tr><td>2019-11-08</td><td>6754</td><td>2308843</td><td>2522537</td></tr>",
                            "<tr><td>2019-11-09</td><td>4880</td><td>2313723</td><td>2522537</td></tr>",
                            "<tr><td>2019-11-10</td><td>5787</td><td>2319510</td><td>2522537</td></tr>",
                            "<tr><td>2019-11-11</td><td>7829</td><td>2327339</td><td>2522537</td></tr>",
                            "<tr><td>2019-11-12</td><td>6470</td><td>2333809</td><td>2522537</td></tr>",
                            "<tr><td>2019-11-13</td><td>5917</td><td>2339726</td><td>2522537</td></tr>",
                            "<tr><td>2019-11-14</td><td>7040</td><td>2346766</td><td>2522537</td></tr>",
                            "<tr><td>2019-11-15</td><td>8435</td><td>2355201</td><td>2522537</td></tr>",
                            "<tr><td>2019-11-16</td><td>4859</td><td>2360060</td><td>2522537</td></tr>",
                            "<tr><td>2019-11-17</td><td>4012</td><td>2364072</td><td>2522537</td></tr>",
                            "<tr><td>2019-11-18</td><td>4695</td><td>2368767</td><td>2522537</td></tr>",
                            "<tr><td>2019-11-19</td><td>6163</td><td>2374930</td><td>2522537</td></tr>",
                            "<tr><td>2019-11-20</td><td>5104</td><td>2380034</td><td>2522537</td></tr>",
                            "<tr><td>2019-11-21</td><td>8404</td><td>2388438</td><td>2522537</td></tr>",
                            "<tr><td>2019-11-22</td><td>6959</td><td>2395397</td><td>2522537</td></tr>",
                            "<tr><td>2019-11-23</td><td>5472</td><td>2400869</td><td>2522537</td></tr>",
                            "<tr><td>2019-11-24</td><td>1423</td><td>2402292</td><td>2522537</td></tr>",
                            "<tr><td>2019-11-25</td><td>7897</td><td>2410189</td><td>2522537</td></tr>",
                            "<tr><td>2019-11-26</td><td>8366</td><td>2418555</td><td>2522537</td></tr>",
                            "<tr><td>2019-11-27</td><td>5589</td><td>2424144</td><td>2522537</td></tr>",
                            "<tr><td>2019-11-28</td><td>1455</td><td>2425599</td><td>2522537</td></tr>",
                            "<tr><td>2019-11-29</td><td>2551</td><td>2428150</td><td>2522537</td></tr>",
                            "<tr><td>2019-11-30</td><td>2179</td><td>2430329</td><td>2522537</td></tr>",
                            "<tr><td>2019-12-01</td><td>1754</td><td>2432083</td><td>2522537</td></tr>",
                            "<tr><td>2019-12-02</td><td>1792</td><td>2433875</td><td>2522537</td></tr>",
                            "<tr><td>2019-12-03</td><td>1688</td><td>2435563</td><td>2522537</td></tr>",
                            "<tr><td>2019-12-04</td><td>4425</td><td>2439988</td><td>2522537</td></tr>",
                            "<tr><td>2019-12-05</td><td>5769</td><td>2445757</td><td>2522537</td></tr>",
                            "<tr><td>2019-12-06</td><td>4882</td><td>2450639</td><td>2522537</td></tr>",
                            "<tr><td>2019-12-07</td><td>3265</td><td>2453904</td><td>2522537</td></tr>",
                            "<tr><td>2019-12-08</td><td>2952</td><td>2456856</td><td>2522537</td></tr>",
                            "<tr><td>2019-12-09</td><td>3340</td><td>2460196</td><td>2522537</td></tr>",
                            "<tr><td>2019-12-10</td><td>5827</td><td>2466023</td><td>2522537</td></tr>",
                            "<tr><td>2019-12-11</td><td>4032</td><td>2470055</td><td>2522537</td></tr>",
                            "<tr><td>2019-12-12</td><td>5258</td><td>2475313</td><td>2522537</td></tr>",
                            "<tr><td>2019-12-13</td><td>4971</td><td>2480284</td><td>2522537</td></tr>",
                            "<tr><td>2019-12-14</td><td>2803</td><td>2483087</td><td>2522537</td></tr>",
                            "<tr><td>2019-12-15</td><td>3225</td><td>2486312</td><td>2522537</td></tr>",
                            "<tr><td>2019-12-16</td><td>5037</td><td>2491349</td><td>2522537</td></tr>",
                            "<tr><td>2019-12-17</td><td>1887</td><td>2493236</td><td>2522537</td></tr>",
                            "<tr><td>2019-12-18</td><td>4022</td><td>2497258</td><td>2522537</td></tr>",
                            "<tr><td>2019-12-19</td><td>3004</td><td>2500262</td><td>2522537</td></tr>",
                            "<tr><td>2019-12-20</td><td>2926</td><td>2503188</td><td>2522537</td></tr>",
                            "<tr><td>2019-12-21</td><td>1663</td><td>2504851</td><td>2522537</td></tr>",
                            "<tr><td>2019-12-22</td><td>1654</td><td>2506505</td><td>2522537</td></tr>",
                            "<tr><td>2019-12-23</td><td>3099</td><td>2509604</td><td>2522537</td></tr>",
                            "<tr><td>2019-12-24</td><td>1699</td><td>2511303</td><td>2522537</td></tr>",
                            "<tr><td>2019-12-25</td><td>803</td><td>2512106</td><td>2522537</td></tr>",
                            "<tr><td>2019-12-26</td><td>1837</td><td>2513943</td><td>2522537</td></tr>",
                            "<tr><td>2019-12-27</td><td>2165</td><td>2516108</td><td>2522537</td></tr>",
                            "<tr><td>2019-12-28</td><td>2155</td><td>2518263</td><td>2522537</td></tr>",
                            "<tr><td>2019-12-29</td><td>1796</td><td>2520059</td><td>2522537</td></tr>",
                            "<tr><td>2019-12-30</td><td>662</td><td>2520721</td><td>2522537</td></tr>",
                            "<tr><td>2019-12-31</td><td>1816</td><td>2522537</td><td>2522537</td></tr>",
                            "</table>"
                        ]
                    }
                }
            ],
            "execution_count": 23
        },
        {
            "cell_type": "code",
            "source": [
                ""
            ],
            "metadata": {
                "azdata_cell_guid": "917c4bc5-f985-4d01-8b4c-bcd5ee85871e",
                "extensions": {
                    "azuredatastudio": {
                        "views": []
                    }
                }
            },
            "outputs": [],
            "execution_count": null
        },
        {
            "cell_type": "code",
            "source": [
                ""
            ],
            "metadata": {
                "azdata_cell_guid": "52ef7545-5e71-46b0-8080-dda1895b6305",
                "extensions": {
                    "azuredatastudio": {
                        "views": []
                    }
                }
            },
            "outputs": [],
            "execution_count": null
        }
    ]
}