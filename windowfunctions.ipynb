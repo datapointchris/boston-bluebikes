{
    "metadata": {
        "kernelspec": {
            "name": "SQL",
            "display_name": "SQL",
            "language": "sql"
        },
        "language_info": {
            "name": "sql",
            "version": ""
        }
    },
    "nbformat_minor": 2,
    "nbformat": 4,
    "cells": [
        {
            "cell_type": "code",
            "source": [
                "select *\n",
                "from bluebikes_2018\n",
                "limit 5"
            ],
            "metadata": {
                "azdata_cell_guid": "1c8f73e3-fa47-45f8-804b-1e32e11c9bce"
            },
            "outputs": [
                {
                    "output_type": "display_data",
                    "data": {
                        "text/html": "(5 row(s) affected)"
                    },
                    "metadata": {}
                },
                {
                    "output_type": "display_data",
                    "data": {
                        "text/html": "Total execution time: 00:00:00.177"
                    },
                    "metadata": {}
                },
                {
                    "output_type": "execute_result",
                    "metadata": {},
                    "execution_count": 1,
                    "data": {
                        "application/vnd.dataresource+json": {
                            "schema": {
                                "fields": [
                                    {
                                        "name": "bike_id"
                                    },
                                    {
                                        "name": "start_time"
                                    },
                                    {
                                        "name": "end_time"
                                    },
                                    {
                                        "name": "start_station_id"
                                    },
                                    {
                                        "name": "end_station_id"
                                    },
                                    {
                                        "name": "user_type"
                                    },
                                    {
                                        "name": "user_birth_year"
                                    },
                                    {
                                        "name": "user_gender"
                                    },
                                    {
                                        "name": "id"
                                    }
                                ]
                            },
                            "data": [
                                {
                                    "0": "2749",
                                    "1": "2018-10-01T00:01:57.186000",
                                    "2": "2018-10-01T00:06:34.232000",
                                    "3": "67",
                                    "4": "189",
                                    "5": "Subscriber",
                                    "6": "1996",
                                    "7": "1",
                                    "8": "1"
                                },
                                {
                                    "0": "3416",
                                    "1": "2018-10-01T00:03:22.310000",
                                    "2": "2018-10-01T00:19:11.505000",
                                    "3": "45",
                                    "4": "103",
                                    "5": "Subscriber",
                                    "6": "1992",
                                    "7": "1",
                                    "8": "2"
                                },
                                {
                                    "0": "3647",
                                    "1": "2018-10-01T00:05:49.220000",
                                    "2": "2018-10-01T00:51:18.540000",
                                    "3": "160",
                                    "4": "160",
                                    "5": "Customer",
                                    "6": "1969",
                                    "7": "0",
                                    "8": "3"
                                },
                                {
                                    "0": "3673",
                                    "1": "2018-10-01T00:06:21.292000",
                                    "2": "2018-10-01T00:49:45.876000",
                                    "3": "160",
                                    "4": "160",
                                    "5": "Customer",
                                    "6": "1969",
                                    "7": "0",
                                    "8": "4"
                                },
                                {
                                    "0": "3065",
                                    "1": "2018-10-01T00:06:46.653000",
                                    "2": "2018-10-01T00:20:22.714000",
                                    "3": "4",
                                    "4": "190",
                                    "5": "Subscriber",
                                    "6": "1998",
                                    "7": "2",
                                    "8": "5"
                                }
                            ]
                        },
                        "text/html": [
                            "<table>",
                            "<tr><th>bike_id</th><th>start_time</th><th>end_time</th><th>start_station_id</th><th>end_station_id</th><th>user_type</th><th>user_birth_year</th><th>user_gender</th><th>id</th></tr>",
                            "<tr><td>2749</td><td>2018-10-01T00:01:57.186000</td><td>2018-10-01T00:06:34.232000</td><td>67</td><td>189</td><td>Subscriber</td><td>1996</td><td>1</td><td>1</td></tr>",
                            "<tr><td>3416</td><td>2018-10-01T00:03:22.310000</td><td>2018-10-01T00:19:11.505000</td><td>45</td><td>103</td><td>Subscriber</td><td>1992</td><td>1</td><td>2</td></tr>",
                            "<tr><td>3647</td><td>2018-10-01T00:05:49.220000</td><td>2018-10-01T00:51:18.540000</td><td>160</td><td>160</td><td>Customer</td><td>1969</td><td>0</td><td>3</td></tr>",
                            "<tr><td>3673</td><td>2018-10-01T00:06:21.292000</td><td>2018-10-01T00:49:45.876000</td><td>160</td><td>160</td><td>Customer</td><td>1969</td><td>0</td><td>4</td></tr>",
                            "<tr><td>3065</td><td>2018-10-01T00:06:46.653000</td><td>2018-10-01T00:20:22.714000</td><td>4</td><td>190</td><td>Subscriber</td><td>1998</td><td>2</td><td>5</td></tr>",
                            "</table>"
                        ]
                    }
                }
            ],
            "execution_count": 1
        },
        {
            "cell_type": "code",
            "source": [
                "\n",
                "create temp table station_group as \n",
                "select\n",
                "start_station_id as id,\n",
                "count(1) as riders\n",
                "-- sum(1) as sum_riders,\n",
                "-- avg(1) as avg_riders\n",
                "from bluebikes_2018\n",
                "group by start_station_id"
            ],
            "metadata": {
                "azdata_cell_guid": "5e3bf053-8ac1-4661-b844-59f2570348ce"
            },
            "outputs": [
                {
                    "output_type": "error",
                    "evalue": "syntax error at or near \"if\"",
                    "ename": "",
                    "traceback": []
                },
                {
                    "output_type": "display_data",
                    "data": {
                        "text/html": "Total execution time: 00:00:00.036"
                    },
                    "metadata": {}
                }
            ],
            "execution_count": 15
        },
        {
            "cell_type": "code",
            "source": [
                "select * from station_group\n",
                "limit 5"
            ],
            "metadata": {
                "azdata_cell_guid": "96a6f218-4b9d-41db-97ed-c5931bf6d9c9"
            },
            "outputs": [
                {
                    "output_type": "display_data",
                    "data": {
                        "text/html": "(5 row(s) affected)"
                    },
                    "metadata": {}
                },
                {
                    "output_type": "display_data",
                    "data": {
                        "text/html": "Total execution time: 00:00:00.174"
                    },
                    "metadata": {}
                },
                {
                    "output_type": "execute_result",
                    "metadata": {},
                    "execution_count": 9,
                    "data": {
                        "application/vnd.dataresource+json": {
                            "schema": {
                                "fields": [
                                    {
                                        "name": "start_station_id"
                                    },
                                    {
                                        "name": "riders"
                                    }
                                ]
                            },
                            "data": [
                                {
                                    "0": "1",
                                    "1": "157"
                                },
                                {
                                    "0": "3",
                                    "1": "6293"
                                },
                                {
                                    "0": "4",
                                    "1": "10279"
                                },
                                {
                                    "0": "5",
                                    "1": "9144"
                                },
                                {
                                    "0": "6",
                                    "1": "16633"
                                }
                            ]
                        },
                        "text/html": [
                            "<table>",
                            "<tr><th>start_station_id</th><th>riders</th></tr>",
                            "<tr><td>1</td><td>157</td></tr>",
                            "<tr><td>3</td><td>6293</td></tr>",
                            "<tr><td>4</td><td>10279</td></tr>",
                            "<tr><td>5</td><td>9144</td></tr>",
                            "<tr><td>6</td><td>16633</td></tr>",
                            "</table>"
                        ]
                    }
                }
            ],
            "execution_count": 9
        },
        {
            "cell_type": "code",
            "source": [
                "select \n",
                "count(riders) as stations,\n",
                "sum(riders),\n",
                "avg(riders),\n",
                "sum(riders) / count(riders) as myavg\n",
                "\n",
                "\n",
                "from station_group"
            ],
            "metadata": {
                "azdata_cell_guid": "0da2c29f-3f58-4d20-b3b4-e56690b94420"
            },
            "outputs": [
                {
                    "output_type": "display_data",
                    "data": {
                        "text/html": "(1 row(s) affected)"
                    },
                    "metadata": {}
                },
                {
                    "output_type": "display_data",
                    "data": {
                        "text/html": "Total execution time: 00:00:00.178"
                    },
                    "metadata": {}
                },
                {
                    "output_type": "execute_result",
                    "metadata": {},
                    "execution_count": 27,
                    "data": {
                        "application/vnd.dataresource+json": {
                            "schema": {
                                "fields": [
                                    {
                                        "name": "stations"
                                    },
                                    {
                                        "name": "sum"
                                    },
                                    {
                                        "name": "avg"
                                    },
                                    {
                                        "name": "myavg"
                                    }
                                ]
                            },
                            "data": [
                                {
                                    "0": "315",
                                    "1": "1767806",
                                    "2": "5612.0825396825396825",
                                    "3": "5612.0825396825396825"
                                }
                            ]
                        },
                        "text/html": [
                            "<table>",
                            "<tr><th>stations</th><th>sum</th><th>avg</th><th>myavg</th></tr>",
                            "<tr><td>315</td><td>1767806</td><td>5612.0825396825396825</td><td>5612.0825396825396825</td></tr>",
                            "</table>"
                        ]
                    }
                }
            ],
            "execution_count": 27
        },
        {
            "cell_type": "code",
            "source": [
                "SELECT\n",
                "start_station_id,\n",
                "sum(riders) as riders,\n",
                "avg(sum(riders)) over() as avg_riders,\n",
                "sum(sum(riders)) over() as total_riders,\n",
                "sum(count(riders)) over() as stations\n",
                "from station_group\n",
                "group by start_station_id\n",
                "order by start_station_id\n",
                "limit 5"
            ],
            "metadata": {
                "azdata_cell_guid": "0ff8e3f4-21fa-4440-9eae-b06074393751"
            },
            "outputs": [
                {
                    "output_type": "display_data",
                    "data": {
                        "text/html": "(5 row(s) affected)"
                    },
                    "metadata": {}
                },
                {
                    "output_type": "display_data",
                    "data": {
                        "text/html": "Total execution time: 00:00:00.177"
                    },
                    "metadata": {}
                },
                {
                    "output_type": "execute_result",
                    "metadata": {},
                    "execution_count": 30,
                    "data": {
                        "application/vnd.dataresource+json": {
                            "schema": {
                                "fields": [
                                    {
                                        "name": "start_station_id"
                                    },
                                    {
                                        "name": "riders"
                                    },
                                    {
                                        "name": "avg_riders"
                                    },
                                    {
                                        "name": "total_riders"
                                    },
                                    {
                                        "name": "stations"
                                    }
                                ]
                            },
                            "data": [
                                {
                                    "0": "1",
                                    "1": "157",
                                    "2": "5612.0825396825396825",
                                    "3": "1767806",
                                    "4": "315"
                                },
                                {
                                    "0": "3",
                                    "1": "6293",
                                    "2": "5612.0825396825396825",
                                    "3": "1767806",
                                    "4": "315"
                                },
                                {
                                    "0": "4",
                                    "1": "10279",
                                    "2": "5612.0825396825396825",
                                    "3": "1767806",
                                    "4": "315"
                                },
                                {
                                    "0": "5",
                                    "1": "9144",
                                    "2": "5612.0825396825396825",
                                    "3": "1767806",
                                    "4": "315"
                                },
                                {
                                    "0": "6",
                                    "1": "16633",
                                    "2": "5612.0825396825396825",
                                    "3": "1767806",
                                    "4": "315"
                                }
                            ]
                        },
                        "text/html": [
                            "<table>",
                            "<tr><th>start_station_id</th><th>riders</th><th>avg_riders</th><th>total_riders</th><th>stations</th></tr>",
                            "<tr><td>1</td><td>157</td><td>5612.0825396825396825</td><td>1767806</td><td>315</td></tr>",
                            "<tr><td>3</td><td>6293</td><td>5612.0825396825396825</td><td>1767806</td><td>315</td></tr>",
                            "<tr><td>4</td><td>10279</td><td>5612.0825396825396825</td><td>1767806</td><td>315</td></tr>",
                            "<tr><td>5</td><td>9144</td><td>5612.0825396825396825</td><td>1767806</td><td>315</td></tr>",
                            "<tr><td>6</td><td>16633</td><td>5612.0825396825396825</td><td>1767806</td><td>315</td></tr>",
                            "</table>"
                        ]
                    }
                }
            ],
            "execution_count": 30
        },
        {
            "cell_type": "code",
            "source": [
                "select\n",
                "start_station_id,\n",
                "count(1) as riders,\n",
                "avg(count(1)) over() as avg_riders,\n",
                "sum(sum(1)) over() as total_riders,\n",
                "count(1) over() as stations,\n",
                "count(1) / sum(sum(1)) over() as rider_percent,\n",
                "count(1) / (avg(count(1)) over()) as percent_of_average,\n",
                "count(1) / avg(sum(1)) over() as percent_of_averagesum\n",
                "from bluebikes_2018\n",
                "group by start_station_id\n",
                "order by start_station_id\n",
                "limit 5"
            ],
            "metadata": {
                "azdata_cell_guid": "52f10c74-eb14-4f33-af6f-48eacce624e8"
            },
            "outputs": [
                {
                    "output_type": "display_data",
                    "data": {
                        "text/html": "(5 row(s) affected)"
                    },
                    "metadata": {}
                },
                {
                    "output_type": "display_data",
                    "data": {
                        "text/html": "Total execution time: 00:00:01.553"
                    },
                    "metadata": {}
                },
                {
                    "output_type": "execute_result",
                    "metadata": {},
                    "execution_count": 36,
                    "data": {
                        "application/vnd.dataresource+json": {
                            "schema": {
                                "fields": [
                                    {
                                        "name": "start_station_id"
                                    },
                                    {
                                        "name": "riders"
                                    },
                                    {
                                        "name": "avg_riders"
                                    },
                                    {
                                        "name": "total_riders"
                                    },
                                    {
                                        "name": "stations"
                                    },
                                    {
                                        "name": "rider_percent"
                                    },
                                    {
                                        "name": "percent_of_average"
                                    },
                                    {
                                        "name": "percent_of_averagesum"
                                    }
                                ]
                            },
                            "data": [
                                {
                                    "0": "1",
                                    "1": "157",
                                    "2": "5612.0825396825396825",
                                    "3": "1767806",
                                    "4": "315",
                                    "5": "0.000088810650037390980685",
                                    "6": "0.02797535476177815892",
                                    "7": "0.02797535476177815892"
                                },
                                {
                                    "0": "3",
                                    "1": "6293",
                                    "2": "5612.0825396825396825",
                                    "3": "1767806",
                                    "4": "315",
                                    "5": "0.00355977974958790727",
                                    "6": "1.1213306211201908",
                                    "7": "1.1213306211201908"
                                },
                                {
                                    "0": "4",
                                    "1": "10279",
                                    "2": "5612.0825396825396825",
                                    "3": "1767806",
                                    "4": "315",
                                    "5": "0.00581455204926332414",
                                    "6": "1.8315838955179471",
                                    "7": "1.8315838955179471"
                                },
                                {
                                    "0": "5",
                                    "1": "9144",
                                    "2": "5612.0825396825396825",
                                    "3": "1767806",
                                    "4": "315",
                                    "5": "0.00517251327351530654",
                                    "6": "1.6293416811573216",
                                    "7": "1.6293416811573216"
                                },
                                {
                                    "0": "6",
                                    "1": "16633",
                                    "2": "5612.0825396825396825",
                                    "3": "1767806",
                                    "4": "315",
                                    "5": "0.00940883784759187377",
                                    "6": "2.9637839219914402",
                                    "7": "2.9637839219914402"
                                }
                            ]
                        },
                        "text/html": [
                            "<table>",
                            "<tr><th>start_station_id</th><th>riders</th><th>avg_riders</th><th>total_riders</th><th>stations</th><th>rider_percent</th><th>percent_of_average</th><th>percent_of_averagesum</th></tr>",
                            "<tr><td>1</td><td>157</td><td>5612.0825396825396825</td><td>1767806</td><td>315</td><td>0.000088810650037390980685</td><td>0.02797535476177815892</td><td>0.02797535476177815892</td></tr>",
                            "<tr><td>3</td><td>6293</td><td>5612.0825396825396825</td><td>1767806</td><td>315</td><td>0.00355977974958790727</td><td>1.1213306211201908</td><td>1.1213306211201908</td></tr>",
                            "<tr><td>4</td><td>10279</td><td>5612.0825396825396825</td><td>1767806</td><td>315</td><td>0.00581455204926332414</td><td>1.8315838955179471</td><td>1.8315838955179471</td></tr>",
                            "<tr><td>5</td><td>9144</td><td>5612.0825396825396825</td><td>1767806</td><td>315</td><td>0.00517251327351530654</td><td>1.6293416811573216</td><td>1.6293416811573216</td></tr>",
                            "<tr><td>6</td><td>16633</td><td>5612.0825396825396825</td><td>1767806</td><td>315</td><td>0.00940883784759187377</td><td>2.9637839219914402</td><td>2.9637839219914402</td></tr>",
                            "</table>"
                        ]
                    }
                }
            ],
            "execution_count": 36
        },
        {
            "cell_type": "code",
            "source": [
                ""
            ],
            "metadata": {
                "azdata_cell_guid": "93bd8403-5997-447c-90ba-f9eebdcfaee3"
            },
            "outputs": [],
            "execution_count": null
        },
        {
            "cell_type": "code",
            "source": [
                ""
            ],
            "metadata": {
                "azdata_cell_guid": "8576ec38-12fa-4f06-b605-2953a1185a05"
            },
            "outputs": [],
            "execution_count": null
        },
        {
            "cell_type": "code",
            "source": [
                ""
            ],
            "metadata": {
                "azdata_cell_guid": "290b59d9-e18c-4147-abf5-14586b1773b1"
            },
            "outputs": [],
            "execution_count": null
        },
        {
            "cell_type": "code",
            "source": [
                ""
            ],
            "metadata": {
                "azdata_cell_guid": "35d78f69-61a5-4c7b-8cbf-b5b9d8478843"
            },
            "outputs": [],
            "execution_count": null
        },
        {
            "cell_type": "code",
            "source": [
                ""
            ],
            "metadata": {
                "azdata_cell_guid": "258fe00e-85cd-4823-97d1-86657fa7decf"
            },
            "outputs": [],
            "execution_count": null
        },
        {
            "cell_type": "code",
            "source": [
                ""
            ],
            "metadata": {
                "azdata_cell_guid": "917c4bc5-f985-4d01-8b4c-bcd5ee85871e"
            },
            "outputs": [],
            "execution_count": null
        },
        {
            "cell_type": "code",
            "source": [
                ""
            ],
            "metadata": {
                "azdata_cell_guid": "52ef7545-5e71-46b0-8080-dda1895b6305"
            },
            "outputs": [],
            "execution_count": null
        }
    ]
}